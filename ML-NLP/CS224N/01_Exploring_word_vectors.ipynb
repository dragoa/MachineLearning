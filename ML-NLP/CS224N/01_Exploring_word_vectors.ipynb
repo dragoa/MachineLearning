{
  "cells": [
    {
      "cell_type": "markdown",
      "metadata": {
        "id": "view-in-github",
        "colab_type": "text"
      },
      "source": [
        "<a href=\"https://colab.research.google.com/github/dragoa/MachineLearning/blob/main/ML-NLP/CS224N/01_Exploring_word_vectors.ipynb\" target=\"_parent\"><img src=\"https://colab.research.google.com/assets/colab-badge.svg\" alt=\"Open In Colab\"/></a>"
      ]
    },
    {
      "cell_type": "markdown",
      "metadata": {
        "id": "3HqK14JLSStR"
      },
      "source": [
        "# CS224N Assignment 1: Exploring Word Vectors (25 Points)\n",
        "\n",
        "Welcome to CS224N!\n",
        "\n",
        "Before you start, make sure you read the README.txt in the same directory as this notebook for important setup information. A lot of code is provided in this notebook, and we highly encourage you to read and understand it as part of the learning :)\n",
        "\n",
        "If you aren't super familiar with Python, Numpy, or Matplotlib, we recommend you check out the review session on Friday. The session will be recorded and the material will be made available on our [website](http://web.stanford.edu/class/cs224n/index.html#schedule). The CS231N Python/Numpy [tutorial](https://cs231n.github.io/python-numpy-tutorial/) is also a great resource.\n",
        "\n",
        "\n",
        "**Assignment Notes:** Please make sure to save the notebook as you go along. Submission Instructions are located at the bottom of the notebook."
      ]
    },
    {
      "cell_type": "code",
      "execution_count": 2,
      "metadata": {
        "id": "8AGQxROrSStf",
        "colab": {
          "base_uri": "https://localhost:8080/"
        },
        "outputId": "fec79014-57c8-46de-cbf8-bdf0b619ae2e"
      },
      "outputs": [
        {
          "output_type": "stream",
          "name": "stderr",
          "text": [
            "[nltk_data] Downloading package reuters to /root/nltk_data...\n"
          ]
        }
      ],
      "source": [
        "# All Import Statements Defined Here\n",
        "import sys\n",
        "assert sys.version_info[0]==3\n",
        "assert sys.version_info[1] >= 5\n",
        "\n",
        "from platform import python_version\n",
        "assert int(python_version().split(\".\")[1]) >= 5, \"Please upgrade your Python version following the instructions in \\\n",
        "    the README.txt file found in the same directory as this notebook. Your Python version is \" + python_version()\n",
        "\n",
        "from gensim.models import KeyedVectors\n",
        "from gensim.test.utils import datapath\n",
        "import pprint\n",
        "import matplotlib.pyplot as plt\n",
        "plt.rcParams['figure.figsize'] = [10, 5]\n",
        "\n",
        "import nltk\n",
        "nltk.download('reuters') # to specify download location, optionally add the argument: download_dir='/specify/desired/path/'\n",
        "from nltk.corpus import reuters\n",
        "\n",
        "import numpy as np\n",
        "import random\n",
        "import scipy as sp\n",
        "from sklearn.decomposition import TruncatedSVD\n",
        "from sklearn.decomposition import PCA\n",
        "\n",
        "START_TOKEN = '<START>'\n",
        "END_TOKEN = '<END>'\n",
        "\n",
        "np.random.seed(13)\n",
        "random.seed(13)"
      ]
    },
    {
      "cell_type": "markdown",
      "metadata": {
        "id": "SICd5IedSSto"
      },
      "source": [
        "## Word Vectors\n",
        "\n",
        "Word Vectors are often used as a fundamental component for downstream NLP tasks, e.g. question answering, text generation, translation, etc., so it is important to build some intuitions as to their strengths and weaknesses. Here, you will explore two types of word vectors: those derived from *co-occurrence matrices*, and those derived via *GloVe*.\n",
        "\n",
        "**Note on Terminology:** The terms \"word vectors\" and \"word embeddings\" are often used interchangeably. The term \"embedding\" refers to the fact that we are encoding aspects of a word's meaning in a lower dimensional space. As [Wikipedia](https://en.wikipedia.org/wiki/Word_embedding) states, \"*conceptually it involves a mathematical embedding from a space with one dimension per word to a continuous vector space with a much lower dimension*\"."
      ]
    },
    {
      "cell_type": "markdown",
      "metadata": {
        "id": "6Eug6AVrSStr"
      },
      "source": [
        "## Part 1: Count-Based Word Vectors (10 points)\n",
        "\n",
        "Most word vector models start from the following idea:\n",
        "\n",
        "*You shall know a word by the company it keeps ([Firth, J. R. 1957:11](https://en.wikipedia.org/wiki/John_Rupert_Firth))*\n",
        "\n",
        "Many word vector implementations are driven by the idea that similar words, i.e., (near) synonyms, will be used in similar contexts. As a result, similar words will often be spoken or written along with a shared subset of words, i.e., contexts. By examining these contexts, we can try to develop embeddings for our words. With this intuition in mind, many \"old school\" approaches to constructing word vectors relied on word counts. Here we elaborate upon one of those strategies, *co-occurrence matrices* (for more information, see [here](https://web.stanford.edu/~jurafsky/slp3/6.pdf) or [here](https://medium.com/data-science-group-iitr/word-embedding-2d05d270b285))."
      ]
    },
    {
      "cell_type": "markdown",
      "metadata": {
        "id": "L6uQ9-DVSSts"
      },
      "source": [
        "### Co-Occurrence\n",
        "\n",
        "A co-occurrence matrix counts how often things co-occur in some environment. Given some word $w_i$ occurring in the document, we consider the *context window* surrounding $w_i$. Supposing our fixed window size is $n$, then this is the $n$ preceding and $n$ subsequent words in that document, i.e. words $w_{i-n} \\dots w_{i-1}$ and $w_{i+1} \\dots w_{i+n}$. We build a *co-occurrence matrix* $M$, which is a symmetric word-by-word matrix in which $M_{ij}$ is the number of times $w_j$ appears inside $w_i$'s window among all documents.\n",
        "\n",
        "**Example: Co-Occurrence with Fixed Window of n=1**:\n",
        "\n",
        "Document 1: \"all that glitters is not gold\"\n",
        "\n",
        "Document 2: \"all is well that ends well\"\n",
        "\n",
        "\n",
        "|     *    | `<START>` | all | that | glitters | is   | not  | gold  | well | ends | `<END>` |\n",
        "|----------|-------|-----|------|----------|------|------|-------|------|------|-----|\n",
        "| `<START>`    | 0     | 2   | 0    | 0        | 0    | 0    | 0     | 0    | 0    | 0   |\n",
        "| all      | 2     | 0   | 1    | 0        | 1    | 0    | 0     | 0    | 0    | 0   |\n",
        "| that     | 0     | 1   | 0    | 1        | 0    | 0    | 0     | 1    | 1    | 0   |\n",
        "| glitters | 0     | 0   | 1    | 0        | 1    | 0    | 0     | 0    | 0    | 0   |\n",
        "| is       | 0     | 1   | 0    | 1        | 0    | 1    | 0     | 1    | 0    | 0   |\n",
        "| not      | 0     | 0   | 0    | 0        | 1    | 0    | 1     | 0    | 0    | 0   |\n",
        "| gold     | 0     | 0   | 0    | 0        | 0    | 1    | 0     | 0    | 0    | 1   |\n",
        "| well     | 0     | 0   | 1    | 0        | 1    | 0    | 0     | 0    | 1    | 1   |\n",
        "| ends     | 0     | 0   | 1    | 0        | 0    | 0    | 0     | 1    | 0    | 0   |\n",
        "| `<END>`      | 0     | 0   | 0    | 0        | 0    | 0    | 1     | 1    | 0    | 0   |\n",
        "\n",
        "**Note:** In NLP, we often add `<START>` and `<END>` tokens to represent the beginning and end of sentences, paragraphs or documents. In this case we imagine `<START>` and `<END>` tokens encapsulating each document, e.g., \"`<START>` All that glitters is not gold `<END>`\", and include these tokens in our co-occurrence counts.\n",
        "\n",
        "The rows (or columns) of this matrix provide one type of word vectors (those based on word-word co-occurrence), but the vectors will be large in general (linear in the number of distinct words in a corpus). Thus, our next step is to run *dimensionality reduction*. In particular, we will run *SVD (Singular Value Decomposition)*, which is a kind of generalized *PCA (Principal Components Analysis)* to select the top $k$ principal components. Here's a visualization of dimensionality reduction with SVD. In this picture our co-occurrence matrix is $A$ with $n$ rows corresponding to $n$ words. We obtain a full matrix decomposition, with the singular values ordered in the diagonal $S$ matrix, and our new, shorter length-$k$ word vectors in $U_k$."
      ]
    },
    {
      "cell_type": "markdown",
      "source": [
        "![svd.png](data:image/png;base64,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)"
      ],
      "metadata": {
        "id": "JeiLbWvE4_Ge"
      }
    },
    {
      "cell_type": "markdown",
      "source": [
        "This reduced-dimensionality co-occurrence representation preserves semantic relationships between words, e.g. *doctor* and *hospital* will be closer than *doctor* and *dog*.\n",
        "\n",
        "**Notes:** If you can barely remember what an eigenvalue is, here's [a slow, friendly introduction to SVD](https://davetang.org/file/Singular_Value_Decomposition_Tutorial.pdf). If you want to learn more thoroughly about PCA or SVD, feel free to check out lectures [7](https://web.stanford.edu/class/cs168/l/l7.pdf), [8](http://theory.stanford.edu/~tim/s15/l/l8.pdf), and [9](https://web.stanford.edu/class/cs168/l/l9.pdf) of CS168. These course notes provide a great high-level treatment of these general purpose algorithms. Though, for the purpose of this class, you only need to know how to extract the k-dimensional embeddings by utilizing pre-programmed implementations of these algorithms from the numpy, scipy, or sklearn python packages. In practice, it is challenging to apply full SVD to large corpora because of the memory needed to perform PCA or SVD. However, if you only want the top $k$ vector components for relatively small $k$ — known as [Truncated SVD](https://en.wikipedia.org/wiki/Singular_value_decomposition#Truncated_SVD) — then there are reasonably scalable techniques to compute those iteratively."
      ],
      "metadata": {
        "id": "hxx0-R0L5EUD"
      }
    },
    {
      "cell_type": "markdown",
      "metadata": {
        "id": "7IKeK4xtSStv"
      },
      "source": [
        "### Plotting Co-Occurrence Word Embeddings\n",
        "\n",
        "Here, we will be using the Reuters (business and financial news) corpus. If you haven't run the import cell at the top of this page, please run it now (click it and press SHIFT-RETURN). The corpus consists of 10,788 news documents totaling 1.3 million words. These documents span 90 categories and are split into train and test. For more details, please see https://www.nltk.org/book/ch02.html. We provide a `read_corpus` function below that pulls out only articles from the \"gold\" (i.e. news articles about gold, mining, etc.) category. The function also adds `<START>` and `<END>` tokens to each of the documents, and lowercases words. You do **not** have to perform any other kind of pre-processing."
      ]
    },
    {
      "cell_type": "code",
      "execution_count": 3,
      "metadata": {
        "id": "xwD2htUoSStw"
      },
      "outputs": [],
      "source": [
        "def read_corpus(category=\"gold\"):\n",
        "    \"\"\" Read files from the specified Reuter's category.\n",
        "        Params:\n",
        "            category (string): category name\n",
        "        Return:\n",
        "            list of lists, with words from each of the processed files\n",
        "    \"\"\"\n",
        "    files = reuters.fileids(category)\n",
        "    return [[START_TOKEN] + [w.lower() for w in list(reuters.words(f))] + [END_TOKEN] for f in files]\n"
      ]
    },
    {
      "cell_type": "markdown",
      "metadata": {
        "id": "hVLquFhjSStx"
      },
      "source": [
        "Let's have a look what these documents are like…."
      ]
    },
    {
      "cell_type": "code",
      "execution_count": 4,
      "metadata": {
        "scrolled": false,
        "id": "mC7B9Cb-SSty",
        "colab": {
          "base_uri": "https://localhost:8080/"
        },
        "outputId": "9db9114c-37a0-457a-a07b-385bf390f791"
      },
      "outputs": [
        {
          "output_type": "stream",
          "name": "stdout",
          "text": [
            "[['<START>', 'western', 'mining', 'to', 'open', 'new', 'gold', 'mine', 'in', 'australia', 'western',\n",
            "  'mining', 'corp', 'holdings', 'ltd', '&', 'lt', ';', 'wmng', '.', 's', '>', '(', 'wmc', ')',\n",
            "  'said', 'it', 'will', 'establish', 'a', 'new', 'joint', 'venture', 'gold', 'mine', 'in', 'the',\n",
            "  'northern', 'territory', 'at', 'a', 'cost', 'of', 'about', '21', 'mln', 'dlrs', '.', 'the',\n",
            "  'mine', ',', 'to', 'be', 'known', 'as', 'the', 'goodall', 'project', ',', 'will', 'be', 'owned',\n",
            "  '60', 'pct', 'by', 'wmc', 'and', '40', 'pct', 'by', 'a', 'local', 'w', '.', 'r', '.', 'grace',\n",
            "  'and', 'co', '&', 'lt', ';', 'gra', '>', 'unit', '.', 'it', 'is', 'located', '30', 'kms', 'east',\n",
            "  'of', 'the', 'adelaide', 'river', 'at', 'mt', '.', 'bundey', ',', 'wmc', 'said', 'in', 'a',\n",
            "  'statement', 'it', 'said', 'the', 'open', '-', 'pit', 'mine', ',', 'with', 'a', 'conventional',\n",
            "  'leach', 'treatment', 'plant', ',', 'is', 'expected', 'to', 'produce', 'about', '50', ',', '000',\n",
            "  'ounces', 'of', 'gold', 'in', 'its', 'first', 'year', 'of', 'production', 'from', 'mid', '-',\n",
            "  '1988', '.', 'annual', 'ore', 'capacity', 'will', 'be', 'about', '750', ',', '000', 'tonnes', '.',\n",
            "  '<END>'],\n",
            " ['<START>', 'belgium', 'to', 'issue', 'gold', 'warrants', ',', 'sources', 'say', 'belgium',\n",
            "  'plans', 'to', 'issue', 'swiss', 'franc', 'warrants', 'to', 'buy', 'gold', ',', 'with', 'credit',\n",
            "  'suisse', 'as', 'lead', 'manager', ',', 'market', 'sources', 'said', '.', 'no', 'confirmation',\n",
            "  'or', 'further', 'details', 'were', 'immediately', 'available', '.', '<END>'],\n",
            " ['<START>', 'belgium', 'launches', 'bonds', 'with', 'gold', 'warrants', 'the', 'kingdom', 'of',\n",
            "  'belgium', 'is', 'launching', '100', 'mln', 'swiss', 'francs', 'of', 'seven', 'year', 'notes',\n",
            "  'with', 'warrants', 'attached', 'to', 'buy', 'gold', ',', 'lead', 'mananger', 'credit', 'suisse',\n",
            "  'said', '.', 'the', 'notes', 'themselves', 'have', 'a', '3', '-', '3', '/', '8', 'pct', 'coupon',\n",
            "  'and', 'are', 'priced', 'at', 'par', '.', 'payment', 'is', 'due', 'april', '30', ',', '1987',\n",
            "  'and', 'final', 'maturity', 'april', '30', ',', '1994', '.', 'each', '50', ',', '000', 'franc',\n",
            "  'note', 'carries', '15', 'warrants', '.', 'two', 'warrants', 'are', 'required', 'to', 'allow',\n",
            "  'the', 'holder', 'to', 'buy', '100', 'grammes', 'of', 'gold', 'at', 'a', 'price', 'of', '2', ',',\n",
            "  '450', 'francs', ',', 'during', 'the', 'entire', 'life', 'of', 'the', 'bond', '.', 'the',\n",
            "  'latest', 'gold', 'price', 'in', 'zurich', 'was', '2', ',', '045', '/', '2', ',', '070', 'francs',\n",
            "  'per', '100', 'grammes', '.', '<END>']]\n"
          ]
        }
      ],
      "source": [
        "reuters_corpus = read_corpus()\n",
        "pprint.pprint(reuters_corpus[:3], compact=True, width=100)"
      ]
    },
    {
      "cell_type": "markdown",
      "metadata": {
        "id": "tfa216H1SSt0"
      },
      "source": [
        "### Question 1.1: Implement `distinct_words` [code] (2 points)\n",
        "\n",
        "Write a method to work out the distinct words (word types) that occur in the corpus. You can do this with `for` loops, but it's more efficient to do it with Python list comprehensions. In particular, [this](https://coderwall.com/p/rcmaea/flatten-a-list-of-lists-in-one-line-in-python) may be useful to flatten a list of lists. If you're not familiar with Python list comprehensions in general, here's [more information](https://python-3-patterns-idioms-test.readthedocs.io/en/latest/Comprehensions.html).\n",
        "\n",
        "Your returned `corpus_words` should be sorted. You can use python's `sorted` function for this.\n",
        "\n",
        "You may find it useful to use [Python sets](https://www.w3schools.com/python/python_sets.asp) to remove duplicate words."
      ]
    },
    {
      "cell_type": "code",
      "execution_count": 5,
      "metadata": {
        "id": "NjJABbVFSSt1"
      },
      "outputs": [],
      "source": [
        "def distinct_words(corpus):\n",
        "    \"\"\" Determine a list of distinct words for the corpus.\n",
        "        Params:\n",
        "            corpus (list of list of strings): corpus of documents\n",
        "        Return:\n",
        "            corpus_words (list of strings): sorted list of distinct words across the corpus\n",
        "            n_corpus_words (integer): number of distinct words across the corpus\n",
        "    \"\"\"\n",
        "    flatten_corpus = [word for document in corpus for word in document]\n",
        "    corpus_words = sorted(set(flatten_corpus))\n",
        "    n_corpus_words = len(corpus_words)\n",
        "\n",
        "    return corpus_words, n_corpus_words"
      ]
    },
    {
      "cell_type": "code",
      "execution_count": 6,
      "metadata": {
        "id": "iKfXBXySSSt3",
        "colab": {
          "base_uri": "https://localhost:8080/"
        },
        "outputId": "c1a9c9b8-0302-46ea-fb1e-54d8194f2d2e"
      },
      "outputs": [
        {
          "output_type": "stream",
          "name": "stdout",
          "text": [
            "--------------------------------------------------------------------------------\n",
            "Passed All Tests!\n",
            "--------------------------------------------------------------------------------\n"
          ]
        }
      ],
      "source": [
        "# ---------------------\n",
        "# Run this sanity check\n",
        "# Note that this not an exhaustive check for correctness.\n",
        "# ---------------------\n",
        "\n",
        "# Define toy corpus\n",
        "test_corpus = [\"{} All that glitters isn't gold {}\".format(START_TOKEN, END_TOKEN).split(\" \"), \"{} All's well that ends well {}\".format(START_TOKEN, END_TOKEN).split(\" \")]\n",
        "test_corpus_words, num_corpus_words = distinct_words(test_corpus)\n",
        "\n",
        "# Correct answers\n",
        "ans_test_corpus_words = sorted([START_TOKEN, \"All\", \"ends\", \"that\", \"gold\", \"All's\", \"glitters\", \"isn't\", \"well\", END_TOKEN])\n",
        "ans_num_corpus_words = len(ans_test_corpus_words)\n",
        "\n",
        "# Test correct number of words\n",
        "assert(num_corpus_words == ans_num_corpus_words), \"Incorrect number of distinct words. Correct: {}. Yours: {}\".format(ans_num_corpus_words, num_corpus_words)\n",
        "\n",
        "# Test correct words\n",
        "assert (test_corpus_words == ans_test_corpus_words), \"Incorrect corpus_words.\\nCorrect: {}\\nYours:   {}\".format(str(ans_test_corpus_words), str(test_corpus_words))\n",
        "\n",
        "# Print Success\n",
        "print (\"-\" * 80)\n",
        "print(\"Passed All Tests!\")\n",
        "print (\"-\" * 80)"
      ]
    },
    {
      "cell_type": "markdown",
      "metadata": {
        "id": "ymDFJn_lSSt5"
      },
      "source": [
        "### Question 1.2: Implement `compute_co_occurrence_matrix` [code] (3 points)\n",
        "\n",
        "Write a method that constructs a co-occurrence matrix for a certain window-size $n$ (with a default of 4), considering words $n$ before and $n$ after the word in the center of the window. Here, we start to use `numpy (np)` to represent vectors, matrices, and tensors. If you're not familiar with NumPy, there's a NumPy tutorial in the second half of this cs231n [Python NumPy tutorial](http://cs231n.github.io/python-numpy-tutorial/).\n"
      ]
    },
    {
      "cell_type": "code",
      "execution_count": 7,
      "metadata": {
        "id": "v8MIy3KDSSt6"
      },
      "outputs": [],
      "source": [
        "def compute_co_occurrence_matrix(corpus, window_size=4):\n",
        "    \"\"\" Compute co-occurrence matrix for the given corpus and window_size (default of 4).\n",
        "\n",
        "        Note: Each word in a document should be at the center of a window. Words near edges will have a smaller\n",
        "              number of co-occurring words.\n",
        "\n",
        "              For example, if we take the document \"<START> All that glitters is not gold <END>\" with window size of 4,\n",
        "              \"All\" will co-occur with \"<START>\", \"that\", \"glitters\", \"is\", and \"not\".\n",
        "\n",
        "        Params:\n",
        "            corpus (list of list of strings): corpus of documents\n",
        "            window_size (int): size of context window\n",
        "        Return:\n",
        "            M (a symmetric numpy matrix of shape (number of unique words in the corpus , number of unique words in the corpus)):\n",
        "                Co-occurence matrix of word counts.\n",
        "                The ordering of the words in the rows/columns should be the same as the ordering of the words given by the distinct_words function.\n",
        "            word2ind (dict): dictionary that maps word to index (i.e. row/column number) for matrix M.\n",
        "    \"\"\"\n",
        "    words, n_words = distinct_words(corpus)\n",
        "    M = None\n",
        "    word2ind = {word: index for index, word in enumerate(words)}\n",
        "\n",
        "    M = np.zeros((n_words, n_words))\n",
        "\n",
        "    for phrase in corpus:\n",
        "        for i in range(len(phrase)):\n",
        "            word = phrase[i]\n",
        "\n",
        "            if i==0:\n",
        "                adj_words = phrase[i+1:i+window_size+1]\n",
        "            elif i==len(phrase)-1:\n",
        "                adj_words = phrase[i-window_size:i]\n",
        "            else:\n",
        "                adj_words = phrase[i-window_size:i+window_size+1]\n",
        "                if word in adj_words:\n",
        "                    adj_words.remove(word)\n",
        "\n",
        "            for adj_word in adj_words:\n",
        "                M[word2ind.get(word)][word2ind.get(adj_word)] += 1\n",
        "\n",
        "    return M, word2ind"
      ]
    },
    {
      "cell_type": "code",
      "execution_count": 8,
      "metadata": {
        "id": "u-6ID1qhSSt7",
        "colab": {
          "base_uri": "https://localhost:8080/"
        },
        "outputId": "ff6a16c0-d64a-4f85-d864-884fab4643a5"
      },
      "outputs": [
        {
          "output_type": "stream",
          "name": "stdout",
          "text": [
            "--------------------------------------------------------------------------------\n",
            "Passed All Tests!\n",
            "--------------------------------------------------------------------------------\n"
          ]
        }
      ],
      "source": [
        "# ---------------------\n",
        "# Run this sanity check\n",
        "# Note that this is not an exhaustive check for correctness.\n",
        "# ---------------------\n",
        "\n",
        "# Define toy corpus and get student's co-occurrence matrix\n",
        "test_corpus = [\"{} All that glitters isn't gold {}\".format(START_TOKEN, END_TOKEN).split(\" \"), \"{} All's well that ends well {}\".format(START_TOKEN, END_TOKEN).split(\" \")]\n",
        "M_test, word2ind_test = compute_co_occurrence_matrix(test_corpus, window_size=1)\n",
        "\n",
        "# Correct M and word2ind\n",
        "M_test_ans = np.array(\n",
        "    [[0., 0., 0., 0., 0., 0., 1., 0., 0., 1.,],\n",
        "     [0., 0., 1., 1., 0., 0., 0., 0., 0., 0.,],\n",
        "     [0., 1., 0., 0., 0., 0., 0., 0., 1., 0.,],\n",
        "     [0., 1., 0., 0., 0., 0., 0., 0., 0., 1.,],\n",
        "     [0., 0., 0., 0., 0., 0., 0., 0., 1., 1.,],\n",
        "     [0., 0., 0., 0., 0., 0., 0., 1., 1., 0.,],\n",
        "     [1., 0., 0., 0., 0., 0., 0., 1., 0., 0.,],\n",
        "     [0., 0., 0., 0., 0., 1., 1., 0., 0., 0.,],\n",
        "     [0., 0., 1., 0., 1., 1., 0., 0., 0., 1.,],\n",
        "     [1., 0., 0., 1., 1., 0., 0., 0., 1., 0.,]]\n",
        ")\n",
        "ans_test_corpus_words = sorted([START_TOKEN, \"All\", \"ends\", \"that\", \"gold\", \"All's\", \"glitters\", \"isn't\", \"well\", END_TOKEN])\n",
        "word2ind_ans = dict(zip(ans_test_corpus_words, range(len(ans_test_corpus_words))))\n",
        "\n",
        "# Test correct word2ind\n",
        "assert (word2ind_ans == word2ind_test), \"Your word2ind is incorrect:\\nCorrect: {}\\nYours: {}\".format(word2ind_ans, word2ind_test)\n",
        "\n",
        "# Test correct M shape\n",
        "assert (M_test.shape == M_test_ans.shape), \"M matrix has incorrect shape.\\nCorrect: {}\\nYours: {}\".format(M_test.shape, M_test_ans.shape)\n",
        "\n",
        "# Test correct M values\n",
        "for w1 in word2ind_ans.keys():\n",
        "    idx1 = word2ind_ans[w1]\n",
        "    for w2 in word2ind_ans.keys():\n",
        "        idx2 = word2ind_ans[w2]\n",
        "        student = M_test[idx1, idx2]\n",
        "        correct = M_test_ans[idx1, idx2]\n",
        "        if student != correct:\n",
        "            print(\"Correct M:\")\n",
        "            print(M_test_ans)\n",
        "            print(\"Your M: \")\n",
        "            print(M_test)\n",
        "            raise AssertionError(\"Incorrect count at index ({}, {})=({}, {}) in matrix M. Yours has {} but should have {}.\".format(idx1, idx2, w1, w2, student, correct))\n",
        "\n",
        "# Print Success\n",
        "print (\"-\" * 80)\n",
        "print(\"Passed All Tests!\")\n",
        "print (\"-\" * 80)"
      ]
    },
    {
      "cell_type": "code",
      "source": [
        "M_reuters, word2ind_r = compute_co_occurrence_matrix(reuters_corpus)\n",
        "print(M_reuters)\n",
        "print(M_reuters.shape)"
      ],
      "metadata": {
        "colab": {
          "base_uri": "https://localhost:8080/"
        },
        "id": "nE_OxEiyjbEs",
        "outputId": "399a5097-a23d-4d5a-a9d8-77d7fd92c5da"
      },
      "execution_count": 9,
      "outputs": [
        {
          "output_type": "stream",
          "name": "stdout",
          "text": [
            "[[20.  0.  3. ...  0.  3.  0.]\n",
            " [ 0.  0.  5. ...  0.  0.  0.]\n",
            " [ 3.  5.  4. ...  0.  0.  0.]\n",
            " ...\n",
            " [ 0.  0.  0. ...  0.  0.  0.]\n",
            " [ 3.  0.  0. ...  0.  0.  0.]\n",
            " [ 0.  0.  0. ...  0.  0.  0.]]\n",
            "(2830, 2830)\n"
          ]
        }
      ]
    },
    {
      "cell_type": "markdown",
      "metadata": {
        "id": "K-nyJnAASSt9"
      },
      "source": [
        "### Question 1.3: Implement `reduce_to_k_dim` [code] (1 point)\n",
        "\n",
        "Construct a method that performs dimensionality reduction on the matrix to produce k-dimensional embeddings. Use SVD to take the top k components and produce a new matrix of k-dimensional embeddings.\n",
        "\n",
        "**Note:** All of numpy, scipy, and scikit-learn (`sklearn`) provide *some* implementation of SVD, but only scipy and sklearn provide an implementation of Truncated SVD, and only sklearn provides an efficient randomized algorithm for calculating large-scale Truncated SVD. So please use [sklearn.decomposition.TruncatedSVD](https://scikit-learn.org/stable/modules/generated/sklearn.decomposition.TruncatedSVD.html)."
      ]
    },
    {
      "cell_type": "code",
      "execution_count": 10,
      "metadata": {
        "id": "truGMjifSSt9"
      },
      "outputs": [],
      "source": [
        "def reduce_to_k_dim(M, k=2):\n",
        "    \"\"\" Reduce a co-occurence count matrix of dimensionality (num_corpus_words, num_corpus_words)\n",
        "        to a matrix of dimensionality (num_corpus_words, k) using the following SVD function from Scikit-Learn:\n",
        "            - http://scikit-learn.org/stable/modules/generated/sklearn.decomposition.TruncatedSVD.html\n",
        "\n",
        "        Params:\n",
        "            M (numpy matrix of shape (number of unique words in the corpus , number of unique words in the corpus)): co-occurence matrix of word counts\n",
        "            k (int): embedding size of each word after dimension reduction\n",
        "        Return:\n",
        "            M_reduced (numpy matrix of shape (number of corpus words, k)): matrix of k-dimensioal word embeddings.\n",
        "                    In terms of the SVD from math class, this actually returns U * S\n",
        "    \"\"\"\n",
        "    n_iters = 10     # Use this parameter in your call to `TruncatedSVD`\n",
        "    M_reduced = None\n",
        "    print(\"Running Truncated SVD over %i words...\" % (M.shape[0]))\n",
        "\n",
        "    svd = TruncatedSVD(n_components=k, n_iter=n_iters, random_state=43)\n",
        "    M_reduced = svd.fit_transform(M)\n",
        "\n",
        "    print(\"Done.\")\n",
        "    return M_reduced"
      ]
    },
    {
      "cell_type": "code",
      "execution_count": 11,
      "metadata": {
        "id": "7pqKuqvhSSt-",
        "colab": {
          "base_uri": "https://localhost:8080/"
        },
        "outputId": "8ea6f2f5-0045-4901-b5ba-a4303ee13cdb"
      },
      "outputs": [
        {
          "output_type": "stream",
          "name": "stdout",
          "text": [
            "Running Truncated SVD over 10 words...\n",
            "Done.\n",
            "--------------------------------------------------------------------------------\n",
            "Passed All Tests!\n",
            "--------------------------------------------------------------------------------\n"
          ]
        }
      ],
      "source": [
        "# ---------------------\n",
        "# Run this sanity check\n",
        "# Note that this is not an exhaustive check for correctness\n",
        "# In fact we only check that your M_reduced has the right dimensions.\n",
        "# ---------------------\n",
        "\n",
        "# Define toy corpus and run student code\n",
        "test_corpus = [\"{} All that glitters isn't gold {}\".format(START_TOKEN, END_TOKEN).split(\" \"), \"{} All's well that ends well {}\".format(START_TOKEN, END_TOKEN).split(\" \")]\n",
        "M_test, word2ind_test = compute_co_occurrence_matrix(test_corpus, window_size=1)\n",
        "M_test_reduced = reduce_to_k_dim(M_test, k=2)\n",
        "\n",
        "# Test proper dimensions\n",
        "assert (M_test_reduced.shape[0] == 10), \"M_reduced has {} rows; should have {}\".format(M_test_reduced.shape[0], 10)\n",
        "assert (M_test_reduced.shape[1] == 2), \"M_reduced has {} columns; should have {}\".format(M_test_reduced.shape[1], 2)\n",
        "\n",
        "# Print Success\n",
        "print (\"-\" * 80)\n",
        "print(\"Passed All Tests!\")\n",
        "print (\"-\" * 80)"
      ]
    },
    {
      "cell_type": "code",
      "source": [
        "print(M_test.shape)\n",
        "print(M_test_reduced.shape)"
      ],
      "metadata": {
        "colab": {
          "base_uri": "https://localhost:8080/"
        },
        "id": "YF6BaaPlhozH",
        "outputId": "6a5b0100-b17f-400f-ae23-5f038281deac"
      },
      "execution_count": 12,
      "outputs": [
        {
          "output_type": "stream",
          "name": "stdout",
          "text": [
            "(10, 10)\n",
            "(10, 2)\n"
          ]
        }
      ]
    },
    {
      "cell_type": "code",
      "source": [
        "M_reuters_reduced = reduce_to_k_dim(M_reuters)\n",
        "\n",
        "print(M_reuters_reduced.shape)"
      ],
      "metadata": {
        "colab": {
          "base_uri": "https://localhost:8080/"
        },
        "id": "0m1SKko-l3lF",
        "outputId": "5607cd2a-8a3c-4a82-c010-ffa4ec0161f5"
      },
      "execution_count": 13,
      "outputs": [
        {
          "output_type": "stream",
          "name": "stdout",
          "text": [
            "Running Truncated SVD over 2830 words...\n",
            "Done.\n",
            "(2830, 2)\n"
          ]
        }
      ]
    },
    {
      "cell_type": "markdown",
      "metadata": {
        "id": "apZknsLoSSt_"
      },
      "source": [
        "### Question 1.4: Implement `plot_embeddings` [code] (1 point)\n",
        "\n",
        "Here you will write a function to plot a set of 2D vectors in 2D space. For graphs, we will use Matplotlib (`plt`).\n",
        "\n",
        "For this example, you may find it useful to adapt [this code](http://web.archive.org/web/20190924160434/https://www.pythonmembers.club/2018/05/08/matplotlib-scatter-plot-annotate-set-text-at-label-each-point/). In the future, a good way to make a plot is to look at [the Matplotlib gallery](https://matplotlib.org/gallery/index.html), find a plot that looks somewhat like what you want, and adapt the code they give."
      ]
    },
    {
      "cell_type": "code",
      "execution_count": 14,
      "metadata": {
        "id": "dDcCZE5lSSuA"
      },
      "outputs": [],
      "source": [
        "def plot_embeddings(M_reduced, word2ind, words):\n",
        "    \"\"\" Plot in a scatterplot the embeddings of the words specified in the list \"words\".\n",
        "        NOTE: do not plot all the words listed in M_reduced / word2ind.\n",
        "        Include a label next to each point.\n",
        "\n",
        "        Params:\n",
        "            M_reduced (numpy matrix of shape (number of unique words in the corpus , 2)): matrix of 2-dimensioal word embeddings\n",
        "            word2ind (dict): dictionary that maps word to indices for matrix M\n",
        "            words (list of strings): words whose embeddings we want to visualize\n",
        "    \"\"\"\n",
        "    x_coords = M_reduced[:, 0]\n",
        "    y_coords = M_reduced[:, 1]\n",
        "\n",
        "    for word in words:\n",
        "        idx = word2ind[word]\n",
        "        embedding = M_reduced[idx]\n",
        "        x = embedding[0]\n",
        "        y = embedding[1]\n",
        "\n",
        "        plt.scatter(x, y, marker='x', color='red')\n",
        "        plt.text(x, y, word, fontsize=9)\n"
      ]
    },
    {
      "cell_type": "code",
      "execution_count": 15,
      "metadata": {
        "id": "gHxOMWPxSSuB",
        "colab": {
          "base_uri": "https://localhost:8080/",
          "height": 497
        },
        "outputId": "496dd3a7-48c4-47d4-8214-12b129e7f734"
      },
      "outputs": [
        {
          "output_type": "stream",
          "name": "stdout",
          "text": [
            "--------------------------------------------------------------------------------\n",
            "Outputted Plot:\n",
            "--------------------------------------------------------------------------------\n"
          ]
        },
        {
          "output_type": "display_data",
          "data": {
            "text/plain": [
              "<Figure size 1000x500 with 1 Axes>"
            ],
            "image/png": "[encoded data removed]"
          },
          "metadata": {}
        }
      ],
      "source": [
        "# ---------------------\n",
        "# Run this sanity check\n",
        "# Note that this is not an exhaustive check for correctness.\n",
        "# The plot produced should look like the \"test solution plot\" depicted below.\n",
        "# ---------------------\n",
        "\n",
        "print (\"-\" * 80)\n",
        "print (\"Outputted Plot:\")\n",
        "\n",
        "M_reduced_plot_test = np.array([[1, 1], [-1, -1], [1, -1], [-1, 1], [0, 0]])\n",
        "word2ind_plot_test = {'test1': 0, 'test2': 1, 'test3': 2, 'test4': 3, 'test5': 4}\n",
        "words = ['test1', 'test2', 'test3', 'test4', 'test5']\n",
        "plot_embeddings(M_reduced_plot_test, word2ind_plot_test, words)\n",
        "\n",
        "print (\"-\" * 80)"
      ]
    },
    {
      "cell_type": "markdown",
      "metadata": {
        "id": "YpBzYs2hSSuC"
      },
      "source": [
        "### Question 1.5: Co-Occurrence Plot Analysis [written] (3 points)\n",
        "\n",
        "Now we will put together all the parts you have written! We will compute the co-occurrence matrix with fixed window of 4 (the default window size), over the Reuters \"gold\" corpus. Then we will use TruncatedSVD to compute 2-dimensional embeddings of each word. TruncatedSVD returns U\\*S, so we need to normalize the returned vectors, so that all the vectors will appear around the unit circle (therefore closeness is directional closeness). **Note**: The line of code below that does the normalizing uses the NumPy concept of *broadcasting*. If you don't know about broadcasting, check out\n",
        "[Computation on Arrays: Broadcasting by Jake VanderPlas](https://jakevdp.github.io/PythonDataScienceHandbook/02.05-computation-on-arrays-broadcasting.html).\n",
        "\n",
        "Run the below cell to produce the plot. It'll probably take a few seconds to run."
      ]
    },
    {
      "cell_type": "code",
      "execution_count": 16,
      "metadata": {
        "scrolled": false,
        "id": "7L1Uk50mSSuD",
        "colab": {
          "base_uri": "https://localhost:8080/",
          "height": 514
        },
        "outputId": "43e5e6b0-3880-4475-c78a-c0a28409a34f"
      },
      "outputs": [
        {
          "output_type": "stream",
          "name": "stdout",
          "text": [
            "Running Truncated SVD over 2830 words...\n",
            "Done.\n"
          ]
        },
        {
          "output_type": "stream",
          "name": "stderr",
          "text": [
            "<ipython-input-16-79e77b93c60e>:10: RuntimeWarning: invalid value encountered in divide\n",
            "  M_normalized = M_reduced_co_occurrence / M_lengths[:, np.newaxis] # broadcasting\n"
          ]
        },
        {
          "output_type": "display_data",
          "data": {
            "text/plain": [
              "<Figure size 1000x500 with 1 Axes>"
            ],
            "image/png": "[encoded data removed]"
          },
          "metadata": {}
        }
      ],
      "source": [
        "# -----------------------------\n",
        "# Run This Cell to Produce Your Plot\n",
        "# ------------------------------\n",
        "reuters_corpus = read_corpus()\n",
        "M_co_occurrence, word2ind_co_occurrence = compute_co_occurrence_matrix(reuters_corpus)\n",
        "M_reduced_co_occurrence = reduce_to_k_dim(M_co_occurrence, k=2)\n",
        "\n",
        "# Rescale (normalize) the rows to make them each of unit-length\n",
        "M_lengths = np.linalg.norm(M_reduced_co_occurrence, axis=1)\n",
        "M_normalized = M_reduced_co_occurrence / M_lengths[:, np.newaxis] # broadcasting\n",
        "\n",
        "words = ['value', 'gold', 'platinum', 'reserves', 'silver', 'metals', 'copper', 'belgium', 'australia', 'china', 'grammes', \"mine\"]\n",
        "\n",
        "plot_embeddings(M_normalized, word2ind_co_occurrence, words)"
      ]
    },
    {
      "cell_type": "markdown",
      "metadata": {
        "id": "_h0OzAaRSSuI"
      },
      "source": [
        "## Part 2: Prediction-Based Word Vectors (15 points)\n",
        "\n",
        "As discussed in class, more recently prediction-based word vectors have demonstrated better performance, such as word2vec and GloVe (which also utilizes the benefit of counts). Here, we shall explore the embeddings produced by GloVe. Please revisit the class notes and lecture slides for more details on the word2vec and GloVe algorithms. If you're feeling adventurous, challenge yourself and try reading [GloVe's original paper](https://nlp.stanford.edu/pubs/glove.pdf).\n",
        "\n",
        "Then run the following cells to load the GloVe vectors into memory. **Note**: If this is your first time to run these cells, i.e. download the embedding model, it will take a couple minutes to run. If you've run these cells before, rerunning them will load the model without redownloading it, which will take about 1 to 2 minutes."
      ]
    },
    {
      "cell_type": "code",
      "execution_count": 17,
      "metadata": {
        "id": "l3kwvdksSSuI"
      },
      "outputs": [],
      "source": [
        "def load_embedding_model():\n",
        "    \"\"\"\n",
        "    This function downloads pre-trained GloVe word vectors with 200 dimensions\n",
        "    using the gensim.downloader module.\n",
        "\n",
        "    Returns:\n",
        "        wv_from_bin: Word vectors containing all 400,000 embeddings, each with a length of 200.\n",
        "    \"\"\"\n",
        "    import gensim.downloader as api\n",
        "\n",
        "    # load GloVe vectors\n",
        "    wv_from_bin = api.load(\"glove-wiki-gigaword-200\")\n",
        "    print(\"Loaded vocab size %i\" % len(list(wv_from_bin.index_to_key)))\n",
        "    # return loaded vector\n",
        "    return wv_from_bin"
      ]
    },
    {
      "cell_type": "code",
      "execution_count": 18,
      "metadata": {
        "scrolled": true,
        "id": "JCvVlSLZSSuJ",
        "colab": {
          "base_uri": "https://localhost:8080/"
        },
        "outputId": "974e403e-1803-40f7-c13d-a6cb3048aa08"
      },
      "outputs": [
        {
          "output_type": "stream",
          "name": "stdout",
          "text": [
            "[==================================================] 100.0% 252.1/252.1MB downloaded\n",
            "Loaded vocab size 400000\n"
          ]
        }
      ],
      "source": [
        "# -----------------------------------\n",
        "# Run Cell to Load Word Vectors\n",
        "# Note: This will take a couple minutes\n",
        "# -----------------------------------\n",
        "wv_from_bin = load_embedding_model()"
      ]
    },
    {
      "cell_type": "markdown",
      "metadata": {
        "id": "egIeG1RTSSuK"
      },
      "source": [
        "#### Note: If you are receiving a \"reset by peer\" error, rerun the cell to restart the download. If you run into an \"attribute\" error, you may need to update to the most recent version of gensim and numpy. You can upgrade them inline by uncommenting and running the below cell:"
      ]
    },
    {
      "cell_type": "code",
      "source": [
        "#!pip install gensim --upgrade\n",
        "#!pip install numpy --upgrade"
      ],
      "metadata": {
        "id": "ZlF5fxSXcq95"
      },
      "execution_count": 19,
      "outputs": []
    },
    {
      "cell_type": "markdown",
      "metadata": {
        "id": "rH9gWJWpSSuL"
      },
      "source": [
        "### Reducing dimensionality of Word Embeddings\n",
        "Let's directly compare the GloVe embeddings to those of the co-occurrence matrix. In order to avoid running out of memory, we will work with a sample of 10000 GloVe vectors instead.\n",
        "Run the following cells to:\n",
        "\n",
        "1. Put 10000 Glove vectors into a matrix M\n",
        "2. Run `reduce_to_k_dim` (your Truncated SVD function) to reduce the vectors from 200-dimensional to 2-dimensional."
      ]
    },
    {
      "cell_type": "code",
      "execution_count": 20,
      "metadata": {
        "id": "0PROUu_-SSuL"
      },
      "outputs": [],
      "source": [
        "def get_matrix_of_vectors(wv_from_bin, required_words):\n",
        "    \"\"\" Put the GloVe vectors into a matrix M.\n",
        "        Param:\n",
        "            wv_from_bin: KeyedVectors object; the 400000 GloVe vectors loaded from file\n",
        "        Return:\n",
        "            M: numpy matrix shape (num words, 200) containing the vectors\n",
        "            word2ind: dictionary mapping each word to its row number in M\n",
        "    \"\"\"\n",
        "    import random\n",
        "\n",
        "    # Get all words from the GloVe model\n",
        "    words = list(wv_from_bin.index_to_key)\n",
        "\n",
        "    # Shuffle the words\n",
        "    print(\"Shuffling words ...\")\n",
        "    random.seed(225)\n",
        "    random.shuffle(words)\n",
        "\n",
        "    # Select a subset of words (10000 in this case)\n",
        "    words = words[:10000]\n",
        "    print(words)\n",
        "\n",
        "    # Initialize the word-to-index dictionary and the matrix M\n",
        "    print(\"Putting %i words into word2ind and matrix M...\" % len(words))\n",
        "    word2ind = {}\n",
        "    M = []\n",
        "    curInd = 0\n",
        "\n",
        "    # Iterate through the shuffled words and add their vectors to M\n",
        "    for w in words:\n",
        "        try:\n",
        "            M.append(wv_from_bin.get_vector(w))\n",
        "            word2ind[w] = curInd\n",
        "            curInd += 1\n",
        "        except KeyError:\n",
        "            continue\n",
        "\n",
        "    # Add vectors for the required_words not present in the shuffled subset\n",
        "    for w in required_words:\n",
        "        if w in words:\n",
        "            continue\n",
        "        try:\n",
        "            M.append(wv_from_bin.get_vector(w))\n",
        "            word2ind[w] = curInd\n",
        "            curInd += 1\n",
        "        except KeyError:\n",
        "            continue\n",
        "\n",
        "    # Convert the list of vectors to a numpy array\n",
        "    M = np.stack(M)\n",
        "    print(\"Done.\")\n",
        "\n",
        "    # Return the matrix M and the word-to-index dictionary\n",
        "    return M, word2ind"
      ]
    },
    {
      "cell_type": "code",
      "execution_count": 21,
      "metadata": {
        "id": "cpgM0M-hSSuM",
        "colab": {
          "base_uri": "https://localhost:8080/"
        },
        "outputId": "e3c353d6-a038-4358-b493-bc59a79709ae"
      },
      "outputs": [
        {
          "output_type": "stream",
          "name": "stdout",
          "text": [
            "Shuffling words ...\n",
            "['period_8', 'soma', 'shaeffer', 'kdom', 'catchings', 'geebung', 'ynys', 'edta', 'exoskeleton', 'sligo', 'guttie', 'monda', 'tyube', '58.11', '203.3', 'taler', 'universidad', 'fifth', 'unido', '1stld', 'dumri', 'saruman', 'szkutak', 'konolfingen', 'shayan', 'rideable', 'blatant', 'ljungskog', 'ezer', 'masterson', 'whipsawing', 'part-of-speech', 'foie', 'preparing', 'sperryville', '.100', 'grobari', 'hatsopoulos', 'railhawks', 'bienert', 'noreste', 'vieweg', 'allusions/references', '0m', 'busbridge', 'mitko', 'faraji', 'caption', 'sanchi', 'enviro400', '23.22', 'nadaun', 'a58', 'taraxacum', '1,752', 'copd', 'kakuma', 'fushe', 'keaten', 'auriculata', 'rack-mounted', 'uli', 'u.s.-registered', 'mosel', 'half-finished', 'vaisheshika', 'furse', 'abbs', 'chien', 'kneels', 'pangloss', 'dalfard', 'short-circuit', 'dangelo', 'shemar', 'betula', 'goroka', 'solinger', '07:30', 'xiangfan', 'shorish', 'overreactions', '1931/32', 'c3po', 'norbulingka', 'tacul', '114.92', 'franco-british', 'qamar', 'ezio', 'baretto', 'vibhuti', 'inexcusably', \"d'oïl\", 'toutou', 'multi-tracked', 'elashyi', 'schulke', 'halleck', 'nords', 'angreal', '5,624', 'pcs', 'methanex', '-2006', 'stopover', 'gurcharan', 'arghistan', 'brij', 'brankin', 'electionline.org', 'unhas', 'medievalist', 'lebouc', 'silencer', 'ba‘al', 'erhan', 'venkanna', 'åndalsnes', '57.39', 'forgot', 'zig-zagging', 'tadd', 'macpherson', 'protoavis', 'delapidated', '45,600', 'barum', 'dendrites', 'mugur', 'expressively', 'sandri', 'kumon', 'lemba', 'tuomioja', 'doull', 'carbonated', 'nogai', 'khattab', 'bookable', 'ningbo', 'cobasys', 'wice', 'gleaned', 'poschiavo', '357.2', '2,649', 'loggins', '59.82', 'optoelectronics', '1958-1960', 'pawn', '73.22', 'deedar', 'follicle-stimulating', '5,198', 'bookmobiles', 'toshiie', 'complimentary', 'ellerth', 'pilatus', 'soliloquies', 'socio', 'navaho', 'garbarino', 'northcom', 'dangyang', 's-42', 'namgyal', 'separatists', 'shaded', 'moppet', 'cbeebies', 'yearn', 'willmore', 'chataan', '17:07', 'kirst', 'makbul', 'barnaby', 'nagamasa', 'nitroglycerin', 'pome', 'alona', '3,167', 'benenson', 'manzanillo', 'heterozygotes', 'psychodrama', 'meta', 'bevilacqua', 'týr', 'atrata', 'vorlesungen', 'kordun', 'shropshire', 'euro155', '64.04', '717-646-4850', 'dolci', 'ziggler', 'worry', '57-44', 'rachid', 'daghestan', 'ruppersberger', 'fff', 'taiga', 'chaib', 'pinpricks', '6,560', 'machiavellianism', 'vassaras', '1.9-meter', 'tongariro', '225.7', 'gch', '1430', 'ljn', 'meccans', '4.69', 'nongovernment', 'barona', 'ablonczy', 'mikele', 'title-holders', 'dragutin', 'http://www.ford.com/', 'stows', 'vukovic', 'x6', 're-nomination', 'thurz', 'vesco', 'gravitates', 'd-wave', '188.8', 'grani', 'l-shape', 'microblogs', 'paroxysm', 'artística', 'ozymandias', 'zhangye', 'alecks', 'beasties', '17th-18th', 'masani', 'echinopsis', 'micropterigidae', 'aldrig', 'macphee', 'merah', 'myotrophin', 'rigueur', 'sōma', '67.41', 'latrans', 'ikshvaku', 'manavjit', 'seyman', 'wgba', 'garbarnia', 'stucker', 'system', 'occurred', '20,625', 'lukuga', 'pensonic', '45-60', 'frendo', 'jaymes', 'entrekin', 'bnct', '-4.1', 'ahrd', 'legionaries', 'radiobiology', 'jovel', 'sleavin', 'baor', 'venkataswamy', 'x-37', 'winarni', 'tpn2', 'shigeharu', 'encomendero', 'forgo', 'εν', 'fontina', 'littoria', 'pathfinder', '100.41', 'waard', 'hierocles', 'hegelian', 'claim', '1961-1990', 'bevona', 'midvein', 'sampurnanand', 'self-similar', 'mogi', 'sualua', 'french-spanish', 'stamoulis', 'modern-era', 'adolfsson', 'martynas', 'sidmouth', 'zlaté', 'fred', 'pettys', 'sheindlin', 'rhj', 'quintette', 'retaken', '20-city', 'formby', 'dorff', 'sokcho', 'fergalicious', 'codice_53', '960-acre', 'news-press', 'cuffs', 'ái', 'tri-color', 'torkelson', 'councilmember', 'bernhard', 'boracay', 'slumbered', 'legalisms', 'qam', 'wrangle', 'sourcing', '40,625', 'distinctions', 'portables', 'infernos', 'seisdon', 'åkerlund', 'pre-mrna', '44-21', 'drapkin', 'truncations', 'diocles', 'non-farm', 'subrogation', 'remmel', 'memorability', 'interline', '6,065', 'uv', 'vasak', 'volkskammer', 'gain', 'minumum', 'zahler', 'sessilis', 'jelimo', 'roindefo', 'qarmat', 'kikaijima', 'dołhobyczów', 'bivalent', 'benderglobe.com', 'aking', 'stripey', 'biggar', 'perkin', 'ngao', 'baire', 'tempers', 'penderecki', 'masterminded', 'lrad', 'storum', 'zhaoying', 'sascoc', 'stepien', 'front-row', 'stocklasa', 'abovian', 'cantemir', '11-over', 'kraybill', 'grotnes', 'indulges', 'winther', '519th', 'polygonal', 'trøndelag', 'priceless', 'fissionable', 'scroll', 'regional-express', 'environmental', 'smif-n-wessun', 'giolitti', 'swiveling', 'jamia', '5.62', 'rolo', 'gondwana', 'intermission', 'gangwon', 'jiemin', '274.8', 'westenthaler', 'moustafa', 'georgie', '41.2', 'silverjet', 'idrocarburi', 'bihu', 'zambello', 'theatres', 't2000', 'four-and-a-half-year', 'bettered', 'banahan', '+.05', 'two-door', 'stroyev', 'schippers', 'buzzi', 'treo', 'skay', 'giddiness', 'devs', 'dozier', 'hertzler', '175.6', 'blige', 'non-potable', 'wache', 'professionalize', 'dutch-style', 'longhorns', 'lutalo', 'yesterdays', 'forsyth', '95.01', 'aseambankers', 'europeenne', 'ratio', 'hollopeter', '16-percent', 'atid', 'overpays', 'lathe', 'eurest', 'mutineers', 'plutonium-238', 'bastrop', 'waipawa', 'takaaki', 'vibal', 'erections', 'chicopee', 'tuzla', '37.6', 'obeys', 'sundays', 'prepended', '46-35', 'unigenitus', 'aynesworth', '33.09', 'babenberg', 'daleville', 'ajaokuta', 'systemix', 'borealis', 'then-recently', 'b747-400', 'assess', \"d'abbadie\", 'big-headed', 'uq', 'algerine', 'newcomers', 'ri', 'once-thriving', 'roebourne', 'chelles', 'taruna', 'soroe', 'micevski', 'outwardly', 'weezer', 'set-off', 'pozdniakova', '25-state', '229.2', 'mmta', 'tsubouchi', 'palatka', '413', '537-vote', 'attributing', 'lodar', 'guinness', 'sacchini', '4.28', 'jensby', 'pythium', 'purvi', 'abitbol', 'jullien', 'maker', 'bifurcating', 'high-efficiency', 'doenjang', 'ranfurly', 'bmac', 'gajendra', 'tigerlily', 'mezza', 'dnt', 'treviranus', 'fontaines', 'arroyo', 'jelić', 'sokka', 'acqusition', 'linearity', 'ice-age', 'kloiber', 'gergana', 'contractually', 'malange', 'tannins', 'a-decade', 'decadent', 'soarer', 'krško', 'meralco', 'wallwork', 'naak', 'demirchyan', 'comco', 'voinjama', 'aeroporto', 'abrasiveness', 'expellees', 'ridgecrest', 'nanite', 'eridani', 'furin', 'unlined', 'kuhns', 'sravasti', 'bilinear', 'tirupathi', 'deducting', 'ashe', 'kawato', 'ardèche', 'pre-1940', 'javie', '26.51', 'feedstocks', 'dancin', 'stelo', 'bulged', 'mandle', 'hordenine', 'xanthorrhoea', 'blaise', '4,367', 'lyndall', 'question', 'macal', 'universalizing', 'askins', 'lptb', 'filipino-chinese', 'shanken', 'sabanovic', 'balloting', 'monolithic', 'zerstörer', '12-mile', 'gotras', 'limbang', 'bulrush', 'madlener', 'yanbo', 'vikos', 'lachelier', 'phengaris', 'hierakonpolis', '1915-17', 'drider', 'bakas', 'garrulax', '649.9', 'prachar', 'mergentheim', 'jernigan', 'sidelnikov', 'greenbrier', 'jansenist', 'permadi', 'welty', 'peeke', 'radnor', 'tvind', 'oron', 'parel', 'epoxy', '5,570', '1979/1980', 'hayyat', '42.81', 'headlee', 'nedjeljko', 'megacities', 'recollections', 'bioprospecting', 'leashes', '8-iron', 'harlan', 'arap', 'pylyp', 'rrc', 'barabara', 'lee-enfield', 'ingénieurs', 'bobbi', 'compressive', 'jeret', 'kapan', 'ahr', 'vogeler', 'ruanaid', 'missioner', 'goles', 'u-41', 'skele', 'ertman', 'armenteros', 'krishnaraja', 'francisquito', 'eberlein', 'staller', 'xhtml', 'cloisonné', 'schiegl', 'divlje', 'kokolo', '35,417', 'government-led', 'ps', '427.5', 'confidentially', 'saric', 'canzoni', 'shlain', 'pawnbroking', 'a-pack', '2009-2011', 'ceccacci', 'disembodied', 'buckeystown', 'lates', 'bayed', '1,539', 'wicb', 'kuantan', '19.03', '267.2', 'lampasas', 'grossack', '5,825', 'ntac', 'malmström', 'aggresive', '3,485', '1.5245', '23:30', 'boxing', 'considerations', 'nobili', 'abaqa', 'gueron', 'bld', 'ruders', 'censure', 'bahl', 'metrocall', '505', 'faithlessness', 'snowshoeing', 'sann', 'montagues', 'terna', 'gabbert', 'wissenschaftskolleg', 'tuberosum', '87-81', 'enthusiatic', 'hägg', 'strupp', 'sausmarez', '54.57', 'cyrillus', '34-man', 'zero1', 'thirty-eight', 'lathbury', 'aftershock', 'whipsaw', 'kanembu', 'guitarist/vocalist', 'enarsa', 'wraxall', '367th', 'avanesian', '222.3', 'sangoma', 'yefim', 'impossibles', 'troccoli', 'phoya', 'gerba', 'barnabe', '3,095', 'horses', 'marakwet', 'browni', 'arise', 'faucher', 'mnla', 'debski', 'pasaban', 'villari', 'allyne', 'liotard', 'banaras', 'ishockey', '1958-61', 'ledi', 'hearns', 'twice', 'doca', 'openhearted', 'ibiza', 'belu', 'phylogenies', 'casciano', 'zovirax', 'superskills', 'goldsworth', 'bécancour', 'cañete', 'pavillon', 'well-appointed', 'hechuan', 'radials', 'marci', 'glossy', 'helane', 'buffini', 'chiffre', 'theophano', '30-33', 'profiteroles', 'orli', 'conical', 'darus', 'saldana', 'bowater', '46-meter', '1.4493', 'dragonriders', 'p.c.', 'silambam', '37.70', 'goeran', 'confederates', 'regis', 'chaser', '300px', 'maisano', 'roett', '12:00', 'eugenius', 'broadous', 'on-shore', 'ugoh', 'quirine', 'bedsides', 'rockstar', 'tasini', 'laughery', 'variable-length', 'nazaire', 'adventurousness', '8-4-1', 'wolston', 'ganciclovir', 'non-prescription', 'esperance', 'sensitiveness', 'ghussein', 'mbitiru', 'parke-davis', 'pettit', 'varians', 'salw', '3,179', 'misbehaving', 'leathes', 'ghrelin', 'tysfjord', 'frostily', 'wenham', 'lattanzio', 'azim', '7.2-percent', 'sakka', '42-8', 'muñeca', 'materially', 'emails', 'karagandy', 'j2se', 'hyderabadi', 'grammaticalization', 'farad', 'mahek', 'molest', 'spring-like', 'tursun', 'e-ulema', 'schoedsack', 'hyeonjong', 'x86-based', 'disadvantageous', 'opdyke', 'inelastic', 'macor', 'nonrenewable', '2205', '16-color', 'orci', 'shirttail', 'bizmags', 'martha', 'telesco', 'kiem', 'manufactura', 'whole-hearted', 'yaroslav', '911', '33-1', 'zubaida', 'arriba', 'rhéaume', 'sodas', ',820', 'supersuckers', 'o’shea', 'cajoled', 'chhean', 'mehri', 'frise', '51.16', 'stalkings', 'koke', 'bader', 'myersville', 'hacen', 'communauté', 'unengaged', 'saqqara', 'bertotto', 'sherbert', 'jörmungandr', 'near-complete', 'reigned', 'winterfold', 'distancing', 'schwank', 'stretford', 'sketchbooks', 'brutalizing', 'ipark', 'dissuasive', 'jacobs', 'petunia', 'chunwang', 'semiotics', 'mushet', 'hanau-münzenberg', 'decius', 'regenerating', 'benowitz', 'monteiro', 'amter', 'egyptologists', 'irwyn', 'gogar', 'unofficially', 'ceramic', 'hege', 'wildaid', 'lecs', 'multiple-unit', 'koumas', 'mastectomy', 'wintney', 'bucatini', 'spectrograph', 'clupea', 'gangi', '.340', '8,445', 'sauk', 'wendie', 'khayyat', 'einherjar', 'culberson', 'heys', 'hysterectomy', 'tveit', 'usps', 'nonoxynol-9', 'accomack', 'huard', 'lebanese', 'jalingo', 'ekstra', '48-13', 'queensbury', 'glassnote', 'golfen', 'three-decade', 'desalinate', 'cnrs', 'chaud', 'installments', 'lippy', '0.013', 'trounstine', 'ferox', '2005-2006', 'villistas', 'liter', 'non-aggression', 'wikis', 'fondle', 'towy', 'eakins', 'reoccupies', 'beiras', 'dulmatin', 'omana', 'fanbases', 'vogel', 'chain-smoking', 'vraca', 'lopilato', 'robynn', 'radicalised', 'rutsweiler', 'morren', 'gvc', 'volzhsky', 'foodbrands', 'scrivner', 'ticad', 'otherside', 'republish', ':50', 'cathaoirleach', 'eveningwear', 'baranski', 'jgr', 'habel', 'reitano', '3-95', 'relive', 'rosvooruzhenie', '85', '1986-1996', 'endicott', 'a-quarter', 'refines', 'preamps', 'broussard', 'pickpockets', 'iakovakis', 'mandarin', 'taringa', '1,963', 'westone', 'edworthy', '15-kilogram', 'krstic', 'mšk', 'rocafuerte', 'teeters', '1h36', 'flexibly', '8.92', 'immunoprecipitation', 'guanglie', 'alkalaj', 'c-shaped', 'gelida', 'pacers', 'combusting', 'embase', 'dvir', 'pacific/north', 'flextronics', 'cbr1000rr', 'cellan', 'heterobranchia', 'copyhold', 'erhart', 'maytime', 'balestrino', 'almacenes', '16.80', 'ppd', '1.4200', 'skunked', 'optimates', 'hypolito', 'agoglia', 'daybreak', 'santhan', 'sarhat', '63-54', 'ariadna', '5,333', '59-ball', 'mergenthaler', 'kombo', 'bluefields', 'dadamssptimes.com', 'dunkle', 'hellemond', '700x420px', 'melis', 'tribuna', 'khaldoon', 'dhamma', 'shafranik', 'habituated', 'cadigan', 'bundchen', 'holburn', 'bertollini', 'darabos', 'zagwe', '779', 'celje', 'nikias', '112,000', 'offensively', 'dessner', '30-12', 'etalk', 'five', 'pre-test', 'floppers', 'narchemashvili', 'hundley', 'sealth', 'asagiri', 'curanderos', '330-member', 'wicket-keepers', 'pre-1949', 'vanned', 'horrillo', 'sakiz', 'bankrate', 'dplf', 'fkf', 'laird', 'therien', 'wallflowers', 'collomb', 'ppp', 'col101', 'festal', 'cuntrera', 'gunny', 'tharanga', 'popup', 'jupiter', 'a428', 'garp', 'duals', '266th', 'solaiman', 'deepdale', 'bellary', 'well-developed', 'higuera', \"l'africaine\", 'auryn', 'valdepenas', 'seniat', 'cityplace', '999th', 'dreen', 'lillenas', 'theophile', 'rodion', 'mag', 'blvd.', '2,560', 'kotka', 'schauble', 'rc3', 'cfia', 'enthalpies', 'overnights', 'gongloe', 'jayam', 'bhut', '266', 'riffraff', 'edén', 'webmail', 'cevers', 'cisa', 'reattaches', 'qingsong', 'guiana', 'blenheims', 'darusman', 'gaither', 'imbibed', 'teen-aged', 'dyah', 'stranded', '82.37', 'genro', 'aozora', 'doubts', 'goal_philadelphia', 'besame', 'punishers', 'loen', 'menendez', 'cremorne', 'outgaining', 'incorruptibility', 'lidia', 'sint-truiden', 'gpra', 'autoimmune', 'roussef', 'dosanjh', 'cloying', 'appointing', 'trium', 'godamanne', 'ruotsalainen', 'euro960', 'reacquired', 'tiradentes', 'berends', 'all-big-gun', 'torriente', 'assessors', 'tuggerah', 'sloate', 'palladius', '165.6', '10:12', 'pro-russian', 'zenair', '867-4105', 'sephy', 'axess', 'privatised', 'robillard', 'interlibrary', 'tapir', 'smeed', 'boating', '1n', 'muumuus', '25-day', 'decauville', '1974-1979', 'shahis', 'bouzid', '7,999', 'heritage', 'claiming', '11:00', 'dearman', 'wetzlar', 'vantagepoint', 'intuitively', 'tahnee', 'ty', 'cayugas', 'gayaki', 'vacheron', 'kolodny', 'fleabane', 'clottey', 'dicots', 'preventions', 'fattened', 'supery', 'amemiya', 'phrasings', 'gugelmin', 'juf', 'farès', 'no-no', 'bowels', 'walentynowicz', 'salma', 'gimje', 'pajamas', 'jingtang', 'banwell', '421st', '95.14', 'liverwort', 'punya', '1672', '87.61', 'twas', 'kvoa', 'trijumf', 'publicist', 'reflexes', 'bayhawks', 'testifies', 'badlees', 'chengguan', 'electrophysiologist', 'shimazu', 'stavka', 'exxon', 'xfinity', '260-foot', 'b.e.', 'ambergate', 'vesconte', 'zebrahead', 'ravier', 'collectivize', 'atmos', 'defiants', 'kufah', 'atreyu', '75-foot', 'titorenko', 'cardiogenic', 'marquez', 'potulny', '31e', 'hiway', 'brookmeyer', 'masalskis', 'versalles', '#aabccc', 'cantrill', 'ponsford', 'sibella', 'briarpatch', 'jkt48', 'x.com', '3.205', 'rankin/bass', 'mesquita', 'mps', 'rathmann', 'end-point', 'frothing', 'iganga', 'fingerhut', 'quigg', 'e-paper', '1481', 'overcapacity', '84.78', 'lucena', 'urechia', 'peffer', 'xoc', 'tarquini', 'inverts', 'jeremi', 'blare', 'xenobiotic', 'cakra', 'seohyun', 'johnnetta', 'sukhanov', 'matusz', 'vajradhara', 'southorn', 'sawa', 'să', 'neo-georgian', 'nyhavn', '5401', 'clutching', 'craghead', '737-200', 'assholes', '1610s', 'soriani', 'norwitz', 'kaela', 'tirelli', 'flukes', 'therapist', 'berrima', 'soerabaja', 'sijo', 'stratigraphic', 'isshin', 'ciccolo', '89-88', 'cizik', 'mayalarp', 'lightship', 'asteras', 'hagupit', 'irish-born', 'siófok', 'bahamontes', 'fibbers', 'kosgey', 'sargus', 'pummel', 'pruis', 'bouctouche', 'cats', '2521-4500', 'polye', 'nayeem', 'medora', 'dominicus', 'plate', 'anthocyanins', '30,000-member', 'sellon', 'blowout', 'pbsi', 'trancers', 'tavy', 'kfi', '59.24', 'chersonese', 'abbington', 'saratov', 'sharkawi', 'episcopalianism', 'boulevards', 'fazıl', 'context', 're6', 'shamuyarira', 'studivz', 'furie', 'baodong', '58.02', 'maybelle', 'cockles', 'releasable', 'colonel-in-chief', 'kwangba', 'zinfandels', 'fier', 'swoon', 'hussites', '3,072', 'self-release', 'cspi', '204-year', 'n.v.', 'snatchings', 'aimster', 'sulfur', 'marinova', 'necrology', 'turów', 'multiprotein', 'zherdev', 'vatos', 'cower', 'twinned', 'snowboard', 'okechukwu', 'dosan', 'fesse', 'taguchi', '110.9', 'dahuk', '18:55', 'caballeros', 'départment', 'seven-season', 'shyun', '117-year', 'gyres', 'sortino', 'trachytic', 'merrion', 'lackie', 'scannell', 'suchowola', 'jajouka', 'custalow', 'biskupiec', 'massiah', 'reformulated', 'o-matic', 'pi3k', 'a.t.', 'radmilo', 'bjoerkman', '50.63', 'bangus', 'revolucionarias', 'brewsters', 'horgen', 'mustafizur', 'corniche', 'louhans', 'grofé', 'pridi', 'lysette', 'head-start', 'anti-clerical', 'mcgeary', 'xosé', '0300', 'smarmy', 'timbres', 'juxtapose', 'neologism', '4.07', 'sh1', 'unguja', '76-75', 'quellen', '12,950', 'bülow', 'schectman', 'ratelle', '1932-33', 'bethke', 'npg', 'doshi', 'f28', 'scmp', 'diii', 'rushin', 'ucbsa', 'stockbauer', 'ekg', 'artemev', 'lrvs', 'swardt', 'djmax', 'educacion', 'makushita', 'guaranty', 'ghazna', 'ambekar', 'acclimatization', 'balcatta', 'mid-1790s', 'hedera', 'yuba', 'kich', 'avignon', 'light-sensitive', 'ablutions', 'rines', 'henckels', 'blander', 'thornycroft', '7,040', 'permafrost', 'oteil', 'unkindness', 'leisen', 'tegg', 'dinakar', 'zschau', 'cohu', 'naghan', 'flotation', 'neurobiology', 'ticketholder', 'non-medical', '3-fold', 'castmates', 'bondage', 'djerv', 'attersee', 'remediate', 'dsr', 'parias', 'repentigny', 'aquarone', 'xochimilco', 'guarascio', 'klaxon', 'duckbilled', 'personalization', 'ulemas', 'wetheral', 'jmanasso', 'štěpán', 'pharoah', 'spaten', 'â', '58.84', 'sambuca', 'ebstein', 'zhuh', 'failings', 'jeeps', 'rimpoche', 'musters', 'magnoliaceae', 'revolutionist', 'grünerløkka', 'killea', 'orsborn', 'hollows', 'smaug', 'yacob', 'aza', '76.92', 'lesli', 'paratus', 'brassard', 'heis', 'hohentwiel', 'bakaric', '939', 'khazaal', 'burnel', '258,000', 'braunfels', 'walgett', 'fcx', 'devnarayan', 'roell', 'caird', 'antemedian', 'mahotsavam', 'moré', 'lb3', 'jan.-nov', 'kleinburg', 'syriana', 'morsels', 'darfurians', 'wives', 'alcopops', 'discredited', 'odonic', 'schlereth', 'jehane', 'kaoliang', 'clairaut', 'zhaoyang', 'taketh', 'komilov', 'con-artist', 'valuation', 'workaday', 'uabf', 'quarantine', 'yack', 'voree', 'innumeracy', 'skaro', 'accumulative', 'lowell', '61,250', 'bohlin', 'issak', 'grut', 'topkinsptimes.com', 'backstrap', 'barnburner', '126.30', 'nonroster', 'combate', 'czisny', 'malaitans', '50-degree', 'catshark', 'g.p.', 'canonist', 'roger', 'hallman', 'bnr', 'victim', 'iims', 'gawu', 'rawa', 'euro264', 'al-otaibi', 'placemats', 'kayah', 'dostal', 'pitfour', 'impermanent', 'miodrag', 'pandalam', 'detre', 'dangun', 'jayussi', 'hezarjarib', 'nyqvist', 'agresta', 'ikoma', 'lineup', 'accountability', 'impolitely', 'eqbal', 'dalaras', 'menorahs', 'k-10', 'rosalba', 'behindwoods', 'loon', 'mixed-blood', 'rehr', 'longshan', 'drying', 'wadlington', 'stormtrooper', 'halimeter', 'shatner', 'catechism', 'urquiola', 'bateau', 'imageworks', 'romeike', '1428', 'haushofer', 'oudtshoorn', 'dancall', 'first-place', 'anderhub', 'soberon', 'sitt', 'kaban', 'undergirded', 'hadhrami', 'umdnj', 'jamsostek', '27-may', 'v6-powered', 'pancrace', '58.69', 'troelstra', 'cone-like', 'wishram', '20.82', '70.3', 'jeepers', '53.6', 'caledonians', '56-mile', 'capucilli', 'arouna', 'vario', 'dentler', 'momentary', 'untreatable', 'horb', 'boulevard', 'micco', 'leocadio', 'hipólito', 'matsutake', 'investimento', 'sohl', '3,308', 'meed', 'aught', 'diodoros', 'decumanus', 'wildfires', 'luciferian', 'logik', 'kilmartin', 'creedy', 'hysong', 'prolate', 'idrottsförening', '63.9', 'kijang', 'spleen', '110kg', '8.08', 'negroponte', 'rostowski', 'cafi', 'k-11', 'rosaly', '56-52', 'www.tsa.gov', 'pinchot', 'zobrist', 'hatherly', 'montcourt', 'contraceptive', 'thou', 'jamesville', 'devesh', 'clavicle', 'gwahng', 'ząbkowice', 'ciment', 'vo', 'mccarley', 'oenologists', 'system/370', 'copters', 'gyeonggi-do', 'majerten', '1.64', 'airtime', 'coridon', 'schematics', '2.21-meter', 'cemex', 'pleurotus', 'erice', '70-63', 'ephraemi', 'handless', 'krivine', '70.9', 'seafarer', 'hamal', 'cass', 'pethia', 'jaunarena', '-----------------------', 'bretten', 'tambor', 'http://www.pgatour.com', 'classique', '480', 'swallow', 'dougan', 'groovies', 'piratas', 'tecnicos', 'demidov', 'fre', 'meridian', 'sub-range', 'thomazo', 'jbwere', 'inforadio', 'bookspan', 'priscillian', 'siff', 'tentacle', 'hagit', 'spacehab', 'bliznakov', 'small-screen', 'vandeurzen', 'colmáin', 'vieria', 'orangey', 'degrazia', 'joely', 'partee', 'autograft', '9-14', 'hoener', 'positif', 'redoute', 'reutimann', '22,700', 'nehalem', '59-7', '1998/1999', 'sørlie', 'time-bound', 'fraternal', 'yogo', 'alojzije', 'fawns', 'dunnan', 'dederick', 'torlesse', 'robens', '292.50', 'reveil', 'grizel', 'émilie', 'greatorex', 'nonesuch', 'detesting', 'lydeard', 'ilovar', 'jenwu', 'stitts', 'multicellularity', 'mandaeans', 'coated', 'secondment', 'al-saadi', 'hilkiah', '68-63', 'ngobeni', 'u.s.-listed', 'subcentral', 'overstrand', 'kinnikuman', 'chidiac', '3,2', '1960s-style', 'commemorating', 'lapdogs', 'hrodna', '81-minute', 'beşiktaş', 'lesniak', 'hebraist', 'müller', 'rnethaway', 'muhu', 'bwx', 'art-deco', 'demoralise', 'diplock', 'sperry', 'aquitaine', 'waxcap', 'danielle', 'seaver', 'wasaga', 'birstein', 'excepted', '161st', 'ognjen', 'skynet', 'malchow', 'franjic', 'simbi', 'wenna', 'toinzhub', 'donis', 'hoshiyar', 'beeker', 'lessac', 'dubček', 'sevagram', 'de-emphasized', 'apathetic', 'dysgenesis', 'rayford', 'farm-raised', 'interntional', 'rotamer', 'ph.ds', 'dressmaker', 'pineland', '125.57', 'skalski', 'suwaidi', 'porthleven', 'all-blue', 'bvs', 'tenneco', 'kightlinger', 'tarshiha', '17-footer', 'ifra', 'providence', 'drovers', 'chaldeans', 'thinly-disguised', 'enamoro', 'suheil', 'weinfeld', 'naisten', 'twenty-minute', 'pandu', 'olbermann', 'b6', 'francqui', '134-year', 'slomka', '13.17', 'loba', 'puhar', 'bretonne', 'limonov', 'metaphysicians', 'woodcarvings', 'paen', 'glcs', 'reichs', 'kaliber', 'amarga', '33-27', 'chisale', 'ncic', 'solia', 'idoko', 'josefa', 'sláine', 'pamiri', 'picnicking', 'decherney', '10.40', '61-percent', 'fella', 'helier', 'anokha', 'joicey', 'prazeres', 'aricia', 'suffixed', 'thol', 'northcliffe', 'lluvia', 'salvucci', 'siegerland', 'montford', 'tamano', 'marlies', 'karuzi', 'carps', 'neiers', 'opalev', 'galeb', 'lagrave', 'nicolosi', 'rigida', 'gorosito', 'eskil', 'ukc', 'stereogenic', 'somehow', 'dubielewicz', 'omne', 'dinoire', 'btr-60', 'yengejeh', 'antillia', 'verbatim', '1,8', 'triplett', 'arvizo', 'lavard', 'mobifon', 'matadin', '51.40', 'bukowsko', 'wcpfc', 'four-movement', 'mojaddedi', 'mushroomed', 'electrodynamics', 'viscounty', 'glusac', 'condoleeza', 'katastralgemeinden', 'inquisitiveness', 'utapao', 'dorsalis', 'cacioppo', 'onstad', 'shimao', 'holtkamp', 'disheartened', 'rabbitohs', 'karate', '2,920', 'androstenedione', 'malachite', '90.55', 'salko', 'cheadle', 'mentavlos', 'aprendi', 'mycological', 'hest', 'mudhol', 'm-13', 'taboos', 'ussel', 'babajani', 'ogni', 'birlik', 'viñas', 'excite', 'rm1', 'kohlmeier', 'grimsley', 'bagel', 'economische', '10-gallon', 'epiphany', 'mercante', 'likert', 'alpuri', 'terrifyingly', 'kibosh', 'probables', 'castiglione', '18.21', 'prajadhipok', 'rumah', '1933/34', 'overexertion', 'niskayuna', 'alesana', 'kotori', 'tololo', 'kouf', 'sub-communities', 'solicited', 'bagwell', 'kisanga', 'kozyrev', 'nebulosus', 'zulte', 'adamses', 'lisu', 'rebuilder', '92.75', 'dehiscent', '46,900', 'greenvale', 'clashing', '12,700', 'ib', 'stillmatic', 'scotch-irish', 'intermediaries', 'anek', 'genzyme', '50.57', 'czarny', 'wrenched', 'karrar', 'willpower', 'intrepidity', 'grande', 'fractiousness', 'portus', 'sluggo', 'fossombrone', 'hakeim', '23.08', 'troje', 'hochman', 'andrić', 'scandalous', 'frenzy', 'doozy', 'lefort', 'hwt', 'udeze', 'vlogs', 'bronze-age', 'ascription', 'nanum', 'transurethral', '60-point', 'serendipity', 'uitp', 'zuma', 'paleontological', 'pillsbury', 'shivshankar', '97.20', 'sécurité', 'enlow', 'portage', '47.26', 'atkinson', 'triathletes', 'kiner', 'quantized', 'moonwalked', 'julabbi', 'djuric', 'sahhaf', 'fontanka', 'ollur', 'guesthouses', 'alija', 'lancman', 'kościan', '1,127', 'subhead', 'iron-containing', '11-page', '2480', '4,113', 'timbuctoo', 'kovich', 'southcott', 'shapovalov', 'selee', '2000-2010', 'japans', 'putbus', 'prepay', 'pegleg', 'waitakere', 'polans', '21.7', 'robitussin', 'nabeul', 'parametric', 'rejoice', 'photonic', 'capitolium', 'theses', 'maternally', '90.93', 'goal.com', 'eagleman', 'fredro', 'celebi', 'hoodoos', '34.51', 'lavagetto', 'marie-josée', '1,200-kilometer', '121.85', 'sedition', 'zhonghua', 'для', 'leavens', 'balderas', 'shiatzy', 'port-of-spain', 'jeph', 'n9ne', 'darkies', 'armonia', '2-4-2', 'hartinger', 'karch', 're-injured', '157.00', 'urdang', 'kitlope', 'destoroyah', 'denzil', 'punggol', 'rosenstock', 'staph', 'glaum', 'busa', '0.76', 'cohiba', 'yapa', 'bonk', 'cross-rhythm', 'nomeansno', 'cdc20', '81-year-old', 'anglo-celtic', 'sub-tribes', 'idp', 'apocalyptically', 'volleyer', 'trackless', 'rotarix', 'beaven', 'hibakusha', 'deeksha', 'hotwire', 'champoeg', 'm19', '106.25', '1960-1961', '128-seat', 'cofa', 'culte', 'gornja', 'greil', 'hhg', 'ohashi', 'zwitterionic', '3,715', '41.73', 'gucheng', 'euro577', 'mohamud', 'subclades', 'vanco', 'glarus', 'inhibited', '175-foot', 'baylis', 'pollinates', 'trencin', 'guanidinium', 'valeeva', 'noncanonical', 'ahmednagar', '5,833', 'sinologist', 'lambrechts', 'easwaran', 'tati', 'oberschlesien', 'iracing', 'tade', 'rasiak', 'shakib', 'pollution-free', 'forbes-robertson', 'maambong', 'dwane', 'fateh', 'moras', 'conure', 'becomes', '79.6', 'leonia', 'hamari', 'vostok', 'zombielike', 'karmazin', '13:04', 'smirky', 'lox', 'shogo', 'taj', 'gwynedd', 'despond', '600-seat', 'tuchet', 'koguryo', 'spinneret', 'caver', 'skitter', 'zoquean', '19:18', 'hube', 'hertig', 'rapreviews.com', 'summi', '.99', 'rtty', 'synthesisers', 'shelton', 'barcelonnette', 'posad', 'pawiak', 'gracilipes', 'sirius/xm', 'palancas', 'omeprazole', 'robota', 'ragamuffins', 'scallops', 'pawnee', 'cerami', 'jodka', 'contadina', 'champs-elysées', 'innaloo', '98.30', 'band-e', 'posix', 'verlinsky', 'inchcape', 'izarra', 'bystřice', 'srikkanth', 'whitemud', 'musin', 'dicksons', '55-cent', '6,234', 'amad', 'mwita', 'tiddlywinks', 'yerger', 'wiesel', 'jundallah', 'bekoff', \"'63\", 'livelihoods', 'cepelova', 'shatranj', 'looting', 'usfda', 'world-weary', 'kreme', 'trailbreaker', '70-billion', 'rinses', 'ddl', 'funnier', 'giblet', 'krippendorf', 'atorino', 'rousseau', 'emax', 'eis', 'zardran', 'brac', 'sde', 'aamer', '2.075', '.580', 'sdlp', 'herrion', 'emeril', 'gien', 'sekeramayi', 'choltitz', 'jells', 'josa', '7:5', 'romanism', 'gindi', 'transdisciplinary', 'excised', 'scudéry', 'borre', 'joycelyn', 'mavrommatis', 'meester', 'dahmani', 'hkl', 'streetwear', 'yanagida', 'http://www.hkex.com.hk', 'lemos', 'canlubang', 'searcher', '1.5730', 'zealots', 'sherab', 'wrasse', 'gayego', 'carparelli', 'neo-confucian', 'frogn', 'postclassical', 'wangai', 'muzhi', '0.07', 'egcg', 'grotz', 'dual_ec_drbg', 'hulling', 'muang', 'motijheel', '58-0', 'usuarios', 'mitch', 'wilmerhale', 'fact', '23.58', 'voris', 'noam', 'hermanto', 'dpj', 'naveedul', 'fas', 'monroig', 'brydon', 'maenan', 'vojens', 'wednesdays', 'vestibulum', 'eighty-six', 'aqazadeh', 'kiske', 'zagala', 'senates', 'mk.iii', 'skoreans', 'espino', 'bezençon', 'gilroy', 'lambrook', 'olafsson', 'thoman', 'communicational', 'yut', 'robotic', 'lakhan', '1417', 'boringdon', '9:16', 'mcclintic', '14.33', 'bhrigu', '27-13', 'volle', 'accelerometer', '138.7', 'cup-shaped', 'porto', 'ajumogobia', 'coverts', 'oden', 'pullback', 'wbbr', 'šentjur', 'dinnertime', 'osberg', 'disempower', 'rovelli', 'buquet', 'cuddington', 'bullrich', 'mullin', 'powszechny', 'colorada', '.274', 'centromin', 'hødd', 'hallmarked', 'reappear', 'suzy', 'k-league', 'cockney', 'gtu', 'mahir', 'donaueschingen', 'approvingly', 'puhua', 'parasnath', 'bartoloni', '17n', 'gcmg', '49.10', 'locomobile', 'timescale', 'co2e', '35-24', '21.19', 'cost-sharing', '85.16', '9-1-2', 'prototypical', 'sledges', 'dispensational', 'volleyballs', 'manevitz', 'derekh', 'lothian', 'hasp', 'electroporation', 'cenk', 'bandito', '81.45', 'burster', 'valeriu', 'bosra', 'pre-released', '250,000-strong', '1,022', 'wrangler', 'seoni', 'amants', 'chandan', '25-degree', 'peñaranda', 'thornbrough', 'uyunqimg', 'kekko', 'naos', 'sporveier', '21-christoph', 'dengeki', '142.4', 'charter', 'co-songwriter', 'icons', '3am', 'rexford', 'cryolife', 'sawlu', 'rakad', 'makasar', 'ttp', 'shamba', 'zerbib', 'luckovich', 'households', 'cartons', 'semdinli', 'odde', 'perske', 'ʔ', 'sayda', 'heart-lung', 'groupies', 'heilbut', 'whitelaw', 'brownings', 'maicon', 'kelt', 'unspools', 'zealously', 'arnica', 'fourie', '20percent', 'abercorn', '10016', 'proto-indo-iranian', 'sonjica', 'miquelon', '6,810', 'kleinkirchheim', 'starhawk', 'grimmer', 'qeshlāqī', 'manastir', 'bakikhanov', 'vedad', 'kcal', 'pite', 'human-interest', 'indo-australian', 'izenour', 'adalbert', 'magistracies', 'ereader', 'watertight', 'overtaken', 'renewed', 'nenjiang', 'seddiq', 'unica', 'waen', 'waha', 'indicting', 'castrol', 'oberbefehlshaber', 'harangody', '77.07', 'trendline', 'sarikei', 'headbutt', 'tapeless', 'khurasan', 'golodner', 'allamanda', 'dubov', 'krizia', 'westo', 'doubles_grudzielanek', 'klauk', 'skeletonized', 'cornflake', 'erasistratus', 'marginellidae', 'borbonica', 'tules', 'reappraisal', 'oriskany', '212.00', 'glbtq', 'dickison', 'kensaku', 'anapra', 'frankenweenie', 'qaqazan-e', 'haseen', 'invalidating', '1,862', 'third-wave', 'entren', '17,886-foot', 'terming', 'lb9', '36m', 'tribes', 'tsipouro', 'nagpra', 'stylesheet', 'liberal-country', 'righters', 'theodoridis', 'marseille', 'hedayat', 'mantic', 'haan', 'jianfang', 'mead', 'schama', 'apnea', 'sputnikmusic', 'co-sanctioned', 'mwy', 'jihai', 'bogomolova', 'dold', 'desalle', 'arman', 'topoľčany', 'olsons', 'efface', 'samy', 'tans', 'zenani', 'bucklew', 'caprioli', 'inter-zone', 'subpopulation', 'frombork', 'lachnocnema', 'triassic', 'oum', 'filioque', 'khotan', 'maertens', '2-59', 'radislav', 'paigc', '79.1', 'shahad', 'arrack', 'monographs', 'warlocks', '3,094', 'griebenow', 'jwaneng', 'polesia', 'hote', 'quartermaine', 'yukes', 'harmanli', 'patharghata', 'wiht', 'schuerholz', 'vidiri', '57.97', 'ivorians', 'universités', 'gtia', 'procter', '2:07', 'salmon', 'yutu', '92.74', 'orgon', 'daimyo', 'ד', '87.3', 'unsaturated', 'forth', 'aisling', 'bierk', '321.2', 'girdler', 'wrists', 'kuyp', 'beust', 'hilarographa', 'possessor', 'ismayilov', 'teti', '2-18', 'poblete', '14-meter', 'luxi', 'niu', 'westermarck', 'us-only', 'dhoby', 'pontianak', 'peripherin', 'redwood', 'ambanja', 'ohene', 'nicon', 'rerecord', 'comyns', 'koenigswinter', '411th', 'grimaces', 'dystrichothorax', 'vaega', 'hulon', 'taepodong-1', 'still-living', 'tabernas', 'toshihisa', 'hirakawa', '1.995', 'asymphorodes', 'aika', 'all-ivy', 'pluribus', 'omroep', 'gagauz', 'newtownabbey', '3rd-5th', 'palestinian-israeli', '7.7410', 'policlinico', 'hotspur', 'boggis', '2,077', 'gezari', 'popson', 'whoi', 'dreamboats', '3:0', '43.25', 'cecchinello', 'graceville', 'iver', 'saniora', 'makaraba', 'molla', 'huánuco', 'mechtild', 'correlation', 'elas', 'vcr', 'gerti', 'freeze', 'yams', 'aortic', 'marey', 'scrabbled', 'rahmad', 's.lanka', 'sudanic', 'fha', 'ancestress', 'fucker', 'humoresque', 'camozzi', 'semi-wild', 'beyg', 'tenjin', 'mystica', 'foundress', 'stain', '21.62', 'greipel', 'lahia', '120-millimeter', 'lechery', '92.57', 'cossato', 'miklós', 'mkhitar', 'wisbech', 'mahlathini', 'treasurys', '7.76', 'blomgren', 'midgard', 'europea', 'outplays', 'republican', 'hegen', '3xx', 'muruli', 'périer', 'renshou', 'austine', 'wheatstraw', 'sharipova', 'katarzyna', '238-pound', 'milans', 'surfacing', 'umbagog', 'dheim', '2250', 'ilo', 'minks', 'nmci', 'murzuq', '1970s', '33.58', 'fingon', 'erasmus', 'leading-edge', 'grenadan', 'deedee', 'instituto', 'chaguanas', '3,417', 'moevenpick', 'lehder', 'exomars', 'double-elimination', 'distortion', 'zildjian', 'shakotan', 'top-scoring', 'hrabar', 'scottsbluff', 'formula_132', 'thundercat', '1995-2000', 'jowl', 'théâtre', 'wbbm-tv', 'pavelka', 'college', 'sm1', 'shimer', '57.66', 'rocksmith', 'sunless', '94.72', 'gunderson', 'mroue', '70.2', 'tontine', 'lifo', 'paolozzi', 'wusheng', 'kadhum', 'monumentum', 'nurturer', 'nociception', 'pimlico', 'harbeson', 'langdell', 'belisario', 'hydro', '89.76', 'mft', 'forshaw', 'zixun', '51.2', 'blandon', 'sissako', 'synaptics', 'isabell', 'armbruster', 'cuauhtémoc', 'paladino', 'telescope', 'ravello', 'preclassic', 'wva', 'redband', 'offaly', 'weightlifting', 'debrowski', 'revives', 'angono', '88888', 'wamego', 'malate', 'nihondaira', 'scafaria', 'headshunt', 'jeleva', 'view', 'paisanos', 'sabater', 'confederacies', 'jovian', 'teldta', 'mules', '54.10', 'aryanized', 'tenniel', '198.1', 'naturale', 'hangzhou', 'ncmp', 'churla', 'post-mao', 'http://www.pbs.org', 'liberti', '1152', '77.01', 'aldwyn', 'fruska', 'loki', 'ellenberg', 'raffy', 'keppel', 'benvolio', 'misrepresented', 'gloats', 'nesrin', 'f22', 'fulfulde', 'mcat', 'rahim', 'd12', 'milat', 'wtrg', 'bhokin', 'franchisee', 'ahman', 'uqba', 'ice-strengthened', 'xiradis', 'robshaw', 'u-9', 'usd$', 'truett', 'cazypedia', 'head-quartered', 'chiaramonte', 'hašek', 'dappled', 'decamped', 'cidre', 'signing', 'aérea', 'călăraşi', 'quoins', 'gidea', 'strub', 'suruma', 'kakuta', 'carolinensis', '24.31', '86-76', 'plainclothesmen', 'žižek', 'lpu', 'tinware', 'udeur', 'boxcutters', 'perriss', 'ideaglobal.com', 'cornelison', 'russells', 'brackley', '6-dot', 'neutrinos', '8.6', '1,684', 'immunex', 'maada', 'religare', 'three-phase', 'faso', 'symbiotically', 'pssi', 'asmer', 'iqlim', 'podrian', 'margins', 'creditsights', 'matanog', 'scienza', 'neagu', 'haldor', 'newcombe', 'franc', 'tv3', 'workbooks', 'lafer', 'lushnjë', 'm-20', 'bloons', 'ds3', 'stencils', 'palanquin', 'iloilo', 'celosia', 'luncheonette', 'forewing', 'absolving', 'cupp', 'inter-species', '70-member', 'rianz', '2066', 'rwc', 'rockefellers', '17:40', 'bidston', 'murderously', 'clog', 'bonfatti', 'regmi', \"o'banion\", 'morris', 'yev', 'charina', 'mattan', 'githongo', 'anti-zionist', '1,500-foot', 'orka', 'upadhaya', '-51', 'mei', 'maliks', 'connected', 'bestia', 'dimness', 'pierzynski', 'chater', 'eutrophication', 'bresnan', 'linley', 'nysdot', 'bythewood', 'rosenqvist', 'orlimar', 'hervas', '1980-1990', 'mouha', 'goromonzi', 'chantha', 'fahd', 'akil', 'okagawa', 'newmeyer', 'pavlidis', '+45', '122.10', '1052', 'glu', 'mutapa', 'hålogaland', 'durno', 'multistage', 'sezam', 'forden', 'scut', 'shpetim', 'assimilation', 'valiantly', 'madhouse', 'srichapan', 'schevchenko', 'glb', 'eutelsat', 'drp', 'kender', 'ortolano', 'dharsono', 'skyrock', 'humla', 'interclube', 'zanelli', 'sempione', 'hispanicized', 'torture', 'galgo', 'interfacing', 'mehr', 'progesterone', 'disinhibited', 'multitudes', 'non-coding', 'appease', 'gastos', '1-37', 'multidisciplinary', 'starer', 'intendancy', 'trijang', 'barbas', 'thecodontosaurus', 'wiba', 'bunratty', 'rurale', 'paty', '3,675', 'rún', 'zberg', '+0.4', 'villein', 'beckers', 'salomons', 'cenco', '234.00', 'cation', 'wallens', 'sortition', 'législatif', '205.7', 'shout-out', 'u1', 'hehl', 'correggio', 'mathew', 'katagiri', '3,071', 'd’souza', 'disorganized', 'thunderchief', 'sodexo', 'kőszeg', 'serjeant-at-arms', 'omkara', 'iberoamericana', '4,800-strong', 'occupying', 'dorey', 'wass', 'crosshatching', '8,125', '59.65', 'specialness', 'haslund', 'hygrocybe', 'cartier-bresson', 'izmailovo', 'nioc', 'booking', 'metabolism', 'tert', '+11', 'jiangling', 'considerately', 'midfield', 'chemoattractant', 'tme', 'enslavement', 'codacons', 'lappa', 'backpay', 'matara', 'adaptions', 'woodham', 'blue-ribbon', 'raydah', 'max-planck-institute', 'i-12', 'second-story', 'wooooo', 'caunes', 'aniakchak', 'boj', 'desoto', 'definiteness', 'börje', 'runing', 'cludwig', 'kuci', 'alessandra', 'etoys', 'thanom', 'myrica', 'belfield', 'lcc', 'syncretism', 'με', 'concussions', 'spokesmodel', 'hardyston', 'isabelw@nytimes.com', 'encamp', 'ribbons', 'tblsp', 'lodged', 'hachemi', '72.15', 'myōkō', '6-foot-9', 'devastations', 'oviduct', 'subtraction', 'treacheries', 'mclardy', 'detailer', 'scans', 'jijia', 'schevitz', '22.50', '900-kilometer', 'rockel', 'http://www.chinfo.navy.mil', 'comprehending', 'grappasonni', '5-14', 'sequestering', 'kamaraj', 'exupéry', 'kaū', 'disincorporated', '64.63', 'corfo', 'texas-born', 'pache', '14.41', 'tharizdun', 'jutes', 'u.s.-set', 'gsx-r1000', 'zope', 'm.d.s', 'cinecitta', '2.81', 'jibali', 'mugam', 'schmognerova', 'ignacia', '60.73', 'palabras', 'olivas', 'wallison', 'tomoda', 'sikkema', 'bytitle', 'melus', 'therdsak', 's-61', 'heo', 'mdgs', 'oosten', '83.90', 'tshimanga', 'sutarov', 'yahalon', 'emplace', 'olperez', 'recs', 'pharyngeal', 'weakness', 'bibf', 'lamrabet', '97-year', 'moonraker', 'priistas', 'raksha', 'schumaker', 'mengele', 'altricial', 'niedak', 'york-style', 'shishkov', 'balik', 'onsets', 'gorriti', 'seceders', 'albums', 'cylindrica', 'caticlan', 'wanaque', 'smithburg', '8,300', 'nkp', '24aou94', 'dalymount', '47.38', 'futon', 'peverel', 'kishtwar', 'ieee', 'môn', 'warangal', '681,000', 'malformed', 'suffren', 'baronets', '11-15', 'gottardo', 'navoiy', 'microglia', 'il-86', 'rap/sung', 'cupressaceae', 'nutrilite', 'anesthesia', 'tormented', 'net.art', 'paynter', 'bbc.co.uk', '11.57', 'odessa', 'bracker', 'āti', 'elsass', 'fedoseyev', 'portola', 'intermezzi', 'hlatshwayo', 'weisslers', '3008', '15.59', 'georgakopoulos', 'mariusz', 'infilled', 'arambag', 'comptuex', 'carrack', 'satyrs', 'j5', 'mattes', 'vijayaraghavan', 'datus', 'abies', 'rainfed', '3200m', 'zeenat', 'non-repudiation', 'hamblen', '18.24', 'empathizes', 'beale', 'handful', 'najeh', 'helotiaceae', 'wetaskiwin', 'byock', 'troitse-sergiyeva', 'region-free', 'filiates', 'lapides', 'adbusters', 'shtyn', 'demobbed', '158.50', 'supercups', 'overclocking', 'lauria', '5,030', 'neftekhimik', 'plumas', '1950-52', 'lonely', 'kasaravalli', 'semara', '82.46', 'yuegu', 'inhabitant', 'raqib', 'kirkstead', 'hille', 'tunas', 'drearily', 'methyltrienolone', 'crummock', 'twelves', 'closed-loop', 'blackleg', 'akwa', 'śląskie', 'bawer', 'gowon', '106,500', 'pashaluk', 'voyeurs', 'metamathematics', 'culhwch', 'dipodidae', 'perriand', 'huaylas', 'navalkar', 'sub-urban', 'abdulghani', 'xylophones', 'ac/dc', '2,978', 'kerio', 'terahertz', 'well-adapted', 'røyken', 'cle', 'presidencia', 'clac', 'batting_fthomas', 'bayar', 'rockhurst', '1.5450', 'teknik', 'cave-like', 'daljit', 'rovera', 'labaton', 'sasami', 'moroi', 'faryab', '69-58', 'kleist', 'ctrs', 'papakura', 'stradbally', 'open-cut', 'carnot', 'velas', 'moseby', 'n-s', 'macey', '1,848', 'slaty', 'uweinat', 'submucosa', 'conjugations', 'dutra', 'cultured', 'oste', 'metaxas', 'blida', 'water-insoluble', 'castlehill', 'hoehne', 'lahoti', 'aburish', '1,534', 'canela', 'wason', 'bengali-language', 'carper', 'p73', '144-year', 'landmarks', 'javiera', 'v.k.', 'shebbeare', 'cezanne', 'hockry', 'ceuta', 'kirtans', '2,107', 'xml-based', 'abolfazl', 'contrini', '83-67', 'skaven', 'beor', 'shehu', '2085', '1.4320', 'two-front', 'ucsd', 'aeltus', 'padroado', 'efmd', 'lousy', 'ælle', 'yipes', 'dossa', 'guimarães', 'elsham', 'semuels', 'wasco', 'lumia', 'mcneill', 'homosexually', 'roback', 'konon', 'bismil', 'confessed', 'quala', 'v.i.p.', 'thoroughness', 'turnings', 'axtel', 'heydays', 'anyidoho', 'vyron', 'schott', 'breau', '1456', 'misbach', 'algonquian-speaking', 'netcruiser', 'uttered', 'chusquea', 'paeonian', 'begiristain', 'hermeneutics', 'merrie', '1928', '1.3965', 'zhengzhou', 'zelada', 'broncos_signed', 'obodo', 'fenghua', 'paraguarí', 'libdeh', 'vver', 'emt', 'dirkhising', 'armide', 'shevtsov', '52.82', 'roux', 'vlasina', 'walch', 'ggf', 'mercexchange', 'almihdhar', 'ko', 'tony', 'crans-montana', 'kalwa', 's&dr', 'tokuno', 'tacit', 'vaikom', 'trulku', 'ópera', 'malayalee', 'gyong', 'janiak', 'domain-containing', 'yohanan', 'jaunt', 'tvb', 'tsiang', 'wavrin', 'imb', 'laurino', 'kumars', 'saxe-meiningen', 'allgemeiner', 'heiferman', '150-seat', 'jelliffe', 'pinions', 'fadam', '13:24', '48.01', 'suppressors', 'fergon', 'good-naturedly', 'selph', 'hool', 'crewcut', 'fiora', 'totten', 'babwin', 'archaelogists', 'kumpf', 'terminated', 'virts', 'spendlove', 'cakau', 'patersons', 'peyret', '45-game', 'lii', 'reinder', 'brought', 'heur', '0645', 'qfa', 'bays', 'keratoderma', 'bayeux', 'revelling', 'pajaziti', 'wilkes', 'carisbrook', 're-imagining', '390-7257', 'tatan', 'interferons', 'amaker', 'castronovo', 'freshford', 'hickson', 'katzenelnbogen', 'bustan', '2005a', 'left-green', 'reinecke', 'fmri', '40percent', '0440', 'cpa', 'chavalit', 'kubeck', 'nexar', 'jdsu', 'barbiero', 'ahwahnee', 'nirukta', 'borriello', 'chech', 'nesset', '35,600', 'benton', 'lampshades', 'bulk', 'wtr', 'cantab', '95.2', '1.0003', 'penella', 'heaver', 'clavijo', 'infinitum', 'berizzo', 'bt15', 'herschel', 'scalability', 'bashi', 'steeltown', 'dhara', 'haidalla', 'colindale', 'urnov', 'lightoller', 'attacks-3years', 'abz', 'contas', 'kubsch', 'donskoy', 'natomas', 'climbing', 'chauth', 'stutman', 'yenişehir', 'athenagoras', 'reparative', 'heryanto', '14-hour', 'annointed', 'anxian', 'habegger', 'orombi', 'pesce', 'alcántara', 'slpi', 'ett', 'neuenstadt', 'académiques', 'mahaparinirvana', 'crutchfield', 'nadav', '94.20', 'irishwomen', 'konjevic', '35.44', 'chehade', 'fremantlemedia', 'marktredwitz', 'grlic', 'two-three', 'alexopoulos', 'sailor', 'ridout', 'bronchopulmonary', 'three-match', 'natoli', 'maloelap', 'appreciator', 'medicating', 'buchsbaum', 'brave', 'squaretrade', 'marwick', 'crosses', 'ovidius', 'mansurian', 'poh', 'sanctus', 'sooke', 'mattila', 'panai', 'louisiana-based', 'natalja', '49-47', 'banin', 'sociopathic', 'chris', 'de-rabbi', 'arabe', 'nicknames', 'sumatra', 'medvedow', 'vash', 'leaches', 'vuelvo', 'hadjuk', '121.17', 'ironically', '39-year-old', 'leidy', 'verandahs', 'hollyweird', 'non-carbonated', 'posa', '4101', 'berkner', 'narkompros', 'armeria', 'moo', 'lazzell', 'abertillery', 'evernden', 'sfpd', 'eilenberg', 'wardrop', 'rossa', 'trafficked', 'restructured', 'kaliurang', 'masc', 'playgroup', 'festo', 'halocarbons', 'collinsworth', 'kazbegi', 'kyaukphyu', '1946-1950', 'doherty', 'suwan', '115.27', 'liuba', '117.59', 'menuet', 'couplings', 'capo', 'boubacar', '113.12', 'investigador', 'lukyanenko', 'credle', 'pasos', 'logia', 'investigator', 'fariborz', '547', 'map', 'jaen', 'derzhava', 'anaesthetized', 'underrating', 'forse', 's0', 'struensee', 'datapoint', '103-95', 'cliath', 'claudian', 'sacconi', '175.50', 'katahdin', 'ameriserve', 'xband', 'waihee', '1.024', 'crossfit', 'helicinidae', 'swaggart', 'medio', 'sis', 'kulaks', 'responsive', 'baraboo', 'mckinstry', 'eight-nation', 'gest', 'prah', 'rodhe', 'unshelled', 'blab', 'karta', 'routhier', 'palaeocene', 'inscribing', '15-metre', 'gadek', 'bartholdi', 'felin', 'vrtiska', 'officiant', 'auriverde', '3,543', 'pamphilus', 'sheuserglobe.com', 'apian', 'mier', 'overworking', 'shell-shock', 'stakeouts', '179.2', 'minitel', 'brennan', 'andrii', 'raunds', 'vhi', 'theodor', '5400', 'tv6', 'longlisted', 'chowringhee', 'shepton', 'quito', '1970s-1980s', 'horwits', 'dongle', 'canteen', 'ifn', '25-per', '1,334', 'cris', 'baphiq', 'alonzo', 'bissell', 'chumak', 'ångermanland', 'mobs', 'understory', '337.5', '692', 'waiouru', 'codling', 'atrak', 'ulloor', 'gabriola', 'coughs', 'ančić', 'miscount', 'abdurahim', 'how', '16a', 'r20', 'penny-farthing', '.527', 'kartiko', 'beatbox', 'exaggerating', 'accommodating', '27.26', '91-80', 'arefin', 'lesher', '4,039', 'anglo-norman', 'juro', 'man-eaters', 'kadriorg', 'chichimecas', '2,082', 'kuong', 'shui-bian', 'jurnal', 'hig', '26.94', 'cryoablation', 'senalan', 'dto', 'gloomier', 'långholmen', '23,150', 'excelsis', 'krueger', 'keonjhar', 'in-app', 'perpetuators', 'xccikcstar.com', 'saltoun', 'desjarlais', 'handle', 'gumboot', 'nxf6', 'morna', 'junghyun', 'sutta', 'groper', 'ogasawara', 'land-owning', 'elblag', 'alyeska', '28.54', 'gbm', 'tinamou', 'bytes', 'confucians', 'chadd', 'norbu', 'yars', 'djdam', 'goosing', 'twickenham', 'vituperation', 'sculptured', 'daggatt', 'istmo', 'neou', 'gervase', 'gnawed', 'rosse', 'troast', 'munoza@nytimes.com', 'malal', 'mansabdar', 'khui', 'pwcs', 'neopagans', 'jaso', 'sanctions', 'yellow-crowned', 'komuter', 'risible', 'grottaferrata', 'tyger', 'acetonitrile', 'bijlani', 'corbett', 'kutubdia', 'turboshaft', 'thiago', 'formula_99', 'incorruptible', 'halter', 'kallan', 'state-operated', 'broadhaven', 'vitals', 'rushdoony', 'cerastium', 'dulas', 'sanjakbey', 'khambiyev', 'ashkenazy', 'byword', 'condominium', 'downcast', 'sturminster', 'winless', 'sedlak', 'dicot', 'feodosiya', 'hasanabad', 'uhlaender', 'ulpius', 'mclelland', 'sc.d', 'stepdaughter', 'kankan', 'netflix', 'loryma', 'defiantly', 'tws', 'lorin', 'lpm', 'borsellino', '785', 'tassa', 'tcoma', 'revillon', 'streek', 'kishikawa', 'fpmt', '4,660', 'westwood', 'sweetcorn', 'mbit/s', 'stojan', 'lawspeaker', 'öyster', 'peslier', 'superspecies', 'euro528', 'gluey', 'badagry', 'board-certified', 'keravnos', 'cote', 'unrequited', 'juster', 'mirman', 'kastellorizo', '39-19', 'ny300', 'super-fast', \"o'ryan\", 'defines', 'oshie', 'dogus', 'mundos', 'jonbenét', 'korhogo', '2306', 'pundravardhana', 'cravats', 'mizumaki', 'dibden', 'obeideh', 'barff', '50.49', 'pyralidae', 'anssi', 'negreanu', 'pitt', '3,342', 'supernose', 'ldn', 'haideri', 'mashakada', 'schnarrenberger', 'chevedden', 'furley', 'zolman', 'desiccation', 'workforces', 'merryfield', '108.66', 'birdman', '3-on-1', 'baheen', 'abdullo', '2,404', '41-10', 'to-1', 'ripostes', 'o-meter', 'retamar', 'prefiguring', 'marrerok', 'nilofar', 'impossibly', 'wladislaw', 'alcohols', 'chevalier', 'obersalzberg', 'clontibret', 'weitzenhoffer', 'simelane', 'legendarily', 'doder', '73.55', '.609', 'cheeks', 'savoca', '1,218', 'mante', 'revolta', '4.93', 'cooper-hewitt', 'molestations', 'xiaoni', 'cruttenden', 'misaka', 'samaveda', 'quartered', '350px', 'juxtapositions', 'rumex', 'neighboring', '405,000', 'isothermal', 'yimeng', 'tancredi', 'rainforests', 'audeh', 'globalized', 'mcgugin', 'kan.', \"l'opéra\", 'rorschach', 'proms', 'pavan', 'dahv', 'inveterate', 'lassen', 'avas', 'amalda', 'futurism', 'extruding', 'russakoff', 'verenium', 'aryabhata', 'hadamczik', 'camp-dependent', 'inglés', 'sallust', 'toxteth', 'jobski', 'nikea', 'alliston', 'troisi', '31.2', 'setser', 'hayy', '45,625', 'cavo', 'gubbins', 'd33', 'quarterfinal', 'memorization', 'mogudu', 'lafakis', 'inrix', 'yann', 'radetsky', 'seeger', 'leeder', 'sellecca', 'shareable', 'jhalak', 'vitores', 'recapitulating', '40.54', 'frankenmuth', 'nyamwezi', 'daht', 'lillee', 'timoshenko', 'belltown', 'firestone', 'vermuyden', 'tempestt', 'memory-based', 'inexperience', '5.17', 'collegia', 'bigelow', 'trileptal', 'eckholm', 'altach', 'gigon', 'variedades', 'generalissimo', 'mitty', 'ejecutiva', 'chaudry', 'tukaram', 'dhuluiya', 'unfavourable', 'webstore', 'bokator', 'odžaci', 'redraw', 'scops', 'में', 'bartel', 'undersurface', 'longobardo', 'monomyth', 'rivertowne', 'disavowed', '2,676', 'ijewere', 'cailleach', \"n'gog\", 'grigorevich', 'greenspan', 'jun-ho', 'wildbad', '3,936', '42-17', 'firths', 'matabeleland', 'yan', 'gins', '38,438', 'tasneem', 'euro25', 'heathcoat-amory', '1.9-mile', 'sugarbush', 'thornfield', 'ukrainska', 'gertz', 'ironsides', 'chitchat', 'm12', 'umes', 'severini', 'music-making', 'mystikal', 'hohns', 'massasauga', 'toyobo', 'inking', '65.46', 'fausta', 'primesport', 'one-quarter', 'kamajor', 'heenes', 'reo', 'pre-broadway', 'kahoe', 'ufw', 'dido', 'indianapolis', 'bonaiuti', 'kwahu', '.49', 'cherry-garrard', 'unconditional', 'lidback', 'teruggi', 'siby', '3,324', 'psyllids', 'rissler', 'beyler', 'free-falling', 'economía', 'hesse-philippsthal-barchfeld', 'terapia', 'straggler', 'k-type', 'benegas', '2013source', 'maicosuel', 'strauber', 'hesychast', 'relearned', 'pre-printed', 'mascarenhas', 'saltanov', 'delivery', 'faulcon', 'asdic', 'axé', 'c9', 'kecoughtan', '24.82', 'kotte', 'agius', 'gerz', '1914', 'soir', 'gidding', 'volti', 'keedysville', 'ctp', 'southwind', 'oesau', 'brecko', '293.2', 'matinicus', 'prothro', 'komarov', 'catheter', '26.49', 'tartu', 'tocharians', 'catchword', '64.0', 'rodent-like', 'eafe', 'cruet', 'objection', 'togiola', 'neshin', 'angeleno', 'shout', '24.87', 'dagwood', 'balbisiana', 'http://www.hrw.org', 'maasland', 'tchalla', 'restart', 'gasb', 'mecklenburg-schwerin', '34.9', 'ssangyong', 'ḩeşār-e', 'mistimed', '111.32', 'bangui', 'alamodome', 'falaschi', 'korla', 'brücken', '3,772', 'murdo', 'unbanning', 'renewable', 'teruyoshi', 'full-time', 'nishimatsu', '1990-93', '105.40', 'compartmentalization', 'olenicoff', 'hiroya', 'deceives', '67-56', 'dolon', 'gaea', 'jdl', 'nazarbaev', '74.6', 'bøe', 'zns', 'scowls', 'outpointing', 'spoerl', 'archbold', 'near-shore', 'paperworkers', '9.475', 'ricardinho', 'k.c.b.', 'lousada', 'covenanted', 'design', 'probit', 'mantellidae', 'marburger', 'piemontese', '12,400', 'chiche', 'homestand', 'gaisha', 'videoconferencing', 'easyshare', 'jandek', 'mezey', 'akyol', 'curiousity', 'analogical', 'rogatica', 'tailboom', 'krogh', 'scrooge', 'asboth', 'arnhem', 'infestation', 'danin', 'saed', 'reller', '155-pound', 'hydrography', 'lhalu', 'pandora', '95.92', 'framnes', 'leonardus', 'vemos', '0505', '6:19', '6-to-3', 'sidley', 'savory', 'littlewoods', 'haemodynamic', 'frithjof', 'dys', 'parakou', 'hartke', 'gibran', 'kibla', 'cheapening', 'timofeyevich', 'valakari', 'depth-first', 'st-pierre', 'johanneum', 'bulaong', 'co-stars', '800m', 'devising', 'barak', '5-63', 'vishniac', 'николай', 'lean-to', 'navales', 'frou', 'kirbyjon', 'academic', 'wijngaarden', 'furusawa', 'suryono', 'canedo', 'publics', 'p15', 'dongdong', '.504', 'luling', 'bacilli', 'ziyarat', 'niit', 'guerrilleros', 'guero', 'remnant', 'cofferati', 'mcdonaldization', 'brokat', 'lar', 'décor', 'highmore', '2475', 'shimbashi', 'yusufi', 'freestyler', 'stay', '893-8330', 'nemazee', 'ahrweiler', 'loran', 'schleper', 'pyongang', '8-30', 'ghous', 'informally', 'step-by-step', 'pons', 'moubarak', 'jablonec', 'luebbers', 'totty', 'packwood', 'ghencea', 'polyvore', 'over-emphasis', 'polytech', 'fidonet', 'lyash', 'ramiz', 'day', 'dedina', 'synovus', 'septiembre', 'disrespect', 'goodyer', 'greehey', 'sneak', 'mandil', 'volcanics', 'siaosi', 'darkchild', '948', 'uncork', 'ballerinas', 'butkus', 'attracted', 'pinstriped', 'maco', '72.74', 'catalina', 'u.s.-saudi', 'footages', 'phoney', 'over-enthusiastic', '9:34', '116-112', 'santero', 'delillo', 'teltschik', 'meggitt', 'serock', 'bettega', '135.75', 'envisages', '1045', 'jpy', 'ventre', '84.26', 'dunsterville', 'carrero', 'goalbound', 'bluemont', 'socialised', '1,324', 'rewardingly', 'solenoid', 'alphabetic', 'motha', 'valenki', 'ceawlin', 'nolo', 'smos', 'valeriano', 'kus', 'égalité', 'kuffner', 's&t', 'cormorants', 'honved', 'tabs', 'azes', 'reinstating', 'batra', 'musical/comedy', 'subzones', 'vocals/guitar', 'watford', 'te', 'yokneam', 'smokescreens', 'elchingen', 'barreras', 'cobey', 'bomet', 'acid', '504th', '549th', 'skaneateles', 'liiga', 'lemelin', 'taddei', 'myrtleford', 'latinoamérica', 'cholamandalam', 'papua', 'exterminators', 'princen', 'echolls', 'saratoga', 'intervision', '6,433', 'celibate', 'tinkertoy', 'achmat', 'vimeiro', 'gibbings', 'pontifices', 'hazelton', 'birzeit', 'kingsale', 'lenicov', 'visa-free', 'isaza', '72.35', 'avenge', '1,229', 'behcet', 'trippin', 'grapevines', 'dagbon', 'markson', 'što', 'saut', 'rasina', 'barrault', 'undershaft', '0.0005', 'lutefisk', 'rudboneh', 'al-sheikh', 'agbani', 'bmus', 'non-indians', 'mcnown', 'munhoz', 'lmwh', 'ironport', 'dedman', 'cervenka', 'kamei', 'yil', 'whether', 'klepac', 'confucian', 'kurtter', 'wampanoags', 'sigfusson', 'bundesstraße', 'vilankulo', 'ranganatha', 'warszawie', 'danos', 'zavagnin', 'neelmani', 'dunlevy', 'esme', 'lumpy', '173.7', 'lignano', 'kusadasi', 'vinicio', 'sarault', 'lion-like', 'kandalaksha', 'renaudin', 'kikuta', '¥', 'fossati', 'monoids', 'tumbuka', 'devel', 'darigan', '56-foot', 'parasitica', 'prokaryotic', 'intertwining', 'rbb', 'h.hawkins', 'osoria', 'fady', 'moveset', 'hathway', 'non-carbohydrate', 'sha-256', 'matteucci', 'taillon', 'maclaurin', 'melgares', 'clayey', 'zomer', 'kuntal', '10:16', 'dysphoria', 'allwood', '494th', 'chāh', 'personalisation', 'mcvie', 'curwood', '同中書門下平章事', 'acknowledging', 'droid', 'linthicum', '.593', 'mume', 'aparri', '62', 'gowen', '63-64', 'hunchback', 'sman', 'verrilli', 'windup', 'thoenes', 'unenriched', 'clerical', 'hernych', 'onay', 'mobarez', 'triathlon', 'olazábal', 'nearctic', 'tartufo', '74.65', 'saleslady', 'sinti', 'tfl', 'verbalizing', 'boško', 'satanta', '2-10-2', \"o'grady\", '36.24', '1915-16', 'balcon', 'hybridoma', 'easiest', '70-kilometre', 'ledo', 'labbe', 'agrarianism', 'banská', 'acpe', 'teargassed', 'kahak', 'unhindered', '51sec', 'zestful', 'mising', 'allied', 'lap', 'shmidt', 'all-rounder', 'rigid-hulled', 'harle', 'phosphatidylethanolamine', 'corts', 'invision', 'retour', 'mccreadie', 'gattis', 'agathias', 'center-right', 'połczyn-zdrój', 'baljeet', 'polymerized', '28000', 'atheer', 'voeller', 'baco', 'luboš', 'cowslip', '101.25', 'joinville', 'imperioli', 'çine', 'chovav', 'iju', '56,500', 'contraction', 'walderslade', '.506', 'llynfi', 'amalia', '3:40', 'cichero', 'patrizi', 'avineri', 'tolon', 'güell', 'vissing', 'braida', 'rebrand', 'bumpus', 'mannitol', 'premonitions', 'ravelli', 'nabonidus', 'sforza', 'hempton', 'miccosukee', '1933-1934', 'thixotropic', 'daji', 'rapiscan', 'punctuations', 'beaurepaire', 'wadood', 'acha', 'rajcevic', 'jocara', 'burgomaster', 'marginalizing', 'p.d.q.', '113.28', 'hapa', 'hellwig', 'cockett', 'ant-like', 'instinctively', 'blasphemies', 'harbours', 'fluviatile', 'fuhz', 'hermon', 'takasago', 'rosslare', 'well-to-do', 'web-only', '3/7', 'amputation', '80-yard', 'haselbach', 'kurniawan', 'tatsunami', 'shaffer', 'shaarei', 'dopaminergic', 'arbs', 'nield', 'split', 'transaction', 'sendirian', 'grantley', 'btrc', 'macedonica', 'physiologie', 'vansittart', 'blockbusting', 'moisten', 'kojo', 'cieszyn', '4,590', '18-bit', 'auxentius', '7-billion', 'chipaya', 'soo', 'luffing', 'villeroi', '22-story', 'retin', '301.5', 'engels', 'wcia', 'path-breaking', 'lugano', 'braxton', 'vanderjagt', 'mejorar', 'stroh', 'increibles', 'verstegen', 'calaio', 'hum', 'msi', 'bulohawo', 'gavrila', 'garthe', 'tirza', 'gigaba', 'stashes', 'chans', 'sarā', 'rhythms', 'kello', 'scalper', 'katsuaki', 'harcharan', 'huger', 'year-old', 'mccarten', '1/3-inch', 'zrebiec', 'loco', '57.62', 'ventres', 'imbabura', 'smartcard', 'viramgam', 'honorees', 'merchantville', 'cni', 'mustapha', 'rudnica', 'tem', 'bar-b-que', 'red-crowned', 'luzula', \"o'neills\", 'walkmen', 'chantaburi', 'venusta', 'threeboot', 'freiberg', 'qteishat', 'relished', 'air-defence', 'käthe', 'mikalai', 'leuba', 'plagioclase', 'kunert', 'mucia', 'bewitched', 'flatterers', 'đằng', 'kahekili', 'bandannas', 'ashita', 'spruance', 'trnovac', 'triaenops', 'hilgert', 'ematheudes', 'wnu', 'foula', 'khosrov', 'tacen', 'commending', 'farnell', 'mujahideens', 'thyroids', 'amini', 'corresponded', 'sutera', 'csj', 'sabti', 'haeberlin', 'taccone', 'strongbow', 'hu', 'serialized', 'battalion-sized', 'wlan', 'pancholi', 'invited', 'peu', 'stedeford', 'inderfurth', 'kvamme', 'cjackson', 'semerenko', 'nowhere', 'saurer', '1,548', '5-orthoplex', 'stoa', 'ewca', 'fu', 'wetumka', 'vinayagamoorthi', 'leod', '15-degree', 'rewrite', 'ingabire', 'amha', 'ten', 'overlapping', 'mid-southern', '6:42', 'gre', 'wanchese', 'atex', 'tko', '145.00', 'prohibition-era', 'careered', '104.86', '1976-1981', 'vetch', '8.00', 'onoe', 'unparliamentary', 'wateringbury', 'ricord', '93.21', 'louche', 'rajeswari', 'jelka', 'samphire', 'darker-skinned', 'teleports', 'ginyard', 'mihd', 'rhps', '2165', 'theobalds', '9x19mm', 'viraj', 'monohulls', 'aleixandre', '583', 'millipede', 'agracetus', 'stonecipher', '18.56', '61-61', 'mitsotakis', 'posh', 'lawe', 'schelklingen', '2104', 'panne', 'well-worn', 'aabenraa', 'copti', 'badruddin', 'melanopsin', 'koropeckyj', 'weathervanes', 'turun', 'bastogne', 'yikes', '437,000', 'mujaheddin', 'retroreflector', 'mp5', 'monocultures', 'kampala', '81.80', 'upadhyaya', 'katoh', 'r33', 'starodubtsev', 'bladers', 'narrower', 'paswan', '5-under', 'debehogne', 'shouwen', 'celente', 'molar', 'khachigian', 'krishnapur', 'fiancees', 'back-to-back-to-back', 'peelle', 'recessed', 'maxey', 'mangas', 'lukka', 'underused', 'kocks', 'obb', 'majolica', 'quadrille', 'meyocks', '128k', 'homeyl', 'riek', 'goregaon', '485,000', 'się', 'inanda', 'haneke', 'taslam', 'brette', 'areena', 'tajudeen', 'pappano', 'loida', 'olcott', 'fyoo', 'ricefields', 'makaya', 'cecília', 'cloude', 'rifle', 'wallen', 'bens', 'aretino', 'goldeyes', 'leches', 'montreat', 'kerbs', 'hyper-v', 'berk', 'ipai', 'rothenberger', 'altanmia', '3.2-billion', 'traviesa', 'dykman', 'allophony', '79.53', 'aitken', 'conceding', '88.54', '2,399', 'primetime', 'elbaum', 'dilwale', '158.2', 'shaanan', 'trampy', 'overinvestment', '25.33', 'firstman', 'iruvar', 'erotic', 'ffl', 'briquette', 'tirlea', 'rafaqat', 'appetizing', 'marienborg', 'boa', '28.71', 'zwolle', 'najja', '16-pound', 'pleszew', 'cyfarthfa', 'heinecke', 'employ', '714,000', 'bellator', 'oxidiser', 'centura', 'bogeymen', 'choctaw', '4.9-billion', 'bazalgette', 'prashad', '59sec', 'truax', 'belives', 'mellows', 'newsmedia', '28.51', 'flotilla', 'agami', 'seniloli', 'constipation', 'starlin', 'aiph', 'ellroy', 'minga', 'midsentence', 'patron-client', '222.2', 'melham', 'lubricate', 'mokhtar', 'evisceration', 'pasupathy', 'tranzalpine', 'sub-type', 'misaligned', 'rushes', 'abdullaev', 'alpacas', 'slappy', 'fierlinger', 're-arranged', 'ragona', 'cioroianu', 'guanxi', '124.80', 'munching', 'sarshiv', 'zamindar', 'jurikova', 'semi-annual', '76.04', 'precooked', '7.94', 'vajrayana', 'swinomish', '2.3-million', 'pathogens', 'backfires', 'aneirin', '210-mile', 'kaddoumi', 'rawiri', '32-19', '9th-12th', 'angham', 'stoudt', 'embellishing', 'holistically', 'vi', 'mawampanga', 'maekyung', '11.66', 'osteogenesis', 'inkjet', 'getty', 'k-line', 'pipilotti', 'bogota', 'residuum', '57.5', 'dunoon', 'qabatiyeh', 'offri', 'fete', 'euro52', 'jüdischen', 'myer', 'ramstad', 'josel', 'keret', 'well-funded', 'najafabadi', 'backsides', 'dinelli', '334.7', 'nordhaus', 'phlogopite', 'brevard', 'acop', 'sankaracharya', '1:25', 'calloused', 'harmison', 'trainz', '12,000-foot', 'adaptec', 'morceau', 'pinang', 'comorbidities', 'leadership', 'musitelli', 'coppersmith', 'daniela', 'icelandair', 'configurable', 'barseback', 'ranong', 'hidari', 'valdemoro', 'krebsbach', '2.405', 'robustum', 'knoepffler', '46-12', 'beavan', '.79', '10,001', 'queries', 'atraco', 'physico-chemical', 'bordercross', 'makomanai', 'arsallah', 'ichthyosaurs', 'impacted', 'lymphocyte', 'mpigi', 'hagara', 'mamedov', 'christian', '2nds', 'addy', 'chuichi', 'peulvast', 'metromedia', 'carmo', 'riddel', 'spraining', 'cercospora', 'jorien', ':26', 'unwto', '93.09', 'mid-1991', '36.31', '1,855', 'clow', 'ladainian', 'parathion', 'winebrenner', 'moul', 'hundredfold', 'moskvy', 'stollsteimer', 'kabamba', '201-217', 'undisrupted', 'kiai', 'kutná', 'wagnerian', 'breidling', 'amanatidis', 'chlamydophila', 'ouaer', 'zingmagazine', 'bjorling', 'cyrill', 'digby', '106.92', 'depoe', 'dowds', 'ctu', 'broads', 'self-consistent', 'yerevan', 'realizado', 'oia', 'staffeln', 'losev', 'fanhouse', 'tinkle', 'iztaccíhuatl', 'henge', 'dorrego', 'arbeiderbladet', 'grealy', 'gäu', '3,087', 'nohs', 'mlecchas', 'wiu', 'ology', 'mazdoor', 'habanero', 'mazloum', '1947-1951', 'babies', 'bablu', 'nehemiah', 'hayabusa', 'marclay', 'dexin', \"isma'ili\", 'sillimanite', 'rosenergoatom', 'basecamp', '376.5', 'skehf', 'supermarkets', 'constituencies', 'snowshoers', 'perché', 'chalukyas', 'osaka', 'ags', 'ites', 'recesses', 'non-emergency', 'chalayan', 'jurys', 'nhspatot', 'ussba', 'playlisted', 'choteau', 'quinquennial', 'spritely', 'compiles', 'zohs', 'monsen', 'avadh', 'waititi', '12-monthly', 'type-in', 'bruix', 'théo', 'ball-handling', 'našice', 'tapai', '(352)', '24-3', 'babysit', 'rousers', 'one-eleven', 'stretches', 'bompas', '80.6', 'roloff', 'danba', 'ministery', 'gils', '126', 'chivero', 'santu', 'caecum', 'thed', 'tour', 'candis', 'mirandese', 't-lymphocytes', 'deforms', 'ferriola', 'satchidananda', 'baradari', 'plugboard', 'tanskaya', 'omnitrix', 'spurgeon', 'atlantik', 'organoleptic', 'pondoland', 'robots', 'berrocal', '3,127', 'utopian', 'boundy', 'linux-based', 'amcor', 'woodford', 'jumel', 'emsie', 'hawkhurst', 'dunivant', 'week', 'peddie', 'goffredo', 'antidrug', 'tmac', 'gastronomique', 'morgantina', '87-minute', 'matapédia', 'schepen', 'kreiger', 'mulyono', 'frimpong', 'kember', '94-79', 'rodríguez-lópez', 'shilo', 'megabuck', 'fourth-ranked', 'migrant', 'riv', 'stonner', 'bucherer', 'talus', 'frayne', '109.13', 'uncertainly', '8.76', 'blackfire', 'phn', 'afzali', 'rodas', '2302', 'fedesarrollo', 't-64', 'h7n3', 'truby', 'lemond', 'habbash', 'epe', '31.05', 'geritol', 'orchestrate', 'theol', 'physical', 'yuriorkis', 'bazelon', 'burge', 'furious', 'politbureau', 'baltimore-based', 'yongbyon', 'delphis', 'lāčplēsis', 'kiechel', '28,400', 'sugarcubes', 'oyez', 'isonomy', 'bayport', 'accio', 'howa', 'donana', 'quli', 'sital', 'dostana', 'fillipo', 'nectar', 'tusharas', 'sevket', '1:39', 'fangshi', 'kadim', 'proses', 'four-momentum', 'folles', 'rehabilitations', 'aghlabids', 'battlefields', 'skeleton', 'anglian', '1,202', 'reliquaries', 'angastiniotis', 'downsizers', 'nikoli', 'glenmorangie', 'duhl', 'mollayev', 'gunz', 'chollet', 'i-97', 'kangxi', 'vågå', '1245gmt', '205.6', 'silius', 'kandra', 'hspa', 'ravni', 'gaspée', 'wanstead', 'averting', '115-pound', 'einaugler', 'ikle', '19.87', 'gubernia', '3,296', 'self-regulating', 'bernarr', 'kamien', 'basque', 'backe', 'rollergirl', 'metrahealth', 'isotopic', 'blowups', 'rataje', 'siedlecki', 'tonkunst', 'rupturing', '67.00', 'nongshim', 'neoformans', '3-3-2', 'metrolink', 'intercessions', '193.6', 'genos', '44s', 'winker', '11:19', 'ktvi', 'tapit', 'gruesa', '4:51', 'crura', 'manifests', 'data-intensive', '1.82', '80.17', 'muhith', '92.34', '120kg', 'bittium', 'insurgents', 'rampersad', 'tean', 'inflammations', 'anki', '35a', 'cacciari', '86.9', 'busting', 'sleiman', 'varmus', 'fraker', 'gromit', 'escrivá', 'loup', 'northwind', 'concentration', 'battlefield', 'dtn', 'gulberg', '97-mile', '91-85', 'boynton', 'dirhams', 'outracing', 'rubbra', 'meisters', 'promethea', 'sagittal', 'malevolence', 'handyside', 'limina', 'solorzano', 'sadd', 'utaybi', 'cowen', 'non-constant', 'g40', 'soederberg', 'svealand', '90.74', 'thiene', 'górny', '1968-70', 'elac', 'seydoux', 'chapela', 'schourek', 'nitsch', 'hat', '16o', 'gossypium', 'zacisze', 'sankey', 'preclude', 'nucleocapsid', 'stumbled', 'odoratum', 'spot', 'porfirio', 'codewords', 'coalpit', 'businesman', 'ceto', 'uniaxial', 'equilibration', 'black-faced', 'traceur', 'homestretch', 'reitman', 'recyclables', 'pederson', 'uncowed', 'tuluva', '1497', 'fabri', 'buggy', 'bookkeeper', '110.02', 'pius', 'kwansei', 'zhixue', 'complaint', 'uthen', 'longleat', 'oyugi', 'licencia', 'elber', 'sametime', 'kaser', ':13', 'finike', 'utva', 'schultes', 'mcspaden', 'alzette', 'heney', 'faiz', 'formula_82', 'adalbero', 'opporunity', 'cotillion', 'diversity', 'fajã', 'raanana', 'amgen', 'zuse', 'bergensbanen', 'moshannon', 'drips', 'spoilsports', 'chansen', 'cavaco', 'glilot', 'overenthusiastic', 'dudinka', 'retardation', 'yasuyuki', 'orono', 'sterndale', 'trewhella', 'bedposts', 'off-the-air', 'lastovo', 'watashi', 'trivializing', 'mithras', '5-ton', 'kintz', 'elegante', 'lacewing', 'ryusei', 'vreme', 'fraunhofer', 'sowed', 'team-record', 'streete', 'oysterband', 'ailene', 'chandris', 'valjala', '15.48', 'abit', 'hiltachk', '101.34', 'in-kind', 'morosini', 'entombing', 'euro44', '1998-2001', 'malaparte', 'backhanded', 'daohugou', 'helot', '79.85', 'roulers', 'uncontainable', 'anthia', 'sods', 'nóg', 'vnukovo', '77.47', 'pellagra', 'mtops', 'porterage', 'azwar', 'jubba', 'encompasses', 'cross-reference', 'patos', 'passivation', 'treasury', 'brassed', 'power-plant', 'daynard', 'frontend', 'berrian', 'nides', 'ledwaba', 'mckissick', 'index.cfm', 'amylase', '100-year', 'finnish-language', 'foiled', 'cloutier', 'consulation', 'youki', '8.2768', 'keegstra', 'administraton', 'bierzwnik', 'sauria', 'cheminade', 'surveillante', 'heart-broken', 'rawalakot', 'restate', 's-4', 'hellion', 'slab', 'suchlicki', '64-page', 'riall', 'pulsation', 'crespi', 'long-necked', 'skullcaps', 'especialistas', 'candan', '11-24', 'modernistic', 'caap', 'hobeika', 'labore', 'bulgakov', 'hissy', 'doka', 'mikki', 'intelect', '13.20', 'settings', 'defacements', 'variate', 'solaire', 'ryoji', 'shallower', '62-57', 'finisterre', 'gynecological', 'maurin', 'tydeus', 'zewde', 'argumentation', 'cinergi', 'bushan', 'puea', 'kofoed', 'sanin', 'cloves', '55.93', 'zhōngguó', 'priscu', 'goliat', 'pursglove', 'groomsman', 'deems', 'ultra-modern', 'hemis', 'pruritus', 'condones', '100-91', 'vele', 'eisenheim', 'd21', 'bournville', '2.3-mile', 'jaywick', 'primorje-gorski', 'aquathlon', 'newsroom', 'aapp', '40.59', 'hypocrisy', 'wittaya', 'atypically', 'marienfeld', 'galatzan', 'balladur', 'dm', 'co-inventor', 'leanne', 'ludovisi', '12b', 'outaouais', 'pickup16thgraf', 'mid-day', 'sobha', 'ambohimanga', 'witmark', 'bloodsuckers', 'plumm', 'norwegian-american', 'macwilliams', 'otan', '4-11', 'anti-semitism', '46.73', 'balvenie', '17sec', 'tiersen', 'medemblik', 'ritziest', 'baburova', 'sobin', 'donnas', 'roundhouses', 'covance', 'venustus', '3-36', 'osuga', 'schaan', 'fdisk', 'vicentino', '51-40', 'staro', 'musnad', 'privatise', 'carcosa', 'spiciest', 'clapp', 'fdis', 'millan', 'machen', 'kdp', 'warelwast', 'unique', '26,000-member', 'bachus', \"d'aran\", 'jankowice', 'contrarian', '39.71', 'zhidan', 'prean', 'friendless', 'waistbands', 'reinforce', '5:55', 'tombola', 'rastogi', 'misfeasance', 'pre-synaptic', 'baharestan', 'prescod', 'g-dragon', 'maternity', '5,000.00', 'garre', 'zafaryab', '4.6-billion', 'shuangshuang', '54.86', 'fonteyn', 'socialism', 'arbeiter-zeitung', 'takai', 'underpinnings', 'sala', 'taraba', 'tenders', 'taiheiyo', 'synapse', 'lowrance', 'saldus', 'tentacles', 'coda', 'watchmaking', 'clydeside', 'aure', 'ypenburg', 'baselitz', 'livet', '+.25', 'cashwell', 'klein', 'bill.goodykoontz', 'hibbertia', '(525)', 'pineau', 'gbf', 'kacar', 'soteriology', 'adrenal', 'gilbertine', 'nasib', 'lagueux', 'raffarin', 'apostleship', 'lilburn', '74-day', 'augustenborg', 'kinberg', 'methot', 'snarkiness', 'draycott', 'submodule', '82-67', '42-count', 'volt', 'leeves', 'tarabay', 'weissensteiner', 'geste', 'judge', 'proliferating', 'allomorphs', 'gph03', 'shitai', 'sattana', 'harbouring', '3-103', 'sullins', 'wrede', 'vögele', 'perca', 'hip-o', 'salis', 'dsb', 'sittler', 'zahovic', 'watsonia', 'barani', 'khattar', 'sortland', 'transitioned', 'nicene', '1.5395', 'non-mandatory', 'rededicate', 'al-maqrizi', 'woodhams', 'docomo', '8,625', 'lundh', 'trachsel', 'fianc?e', 'worli', 'treiber', 'mehtab', 'ganso', 'vio', 'duchenne', 'domicile', '38-run', 'fol', 'matthijs', 'cassia', 'bda', 'epstein-barr', 'uhud', 'flake', 'picus', 'tolerably', 'preux', 'bloomberg.com', 'interaction', 'kendallville', 'richelson', 'sharma', 'özel', 'constructivism', 'sneider', 'hotas', \"d'investissement\", '163rd', '600-person', 'cuvée', 'stoneking', 'chuh', 'fuchi', 'effenberg', 'patent-pending', 'abil', 'amusingly', 'metagenomic', 'eckankar', 'váhom', 'alledged', 'pyrokinetic', 'karbouly', 'polarizes', 'depravity', 'iinet', 'magayon', 'nadezhdin', 'coldly', 'spellcasting', 'bio-medical', 'shooed', 'mechai', 'bulatovic', 'tofo', 'penthesilea', 'ilab', 'inflanty', 'formula_14', 'commonwealths', 'brehme', 'crisford', 'challa', 'eisleben', 'inactivating', '43-foot', '83-79', 'batirov', 'mustin', 'griffud', 'uts', 'maningrida', 'shee', 'embeddable', 'panafieu', 'saariaho', 'harihara', 'huapan', 'djo', 'jankovic', 'chequer', 'gooz', 'palmers', 'payn', 'puggy', 'moncloa', 'szulik', 'starlights', 'antara', 'technico', 'centipedes', 'hoeve', 'steaks', 'kmm', 'tiko', 'oib', 'strasburg', 'rotte', 'lrta', 'chlumsky', 'tetrarchy', 'hirshman', 'alypius', 'eastfield', 'samwell', 'tyndall', 'garel', 'berberis', 'dimensional', 'sarahi', 'nezhats', 'frutig', 'firstenergy', 'deliberated', 'off-street', 'offhanded', 'hamada', 'nuffield', 'of-10', 'groans', 'kempt', 'manos', 'carabanchel', 'leonidovich', 'navarrette', 'atj', 'barcelos', 'sinsuwong', 'vygaudas', 'reisterstown', 'paragliders', 'landser', 'crystallizes', '4:40', 'shparo', 'banger', 'long-held', 'foliot', 'colorado', 'jasmina', 'rodi', 'pugach', 'outplaying', 'gadret', 'capalla', 'optimizers', 'nandina', 'flirt', 'filippi', '3,904', 'accidentals', 'aloft', 'fussbudget', 'pantalone', 'fradd', 'conductus', 'artyukhin', 'mockery', 'respectably', 'maccoll', 'davoli', 'stamped', 'prenuptial', 'lamphu', 'snaked', 'dairyland', '.227', 'keyspan', 'ryskind', 'belgian', 'amalgamating', 'turntable', 'rüstem', 'heinig', 'autobytel', 'coronial', '1-5', 'kalu', 'merin', 'pyrosequencing', 'unabomer', 'copaxone', 'kahuzi', 'bracingly', 'eukaryotes', 'ginossar', 'kokkai', 'mehrzad', 'employments', 'olympian', '45.05', 'kayalar', 'mattituck', 'chalukya', 'sud-est', 'vigenère', 'driveability', 'en-masse', '77.18', 'conjecture', 'koscheck', 'macys.com', 'datis', 'guergis', 'workflows', 'mdc-t', 'bowhead', '102.85', 'liminality', 'confusingly', 'dhawan', 'webre', 'nafziger', 'savigny', '.000435', 'hindrances', 'aerated', 'telcor', 'zorreguieta', 'owain', 'manfredy', 'bas', 'multi-agent', 'jurijs', 'rohwer', 'psychotherapist', 'ballagh', 'filmfour', 'assisting', 'pickling', 'sair', 'neo-romanticism', '99.42', '40-50', 'qalandia', 'angre', 'cremi', '224.00', 'verneuil', 'gs', 'qadiriyyah', 'sacchi', 'pastorale', 'confessors', 'lavelanet', 'briefer', '76.89', 'welterweight', 'octomom', 'ssg', 'self-referential', 'karamanli', 'cheerwine', 'hybridizing', 'honors', 'metastability', 'insights', 'camaraderie', 'skrall', 'organza', 'borra', 'darthard', 'encyclopædia', 'skunkworks', 'overblown', 'saiko', 'antonieta', 'recombining', 'stapleton@pbpost.com', 'furrowing', 'mitic', 'khezel', 'wyandotte', 'all-moving', 'xander', 'ghostwriters', 'gulbuddin', 'bocconi', 'día', 'km', 'ferenc', 'heathenry', 'huna', 'garrigou', 'ksp', 'slower', 'heanor', 'iannetta', 'thessaloniki', 'tchuruk', 'feira', '1769', 'bodybuilder', 'overstimulate', 'cattleya', 'jonquière', 'mpe', 'woodcarvers', 'screenwriting', 'onewest', 'pensive', '442nd', 'kindelán', 'mangin', 'kellar', '63,000', 'hoeyer', 'greyfield', 'qj', 'maurtua', 'l.a.-based', 'formula_157', 'kleeberger', 'bassons', 'karasahr', 'wayte', 'parseval', 'camphor', 'prgf', 'fornos', '330-200', '2.2-million', 'puster', 'hdu', '22m', 'boudinot', 'fataar', 'inaudible', 'pillaiyar', 'cmpa', 'booty', 'nyamoya', 'francheville', '1,834', '386.00', 'oxtails', 'bogdanova', 'westfjords', 'painlevé', 'echolocation', 'kerala', 'auricles', 'mesostigmata', 'matayoshi', 'bandag', 'incumbents', 'ostrow', 'komor', 'gasperini', 'aktiebolaget', '20.05', 'mustachioed', 'fin-de-siècle', 'krausse', 'pausch', 'wrightsil', 'chirp', 'perum', 'millerand', 'aspirational', 'procuring', 'shafiqul', 'kokubunji', 'carella', 'shoves', 'böcker', 'bi-metallic', 'frizell', 'livistona', 'emraan', 'astray', 'tenancy', 'clari', 'ramadasu', 'guye', 'stippling', 'bakwena', 'speaking', 'mamut', '36.16', '3,846', 'palos', 'propped', 'repowered', 'burst', 'ogled', 'hattin', '18.61', 'nanterre', 'awwad', 'spills', 'nepad', 'ollantaytambo', 'nau', 'contenido', 'slovacko', 'creuse', 'henningfield', 'coverciano', 'boredom', 'momoi', 'rakić', 'schueler', 'ombudsmen', 'ponton', 'spyplane', 'meshoe', 'quebecer', 'dassault', 'enyimba', 'weisswurst', 'cottrill', 'ragusan', 'panter', 'franklin-nashville', 'quin', 'dimera', 'mouni', 'nebojša', 'itns', \"be'er\", '4-part', '72.90', 'hakkies', 'naboth', 'ogbonna', 'howl', 'starets', 'flanary', 'accountable', 'combivir', 'estonia', 'julani', 'anfield', 'amide', 'visits', 'ajavon', 'reprimand', 'szűcs', '3,001', 'barney', 'flexity', '2,109', 'tounsi', 'subways', 'najah', 'forchion', 'proops', 'gardephe', 'cyanotype', 'akb48', 'emina', 'depressurize', 'pastorates', 'suksomkit', 'majadele', 'ovingdean', 'burundian', 'annotated', '67.6', 'fengji', 'unpredictably', 'all-age', 'vaccination', 'feilong', 'laeisz', '8-year-old', 'piercefield', 'nytimes.com', 'mironov', 'trinket', 'german-italian', 'lage', 'eulogised', '2:47', 'fle', 'anceps', 'schnapper', '10:48', '4.3-kilometer', 'fal', 'ploshchad', 'dotti', 'horen', 'sommes', '42,000-square', '1:8', 'nicko', '094', 'abdelaziz', 'sapin', 'khawazakhela', 'sixty-second', '846', 'iasb', 'tarigan', 'biocatalysis', 'pingtung', '98.93', 'encirclements', 'meitner', 'strobing', 'dazzlers', 'vračar', 'jimmie', 'reade', 'taslima', 'connes', 'oberdorf', 'violone', '64.11', 'remunerative', 'usdot', 'zirve', 'mctavish', 'dyleski', '4,215', '1.4790', 'umaña', 'dessel', 'microchip', 'yturri', 'idora', '3-km', 'cadmium', 'thakkar', '47.28', 'uros', '0.34', 'elsevier', 'sallied', 'hyperparathyroidism', 'jelacic', 'bantariza', 'dnestr', 'graupner', 'kroc', 'nyg', 'camie', 'i.t', 'standardbred', 'fenzl', 'truckmakers', '1.477', 'untrammeled', 'mussar', 'correns', '98.54', 'woerth', 'mathrubhumi', 'holta', 'maltz', 'codfish', 'wqam', '.81', 'flyrod', '1,016', 'zaid', 'smedley', 'katasila', 'erim', 'hongkou', 'winthrop', 'keros', 'incremento', 'bajofondo', 'tongass', 'britsch', 'cartography', 'jenna', 'mulberries', 'obstructing', 'packham', '1.4250', 'tde', 'suicidality', 'cissbury', 'twardowski', 'varanger', 'authentics', 'workpiece', 'alagich', '1951-1952', 'concurs', 'geetanjali', 'google.com.hk', 'c-1', 'parasitically', 'gaa', 'p.b.', 'aiding', '10million', 'righteous', 'haslett', 'mahdia', 'mallarme', 'parvathi', 'reinterpreting', 'seller', 'itec', 'gray', '3,567', 'hurston', 'ellenville', 'katoch', 'malgorzata', 'tilbury', 'frenemy', 'meltingly', 'dovi', 'joz', 'homeport', 'phagocyte', 'heriawan', 'strophes', '34.09', 'gouty', 'breathlessness', '42.18', 'sukharev', 'minidv', '35.31', 'apparantly', 'bivariate', 'carcassonne', 'ediacaran', 'aeronca', 'muttawa', 'mcmackin', 'oft-used', '75.83', '74.77', 'weld', 'krasnodon', 'tlongdetnews.com', 'advowsons', 'khloé', '100,000-square', 'suai', '60-foot', 'condren', 'joannes', 'qanuni', 'spokeman', 'kulwicki', '43.38', 'partisanship', 'fisgard', '10th', 'fetal', 'decreasingly', 'jalan', 'yudong', '2.2-mile', '80-90', 'oryem', 'cvvm', 'judiciaries', 'aspersions', 'glandular', '1,200-strong', 'maues', 'sholing', '39.64', 'divisione', 'orionis', 'munsinger', 'macabre', 'lapoint', 'tuitupou', 'lic', 'tansy', 'ssfl', 'logsdon', 'clear-cut', 'denounced', 'kolahun', 'red-brown', 'congregate', 'handsaw', 'sus', 'dreamlife', 'mo04', 'sfb', 'odsal', 'kostelanetz', 'peguis', 'idit', 'tecno', 'ancsa', 'shopped', 'pimsleur', 'christian-themed', 'till', 'snowy', 'ak-74', '68.54', 'money-saving', 'imedi', 'hiri', 'undergo', 'argost', 'juventus', 'tangdar', 'adami', 'mrtt', 'chinnock', 'volcanology', 'chebii', 'burwell', 'irgens', 'lionhead', 'fmf', 'laia', 'always', 'cadre', 'broflovski', 'princeps', 'passwords', 'tademy', 'petal-like', 'peigan', 'marianna', '.109', 'commercio', 'seishirō', 'idec', 'oustide', ':1', 'taught', 'singletons', 'taverham', 'temiskaming', 'vernie', 'chlamydomonas', 'oltu', 'strovilia', 'pulped', 'afflerbach', 'pro-pain', 'gavino', 'fairbanks-morse', 'toneless', 'clausing', 'fauns', 'religious-themed', 'yajima', 'gowans', 'trautman', 'channareth', '5.57', 'omanthai', 'khatami', 'hannam', 'perrachon', 'lacierda', 'beuthen', 'konsthall', 'archytas', 'kingpin', 'go-betweens', 'griquas', 'fithian', 'pueri', 'lageman', 'wookiees', 'jaundiced', '54.96', 'kuusisto', 'gatehouse', 'jacquie', 'contretemps', 'ash-sha', 'regulars', 'epinions.com', 'longstaff', 'iga', 'oksenberg', '1508', 'undramatic', 'buti', 'gardin', 'huntsville-decatur', 'kuleto', 'springs', 'fitger', 'apologize', 'zhaohua', 'yoshitomo', 'kristiania', 'pachanga', 'lamé', 'komsomolsk', 'stonerside', '3in', 'sivert', 'thessalians', 'hallinan', 'krinsky', 'antiphonal', 'khagen', 'sweetgrass', 'hobe', 'coroutines', 'pay-per-views', 'kouakou', 'epinotia', 'amari', '.446', 'bookending', 'tortillas', 'secondly', 'davy', 'molefe', 'chickened', 'går', 'frogtown', 'linear', 'eigene', 'galija', 'céleste', 'habsi', 'graptolites', 'chittur', 'jemal', 'gousmi', 'arcing', 'lutung', 'kalix', 'ditch', 'sgarbi', 'agrell', '110.47', '3:08', 'carcinoid', 'horrevoets', 'maroubra', 'esterified', 'neuve', 'attentat', 'harriss', 'mintel', 'divorcees', 'tetsu', 'hagen', 'dup', 'form', 'elz', 'samoothiri', 'doni', 'veitch', 'gleizes', 'noticia', 'leeds/bradford', 'calculus', 'ferdynand', 'david.wood', 'contemporanea', 'drove', 'topolino', 'simak', 'sarafand', 'long-sleeved', 'croque', 'tobermory', '1-forms', 'esau', 'panelling', 'böttcher', 'autotune', 'musee', 'gjata', 'wuhai', 'sarafpour', '22.04', 'kampa', 'jayla', 'lwow', 'time-division', '2,496', 'polymathic', 'turbostar', 'trickled', 'blackmail', 'ressano', '35.33', 'moradabad', 'langhans', 'berlet', 'jreyes', 'harperpaperbacks', 'koppikar', 'larosa', 'sulechów', 'jean-michel', 'exasperatingly', 'rwigema', 'exordium', 'jiangying', '(215)', '178.00', 'postproduction', 'inventors', 'collodion', 'carrascalao', 'nordics', 'melodie', 'anti', 'writer/producer', 'tenner', '1221', 'sappington', 'much-used', '1724', 'plain-clothes', 'actavis', '91-77', 'moolah', 'paratime', 'tfb', 'eilperin', 'gulai', 'neverhood', 'mnas', 'dabholkar', 'cafayate', 'slammiversary', 'glower', '73.75', 'empiric', 'greenwash', 'hereinafter', 'brooded', 'candymakers', 'sarducci', 'mishel', '14.62', 'limpias', 'al-durrah', 'thinnes', 'meep', '.569', 'astigarraga', 'gyalwang', 'clyfford', 'noyd', 'cprs', 'kurma', '56.06', 'dragsters', 'modification', 'koeln', 'chignons', 'enkhsaikhan', 'jeannin', 'chorales', '188.9', '119.17', 'bpel', 'kalayaan', 'al-hurr', 'maerad', 'tecbud', 'iacon', 'buring', 'nhema', 'freemason', 'warrior', 'sulphide', '196.5', 'monody', 'corrington', 'izvolsky', 'receptus', 'pria', 'steege', 'norsemen', 'civilly', 'denaturalization', 'brunache', 'batting', 'percents', 'cxb', 'synthesise', 'chainat', 'orogenies', 'carmaking', 'yayah', 'polycarp', 'anti-judaism', 'landmansptimes.com', 'leconfield', 'desarrollo', 'phantasmagoric', 'tejaswini', 'bonilla', 'hennessee', 'freeze-thaw', 'sandon', '1,917', 'spurrier', 'colombe', 'volksbank', 'xxxxxxx', 'ravaging', 'cámpora', 'alderaan', 'coláiste', '3,103', 'neftegorsk', 'colten', 'corporacion', '1540s', 'bovio', 'edalji', 'co-executive', '0:39', 'sonnenberg', 'apexes', 'toggle', '1,919', 'pre-socratic', '293.5', 'mammoth', 'fievel', 'non-white', \"l'etang\", 'reddi', 'montoro', 'embarrasing', '212-556-5177', 'ukusa', 'boskoff', 'interfilm', 'whipper', 'tulk', 'red-hot', 'kamardeen', 'taloustutkimus', 'form-based', '73-minute', 'sprig', 'vengo', 'formula_63', '24.50', '40-a', 'mahabir', 'uromed', 'franek', 'adios', 'barikot', 'melisande', '18:13', 'dahab', 'frans', 'minidresses', 'kimmich', 'mouette', 'niculescu', 'kahal', 'zhangke', 'dj/producer', 'paused', 'dansby', 'bashiri', 'pondweed', 'spontaneity', 'olymics', 'channing', '13-storey', 'craning', 'uwfi', 'wildearth', 'mccants', 'chalons', 'hardware-based', 'driving', 'redrawing', 'petrolia', 'equilateral', 'slow-motion', 'walbrook', 'cand.jur', 'off-shoots', 'culiacán', 'dolenjske', 'bomaderry', 'take-home', 'streng', 'storz', 'lamarr', '52.07', 'christ-like', 'operability', 'outnumbers', 'boob', 'diyas', 'noisemaking', 'banksia', 'branimir', 'vertov', 'mujahedin', 'amiina', 'mohtarma', 'marie-françoise', 'solemnised', 'woodworm', 'avigdor', 'shareholders', 'depletions', 'proteinaceous', 'jousts', 'spriggan', 'stalkerazzi', 'wann', '4-cylinder', 'pineios', 'asia/oceania', 'calamitous', \"'cause\", 'rondeli', 'senne', 'mrksic', 'annual', 'liepa', '72.9', 'ignatchenko', 'globe-democrat', 'scalo', 'hurtz', 'minda', 'gascoigne', 'amphiprion', 'ram', 'trofimov', 'vindobona', '9-12', 'yahyaoui', 'galliani', 'enough', 'thirtysomethings', '5.7-billion', 'artux', 'jpn', 'glycine', 'shimba', 'ammann', 'aasm', 'winslet', 'antagonize', 'castanets', 'brauchitsch', 'buesa', '.000663', 'modelling', '.002', 'upemba', 'alliot', 'nireland', 'kardinal', 'ospital', 'hyper-threading', 'sayeda', 'fimat', 'jepkosgei', 'frenchie', 'charlwood', 'lifer', 'hanis', 'quotas', 'memmius', 'ridsdale', 'lyndsay', 'utomo', 'giron', 'mcfarlin', 'scharbauer', 'archaea', 'stored-program', 'kalpoes', 'zher', 'vsepr', 'sendek', 'vandalised', '3,024', 'outerbridge', 'jesic', 'lightwater', 'ratiocination', 'bases_tgoodwin', 'nonconformists', 'halflife', 'munch', 'reveillere', 'karamea', '13-cent', 'bardon', 'syndactyly', 'shihabi', 'arramirez', 'disinterested', 'khufu', '2013/14', 'pleadingly', 'ruderal', '.389', 'soukup', 'kyongsang', 'kannberg', 'aucas', 'nicholaus', \"l'engle\", 'ivanovna', 'yunho', 'cebekhulu', 'sejnowski', 'pfieffer', 'strikeout', 'season', 'bmm', 'magnus', 'isolate', 'dungu', 'veered', 'macaskill', 'majuscule', 'plasa', 'zarkasih', 'incarcerate', 'transnistrian', 'ingredient', '16:15', 'wup', 'llorenç', 'e13', 'hairlike', 'rozsival', 'amongs', 'fendler', '116.3', '122.7', 'leonce', 'trimboli', '0-19', 'bruyneel', 'imoto', 'bogdanovich', 'euro479', 'bleak', ',530', 'hubbe', 'diddy', 'izvoru', '7-of-9', 'pisani', '16/17', 'neologisms', 'przemysl', 'impinge', 'eleftheropoulos', 'highams', 'bensheim', 'npfl', 'watkin', '1148', 'efx', 'garraud', 'abor', '37.23', 'chandika', '6,000-seat', 'zarang', 'biryukov', 'huth', 'e-sahaba', 'marnock', 'krik', 'jumbos', 'tsahi', 'denly', 'tsakhia', 'sadlers', 'forbearance', 'jiji', 'nosenko', '2,134', 'uams', 'infects', 'pulverize', '44.57', '3.3-liter', 'crewel', '6f', 'damodaran', 'cnpp', 'thammavong', 'improvisation', 'conservapedia', 'cargolux', 'delone', 'nyack', 'fujiang', 'marcinkus', 'vacationland', 'seyrig', 'allodynia', '4-acre', 'amiriya', 'magdy', 'altfest', 'deco', 'izembek', 'quatman', 'collazo', 'štip', 'mcmillion', 'stesichorus', 'tauntingly', 'piggies', 'footstools', 'mulwala', 'headly', 'hexcel', 'afcd', 'churov', 'outfitted', 'tranghese', 'lav', 'kharqan', 'ficklin', 'gosford', 'gouldsboro', 'andrada', 'montalban', 'thiet', 'curig', 'helensvale', 'crackerjack', 'simonini', '18:03', 'bhutta', 'onopko', 'rauisuchians', 'bye', 'ornata', 'i-76', 'weinmannia', 'kovalevski', 'pappu', 'amiya', 'r3', 'hexane', 'tbm', 'sangguniang', 'cannonsburg', 'duelled', 'unprejudiced', 'clamour', 'jhum', 'shawms', 'vikarby', 'breakeven', 'agatsuma', 'anglo-italian', 'ithilien', 'ulia', 'athans', 'redway', 'thiery', '1738', '22.9', 'rinauro', 'circumvention', 'eine', 'davood', 'manufacturability', 'apstar', '1930gmt', 'draug', 'industrialize', 'ganguro', 'plenel', 'mishka', 'görtz', 'b16', 'needler', 'drak', 'ludhianvi', 'snapfish', 'xingfang', 'venosus', '61.3', 'coconut', 'dichloride', '52-card', 'europewide', 'thaer', 'segawa', 'brauner', 'lescure', 'downfalls', 'rejected', 'antin', '57-year-old', 'stimme', 'botha', 'mid-2002', 'macmahon', 'wellfleet', 'pex', 'cubical', 'paczkowski', 'phenotypic', 'doomsday', 'icao', 'organizing', 'u2019ll', 'iwabuchi', 'heathen', 'blase', 'aitape', 'l977', '330-metre', 'isocyanates', 'yongning', 'djiboutians', 'demanda', 'pangma', 'shongaloo', 'kipyego', 'koti', 'xinmi', 'bookcases', '31.77', 'dániel', 'kevans', 'avranches', '98-96', 'cff', 'gilort', 'eleimi', 'sbvt', 'ibanez', 'pridnestrovie', 'kuc', 'sinker', 'compote', 'untilled', 'lodgings', 'tranquillo', 'submicroscopic', 'urinate', 'patito', 'dubow', 'leandros', 'kruze', 'shazand', '43-38', 'ressa', '94.06', 'micheel', 'isaragura', 'brehm', 'jaabari', '58.23', 'koun', 'inter-parliamentary', 'magaña', 'arboviruses', 'beckindale', 'schrödinger', 'lionized', 'condolence', 'aws', 'hentemann', 'bodiless', 'borowczak', 'f-35', '82.58', '17.0', 'hillman', 'leutkirch', 'vcf', 'changez', 'tiberius', 'http://www.honda.com', 'taurean', 'malady', 'cowed', 'verdonk', 'wt', 'dilenschneider', 'ottmar', '80.23', 'smallwoods', 'ghiraldini', '200-year-old', 'υ', 'cooey', 'gzip', 'stereophonics', 'kraszewski', 'costi', 'non-playing', 'spaatz', '1.5400', 'mein', 'legitimation', 'hotshots', 'firedamp', 'tansu', '28-year-old', 'guoping', 'boisduval', '0.7-percent', '24.92', 'ḳ', 'foot-long', '26.42', 'moltisanti', 'czarne', 'havasu', 'calibers', 'southernly', 'theologiae', 'prothrombin', '8,500-strong', 'uthai', 'chūnagon', 'tosafists', 'shantaram', 'luza', 'matcher', 'moodiness', 'furl', 'spits', 'almontaser', 'adjustables', 'platas', 'vandersteen', 'hgf', 'v5', 'amboise', 'sadequee', 'rooters', 'theodo', 'nontoxic', 'galeras', 'mascouche', 'operatically', 'nino', 'eest', '187.5', 'leuer', 'connectionless', 'kaiparowits', 'languished', 'bobsledder', 'arose', 'janka', 'hhgregg', 'minstrelsy', 'giugiaro', 'availing', 'fidatov', 'brandied', 'roccaforte', 'cscs', 'liver', 'lauenburg', 'transitions', 'studesville', '120.66', 'udrp', '.636', 'hilter', 'dundy', 'infibulation', 'poona', 'abashiri', 'conspicuously', 'tholen', 'shanghainese', 'polarize', 'nasau', 'soami', 'high-traffic', 'chicka', 'adhami', 'earnestly', 'æthelwulf', 'sheehy', 'handholds', '109-107', 'nzoia', 'isec', 'leelavathi', 'krejci', 'polemon', 'hysterectomies', 'rogation', 'ectoderm', 'nürtingen', 'kimchi', 'usl-2', 'hayreddin', 'fargo', 'lanzhou', 'nahe', 'tussaud', 'theunis', 'elguindi', 'hidenao', '54.75', 'piperidine', 'stingray', 'isaia', 'monaco', 'beppo', 'exalting', 'bosphorous', 'prerov', '60.61', \"'00\", 'abdirashid', 'elshoff', 'democratise', 'nuyts', 'kyambogo', 'plateaus', 'hohnstein', 'darlie', 'tippler', 'hermitages', 'no-budget', 'teknologi', 'foliations', 'umutara', 'grat', 'iliushechkina', 'subscale', 'viro', 'fere', 'pre-emption', 'warbound', 'crudes', 'norroy', 'orzeł', \"d'alençon\", 'cfz', '340', 'cardinal-priest', 'magnar', 'gliese', 'hymnals', 'polarstern', 'sparkman', 'swale', 'shvartsman', 'vasovagal', 'trekking', 'apparant', '26-2', 'jasper', 'reconquista', 'livingsocial', 'waypoints', 'howry', '35-2', 'qizhi', 'favell', 'gingered', 'hap', 'czw', 'double-hung', '326th', 'emotionality', 'schoolyard', 'adriane', 'four-piece', 'saltators', 'functionality', 'iwans', 'abdul-jabbar', 'gualtiero', 'softwaremaker', '610,000', 'gruelle', 'hereunder', 'muthu', 'reşiţa', 'bdeir', 'curiel', 'perma', 'wakeboarding', 'm/m', 'breteche', 'ruskell', 'nepela', 'tecnologia', '120.71', 'lenfest', 'yilin', 'step-grandmother', 'tsuruga', 'xeon', 'oficina', 'nields', 'v.i.', 'huascaran', 'equilibrium', 'jinnan', 'jalozai', '49.74', 'théodore', 'ethem', 'shahrm', 'short-selling', 'land-dwelling', 'yague', 'vouchers', 'defunding', 'playoff', 'enoksen', 'low-wage', 'sauron', 'an/sps', 'scottish-american', 'unachieved', \"d'enfants\", 'contravariant', 'tackett', 'akinbiyi', 'pagdilao', 'ibl', 'yahballaha', 'crashing', 'mq-9', 'gatchinsky', 'nije', 'marshrutkas', 'scale-up', 'swayamvara', 'rodat', 'templestowe', 'construes', 'viena', 'all-transistor', 'clarenbach', 'kazuhiko', 'colour', 'epik', 'pring', 'slipper', 'tabot', 'landfield', 'smelling', 'deflate', 'sedrick', 'chambois', 'chevrolet', 'shigella', 'beamed', 'warbird', 'gapper', 'aberration', 'ruffians', '42-kilometer', 'full-line', 'gorden', 'humour', 'jacquerie', 'prosieben', 'burtnett', 'ichinoseki', 'kepong', 'witchu', 'equitywatch', 'blossomed', 'grocery', 'operasi', 'qingyao', 'foschini', 'kashag', 'tunefulness', 'apollo-soyuz', 'gardermoen', 'pietersburg', 'barauni', 'matheussen', 'feebleness', 'lantigua', 'pyrophosphorylase', 'u-43', 'ottl', '23.64', 'phillies', 'rausseo', 'cyclin', 'jaxson', 'wutv', 'explains', 'subcommission', 'vulcan', 'brigadoon', 'verfaillie', 'tacheles', 'glitterhouse', 'rapid-fire', '.18', 'balkans', 'idiot', 'infliction', '600th', 'claylike', 'verbale', 'heartstrings', '394th', '3,027', 'gustine', 'bashardost', 'countrywide', 'malakand', 'herefords', '78.33', 'megachurches', 'jell-o', '500-billion', 'papain', 'romeoville', 'egnatia', 'sergeevich', 'chlorate', 'peterka', 'wisd', '48-43', 'hatikvah', 'guardias', 'late-victorian', 'irish-language', 'prunty', 'rectors', 'olivencia', 'sts-1', 'abides', 'krevsun', 'angiogenic', 'tekeste', 'guenot', 'schirmacher', 'spikelet', 'sangrur', 'pactolus', '116.57', 'gynaecological', 'sorachi', 'taillight', 'alludes', 'hesser', 'thromde', 'teratogenicity', '100.47', 'pollarded', 'ispl', 'manipulators', 'beovizija', 'originalism', 'fasciculata', 'lordkipanidze', 'pseudoplatanus', 'djogo', 'su-25s', 'credit', 'oscillate', '96.94', '114.75', 'bullfight', 'brima', 'mensa', 'iuss', 'gamze', 'gwageo', '40.4', 'artilleryman', '17.1', 'masa', 'fluffernutter', 'clift', 'offs', 'neuroticism', 'furthered', 'green-light', 'overstate', 'stretchers', 'sansei', 'brogliatti', '3.3-meter', 'stoller', 'pyridinium', 'wallbridge', 'philippine-based', 'regnard', 'radicati', 'polancec', 'savannakhet', '91.45', 'heshko', '21.61', 'burghausen', 'frankl', 'estimations', 'bendera', 'swish', 'zł', 'landgraviate', 'sandaza', 'halemba', 'bandh', 'collamore', '0015', 'potter', 'gamero', 'schirn', 'lamichhane', 'landslide', 'psychobiology', 'advantus', 'sideswipe', 'törnqvist', 'mcglashan', 'euro244', 'miti', 'steinkopf', '60-bed', 'jaakkola', 'dirigisme', 'jorgenson', 'latchmere', 'mutai', 'generalizing', 'naša', 'aruj', 'cawley', 'kernis', 'h.o.r.s.e.', 'zhee', 'pasternack', 'nondenominational', 'reiten', 'hedeman', '1999-00', 'mornington', 'under-rated', 'stuhlinger', 'balkaria', 'buddhism', 'victa', 'knighten', 'gentili', 'clodagh', 'folk-music', 'phong', '11p', 'f-7', 'bompard', 'haddix', 'zipline', 'yanayev', 'duigan', 'alienware', '78-62', 'pantelis', 'toyko', 'kleisterlee', 'zemlinskis', 'malfoys', 'schar', 'botta', 'olf', 'arutunian', 'galbe', 'givat', 'rud-e', 'krishnaveni', '2:30', 'mentewab', 'nys', 'sakaiminato', 'tourondel', \"ze'ev\", 'snuggle', '96.18', 'deathstars', '30.57', 'cordwood', 'alen', '2,621', 'hanahan', 'raaphorst', 'regrouping', '600,000-strong', 'hostels', 'aridity', 'ringgit', 'innis', 'barentsburg', 'nees', '1.228', 'bunheads', 'pidgin', 'hardest', 'splenomegaly', 'lopota', 'soulful', 'có', 'novozymes', '85.58', 'j-5', '30.1', 'rochford', 'apwu', '278.4', 'allensworth', '26-inch', 'nabu', 'gildon', 'collons', 'denouement', 'får', 'hannon', 'pb', 'yush', 'creaked', 'densa', 'pavn', 'mumbengegwi', 'châlons-en-champagne', 'quadriplegic', 'nyasa', 'ababa', 'ponemon', 'traubel', 'galbatorix', 'qizhong', 'meistaradeildin', 'sncase', 'unsubstantiated', 'stitt', 'steinhauser', 'żerków', 'armone', '20sec', 'psychosocial', 'unattributed', 'jazzfestival', '16.52', 'tristia', 'revolutionising', 'parasitize', 'pesquera', 'baiocco', 'eight-bar', 'siyi', 'donc', '3.725', 'wortman', 'knower', 'monopoles', 'wetering', 'fabricante', '57-51', '50.8', 'pictorialism', 'samogitia', 'lilongwe', '169.2', 'emmalocera', 'augural', 'pseudoalteromonas', 'tubing', 'lionfish', 'sihltal', '1,256', 'chungbuk', 'yokoyama', 'logorrhea', 'vilsack', 'colonnaded', 'riches', 'pour', 'caniza', 'livewire', 'sigismondi', 'waterlines', 'convergents', '43.52', 'lufeng', 'ayer', 'soil-borne', 'rozina', '8vsb', 'cherrie', 'larroquette', 'a&m', '2,086', 'isg', 'louisianians', 'goe', 'closson', '1,216', 'misconception', 'substitutionary', 'undetermined', 'atlântico', 'summing', 'gravers', '12-and', 'un-released', 'confederado', 'career-high', 'yousaf', 'zolensky', 'complainers', 'stimpson', 'kirkegaard', 'nordling', 'fejervarya', '43.41', 'ohudson', 'costless', 'a-330', 'morrisville', 'anticholinergics', 'mesić', 'indigenous', 'cables', '1:37', 'callixtus', 'latham', 'ferrell', 'bible-based', 'nalliah', 'encounters', 'ocotal', '8.12.11', 'manhã', 'liversidge', 'o’leary', 'v-16', 'zgierz', 'jorie', '55-percent', 'chitengi', 'fassbender', 'ps3', 'townsquare', 'windpump', 'nizzola', 'airdrop', 'ammunitions', 'kumbo', 'souza', 'artha', 'jmh', '41-million', '4184', '21-11', 'air-raid', 'zumtobel', 'anthrenocerus', 'cromemco', 'age-old', 'deluca', 'sundridge', 'pyrolysis', 'bigwood', 'risked', 'plat', 'leishmania', 'ohlund', '4,266', 'plock', 'alin', 'kamiizumi', 'angiulo', \"l'hotel\", 'yamagishi', '70.08', '1,833', 'daron', 'sinkiang', 'torr', 'york-born', 'canellos', 'reference', '32-2', 'stillborn', 'overexpressing', 'kasteler', 'priestland', 'dhak', 'stokols', 'f35', 'lotfian', 'boys-only', 'antigenic', 'usurped', '66.82', 'a.m.-8', 'vizsla', 'masamoto', 'longchamps', 'dotted', 'rodongs', 'hougaard', 'minchew', '4450', 'titov', 'cybercafes', 'ratiopharm', 'sibilants', '92', 'bunchy', 'home', 'hende', 'vagos', 'zoghbi', 'reappointed', 'workouts', 'yehia', 'vapo', '50-company', 'briseida', 'north-easterly', 'takabayashi', 'herrold', 'urbanist', 'inter-marriage', 'snorted', 'adib', 'jehanabad', 'zaloom', 'barratier', 'kamila', 'halving', 'pseudoprime', '11-month', 'naqoyqatsi', 'mecachrome', '2,384', 'overlaying', 'jaaf', 'toyed', 'suburbia', 'apperson', 'télécommunications', 'a-g', 'medininkai', 'saifudin', 'isabelline', 'eos-1d', 'hammerstein', 'landsverk', 'behlmer', 'malaviya', 'plop', 'krajinovic', 'grey-blue', 'foreigner', 'gleann', 'orthorhombic', 'mulde', 'tehuelche', 'berryessa', 'queers', '10:55', 'bolognini', 'geslacht', 'overdriven', 'augusts', 'pairings', 'csps', 'toder', 'balikatan', 'hackerman', 'shaws', 'montenero', 'fisticuffs', 'khuong', 'diesem', 'trabajan', 'famie', 'tomblin', 'rockslides', 'nephrologist', '96.57', 'ska', 'lisheng', '81.62', 'alexi', 'shutterfly', 'influxes', 'patchett', 'hextor', 'warnings', 'caddisflies', 'turnhalle', 'agma', 'macneal', 'apperception', 'wallack', 'righties', 'muso', 'swann', '7.61', 'beezie', 'coalbed', 'cothran', 'bbm', 'lambley', 'metulla', 'duwan', 'inhibitor', 'lutes', 'eyvind', '79-69', 'dad', 'pechory', 'apba', 'deloitte', 'chhota', 'hantz', 'redeposited', 'hailakandi', 'nonmembers', 'englishman', '933', 'darey', 'verity', 'potheads', 'vallehermoso', 'seawall', 'coursen', 'mihailov', 'otta', 'statuette', 'opiyo', '18p', '850,000', '2,881', 'indiaglitz', 'timken', 'empresariales', 'springerville', 'deee', 'boardwatch', 'lubavitchers', 'makassar', '60-90', 'ukrainian-canadian', 'hortensis', 'fafara', 'haukur', 'shbak', 'luu', 'foodtown', 'maierhofer', 'leavell', 'negotin', 'fmcg', 'belches', 'grubin', 'walking', '27.74', 'place', 'desclaux', 'organelles', '90mph', 'gaiden', 'canas', 'hesitates', 'sscc', 'bourassa', '33', 'scorm', 'chyhyryn', 'tma-5', 'tm1', 'coachmen', 'curtner', 'castellvi', '16.33', 'gallery', 'cbc-tv', 'dwarves', 'narda', 'youthaids', '17,000-strong', 'centrestage', 'skyland', 'r-6', 'benefit', 'humic', '2078', 'emoting', 'moe', 'xenophanes', 'replicative', 'balding', 'tkachev', 'belkic', 'steveston', 'moule', 'peephole', '77.50', 'mordvin', 'proposing', 'loin', 'motor-paced', 'chlorinated', 'jang', 'olympiacos', 'varriale', 'fermi', 'cotelo', 'sedwick', 'filii', 'movieguide', 'eutherian', '4-gigabyte', 'cabbages', 'nostrils', 'amaravati', 'vest', 'impassive', 'ipil', 'danelo', '41.65', 'rcp', 'gini', 'wargrave', 'ketin', 'okkervil', 'near-misses', 'jvrb', 'ransoms', 'self-denial', 'autopia', 'k11', 'patrollers', 'pomerol', 'spooled', 'gnjilane', 'bescot', 'frankenstadion', 'pasticcio', 'namespace', 'suncor', 'abascal', 'recombinase', 'eius', 'krishnamoorthy', 'jacquelynn', 'uyo', '10.04', 'm.b.', '15/64', 'neo-impressionism', 'chocolate', 'naupactus', '4-38', '112.25', 'remzi', 'self-dealing', 'weissach', 'accentual', 'märz', 'yogh', 'polenghi', 'vaness', 'televangelists', 'cloakrooms', '97th', 'azizur', '12-26', 'wert', '6x4', 'zanda', 'all-around', 'lumpini', 'stepfather', 'izzadeen', 'younce', 'unicode', 'hustled', 'kiryienka', 'buboes', '0.53', 'ferraro', 'formula_30', 'immunocompetent', '1250', 'shiners', 'fisnik', 'vrijman', 'niskanen', 'chikovani', '99ers', 'ap--climatepool', 'holyoke', 'campeggio', '33.7', 'hotmail', 'heshmatollah', 'promisee', 'weiman', '1925-1926', 'buvaysa', 'hamed', '66.84', 'chrominance', 'rangamati', 'lockerroom', 'shoutin', 'gulotta', 'nail', 'sanskriti', 'cgv', 'urasoe', 'unraveled', 'sarajevo', '58.03', 'releasing', 'auricularia', 'dtcc', 'bojnord', 'dambulla', 'berwin', 'bidirectional', 'sillamae', 'saltergate', '5.75', 'hippodamia', 'produits', 'bank', 'stepford', '37-day', 'abaz', 'barbie', 'scheurebe', '20-overs', 't/a', '15w', 'sputum', 'maley', 'wielded', 'solid', 'alvord', 'kaneto', 'fr3', 'twinkies', 'heathfield', '15:03', 'linguistic', 'tziona', 'self-interest', 'janier', 'jusuf', '0w', 'coltorti', 'olympic-sized', '10-footer', 'dispense', 'wiznia', 'schwed', 'percutaneous', 'bio-diesel', '1507', '12.13', 'mcglothlin', 'honganji', 'iodine-131', 'pret', 'durban', 'deiner', 'chocolat', 'bijou', 'greensomes', 'wittier', 'manueline', 'mcgowen', '2,366', 'sashed', 'suheir', 'reptans', 'misguidedly', 'natya', 'dkba', 'redesign', 'rashtchy', 'tavian', '92-88', 'emperor', 'ravidas', '43,100', 'absent-minded', 'teressa', 'jianqiu', 'huh', 'loft', 'ferras', 'scénic', 'lorri', 'routing', 'holguín', 'brethil', '82.63', 'maduka', 'beechview', 'stander', 'fabelo', 'gagern', 'try-scoring', 'tmc', 'auxier', 'conjunto', 'dipping', 'pyper', 'ober', 'left-of-centre', 'videodiscs', 'steal', 'autonómica', 'norona', 'bathtub', 'counterdemonstrators', 'lasarte', 'boleslavsky', 'averroes', 'opinio', 'spermatogenesis', 'tromeo', 'chojna', '33:14', 'tipped', 'hallaren', 'zápolya', 'dehl', 'croshere', 'barre', 'communists', 'poka', 'khokar', 'rahng', 'junod', 'serrations', 'mopani', 'trvl', 'narvaez', 'barus', 'tokyo-based', 'formula_5', 'digressive', 'stiffkey', 'dziri', 'overhunting', 'stratego', 'wakiso', 'pollin', 'tình', 'heterozygosity', 'athabaska', 'naida', 'cystoscopy', 'tedy', '2-3/8', 'econometrics', 'eliscu', 'kernel-mode', 'anti-shipping', 'agel', 'legality', 'prohertrib', 'ramaswami', 'papoutsis', '23.99', 'debauched', 'maamun', 'narcosis', 'lolls', 'mediator', '1.65', 'dharun', 'tupua', 'sercos', 'bogdanoff', 'bokaro', 'tatchell', 'programed', 'catch-up', 'rostered', 'doumer', '34-page', '1,240', 'kisco', 'catahoula', 'timestep', 'klintmalm', 'panahov', 'gvwr', 'eveland', 'palladianism', 'wuping', 'zelenka', 'jinguo', 'winched', 'dudesons', 'godefroid', 'valinhos', 'licet', 'trezza', 'pinecone', 'futbol', 'thaulow', 'outsold', 'krane', 'verene', 'waso', 'povilas', 'sanjuro', 'ten-track', 'llyra', 'antistatic', 'thatchers', 'quarry', 'prop', 'eisler', 'babao', '52', 'funnily', 'simberg', 'mahut', 'intranasal', 'balsam', 'nihad', 'millenary', 'extradimensional', '0130', 'intertie', '1916-17', 'self-concept', 'djembe', 'shortcourse', 'kahwaji', 'borodulin', 'zhaxi', 'wakened', 'muzhakhoyeva', 'throneberry', 'glick', 'olanchano', 'breck', 'notifies', 'affix', 'veganism', 'non-qualifying', 'armies', 'athletic', 'idta', 'subtracting', 'wfff', 'pick', 'chasidic', 'blackmun', 'eons', 'minutia', 'nechita', 'junjie', 'meisei', 'anif', 'blanda', 'shining', 'dębno', 'saffc', 'masorah', 'nazirite', 'ninhursag', 'grapeshot', 'hilger', 'lotus', 'torsby', 'yuwen', 'polydoras', '29.02', 'taklamakan', 'indoctrination', 'miyet', 'sandaled', 'ghirardi', 'meen', 'morgues', \"d'huy\", '17-years', 'geomancer', 'prixs', 'jrm', 'dropouts', 'tergat', '75-69', 'lyubov', '1,713', 'nacoochee', 'botwin', 'blaina', '14.05', 'zevallos', 'courtney', 'thika', 'readopted', '1,412', 'poipu', 'kenechi', 'exton', 'mudbugs', 'routan', 'yiddish-language', 'shelleys', 'foreseeable', 'tigers', '263.1', 'latrun', 'hotpoint', 'pasay', 'boabdil', 'arul', 'baike', 'hasna', 'flat-4', 'pashmina', '215', 'kiszczak', 'rhizopus', 'cremona', 'saffire', 'precincts', 'definity', 'semmangudi', '224,000', 'despicable', 'shamokin', 'german-held', 'heterodyne', 'devilfish', 'perdition', 'kayaked', '2.8-mile', 'tré', '30.45', 'n-acetyltransferase', 'wuffingas', '2321', 'advice', 'jordache', 'catwoman', 'streater', 'crack-down', 'curdling', 'akki', 'oldstone', 'benilde', 'saône-et-loire', 'acetylcholinesterase', 'baeyer', 'vilathikulam', 'dipa', 'weissglobe.com', 'arz', 'caac', 'cgonzalez', 'konami', 'vezzali', 'frisbie', 'nöldeke', 'ceramics', '73.73', 'celandine', 'llorenc', 'ghadeer', 'glaring', 'refered', 'axons', 'janta', 'senghenydd', 'kamarck', 'sub-zero', 'east-central', '37.61', '15-piece', 'procreate', '67-66', 'sdpc', 'multi-criteria', 'principled', 'facilty', 'dilantin', 'bride-price', 'aggressed', 'hunky', 'ankit', 'cupola', 'oshu', 'lello', 'babb', 'super-earth', 'zaccaria', 'passe', '1946-1949', '194.8', 'zhongdu', '4,670', '2,900-kilometer', 'endean', 'ditf', '1109', 'mihdar', 'computer-mediated', 'jaqua', 'kover', '1894', 'iroquoians', 'attractants', 'daluiso', 'manzil', '2004-05', 'avahi', 'ceresole', 'leighty', 'all-met', 'iskandar', 'lampeter', 'guochang', 'saberi', 'senaya', 'oriya', 'fujioka', 'multiscale', 'padmanegara', '93-86', 'hobson', '8h', 'bhanwari', 'henno', 'backdate', 'slickest', 'mayak', 'uninflected', 'drissi', 'mid-1890s', 'liangjiang', 'jingcheng', 'witnessing', 'panagiotis', '19.63', 'typesetting', 'amun', 'falouji', 'schuco', 'mlbpa', 'chaid', 'shapewear', 'nottie', 'saulnier', 'placements', 'vota', 'lepage', 'sobti', 'araucariaceae', 'kościelne', 'ef-s', 'aniruddha', 'crossfade', 'scarecrows', '04:15', 'existencia', 'jannatabad', 'hourani', 'altius', 'accustom', 'fondazione', 'minute', '454.5', 'cephalopods', '293.6', 'chūzan', 'gatineau', 'unreceptive', 'janardhanan', '2,734', 'svet', 'sudarso', 'avidya', 'telfair', '1859', 'bawah', '72.21', '26.7', 'sunnie', 'vennegoor', 'bc2', 'kingsbridge', 'fruitvale', 'porco', 'iwmi', 'fez', 'makaa', 'dryers', 'jayna', 'i-195', 'milkey', 'expansionary', 'goal_new', 'viste', 'konaka', 'taqi', 'cantilevers', 'g.biffle', 'aegyptus', 'sdsl', 'torrie', 'collingtree', 'sart', 'woodfall', 'yarlung', 'antic', 'lencastre', 'saravakos', 'yabaki', 'suenos', 'legends', 'grillers', 'd46', 'simulcasted', 'minaret', 'hirabayashi', 'postfinance', 'ebullience', 'haimo', '58kg', 'stephani', '90.18', 'boreholes', 'chaldean', '9/16', 'tokimeki', 'prammer', 'ntp', 'spoor', 'dfl-supercup', 'robichaux', 'overhauled', 'silayev', 'flood-control', 'counselled', 'uncooled', 'subnotebooks', 'mte', 'resited', 'gishu', 'defenbaugh', 'extremadura', '15-24', 'gammarus', 'sporocysts', 'maestà', 'divorcee', 'guus', 'ambulant', 'charmed', 'nasserite', '57.93', 'metal-working', 'dillenburg', 'juwayed', 'hypotensive', 'gchq', 'ultra-nationalist', 'ravensberg', 'sige', 'non-christian', '16:35', 'steeplechaser', 'pezzini', 'rougon-macquart', 'foodland', 'quinion', 'niketown', 'dbr9', 'oligomer', '9.1-billion', 'kalifornia', 'repower', 'valsad', 'bedroom', 'uvas', 'tuqiri', 'http://www.9-11commission.gov', 'proclaims', 'carboxypeptidase', 'karush', '325.3', 'mispillion', 'upheld', 'implores', 'miskicked', 'infectiously', 'summability', 'olaciregui', 'tv9', 'johanes', 'khaleel', 'jethawks', 'fuliginosus', 'braving', 'end-2009', 'kuroko', 'burch', 'songun', 'debe', '7.34', 'toquepala', '5.63', 'kdvr', 'bluffer', 'shafiq', 'neuquen', 'fsx', 'sponge', 'sanctuaries', '292.4', 'liczbinski', 'gopeng', 'bagless', 'reinflate', 'sompting', 'dyane', 'stoneham', '4-quart', 'irrigable', 'okemos', '106.69', '53-42', 'u-turn', 'hemodialysis', 'bagnall', 'universitaire', 'politicise', 'interra', 'firmas', 'bapa', 'geluk', 'pank', 'salmond', 'munny', 'lignan', 'twelvetrees', 'idolatrous', 'compliant', 'ashkenazim', 'continuation', 'ysl', 'evenflo', 'balle', 'cems', 'reublin', 'mexique', 'monteilh', 'ovens', 'tiridates', 'retable', 'almorabit', 'anemones', 'dreads', 'nazar', 'solemnly', 'komitas', '68-31', 'jourdan', 'x86', 'dux', 'giampietro', 'ghorbanifar', 'lingappa', 'principality', 'kudo', 'valueact', 'minhe', 'koroma', 'snakebite', 'nemco', 'newbuild', 'lebe', 'dbacks', 'cws', 'dro', 'piñeiro', 'mputu', 'convers', 'mattera', 'faro', 'motor', 'midrand', 'tzuo', 'zehlendorf', 'technically', 'brownlow', 'nyt8', 'cauterize', 'tatters', 'aegina', 'ashkan', 'twosome', 'lipstick', 'blythedale', '104.95', 'jacobowitz', 'mimos', 'dipterocarpus', '9-9', 'nubani', 'živković', 'twice-monthly', 'aberrant', 'antivirals', 'ningun', 'ellwangen', 'variable-pitch', 'landsbanki', 'mynn', 'dkw', '570-am', 'scrapped', '56.03', 'mariana', 'newton', 'schtick', '240-horsepower', 'martians', 'taihang', 'sophisticate', 'jackaroo', 'immuno', '1990-1999', 'bernard-henri', 'robiskie', 'dubliners', 'rowles', 'ranaldo', 'milgaard', '501s', 'fabulous', 'foothold', 'shapeshifters', 'gegharkunik', 'antonian', 'biopower', 'kueh', 'solf', 'robstown', 'benkenstein', 'glamorous', 'decertify', 'rafiq', 'halaby', '50.01', '628', '84,500', 'jor-el', 'pappus', 'janitor', 'cod', 'marinko', 'archæological', 'vinegar', 'koes', 'zse', 'colanders', '90-yen', 'kaymakam', 'küster', 'milfoil', 'ambulance', '283.5', 'mezni', 'andré-marie', 'aleksandra', 'shalett', '99.57', 'strik', 'judaica', '650-kilometre', '89.70', 'libonati', 'shined', 'vinai', '87,900', 'fullest', 'oakland-alameda', 'euro204', 'lantis', 'efficent', 'commuters', 'flood-prone', 'benny', 'universal', 'mulls', 'gyration', 'norregaard', 'out-of-towners', 'sumaye', 'sytems', 'manusmriti', 'djalminha', 'bylot', 'vidéotron', 'yariv', 'progresso', 'hirschsprung', 'blomstedt', 'foh', 'garbageman', 'bsc', 'babraham', 'australian-based', 'gulfs', 'yurie', 'south-south-west', 'dongping', 'seena', 'rangeland', 'tooted', '18-to-34-year', 'schwert', 'qaanaaq', 'lepoglava', 'kobryn', 'portrayer', 'ktrs', '4.16', 'guerlain', '9.26', 'caliper', 'gegen', 'single-board', 'tivotogo', 'missões', '57th', 'apo', 'hpt', '1:20', 'airboats', 'leviticus', 'εἰς', 'liberato', 'yasith', 'roeland', 'minibuses', 'mongu', 'tanar', '5,892', 'ruzici', 'baitarani', 'aro', 'tweezing', 'lydney', 'schriro', 'nyt15', 'bahagia', 'obrenovac', 'dalkeith', 'junichi', 'nabwangu', 'corporations', 'preferments', 'janardan', '53-44', 'soule', 'sedative', 'pointe-noire', 'vallegrande', 'teehankee', 'tema', 'aloy', 'sunee', '35-millimeter', 'tomaselli', 'annaghdown', '107.12', 'pafko', 'klonopin', 'ncert', 'heb', '669,000', 'fam', 'jurvetson', 'adjumani', 'trois', '15,700', 'http://www.nobel.no', 'emu', 'campino', 'arvaniti', '____________________________________________', 'erlbaum', 'feaf', 'shs', 'ribbleton', '1.0-2', 'bogstad', 'swin', 'educational', 'antimuscarinic', 'shevell', '48-game', 'vitra', 'gilvan', 'nadvi', 'zangrillo', 'weyrauch', 'gigawatts', 'assocham', '13-16', 'naoya', '1996-1998', 'partaken', 'batjac', 'tevatron', 'akrour', 'meshiai', 'drachma', 'adjustment', 'sarma', 'lovick', '2,162', 'all-purpose', 'patristic', 'triska', 'seewer', 'naypyidaw', 'ravindranath', '135.2', 'wri', 'dishmok', 'non-fifa', 'wli', '18-meter', 'pressurizes', 'zaniness', 'sclater', 'hemmingway', 'oskanian', 'innviertel', 'romi', 'manoir', 'gausdal', 'shelman@globe.com', 'bady', '2-1-1', 'oxalate', 'nature-based', 'polyunsaturated', '1842', 'domenichino', 'daneel', 'fanz', '.332', 'lewistown', 'miac', 'throughout', 'mete', 'lindale', 'schiano', 'leyen', 'volodomir', 'pre-set', 'mondonico', 'citta', 'overact', 'industrials', 'fuseli', 'abdelhakim', 'sinhalese', 'filme', 'underaged', 'djtgv', 'eduardovich', '1_5', 'ahmat', 'kiddies', 'larten', 'bienstock', 'rm30', 'lougheed', 'rainham', 'coheiress', 'vandevelde', 'kina', '21.12', 'followthrough', 'ozone-depleting', 'except', 'swayze', 'rcantu', 'wnew', 'endomorphism', 'groove', 'ghah', 'dimitrie', 'kaikoura', '99-yard', 'waldeck-rousseau', '12.95', 'veeco', 'herfi', '80-percent', 'bitlis', '2,7', 'kitselas', 'gobbling', 'isometries', 'mérida', 'charmy', 'stabæk', 'wallumrød', 'aucagne', 'preet', 'ecowas', 'tersely', 'qul', 'sathyaraj', '511th', 'daddy-o', '65,000-square', 'vatry', 'apostolos', 'straits', 'e-taliban', 'shuey', 'jouvenel', 'olanrewaju', 'minjun', 'optimark', 'panenka', 'interspace', 'kahindo', 'heitinga', 'prototype-based', '49-member', 'cmn', 'yob', 'newhaven', 'brot', 'trifunovic', 'tmb', 'ogata', 'woolcott', 'hirudo', 'valorous', 'remax', 'boissevain', 'ribosomes', 'chiron', 'rent-to-own', 'rennison', 'honey', 'izola', 'lapstone', 'penaanytimes.com', 'fraysse', 'frydman', 'trailhead', 'desrosiers', 'borrell', 'superfriends', 'wingbeats', 'http://tinyurl.com', 'combatting', 'psytrance', 'modestly', 'goucher', 'hainkel', 'ammiel', 'thorsteinsson', 'pradakshina', 'reformulation', 'anyama', 'scienze', 'biak-na-bato', 'africom', 'kilbarchan', 'tekken', 'non-volatile', 'murusade', 'selsky', 'talk-back', 'bd2', 'oursler', 'troubleshooting', 'elymus', 'peyron', 'meanings', 'simplices', 'luther', 'graps', 'lihd', 'anti-folk', 'middle-ranking', 'padare', 'frn', 'pabón', 'biotechs', '4,004', 'helin', 'ethio', 'rybakov', '179.8', '104.68', 'jumdail', 'enac', 'wormlike', 'manoeuvred', 'amokachi', 'preocupacion', 'kliff', 'eugénie', 'portolan', 'ziri', 'hardboiled', '25.92', 'olbeh', 'sihk', 'meshack', 'lonardo', 'disgustedly', 'dilution', 'martinec', 'kolyai', '62-2', 'finishing', 'truncatus', 'sillas', 'open-ended', 'willems', 'pratini', 'pleau', 'majesties', 'créteil-lusitanos', 'armagnacs', 'anelia', 'k-class', 'māui', 'μsa', 'moluccans', 'hamili', '30.85', 'fondane', 'sulks', 'copy-on-write', 'garrick', 'puto', 'munkacs', 'yoshimi', '44.67', 'willington', 'metalled', 'stingy', 'pellegrina', 'traders', 'aćimović', 'jüterbog', 'ntd', 'wharfage', 'yuanlin', '5.875', 'italian-canadian', 'mangabeys', 'maajid', 'tsugaru', 'juvarra', 'sherani', 'sweetnorthernsaint', 'propper', 'pren', 'edventure', 'censis', 'virilis', 'protopunk', 'bambuco', 'homeland', 'kolonaki', 'insurgencies', 'kills', 'poking', 'sungkar', 'aunty', 'amica', 'provea', 'season-ticket', 'sacramentum', 'nordyke', 'waster', 'yercaud', 'bitencourt', 'now-obsolete', 'no-go', 'salyers', 'karunaratne', 'gaborone', 'sturla', 'lthough', 'löhr', 'catliff', 'louisana', 'tripadvisor', 'kangana', 'puyo', 'cebr', 'loaeza', 'aurobindo', 'intrathecal', 'clichés', '2,461', 'euro580', 'hassuna', 'marathe', '4,031', 'hyperactivity', 'by-line', 'unserved', 'henske', 'carnivalesque', 'koray', 'chancellors', 'lenghty', 'pro-secession', 'hizen', 'thoughtless', 'lagnado', 'ampullaria', 'grobman', 'savill', 'stirrup', 'pachyrhinosaurus', 'house-to-house', 'stockton', 'marazzina', 'gillogly', 'tamaya', 'magrs', 'gerns', '47.87', '2,987', 'wsmv', 'speculators', 'nicotero', \"o'hearn\", 'years', 'stache', '3pts', 'crcc', '119.9', 'getica', 'hagglund', 'siskiyou', 'meelick', 'kacie', 'baboquivari', '镇', 'witchel', 'yorac', '448,000', 'aucoin', 'verwoerd', '9,020', 'dedicates', 'pignataro', 'interposing', 'second-team', 'motacillidae', 'satb', 'cognacs', 'sands', '57.75', 'shakhtyor', 'mixed-member', 'laupen', 'eclecticism', 'ambonese', 'atrial', 'donato', '411mania', 'beachcomber', 'hezbullah', 'overstuffed', '25.49', 'eyeblink', 'sts-107', 'mysims', \"'36\", '3166-1', 'chammah', 'santaella', 'nowell', '3-lucio', 'coppered', '60-plus', '4-18', 'otani', 'lowii', 'monumentale', 'mistranslated', 'correia', '16-meter', 'archambaud', 'p-40', 'pezzella', 'chavers', 'kushboo', 'renneisen', 'inter-disciplinary', 'kannapolis', 'unseasoned', 'grampus', 'rutley', 'arachidonic', 'rhins', 'tsuga', 'lullaby', 'loud-mouthed', 'tarrah', 'morano', 'airone', '7-28', 'nuti', 'ibstock', 'viera', 'girija', 'russulales', 'orabi', 'rindler', 'ashover', 'b’nai', 'japanese-american', 'crais', '1268', 'begemann', 'tobor', 'microsystems', 'nahri', 'plaats', 'downbeat', '22.32', 'zuhr', 'lantieri', 'bortz', '6-to-5', 'shaiken', 'trías', '119.8', 'teschner', 'garnes', 'wellek', 'langat', 'carbene', 'cd-i', 'fulbe', 'coupon', '32.90', 'enable', 'converse', 'sperrle', 'qio', 'broonzy', 'ghannam', 'zester', 'evaluator', 'interruption', '0630gmt', '9.712', 'infantas', 'harmlessness', 'manurewa', 'jackey', 'likens', 'kronach', 'archila', '2,892', 'beetlejuice', 'sekirei', 'rugs', 'kbb', 'opportunitiestampa', 'semisolid', 'jabareen', 'roadchef', 'sahebi', 'entezami', 'rottenburg', 'canfor', 'p.r.', 'screenwriter', 'waal', 'eletricas', '10-for-19', 'tasfaout', 'namadgi', 'delyn', 'lateralis', 'pucay', 'capsizal', 'negativland', 'moonshadow', 'camarena', 'redefinition', 'clarkston', 'merchandises', 'kisn', 'euryale', 'nord-hålogaland', ',108', 'abersoch', 'yizheng', 'mobinil', 'zakiur', '18,136', 'partnerships', 'buenoano', 'cheerdance', 'anykščiai', 'exenatide', 'shinagawa', 'kella', 'lankershim', 'salvatierra', '14g', 'reminiscing', 'asira', '97.54', 'queequeg', '35th', 'stahn', '5', 'diocese', 'calvo', 'maryja', 'romaniuk', 'touhy', 'tennō', 'mytton', 'canards', 'jiaozuo', 'everleigh', 'chassis', 'kotoku', 'ring-shaped', 'patroling', '130mm', 'sergei', 'eickhoff', 'tv-am', 'sārī', 'pibe', '1.2691', 'ghara', 'aae', 'courrier', 'hydrometric', 'tongham', 'tagline', 'sunset', 'yasay', 'royapuram', '1,583', '30.00', 'mpps', 'matchpoint', 'gundars', 'rovner', '7700', 'sixty-eighth', 'montmédy', 'readymades', 'comtesse', 'etihad', '6-foot-9-inch', 'unchgd', 'bottrill', 'merseybeat', 'chinatrust', 'palk', 'furundzija', 'toxaway', '36-13', 'agda', 'jenkyns', 'muran', 'komnenian', 'komsomolskaya', 'mahavidyas', 'camaldoli', 'wftv', 'movilnet', 'buddah', 'brousse', 'quechee', 'vosloo', 'careerist', 'razvan', 'xiaoqiang', 'kaita', 'jaraguá', 'huvadhu', 'opt', \"l'aube\", 'barreto', 'postganglionic', 'jurchen', 'opinión', 'azahara', 'selenski', 'ventrals', '250-member', 'bluff', 'outflank', '79.68', 'kaluyituka', 'papermaker', 'rahmstorf', 'basalts', 'samal', '34.69', 'unbranched', 'second-innings', 'checks', '16-time', '19.47', 'restricting', 'clumsier', 'dvořák', 'telecharge', 'ursprung', 'kashaf', 'quilty', '3-member', 'road-rail', 'nwoye', 'boskovski', 'truecrypt', 'tancred', 'ineffectual', 'levenson', 'privert', 'commandery', 'velux', 'digitalization', 'spenta', 'formula_88', 'ajamie', 'mamounia', 'efta', 'katrin', 'tlou', 'bopped', 'mckeehan', 'nonresistant', 'encores', 'shortridge', 'seachnasaigh', 'longball']\n",
            "Putting 10000 words into word2ind and matrix M...\n",
            "Done.\n",
            "Running Truncated SVD over 10012 words...\n",
            "Done.\n"
          ]
        }
      ],
      "source": [
        "# -----------------------------------------------------------------\n",
        "# Run Cell to Reduce 200-Dimensional Word Embeddings to k Dimensions\n",
        "# Note: This should be quick to run\n",
        "# -----------------------------------------------------------------\n",
        "M, word2ind = get_matrix_of_vectors(wv_from_bin, words)\n",
        "M_reduced = reduce_to_k_dim(M, k=2)\n",
        "\n",
        "# Rescale (normalize) the rows to make them each of unit-length\n",
        "M_lengths = np.linalg.norm(M_reduced, axis=1)\n",
        "M_reduced_normalized = M_reduced / M_lengths[:, np.newaxis] # broadcasting"
      ]
    },
    {
      "cell_type": "markdown",
      "metadata": {
        "id": "8_46FYMJSSuN"
      },
      "source": [
        "**Note: If you are receiving out of memory issues on your local machine, try closing other applications to free more memory on your device. You may want to try restarting your machine so that you can free up extra memory. Then immediately run the jupyter notebook and see if you can load the word vectors properly. If you still have problems with loading the embeddings onto your local machine after this, please go to office hours or contact course staff.**"
      ]
    },
    {
      "cell_type": "markdown",
      "metadata": {
        "id": "zAFrU8ahSSuO"
      },
      "source": [
        "### Question 2.1: GloVe Plot Analysis [written] (3 points)\n",
        "\n",
        "Run the cell below to plot the 2D GloVe embeddings for `['value', 'gold', 'platinum', 'reserves', 'silver', 'metals', 'copper', 'belgium', 'australia', 'china', 'grammes', \"mine\"]`."
      ]
    },
    {
      "cell_type": "code",
      "execution_count": 22,
      "metadata": {
        "scrolled": true,
        "id": "9kHRkjz6SSuO",
        "colab": {
          "base_uri": "https://localhost:8080/",
          "height": 447
        },
        "outputId": "02ffeab6-5d58-46b8-9b4f-60fb4940dbd9"
      },
      "outputs": [
        {
          "output_type": "display_data",
          "data": {
            "text/plain": [
              "<Figure size 1000x500 with 1 Axes>"
            ],
            "image/png": "[encoded data removed]"
          },
          "metadata": {}
        }
      ],
      "source": [
        "words = ['value', 'gold', 'platinum', 'reserves', 'silver', 'metals', 'copper', 'belgium', 'australia', 'china', 'grammes', \"mine\"]\n",
        "\n",
        "plot_embeddings(M_reduced_normalized, word2ind, words)"
      ]
    },
    {
      "cell_type": "markdown",
      "metadata": {
        "id": "eOnrMZkzSSuP"
      },
      "source": [
        "a. What is one way the plot is different from the one generated earlier from the co-occurrence matrix? What is one way it's similar?"
      ]
    },
    {
      "cell_type": "markdown",
      "metadata": {
        "id": "5KC4PTQoSSuQ"
      },
      "source": [
        "First of all, in the Glove representation the words are more widely spaced, while in the co-occurrence matrix they are very close together. This can be attributed to the distinct characteristics of these two methods for learning word embeddings.<br>\n",
        "In this example the Glove is a little bit better than the co-occurency in clustering some words.\n",
        "For example, silver and metal are placed close, but platinum for example is not recognized.\n",
        "Even Belgium and Australia which are two countries are placed next to each other in the Glove model."
      ]
    },
    {
      "cell_type": "markdown",
      "metadata": {
        "id": "bNDY5puZSSuQ"
      },
      "source": [
        "b. What is a possible cause for the difference?"
      ]
    },
    {
      "cell_type": "markdown",
      "metadata": {
        "id": "o-cWAvi8SSuR"
      },
      "source": [
        "A possible cause of this is the fact that the Glove considers the global context of the entire corpus. It learns vectors that capture both local and global relationships between words.\n",
        "Whereas the co-occurrency matrix only look at the local context, that is why it is less effective."
      ]
    },
    {
      "cell_type": "markdown",
      "metadata": {
        "id": "nA8oIbjjSSuS"
      },
      "source": [
        "### Cosine Similarity\n",
        "Now that we have word vectors, we need a way to quantify the similarity between individual words, according to these vectors. One such metric is cosine-similarity. We will be using this to find words that are \"close\" and \"far\" from one another.\n",
        "\n",
        "We can think of n-dimensional vectors as points in n-dimensional space. If we take this perspective [L1](http://mathworld.wolfram.com/L1-Norm.html) and [L2](http://mathworld.wolfram.com/L2-Norm.html) Distances help quantify the amount of space \"we must travel\" to get between these two points. Another approach is to examine the angle between two vectors. From trigonometry we know that:"
      ]
    },
    {
      "cell_type": "markdown",
      "source": [
        "![image.png](data:image/png;base64,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)"
      ],
      "metadata": {
        "id": "rlQsEWBk441o"
      }
    },
    {
      "cell_type": "markdown",
      "source": [
        "Instead of computing the actual angle, we can leave the similarity in terms of $similarity = cos(\\Theta)$. Formally the [Cosine Similarity](https://en.wikipedia.org/wiki/Cosine_similarity) $s$ between two vectors $p$ and $q$ is defined as:\n",
        "\n",
        "$$s = \\frac{p \\cdot q}{||p|| ||q||}, \\textrm{ where } s \\in [-1, 1] $$"
      ],
      "metadata": {
        "id": "V3D2S0VT493r"
      }
    },
    {
      "cell_type": "markdown",
      "metadata": {
        "id": "sFfCOLUsSSuS"
      },
      "source": [
        "### Question 2.2: Words with Multiple Meanings (1.5 points) [code + written]\n",
        "Polysemes and homonyms are words that have more than one meaning (see this [wiki page](https://en.wikipedia.org/wiki/Polysemy) to learn more about the difference between polysemes and homonyms ). Find a word with *at least two different meanings* such that the top-10 most similar words (according to cosine similarity) contain related words from *both* meanings. For example, \"leaves\" has both \"go_away\" and \"a_structure_of_a_plant\" meaning in the top 10, and \"scoop\" has both \"handed_waffle_cone\" and \"lowdown\". You will probably need to try several polysemous or homonymic words before you find one.\n",
        "\n",
        "Please state the word you discover and the multiple meanings that occur in the top 10. Why do you think many of the polysemous or homonymic words you tried didn't work (i.e. the top-10 most similar words only contain **one** of the meanings of the words)?\n",
        "\n",
        "**Note**: You should use the `wv_from_bin.most_similar(word)` function to get the top 10 similar words. This function ranks all other words in the vocabulary with respect to their cosine similarity to the given word. For further assistance, please check the __[GenSim documentation](https://radimrehurek.com/gensim/models/keyedvectors.html#gensim.models.keyedvectors.FastTextKeyedVectors.most_similar)__."
      ]
    },
    {
      "cell_type": "code",
      "execution_count": 23,
      "metadata": {
        "id": "ZAr09U-xSSuT",
        "colab": {
          "base_uri": "https://localhost:8080/"
        },
        "outputId": "ab0043dd-280b-4c72-b9f8-fc27132f77cb"
      },
      "outputs": [
        {
          "output_type": "execute_result",
          "data": {
            "text/plain": [
              "[('ends', 0.6128067970275879),\n",
              " ('leaf', 0.6027014255523682),\n",
              " ('stems', 0.5998532176017761),\n",
              " ('takes', 0.5902854204177856),\n",
              " ('leaving', 0.5761634707450867),\n",
              " ('grows', 0.5663397312164307),\n",
              " ('flowers', 0.5600922107696533),\n",
              " ('turns', 0.5536050796508789),\n",
              " ('leave', 0.5496848821640015),\n",
              " ('goes', 0.5434925556182861)]"
            ]
          },
          "metadata": {},
          "execution_count": 23
        }
      ],
      "source": [
        "wv_from_bin.most_similar(\"leaves\")"
      ]
    },
    {
      "cell_type": "markdown",
      "metadata": {
        "id": "VfeW-eK9SSuU"
      },
      "source": [
        "### Question 2.3: Synonyms & Antonyms (2 points) [code + written]\n",
        "\n",
        "When considering Cosine Similarity, it's often more convenient to think of Cosine Distance, which is simply 1 - Cosine Similarity.\n",
        "\n",
        "Find three words $(w_1,w_2,w_3)$ where $w_1$ and $w_2$ are synonyms and $w_1$ and $w_3$ are antonyms, but Cosine Distance $(w_1,w_3) <$ Cosine Distance $(w_1,w_2)$.\n",
        "\n",
        "As an example, $w_1$=\"happy\" is closer to $w_3$=\"sad\" than to $w_2$=\"cheerful\". Please find a different example that satisfies the above. Once you have found your example, please give a possible explanation for why this counter-intuitive result may have happened.\n",
        "\n",
        "You should use the the `wv_from_bin.distance(w1, w2)` function here in order to compute the cosine distance between two words. Please see the __[GenSim documentation](https://radimrehurek.com/gensim/models/keyedvectors.html#gensim.models.keyedvectors.FastTextKeyedVectors.distance)__ for further assistance."
      ]
    },
    {
      "cell_type": "code",
      "execution_count": 24,
      "metadata": {
        "id": "bwlpPjpHSSuV",
        "colab": {
          "base_uri": "https://localhost:8080/"
        },
        "outputId": "efea96ab-f875-4cc1-ebbc-0664eaf4d9d4"
      },
      "outputs": [
        {
          "output_type": "stream",
          "name": "stdout",
          "text": [
            "Synonyms good, fine have cosine distance: 0.4841476082801819\n",
            "Antonyms good, hurt have cosine distance: 0.48663073778152466\n"
          ]
        }
      ],
      "source": [
        "w1 = \"good\"\n",
        "w2 = \"fine\"\n",
        "w3 = \"hurt\"\n",
        "w1_w2_dist = wv_from_bin.distance(w1, w2)\n",
        "w1_w3_dist = wv_from_bin.distance(w1, w3)\n",
        "\n",
        "print(\"Synonyms {}, {} have cosine distance: {}\".format(w1, w2, w1_w2_dist))\n",
        "print(\"Antonyms {}, {} have cosine distance: {}\".format(w1, w3, w1_w3_dist))"
      ]
    },
    {
      "cell_type": "markdown",
      "metadata": {
        "id": "ZxIDq26zSSuW"
      },
      "source": [
        "### Question 2.4: Analogies with Word Vectors [written] (1.5 points)\n",
        "Word vectors have been shown to *sometimes* exhibit the ability to solve analogies.\n",
        "\n",
        "As an example, for the analogy \"man : grandfather :: woman : x\" (read: man is to grandfather as woman is to x), what is x?\n",
        "\n",
        "In the cell below, we show you how to use word vectors to find x using the `most_similar` function from the __[GenSim documentation](https://radimrehurek.com/gensim/models/keyedvectors.html#gensim.models.keyedvectors.KeyedVectors.most_similar)__. The function finds words that are most similar to the words in the `positive` list and most dissimilar from the words in the `negative` list (while omitting the input words, which are often the most similar; see [this paper](https://www.aclweb.org/anthology/N18-2039.pdf)). The answer to the analogy will have the highest cosine similarity (largest returned numerical value)."
      ]
    },
    {
      "cell_type": "code",
      "execution_count": 25,
      "metadata": {
        "id": "u0pC7H4VSSuY",
        "colab": {
          "base_uri": "https://localhost:8080/"
        },
        "outputId": "ea16aa05-0760-4ef3-911a-85e138f3a75d"
      },
      "outputs": [
        {
          "output_type": "stream",
          "name": "stdout",
          "text": [
            "[('grandmother', 0.7608445286750793),\n",
            " ('granddaughter', 0.7200808525085449),\n",
            " ('daughter', 0.7168302536010742),\n",
            " ('mother', 0.7151536345481873),\n",
            " ('niece', 0.7005682587623596),\n",
            " ('father', 0.6659887433052063),\n",
            " ('aunt', 0.6623408794403076),\n",
            " ('grandson', 0.6618767976760864),\n",
            " ('grandparents', 0.644661009311676),\n",
            " ('wife', 0.6445354223251343)]\n"
          ]
        }
      ],
      "source": [
        "# Run this cell to answer the analogy -- man : grandfather :: woman : x\n",
        "pprint.pprint(wv_from_bin.most_similar(positive=['woman', 'grandfather'], negative=['man']))"
      ]
    },
    {
      "cell_type": "markdown",
      "metadata": {
        "id": "XVv8I9WwSSuZ"
      },
      "source": [
        "Let $m$, $g$, $w$, and $x$ denote the word vectors for `man`, `grandfather`, `woman`, and the answer, respectively. Using **only** vectors $m$, $g$, $w$, and the vector arithmetic operators $+$ and $-$ in your answer, to what expression are we maximizing $x$'s cosine similarity?\n",
        "\n",
        "Hint: Recall that word vectors are simply multi-dimensional vectors that represent a word. It might help to draw out a 2D example using arbitrary locations of each vector. Where would `man` and `woman` lie in the coordinate plane relative to `grandfather` and the answer?"
      ]
    },
    {
      "cell_type": "markdown",
      "metadata": {
        "id": "KlUKBqtHSSuZ"
      },
      "source": [
        "### SOLUTION BEGIN\n",
        "\n",
        "### SOLUTION END"
      ]
    },
    {
      "cell_type": "markdown",
      "metadata": {
        "id": "2rRgMca9SSua"
      },
      "source": [
        "### Question 2.5: Finding Analogies [code + written]  (1.5 points)\n",
        "a. For the previous example, it's clear that \"grandmother\" completes the analogy. But give an intuitive explanation as to why the `most_similar` function gives us words like \"granddaughter\", \"daughter\", or \"mother?"
      ]
    },
    {
      "cell_type": "markdown",
      "metadata": {
        "id": "WgYQXazQSSua"
      },
      "source": [
        "In the analogy \"man:woman :: grandfather:?\", the model is essentially looking for a word that has a relationship similar to the one between \"man\" and \"woman.\" The semantic relationship in this case is gender. If we think about the relationships between other pairs of words like \"father\" and \"mother,\" \"son\" and \"daughter,\" or \"grandfather\" and \"grandmother,\" all of them involve familial connections and gender-related associations."
      ]
    },
    {
      "cell_type": "markdown",
      "metadata": {
        "id": "p9aAUXEISSub"
      },
      "source": [
        "b. Find an example of analogy that holds according to these vectors (i.e. the intended word is ranked top). In your solution please state the full analogy in the form x:y :: a:b. If you believe the analogy is complicated, explain why the analogy holds in one or two sentences.\n",
        "\n",
        "**Note**: You may have to try many analogies to find one that works!"
      ]
    },
    {
      "cell_type": "code",
      "source": [
        "x, y, a, b = \"man\", \"woman\", \"king\", \"queen\"\n",
        "assert wv_from_bin.most_similar(positive=[a, y], negative=[x])[0][0] == b"
      ],
      "metadata": {
        "id": "dhzQJMYYVSjf"
      },
      "execution_count": 26,
      "outputs": []
    },
    {
      "cell_type": "markdown",
      "metadata": {
        "id": "SwgcEywwSSuc"
      },
      "source": [
        "### Question 2.6: Incorrect Analogy [code + written] (1.5 points)\n",
        "a. Below, we expect to see the intended analogy \"hand : glove :: foot : **sock**\", but we see an unexpected result instead. Give a potential reason as to why this particular analogy turned out the way it did?"
      ]
    },
    {
      "cell_type": "code",
      "execution_count": 27,
      "metadata": {
        "id": "m-ykWoJoSSuc",
        "colab": {
          "base_uri": "https://localhost:8080/"
        },
        "outputId": "26dc4b50-0ba0-4739-c109-3dc272c7db22"
      },
      "outputs": [
        {
          "output_type": "stream",
          "name": "stdout",
          "text": [
            "[('45,000-square', 0.4922032654285431),\n",
            " ('15,000-square', 0.4649604558944702),\n",
            " ('10,000-square', 0.4544755816459656),\n",
            " ('6,000-square', 0.44975775480270386),\n",
            " ('3,500-square', 0.444133460521698),\n",
            " ('700-square', 0.44257497787475586),\n",
            " ('50,000-square', 0.4356396794319153),\n",
            " ('3,000-square', 0.43486514687538147),\n",
            " ('30,000-square', 0.4330596923828125),\n",
            " ('footed', 0.43236875534057617)]\n"
          ]
        }
      ],
      "source": [
        "pprint.pprint(wv_from_bin.most_similar(positive=['foot', 'glove'], negative=['hand']))"
      ]
    },
    {
      "cell_type": "markdown",
      "metadata": {
        "id": "zn4ruS8MSSud"
      },
      "source": [
        "One reason is that in the dataset the word \"foot\" is not associated so often to the word \"sock\", but in an housing environment to the square meters of an house, for example."
      ]
    },
    {
      "cell_type": "markdown",
      "metadata": {
        "id": "D1gHyZt0SSud"
      },
      "source": [
        "b. Find another example of analogy that does *not* hold according to these vectors. In your solution, state the intended analogy in the form x:y :: a:b, and state the **incorrect** value of b according to the word vectors (in the previous example, this would be **'45,000-square'**)."
      ]
    },
    {
      "cell_type": "code",
      "source": [
        "x, y, a, b = \"car\", \"motorbike\", \"belt\", \"helmet\"\n",
        "pprint.pprint(wv_from_bin.most_similar(positive=[a, y], negative=[x]))"
      ],
      "metadata": {
        "id": "D_rlci42XQTw",
        "colab": {
          "base_uri": "https://localhost:8080/"
        },
        "outputId": "4ed15153-a9e9-410e-ce9b-42e0da525021"
      },
      "execution_count": 28,
      "outputs": [
        {
          "output_type": "stream",
          "name": "stdout",
          "text": [
            "[('belts', 0.5571020245552063),\n",
            " ('conveyer', 0.5419331789016724),\n",
            " ('trans-mexican', 0.49915263056755066),\n",
            " ('brigalow', 0.47632765769958496),\n",
            " ('borscht', 0.46307510137557983),\n",
            " ('strap', 0.4482104182243347),\n",
            " ('buckles', 0.4418050944805145),\n",
            " ('orogenic', 0.44027596712112427),\n",
            " ('klippen', 0.43689918518066406),\n",
            " ('conveyor', 0.4357641637325287)]\n"
          ]
        }
      ]
    },
    {
      "cell_type": "markdown",
      "metadata": {
        "id": "yvlycXN-SSuf"
      },
      "source": [
        "### Question 2.7: Guided Analysis of Bias in Word Vectors [written] (1 point)\n",
        "\n",
        "It's important to be cognizant of the biases (gender, race, sexual orientation etc.) implicit in our word embeddings. Bias can be dangerous because it can reinforce stereotypes through applications that employ these models.\n",
        "\n",
        "Run the cell below, to examine (a) which terms are most similar to \"woman\" and \"profession\" and most dissimilar to \"man\", and (b) which terms are most similar to \"man\" and \"profession\" and most dissimilar to \"woman\". Point out the difference between the list of female-associated words and the list of male-associated words, and explain how it is reflecting gender bias."
      ]
    },
    {
      "cell_type": "code",
      "execution_count": 29,
      "metadata": {
        "id": "XggWA4MhSSuf",
        "colab": {
          "base_uri": "https://localhost:8080/"
        },
        "outputId": "0ba2e6b6-c18c-404a-adaa-a546d324ec0a"
      },
      "outputs": [
        {
          "output_type": "stream",
          "name": "stdout",
          "text": [
            "[('reputation', 0.5250176787376404),\n",
            " ('professions', 0.5178037881851196),\n",
            " ('skill', 0.49046966433525085),\n",
            " ('skills', 0.49005505442619324),\n",
            " ('ethic', 0.4897659420967102),\n",
            " ('business', 0.4875852167606354),\n",
            " ('respected', 0.485920250415802),\n",
            " ('practice', 0.482104629278183),\n",
            " ('regarded', 0.4778572618961334),\n",
            " ('life', 0.4760662019252777)]\n",
            "\n",
            "[('professions', 0.5957457423210144),\n",
            " ('practitioner', 0.49884122610092163),\n",
            " ('teaching', 0.48292139172554016),\n",
            " ('nursing', 0.48211804032325745),\n",
            " ('vocation', 0.4788965880870819),\n",
            " ('teacher', 0.47160351276397705),\n",
            " ('practicing', 0.46937814354896545),\n",
            " ('educator', 0.46524327993392944),\n",
            " ('physicians', 0.4628995358943939),\n",
            " ('professionals', 0.4601394236087799)]\n"
          ]
        }
      ],
      "source": [
        "# Run this cell\n",
        "# Here `positive` indicates the list of words to be similar to and `negative` indicates the list of words to be\n",
        "# most dissimilar from.\n",
        "\n",
        "pprint.pprint(wv_from_bin.most_similar(positive=['man', 'profession'], negative=['woman']))\n",
        "print()\n",
        "pprint.pprint(wv_from_bin.most_similar(positive=['woman', 'profession'], negative=['man']))"
      ]
    },
    {
      "cell_type": "markdown",
      "metadata": {
        "id": "x4g6KbsYSSuh"
      },
      "source": [
        "It's interesting to see that the profession as a man is classified very closely to words like \"respected\", \"reputation\" or \"skills\".\n",
        "For a woman, on the other hand, there are words like \"practitioner\" or \"practicing\" or some jobs that are commonly associated to women like \"teaching\" or \"nurse\"."
      ]
    },
    {
      "cell_type": "markdown",
      "metadata": {
        "id": "LxJmnS6lSSui"
      },
      "source": [
        "### Question 2.8: Independent Analysis of Bias in Word Vectors [code + written]  (1 point)\n",
        "\n",
        "Use the `most_similar` function to find another pair of analogies that demonstrates some bias is exhibited by the vectors. Please briefly explain the example of bias that you discover."
      ]
    },
    {
      "cell_type": "code",
      "execution_count": 38,
      "metadata": {
        "id": "PZoDheIfSSui",
        "colab": {
          "base_uri": "https://localhost:8080/"
        },
        "outputId": "9b4587df-f2ab-4498-f63e-9d46185bd7be"
      },
      "outputs": [
        {
          "output_type": "stream",
          "name": "stdout",
          "text": [
            "[('laborer', 0.5199005603790283),\n",
            " ('employee', 0.5196560025215149),\n",
            " ('workers', 0.5082914233207703),\n",
            " ('nurse', 0.5043264627456665),\n",
            " ('unemployed', 0.4769095778465271),\n",
            " ('migrant', 0.45539939403533936),\n",
            " ('child', 0.45379209518432617),\n",
            " ('farmer', 0.4452209174633026),\n",
            " ('woman', 0.44423553347587585),\n",
            " ('teacher', 0.4417070150375366)]\n",
            "\n",
            "[('employee', 0.5614227652549744),\n",
            " ('workers', 0.555147647857666),\n",
            " ('eu', 0.4848196506500244),\n",
            " ('working', 0.47678476572036743),\n",
            " ('job', 0.4732009172439575),\n",
            " ('auto', 0.47210147976875305),\n",
            " ('employer', 0.47019466757774353),\n",
            " ('jobs', 0.4671891927719116),\n",
            " ('factory', 0.4661533236503601),\n",
            " ('labor', 0.46256116032600403)]\n"
          ]
        }
      ],
      "source": [
        "A = \"african\"\n",
        "B = \"european\"\n",
        "word = \"worker\"\n",
        "pprint.pprint(wv_from_bin.most_similar(positive=[A, word], negative=[B]))\n",
        "print()\n",
        "pprint.pprint(wv_from_bin.most_similar(positive=[B, word], negative=[A]))"
      ]
    },
    {
      "cell_type": "markdown",
      "metadata": {
        "id": "TGOlmtJoSSuj"
      },
      "source": [
        "It's clear there's a bias in the working areas for european (generally white) and black people."
      ]
    },
    {
      "cell_type": "markdown",
      "metadata": {
        "id": "eK2XVWzmSSuk"
      },
      "source": [
        "### Question 2.9: Thinking About Bias [written] (2 points)\n",
        "\n",
        "a. Give one explanation of how bias gets into the word vectors. Briefly describe a real-world example that demonstrates this source of bias."
      ]
    },
    {
      "cell_type": "markdown",
      "metadata": {
        "id": "19pM85fCSSuk"
      },
      "source": [
        "Word vectors are learned based on patterns and relationships observed in large text corpora, and if these corpora contain biased language, stereotypes, or reflect societal prejudices, the resulting word vectors can inherit and amplify those biases."
      ]
    },
    {
      "cell_type": "markdown",
      "metadata": {
        "id": "ILYqJZ7ASSul"
      },
      "source": [
        "b. What is one method you can use to mitigate bias exhibited by word vectors?  Briefly describe a real-world example that demonstrates this method."
      ]
    },
    {
      "cell_type": "markdown",
      "metadata": {
        "id": "dnJaAB7mSSul"
      },
      "source": [
        "Neutralization involves adjusting the word vectors to reduce bias in certain dimensions, particularly those associated with sensitive attributes like gender. The goal is to make gender-neutral words equidistant from both gender-specific words."
      ]
    }
  ],
  "metadata": {
    "anaconda-cloud": {},
    "kernelspec": {
      "display_name": "Python 3 (ipykernel)",
      "language": "python",
      "name": "python3"
    },
    "language_info": {
      "codemirror_mode": {
        "name": "ipython",
        "version": 3
      },
      "file_extension": ".py",
      "mimetype": "text/x-python",
      "name": "python",
      "nbconvert_exporter": "python",
      "pygments_lexer": "ipython3",
      "version": "3.9.7"
    },
    "colab": {
      "provenance": [],
      "include_colab_link": true
    }
  },
  "nbformat": 4,
  "nbformat_minor": 0
}