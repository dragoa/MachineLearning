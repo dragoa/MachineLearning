{
  "cells": [
    {
      "cell_type": "markdown",
      "metadata": {
        "id": "view-in-github",
        "colab_type": "text"
      },
      "source": [
        "<a href=\"https://colab.research.google.com/github/dragoa/MachineLearning/blob/main/ML-NLP/CS224N/01_Exploring_word_vectors.ipynb\" target=\"_parent\"><img src=\"https://colab.research.google.com/assets/colab-badge.svg\" alt=\"Open In Colab\"/></a>"
      ]
    },
    {
      "cell_type": "markdown",
      "metadata": {
        "id": "3HqK14JLSStR"
      },
      "source": [
        "# CS224N Assignment 1: Exploring Word Vectors (25 Points)\n",
        "\n",
        "Welcome to CS224N!\n",
        "\n",
        "Before you start, make sure you read the README.txt in the same directory as this notebook for important setup information. A lot of code is provided in this notebook, and we highly encourage you to read and understand it as part of the learning :)\n",
        "\n",
        "If you aren't super familiar with Python, Numpy, or Matplotlib, we recommend you check out the review session on Friday. The session will be recorded and the material will be made available on our [website](http://web.stanford.edu/class/cs224n/index.html#schedule). The CS231N Python/Numpy [tutorial](https://cs231n.github.io/python-numpy-tutorial/) is also a great resource.\n",
        "\n",
        "\n",
        "**Assignment Notes:** Please make sure to save the notebook as you go along. Submission Instructions are located at the bottom of the notebook."
      ]
    },
    {
      "cell_type": "code",
      "execution_count": 47,
      "metadata": {
        "id": "8AGQxROrSStf",
        "colab": {
          "base_uri": "https://localhost:8080/"
        },
        "outputId": "c38ccc09-4eb2-4264-ed9a-3824b0b7aaae"
      },
      "outputs": [
        {
          "output_type": "stream",
          "name": "stderr",
          "text": [
            "[nltk_data] Downloading package reuters to /root/nltk_data...\n",
            "[nltk_data]   Package reuters is already up-to-date!\n"
          ]
        }
      ],
      "source": [
        "# All Import Statements Defined Here\n",
        "import sys\n",
        "assert sys.version_info[0]==3\n",
        "assert sys.version_info[1] >= 5\n",
        "\n",
        "from platform import python_version\n",
        "assert int(python_version().split(\".\")[1]) >= 5, \"Please upgrade your Python version following the instructions in \\\n",
        "    the README.txt file found in the same directory as this notebook. Your Python version is \" + python_version()\n",
        "\n",
        "from gensim.models import KeyedVectors\n",
        "from gensim.test.utils import datapath\n",
        "import pprint\n",
        "import matplotlib.pyplot as plt\n",
        "plt.rcParams['figure.figsize'] = [10, 5]\n",
        "\n",
        "import nltk\n",
        "nltk.download('reuters') # to specify download location, optionally add the argument: download_dir='/specify/desired/path/'\n",
        "from nltk.corpus import reuters\n",
        "\n",
        "import numpy as np\n",
        "import random\n",
        "import scipy as sp\n",
        "from sklearn.decomposition import TruncatedSVD\n",
        "from sklearn.decomposition import PCA\n",
        "\n",
        "START_TOKEN = '<START>'\n",
        "END_TOKEN = '<END>'\n",
        "\n",
        "np.random.seed(13)\n",
        "random.seed(13)"
      ]
    },
    {
      "cell_type": "markdown",
      "metadata": {
        "id": "SICd5IedSSto"
      },
      "source": [
        "## Word Vectors\n",
        "\n",
        "Word Vectors are often used as a fundamental component for downstream NLP tasks, e.g. question answering, text generation, translation, etc., so it is important to build some intuitions as to their strengths and weaknesses. Here, you will explore two types of word vectors: those derived from *co-occurrence matrices*, and those derived via *GloVe*.\n",
        "\n",
        "**Note on Terminology:** The terms \"word vectors\" and \"word embeddings\" are often used interchangeably. The term \"embedding\" refers to the fact that we are encoding aspects of a word's meaning in a lower dimensional space. As [Wikipedia](https://en.wikipedia.org/wiki/Word_embedding) states, \"*conceptually it involves a mathematical embedding from a space with one dimension per word to a continuous vector space with a much lower dimension*\"."
      ]
    },
    {
      "cell_type": "markdown",
      "metadata": {
        "id": "6Eug6AVrSStr"
      },
      "source": [
        "## Part 1: Count-Based Word Vectors (10 points)\n",
        "\n",
        "Most word vector models start from the following idea:\n",
        "\n",
        "*You shall know a word by the company it keeps ([Firth, J. R. 1957:11](https://en.wikipedia.org/wiki/John_Rupert_Firth))*\n",
        "\n",
        "Many word vector implementations are driven by the idea that similar words, i.e., (near) synonyms, will be used in similar contexts. As a result, similar words will often be spoken or written along with a shared subset of words, i.e., contexts. By examining these contexts, we can try to develop embeddings for our words. With this intuition in mind, many \"old school\" approaches to constructing word vectors relied on word counts. Here we elaborate upon one of those strategies, *co-occurrence matrices* (for more information, see [here](https://web.stanford.edu/~jurafsky/slp3/6.pdf) or [here](https://medium.com/data-science-group-iitr/word-embedding-2d05d270b285))."
      ]
    },
    {
      "cell_type": "markdown",
      "metadata": {
        "id": "L6uQ9-DVSSts"
      },
      "source": [
        "### Co-Occurrence\n",
        "\n",
        "A co-occurrence matrix counts how often things co-occur in some environment. Given some word $w_i$ occurring in the document, we consider the *context window* surrounding $w_i$. Supposing our fixed window size is $n$, then this is the $n$ preceding and $n$ subsequent words in that document, i.e. words $w_{i-n} \\dots w_{i-1}$ and $w_{i+1} \\dots w_{i+n}$. We build a *co-occurrence matrix* $M$, which is a symmetric word-by-word matrix in which $M_{ij}$ is the number of times $w_j$ appears inside $w_i$'s window among all documents.\n",
        "\n",
        "**Example: Co-Occurrence with Fixed Window of n=1**:\n",
        "\n",
        "Document 1: \"all that glitters is not gold\"\n",
        "\n",
        "Document 2: \"all is well that ends well\"\n",
        "\n",
        "\n",
        "|     *    | `<START>` | all | that | glitters | is   | not  | gold  | well | ends | `<END>` |\n",
        "|----------|-------|-----|------|----------|------|------|-------|------|------|-----|\n",
        "| `<START>`    | 0     | 2   | 0    | 0        | 0    | 0    | 0     | 0    | 0    | 0   |\n",
        "| all      | 2     | 0   | 1    | 0        | 1    | 0    | 0     | 0    | 0    | 0   |\n",
        "| that     | 0     | 1   | 0    | 1        | 0    | 0    | 0     | 1    | 1    | 0   |\n",
        "| glitters | 0     | 0   | 1    | 0        | 1    | 0    | 0     | 0    | 0    | 0   |\n",
        "| is       | 0     | 1   | 0    | 1        | 0    | 1    | 0     | 1    | 0    | 0   |\n",
        "| not      | 0     | 0   | 0    | 0        | 1    | 0    | 1     | 0    | 0    | 0   |\n",
        "| gold     | 0     | 0   | 0    | 0        | 0    | 1    | 0     | 0    | 0    | 1   |\n",
        "| well     | 0     | 0   | 1    | 0        | 1    | 0    | 0     | 0    | 1    | 1   |\n",
        "| ends     | 0     | 0   | 1    | 0        | 0    | 0    | 0     | 1    | 0    | 0   |\n",
        "| `<END>`      | 0     | 0   | 0    | 0        | 0    | 0    | 1     | 1    | 0    | 0   |\n",
        "\n",
        "**Note:** In NLP, we often add `<START>` and `<END>` tokens to represent the beginning and end of sentences, paragraphs or documents. In this case we imagine `<START>` and `<END>` tokens encapsulating each document, e.g., \"`<START>` All that glitters is not gold `<END>`\", and include these tokens in our co-occurrence counts.\n",
        "\n",
        "The rows (or columns) of this matrix provide one type of word vectors (those based on word-word co-occurrence), but the vectors will be large in general (linear in the number of distinct words in a corpus). Thus, our next step is to run *dimensionality reduction*. In particular, we will run *SVD (Singular Value Decomposition)*, which is a kind of generalized *PCA (Principal Components Analysis)* to select the top $k$ principal components. Here's a visualization of dimensionality reduction with SVD. In this picture our co-occurrence matrix is $A$ with $n$ rows corresponding to $n$ words. We obtain a full matrix decomposition, with the singular values ordered in the diagonal $S$ matrix, and our new, shorter length-$k$ word vectors in $U_k$."
      ]
    },
    {
      "cell_type": "markdown",
      "source": [
        "![svd.png](data:image/png;base64,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)"
      ],
      "metadata": {
        "id": "JeiLbWvE4_Ge"
      }
    },
    {
      "cell_type": "markdown",
      "source": [
        "This reduced-dimensionality co-occurrence representation preserves semantic relationships between words, e.g. *doctor* and *hospital* will be closer than *doctor* and *dog*.\n",
        "\n",
        "**Notes:** If you can barely remember what an eigenvalue is, here's [a slow, friendly introduction to SVD](https://davetang.org/file/Singular_Value_Decomposition_Tutorial.pdf). If you want to learn more thoroughly about PCA or SVD, feel free to check out lectures [7](https://web.stanford.edu/class/cs168/l/l7.pdf), [8](http://theory.stanford.edu/~tim/s15/l/l8.pdf), and [9](https://web.stanford.edu/class/cs168/l/l9.pdf) of CS168. These course notes provide a great high-level treatment of these general purpose algorithms. Though, for the purpose of this class, you only need to know how to extract the k-dimensional embeddings by utilizing pre-programmed implementations of these algorithms from the numpy, scipy, or sklearn python packages. In practice, it is challenging to apply full SVD to large corpora because of the memory needed to perform PCA or SVD. However, if you only want the top $k$ vector components for relatively small $k$ — known as [Truncated SVD](https://en.wikipedia.org/wiki/Singular_value_decomposition#Truncated_SVD) — then there are reasonably scalable techniques to compute those iteratively."
      ],
      "metadata": {
        "id": "hxx0-R0L5EUD"
      }
    },
    {
      "cell_type": "markdown",
      "metadata": {
        "id": "7IKeK4xtSStv"
      },
      "source": [
        "### Plotting Co-Occurrence Word Embeddings\n",
        "\n",
        "Here, we will be using the Reuters (business and financial news) corpus. If you haven't run the import cell at the top of this page, please run it now (click it and press SHIFT-RETURN). The corpus consists of 10,788 news documents totaling 1.3 million words. These documents span 90 categories and are split into train and test. For more details, please see https://www.nltk.org/book/ch02.html. We provide a `read_corpus` function below that pulls out only articles from the \"gold\" (i.e. news articles about gold, mining, etc.) category. The function also adds `<START>` and `<END>` tokens to each of the documents, and lowercases words. You do **not** have to perform any other kind of pre-processing."
      ]
    },
    {
      "cell_type": "code",
      "execution_count": 48,
      "metadata": {
        "id": "xwD2htUoSStw"
      },
      "outputs": [],
      "source": [
        "def read_corpus(category=\"gold\"):\n",
        "    \"\"\" Read files from the specified Reuter's category.\n",
        "        Params:\n",
        "            category (string): category name\n",
        "        Return:\n",
        "            list of lists, with words from each of the processed files\n",
        "    \"\"\"\n",
        "    files = reuters.fileids(category)\n",
        "    return [[START_TOKEN] + [w.lower() for w in list(reuters.words(f))] + [END_TOKEN] for f in files]\n"
      ]
    },
    {
      "cell_type": "markdown",
      "metadata": {
        "id": "hVLquFhjSStx"
      },
      "source": [
        "Let's have a look what these documents are like…."
      ]
    },
    {
      "cell_type": "code",
      "execution_count": 49,
      "metadata": {
        "scrolled": false,
        "id": "mC7B9Cb-SSty",
        "colab": {
          "base_uri": "https://localhost:8080/"
        },
        "outputId": "a79939db-9042-4da1-8d88-5e181998d34d"
      },
      "outputs": [
        {
          "output_type": "stream",
          "name": "stdout",
          "text": [
            "[['<START>', 'western', 'mining', 'to', 'open', 'new', 'gold', 'mine', 'in', 'australia', 'western',\n",
            "  'mining', 'corp', 'holdings', 'ltd', '&', 'lt', ';', 'wmng', '.', 's', '>', '(', 'wmc', ')',\n",
            "  'said', 'it', 'will', 'establish', 'a', 'new', 'joint', 'venture', 'gold', 'mine', 'in', 'the',\n",
            "  'northern', 'territory', 'at', 'a', 'cost', 'of', 'about', '21', 'mln', 'dlrs', '.', 'the',\n",
            "  'mine', ',', 'to', 'be', 'known', 'as', 'the', 'goodall', 'project', ',', 'will', 'be', 'owned',\n",
            "  '60', 'pct', 'by', 'wmc', 'and', '40', 'pct', 'by', 'a', 'local', 'w', '.', 'r', '.', 'grace',\n",
            "  'and', 'co', '&', 'lt', ';', 'gra', '>', 'unit', '.', 'it', 'is', 'located', '30', 'kms', 'east',\n",
            "  'of', 'the', 'adelaide', 'river', 'at', 'mt', '.', 'bundey', ',', 'wmc', 'said', 'in', 'a',\n",
            "  'statement', 'it', 'said', 'the', 'open', '-', 'pit', 'mine', ',', 'with', 'a', 'conventional',\n",
            "  'leach', 'treatment', 'plant', ',', 'is', 'expected', 'to', 'produce', 'about', '50', ',', '000',\n",
            "  'ounces', 'of', 'gold', 'in', 'its', 'first', 'year', 'of', 'production', 'from', 'mid', '-',\n",
            "  '1988', '.', 'annual', 'ore', 'capacity', 'will', 'be', 'about', '750', ',', '000', 'tonnes', '.',\n",
            "  '<END>'],\n",
            " ['<START>', 'belgium', 'to', 'issue', 'gold', 'warrants', ',', 'sources', 'say', 'belgium',\n",
            "  'plans', 'to', 'issue', 'swiss', 'franc', 'warrants', 'to', 'buy', 'gold', ',', 'with', 'credit',\n",
            "  'suisse', 'as', 'lead', 'manager', ',', 'market', 'sources', 'said', '.', 'no', 'confirmation',\n",
            "  'or', 'further', 'details', 'were', 'immediately', 'available', '.', '<END>'],\n",
            " ['<START>', 'belgium', 'launches', 'bonds', 'with', 'gold', 'warrants', 'the', 'kingdom', 'of',\n",
            "  'belgium', 'is', 'launching', '100', 'mln', 'swiss', 'francs', 'of', 'seven', 'year', 'notes',\n",
            "  'with', 'warrants', 'attached', 'to', 'buy', 'gold', ',', 'lead', 'mananger', 'credit', 'suisse',\n",
            "  'said', '.', 'the', 'notes', 'themselves', 'have', 'a', '3', '-', '3', '/', '8', 'pct', 'coupon',\n",
            "  'and', 'are', 'priced', 'at', 'par', '.', 'payment', 'is', 'due', 'april', '30', ',', '1987',\n",
            "  'and', 'final', 'maturity', 'april', '30', ',', '1994', '.', 'each', '50', ',', '000', 'franc',\n",
            "  'note', 'carries', '15', 'warrants', '.', 'two', 'warrants', 'are', 'required', 'to', 'allow',\n",
            "  'the', 'holder', 'to', 'buy', '100', 'grammes', 'of', 'gold', 'at', 'a', 'price', 'of', '2', ',',\n",
            "  '450', 'francs', ',', 'during', 'the', 'entire', 'life', 'of', 'the', 'bond', '.', 'the',\n",
            "  'latest', 'gold', 'price', 'in', 'zurich', 'was', '2', ',', '045', '/', '2', ',', '070', 'francs',\n",
            "  'per', '100', 'grammes', '.', '<END>']]\n"
          ]
        }
      ],
      "source": [
        "reuters_corpus = read_corpus()\n",
        "pprint.pprint(reuters_corpus[:3], compact=True, width=100)"
      ]
    },
    {
      "cell_type": "markdown",
      "metadata": {
        "id": "tfa216H1SSt0"
      },
      "source": [
        "### Question 1.1: Implement `distinct_words` [code] (2 points)\n",
        "\n",
        "Write a method to work out the distinct words (word types) that occur in the corpus. You can do this with `for` loops, but it's more efficient to do it with Python list comprehensions. In particular, [this](https://coderwall.com/p/rcmaea/flatten-a-list-of-lists-in-one-line-in-python) may be useful to flatten a list of lists. If you're not familiar with Python list comprehensions in general, here's [more information](https://python-3-patterns-idioms-test.readthedocs.io/en/latest/Comprehensions.html).\n",
        "\n",
        "Your returned `corpus_words` should be sorted. You can use python's `sorted` function for this.\n",
        "\n",
        "You may find it useful to use [Python sets](https://www.w3schools.com/python/python_sets.asp) to remove duplicate words."
      ]
    },
    {
      "cell_type": "code",
      "execution_count": 50,
      "metadata": {
        "id": "NjJABbVFSSt1"
      },
      "outputs": [],
      "source": [
        "def distinct_words(corpus):\n",
        "    \"\"\" Determine a list of distinct words for the corpus.\n",
        "        Params:\n",
        "            corpus (list of list of strings): corpus of documents\n",
        "        Return:\n",
        "            corpus_words (list of strings): sorted list of distinct words across the corpus\n",
        "            n_corpus_words (integer): number of distinct words across the corpus\n",
        "    \"\"\"\n",
        "    flatten_corpus = [word for document in corpus for word in document]\n",
        "    corpus_words = sorted(set(flatten_corpus))\n",
        "    n_corpus_words = len(corpus_words)\n",
        "\n",
        "    return corpus_words, n_corpus_words"
      ]
    },
    {
      "cell_type": "code",
      "execution_count": 51,
      "metadata": {
        "id": "iKfXBXySSSt3",
        "colab": {
          "base_uri": "https://localhost:8080/"
        },
        "outputId": "2584fe65-65fc-441b-8e67-3493b0178c95"
      },
      "outputs": [
        {
          "output_type": "stream",
          "name": "stdout",
          "text": [
            "--------------------------------------------------------------------------------\n",
            "Passed All Tests!\n",
            "--------------------------------------------------------------------------------\n"
          ]
        }
      ],
      "source": [
        "# ---------------------\n",
        "# Run this sanity check\n",
        "# Note that this not an exhaustive check for correctness.\n",
        "# ---------------------\n",
        "\n",
        "# Define toy corpus\n",
        "test_corpus = [\"{} All that glitters isn't gold {}\".format(START_TOKEN, END_TOKEN).split(\" \"), \"{} All's well that ends well {}\".format(START_TOKEN, END_TOKEN).split(\" \")]\n",
        "test_corpus_words, num_corpus_words = distinct_words(test_corpus)\n",
        "\n",
        "# Correct answers\n",
        "ans_test_corpus_words = sorted([START_TOKEN, \"All\", \"ends\", \"that\", \"gold\", \"All's\", \"glitters\", \"isn't\", \"well\", END_TOKEN])\n",
        "ans_num_corpus_words = len(ans_test_corpus_words)\n",
        "\n",
        "# Test correct number of words\n",
        "assert(num_corpus_words == ans_num_corpus_words), \"Incorrect number of distinct words. Correct: {}. Yours: {}\".format(ans_num_corpus_words, num_corpus_words)\n",
        "\n",
        "# Test correct words\n",
        "assert (test_corpus_words == ans_test_corpus_words), \"Incorrect corpus_words.\\nCorrect: {}\\nYours:   {}\".format(str(ans_test_corpus_words), str(test_corpus_words))\n",
        "\n",
        "# Print Success\n",
        "print (\"-\" * 80)\n",
        "print(\"Passed All Tests!\")\n",
        "print (\"-\" * 80)"
      ]
    },
    {
      "cell_type": "markdown",
      "metadata": {
        "id": "ymDFJn_lSSt5"
      },
      "source": [
        "### Question 1.2: Implement `compute_co_occurrence_matrix` [code] (3 points)\n",
        "\n",
        "Write a method that constructs a co-occurrence matrix for a certain window-size $n$ (with a default of 4), considering words $n$ before and $n$ after the word in the center of the window. Here, we start to use `numpy (np)` to represent vectors, matrices, and tensors. If you're not familiar with NumPy, there's a NumPy tutorial in the second half of this cs231n [Python NumPy tutorial](http://cs231n.github.io/python-numpy-tutorial/).\n"
      ]
    },
    {
      "cell_type": "code",
      "execution_count": 52,
      "metadata": {
        "id": "v8MIy3KDSSt6"
      },
      "outputs": [],
      "source": [
        "def compute_co_occurrence_matrix(corpus, window_size=4):\n",
        "    \"\"\" Compute co-occurrence matrix for the given corpus and window_size (default of 4).\n",
        "\n",
        "        Note: Each word in a document should be at the center of a window. Words near edges will have a smaller\n",
        "              number of co-occurring words.\n",
        "\n",
        "              For example, if we take the document \"<START> All that glitters is not gold <END>\" with window size of 4,\n",
        "              \"All\" will co-occur with \"<START>\", \"that\", \"glitters\", \"is\", and \"not\".\n",
        "\n",
        "        Params:\n",
        "            corpus (list of list of strings): corpus of documents\n",
        "            window_size (int): size of context window\n",
        "        Return:\n",
        "            M (a symmetric numpy matrix of shape (number of unique words in the corpus , number of unique words in the corpus)):\n",
        "                Co-occurence matrix of word counts.\n",
        "                The ordering of the words in the rows/columns should be the same as the ordering of the words given by the distinct_words function.\n",
        "            word2ind (dict): dictionary that maps word to index (i.e. row/column number) for matrix M.\n",
        "    \"\"\"\n",
        "    words, n_words = distinct_words(corpus)\n",
        "    M = None\n",
        "    word2ind = {word: index for index, word in enumerate(words)}\n",
        "\n",
        "    M = np.zeros((n_words, n_words))\n",
        "\n",
        "    for phrase in corpus:\n",
        "        for i in range(len(phrase)):\n",
        "            word = phrase[i]\n",
        "\n",
        "            if i==0:\n",
        "                adj_words = phrase[i+1:i+window_size+1]\n",
        "            elif i==len(phrase)-1:\n",
        "                adj_words = phrase[i-window_size:i]\n",
        "            else:\n",
        "                adj_words = phrase[i-window_size:i+window_size+1]\n",
        "                if word in adj_words:\n",
        "                    adj_words.remove(word)\n",
        "\n",
        "            for adj_word in adj_words:\n",
        "                M[word2ind.get(word)][word2ind.get(adj_word)] += 1\n",
        "\n",
        "    return M, word2ind"
      ]
    },
    {
      "cell_type": "code",
      "execution_count": 53,
      "metadata": {
        "id": "u-6ID1qhSSt7",
        "colab": {
          "base_uri": "https://localhost:8080/"
        },
        "outputId": "15cadd74-c100-4b0c-87b8-558c51792979"
      },
      "outputs": [
        {
          "output_type": "stream",
          "name": "stdout",
          "text": [
            "--------------------------------------------------------------------------------\n",
            "Passed All Tests!\n",
            "--------------------------------------------------------------------------------\n"
          ]
        }
      ],
      "source": [
        "# ---------------------\n",
        "# Run this sanity check\n",
        "# Note that this is not an exhaustive check for correctness.\n",
        "# ---------------------\n",
        "\n",
        "# Define toy corpus and get student's co-occurrence matrix\n",
        "test_corpus = [\"{} All that glitters isn't gold {}\".format(START_TOKEN, END_TOKEN).split(\" \"), \"{} All's well that ends well {}\".format(START_TOKEN, END_TOKEN).split(\" \")]\n",
        "M_test, word2ind_test = compute_co_occurrence_matrix(test_corpus, window_size=1)\n",
        "\n",
        "# Correct M and word2ind\n",
        "M_test_ans = np.array(\n",
        "    [[0., 0., 0., 0., 0., 0., 1., 0., 0., 1.,],\n",
        "     [0., 0., 1., 1., 0., 0., 0., 0., 0., 0.,],\n",
        "     [0., 1., 0., 0., 0., 0., 0., 0., 1., 0.,],\n",
        "     [0., 1., 0., 0., 0., 0., 0., 0., 0., 1.,],\n",
        "     [0., 0., 0., 0., 0., 0., 0., 0., 1., 1.,],\n",
        "     [0., 0., 0., 0., 0., 0., 0., 1., 1., 0.,],\n",
        "     [1., 0., 0., 0., 0., 0., 0., 1., 0., 0.,],\n",
        "     [0., 0., 0., 0., 0., 1., 1., 0., 0., 0.,],\n",
        "     [0., 0., 1., 0., 1., 1., 0., 0., 0., 1.,],\n",
        "     [1., 0., 0., 1., 1., 0., 0., 0., 1., 0.,]]\n",
        ")\n",
        "ans_test_corpus_words = sorted([START_TOKEN, \"All\", \"ends\", \"that\", \"gold\", \"All's\", \"glitters\", \"isn't\", \"well\", END_TOKEN])\n",
        "word2ind_ans = dict(zip(ans_test_corpus_words, range(len(ans_test_corpus_words))))\n",
        "\n",
        "# Test correct word2ind\n",
        "assert (word2ind_ans == word2ind_test), \"Your word2ind is incorrect:\\nCorrect: {}\\nYours: {}\".format(word2ind_ans, word2ind_test)\n",
        "\n",
        "# Test correct M shape\n",
        "assert (M_test.shape == M_test_ans.shape), \"M matrix has incorrect shape.\\nCorrect: {}\\nYours: {}\".format(M_test.shape, M_test_ans.shape)\n",
        "\n",
        "# Test correct M values\n",
        "for w1 in word2ind_ans.keys():\n",
        "    idx1 = word2ind_ans[w1]\n",
        "    for w2 in word2ind_ans.keys():\n",
        "        idx2 = word2ind_ans[w2]\n",
        "        student = M_test[idx1, idx2]\n",
        "        correct = M_test_ans[idx1, idx2]\n",
        "        if student != correct:\n",
        "            print(\"Correct M:\")\n",
        "            print(M_test_ans)\n",
        "            print(\"Your M: \")\n",
        "            print(M_test)\n",
        "            raise AssertionError(\"Incorrect count at index ({}, {})=({}, {}) in matrix M. Yours has {} but should have {}.\".format(idx1, idx2, w1, w2, student, correct))\n",
        "\n",
        "# Print Success\n",
        "print (\"-\" * 80)\n",
        "print(\"Passed All Tests!\")\n",
        "print (\"-\" * 80)"
      ]
    },
    {
      "cell_type": "code",
      "source": [
        "M_reuters, word2ind_r = compute_co_occurrence_matrix(reuters_corpus)\n",
        "print(M_reuters)\n",
        "print(M_reuters.shape)"
      ],
      "metadata": {
        "colab": {
          "base_uri": "https://localhost:8080/"
        },
        "id": "nE_OxEiyjbEs",
        "outputId": "58d5c9f1-49fc-48b2-83e4-b492f6df9cbf"
      },
      "execution_count": 54,
      "outputs": [
        {
          "output_type": "stream",
          "name": "stdout",
          "text": [
            "[[20.  0.  3. ...  0.  3.  0.]\n",
            " [ 0.  0.  5. ...  0.  0.  0.]\n",
            " [ 3.  5.  4. ...  0.  0.  0.]\n",
            " ...\n",
            " [ 0.  0.  0. ...  0.  0.  0.]\n",
            " [ 3.  0.  0. ...  0.  0.  0.]\n",
            " [ 0.  0.  0. ...  0.  0.  0.]]\n",
            "(2830, 2830)\n"
          ]
        }
      ]
    },
    {
      "cell_type": "markdown",
      "metadata": {
        "id": "K-nyJnAASSt9"
      },
      "source": [
        "### Question 1.3: Implement `reduce_to_k_dim` [code] (1 point)\n",
        "\n",
        "Construct a method that performs dimensionality reduction on the matrix to produce k-dimensional embeddings. Use SVD to take the top k components and produce a new matrix of k-dimensional embeddings.\n",
        "\n",
        "**Note:** All of numpy, scipy, and scikit-learn (`sklearn`) provide *some* implementation of SVD, but only scipy and sklearn provide an implementation of Truncated SVD, and only sklearn provides an efficient randomized algorithm for calculating large-scale Truncated SVD. So please use [sklearn.decomposition.TruncatedSVD](https://scikit-learn.org/stable/modules/generated/sklearn.decomposition.TruncatedSVD.html)."
      ]
    },
    {
      "cell_type": "code",
      "execution_count": 55,
      "metadata": {
        "id": "truGMjifSSt9"
      },
      "outputs": [],
      "source": [
        "def reduce_to_k_dim(M, k=2):\n",
        "    \"\"\" Reduce a co-occurence count matrix of dimensionality (num_corpus_words, num_corpus_words)\n",
        "        to a matrix of dimensionality (num_corpus_words, k) using the following SVD function from Scikit-Learn:\n",
        "            - http://scikit-learn.org/stable/modules/generated/sklearn.decomposition.TruncatedSVD.html\n",
        "\n",
        "        Params:\n",
        "            M (numpy matrix of shape (number of unique words in the corpus , number of unique words in the corpus)): co-occurence matrix of word counts\n",
        "            k (int): embedding size of each word after dimension reduction\n",
        "        Return:\n",
        "            M_reduced (numpy matrix of shape (number of corpus words, k)): matrix of k-dimensioal word embeddings.\n",
        "                    In terms of the SVD from math class, this actually returns U * S\n",
        "    \"\"\"\n",
        "    n_iters = 10     # Use this parameter in your call to `TruncatedSVD`\n",
        "    M_reduced = None\n",
        "    print(\"Running Truncated SVD over %i words...\" % (M.shape[0]))\n",
        "\n",
        "    svd = TruncatedSVD(n_components=k, n_iter=n_iters, random_state=43)\n",
        "    M_reduced = svd.fit_transform(M)\n",
        "\n",
        "    print(\"Done.\")\n",
        "    return M_reduced"
      ]
    },
    {
      "cell_type": "code",
      "execution_count": 56,
      "metadata": {
        "id": "7pqKuqvhSSt-",
        "colab": {
          "base_uri": "https://localhost:8080/"
        },
        "outputId": "ae1d61aa-ca4b-4fc1-c02a-25cefa167460"
      },
      "outputs": [
        {
          "output_type": "stream",
          "name": "stdout",
          "text": [
            "Running Truncated SVD over 10 words...\n",
            "Done.\n",
            "--------------------------------------------------------------------------------\n",
            "Passed All Tests!\n",
            "--------------------------------------------------------------------------------\n"
          ]
        }
      ],
      "source": [
        "# ---------------------\n",
        "# Run this sanity check\n",
        "# Note that this is not an exhaustive check for correctness\n",
        "# In fact we only check that your M_reduced has the right dimensions.\n",
        "# ---------------------\n",
        "\n",
        "# Define toy corpus and run student code\n",
        "test_corpus = [\"{} All that glitters isn't gold {}\".format(START_TOKEN, END_TOKEN).split(\" \"), \"{} All's well that ends well {}\".format(START_TOKEN, END_TOKEN).split(\" \")]\n",
        "M_test, word2ind_test = compute_co_occurrence_matrix(test_corpus, window_size=1)\n",
        "M_test_reduced = reduce_to_k_dim(M_test, k=2)\n",
        "\n",
        "# Test proper dimensions\n",
        "assert (M_test_reduced.shape[0] == 10), \"M_reduced has {} rows; should have {}\".format(M_test_reduced.shape[0], 10)\n",
        "assert (M_test_reduced.shape[1] == 2), \"M_reduced has {} columns; should have {}\".format(M_test_reduced.shape[1], 2)\n",
        "\n",
        "# Print Success\n",
        "print (\"-\" * 80)\n",
        "print(\"Passed All Tests!\")\n",
        "print (\"-\" * 80)"
      ]
    },
    {
      "cell_type": "code",
      "source": [
        "print(M_test.shape)\n",
        "print(M_test_reduced.shape)"
      ],
      "metadata": {
        "colab": {
          "base_uri": "https://localhost:8080/"
        },
        "id": "YF6BaaPlhozH",
        "outputId": "8de41a94-d2c7-42b6-efc2-0053574a2487"
      },
      "execution_count": 57,
      "outputs": [
        {
          "output_type": "stream",
          "name": "stdout",
          "text": [
            "(10, 10)\n",
            "(10, 2)\n"
          ]
        }
      ]
    },
    {
      "cell_type": "code",
      "source": [
        "M_reuters_reduced = reduce_to_k_dim(M_reuters)\n",
        "\n",
        "print(M_reuters_reduced.shape)"
      ],
      "metadata": {
        "colab": {
          "base_uri": "https://localhost:8080/"
        },
        "id": "0m1SKko-l3lF",
        "outputId": "65281970-d60e-4b9d-ea0a-fa68852fa873"
      },
      "execution_count": 58,
      "outputs": [
        {
          "output_type": "stream",
          "name": "stdout",
          "text": [
            "Running Truncated SVD over 2830 words...\n",
            "Done.\n",
            "(2830, 2)\n"
          ]
        }
      ]
    },
    {
      "cell_type": "markdown",
      "metadata": {
        "id": "apZknsLoSSt_"
      },
      "source": [
        "### Question 1.4: Implement `plot_embeddings` [code] (1 point)\n",
        "\n",
        "Here you will write a function to plot a set of 2D vectors in 2D space. For graphs, we will use Matplotlib (`plt`).\n",
        "\n",
        "For this example, you may find it useful to adapt [this code](http://web.archive.org/web/20190924160434/https://www.pythonmembers.club/2018/05/08/matplotlib-scatter-plot-annotate-set-text-at-label-each-point/). In the future, a good way to make a plot is to look at [the Matplotlib gallery](https://matplotlib.org/gallery/index.html), find a plot that looks somewhat like what you want, and adapt the code they give."
      ]
    },
    {
      "cell_type": "code",
      "execution_count": 59,
      "metadata": {
        "id": "dDcCZE5lSSuA"
      },
      "outputs": [],
      "source": [
        "def plot_embeddings(M_reduced, word2ind, words):\n",
        "    \"\"\" Plot in a scatterplot the embeddings of the words specified in the list \"words\".\n",
        "        NOTE: do not plot all the words listed in M_reduced / word2ind.\n",
        "        Include a label next to each point.\n",
        "\n",
        "        Params:\n",
        "            M_reduced (numpy matrix of shape (number of unique words in the corpus , 2)): matrix of 2-dimensioal word embeddings\n",
        "            word2ind (dict): dictionary that maps word to indices for matrix M\n",
        "            words (list of strings): words whose embeddings we want to visualize\n",
        "    \"\"\"\n",
        "    x_coords = M_reduced[:, 0]\n",
        "    y_coords = M_reduced[:, 1]\n",
        "\n",
        "    for word in words:\n",
        "        idx = word2ind[word]\n",
        "        embedding = M_reduced[idx]\n",
        "        x = embedding[0]\n",
        "        y = embedding[1]\n",
        "\n",
        "        plt.scatter(x, y, marker='x', color='red')\n",
        "        plt.text(x, y, word, fontsize=9)\n"
      ]
    },
    {
      "cell_type": "code",
      "execution_count": 60,
      "metadata": {
        "id": "gHxOMWPxSSuB",
        "colab": {
          "base_uri": "https://localhost:8080/",
          "height": 497
        },
        "outputId": "46ec867b-c8d7-4dc5-ffd3-03129455cf3f"
      },
      "outputs": [
        {
          "output_type": "stream",
          "name": "stdout",
          "text": [
            "--------------------------------------------------------------------------------\n",
            "Outputted Plot:\n",
            "--------------------------------------------------------------------------------\n"
          ]
        },
        {
          "output_type": "display_data",
          "data": {
            "text/plain": [
              "<Figure size 1000x500 with 1 Axes>"
            ],
            "image/png": "[encoded data removed]"
          },
          "metadata": {}
        }
      ],
      "source": [
        "# ---------------------\n",
        "# Run this sanity check\n",
        "# Note that this is not an exhaustive check for correctness.\n",
        "# The plot produced should look like the \"test solution plot\" depicted below.\n",
        "# ---------------------\n",
        "\n",
        "print (\"-\" * 80)\n",
        "print (\"Outputted Plot:\")\n",
        "\n",
        "M_reduced_plot_test = np.array([[1, 1], [-1, -1], [1, -1], [-1, 1], [0, 0]])\n",
        "word2ind_plot_test = {'test1': 0, 'test2': 1, 'test3': 2, 'test4': 3, 'test5': 4}\n",
        "words = ['test1', 'test2', 'test3', 'test4', 'test5']\n",
        "plot_embeddings(M_reduced_plot_test, word2ind_plot_test, words)\n",
        "\n",
        "print (\"-\" * 80)"
      ]
    },
    {
      "cell_type": "markdown",
      "metadata": {
        "id": "YpBzYs2hSSuC"
      },
      "source": [
        "### Question 1.5: Co-Occurrence Plot Analysis [written] (3 points)\n",
        "\n",
        "Now we will put together all the parts you have written! We will compute the co-occurrence matrix with fixed window of 4 (the default window size), over the Reuters \"gold\" corpus. Then we will use TruncatedSVD to compute 2-dimensional embeddings of each word. TruncatedSVD returns U\\*S, so we need to normalize the returned vectors, so that all the vectors will appear around the unit circle (therefore closeness is directional closeness). **Note**: The line of code below that does the normalizing uses the NumPy concept of *broadcasting*. If you don't know about broadcasting, check out\n",
        "[Computation on Arrays: Broadcasting by Jake VanderPlas](https://jakevdp.github.io/PythonDataScienceHandbook/02.05-computation-on-arrays-broadcasting.html).\n",
        "\n",
        "Run the below cell to produce the plot. It'll probably take a few seconds to run."
      ]
    },
    {
      "cell_type": "code",
      "execution_count": null,
      "metadata": {
        "scrolled": false,
        "id": "7L1Uk50mSSuD"
      },
      "outputs": [],
      "source": [
        "# -----------------------------\n",
        "# Run This Cell to Produce Your Plot\n",
        "# ------------------------------\n",
        "reuters_corpus = read_corpus()\n",
        "M_co_occurrence, word2ind_co_occurrence = compute_co_occurrence_matrix(reuters_corpus)\n",
        "M_reduced_co_occurrence = reduce_to_k_dim(M_co_occurrence, k=2)\n",
        "\n",
        "# Rescale (normalize) the rows to make them each of unit-length\n",
        "M_lengths = np.linalg.norm(M_reduced_co_occurrence, axis=1)\n",
        "M_normalized = M_reduced_co_occurrence / M_lengths[:, np.newaxis] # broadcasting\n",
        "\n",
        "words = ['value', 'gold', 'platinum', 'reserves', 'silver', 'metals', 'copper', 'belgium', 'australia', 'china', 'grammes', \"mine\"]\n",
        "\n",
        "plot_embeddings(M_normalized, word2ind_co_occurrence, words)"
      ]
    },
    {
      "cell_type": "markdown",
      "metadata": {
        "id": "RtOd40JTSSuE"
      },
      "source": [
        "**Verify that your figure matches \"question_1.5.png\" in the assignment zip. If not, use that figure to answer the next two questions.**"
      ]
    },
    {
      "cell_type": "markdown",
      "metadata": {
        "id": "ciXWGMvRSSuE"
      },
      "source": [
        "a. Find at least two groups of words that cluster together in 2-dimensional embedding space. Give an explanation for each cluster you observe."
      ]
    },
    {
      "cell_type": "markdown",
      "metadata": {
        "id": "fLU7o3HESSuF"
      },
      "source": [
        "### SOLUTION BEGIN\n",
        "\n",
        "### SOLUTION END\n"
      ]
    },
    {
      "cell_type": "markdown",
      "metadata": {
        "id": "3H-tyA9RSSuF"
      },
      "source": [
        "b. What doesn't cluster together that you might think should have? Describe at least two examples."
      ]
    },
    {
      "cell_type": "markdown",
      "metadata": {
        "id": "3NG2j9J4SSuG"
      },
      "source": [
        "### SOLUTION BEGIN\n",
        "\n",
        "### SOLUTION END"
      ]
    },
    {
      "cell_type": "markdown",
      "metadata": {
        "id": "_h0OzAaRSSuI"
      },
      "source": [
        "## Part 2: Prediction-Based Word Vectors (15 points)\n",
        "\n",
        "As discussed in class, more recently prediction-based word vectors have demonstrated better performance, such as word2vec and GloVe (which also utilizes the benefit of counts). Here, we shall explore the embeddings produced by GloVe. Please revisit the class notes and lecture slides for more details on the word2vec and GloVe algorithms. If you're feeling adventurous, challenge yourself and try reading [GloVe's original paper](https://nlp.stanford.edu/pubs/glove.pdf).\n",
        "\n",
        "Then run the following cells to load the GloVe vectors into memory. **Note**: If this is your first time to run these cells, i.e. download the embedding model, it will take a couple minutes to run. If you've run these cells before, rerunning them will load the model without redownloading it, which will take about 1 to 2 minutes."
      ]
    },
    {
      "cell_type": "code",
      "execution_count": null,
      "metadata": {
        "id": "l3kwvdksSSuI"
      },
      "outputs": [],
      "source": [
        "def load_embedding_model():\n",
        "    \"\"\" Load GloVe Vectors\n",
        "        Return:\n",
        "            wv_from_bin: All 400000 embeddings, each lengh 200\n",
        "    \"\"\"\n",
        "    import gensim.downloader as api\n",
        "    wv_from_bin = api.load(\"glove-wiki-gigaword-200\")\n",
        "    print(\"Loaded vocab size %i\" % len(list(wv_from_bin.index_to_key)))\n",
        "    return wv_from_bin"
      ]
    },
    {
      "cell_type": "code",
      "execution_count": null,
      "metadata": {
        "scrolled": true,
        "id": "JCvVlSLZSSuJ"
      },
      "outputs": [],
      "source": [
        "# -----------------------------------\n",
        "# Run Cell to Load Word Vectors\n",
        "# Note: This will take a couple minutes\n",
        "# -----------------------------------\n",
        "wv_from_bin = load_embedding_model()"
      ]
    },
    {
      "cell_type": "markdown",
      "metadata": {
        "id": "egIeG1RTSSuK"
      },
      "source": [
        "#### Note: If you are receiving a \"reset by peer\" error, rerun the cell to restart the download. If you run into an \"attribute\" error, you may need to update to the most recent version of gensim and numpy. You can upgrade them inline by uncommenting and running the below cell:"
      ]
    },
    {
      "cell_type": "code",
      "source": [
        "#!pip install gensim --upgrade\n",
        "#!pip install numpy --upgrade"
      ],
      "metadata": {
        "id": "ZlF5fxSXcq95"
      },
      "execution_count": null,
      "outputs": []
    },
    {
      "cell_type": "markdown",
      "metadata": {
        "id": "rH9gWJWpSSuL"
      },
      "source": [
        "### Reducing dimensionality of Word Embeddings\n",
        "Let's directly compare the GloVe embeddings to those of the co-occurrence matrix. In order to avoid running out of memory, we will work with a sample of 10000 GloVe vectors instead.\n",
        "Run the following cells to:\n",
        "\n",
        "1. Put 10000 Glove vectors into a matrix M\n",
        "2. Run `reduce_to_k_dim` (your Truncated SVD function) to reduce the vectors from 200-dimensional to 2-dimensional."
      ]
    },
    {
      "cell_type": "code",
      "execution_count": null,
      "metadata": {
        "id": "0PROUu_-SSuL"
      },
      "outputs": [],
      "source": [
        "def get_matrix_of_vectors(wv_from_bin, required_words):\n",
        "    \"\"\" Put the GloVe vectors into a matrix M.\n",
        "        Param:\n",
        "            wv_from_bin: KeyedVectors object; the 400000 GloVe vectors loaded from file\n",
        "        Return:\n",
        "            M: numpy matrix shape (num words, 200) containing the vectors\n",
        "            word2ind: dictionary mapping each word to its row number in M\n",
        "    \"\"\"\n",
        "    import random\n",
        "    words = list(wv_from_bin.index_to_key)\n",
        "    print(\"Shuffling words ...\")\n",
        "    random.seed(225)\n",
        "    random.shuffle(words)\n",
        "    words = words[:10000]\n",
        "    print(\"Putting %i words into word2ind and matrix M...\" % len(words))\n",
        "    word2ind = {}\n",
        "    M = []\n",
        "    curInd = 0\n",
        "    for w in words:\n",
        "        try:\n",
        "            M.append(wv_from_bin.get_vector(w))\n",
        "            word2ind[w] = curInd\n",
        "            curInd += 1\n",
        "        except KeyError:\n",
        "            continue\n",
        "    for w in required_words:\n",
        "        if w in words:\n",
        "            continue\n",
        "        try:\n",
        "            M.append(wv_from_bin.get_vector(w))\n",
        "            word2ind[w] = curInd\n",
        "            curInd += 1\n",
        "        except KeyError:\n",
        "            continue\n",
        "    M = np.stack(M)\n",
        "    print(\"Done.\")\n",
        "    return M, word2ind"
      ]
    },
    {
      "cell_type": "code",
      "execution_count": null,
      "metadata": {
        "id": "cpgM0M-hSSuM"
      },
      "outputs": [],
      "source": [
        "# -----------------------------------------------------------------\n",
        "# Run Cell to Reduce 200-Dimensional Word Embeddings to k Dimensions\n",
        "# Note: This should be quick to run\n",
        "# -----------------------------------------------------------------\n",
        "M, word2ind = get_matrix_of_vectors(wv_from_bin, words)\n",
        "M_reduced = reduce_to_k_dim(M, k=2)\n",
        "\n",
        "# Rescale (normalize) the rows to make them each of unit-length\n",
        "M_lengths = np.linalg.norm(M_reduced, axis=1)\n",
        "M_reduced_normalized = M_reduced / M_lengths[:, np.newaxis] # broadcasting"
      ]
    },
    {
      "cell_type": "markdown",
      "metadata": {
        "id": "8_46FYMJSSuN"
      },
      "source": [
        "**Note: If you are receiving out of memory issues on your local machine, try closing other applications to free more memory on your device. You may want to try restarting your machine so that you can free up extra memory. Then immediately run the jupyter notebook and see if you can load the word vectors properly. If you still have problems with loading the embeddings onto your local machine after this, please go to office hours or contact course staff.**"
      ]
    },
    {
      "cell_type": "markdown",
      "metadata": {
        "id": "zAFrU8ahSSuO"
      },
      "source": [
        "### Question 2.1: GloVe Plot Analysis [written] (3 points)\n",
        "\n",
        "Run the cell below to plot the 2D GloVe embeddings for `['value', 'gold', 'platinum', 'reserves', 'silver', 'metals', 'copper', 'belgium', 'australia', 'china', 'grammes', \"mine\"]`."
      ]
    },
    {
      "cell_type": "code",
      "execution_count": null,
      "metadata": {
        "scrolled": true,
        "id": "9kHRkjz6SSuO"
      },
      "outputs": [],
      "source": [
        "words = ['value', 'gold', 'platinum', 'reserves', 'silver', 'metals', 'copper', 'belgium', 'australia', 'china', 'grammes', \"mine\"]\n",
        "\n",
        "plot_embeddings(M_reduced_normalized, word2ind, words)"
      ]
    },
    {
      "cell_type": "markdown",
      "metadata": {
        "id": "eOnrMZkzSSuP"
      },
      "source": [
        "a. What is one way the plot is different from the one generated earlier from the co-occurrence matrix? What is one way it's similar?"
      ]
    },
    {
      "cell_type": "markdown",
      "metadata": {
        "id": "5KC4PTQoSSuQ"
      },
      "source": [
        "### SOLUTION BEGIN\n",
        "\n",
        "### SOLUTION END"
      ]
    },
    {
      "cell_type": "markdown",
      "metadata": {
        "id": "bNDY5puZSSuQ"
      },
      "source": [
        "b. What is a possible cause for the difference?"
      ]
    },
    {
      "cell_type": "markdown",
      "metadata": {
        "id": "o-cWAvi8SSuR"
      },
      "source": [
        "### SOLUTION BEGIN\n",
        "\n",
        "### SOLUTION END"
      ]
    },
    {
      "cell_type": "markdown",
      "metadata": {
        "id": "nA8oIbjjSSuS"
      },
      "source": [
        "### Cosine Similarity\n",
        "Now that we have word vectors, we need a way to quantify the similarity between individual words, according to these vectors. One such metric is cosine-similarity. We will be using this to find words that are \"close\" and \"far\" from one another.\n",
        "\n",
        "We can think of n-dimensional vectors as points in n-dimensional space. If we take this perspective [L1](http://mathworld.wolfram.com/L1-Norm.html) and [L2](http://mathworld.wolfram.com/L2-Norm.html) Distances help quantify the amount of space \"we must travel\" to get between these two points. Another approach is to examine the angle between two vectors. From trigonometry we know that:\n",
        "\n",
        "<img src=\"./imgs/inner_product.png\" width=20% style=\"float: center;\"></img>\n",
        "\n",
        "Instead of computing the actual angle, we can leave the similarity in terms of $similarity = cos(\\Theta)$. Formally the [Cosine Similarity](https://en.wikipedia.org/wiki/Cosine_similarity) $s$ between two vectors $p$ and $q$ is defined as:\n",
        "\n",
        "$$s = \\frac{p \\cdot q}{||p|| ||q||}, \\textrm{ where } s \\in [-1, 1] $$"
      ]
    },
    {
      "cell_type": "markdown",
      "metadata": {
        "id": "sFfCOLUsSSuS"
      },
      "source": [
        "### Question 2.2: Words with Multiple Meanings (1.5 points) [code + written]\n",
        "Polysemes and homonyms are words that have more than one meaning (see this [wiki page](https://en.wikipedia.org/wiki/Polysemy) to learn more about the difference between polysemes and homonyms ). Find a word with *at least two different meanings* such that the top-10 most similar words (according to cosine similarity) contain related words from *both* meanings. For example, \"leaves\" has both \"go_away\" and \"a_structure_of_a_plant\" meaning in the top 10, and \"scoop\" has both \"handed_waffle_cone\" and \"lowdown\". You will probably need to try several polysemous or homonymic words before you find one.\n",
        "\n",
        "Please state the word you discover and the multiple meanings that occur in the top 10. Why do you think many of the polysemous or homonymic words you tried didn't work (i.e. the top-10 most similar words only contain **one** of the meanings of the words)?\n",
        "\n",
        "**Note**: You should use the `wv_from_bin.most_similar(word)` function to get the top 10 similar words. This function ranks all other words in the vocabulary with respect to their cosine similarity to the given word. For further assistance, please check the __[GenSim documentation](https://radimrehurek.com/gensim/models/keyedvectors.html#gensim.models.keyedvectors.FastTextKeyedVectors.most_similar)__."
      ]
    },
    {
      "cell_type": "code",
      "execution_count": null,
      "metadata": {
        "id": "ZAr09U-xSSuT"
      },
      "outputs": [],
      "source": [
        "### SOLUTION BEGIN\n",
        "\n",
        "### SOLUTION END"
      ]
    },
    {
      "cell_type": "markdown",
      "metadata": {
        "id": "VdQ018tjSSuT"
      },
      "source": [
        "### SOLUTION BEGIN\n",
        "\n",
        "### SOLUTION END"
      ]
    },
    {
      "cell_type": "markdown",
      "metadata": {
        "id": "VfeW-eK9SSuU"
      },
      "source": [
        "### Question 2.3: Synonyms & Antonyms (2 points) [code + written]\n",
        "\n",
        "When considering Cosine Similarity, it's often more convenient to think of Cosine Distance, which is simply 1 - Cosine Similarity.\n",
        "\n",
        "Find three words $(w_1,w_2,w_3)$ where $w_1$ and $w_2$ are synonyms and $w_1$ and $w_3$ are antonyms, but Cosine Distance $(w_1,w_3) <$ Cosine Distance $(w_1,w_2)$.\n",
        "\n",
        "As an example, $w_1$=\"happy\" is closer to $w_3$=\"sad\" than to $w_2$=\"cheerful\". Please find a different example that satisfies the above. Once you have found your example, please give a possible explanation for why this counter-intuitive result may have happened.\n",
        "\n",
        "You should use the the `wv_from_bin.distance(w1, w2)` function here in order to compute the cosine distance between two words. Please see the __[GenSim documentation](https://radimrehurek.com/gensim/models/keyedvectors.html#gensim.models.keyedvectors.FastTextKeyedVectors.distance)__ for further assistance."
      ]
    },
    {
      "cell_type": "code",
      "execution_count": null,
      "metadata": {
        "id": "bwlpPjpHSSuV"
      },
      "outputs": [],
      "source": [
        "### SOLUTION BEGIN\n",
        "\n",
        "w1 =\n",
        "w2 =\n",
        "w3 =\n",
        "w1_w2_dist = wv_from_bin.distance(w1, w2)\n",
        "w1_w3_dist = wv_from_bin.distance(w1, w3)\n",
        "\n",
        "print(\"Synonyms {}, {} have cosine distance: {}\".format(w1, w2, w1_w2_dist))\n",
        "print(\"Antonyms {}, {} have cosine distance: {}\".format(w1, w3, w1_w3_dist))\n",
        "\n",
        "### SOLUTION END"
      ]
    },
    {
      "cell_type": "markdown",
      "metadata": {
        "id": "PeIHjTFMSSuV"
      },
      "source": [
        "### SOLUTION BEGIN\n",
        "\n",
        "### SOLUTION END"
      ]
    },
    {
      "cell_type": "markdown",
      "metadata": {
        "id": "ZxIDq26zSSuW"
      },
      "source": [
        "### Question 2.4: Analogies with Word Vectors [written] (1.5 points)\n",
        "Word vectors have been shown to *sometimes* exhibit the ability to solve analogies.\n",
        "\n",
        "As an example, for the analogy \"man : grandfather :: woman : x\" (read: man is to grandfather as woman is to x), what is x?\n",
        "\n",
        "In the cell below, we show you how to use word vectors to find x using the `most_similar` function from the __[GenSim documentation](https://radimrehurek.com/gensim/models/keyedvectors.html#gensim.models.keyedvectors.KeyedVectors.most_similar)__. The function finds words that are most similar to the words in the `positive` list and most dissimilar from the words in the `negative` list (while omitting the input words, which are often the most similar; see [this paper](https://www.aclweb.org/anthology/N18-2039.pdf)). The answer to the analogy will have the highest cosine similarity (largest returned numerical value)."
      ]
    },
    {
      "cell_type": "code",
      "execution_count": null,
      "metadata": {
        "id": "u0pC7H4VSSuY"
      },
      "outputs": [],
      "source": [
        "# Run this cell to answer the analogy -- man : grandfather :: woman : x\n",
        "pprint.pprint(wv_from_bin.most_similar(positive=['woman', 'grandfather'], negative=['man']))"
      ]
    },
    {
      "cell_type": "markdown",
      "metadata": {
        "id": "XVv8I9WwSSuZ"
      },
      "source": [
        "Let $m$, $g$, $w$, and $x$ denote the word vectors for `man`, `grandfather`, `woman`, and the answer, respectively. Using **only** vectors $m$, $g$, $w$, and the vector arithmetic operators $+$ and $-$ in your answer, to what expression are we maximizing $x$'s cosine similarity?\n",
        "\n",
        "Hint: Recall that word vectors are simply multi-dimensional vectors that represent a word. It might help to draw out a 2D example using arbitrary locations of each vector. Where would `man` and `woman` lie in the coordinate plane relative to `grandfather` and the answer?"
      ]
    },
    {
      "cell_type": "markdown",
      "metadata": {
        "id": "KlUKBqtHSSuZ"
      },
      "source": [
        "### SOLUTION BEGIN\n",
        "\n",
        "### SOLUTION END"
      ]
    },
    {
      "cell_type": "markdown",
      "metadata": {
        "id": "2rRgMca9SSua"
      },
      "source": [
        "### Question 2.5: Finding Analogies [code + written]  (1.5 points)\n",
        "a. For the previous example, it's clear that \"grandmother\" completes the analogy. But give an intuitive explanation as to why the `most_similar` function gives us words like \"granddaughter\", \"daughter\", or \"mother?"
      ]
    },
    {
      "cell_type": "markdown",
      "metadata": {
        "id": "WgYQXazQSSua"
      },
      "source": [
        "### SOLUTION BEGIN\n",
        "\n",
        "### SOLUTION END"
      ]
    },
    {
      "cell_type": "markdown",
      "metadata": {
        "id": "p9aAUXEISSub"
      },
      "source": [
        "b. Find an example of analogy that holds according to these vectors (i.e. the intended word is ranked top). In your solution please state the full analogy in the form x:y :: a:b. If you believe the analogy is complicated, explain why the analogy holds in one or two sentences.\n",
        "\n",
        "**Note**: You may have to try many analogies to find one that works!"
      ]
    },
    {
      "cell_type": "code",
      "source": [
        "### SOLUTION BEGIN\n",
        "\n",
        "x, y, a, b = <FILL YOUR RESPONSE HERE>\n",
        "assert wv_from_bin.most_similar(positive=[a, y], negative=[x])[0][0] == b\n",
        "\n",
        "### SOLUTION END"
      ],
      "metadata": {
        "id": "dhzQJMYYVSjf"
      },
      "execution_count": null,
      "outputs": []
    },
    {
      "cell_type": "markdown",
      "metadata": {
        "id": "K3QlPqAwSSub"
      },
      "source": [
        "### SOLUTION BEGIN\n",
        "\n",
        "### SOLUTION END"
      ]
    },
    {
      "cell_type": "markdown",
      "metadata": {
        "id": "SwgcEywwSSuc"
      },
      "source": [
        "### Question 2.6: Incorrect Analogy [code + written] (1.5 points)\n",
        "a. Below, we expect to see the intended analogy \"hand : glove :: foot : **sock**\", but we see an unexpected result instead. Give a potential reason as to why this particular analogy turned out the way it did?"
      ]
    },
    {
      "cell_type": "code",
      "execution_count": null,
      "metadata": {
        "id": "m-ykWoJoSSuc"
      },
      "outputs": [],
      "source": [
        "pprint.pprint(wv_from_bin.most_similar(positive=['foot', 'glove'], negative=['hand']))"
      ]
    },
    {
      "cell_type": "markdown",
      "metadata": {
        "id": "zn4ruS8MSSud"
      },
      "source": [
        "### SOLUTION BEGIN\n",
        "\n",
        "### SOLUTION END"
      ]
    },
    {
      "cell_type": "markdown",
      "metadata": {
        "id": "D1gHyZt0SSud"
      },
      "source": [
        "b. Find another example of analogy that does *not* hold according to these vectors. In your solution, state the intended analogy in the form x:y :: a:b, and state the **incorrect** value of b according to the word vectors (in the previous example, this would be **'45,000-square'**)."
      ]
    },
    {
      "cell_type": "code",
      "source": [
        "### SOLUTION BEGIN\n",
        "\n",
        "x, y, a, b = <FILL YOUR RESPONSE HERE>\n",
        "pprint.pprint(wv_from_bin.most_similar(positive=[a, y], negative=[x]))\n",
        "\n",
        "### SOLUTION END"
      ],
      "metadata": {
        "id": "D_rlci42XQTw"
      },
      "execution_count": null,
      "outputs": []
    },
    {
      "cell_type": "markdown",
      "metadata": {
        "id": "c4x0EHjeSSue"
      },
      "source": [
        "### SOLUTION BEGIN\n",
        "\n",
        "### SOLUTION END"
      ]
    },
    {
      "cell_type": "markdown",
      "metadata": {
        "id": "yvlycXN-SSuf"
      },
      "source": [
        "### Question 2.7: Guided Analysis of Bias in Word Vectors [written] (1 point)\n",
        "\n",
        "It's important to be cognizant of the biases (gender, race, sexual orientation etc.) implicit in our word embeddings. Bias can be dangerous because it can reinforce stereotypes through applications that employ these models.\n",
        "\n",
        "Run the cell below, to examine (a) which terms are most similar to \"woman\" and \"profession\" and most dissimilar to \"man\", and (b) which terms are most similar to \"man\" and \"profession\" and most dissimilar to \"woman\". Point out the difference between the list of female-associated words and the list of male-associated words, and explain how it is reflecting gender bias."
      ]
    },
    {
      "cell_type": "code",
      "execution_count": null,
      "metadata": {
        "id": "XggWA4MhSSuf"
      },
      "outputs": [],
      "source": [
        "# Run this cell\n",
        "# Here `positive` indicates the list of words to be similar to and `negative` indicates the list of words to be\n",
        "# most dissimilar from.\n",
        "\n",
        "pprint.pprint(wv_from_bin.most_similar(positive=['man', 'profession'], negative=['woman']))\n",
        "print()\n",
        "pprint.pprint(wv_from_bin.most_similar(positive=['woman', 'profession'], negative=['man']))"
      ]
    },
    {
      "cell_type": "markdown",
      "metadata": {
        "id": "x4g6KbsYSSuh"
      },
      "source": [
        "### SOLUTION BEGIN\n",
        "\n",
        "### SOLUTION END"
      ]
    },
    {
      "cell_type": "markdown",
      "metadata": {
        "id": "LxJmnS6lSSui"
      },
      "source": [
        "### Question 2.8: Independent Analysis of Bias in Word Vectors [code + written]  (1 point)\n",
        "\n",
        "Use the `most_similar` function to find another pair of analogies that demonstrates some bias is exhibited by the vectors. Please briefly explain the example of bias that you discover."
      ]
    },
    {
      "cell_type": "code",
      "execution_count": null,
      "metadata": {
        "id": "PZoDheIfSSui"
      },
      "outputs": [],
      "source": [
        "### SOLUTION BEGIN\n",
        "\n",
        "A =\n",
        "B =\n",
        "word =\n",
        "pprint.pprint(wv_from_bin.most_similar(positive=[A, word], negative=[B]))\n",
        "print()\n",
        "pprint.pprint(wv_from_bin.most_similar(positive=[B, word], negative=[A]))\n",
        "\n",
        "### SOLUTION END"
      ]
    },
    {
      "cell_type": "markdown",
      "metadata": {
        "id": "TGOlmtJoSSuj"
      },
      "source": [
        "### SOLUTION BEGIN\n",
        "\n",
        "### SOLUTION END"
      ]
    },
    {
      "cell_type": "markdown",
      "metadata": {
        "id": "eK2XVWzmSSuk"
      },
      "source": [
        "### Question 2.9: Thinking About Bias [written] (2 points)\n",
        "\n",
        "a. Give one explanation of how bias gets into the word vectors. Briefly describe a real-world example that demonstrates this source of bias."
      ]
    },
    {
      "cell_type": "markdown",
      "metadata": {
        "id": "19pM85fCSSuk"
      },
      "source": [
        "### SOLUTION BEGIN\n",
        "\n",
        "### SOLUTION END"
      ]
    },
    {
      "cell_type": "markdown",
      "metadata": {
        "id": "ILYqJZ7ASSul"
      },
      "source": [
        "b. What is one method you can use to mitigate bias exhibited by word vectors?  Briefly describe a real-world example that demonstrates this method."
      ]
    },
    {
      "cell_type": "markdown",
      "metadata": {
        "id": "dnJaAB7mSSul"
      },
      "source": [
        "\n",
        "### SOLUTION BEGIN\n",
        "\n",
        "### SOLUTION END"
      ]
    },
    {
      "cell_type": "markdown",
      "metadata": {
        "id": "dzh3eEmZSSum"
      },
      "source": [
        "# <font color=\"blue\"> Submission Instructions</font>\n",
        "\n",
        "1. Click the Save button at the top of the Jupyter Notebook.\n",
        "2. Select Cell -> All Output -> Clear. This will clear all the outputs from all cells (but will keep the content of all cells).\n",
        "2. Select Cell -> Run All. This will run all the cells in order, and will take several minutes.\n",
        "3. Once you've rerun everything, select File -> Download as -> PDF via LaTeX (If you have trouble using \"PDF via LaTex\", you can also save the webpage as pdf. <font color='blue'> Make sure all your solutions especially the coding parts are displayed in the pdf</font>, it's okay if the provided codes get cut off because lines are not wrapped in code cells).\n",
        "4. Look at the PDF file and make sure all your solutions are there, displayed correctly. The PDF is the only thing your graders will see!\n",
        "5. Submit your PDF on Gradescope."
      ]
    }
  ],
  "metadata": {
    "anaconda-cloud": {},
    "kernelspec": {
      "display_name": "Python 3 (ipykernel)",
      "language": "python",
      "name": "python3"
    },
    "language_info": {
      "codemirror_mode": {
        "name": "ipython",
        "version": 3
      },
      "file_extension": ".py",
      "mimetype": "text/x-python",
      "name": "python",
      "nbconvert_exporter": "python",
      "pygments_lexer": "ipython3",
      "version": "3.9.7"
    },
    "colab": {
      "provenance": [],
      "include_colab_link": true
    }
  },
  "nbformat": 4,
  "nbformat_minor": 0
}