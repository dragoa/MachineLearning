{
 "cells": [
  {
   "cell_type": "markdown",
   "id": "ec889d86-0d16-477f-8b7f-be03d73ad957",
   "metadata": {},
   "source": [
    "# Lab 1 - Overview of embeddings-based retrieval"
   ]
  },
  {
   "cell_type": "markdown",
   "id": "58ee2f53-d88b-4f00-94a2-75a66d4149e9",
   "metadata": {},
   "source": [
    "Welcome! Here's a few notes about the Chroma course notebooks.\n",
    " - A number of warnings pop up when running the notebooks. These are normal and can be ignored.\n",
    " - Some operations such as calling an LLM or an opeation using generated data return unpredictable results and so your notebook outputs may differ from the video.\n",
    "  \n",
    "Enjoy the course!"
   ]
  },
  {
   "cell_type": "code",
   "execution_count": 1,
   "id": "5a5536f0-651c-40e7-aa15-27ee0cda80b7",
   "metadata": {
    "height": 30
   },
   "outputs": [],
   "source": [
    "from helper_utils import word_wrap"
   ]
  },
  {
   "cell_type": "code",
   "execution_count": 2,
   "id": "3748b16d-d4a7-49c3-a48a-57dcfc42acd6",
   "metadata": {
    "height": 166
   },
   "outputs": [
    {
     "name": "stdout",
     "output_type": "stream",
     "text": [
      "1 Dear shareholders, colleagues, customers, and partners:  \n",
      "We are\n",
      "living through a period of historic economic, societal, and\n",
      "geopolitical change. The world in 2022 looks nothing like \n",
      "the world in\n",
      "2019. As I write this, inflation is at a 40 -year high, supply chains\n",
      "are stretched, and the war in Ukraine is \n",
      "ongoing. At the same time, we\n",
      "are entering a technological era with the potential to power awesome\n",
      "advancements \n",
      "across every sector of our economy and society. As the\n",
      "world’s largest software company, this places us at a historic\n",
      "\n",
      "intersection of opportunity and responsibility to the world around us.\n",
      " \n",
      "Our mission to empower every person and every organization on the\n",
      "planet to achieve more has never been more \n",
      "urgent or more necessary.\n",
      "For all the uncertainty in the world, one thing is clear: People and\n",
      "organizations in every \n",
      "industry are increasingly looking to digital\n",
      "technology to overcome today’s challenges and emerge stronger. And no\n",
      "\n",
      "company is better positioned to help them than Microsoft.  \n",
      "Every day\n",
      "this past fiscal year I have had the privilege to witness our customers\n",
      "use our platforms and tools to connect \n",
      "what technology can do with\n",
      "what the world needs  it to do.  \n",
      "Here are just a few examples:  \n",
      "•\n",
      "Ferrovial, which builds and manages some of the world’s busiest\n",
      "airports and highways, is using our cloud \n",
      "infrastructure to build\n",
      "safer roads as it prepares for a future of autonomous transportation. \n",
      "\n",
      "• Peace Parks Foundation, a nonprofit helping protect natural\n",
      "ecosystems in Southern Africa, is using Microsoft \n",
      "Dynamics 365 and\n",
      "Power BI to secure essential funding, as well as our Azure AI and IoT\n",
      "solutions to help \n",
      "rangers scale their park maintenance and wildlife\n",
      "crime prevention work.  \n",
      "• One of the world’s largest robotics\n",
      "companies, Kawasaki Heavy Industries, is using the breadth of our tools\n",
      "—\n",
      "from Azure IoT and HoloLens —to create an industrial metaverse\n",
      "solution that brings its distributed workforce \n",
      "together with its\n",
      "network of connected equipment to improve productivity and keep\n",
      "employees safe.  \n",
      "• Globo, the biggest media and TV company in Brazil,\n",
      "is using Power Platform to empower its employees to \n",
      "build their own\n",
      "solutions for everything from booking sets to setting schedules.  \n",
      "•\n",
      "And Ørsted, which produces a quarter of the world’s wind energy, is\n",
      "using the Microsoft Intelligent Data \n",
      "Platform to turn data from its\n",
      "offshore turbines into insights for predictive maintenance.  \n",
      "Amid this\n",
      "dynamic environment, we delivered record results in fiscal year 2022:\n",
      "We reported $198  billion in revenue and \n",
      "$83 billion in operating\n",
      "income. And the Microsoft Cloud surpassed $100  billion in annualized\n",
      "revenue for the first time.  \n",
      "OUR RESPONSIBILITY  \n",
      "As a corporation,\n",
      "our purpose and actions must be aligned with addressing the world’s\n",
      "problems, not creating new ones. \n",
      "At our very core, we need to deliver\n",
      "innovation that helps drive broad economic growth. We, as a company,\n",
      "will do well \n",
      "when the world around us does well.  \n",
      "That’s what I\n",
      "believe will lead to widespread human progress and ultimately improve\n",
      "the lives of everyone. There is no \n",
      "more powerful input than digital\n",
      "technology to drive the world’s economic output. This is the core\n",
      "thesis for our being as a \n",
      "company, but it’s not enough. As we drive\n",
      "global economic growth, we must also commit to creating a more\n",
      "inclusive, \n",
      "equitable, sustainable, and trusted future.  \n",
      "Support\n",
      "inclusive economic growth  \n",
      "We must ensure the growth we drive reaches\n",
      "every person, organization, community, and country. This starts with\n",
      "\n",
      "increasing access to digital skills. This year alone, more than 23 \n",
      "million people accessed digital skills training as part of \n",
      "our global\n",
      "skills initiative.\n"
     ]
    }
   ],
   "source": [
    "from pypdf import PdfReader\n",
    "\n",
    "reader = PdfReader(\"microsoft_annual_report_2022.pdf\")\n",
    "pdf_texts = [p.extract_text().strip() for p in reader.pages]\n",
    "\n",
    "# Filter the empty strings\n",
    "pdf_texts = [text for text in pdf_texts if text]\n",
    "\n",
    "print(word_wrap(pdf_texts[0]))"
   ]
  },
  {
   "cell_type": "markdown",
   "id": "bbd608a5-b6c9-4ae9-a871-a3e470a4d12a",
   "metadata": {},
   "source": [
    "You can view the pdf in your browser [here](./microsoft_annual_report_2022.pdf) if you would like. "
   ]
  },
  {
   "cell_type": "code",
   "execution_count": 3,
   "id": "a338ec83-6301-41a5-9ab1-e5d583306a3f",
   "metadata": {
    "height": 47
   },
   "outputs": [],
   "source": [
    "from langchain.text_splitter import RecursiveCharacterTextSplitter, SentenceTransformersTokenTextSplitter\n"
   ]
  },
  {
   "cell_type": "code",
   "execution_count": 4,
   "id": "888a86f8-2fe2-4682-bdaf-c15129ed1a32",
   "metadata": {
    "height": 166
   },
   "outputs": [
    {
     "name": "stdout",
     "output_type": "stream",
     "text": [
      "increased, due in large part to significant global datacenter\n",
      "expansions and the growth in Xbox sales and usage. Despite \n",
      "these\n",
      "increases, we remain dedicated to achieving a net -zero future. We\n",
      "recognize that progress won’t always be linear, \n",
      "and the rate at which\n",
      "we can implement emissions reductions is dependent on many factors that\n",
      "can fluctuate over time.  \n",
      "On the path to becoming water positive, we\n",
      "invested in 21 water replenishment projects that are expected to\n",
      "generate \n",
      "over 1.3  million cubic meters of volumetric benefits in nine\n",
      "water basins around the world. Progress toward our zero waste\n",
      "\n",
      "commitment included diverting more than 15,200 metric tons of solid\n",
      "waste otherwise headed to landfills and incinerators, \n",
      "as well as\n",
      "launching new Circular Centers to increase reuse and reduce e -waste at\n",
      "our datacenters.  \n",
      "We contracted to protect over 17,000 acres of land\n",
      "(50% more than the land we use to operate), thus achieving our\n",
      "\n",
      "Total chunks: 347\n"
     ]
    }
   ],
   "source": [
    "character_splitter = RecursiveCharacterTextSplitter(\n",
    "    separators=[\"\\n\\n\", \"\\n\", \". \", \" \", \"\"],\n",
    "    chunk_size=1000,\n",
    "    chunk_overlap=0\n",
    ")\n",
    "character_split_texts = character_splitter.split_text('\\n\\n'.join(pdf_texts))\n",
    "\n",
    "print(word_wrap(character_split_texts[10]))\n",
    "print(f\"\\nTotal chunks: {len(character_split_texts)}\")"
   ]
  },
  {
   "cell_type": "code",
   "execution_count": 5,
   "id": "5665c695-22ea-4264-b1ac-5ba720b6d78b",
   "metadata": {
    "height": 166
   },
   "outputs": [
    {
     "name": "stdout",
     "output_type": "stream",
     "text": [
      "increased, due in large part to significant global datacenter\n",
      "expansions and the growth in xbox sales and usage. despite these\n",
      "increases, we remain dedicated to achieving a net - zero future. we\n",
      "recognize that progress won ’ t always be linear, and the rate at which\n",
      "we can implement emissions reductions is dependent on many factors that\n",
      "can fluctuate over time. on the path to becoming water positive, we\n",
      "invested in 21 water replenishment projects that are expected to\n",
      "generate over 1. 3 million cubic meters of volumetric benefits in nine\n",
      "water basins around the world. progress toward our zero waste\n",
      "commitment included diverting more than 15, 200 metric tons of solid\n",
      "waste otherwise headed to landfills and incinerators, as well as\n",
      "launching new circular centers to increase reuse and reduce e - waste\n",
      "at our datacenters. we contracted to protect over 17, 000 acres of land\n",
      "( 50 % more than the land we use to operate ), thus achieving our\n",
      "\n",
      "Total chunks: 349\n"
     ]
    }
   ],
   "source": [
    "# splitting again the previously splitted chunks in order to fit the context window of the embedding model \n",
    "token_splitter = SentenceTransformersTokenTextSplitter(chunk_overlap=0, tokens_per_chunk=256)\n",
    "\n",
    "token_split_texts = []\n",
    "for text in character_split_texts:\n",
    "    token_split_texts += token_splitter.split_text(text)\n",
    "\n",
    "print(word_wrap(token_split_texts[10]))\n",
    "print(f\"\\nTotal chunks: {len(token_split_texts)}\")"
   ]
  },
  {
   "cell_type": "markdown",
   "id": "7ffc28ad",
   "metadata": {
    "height": 30
   },
   "source": [
    "SentenceTransformerEmbeddingModel: is an extension of the BERT architecture. Each token is embedded in this architecture. The SentenceTransformerEmbeddingModel allows to embed sentences or entire documents by pooling the output of all the token embeddings to produce a single dense vector per document or in our case per chunck."
   ]
  },
  {
   "cell_type": "code",
   "execution_count": 6,
   "id": "c2a13d14-4484-46f0-8e67-277337f9d138",
   "metadata": {
    "height": 98
   },
   "outputs": [
    {
     "name": "stdout",
     "output_type": "stream",
     "text": [
      "[[0.042562730610370636, 0.03321179747581482, 0.030340086668729782, -0.034866590052843094, 0.068416528403759, -0.08090916275978088, -0.015474376268684864, -0.0014509022003039718, -0.016744442284107208, 0.06770766526460648, -0.05054137110710144, -0.04919537901878357, 0.05139990895986557, 0.09192729741334915, -0.07177843898534775, 0.039519671350717545, -0.012833543121814728, -0.024947522208094597, -0.04622867330908775, -0.02435745671391487, 0.03394969180226326, 0.02550245262682438, 0.02731715887784958, -0.00412624841555953, -0.03633829578757286, 0.003690940560773015, -0.02743045799434185, 0.004796747118234634, -0.0288962721824646, -0.01887071132659912, 0.036666274070739746, 0.025695854797959328, 0.03131285682320595, -0.06393439322710037, 0.05394405871629715, 0.08225351572036743, -0.04175681993365288, -0.006995799019932747, -0.02348603866994381, -0.03074794076383114, -0.002979206619784236, -0.07790936529636383, 0.009353135712444782, 0.003162877866998315, -0.022257063537836075, -0.018294688314199448, -0.00961248017847538, -0.03150685131549835, -0.005519670434296131, -0.032703034579753876, 0.16802978515625, -0.04745962470769882, -0.0500168651342392, -0.0026596293319016695, -0.041047241538763046, -0.07003942877054214, 0.01829592138528824, -0.031431082636117935, -0.04741121083498001, -0.023663626983761787, 0.05944951996207237, -0.07201442122459412, 0.004945225082337856, -0.05532700568437576, 0.08745483309030533, 0.027872728183865547, -0.03977256640791893, 0.03452993929386139, -0.09992027282714844, 0.03289754316210747, -0.057804230600595474, 0.002454655012115836, -0.02789231948554516, -0.04994706064462662, -0.04058248549699783, 0.011917556636035442, 0.02041909657418728, 0.07765397429466248, 0.06351618468761444, 0.017546895891427994, 0.023460937663912773, -0.007916624657809734, 0.01707421988248825, 0.008641197346150875, -0.06815344095230103, 0.034296151250600815, 0.0006464941543526947, 0.022735435515642166, 0.052793603390455246, -0.058573175221681595, -0.09784108400344849, -0.0014719367027282715, 0.13739889860153198, 0.002079394878819585, -0.07581514120101929, 0.05786575749516487, -0.06069641932845116, -0.06595759838819504, -0.03365059569478035, -0.031859274953603745, 0.012266643345355988, 0.09373302757740021, 0.06799505650997162, -0.08434037864208221, 0.0440247505903244, -0.04263870418071747, 0.01116306334733963, 0.10505212843418121, 0.029505867511034012, -0.01852111890912056, -0.029688280075788498, -0.03377028927206993, 0.0014967111637815833, 0.03732370212674141, -0.020249763503670692, 0.05842078849673271, -0.03979165107011795, -0.021219739690423012, 0.006418163422495127, -0.010290190577507019, 0.01962614431977272, 0.0036797495558857918, -0.050310924649238586, -0.01689709536731243, 0.048544928431510925, 0.0668230652809143, 0.01953630894422531, 2.722746687944793e-33, -0.03593411669135094, 0.015661850571632385, 0.09677659720182419, -0.0002851529570762068, -0.009768567979335785, -0.09068474173545837, 0.014486287720501423, 0.012590763159096241, 0.02543589286506176, -0.03443485125899315, 0.004262881353497505, 0.027121400460600853, -0.02040998637676239, 0.07688487321138382, 0.035720955580472946, -0.13492533564567566, 0.05657855048775673, 0.01836453191936016, 0.022577881813049316, -0.03589027747511864, -0.01145672332495451, -0.049938272684812546, -0.016012346372008324, -0.06335372477769852, 0.10463961213827133, -0.0880160853266716, -0.004462329670786858, -0.010301033966243267, -0.01763073168694973, -0.020292283967137337, 0.00670422101393342, 0.09172343462705612, -0.007795088458806276, 0.005949445068836212, -0.015348871238529682, 0.018279636278748512, -0.01892152801156044, 0.03987531363964081, -0.00396727817133069, 0.033419251441955566, -0.0560772567987442, 0.07581254839897156, -0.005625510588288307, -0.054455194622278214, 0.06698442250490189, -0.025974372401833534, 0.11199557781219482, -0.03642147406935692, 0.005012551322579384, 0.032009970396757126, 0.04963691532611847, 0.09711594134569168, -0.11546945571899414, 0.06413275003433228, -0.03397879749536514, -0.09291565418243408, 0.04975481331348419, -0.086134172976017, -0.00836636871099472, -0.013703739270567894, -0.07882801443338394, 0.01965440809726715, -0.037150513380765915, 0.01447618380188942, -0.04940309002995491, 0.05349244922399521, 0.09139014035463333, 0.031002912670373917, 0.030287601053714752, 0.021342808380723, -0.04393772780895233, -0.042974453419446945, -0.0022650572936981916, -0.021944116801023483, 0.0054745725356042385, -0.010243888013064861, 0.02167799323797226, -0.027323700487613678, -0.0007882128702476621, 0.03308917209506035, -0.0074023474007844925, 0.009830026887357235, 0.013544115237891674, -0.03274485096335411, 0.05601909011602402, -0.0601164810359478, 0.03112194687128067, 0.034422434866428375, 0.026550501585006714, -0.006807939615100622, -0.011054206639528275, -0.014439855702221394, 0.02278534695506096, -0.02795199118554592, -0.0162089541554451, -3.689251183831332e-33, 0.029203733429312706, 0.04670485109090805, -0.049644164741039276, 0.06324486434459686, 0.028437988832592964, -0.02235722728073597, 0.03347983583807945, -0.018478689715266228, 0.018780162557959557, 0.0024116269778460264, -0.08167842775583267, 0.10084163397550583, 0.04902314394712448, 0.03646735101938248, -0.04556041583418846, -0.07049193233251572, 0.0253403689712286, -0.032679419964551926, -0.04296492040157318, -0.0725102350115776, 0.04130711033940315, 0.050497207790613174, 0.006477224174886942, -0.003324932185932994, -0.08235663175582886, 0.0800771489739418, -0.03465386852622032, 0.008470427244901657, 0.04138951748609543, -0.010147721506655216, -0.10289653390645981, 0.04567126929759979, 0.012796074151992798, -0.060177624225616455, -0.02662779577076435, -0.09725233167409897, 0.01579861529171467, 0.07219130545854568, -0.015325826592743397, 0.0018070554360747337, 0.06039537489414215, -0.07077641040086746, -0.0212787464261055, -0.038516271859407425, -0.057411108165979385, -0.004253831692039967, 0.03280768170952797, -0.017595643177628517, 0.0497576929628849, -0.0073790415190160275, -0.008354601450264454, 0.043137840926647186, -0.05429162085056305, 0.04316215589642525, 0.023688580840826035, 0.01817157492041588, 0.09282205998897552, -0.0042229280807077885, -0.022514598444104195, 0.019288290292024612, -0.03684435412287712, 0.10015194118022919, 0.01776483841240406, 0.02284952998161316, -0.03967687115073204, 0.001680890447460115, 0.05066920444369316, 0.0856492668390274, -0.026413608342409134, -0.03266861289739609, -0.03694955259561539, -0.02099403738975525, 0.017766093835234642, -0.07413074374198914, -0.024688158184289932, -0.03994889184832573, -0.024768011644482613, -0.024194056168198586, -0.010816442780196667, 0.010816018097102642, -0.030551724135875702, 0.10519364476203918, -0.008021770045161247, -0.03289631009101868, 0.1480439156293869, -0.0709429606795311, -0.05021912232041359, -0.15231886506080627, 0.02276742085814476, 0.13845957815647125, -0.0792330875992775, -0.041601065546274185, -0.09371671825647354, 0.06601827591657639, 0.043520331382751465, -4.9979700378344205e-08, -0.010548060759902, 0.060080334544181824, 0.028823498636484146, 0.07072241604328156, 0.03157535567879677, -0.05913799628615379, 0.05488339066505432, 0.16316647827625275, 0.0347595140337944, 0.0278753861784935, 0.07126763463020325, -0.0069463225081563, -0.05290434882044792, 0.01161900907754898, -0.02683500573039055, 0.028954358771443367, 0.043446872383356094, -0.07012006640434265, -0.05879394710063934, -0.039219390600919724, -0.017293883487582207, -0.03005453385412693, -0.08112525939941406, -0.04506209120154381, 0.05249614268541336, -0.049235749989748, 0.08052121847867966, 0.06585504859685898, -0.0006080747698433697, -0.045664120465517044, 0.030587051063776016, -0.006386051885783672, -0.03175574913620949, 0.008228802122175694, 0.010761012323200703, 0.0010412329575046897, 0.01907873898744583, 0.03227990120649338, -0.014408725313842297, 0.03579793497920036, -0.07228188961744308, 0.03363293409347534, 0.00666354363784194, -0.018206261098384857, -0.020436296239495277, -0.00263534439727664, -0.1854771226644516, 0.012449315749108791, 0.02973133698105812, -0.03854852542281151, -0.009753303602337837, -0.013694324530661106, 0.009183341637253761, 0.08488921076059341, 0.12721876800060272, 0.05546001344919205, -0.049361661076545715, -0.011911989189684391, -0.05697925016283989, 0.10420075803995132, 0.05718064680695534, -0.10395057499408722, -0.023767774924635887, -0.027168991044163704]]\n"
     ]
    }
   ],
   "source": [
    "import chromadb\n",
    "from chromadb.utils.embedding_functions import SentenceTransformerEmbeddingFunction\n",
    "\n",
    "embedding_function = SentenceTransformerEmbeddingFunction()\n",
    "print(embedding_function([token_split_texts[10]]))"
   ]
  },
  {
   "cell_type": "code",
   "execution_count": 7,
   "id": "8ba6c8c5-9ce4-44d0-9223-6fdd77871f87",
   "metadata": {
    "height": 149
   },
   "outputs": [
    {
     "data": {
      "text/plain": [
       "349"
      ]
     },
     "execution_count": 7,
     "metadata": {},
     "output_type": "execute_result"
    }
   ],
   "source": [
    "chroma_client = chromadb.Client()\n",
    "chroma_collection = chroma_client.create_collection(\"microsoft_annual_report_2022\", embedding_function=embedding_function)\n",
    "\n",
    "# create id for each chunck\n",
    "ids = [str(i) for i in range(len(token_split_texts))]\n",
    "\n",
    "chroma_collection.add(ids=ids, documents=token_split_texts)\n",
    "chroma_collection.count()"
   ]
  },
  {
   "cell_type": "code",
   "execution_count": 8,
   "id": "bfdb54db-a442-423c-b006-c33a257cd7d7",
   "metadata": {
    "height": 166
   },
   "outputs": [
    {
     "name": "stdout",
     "output_type": "stream",
     "text": [
      "revenue, classified by significant product and service offerings, was\n",
      "as follows : ( in millions ) year ended june 30, 2022 2021 2020 server\n",
      "products and cloud services $ 67, 321 $ 52, 589 $ 41, 379 office\n",
      "products and cloud services 44, 862 39, 872 35, 316 windows 24, 761 22,\n",
      "488 21, 510 gaming 16, 230 15, 370 11, 575 linkedin 13, 816 10, 289 8,\n",
      "077 search and news advertising 11, 591 9, 267 8, 524 enterprise\n",
      "services 7, 407 6, 943 6, 409 devices 6, 991 6, 791 6, 457 other 5, 291\n",
      "4, 479 3, 768 total $ 198, 270 $ 168, 088 $ 143, 015 we have recast\n",
      "certain previously reported amounts in the table above to conform to\n",
      "the way we internally manage and monitor our business.\n",
      "\n",
      "\n",
      "74 note 13 — unearned revenue unearned revenue by segment was as\n",
      "follows : ( in millions ) june 30, 2022 2021 productivity and business\n",
      "processes $ 24, 558 $ 22, 120 intelligent cloud 19, 371 17, 710 more\n",
      "personal computing 4, 479 4, 311 total $ 48, 408 $ 44, 141 changes in\n",
      "unearned revenue were as follows : ( in millions ) year ended june 30,\n",
      "2022 balance, beginning of period $ 44, 141 deferral of revenue 110,\n",
      "455 recognition of unearned revenue ( 106, 188 ) balance, end of period\n",
      "$ 48, 408 revenue allocated to remaining performance obligations, which\n",
      "includes unearned revenue and amounts that will be invoiced and\n",
      "recognized as revenue in future periods, was $ 193 billion as of june\n",
      "30, 2022, of which $ 189 billion is related to the commercial portion\n",
      "of revenue. we expect to recognize approximately 45 % of this revenue\n",
      "over the next 12\n",
      "\n",
      "\n",
      "that are not sold separately. • we tested the mathematical accuracy of\n",
      "management ’ s calculations of revenue and the associated timing of\n",
      "revenue recognized in the financial statements.\n",
      "\n",
      "\n",
      "82 in addition, certain costs incurred at a corporate level that are\n",
      "identifiable and that benefit our segments are allocated to them. these\n",
      "allocated costs include legal, including settlements and fines,\n",
      "information technology, human resources, finance, excise taxes, field\n",
      "selling, shared facilities services, and customer service and support.\n",
      "each allocation is measured differently based on the specific facts and\n",
      "circumstances of the costs being allocated. segment revenue and\n",
      "operating income were as follows during the periods presented : ( in\n",
      "millions ) year ended june 30, 2022 2021 2020 revenue productivity and\n",
      "business processes $ 63, 364 $ 53, 915 $ 46, 398 intelligent cloud 75,\n",
      "251 60, 080 48, 366 more personal computing 59, 655 54, 093 48, 251\n",
      "total $ 198, 270 $ 168, 088 $ 143, 015 operating income\n",
      "\n",
      "\n",
      "47 financial statements and supplementary data income statements ( in\n",
      "millions, except per share amounts ) year ended june 30, 2022 2021 2020\n",
      "revenue : product $ 72, 732 $ 71, 074 $ 68, 041 service and other 125,\n",
      "538 97, 014 74, 974 total revenue 198, 270 168, 088 143, 015 cost of\n",
      "revenue : product 19, 064 18, 219 16, 017 service and other 43, 586 34,\n",
      "013 30, 061 total cost of revenue 62, 650 52, 232 46, 078 gross margin\n",
      "135, 620 115, 856 96, 937 research and development 24, 512 20, 716 19,\n",
      "269 sales and marketing 21, 825 20, 117 19, 598 general and\n",
      "administrative 5, 900 5, 107 5, 111 operating income 83, 383 69, 916\n",
      "52, 959 other income, net 333 1, 186 77 income before income taxes 83,\n",
      "716 71, 102 53, 036 provision for income taxes 10, 978 9, 831 8, 755\n",
      "\n",
      "\n"
     ]
    }
   ],
   "source": [
    "query = \"What was the total revenue?\"\n",
    "\n",
    "# get results from chroma\n",
    "results = chroma_collection.query(query_texts=[query], n_results=5)\n",
    "retrieved_documents = results['documents'][0]\n",
    "\n",
    "for document in retrieved_documents:\n",
    "    print(word_wrap(document))\n",
    "    print('\\n')"
   ]
  },
  {
   "cell_type": "code",
   "execution_count": 9,
   "id": "377a84aa-1d93-4e97-9b2d-d59c46355338",
   "metadata": {
    "height": 166
   },
   "outputs": [],
   "source": [
    "import os\n",
    "import openai\n",
    "from openai import OpenAI\n",
    "\n",
    "from dotenv import load_dotenv, find_dotenv\n",
    "_ = load_dotenv(find_dotenv()) # read local .env file\n",
    "openai.api_key = os.environ['OPENAI_API_KEY']\n",
    "\n",
    "openai_client = OpenAI()"
   ]
  },
  {
   "cell_type": "code",
   "execution_count": 10,
   "id": "ba0ed8ca-6640-4c09-9cb3-9de5e7cf46dc",
   "metadata": {
    "height": 368
   },
   "outputs": [],
   "source": [
    "def rag(query, retrieved_documents, model=\"gpt-3.5-turbo\"):\n",
    "    # join all of our retrieved documents\n",
    "    information = \"\\n\\n\".join(retrieved_documents)\n",
    "    \n",
    "    # system prompt\n",
    "    messages = [\n",
    "        {\n",
    "            \"role\": \"system\",\n",
    "            \"content\": \"You are a helpful expert financial research assistant. Your users are asking questions about information contained in an annual report.\"\n",
    "            \"You will be shown the user's question, and the relevant information from the annual report. Answer the user's question using only this information.\"\n",
    "        },\n",
    "        {\"role\": \"user\", \"content\": f\"Question: {query}. \\n Information: {information}\"}\n",
    "    ]\n",
    "    \n",
    "    response = openai_client.chat.completions.create(\n",
    "        model=model,\n",
    "        messages=messages,\n",
    "    )\n",
    "    content = response.choices[0].message.content\n",
    "    return content"
   ]
  },
  {
   "cell_type": "code",
   "execution_count": 11,
   "id": "28bac3a2-0d29-48dc-9b48-2d9313239a25",
   "metadata": {
    "height": 64
   },
   "outputs": [
    {
     "name": "stderr",
     "output_type": "stream",
     "text": [
      "huggingface/tokenizers: The current process just got forked, after parallelism has already been used. Disabling parallelism to avoid deadlocks...\n",
      "To disable this warning, you can either:\n",
      "\t- Avoid using `tokenizers` before the fork if possible\n",
      "\t- Explicitly set the environment variable TOKENIZERS_PARALLELISM=(true | false)\n"
     ]
    },
    {
     "name": "stdout",
     "output_type": "stream",
     "text": [
      "The total revenue for the company for the year ended June 30, 2022, was\n",
      "$198,270 million.\n"
     ]
    }
   ],
   "source": [
    "output = rag(query=query, retrieved_documents=retrieved_documents)\n",
    "\n",
    "print(word_wrap(output))"
   ]
  }
 ],
 "metadata": {
  "kernelspec": {
   "display_name": "Python 3 (ipykernel)",
   "language": "python",
   "name": "python3"
  },
  "language_info": {
   "codemirror_mode": {
    "name": "ipython",
    "version": 3
   },
   "file_extension": ".py",
   "mimetype": "text/x-python",
   "name": "python",
   "nbconvert_exporter": "python",
   "pygments_lexer": "ipython3",
   "version": "3.9.19"
  }
 },
 "nbformat": 4,
 "nbformat_minor": 5
}
