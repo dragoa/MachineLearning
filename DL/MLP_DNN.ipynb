{
  "cells": [
    {
      "cell_type": "markdown",
      "metadata": {
        "id": "view-in-github",
        "colab_type": "text"
      },
      "source": [
        "<a href=\"https://colab.research.google.com/github/dragoa/MachineLearning/blob/ML/DL/MLP_DNN.ipynb\" target=\"_parent\"><img src=\"https://colab.research.google.com/assets/colab-badge.svg\" alt=\"Open In Colab\"/></a>"
      ]
    },
    {
      "cell_type": "markdown",
      "metadata": {
        "id": "k2-p_EZYaY02"
      },
      "source": [
        "# Lab 1: Deep Neural Network (DNN)"
      ]
    },
    {
      "cell_type": "code",
      "source": [
        "! pip install tensorflow -q"
      ],
      "metadata": {
        "id": "B7X8U0C1bHhQ"
      },
      "execution_count": null,
      "outputs": []
    },
    {
      "cell_type": "markdown",
      "metadata": {
        "id": "u67Q_Mv2aY1r"
      },
      "source": [
        "## 1.1 Refresh: build a Single Layer Perceptron\n",
        "Let's build a single layer perceptron composed by one dense layer.<br>\n"
      ]
    },
    {
      "cell_type": "markdown",
      "source": [
        "![image.png](\"imgs/A-single-layer-perceptron-with-two-inputs.png\")"
      ],
      "metadata": {
        "id": "8k5_6V7WX_07"
      }
    },
    {
      "cell_type": "code",
      "execution_count": null,
      "metadata": {
        "id": "pGyGeFxcaY1y"
      },
      "outputs": [],
      "source": [
        "from keras.models import Sequential\n",
        "from keras.layers import Dense\n",
        "\n",
        "# Define the number of inputs\n",
        "n_input_nodes = 2\n",
        "\n",
        "# First define the model\n",
        "model = Sequential() # Sequential() lets us define a linear stack of network layers.\n",
        "\n",
        "# define our single fully connected network layer\n",
        "dense_layer = Dense(n_input_nodes, activation='sigmoid',kernel_initializer=\"Ones\",bias_initializer=\"Ones\")\n",
        "\n",
        "# Add the dense layer to the model\n",
        "model.add(dense_layer)"
      ]
    },
    {
      "cell_type": "markdown",
      "metadata": {
        "id": "7O3ScCB-aY19"
      },
      "source": [
        "## 1.2 Refresh: build a Multilayer perceptron\n",
        "Let's build a multilayer perceptron; MLPs are fully connected, each node in one layer connects with a certain weight to every node in the following layer.\n",
        "\n",
        "Try to build one composed by two hidden dense layer with ReLU activation and one dense output layer(units=1) with sigmoid activation."
      ]
    },
    {
      "cell_type": "code",
      "source": [
        "import numpy as np\n",
        "from keras.models import Sequential\n",
        "from keras.layers import Dense\n",
        "\n",
        "# Generate dummy data\n",
        "train_data = np.random.random((1000, 100))\n",
        "train_labels = np.random.randint(2, size=(1000, 1))  # Reshape to (1000, 1)\n",
        "test_data = np.random.random((100, 100))\n",
        "test_labels = np.random.randint(2, size=(100, 1))  # Reshape to (100, 1)\n",
        "\n",
        "# Build your first model by creating a Sequential object and then adding 3 Dense layers:\n",
        "units = 32\n",
        "# Create a Sequential\n",
        "model = Sequential()\n",
        "# Add a Dense layer with 32 neurons, with relu as activation function and input dimension equal to the number of features\n",
        "model.add(Dense(units, activation='relu', input_dim=train_data.shape[1]))\n",
        "# Add a Dense layer with 32 neurons, with relu as activation function\n",
        "model.add(Dense(units, activation='relu'))  # Removed unnecessary variable\n",
        "# To produce the output Add a Dense layer with 1 neurons, with sigmoid as activation function\n",
        "model.add(Dense(1, activation='sigmoid'))  # Changed variable name\n",
        "\n",
        "# Compile the model\n",
        "model.compile(optimizer='adam',\n",
        "              loss='binary_crossentropy',\n",
        "              metrics=['accuracy'])\n",
        "\n",
        "# Train the model, iterating on the data in batches of 32 samples\n",
        "# The fit function output is a History object. The history.history attribute is a record of\n",
        "# training loss values and metrics values at successive epochs, as well as validation loss values\n",
        "# and validation metrics values\n",
        "history = model.fit(train_data, train_labels, epochs=30, batch_size=32)\n",
        "_, train_acc = model.evaluate(train_data, train_labels, verbose=1)\n",
        "_, test_acc = model.evaluate(test_data, test_labels, verbose=1)\n",
        "print('Train: %.3f, Test: %.3f' % (train_acc, test_acc))"
      ],
      "metadata": {
        "colab": {
          "base_uri": "https://localhost:8080/"
        },
        "id": "kiTyaN6RJ8DC",
        "outputId": "2d1691f3-8e41-4e5d-e0c5-6e77565f9ec3"
      },
      "execution_count": null,
      "outputs": [
        {
          "output_type": "stream",
          "name": "stdout",
          "text": [
            "Epoch 1/30\n",
            "32/32 [==============================] - 1s 4ms/step - loss: 0.7221 - accuracy: 0.4820\n",
            "Epoch 2/30\n",
            "32/32 [==============================] - 0s 2ms/step - loss: 0.6990 - accuracy: 0.5200\n",
            "Epoch 3/30\n",
            "32/32 [==============================] - 0s 2ms/step - loss: 0.6945 - accuracy: 0.5140\n",
            "Epoch 4/30\n",
            "32/32 [==============================] - 0s 2ms/step - loss: 0.6911 - accuracy: 0.5170\n",
            "Epoch 5/30\n",
            "32/32 [==============================] - 0s 2ms/step - loss: 0.6865 - accuracy: 0.5320\n",
            "Epoch 6/30\n",
            "32/32 [==============================] - 0s 2ms/step - loss: 0.6825 - accuracy: 0.5740\n",
            "Epoch 7/30\n",
            "32/32 [==============================] - 0s 2ms/step - loss: 0.6795 - accuracy: 0.5900\n",
            "Epoch 8/30\n",
            "32/32 [==============================] - 0s 2ms/step - loss: 0.6739 - accuracy: 0.5850\n",
            "Epoch 9/30\n",
            "32/32 [==============================] - 0s 3ms/step - loss: 0.6692 - accuracy: 0.6020\n",
            "Epoch 10/30\n",
            "32/32 [==============================] - 0s 2ms/step - loss: 0.6682 - accuracy: 0.5880\n",
            "Epoch 11/30\n",
            "32/32 [==============================] - 0s 2ms/step - loss: 0.6621 - accuracy: 0.6150\n",
            "Epoch 12/30\n",
            "32/32 [==============================] - 0s 2ms/step - loss: 0.6541 - accuracy: 0.6170\n",
            "Epoch 13/30\n",
            "32/32 [==============================] - 0s 4ms/step - loss: 0.6560 - accuracy: 0.6180\n",
            "Epoch 14/30\n",
            "32/32 [==============================] - 0s 4ms/step - loss: 0.6474 - accuracy: 0.6370\n",
            "Epoch 15/30\n",
            "32/32 [==============================] - 0s 4ms/step - loss: 0.6399 - accuracy: 0.6430\n",
            "Epoch 16/30\n",
            "32/32 [==============================] - 0s 3ms/step - loss: 0.6348 - accuracy: 0.6400\n",
            "Epoch 17/30\n",
            "32/32 [==============================] - 0s 2ms/step - loss: 0.6231 - accuracy: 0.6790\n",
            "Epoch 18/30\n",
            "32/32 [==============================] - 0s 2ms/step - loss: 0.6153 - accuracy: 0.6500\n",
            "Epoch 19/30\n",
            "32/32 [==============================] - 0s 2ms/step - loss: 0.6108 - accuracy: 0.6910\n",
            "Epoch 20/30\n",
            "32/32 [==============================] - 0s 2ms/step - loss: 0.6037 - accuracy: 0.6750\n",
            "Epoch 21/30\n",
            "32/32 [==============================] - 0s 2ms/step - loss: 0.5946 - accuracy: 0.6790\n",
            "Epoch 22/30\n",
            "32/32 [==============================] - 0s 2ms/step - loss: 0.5815 - accuracy: 0.6930\n",
            "Epoch 23/30\n",
            "32/32 [==============================] - 0s 2ms/step - loss: 0.5710 - accuracy: 0.7090\n",
            "Epoch 24/30\n",
            "32/32 [==============================] - 0s 3ms/step - loss: 0.5576 - accuracy: 0.7300\n",
            "Epoch 25/30\n",
            "32/32 [==============================] - 0s 2ms/step - loss: 0.5507 - accuracy: 0.7310\n",
            "Epoch 26/30\n",
            "32/32 [==============================] - 0s 2ms/step - loss: 0.5342 - accuracy: 0.7500\n",
            "Epoch 27/30\n",
            "32/32 [==============================] - 0s 2ms/step - loss: 0.5165 - accuracy: 0.7640\n",
            "Epoch 28/30\n",
            "32/32 [==============================] - 0s 2ms/step - loss: 0.5122 - accuracy: 0.7570\n",
            "Epoch 29/30\n",
            "32/32 [==============================] - 0s 3ms/step - loss: 0.4910 - accuracy: 0.7880\n",
            "Epoch 30/30\n",
            "32/32 [==============================] - 0s 6ms/step - loss: 0.4727 - accuracy: 0.7970\n",
            "32/32 [==============================] - 0s 3ms/step - loss: 0.4580 - accuracy: 0.8080\n",
            "4/4 [==============================] - 0s 6ms/step - loss: 0.8421 - accuracy: 0.5200\n",
            "Train: 0.808, Test: 0.520\n"
          ]
        }
      ]
    },
    {
      "cell_type": "markdown",
      "metadata": {
        "id": "o8fIyluGaY2E"
      },
      "source": [
        "# 1.3 Build a Deep Neural Network\n",
        "In this section we will:\n",
        "*  1.2.1 Import the dataset\n",
        "*  1.2.2 Build a model\n",
        "*  1.2.3 Train the model\n",
        "*  1.2.4 Evaluate the model"
      ]
    },
    {
      "cell_type": "markdown",
      "metadata": {
        "id": "Vnq7w29FaY2G"
      },
      "source": [
        "## 1.3.1 Import the Dataset\n",
        "Fashion-MNIST is a dataset of Zalando’s article images consisting of a training set of 60,000 examples and a test set of 10,000 examples. <br>\n",
        "Each example is a 28×28 grayscale image, associated with a label from 10 classes.<br>\n",
        "<img src=\"https://res.cloudinary.com/practicaldev/image/fetch/s--s6xGmaZX--/c_imagga_scale,f_auto,fl_progressive,h_900,q_auto,w_1600/https://raw.githubusercontent.com/zalandoresearch/fashion-mnist/master/doc/img/fashion-mnist-sprite.png\" width=\"600px\"><br>\n"
      ]
    },
    {
      "cell_type": "code",
      "execution_count": null,
      "metadata": {
        "id": "LX4Gc3siaY2H"
      },
      "outputs": [],
      "source": [
        "import tensorflow as tf\n",
        "from sklearn.model_selection import train_test_split\n",
        "mnist_fashion = tf.keras.datasets.fashion_mnist\n",
        "\n",
        "(x_learn, y_learn),(x_test, y_test) = mnist_fashion.load_data()"
      ]
    },
    {
      "cell_type": "code",
      "source": [
        "print(\"X Learn:\", x_learn.shape, type(x_learn))\n",
        "print(\"X Test:\", x_test.shape, type(x_test))\n",
        "print(\"Y Learn:\", y_learn.shape, type(y_learn))"
      ],
      "metadata": {
        "colab": {
          "base_uri": "https://localhost:8080/"
        },
        "id": "3xFZvfRGvbH3",
        "outputId": "b1949cc1-60be-4194-d25c-bd68a3f34f91"
      },
      "execution_count": null,
      "outputs": [
        {
          "output_type": "stream",
          "name": "stdout",
          "text": [
            "X Learn: (60000, 28, 28) <class 'numpy.ndarray'>\n",
            "X Test: (10000, 28, 28) <class 'numpy.ndarray'>\n",
            "Y Learn: (60000,) <class 'numpy.ndarray'>\n"
          ]
        }
      ]
    },
    {
      "cell_type": "code",
      "source": [
        "x_learn, x_test = x_learn / 255.0, x_test / 255.0 # normalization\n",
        "x_train, x_val, y_train, y_val = train_test_split(x_learn, y_learn, test_size=0.3, random_state=42) # split learn in train,val\n",
        "num_classes = 10 # Fashion-MNIST classes\n",
        "\n",
        "print(x_train.shape, x_val.shape, x_test.shape)"
      ],
      "metadata": {
        "colab": {
          "base_uri": "https://localhost:8080/"
        },
        "id": "WaVKhW17vN-T",
        "outputId": "a201d592-62b3-411c-830d-b1160b82ac1a"
      },
      "execution_count": null,
      "outputs": [
        {
          "output_type": "stream",
          "name": "stdout",
          "text": [
            "(42000, 28, 28) (18000, 28, 28) (10000, 28, 28)\n"
          ]
        }
      ]
    },
    {
      "cell_type": "markdown",
      "metadata": {
        "id": "G_LsI1CdaY2J"
      },
      "source": [
        "#### Plot some sample from the training set"
      ]
    },
    {
      "cell_type": "markdown",
      "source": [
        "Displaying the matrix X is not useful at all, they are only pixels values. Instead what we can do is to reconstruct the images starting from those pixels."
      ],
      "metadata": {
        "id": "xGI3iPZt0sRp"
      }
    },
    {
      "cell_type": "code",
      "source": [
        "import matplotlib.pyplot as plt\n",
        "\n",
        "i = 0\n",
        "# reshaping and reconstructiong the image\n",
        "picture = np.reshape(x_learn[i,:], (28,28))\n",
        "\n",
        "print(y_learn[i])\n",
        "fig, ax = plt.subplots()\n",
        "ax.imshow(picture, cmap=plt.cm.gray)\n",
        "ax.axis('off')"
      ],
      "metadata": {
        "colab": {
          "base_uri": "https://localhost:8080/",
          "height": 442
        },
        "id": "31Qztsbz0odx",
        "outputId": "628478a6-28f7-47d9-9d89-e5d5b16bb4bf"
      },
      "execution_count": null,
      "outputs": [
        {
          "output_type": "stream",
          "name": "stdout",
          "text": [
            "9\n"
          ]
        },
        {
          "output_type": "execute_result",
          "data": {
            "text/plain": [
              "(-0.5, 27.5, 27.5, -0.5)"
            ]
          },
          "metadata": {},
          "execution_count": 27
        },
        {
          "output_type": "display_data",
          "data": {
            "text/plain": [
              "<Figure size 640x480 with 1 Axes>"
            ],
            "image/png": "[encoded data removed]"
          },
          "metadata": {}
        }
      ]
    },
    {
      "cell_type": "code",
      "execution_count": null,
      "metadata": {
        "id": "gX44XG1RaY2K",
        "colab": {
          "base_uri": "https://localhost:8080/",
          "height": 518
        },
        "outputId": "cc1a3024-b011-4242-bfd6-9427467b7744"
      },
      "outputs": [
        {
          "output_type": "display_data",
          "data": {
            "text/plain": [
              "<Figure size 600x600 with 16 Axes>"
            ],
            "image/png": "[encoded data removed]"
          },
          "metadata": {}
        }
      ],
      "source": [
        "import matplotlib.pyplot as plt\n",
        "class_names = ['T-shirt/top', 'Trouser', 'Pullover', 'Dress', 'Coat',\n",
        "               'Sandal', 'Shirt', 'Sneaker', 'Bag', 'Ankle boot']\n",
        "\n",
        "plt.figure(figsize=(6,6))\n",
        "for i in range(16):\n",
        "    plt.subplot(4,4,i+1)\n",
        "    plt.xticks([])\n",
        "    plt.yticks([])\n",
        "    plt.grid(False)\n",
        "    plt.imshow(x_train[i], cmap=plt.cm.binary)\n",
        "    plt.xlabel(class_names[y_train[i]])\n",
        "plt.show()"
      ]
    },
    {
      "cell_type": "markdown",
      "metadata": {
        "id": "F7Ag6933aY2N"
      },
      "source": [
        "## 1.3.2 Build a Model\n",
        "\n",
        "A Deep Neural Network is a neural network composed by many layers and consequently it has a deeper structure. The number of layers in the network depends on different factors: for example on the data available, on the complexity of the problem, on the computational power and so on.\n",
        "The value produced as output by a neuron is determined by the input the neuron receives and by the activation function. There exists different choices for the activation function. One of the most used is Relu but it depends on the data and on the network architecture.\n"
      ]
    },
    {
      "cell_type": "markdown",
      "metadata": {
        "id": "uUrCyhLdaY2R"
      },
      "source": [
        "#### Build a model with this structure: Flatten+Dense(ReLU)+Dense(ReLU)+Dense(ReLU)+Dense(ReLU)+Dense(softmax)"
      ]
    },
    {
      "cell_type": "code",
      "execution_count": null,
      "metadata": {
        "id": "jL-UXDSMaY2S"
      },
      "outputs": [],
      "source": [
        "from keras.layers import Flatten\n",
        "# https://keras.io/layers/core/\n",
        "model = Sequential()\n",
        "model.add(Flatten())\n",
        "# Add a Dense layer with 512 neurons, with relu as activation function\n",
        "model.add(Dense(512, activation='relu'))\n",
        "# Add a Dense layer with 256 neurons, with relu as activation function\n",
        "model.add(Dense(256, activation='relu'))\n",
        "# Add a Dense layer with 128 neurons, with relu as activation function\n",
        "model.add(Dense(128, activation='relu'))\n",
        "# Add a Dense layer with 64 neurons, with relu as activation function\n",
        "model.add(Dense(64, activation='relu'))\n",
        "# Add a Dense layer with number of neurons equal to the number of classes, with softmax as activation function\n",
        "model.add(Dense(10, activation='softmax'))"
      ]
    },
    {
      "cell_type": "markdown",
      "metadata": {
        "id": "qXOzjck_aY2V"
      },
      "source": [
        "When we are building a model there are many design choises that we must operate: the choice of a Loss Function, the Metrics and the Optimizer.<br>\n",
        "\n",
        "**Loss functions** are used to compare the network's predicted output  with the real output, in each pass of the backpropagations algorithm<br>\n",
        "Common loss functions are: mean-squared error, cross-entropy, and so on...<br><br>\n",
        "**Metrics** are used to evaluate a model; common metrics are precision, recall, accuracy, auc,..<br>\n",
        "\n",
        "The **Optimizer** determines the update rules of the weights. The performance and update speed may heavily vary from optimizer to optimizer; in choosing an optimizer what's important to consider is the network depth, the type of layers and the type of data.<br>\n",
        "The gif below give an idea on how different Optimizers work.<br>\n",
        "\n",
        "<img src=\"https://user-images.githubusercontent.com/11681225/49325458-fc785480-f585-11e8-8d2a-9012d6024c6e.gif\" width=\"460px\">"
      ]
    },
    {
      "cell_type": "markdown",
      "metadata": {
        "id": "01Ms84EmaY2W"
      },
      "source": [
        "#### Configures the model for training"
      ]
    },
    {
      "cell_type": "code",
      "execution_count": null,
      "metadata": {
        "id": "zL2LLmKyaY2W"
      },
      "outputs": [],
      "source": [
        "# Optimizers    https://www.tensorflow.org/api_docs/python/tf/keras/optimizers\n",
        "from keras.optimizers.legacy import Adam, SGD, Adadelta, Adagrad, Adamax, Nadam, RMSprop\n",
        "\n",
        "adam = Adam(learning_rate=0.001, beta_1=0.9, beta_2=0.999, epsilon=None, decay=0.0, amsgrad=False)\n",
        "sgd = SGD(learning_rate=0.001, momentum=0.0, decay=0.0, nesterov=False)\n",
        "adad = Adadelta(learning_rate=1.0,rho=0.95,epsilon=None,decay=0.0)\n",
        "adag = Adagrad(learning_rate=0.01,epsilon=None,decay=0.0)\n",
        "adamax = Adamax(learning_rate=0.002,beta_1=0.9,beta_2=0.999,epsilon=None,decay=0.0)\n",
        "nadam = Nadam(learning_rate=0.002,beta_1=0.9,beta_2=0.999,epsilon=None,schedule_decay=0.004)\n",
        "rms = RMSprop(learning_rate=0.001,rho=0.9,epsilon=None,decay=0.0)\n",
        "\n",
        "# Losses    https://keras.io/losses/\n",
        "loss = ['sparse_categorical_crossentropy','mean_squared_error','mean_absolute_error',\n",
        "        'categorical_crossentropy','categorical_hinge']\n",
        "\n",
        "# Metrics    https://www.tensorflow.org/api_docs/python/tf/metrics\n",
        "metrics = ['accuracy','precision','recall']"
      ]
    },
    {
      "cell_type": "markdown",
      "metadata": {
        "id": "9SvR02wtaY2c"
      },
      "source": [
        "## 1.3.3 Train the model\n",
        "The batch size is a number of samples processed before the model is updated.<br>\n",
        "The number of epochs is the number of complete passes through the training dataset."
      ]
    },
    {
      "cell_type": "code",
      "execution_count": null,
      "metadata": {
        "id": "Wd4Q9bFjaY2c",
        "colab": {
          "base_uri": "https://localhost:8080/"
        },
        "outputId": "d1844960-05ed-49cc-b636-05e1d6094d8c"
      },
      "outputs": [
        {
          "output_type": "stream",
          "name": "stdout",
          "text": [
            "Epoch 1/50\n",
            "329/329 - 8s - loss: 0.5497 - accuracy: 0.8063 - val_loss: 0.4477 - val_accuracy: 0.8373 - 8s/epoch - 23ms/step\n",
            "Epoch 2/50\n",
            "329/329 - 8s - loss: 0.3878 - accuracy: 0.8581 - val_loss: 0.3709 - val_accuracy: 0.8683 - 8s/epoch - 24ms/step\n",
            "Epoch 3/50\n",
            "329/329 - 8s - loss: 0.3354 - accuracy: 0.8773 - val_loss: 0.3687 - val_accuracy: 0.8687 - 8s/epoch - 25ms/step\n",
            "Epoch 4/50\n",
            "329/329 - 8s - loss: 0.3169 - accuracy: 0.8819 - val_loss: 0.3446 - val_accuracy: 0.8759 - 8s/epoch - 23ms/step\n",
            "Epoch 5/50\n",
            "329/329 - 4s - loss: 0.2934 - accuracy: 0.8901 - val_loss: 0.3286 - val_accuracy: 0.8806 - 4s/epoch - 13ms/step\n",
            "Epoch 6/50\n",
            "329/329 - 5s - loss: 0.2798 - accuracy: 0.8946 - val_loss: 0.3340 - val_accuracy: 0.8757 - 5s/epoch - 17ms/step\n",
            "Epoch 7/50\n",
            "329/329 - 4s - loss: 0.2692 - accuracy: 0.8990 - val_loss: 0.3548 - val_accuracy: 0.8763 - 4s/epoch - 11ms/step\n",
            "Epoch 8/50\n",
            "329/329 - 4s - loss: 0.2544 - accuracy: 0.9036 - val_loss: 0.3354 - val_accuracy: 0.8801 - 4s/epoch - 13ms/step\n",
            "Epoch 9/50\n",
            "329/329 - 4s - loss: 0.2466 - accuracy: 0.9072 - val_loss: 0.3752 - val_accuracy: 0.8706 - 4s/epoch - 13ms/step\n",
            "Epoch 10/50\n",
            "329/329 - 4s - loss: 0.2303 - accuracy: 0.9128 - val_loss: 0.3463 - val_accuracy: 0.8803 - 4s/epoch - 11ms/step\n",
            "Epoch 11/50\n",
            "329/329 - 4s - loss: 0.2252 - accuracy: 0.9138 - val_loss: 0.3267 - val_accuracy: 0.8827 - 4s/epoch - 13ms/step\n",
            "Epoch 12/50\n",
            "329/329 - 5s - loss: 0.2198 - accuracy: 0.9168 - val_loss: 0.3391 - val_accuracy: 0.8869 - 5s/epoch - 15ms/step\n",
            "Epoch 13/50\n",
            "329/329 - 5s - loss: 0.2140 - accuracy: 0.9196 - val_loss: 0.3035 - val_accuracy: 0.8936 - 5s/epoch - 14ms/step\n",
            "Epoch 14/50\n",
            "329/329 - 6s - loss: 0.2010 - accuracy: 0.9239 - val_loss: 0.3104 - val_accuracy: 0.8931 - 6s/epoch - 17ms/step\n",
            "Epoch 15/50\n",
            "329/329 - 4s - loss: 0.1963 - accuracy: 0.9262 - val_loss: 0.3442 - val_accuracy: 0.8852 - 4s/epoch - 11ms/step\n",
            "Epoch 16/50\n",
            "329/329 - 4s - loss: 0.1870 - accuracy: 0.9286 - val_loss: 0.3433 - val_accuracy: 0.8844 - 4s/epoch - 12ms/step\n",
            "Epoch 17/50\n",
            "329/329 - 5s - loss: 0.1823 - accuracy: 0.9319 - val_loss: 0.3675 - val_accuracy: 0.8890 - 5s/epoch - 16ms/step\n",
            "Epoch 18/50\n",
            "329/329 - 4s - loss: 0.1777 - accuracy: 0.9335 - val_loss: 0.3302 - val_accuracy: 0.8918 - 4s/epoch - 11ms/step\n",
            "Epoch 19/50\n",
            "329/329 - 4s - loss: 0.1677 - accuracy: 0.9375 - val_loss: 0.3594 - val_accuracy: 0.8899 - 4s/epoch - 12ms/step\n",
            "Epoch 20/50\n",
            "329/329 - 5s - loss: 0.1649 - accuracy: 0.9367 - val_loss: 0.3712 - val_accuracy: 0.8916 - 5s/epoch - 14ms/step\n",
            "Epoch 21/50\n",
            "329/329 - 4s - loss: 0.1540 - accuracy: 0.9426 - val_loss: 0.3779 - val_accuracy: 0.8891 - 4s/epoch - 11ms/step\n",
            "Epoch 22/50\n",
            "329/329 - 4s - loss: 0.1558 - accuracy: 0.9406 - val_loss: 0.4296 - val_accuracy: 0.8833 - 4s/epoch - 11ms/step\n",
            "Epoch 23/50\n",
            "329/329 - 5s - loss: 0.1485 - accuracy: 0.9422 - val_loss: 0.3778 - val_accuracy: 0.8927 - 5s/epoch - 14ms/step\n",
            "Epoch 24/50\n",
            "329/329 - 4s - loss: 0.1437 - accuracy: 0.9450 - val_loss: 0.3813 - val_accuracy: 0.8923 - 4s/epoch - 13ms/step\n",
            "Epoch 25/50\n",
            "329/329 - 4s - loss: 0.1347 - accuracy: 0.9479 - val_loss: 0.3933 - val_accuracy: 0.8937 - 4s/epoch - 13ms/step\n",
            "Epoch 26/50\n",
            "329/329 - 5s - loss: 0.1344 - accuracy: 0.9487 - val_loss: 0.3814 - val_accuracy: 0.8934 - 5s/epoch - 14ms/step\n",
            "Epoch 27/50\n",
            "329/329 - 4s - loss: 0.1373 - accuracy: 0.9473 - val_loss: 0.3865 - val_accuracy: 0.8913 - 4s/epoch - 11ms/step\n",
            "Epoch 28/50\n",
            "329/329 - 4s - loss: 0.1280 - accuracy: 0.9511 - val_loss: 0.4531 - val_accuracy: 0.8834 - 4s/epoch - 11ms/step\n",
            "Epoch 29/50\n",
            "329/329 - 5s - loss: 0.1267 - accuracy: 0.9505 - val_loss: 0.3994 - val_accuracy: 0.8917 - 5s/epoch - 14ms/step\n",
            "Epoch 30/50\n",
            "329/329 - 4s - loss: 0.1190 - accuracy: 0.9537 - val_loss: 0.4286 - val_accuracy: 0.8931 - 4s/epoch - 11ms/step\n",
            "Epoch 31/50\n",
            "329/329 - 4s - loss: 0.1162 - accuracy: 0.9542 - val_loss: 0.3918 - val_accuracy: 0.8956 - 4s/epoch - 11ms/step\n",
            "Epoch 32/50\n",
            "329/329 - 5s - loss: 0.1140 - accuracy: 0.9563 - val_loss: 0.4348 - val_accuracy: 0.8922 - 5s/epoch - 16ms/step\n",
            "Epoch 33/50\n",
            "329/329 - 4s - loss: 0.1081 - accuracy: 0.9581 - val_loss: 0.4163 - val_accuracy: 0.8989 - 4s/epoch - 13ms/step\n",
            "Epoch 34/50\n",
            "329/329 - 4s - loss: 0.1104 - accuracy: 0.9576 - val_loss: 0.4079 - val_accuracy: 0.8943 - 4s/epoch - 13ms/step\n",
            "Epoch 35/50\n",
            "329/329 - 5s - loss: 0.1001 - accuracy: 0.9613 - val_loss: 0.4558 - val_accuracy: 0.8894 - 5s/epoch - 14ms/step\n",
            "Epoch 36/50\n",
            "329/329 - 4s - loss: 0.1040 - accuracy: 0.9601 - val_loss: 0.4289 - val_accuracy: 0.8925 - 4s/epoch - 12ms/step\n",
            "Epoch 37/50\n",
            "329/329 - 5s - loss: 0.0941 - accuracy: 0.9633 - val_loss: 0.4340 - val_accuracy: 0.8936 - 5s/epoch - 14ms/step\n",
            "Epoch 38/50\n",
            "329/329 - 4s - loss: 0.0947 - accuracy: 0.9639 - val_loss: 0.4500 - val_accuracy: 0.8868 - 4s/epoch - 11ms/step\n",
            "Epoch 39/50\n",
            "329/329 - 4s - loss: 0.0947 - accuracy: 0.9636 - val_loss: 0.4371 - val_accuracy: 0.8948 - 4s/epoch - 13ms/step\n",
            "Epoch 40/50\n",
            "329/329 - 5s - loss: 0.0967 - accuracy: 0.9638 - val_loss: 0.4909 - val_accuracy: 0.8941 - 5s/epoch - 14ms/step\n",
            "Epoch 41/50\n",
            "329/329 - 4s - loss: 0.0888 - accuracy: 0.9655 - val_loss: 0.5168 - val_accuracy: 0.8932 - 4s/epoch - 12ms/step\n",
            "Epoch 42/50\n",
            "329/329 - 4s - loss: 0.0867 - accuracy: 0.9673 - val_loss: 0.5255 - val_accuracy: 0.8896 - 4s/epoch - 12ms/step\n",
            "Epoch 43/50\n",
            "329/329 - 5s - loss: 0.0798 - accuracy: 0.9700 - val_loss: 0.5037 - val_accuracy: 0.8952 - 5s/epoch - 14ms/step\n",
            "Epoch 44/50\n",
            "329/329 - 4s - loss: 0.0802 - accuracy: 0.9691 - val_loss: 0.5047 - val_accuracy: 0.8976 - 4s/epoch - 13ms/step\n",
            "Epoch 45/50\n",
            "329/329 - 4s - loss: 0.0723 - accuracy: 0.9723 - val_loss: 0.5482 - val_accuracy: 0.8953 - 4s/epoch - 11ms/step\n",
            "Epoch 46/50\n"
          ]
        }
      ],
      "source": [
        "# Compile the model you created before using\n",
        "# adam optimizer as optimizer\n",
        "# sparse categorical crossentropy as loss function\n",
        "# accuracy as metric\n",
        "model.compile(optimizer=adam, loss=loss[0], metrics=metrics[0])\n",
        "\n",
        "batch_size = 128\n",
        "epochs = 50\n",
        "# fit your model and save the returned value as \"history\".\n",
        "# Use both the train and validation set\n",
        "# Set both properly the batch size value and the epochs value\n",
        "history = model.fit(x_train, y_train, batch_size=batch_size, epochs=epochs, verbose=2, validation_data=(x_val, y_val))\n",
        "# Evaluate the model\n",
        "_, train_acc = model.evaluate(x_train, y_train, verbose=1)\n",
        "_, test_acc = model.evaluate(x_test, y_test, verbose=1)\n",
        "print('Train: %.3f, Test: %.3f' % (train_acc, test_acc))"
      ]
    },
    {
      "cell_type": "markdown",
      "metadata": {
        "id": "dv73zOpQaY2f"
      },
      "source": [
        "#### Training history visualization\n",
        "\n"
      ]
    },
    {
      "cell_type": "code",
      "execution_count": null,
      "metadata": {
        "id": "IuYCcmXGaY2h"
      },
      "outputs": [],
      "source": [
        "def plot_history(history):\n",
        "    # Plot training & validation accuracy values\n",
        "    plt.plot(history.history['accuracy'])\n",
        "    plt.plot(history.history['val_accuracy'])\n",
        "    plt.title('Model accuracy')\n",
        "    plt.ylabel('Accuracy')\n",
        "    plt.xlabel('Epoch')\n",
        "    plt.legend(['Train', 'Val'], loc='upper left')\n",
        "    plt.show()\n",
        "\n",
        "    # Plot training & validation loss values\n",
        "    plt.plot(history.history['loss'])\n",
        "    plt.plot(history.history['val_loss'])\n",
        "    plt.title('Model loss')\n",
        "    plt.ylabel('Loss')\n",
        "    plt.xlabel('Epoch')\n",
        "    plt.legend(['Train', 'Val'], loc='upper left')\n",
        "    plt.show()"
      ]
    },
    {
      "cell_type": "code",
      "execution_count": null,
      "metadata": {
        "id": "nXWlXkuBaY2t",
        "scrolled": false
      },
      "outputs": [],
      "source": [
        "plot_history(history)"
      ]
    },
    {
      "cell_type": "markdown",
      "metadata": {
        "id": "qqEKGdT6aY2v"
      },
      "source": [
        "**What could you notice in the loss graph training the model over large number of epochs?**"
      ]
    },
    {
      "cell_type": "markdown",
      "metadata": {
        "id": "n8zJr0nraY2w"
      },
      "source": [
        "## 1.3.4 Evaluate the model\n"
      ]
    },
    {
      "cell_type": "code",
      "execution_count": null,
      "metadata": {
        "id": "2lxASSVmaY2x"
      },
      "outputs": [],
      "source": [
        "_, train_acc = model.evaluate(x_train, y_train, verbose=1)\n",
        "_, test_acc = model.evaluate(x_test, y_test, verbose=1)\n",
        "print('Train: %.3f, Test: %.3f' % (train_acc, test_acc))"
      ]
    },
    {
      "cell_type": "markdown",
      "metadata": {
        "id": "C2stTI0NaY2z"
      },
      "source": [
        "**Try to play with these parameters (loss and optimizers) in order to see how this choice affects the accuracy. What do you expect? which is faster?**\n"
      ]
    },
    {
      "cell_type": "code",
      "source": [
        "# Compile the model you created before using\n",
        "# nadam optimizer as optimizer\n",
        "# sparse categorical crossentropy as loss function\n",
        "# accuracy as metric\n",
        "model.compile(optimizer=nadam, loss=loss[0], metrics=metrics[0])\n",
        "\n",
        "batch_size = 128\n",
        "epochs = 50\n",
        "# fit your model and save the returned value as \"history\".\n",
        "# Use both the train and validation set\n",
        "# Set both properly the batch size value and the epochs value\n",
        "history = model.fit(x_train, y_train, batch_size=batch_size, epochs=epochs, verbose=2, validation_data=(x_val, y_val))\n",
        "# Evaluate the model\n",
        "score = model.evaluate(x_val, y_val, verbose=0)\n",
        "print('Test loss:', score[0])\n",
        "print('Test accuracy:', score[1])"
      ],
      "metadata": {
        "id": "hvGshyL8BHNU"
      },
      "execution_count": null,
      "outputs": []
    },
    {
      "cell_type": "code",
      "source": [
        "plot_history(history)"
      ],
      "metadata": {
        "id": "CMTTEzRNCACx"
      },
      "execution_count": null,
      "outputs": []
    },
    {
      "cell_type": "markdown",
      "metadata": {
        "id": "znWL73IWaY20"
      },
      "source": [
        "# 1.4 Dealing with overfitting\n",
        "Given some training data and a network architecture, there are multiple sets of weights values (multiple models) that could explain the data, and simpler models are less likely to overfit than complex ones.<br>\n",
        "A \"simple model\" in this context is a model where the distribution of parameter values has less entropy (or a model with fewer parameters altogether).<br>\n",
        "How to improve generalization of our model on unseen data?<br>\n",
        "In this section we will:\n",
        "* 1.3.1 Add weight regularization\n",
        "* 1.3.2 Dropout\n",
        "* 1.3.3 Early stopping"
      ]
    },
    {
      "cell_type": "markdown",
      "metadata": {
        "id": "aimRiLIqaY22"
      },
      "source": [
        "## 1.4.1 Add weight regularization\n",
        "A common way to mitigate overfitting is to put constraints on the complexity of a network by forcing its weights only to take small values, which makes the distribution of weight values more \"regular\".<br>\n",
        "This is called \"weight regularization\", and it is done by adding to the loss function of the network a cost associated with having large weights.<br> This cost comes in two flavors:\n",
        "* L1 regularization\n",
        "* L2 regularization\n",
        "\n",
        "In tf.keras, weight regularization is added by passing weight regularizer instances to layers as keyword arguments."
      ]
    },
    {
      "cell_type": "code",
      "execution_count": null,
      "metadata": {
        "id": "vE2zlBgeaY23",
        "scrolled": false
      },
      "outputs": [],
      "source": [
        "from keras.regularizers import L2\n",
        "# Build the model\n",
        "model = Sequential()\n",
        "model.add(Flatten())\n",
        "# Add a Dense layer with 512 neurons, with relu as activation function and a l2 regularizer (with 0.001 as regularization value) as kernel regularizer\n",
        "model.add(Dense(512, activation='relu', kernel_regularizer=L2(0.001)))\n",
        "# Add a Dense layer with 256 neurons, with relu as activation function and a l2 regularizer (with 0.001 as regularization value) as kernel regularizer\n",
        "model.add(Dense(256, activation='relu', kernel_regularizer=L2(0.001)))\n",
        "# Add a Dense layer with 128 neurons, with relu as activation function and a l2 regularizer (with 0.001 as regularization value) as kernel regularizer\n",
        "model.add(Dense(128, activation='relu', kernel_regularizer=L2(0.001)))\n",
        "# Add a Dense layer with 64 neurons, with relu as activation function and a l2 regularizer (with 0.001 as regularization value) as kernel regularizer\n",
        "model.add(Dense(64, activation='relu', kernel_regularizer=L2(0.001)))\n",
        "# Add a Dense layer with number of neurons equal to the number of classes, with softmax as activation function\n",
        "model.add(Dense(10, activation='softmax'))\n",
        "\n",
        "# Compile the model you just created using\n",
        "# adam optimizer as optimizer\n",
        "# sparse categorical crossentropy as loss function\n",
        "# accuracy as metric\n",
        "model.compile(adam, loss[0], metrics[0])\n",
        "\n",
        "# fit your model and save the returned value as \"history\".\n",
        "# Use both the train and validation set\n",
        "# Set both properly the batch size value and the epochs value\n",
        "batch_size = 128\n",
        "epochs = 10\n",
        "history = model.fit(x_train, y_train, batch_size=batch_size, epochs=epochs, validation_data=(x_val, y_val))\n",
        "\n",
        "# Call the plot_history function to plot the obtained results\n",
        "plot_history(history)\n",
        "# Evaluate\n",
        "_, train_acc = model.evaluate(x_train, y_train, verbose=1)\n",
        "_, test_acc = model.evaluate(x_test, y_test, verbose=1)\n",
        "print('Train: %.3f, Test: %.3f' % (train_acc, test_acc))"
      ]
    },
    {
      "cell_type": "markdown",
      "metadata": {
        "id": "r4xF5NBSaY25"
      },
      "source": [
        "## 1.4.2 Dropout\n",
        "Dropout is one of the most effective and most commonly used regularization techniques for neural networks.<br>\n",
        "Dropout, applied to a layer, consists of randomly \"dropping out\" (i.e. set to zero) a number of output features of the layer during training.<br>\n",
        "\n",
        "The \"dropout rate\" is the fraction of the features that are being zeroed-out; it is usually set between 0.2 and 0.5; at test time, no units are dropped out, and instead the layer's output values are scaled down by a factor equal to the dropout rate, so as to balance for the fact that more units are active than at training time."
      ]
    },
    {
      "cell_type": "code",
      "execution_count": null,
      "metadata": {
        "id": "EzV7zpjJaY26",
        "scrolled": false
      },
      "outputs": [],
      "source": [
        "from keras.layers import Dropout\n",
        "# Build the model\n",
        "model = Sequential()\n",
        "model.add(Flatten())\n",
        "# Add a Dense layer with 512 neurons, with relu as activation function\n",
        "model.add(Dense(512, activation='relu'))\n",
        "# Add a Dropout layer with 0.3 drop probability\n",
        "model.add(Dropout(rate=0.3))\n",
        "# Add a Dense layer with 256 neurons, with relu as activation function\n",
        "model.add(Dense(256, activation='relu'))\n",
        "# Add a Dropout layer with 0.3 drop probability\n",
        "model.add(Dropout(rate=0.3))\n",
        "# Add a Dense layer with 128 neurons, with relu as activation function\n",
        "model.add(Dense(128, activation='relu'))\n",
        "# Add a Dropout layer with 0.3 drop probability\n",
        "model.add(Dropout(rate=0.3))\n",
        "# Add a Dense layer with 64 neurons, with relu as activation function\n",
        "model.add(Dense(64, activation='relu'))\n",
        "# Add a Dense layer with number of neurons equal to the number of classes, with softmax as activation function\n",
        "model.add(Dense(10, activation='softmax'))\n",
        "\n",
        "# Compile the model you just created using\n",
        "# adam optimizer as optimizer\n",
        "# sparse categorical crossentropy as loss function\n",
        "# accuracy as metric\n",
        "model.compile(adam, loss[0], metrics[0])\n",
        "\n",
        "# fit your model and save the returned value as \"history\".\n",
        "# Use both the train and validation set\n",
        "# Set both properly the batch size value and the epochs value\n",
        "batch_size = 128\n",
        "epochs = 10\n",
        "history = model.fit(x_train, y_train, batch_size=batch_size, epochs=epochs, validation_data=(x_val, y_val))\n",
        "\n",
        "# Call the plot_history function to plot the obtained results\n",
        "plot_history(history)\n",
        "# Evaluate\n",
        "_, train_acc = model.evaluate(x_train, y_train, verbose=1)\n",
        "_, test_acc = model.evaluate(x_test, y_test, verbose=1)\n",
        "print('Train: %.3f, Test: %.3f' % (train_acc, test_acc))"
      ]
    },
    {
      "cell_type": "markdown",
      "metadata": {
        "id": "m5_Yf-4UaY29"
      },
      "source": [
        "## 1.4.3 Early stopping\n",
        "Validation can be used to detect when overfitting starts during supervised training of a neural network; training is then stopped before convergence to avoid the overfitting.<br>\n"
      ]
    },
    {
      "cell_type": "code",
      "execution_count": null,
      "metadata": {
        "id": "vcJ9tjH2aY2-"
      },
      "outputs": [],
      "source": [
        "from keras.callbacks import ModelCheckpoint, EarlyStopping\n",
        "import os\n",
        "# early stopping https://keras.io/callbacks/\n",
        "my_callback = EarlyStopping(monitor='val_loss', mode='min', verbose=1, patience=5)\n",
        "\n",
        "# Create checkpoint callback that will save the best model observed during training for later use\n",
        "checkpoint_path = \"output/cp.ckpt\"\n",
        "checkpoint_dir = os.path.dirname(checkpoint_path)\n",
        "cp_callback = ModelCheckpoint(checkpoint_path,monitor='val_loss',save_weights_only=True,verbose=1)"
      ]
    },
    {
      "cell_type": "code",
      "execution_count": null,
      "metadata": {
        "id": "oAaj7qisaY3B",
        "scrolled": false
      },
      "outputs": [],
      "source": [
        "# Build the model\n",
        "model = Sequential()\n",
        "model.add(Flatten())\n",
        "# Add a Dense layer with 512 neurons, with relu as activation function\n",
        "model.add(Dense(512, activation='relu'))\n",
        "# Add a Dense layer with 256 neurons, with relu as activation function\n",
        "model.add(Dense(256, activation='relu'))\n",
        "# Add a Dense layer with 128 neurons, with relu as activation function\n",
        "model.add(Dense(128, activation='relu'))\n",
        "# Add a Dense layer with 64 neurons, with relu as activation function\n",
        "model.add(Dense(64, activation='relu'))\n",
        "# Add a Dense layer with number of neurons equal to the number of classes, with softmax as activation function\n",
        "model.add(Dense(10, activation='softmax'))\n",
        "\n",
        "# Compile the model you just created using\n",
        "# adam optimizer as optimizer\n",
        "# sparse categorical crossentropy as loss function\n",
        "# accuracy as metric\n",
        "model.compile(adam, loss[0], metrics[0])\n",
        "\n",
        "# fit your model and save the returned value as \"history\".\n",
        "# Use both the train and validation set\n",
        "# Set both properly the batch size value and the epochs value\n",
        "# Be careful to also set properly the callbacks parameter list\n",
        "batch_size =128\n",
        "epochs = 10\n",
        "history = model.fit(x_train, y_train, batch_size=batch_size, epochs=epochs, validation_data=(x_val, y_val), callbacks=[my_callback, cp_callback])\n",
        "\n",
        "# Call the plot_history function to plot the obtained results\n",
        "plot_history(history)\n",
        "\n",
        "# Evaluate\n",
        "_, train_acc = model.evaluate(x_train, y_train, verbose=1)\n",
        "_, test_acc = model.evaluate(x_test, y_test, verbose=1)\n",
        "print('Train: %.3f, Test: %.3f' % (train_acc, test_acc))"
      ]
    },
    {
      "cell_type": "markdown",
      "metadata": {
        "id": "ZIT021CHaY3D"
      },
      "source": [
        "#### Load weights\n",
        "The saved weights can then be loaded and evaluated any time by calling the load_weights() function.\n",
        "In this way I don't have to retrain my net again."
      ]
    },
    {
      "cell_type": "code",
      "execution_count": null,
      "metadata": {
        "id": "0WfKJE7NaY3D",
        "scrolled": false
      },
      "outputs": [],
      "source": [
        "# This may generate warnings related to saving the state of the optimizer.\n",
        "# These warnings (and similar warnings throughout this notebook)\n",
        "# are in place to discourage outdated usage, and can be ignored.\n",
        "# link https://www.tensorflow.org/tutorials/keras/save_and_restore_models\n",
        "\n",
        "checkpoint_path = \"output/cp.ckpt\"\n",
        "\n",
        "model.load_weights(checkpoint_path)\n",
        "\n",
        "_, train_acc = model.evaluate(x_train, y_train, verbose=1)\n",
        "_, test_acc = model.evaluate(x_test, y_test, verbose=1)\n",
        "print('Train: %.3f, Test: %.3f' % (train_acc, test_acc))"
      ]
    }
  ],
  "metadata": {
    "accelerator": "GPU",
    "colab": {
      "provenance": [],
      "include_colab_link": true
    },
    "kernelspec": {
      "display_name": "Python 3 (ipykernel)",
      "language": "python",
      "name": "python3"
    },
    "language_info": {
      "codemirror_mode": {
        "name": "ipython",
        "version": 3
      },
      "file_extension": ".py",
      "mimetype": "text/x-python",
      "name": "python",
      "nbconvert_exporter": "python",
      "pygments_lexer": "ipython3",
      "version": "3.9.13"
    }
  },
  "nbformat": 4,
  "nbformat_minor": 0
}