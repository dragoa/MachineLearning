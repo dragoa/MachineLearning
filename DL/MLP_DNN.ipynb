{
  "cells": [
    {
      "cell_type": "markdown",
      "metadata": {
        "id": "view-in-github",
        "colab_type": "text"
      },
      "source": [
        "<a href=\"https://colab.research.google.com/github/dragoa/MachineLearning/blob/ML/DL/MLP_DNN.ipynb\" target=\"_parent\"><img src=\"https://colab.research.google.com/assets/colab-badge.svg\" alt=\"Open In Colab\"/></a>"
      ]
    },
    {
      "cell_type": "markdown",
      "metadata": {
        "id": "k2-p_EZYaY02"
      },
      "source": [
        "# Lab 1: Deep Neural Network (DNN)"
      ]
    },
    {
      "cell_type": "code",
      "source": [
        "! pip install tensorflow -q"
      ],
      "metadata": {
        "id": "B7X8U0C1bHhQ"
      },
      "execution_count": 73,
      "outputs": []
    },
    {
      "cell_type": "markdown",
      "metadata": {
        "id": "u67Q_Mv2aY1r"
      },
      "source": [
        "## 1.1 Refresh: build a Single Layer Perceptron\n",
        "Let's build a single layer perceptron composed by one dense layer.<br>\n"
      ]
    },
    {
      "cell_type": "markdown",
      "source": [
        "![image.png](\"imgs/A-single-layer-perceptron-with-two-inputs\")"
      ],
      "metadata": {
        "id": "8k5_6V7WX_07"
      }
    },
    {
      "cell_type": "code",
      "execution_count": 74,
      "metadata": {
        "id": "pGyGeFxcaY1y"
      },
      "outputs": [],
      "source": [
        "from keras.models import Sequential\n",
        "from keras.layers import Dense\n",
        "\n",
        "# Define the number of inputs\n",
        "n_input_nodes = 2\n",
        "\n",
        "# First define the model\n",
        "model = Sequential() # Sequential() lets us define a linear stack of network layers.\n",
        "\n",
        "# define our single fully connected network layer\n",
        "dense_layer = Dense(n_input_nodes, activation='sigmoid',kernel_initializer=\"Ones\",bias_initializer=\"Ones\")\n",
        "\n",
        "# Add the dense layer to the model\n",
        "model.add(dense_layer)"
      ]
    },
    {
      "cell_type": "markdown",
      "metadata": {
        "id": "7O3ScCB-aY19"
      },
      "source": [
        "## 1.2 Refresh: build a Multilayer perceptron\n",
        "Let's build a multilayer perceptron; MLPs are fully connected, each node in one layer connects with a certain weight to every node in the following layer.\n",
        "\n",
        "Try to build one composed by two hidden dense layer with ReLU activation and one dense output layer(units=1) with sigmoid activation."
      ]
    },
    {
      "cell_type": "code",
      "source": [
        "import numpy as np\n",
        "from keras.models import Sequential\n",
        "from keras.layers import Dense\n",
        "\n",
        "# Generate dummy data\n",
        "train_data = np.random.random((1000, 100))\n",
        "train_labels = np.random.randint(2, size=(1000, 1))  # Reshape to (1000, 1)\n",
        "test_data = np.random.random((100, 100))\n",
        "test_labels = np.random.randint(2, size=(100, 1))  # Reshape to (100, 1)\n",
        "\n",
        "# Build your first model by creating a Sequential object and then adding 3 Dense layers:\n",
        "units = 32\n",
        "# Create a Sequential\n",
        "model = Sequential()\n",
        "# Add a Dense layer with 32 neurons, with relu as activation function and input dimension equal to the number of features\n",
        "model.add(Dense(units, activation='relu', input_dim=train_data.shape[1]))\n",
        "# Add a Dense layer with 32 neurons, with relu as activation function\n",
        "model.add(Dense(units, activation='relu'))  # Removed unnecessary variable\n",
        "# To produce the output Add a Dense layer with 1 neurons, with sigmoid as activation function\n",
        "model.add(Dense(1, activation='sigmoid'))  # Changed variable name\n",
        "\n",
        "# Compile the model\n",
        "model.compile(optimizer='adam',\n",
        "              loss='binary_crossentropy',\n",
        "              metrics=['accuracy'])\n",
        "\n",
        "# Train the model, iterating on the data in batches of 32 samples\n",
        "# The fit function output is a History object. The history.history attribute is a record of\n",
        "# training loss values and metrics values at successive epochs, as well as validation loss values\n",
        "# and validation metrics values\n",
        "history = model.fit(train_data, train_labels, epochs=30, batch_size=32)\n",
        "_, train_acc = model.evaluate(train_data, train_labels, verbose=1)\n",
        "_, test_acc = model.evaluate(test_data, test_labels, verbose=1)\n",
        "print('Train: %.3f, Test: %.3f' % (train_acc, test_acc))"
      ],
      "metadata": {
        "colab": {
          "base_uri": "https://localhost:8080/"
        },
        "id": "kiTyaN6RJ8DC",
        "outputId": "0308317c-c430-4a82-ae33-950056d3a962"
      },
      "execution_count": 75,
      "outputs": [
        {
          "output_type": "stream",
          "name": "stdout",
          "text": [
            "Epoch 1/30\n",
            "32/32 [==============================] - 1s 4ms/step - loss: 0.7030 - accuracy: 0.4980\n",
            "Epoch 2/30\n",
            "32/32 [==============================] - 0s 3ms/step - loss: 0.6927 - accuracy: 0.5190\n",
            "Epoch 3/30\n",
            "32/32 [==============================] - 0s 3ms/step - loss: 0.6896 - accuracy: 0.5150\n",
            "Epoch 4/30\n",
            "32/32 [==============================] - 0s 3ms/step - loss: 0.6879 - accuracy: 0.5420\n",
            "Epoch 5/30\n",
            "32/32 [==============================] - 0s 3ms/step - loss: 0.6859 - accuracy: 0.5390\n",
            "Epoch 6/30\n",
            "32/32 [==============================] - 0s 4ms/step - loss: 0.6840 - accuracy: 0.5530\n",
            "Epoch 7/30\n",
            "32/32 [==============================] - 0s 3ms/step - loss: 0.6799 - accuracy: 0.5750\n",
            "Epoch 8/30\n",
            "32/32 [==============================] - 0s 3ms/step - loss: 0.6783 - accuracy: 0.5890\n",
            "Epoch 9/30\n",
            "32/32 [==============================] - 0s 5ms/step - loss: 0.6728 - accuracy: 0.5910\n",
            "Epoch 10/30\n",
            "32/32 [==============================] - 0s 5ms/step - loss: 0.6709 - accuracy: 0.5930\n",
            "Epoch 11/30\n",
            "32/32 [==============================] - 0s 4ms/step - loss: 0.6585 - accuracy: 0.6390\n",
            "Epoch 12/30\n",
            "32/32 [==============================] - 0s 4ms/step - loss: 0.6518 - accuracy: 0.6480\n",
            "Epoch 13/30\n",
            "32/32 [==============================] - 0s 3ms/step - loss: 0.6438 - accuracy: 0.6450\n",
            "Epoch 14/30\n",
            "32/32 [==============================] - 0s 3ms/step - loss: 0.6330 - accuracy: 0.6550\n",
            "Epoch 15/30\n",
            "32/32 [==============================] - 0s 3ms/step - loss: 0.6259 - accuracy: 0.6660\n",
            "Epoch 16/30\n",
            "32/32 [==============================] - 0s 3ms/step - loss: 0.6214 - accuracy: 0.6660\n",
            "Epoch 17/30\n",
            "32/32 [==============================] - 0s 3ms/step - loss: 0.6008 - accuracy: 0.7050\n",
            "Epoch 18/30\n",
            "32/32 [==============================] - 0s 3ms/step - loss: 0.5887 - accuracy: 0.7040\n",
            "Epoch 19/30\n",
            "32/32 [==============================] - 0s 3ms/step - loss: 0.5755 - accuracy: 0.7220\n",
            "Epoch 20/30\n",
            "32/32 [==============================] - 0s 3ms/step - loss: 0.5715 - accuracy: 0.7270\n",
            "Epoch 21/30\n",
            "32/32 [==============================] - 0s 3ms/step - loss: 0.5672 - accuracy: 0.7190\n",
            "Epoch 22/30\n",
            "32/32 [==============================] - 0s 3ms/step - loss: 0.5438 - accuracy: 0.7190\n",
            "Epoch 23/30\n",
            "32/32 [==============================] - 0s 3ms/step - loss: 0.5230 - accuracy: 0.7570\n",
            "Epoch 24/30\n",
            "32/32 [==============================] - 0s 3ms/step - loss: 0.5093 - accuracy: 0.7720\n",
            "Epoch 25/30\n",
            "32/32 [==============================] - 0s 7ms/step - loss: 0.5018 - accuracy: 0.7720\n",
            "Epoch 26/30\n",
            "32/32 [==============================] - 0s 5ms/step - loss: 0.4762 - accuracy: 0.7930\n",
            "Epoch 27/30\n",
            "32/32 [==============================] - 0s 5ms/step - loss: 0.4606 - accuracy: 0.8000\n",
            "Epoch 28/30\n",
            "32/32 [==============================] - 0s 6ms/step - loss: 0.4373 - accuracy: 0.8260\n",
            "Epoch 29/30\n",
            "32/32 [==============================] - 0s 5ms/step - loss: 0.4205 - accuracy: 0.8370\n",
            "Epoch 30/30\n",
            "32/32 [==============================] - 0s 6ms/step - loss: 0.4088 - accuracy: 0.8260\n",
            "32/32 [==============================] - 1s 8ms/step - loss: 0.3800 - accuracy: 0.8620\n",
            "4/4 [==============================] - 0s 7ms/step - loss: 0.9226 - accuracy: 0.5200\n",
            "Train: 0.862, Test: 0.520\n"
          ]
        }
      ]
    },
    {
      "cell_type": "markdown",
      "metadata": {
        "id": "o8fIyluGaY2E"
      },
      "source": [
        "# 1.3 Build a Deep Neural Network\n",
        "In this section we will:\n",
        "*  1.2.1 Import the dataset\n",
        "*  1.2.2 Build a model\n",
        "*  1.2.3 Train the model\n",
        "*  1.2.4 Evaluate the model"
      ]
    },
    {
      "cell_type": "markdown",
      "metadata": {
        "id": "Vnq7w29FaY2G"
      },
      "source": [
        "## 1.3.1 Import the Dataset\n",
        "Fashion-MNIST is a dataset of Zalando’s article images consisting of a training set of 60,000 examples and a test set of 10,000 examples. <br>\n",
        "Each example is a 28×28 grayscale image, associated with a label from 10 classes.<br>\n",
        "<img src=\"https://res.cloudinary.com/practicaldev/image/fetch/s--s6xGmaZX--/c_imagga_scale,f_auto,fl_progressive,h_900,q_auto,w_1600/https://raw.githubusercontent.com/zalandoresearch/fashion-mnist/master/doc/img/fashion-mnist-sprite.png\" width=\"600px\"><br>\n"
      ]
    },
    {
      "cell_type": "code",
      "execution_count": 76,
      "metadata": {
        "id": "LX4Gc3siaY2H"
      },
      "outputs": [],
      "source": [
        "import tensorflow as tf\n",
        "from sklearn.model_selection import train_test_split\n",
        "mnist_fashion = tf.keras.datasets.fashion_mnist\n",
        "\n",
        "(x_learn, y_learn),(x_test, y_test) = mnist_fashion.load_data()"
      ]
    },
    {
      "cell_type": "code",
      "source": [
        "print(\"X Learn:\", x_learn.shape, type(x_learn))\n",
        "print(\"X Test:\", x_test.shape, type(x_test))\n",
        "print(\"Y Learn:\", y_learn.shape, type(y_learn))"
      ],
      "metadata": {
        "colab": {
          "base_uri": "https://localhost:8080/"
        },
        "id": "3xFZvfRGvbH3",
        "outputId": "cf611cf6-5368-4b28-eb1d-f7a5fc02d81f"
      },
      "execution_count": 77,
      "outputs": [
        {
          "output_type": "stream",
          "name": "stdout",
          "text": [
            "X Learn: (60000, 28, 28) <class 'numpy.ndarray'>\n",
            "X Test: (10000, 28, 28) <class 'numpy.ndarray'>\n",
            "Y Learn: (60000,) <class 'numpy.ndarray'>\n"
          ]
        }
      ]
    },
    {
      "cell_type": "code",
      "source": [
        "x_learn, x_test = x_learn / 255.0, x_test / 255.0 # normalization\n",
        "x_train, x_val, y_train, y_val = train_test_split(x_learn, y_learn, test_size=0.3, random_state=42) # split learn in train,val\n",
        "num_classes = 10 # Fashion-MNIST classes\n",
        "\n",
        "print(x_train.shape, x_val.shape, x_test.shape)"
      ],
      "metadata": {
        "colab": {
          "base_uri": "https://localhost:8080/"
        },
        "id": "WaVKhW17vN-T",
        "outputId": "73741a39-046f-4583-ec43-1ae64f29da06"
      },
      "execution_count": 78,
      "outputs": [
        {
          "output_type": "stream",
          "name": "stdout",
          "text": [
            "(42000, 28, 28) (18000, 28, 28) (10000, 28, 28)\n"
          ]
        }
      ]
    },
    {
      "cell_type": "markdown",
      "metadata": {
        "id": "G_LsI1CdaY2J"
      },
      "source": [
        "#### Plot some sample from the training set"
      ]
    },
    {
      "cell_type": "markdown",
      "source": [
        "Displaying the matrix X is not useful at all, they are only pixels values. Instead what we can do is to reconstruct the images starting from those pixels."
      ],
      "metadata": {
        "id": "xGI3iPZt0sRp"
      }
    },
    {
      "cell_type": "code",
      "source": [
        "import matplotlib.pyplot as plt\n",
        "\n",
        "i = 0\n",
        "# reshaping and reconstructiong the image\n",
        "picture = np.reshape(x_learn[i,:], (28,28))\n",
        "\n",
        "print(y_learn[i])\n",
        "fig, ax = plt.subplots()\n",
        "ax.imshow(picture, cmap=plt.cm.gray)\n",
        "ax.axis('off')"
      ],
      "metadata": {
        "colab": {
          "base_uri": "https://localhost:8080/",
          "height": 442
        },
        "id": "31Qztsbz0odx",
        "outputId": "02cf8514-3993-4cfd-9d23-8b0529cbcc49"
      },
      "execution_count": 79,
      "outputs": [
        {
          "output_type": "stream",
          "name": "stdout",
          "text": [
            "9\n"
          ]
        },
        {
          "output_type": "execute_result",
          "data": {
            "text/plain": [
              "(-0.5, 27.5, 27.5, -0.5)"
            ]
          },
          "metadata": {},
          "execution_count": 79
        },
        {
          "output_type": "display_data",
          "data": {
            "text/plain": [
              "<Figure size 640x480 with 1 Axes>"
            ],
            "image/png": "[encoded data removed]"
          },
          "metadata": {}
        }
      ]
    },
    {
      "cell_type": "code",
      "execution_count": 80,
      "metadata": {
        "id": "gX44XG1RaY2K",
        "colab": {
          "base_uri": "https://localhost:8080/",
          "height": 518
        },
        "outputId": "7c2aa928-52b7-4105-c482-563e1b3eb978"
      },
      "outputs": [
        {
          "output_type": "display_data",
          "data": {
            "text/plain": [
              "<Figure size 600x600 with 16 Axes>"
            ],
            "image/png": "[encoded data removed]"
          },
          "metadata": {}
        }
      ],
      "source": [
        "import matplotlib.pyplot as plt\n",
        "class_names = ['T-shirt/top', 'Trouser', 'Pullover', 'Dress', 'Coat',\n",
        "               'Sandal', 'Shirt', 'Sneaker', 'Bag', 'Ankle boot']\n",
        "\n",
        "plt.figure(figsize=(6,6))\n",
        "for i in range(16):\n",
        "    plt.subplot(4,4,i+1)\n",
        "    plt.xticks([])\n",
        "    plt.yticks([])\n",
        "    plt.grid(False)\n",
        "    plt.imshow(x_train[i], cmap=plt.cm.binary)\n",
        "    plt.xlabel(class_names[y_train[i]])\n",
        "plt.show()"
      ]
    },
    {
      "cell_type": "markdown",
      "metadata": {
        "id": "F7Ag6933aY2N"
      },
      "source": [
        "## 1.3.2 Build a Model\n",
        "\n",
        "A Deep Neural Network is a neural network composed by many layers and consequently it has a deeper structure. The number of layers in the network depends on different factors: for example on the data available, on the complexity of the problem, on the computational power and so on.\n",
        "The value produced as output by a neuron is determined by the input the neuron receives and by the activation function. There exists different choices for the activation function. One of the most used is Relu but it depends on the data and on the network architecture.\n"
      ]
    },
    {
      "cell_type": "markdown",
      "metadata": {
        "id": "uUrCyhLdaY2R"
      },
      "source": [
        "#### Build a model with this structure: Flatten+Dense(ReLU)+Dense(ReLU)+Dense(ReLU)+Dense(ReLU)+Dense(softmax)"
      ]
    },
    {
      "cell_type": "code",
      "execution_count": 81,
      "metadata": {
        "id": "jL-UXDSMaY2S"
      },
      "outputs": [],
      "source": [
        "from keras.layers import Flatten\n",
        "# https://keras.io/layers/core/\n",
        "model = Sequential()\n",
        "model.add(Flatten())\n",
        "# Add a Dense layer with 512 neurons, with relu as activation function\n",
        "model.add(Dense(512, activation='relu'))\n",
        "# Add a Dense layer with 256 neurons, with relu as activation function\n",
        "model.add(Dense(256, activation='relu'))\n",
        "# Add a Dense layer with 128 neurons, with relu as activation function\n",
        "model.add(Dense(128, activation='relu'))\n",
        "# Add a Dense layer with 64 neurons, with relu as activation function\n",
        "model.add(Dense(64, activation='relu'))\n",
        "# Add a Dense layer with number of neurons equal to the number of classes, with softmax as activation function\n",
        "model.add(Dense(10, activation='softmax'))"
      ]
    },
    {
      "cell_type": "markdown",
      "metadata": {
        "id": "qXOzjck_aY2V"
      },
      "source": [
        "When we are building a model there are many design choises that we must operate: the choice of a Loss Function, the Metrics and the Optimizer.<br>\n",
        "\n",
        "**Loss functions** are used to compare the network's predicted output  with the real output, in each pass of the backpropagations algorithm<br>\n",
        "Common loss functions are: mean-squared error, cross-entropy, and so on...<br><br>\n",
        "**Metrics** are used to evaluate a model; common metrics are precision, recall, accuracy, auc,..<br>\n",
        "\n",
        "The **Optimizer** determines the update rules of the weights. The performance and update speed may heavily vary from optimizer to optimizer; in choosing an optimizer what's important to consider is the network depth, the type of layers and the type of data.<br>\n",
        "The gif below give an idea on how different Optimizers work.<br>\n",
        "\n",
        "<img src=\"https://user-images.githubusercontent.com/11681225/49325458-fc785480-f585-11e8-8d2a-9012d6024c6e.gif\" width=\"460px\">"
      ]
    },
    {
      "cell_type": "markdown",
      "metadata": {
        "id": "01Ms84EmaY2W"
      },
      "source": [
        "#### Configures the model for training"
      ]
    },
    {
      "cell_type": "code",
      "execution_count": 90,
      "metadata": {
        "id": "zL2LLmKyaY2W",
        "colab": {
          "base_uri": "https://localhost:8080/"
        },
        "outputId": "9aadb9a9-b6b0-4260-b6a9-3f5fff56ba82"
      },
      "outputs": [
        {
          "output_type": "stream",
          "name": "stderr",
          "text": [
            "/usr/local/lib/python3.10/dist-packages/keras/src/optimizers/legacy/gradient_descent.py:114: UserWarning: The `lr` argument is deprecated, use `learning_rate` instead.\n",
            "  super().__init__(name, **kwargs)\n",
            "/usr/local/lib/python3.10/dist-packages/keras/src/optimizers/legacy/adadelta.py:82: UserWarning: The `lr` argument is deprecated, use `learning_rate` instead.\n",
            "  super().__init__(name, **kwargs)\n",
            "/usr/local/lib/python3.10/dist-packages/keras/src/optimizers/legacy/adagrad.py:84: UserWarning: The `lr` argument is deprecated, use `learning_rate` instead.\n",
            "  super().__init__(name, **kwargs)\n",
            "/usr/local/lib/python3.10/dist-packages/keras/src/optimizers/legacy/adamax.py:102: UserWarning: The `lr` argument is deprecated, use `learning_rate` instead.\n",
            "  super().__init__(name, **kwargs)\n",
            "/usr/local/lib/python3.10/dist-packages/keras/src/optimizers/legacy/nadam.py:89: UserWarning: The `lr` argument is deprecated, use `learning_rate` instead.\n",
            "  super().__init__(name, **kwargs)\n",
            "/usr/local/lib/python3.10/dist-packages/keras/src/optimizers/legacy/rmsprop.py:144: UserWarning: The `lr` argument is deprecated, use `learning_rate` instead.\n",
            "  super().__init__(name, **kwargs)\n"
          ]
        }
      ],
      "source": [
        "# Optimizers    https://www.tensorflow.org/api_docs/python/tf/keras/optimizers\n",
        "from keras.optimizers.legacy import Adam, SGD, Adadelta, Adagrad, Adamax, Nadam, RMSprop\n",
        "\n",
        "adam = Adam(learning_rate=0.001, beta_1=0.9, beta_2=0.999, epsilon=None, decay=0.0, amsgrad=False)\n",
        "sgd = SGD(lr=0.001, momentum=0.0, decay=0.0, nesterov=False)\n",
        "adad = Adadelta(lr=1.0,rho=0.95,epsilon=None,decay=0.0)\n",
        "adag = Adagrad(lr=0.01,epsilon=None,decay=0.0)\n",
        "adamax = Adamax(lr=0.002,beta_1=0.9,beta_2=0.999,epsilon=None,decay=0.0)\n",
        "nadam = Nadam(lr=0.002,beta_1=0.9,beta_2=0.999,epsilon=None,schedule_decay=0.004)\n",
        "rms = RMSprop(lr=0.001,rho=0.9,epsilon=None,decay=0.0)\n",
        "\n",
        "# Losses    https://keras.io/losses/\n",
        "loss = ['sparse_categorical_crossentropy','mean_squared_error','mean_absolute_error',\n",
        "        'categorical_crossentropy','categorical_hinge']\n",
        "\n",
        "# Metrics    https://www.tensorflow.org/api_docs/python/tf/metrics\n",
        "metrics = ['accuracy','precision','recall']"
      ]
    },
    {
      "cell_type": "markdown",
      "metadata": {
        "id": "9SvR02wtaY2c"
      },
      "source": [
        "## 1.3.3 Train the model\n",
        "The batch size is a number of samples processed before the model is updated.<br>\n",
        "The number of epochs is the number of complete passes through the training dataset."
      ]
    },
    {
      "cell_type": "code",
      "execution_count": 91,
      "metadata": {
        "id": "Wd4Q9bFjaY2c",
        "colab": {
          "base_uri": "https://localhost:8080/"
        },
        "outputId": "45b24b11-9ca7-49e4-b39c-ed170e885cb5"
      },
      "outputs": [
        {
          "output_type": "stream",
          "name": "stdout",
          "text": [
            "Epoch 1/50\n",
            "329/329 - 3s - loss: 0.5589 - accuracy: 0.8000 - val_loss: 0.4775 - val_accuracy: 0.8291 - 3s/epoch - 8ms/step\n",
            "Epoch 2/50\n",
            "329/329 - 1s - loss: 0.3899 - accuracy: 0.8565 - val_loss: 0.3983 - val_accuracy: 0.8533 - 1s/epoch - 3ms/step\n",
            "Epoch 3/50\n",
            "329/329 - 1s - loss: 0.3438 - accuracy: 0.8735 - val_loss: 0.3814 - val_accuracy: 0.8606 - 1s/epoch - 3ms/step\n",
            "Epoch 4/50\n",
            "329/329 - 1s - loss: 0.3143 - accuracy: 0.8833 - val_loss: 0.4099 - val_accuracy: 0.8488 - 1s/epoch - 3ms/step\n",
            "Epoch 5/50\n",
            "329/329 - 1s - loss: 0.2982 - accuracy: 0.8887 - val_loss: 0.3419 - val_accuracy: 0.8796 - 1s/epoch - 4ms/step\n",
            "Epoch 6/50\n",
            "329/329 - 2s - loss: 0.2784 - accuracy: 0.8975 - val_loss: 0.3258 - val_accuracy: 0.8788 - 2s/epoch - 5ms/step\n",
            "Epoch 7/50\n",
            "329/329 - 1s - loss: 0.2665 - accuracy: 0.8998 - val_loss: 0.3195 - val_accuracy: 0.8854 - 1s/epoch - 3ms/step\n",
            "Epoch 8/50\n",
            "329/329 - 1s - loss: 0.2550 - accuracy: 0.9042 - val_loss: 0.3319 - val_accuracy: 0.8827 - 1s/epoch - 3ms/step\n",
            "Epoch 9/50\n",
            "329/329 - 1s - loss: 0.2450 - accuracy: 0.9080 - val_loss: 0.3684 - val_accuracy: 0.8712 - 1s/epoch - 5ms/step\n",
            "Epoch 10/50\n",
            "329/329 - 2s - loss: 0.2329 - accuracy: 0.9122 - val_loss: 0.3378 - val_accuracy: 0.8827 - 2s/epoch - 6ms/step\n",
            "Epoch 11/50\n",
            "329/329 - 1s - loss: 0.2239 - accuracy: 0.9163 - val_loss: 0.3308 - val_accuracy: 0.8847 - 1s/epoch - 3ms/step\n",
            "Epoch 12/50\n",
            "329/329 - 1s - loss: 0.2156 - accuracy: 0.9180 - val_loss: 0.3306 - val_accuracy: 0.8894 - 1s/epoch - 3ms/step\n",
            "Epoch 13/50\n",
            "329/329 - 1s - loss: 0.2050 - accuracy: 0.9218 - val_loss: 0.3500 - val_accuracy: 0.8813 - 1s/epoch - 3ms/step\n",
            "Epoch 14/50\n",
            "329/329 - 1s - loss: 0.1993 - accuracy: 0.9248 - val_loss: 0.3302 - val_accuracy: 0.8883 - 1s/epoch - 5ms/step\n",
            "Epoch 15/50\n",
            "329/329 - 1s - loss: 0.1947 - accuracy: 0.9255 - val_loss: 0.3285 - val_accuracy: 0.8914 - 1s/epoch - 4ms/step\n",
            "Epoch 16/50\n",
            "329/329 - 1s - loss: 0.1838 - accuracy: 0.9289 - val_loss: 0.3480 - val_accuracy: 0.8875 - 1s/epoch - 3ms/step\n",
            "Epoch 17/50\n",
            "329/329 - 1s - loss: 0.1766 - accuracy: 0.9328 - val_loss: 0.3563 - val_accuracy: 0.8921 - 1s/epoch - 3ms/step\n",
            "Epoch 18/50\n",
            "329/329 - 1s - loss: 0.1719 - accuracy: 0.9351 - val_loss: 0.3410 - val_accuracy: 0.8939 - 1s/epoch - 3ms/step\n",
            "Epoch 19/50\n",
            "329/329 - 1s - loss: 0.1710 - accuracy: 0.9344 - val_loss: 0.3457 - val_accuracy: 0.8934 - 1s/epoch - 3ms/step\n",
            "Epoch 20/50\n",
            "329/329 - 1s - loss: 0.1642 - accuracy: 0.9362 - val_loss: 0.3399 - val_accuracy: 0.8959 - 1s/epoch - 3ms/step\n",
            "Epoch 21/50\n",
            "329/329 - 1s - loss: 0.1545 - accuracy: 0.9418 - val_loss: 0.3476 - val_accuracy: 0.8922 - 1s/epoch - 3ms/step\n",
            "Epoch 22/50\n",
            "329/329 - 1s - loss: 0.1542 - accuracy: 0.9402 - val_loss: 0.3434 - val_accuracy: 0.8934 - 1s/epoch - 3ms/step\n",
            "Epoch 23/50\n",
            "329/329 - 1s - loss: 0.1440 - accuracy: 0.9446 - val_loss: 0.3727 - val_accuracy: 0.8957 - 1s/epoch - 3ms/step\n",
            "Epoch 24/50\n",
            "329/329 - 1s - loss: 0.1478 - accuracy: 0.9442 - val_loss: 0.3903 - val_accuracy: 0.8898 - 1s/epoch - 4ms/step\n",
            "Epoch 25/50\n",
            "329/329 - 1s - loss: 0.1359 - accuracy: 0.9474 - val_loss: 0.4233 - val_accuracy: 0.8891 - 1s/epoch - 4ms/step\n",
            "Epoch 26/50\n",
            "329/329 - 1s - loss: 0.1351 - accuracy: 0.9477 - val_loss: 0.3984 - val_accuracy: 0.8942 - 1s/epoch - 3ms/step\n",
            "Epoch 27/50\n",
            "329/329 - 1s - loss: 0.1287 - accuracy: 0.9498 - val_loss: 0.4431 - val_accuracy: 0.8866 - 1s/epoch - 3ms/step\n",
            "Epoch 28/50\n",
            "329/329 - 1s - loss: 0.1239 - accuracy: 0.9519 - val_loss: 0.3995 - val_accuracy: 0.8928 - 1s/epoch - 3ms/step\n",
            "Epoch 29/50\n",
            "329/329 - 1s - loss: 0.1209 - accuracy: 0.9540 - val_loss: 0.4340 - val_accuracy: 0.8829 - 1s/epoch - 3ms/step\n",
            "Epoch 30/50\n",
            "329/329 - 1s - loss: 0.1218 - accuracy: 0.9531 - val_loss: 0.4012 - val_accuracy: 0.8941 - 1s/epoch - 3ms/step\n",
            "Epoch 31/50\n",
            "329/329 - 1s - loss: 0.1146 - accuracy: 0.9558 - val_loss: 0.4335 - val_accuracy: 0.8957 - 1s/epoch - 3ms/step\n",
            "Epoch 32/50\n",
            "329/329 - 1s - loss: 0.1124 - accuracy: 0.9560 - val_loss: 0.4313 - val_accuracy: 0.8956 - 1s/epoch - 3ms/step\n",
            "Epoch 33/50\n",
            "329/329 - 1s - loss: 0.1065 - accuracy: 0.9593 - val_loss: 0.4089 - val_accuracy: 0.8950 - 1s/epoch - 3ms/step\n",
            "Epoch 34/50\n",
            "329/329 - 1s - loss: 0.1019 - accuracy: 0.9608 - val_loss: 0.4755 - val_accuracy: 0.8881 - 1s/epoch - 3ms/step\n",
            "Epoch 35/50\n",
            "329/329 - 2s - loss: 0.0968 - accuracy: 0.9629 - val_loss: 0.4620 - val_accuracy: 0.8922 - 2s/epoch - 5ms/step\n",
            "Epoch 36/50\n",
            "329/329 - 1s - loss: 0.0994 - accuracy: 0.9623 - val_loss: 0.4370 - val_accuracy: 0.8987 - 1s/epoch - 4ms/step\n",
            "Epoch 37/50\n",
            "329/329 - 1s - loss: 0.0947 - accuracy: 0.9644 - val_loss: 0.4587 - val_accuracy: 0.8961 - 1s/epoch - 3ms/step\n",
            "Epoch 38/50\n",
            "329/329 - 1s - loss: 0.0982 - accuracy: 0.9623 - val_loss: 0.4641 - val_accuracy: 0.8952 - 1s/epoch - 3ms/step\n",
            "Epoch 39/50\n",
            "329/329 - 1s - loss: 0.0963 - accuracy: 0.9637 - val_loss: 0.4525 - val_accuracy: 0.8901 - 1s/epoch - 3ms/step\n",
            "Epoch 40/50\n",
            "329/329 - 1s - loss: 0.0889 - accuracy: 0.9656 - val_loss: 0.4791 - val_accuracy: 0.8956 - 1s/epoch - 3ms/step\n",
            "Epoch 41/50\n",
            "329/329 - 1s - loss: 0.0820 - accuracy: 0.9688 - val_loss: 0.4809 - val_accuracy: 0.8948 - 1s/epoch - 3ms/step\n",
            "Epoch 42/50\n",
            "329/329 - 1s - loss: 0.0803 - accuracy: 0.9690 - val_loss: 0.4984 - val_accuracy: 0.8948 - 1s/epoch - 3ms/step\n",
            "Epoch 43/50\n",
            "329/329 - 1s - loss: 0.0877 - accuracy: 0.9655 - val_loss: 0.5165 - val_accuracy: 0.8926 - 1s/epoch - 3ms/step\n",
            "Epoch 44/50\n",
            "329/329 - 1s - loss: 0.0815 - accuracy: 0.9694 - val_loss: 0.5465 - val_accuracy: 0.8941 - 1s/epoch - 3ms/step\n",
            "Epoch 45/50\n",
            "329/329 - 1s - loss: 0.0703 - accuracy: 0.9725 - val_loss: 0.5466 - val_accuracy: 0.8922 - 1s/epoch - 4ms/step\n",
            "Epoch 46/50\n",
            "329/329 - 1s - loss: 0.0742 - accuracy: 0.9710 - val_loss: 0.5994 - val_accuracy: 0.8859 - 1s/epoch - 4ms/step\n",
            "Epoch 47/50\n",
            "329/329 - 1s - loss: 0.0742 - accuracy: 0.9711 - val_loss: 0.5518 - val_accuracy: 0.8932 - 1s/epoch - 4ms/step\n",
            "Epoch 48/50\n",
            "329/329 - 1s - loss: 0.0721 - accuracy: 0.9720 - val_loss: 0.5719 - val_accuracy: 0.8939 - 1s/epoch - 3ms/step\n",
            "Epoch 49/50\n",
            "329/329 - 1s - loss: 0.0741 - accuracy: 0.9719 - val_loss: 0.5264 - val_accuracy: 0.8922 - 1s/epoch - 3ms/step\n",
            "Epoch 50/50\n",
            "329/329 - 1s - loss: 0.0693 - accuracy: 0.9734 - val_loss: 0.5311 - val_accuracy: 0.8942 - 1s/epoch - 3ms/step\n",
            "Test loss: 0.5311494469642639\n",
            "Test accuracy: 0.8941666483879089\n"
          ]
        }
      ],
      "source": [
        "# Compile the model you created before using\n",
        "# adam optimizer as optimizer\n",
        "# sparse categorical crossentropy as loss function\n",
        "# accuracy as metric\n",
        "model.compile(optimizer=adam, loss=loss[0], metrics=metrics[0])\n",
        "\n",
        "batch_size = 128\n",
        "epochs = 50\n",
        "# fit your model and save the returned value as \"history\".\n",
        "# Use both the train and validation set\n",
        "# Set both properly the batch size value and the epochs value\n",
        "history = model.fit(x_train, y_train, batch_size=batch_size, epochs=epochs, verbose=2, validation_data=(x_val, y_val))\n",
        "# Evaluate the model\n",
        "score = model.evaluate(x_val, y_val, verbose=0)\n",
        "print('Test loss:', score[0])\n",
        "print('Test accuracy:', score[1])"
      ]
    },
    {
      "cell_type": "markdown",
      "metadata": {
        "id": "dv73zOpQaY2f"
      },
      "source": [
        "#### Training history visualization\n",
        "\n"
      ]
    },
    {
      "cell_type": "code",
      "execution_count": 92,
      "metadata": {
        "id": "IuYCcmXGaY2h"
      },
      "outputs": [],
      "source": [
        "def plot_history(history):\n",
        "    # Plot training & validation accuracy values\n",
        "    plt.plot(history.history['accuracy'])\n",
        "    plt.plot(history.history['val_accuracy'])\n",
        "    plt.title('Model accuracy')\n",
        "    plt.ylabel('Accuracy')\n",
        "    plt.xlabel('Epoch')\n",
        "    plt.legend(['Train', 'Val'], loc='upper left')\n",
        "    plt.show()\n",
        "\n",
        "    # Plot training & validation loss values\n",
        "    plt.plot(history.history['loss'])\n",
        "    plt.plot(history.history['val_loss'])\n",
        "    plt.title('Model loss')\n",
        "    plt.ylabel('Loss')\n",
        "    plt.xlabel('Epoch')\n",
        "    plt.legend(['Train', 'Val'], loc='upper left')\n",
        "    plt.show()"
      ]
    },
    {
      "cell_type": "code",
      "execution_count": 93,
      "metadata": {
        "id": "nXWlXkuBaY2t",
        "scrolled": false,
        "colab": {
          "base_uri": "https://localhost:8080/",
          "height": 927
        },
        "outputId": "9702f671-1035-408a-b1ca-4f5b7a174681"
      },
      "outputs": [
        {
          "output_type": "display_data",
          "data": {
            "text/plain": [
              "<Figure size 640x480 with 1 Axes>"
            ],
            "image/png": "[encoded data removed]"
          },
          "metadata": {}
        },
        {
          "output_type": "display_data",
          "data": {
            "text/plain": [
              "<Figure size 640x480 with 1 Axes>"
            ],
            "image/png": "[encoded data removed]"
          },
          "metadata": {}
        }
      ],
      "source": [
        "plot_history(history)"
      ]
    },
    {
      "cell_type": "markdown",
      "metadata": {
        "id": "qqEKGdT6aY2v"
      },
      "source": [
        "**What could you notice in the loss graph training the model over large number of epochs?**"
      ]
    },
    {
      "cell_type": "markdown",
      "metadata": {
        "id": "n8zJr0nraY2w"
      },
      "source": [
        "## 1.3.4 Evaluate the model\n"
      ]
    },
    {
      "cell_type": "code",
      "execution_count": 94,
      "metadata": {
        "id": "2lxASSVmaY2x",
        "colab": {
          "base_uri": "https://localhost:8080/"
        },
        "outputId": "9190d159-febe-4d9e-f619-27deb409646e"
      },
      "outputs": [
        {
          "output_type": "stream",
          "name": "stdout",
          "text": [
            "1313/1313 [==============================] - 4s 3ms/step - loss: 0.0644 - accuracy: 0.9750\n",
            "313/313 [==============================] - 1s 2ms/step - loss: 0.5961 - accuracy: 0.8884\n",
            "Train: 0.975, Test: 0.888\n"
          ]
        }
      ],
      "source": [
        "_, train_acc = model.evaluate(x_train, y_train, verbose=1)\n",
        "_, test_acc = model.evaluate(x_test, y_test, verbose=1)\n",
        "print('Train: %.3f, Test: %.3f' % (train_acc, test_acc))"
      ]
    },
    {
      "cell_type": "markdown",
      "metadata": {
        "id": "C2stTI0NaY2z"
      },
      "source": [
        "**Try to play with these parameters (loss and optimizers) in order to see how this choice affects the accuracy. What do you expect? which is faster?**\n"
      ]
    },
    {
      "cell_type": "markdown",
      "metadata": {
        "id": "znWL73IWaY20"
      },
      "source": [
        "# 1.4 Dealing with overfitting\n",
        "Given some training data and a network architecture, there are multiple sets of weights values (multiple models) that could explain the data, and simpler models are less likely to overfit than complex ones.<br>\n",
        "A \"simple model\" in this context is a model where the distribution of parameter values has less entropy (or a model with fewer parameters altogether).<br>\n",
        "How to improve generalization of our model on unseen data?<br>\n",
        "In this section we will:\n",
        "* 1.3.1 Add weight regularization\n",
        "* 1.3.2 Dropout\n",
        "* 1.3.3 Early stopping"
      ]
    },
    {
      "cell_type": "markdown",
      "metadata": {
        "id": "aimRiLIqaY22"
      },
      "source": [
        "## 1.4.1 Add weight regularization\n",
        "A common way to mitigate overfitting is to put constraints on the complexity of a network by forcing its weights only to take small values, which makes the distribution of weight values more \"regular\".<br>\n",
        "This is called \"weight regularization\", and it is done by adding to the loss function of the network a cost associated with having large weights.<br> This cost comes in two flavors:\n",
        "* L1 regularization\n",
        "* L2 regularization\n",
        "\n",
        "In tf.keras, weight regularization is added by passing weight regularizer instances to layers as keyword arguments."
      ]
    },
    {
      "cell_type": "code",
      "execution_count": null,
      "metadata": {
        "id": "vE2zlBgeaY23",
        "scrolled": false
      },
      "outputs": [],
      "source": [
        "from  tensorflow.keras import regularizers\n",
        "# Build the model\n",
        "model = Sequential()\n",
        "model.add(Flatten())\n",
        "# Add a Dense layer with 512 neurons, with relu as activation function and a l2 regularizer (with 0.001 as regularization value) as kernel regularizer\n",
        "# Add a Dense layer with 256 neurons, with relu as activation function and a l2 regularizer (with 0.001 as regularization value) as kernel regularizer\n",
        "# Add a Dense layer with 128 neurons, with relu as activation function and a l2 regularizer (with 0.001 as regularization value) as kernel regularizer\n",
        "# Add a Dense layer with 64 neurons, with relu as activation function and a l2 regularizer (with 0.001 as regularization value) as kernel regularizer\n",
        "# Add a Dense layer with number of neurons equal to the number of classes, with softmax as activation function\n",
        "\n",
        "\n",
        "# Compile the model you just created using\n",
        "# adam optimizer as optimizer\n",
        "# sparse categorical crossentropy as loss function\n",
        "# accuracy as metric\n",
        "\n",
        "\n",
        "# fit your model and save the returned value as \"history\".\n",
        "# Use both the train and validation set\n",
        "# Set both properly the batch size value and the epochs value\n",
        "batch_size = 128\n",
        "epochs = 10\n",
        "\n",
        "# Call the plot_history function to plot the obtained results\n",
        "\n",
        "# Evaluate\n",
        "_, train_acc = model.evaluate(x_train, y_train, verbose=1)\n",
        "_, test_acc = model.evaluate(x_test, y_test, verbose=1)\n",
        "print('Train: %.3f, Test: %.3f' % (train_acc, test_acc))"
      ]
    },
    {
      "cell_type": "markdown",
      "metadata": {
        "id": "r4xF5NBSaY25"
      },
      "source": [
        "## 1.4.2 Dropout\n",
        "Dropout is one of the most effective and most commonly used regularization techniques for neural networks.<br>\n",
        "Dropout, applied to a layer, consists of randomly \"dropping out\" (i.e. set to zero) a number of output features of the layer during training.<br>\n",
        "\n",
        "The \"dropout rate\" is the fraction of the features that are being zeroed-out; it is usually set between 0.2 and 0.5; at test time, no units are dropped out, and instead the layer's output values are scaled down by a factor equal to the dropout rate, so as to balance for the fact that more units are active than at training time."
      ]
    },
    {
      "cell_type": "code",
      "execution_count": null,
      "metadata": {
        "id": "EzV7zpjJaY26",
        "scrolled": false
      },
      "outputs": [],
      "source": [
        "from tensorflow.keras.layers import Dropout\n",
        "# Build the model\n",
        "model = Sequential()\n",
        "model.add(Flatten())\n",
        "# Add a Dense layer with 512 neurons, with relu as activation function\n",
        "# Add a Dropout layer with 0.3 drop probability\n",
        "# Add a Dense layer with 256 neurons, with relu as activation function\n",
        "# Add a Dropout layer with 0.3 drop probability\n",
        "# Add a Dense layer with 128 neurons, with relu as activation function\n",
        "# Add a Dropout layer with 0.3 drop probability\n",
        "# Add a Dense layer with 64 neurons, with relu as activation function\n",
        "# Add a Dense layer with number of neurons equal to the number of classes, with softmax as activation function\n",
        "\n",
        "\n",
        "# Compile the model you just created using\n",
        "# adam optimizer as optimizer\n",
        "# sparse categorical crossentropy as loss function\n",
        "# accuracy as metric\n",
        "\n",
        "\n",
        "# fit your model and save the returned value as \"history\".\n",
        "# Use both the train and validation set\n",
        "# Set both properly the batch size value and the epochs value\n",
        "batch_size = 128\n",
        "epochs = 10\n",
        "\n",
        "# Call the plot_history function to plot the obtained results\n",
        "\n",
        "# Evaluate\n",
        "_, train_acc = model.evaluate(x_train, y_train, verbose=1)\n",
        "_, test_acc = model.evaluate(x_test, y_test, verbose=1)\n",
        "print('Train: %.3f, Test: %.3f' % (train_acc, test_acc))"
      ]
    },
    {
      "cell_type": "markdown",
      "metadata": {
        "id": "m5_Yf-4UaY29"
      },
      "source": [
        "## 1.4.3 Early stopping\n",
        "Validation can be used to detect when overfitting starts during supervised training of a neural network; training is then stopped before convergence to avoid the overfitting.<br>\n"
      ]
    },
    {
      "cell_type": "code",
      "execution_count": null,
      "metadata": {
        "id": "vcJ9tjH2aY2-"
      },
      "outputs": [],
      "source": [
        "from tensorflow.keras.callbacks import ModelCheckpoint, EarlyStopping\n",
        "import os\n",
        "# early stopping https://keras.io/callbacks/\n",
        "es_callback = EarlyStopping(monitor='val_loss', mode='min', verbose=1, patience=5)\n",
        "\n",
        "# Create checkpoint callback that will save the best model observed during training for later use\n",
        "checkpoint_path = \"output/cp.ckpt\"\n",
        "checkpoint_dir = os.path.dirname(checkpoint_path)\n",
        "cp_callback = ModelCheckpoint(checkpoint_path,monitor='val_loss',save_weights_only=True,verbose=1)"
      ]
    },
    {
      "cell_type": "code",
      "execution_count": null,
      "metadata": {
        "id": "oAaj7qisaY3B",
        "scrolled": false
      },
      "outputs": [],
      "source": [
        "# Build the model\n",
        "model = Sequential()\n",
        "model.add(Flatten())\n",
        "# Add a Dense layer with 512 neurons, with relu as activation function\n",
        "# Add a Dense layer with 256 neurons, with relu as activation function\n",
        "# Add a Dense layer with 128 neurons, with relu as activation function\n",
        "# Add a Dense layer with 64 neurons, with relu as activation function\n",
        "# Add a Dense layer with number of neurons equal to the number of classes, with softmax as activation function\n",
        "\n",
        "\n",
        "# Compile the model you just created using\n",
        "# adam optimizer as optimizer\n",
        "# sparse categorical crossentropy as loss function\n",
        "# accuracy as metric\n",
        "\n",
        "\n",
        "# fit your model and save the returned value as \"history\".\n",
        "# Use both the train and validation set\n",
        "# Set both properly the batch size value and the epochs value\n",
        "# Be careful to also set properly the callbacks parameter list\n",
        "batch_size =128\n",
        "epochs = 10\n",
        "\n",
        "# Call the plot_history function to plot the obtained results\n",
        "\n",
        "# Evaluate\n",
        "_, train_acc = model.evaluate(x_train, y_train, verbose=1)\n",
        "_, test_acc = model.evaluate(x_test, y_test, verbose=1)\n",
        "print('Train: %.3f, Test: %.3f' % (train_acc, test_acc))"
      ]
    },
    {
      "cell_type": "markdown",
      "metadata": {
        "id": "ZIT021CHaY3D"
      },
      "source": [
        "#### Load weights\n",
        "The saved weights can then be loaded and evaluated any time by calling the load_weights() function.\n",
        "In this way I don't have to retrain my net again."
      ]
    },
    {
      "cell_type": "code",
      "execution_count": null,
      "metadata": {
        "id": "0WfKJE7NaY3D",
        "scrolled": false
      },
      "outputs": [],
      "source": [
        "# This may generate warnings related to saving the state of the optimizer.\n",
        "# These warnings (and similar warnings throughout this notebook)\n",
        "# are in place to discourage outdated usage, and can be ignored.\n",
        "# link https://www.tensorflow.org/tutorials/keras/save_and_restore_models\n",
        "\n",
        "checkpoint_path = \"output/cp.ckpt\"\n",
        "\n",
        "model.load_weights(checkpoint_path)\n",
        "\n",
        "_, train_acc = model.evaluate(x_train, y_train, verbose=1)\n",
        "_, test_acc = model.evaluate(x_test, y_test, verbose=1)\n",
        "print('Train: %.3f, Test: %.3f' % (train_acc, test_acc))"
      ]
    }
  ],
  "metadata": {
    "accelerator": "GPU",
    "colab": {
      "provenance": [],
      "toc_visible": true,
      "include_colab_link": true
    },
    "kernelspec": {
      "display_name": "Python 3 (ipykernel)",
      "language": "python",
      "name": "python3"
    },
    "language_info": {
      "codemirror_mode": {
        "name": "ipython",
        "version": 3
      },
      "file_extension": ".py",
      "mimetype": "text/x-python",
      "name": "python",
      "nbconvert_exporter": "python",
      "pygments_lexer": "ipython3",
      "version": "3.9.13"
    }
  },
  "nbformat": 4,
  "nbformat_minor": 0
}