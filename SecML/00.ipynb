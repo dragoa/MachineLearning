{
  "cells": [
    {
      "cell_type": "markdown",
      "metadata": {
        "id": "view-in-github",
        "colab_type": "text"
      },
      "source": [
        "<a href=\"https://colab.research.google.com/github/dragoa/AI/blob/main/SecML/00.ipynb\" target=\"_parent\"><img src=\"https://colab.research.google.com/assets/colab-badge.svg\" alt=\"Open In Colab\"/></a>"
      ]
    },
    {
      "cell_type": "markdown",
      "source": [
        "# Introduction to the SecML library\n",
        "\n",
        "In this tutorial, you will learn the basic components of the [SecML library](https://github.com/pralab/secml).\n",
        "At the end of the exercise, you will be familiar with the core data structure of the library, the [CArray](https://secml.readthedocs.io/en/v0.15/secml.array.html), and how to import pre-trained machine learning models trained with [scikit-learn](https://scikit-learn.org/stable/index.html) and [PyTorch](https://pytorch.org) (with a brief tutorial on it)."
      ],
      "metadata": {
        "collapsed": false,
        "id": "Y-ACmFqQDlaH"
      }
    },
    {
      "cell_type": "markdown",
      "source": [
        "# Install SecML\n",
        "\n",
        "First, we have to install and import the SecML library. We can do that in Colab with the following lines:"
      ],
      "metadata": {
        "collapsed": false,
        "pycharm": {
          "name": "#%% md\n"
        },
        "id": "MEuu03oQDlaK"
      }
    },
    {
      "cell_type": "code",
      "execution_count": 2,
      "outputs": [
        {
          "output_type": "stream",
          "name": "stdout",
          "text": [
            "Collecting git+https://github.com/pralab/secml\n",
            "  Cloning https://github.com/pralab/secml to /tmp/pip-req-build-d3znpgxt\n",
            "  Running command git clone --filter=blob:none --quiet https://github.com/pralab/secml /tmp/pip-req-build-d3znpgxt\n",
            "  Resolved https://github.com/pralab/secml to commit e7463f2114ddf507a32a74c80e401574d7d9e086\n",
            "  Preparing metadata (setup.py) ... \u001b[?25l\u001b[?25hdone\n",
            "Requirement already satisfied: numpy>=1.17 in /usr/local/lib/python3.10/dist-packages (from secml==0.15.6) (1.23.5)\n",
            "Requirement already satisfied: scipy>=1.3.2 in /usr/local/lib/python3.10/dist-packages (from secml==0.15.6) (1.11.3)\n",
            "Requirement already satisfied: matplotlib>=3 in /usr/local/lib/python3.10/dist-packages (from secml==0.15.6) (3.7.1)\n",
            "Requirement already satisfied: scikit-learn>=0.22 in /usr/local/lib/python3.10/dist-packages (from secml==0.15.6) (1.2.2)\n",
            "Requirement already satisfied: joblib>=0.14 in /usr/local/lib/python3.10/dist-packages (from secml==0.15.6) (1.3.2)\n",
            "Requirement already satisfied: Pillow>=6.2.1 in /usr/local/lib/python3.10/dist-packages (from secml==0.15.6) (9.4.0)\n",
            "Requirement already satisfied: requests in /usr/local/lib/python3.10/dist-packages (from secml==0.15.6) (2.31.0)\n",
            "Requirement already satisfied: python-dateutil in /usr/local/lib/python3.10/dist-packages (from secml==0.15.6) (2.8.2)\n",
            "Requirement already satisfied: contourpy>=1.0.1 in /usr/local/lib/python3.10/dist-packages (from matplotlib>=3->secml==0.15.6) (1.1.1)\n",
            "Requirement already satisfied: cycler>=0.10 in /usr/local/lib/python3.10/dist-packages (from matplotlib>=3->secml==0.15.6) (0.12.1)\n",
            "Requirement already satisfied: fonttools>=4.22.0 in /usr/local/lib/python3.10/dist-packages (from matplotlib>=3->secml==0.15.6) (4.43.1)\n",
            "Requirement already satisfied: kiwisolver>=1.0.1 in /usr/local/lib/python3.10/dist-packages (from matplotlib>=3->secml==0.15.6) (1.4.5)\n",
            "Requirement already satisfied: packaging>=20.0 in /usr/local/lib/python3.10/dist-packages (from matplotlib>=3->secml==0.15.6) (23.2)\n",
            "Requirement already satisfied: pyparsing>=2.3.1 in /usr/local/lib/python3.10/dist-packages (from matplotlib>=3->secml==0.15.6) (3.1.1)\n",
            "Requirement already satisfied: six>=1.5 in /usr/local/lib/python3.10/dist-packages (from python-dateutil->secml==0.15.6) (1.16.0)\n",
            "Requirement already satisfied: threadpoolctl>=2.0.0 in /usr/local/lib/python3.10/dist-packages (from scikit-learn>=0.22->secml==0.15.6) (3.2.0)\n",
            "Requirement already satisfied: charset-normalizer<4,>=2 in /usr/local/lib/python3.10/dist-packages (from requests->secml==0.15.6) (3.3.0)\n",
            "Requirement already satisfied: idna<4,>=2.5 in /usr/local/lib/python3.10/dist-packages (from requests->secml==0.15.6) (3.4)\n",
            "Requirement already satisfied: urllib3<3,>=1.21.1 in /usr/local/lib/python3.10/dist-packages (from requests->secml==0.15.6) (2.0.6)\n",
            "Requirement already satisfied: certifi>=2017.4.17 in /usr/local/lib/python3.10/dist-packages (from requests->secml==0.15.6) (2023.7.22)\n",
            "Building wheels for collected packages: secml\n",
            "  Building wheel for secml (setup.py) ... \u001b[?25l\u001b[?25hdone\n",
            "  Created wheel for secml: filename=secml-0.15.6-py3-none-any.whl size=463966 sha256=c2bd08676f98f02bde9611796dfdd8ad7e49441bde357c6f91d7c7699f4a72ce\n",
            "  Stored in directory: /tmp/pip-ephem-wheel-cache-_x0ogf3f/wheels/22/d7/97/6c54183f8e63358a946e938cc5ca912832afe4a0b9d9b3d736\n",
            "Successfully built secml\n",
            "Installing collected packages: secml\n",
            "Successfully installed secml-0.15.6\n"
          ]
        }
      ],
      "source": [
        "try:\n",
        "  import secml\n",
        "except ImportError:\n",
        "  %pip install git+https://github.com/pralab/secml"
      ],
      "metadata": {
        "pycharm": {
          "name": "#%%\n"
        },
        "id": "_e2NrTrPDlaK",
        "colab": {
          "base_uri": "https://localhost:8080/"
        },
        "outputId": "578919c7-e99a-4e37-c2c1-816c3adf6500"
      }
    },
    {
      "cell_type": "markdown",
      "source": [
        "(OPTIONAL) If you want to use SecML **locally**, you can install it in your environment.\n",
        "\n",
        "Before installing SecML, we strongly suggest to create an environment where to download all the dependancies of the library through Anaconda Python. Follow the linked page to install Miniconda (a minimal version of Conda). After the installation, you can create a conda environment from your command line:\n",
        "\n",
        "```\n",
        "conda create -n secml python=3.8\n",
        "```\n",
        "\n",
        "Once the environment has been installed, you can activate it and install SecML:\n",
        "\n",
        "```\n",
        "conda activate secml\n",
        "python -m pip install \"secml[pytorch,foolbox]\"\n",
        "python -m install notebook\n",
        "```\n",
        "\n",
        "Once the procedure is complete, you can verify that SecML is correctly installed inside your environment. Open a Python interpreter and type:\n",
        "\n",
        "```\n",
        "import secml\n",
        "print(secml.__version__)\n",
        "```\n",
        "\n",
        "Restart the notebook inside the conda environment to continue the exercise. Execute the following code to ensure you can access SecML inside the notebook."
      ],
      "metadata": {
        "collapsed": false,
        "pycharm": {
          "name": "#%% md\n"
        },
        "id": "ntMqnMoVDlaL"
      }
    },
    {
      "cell_type": "markdown",
      "source": [
        "# Part 1 - CArray: the basic data structure\n",
        "\n",
        "The CArray is the base class that is used inside SecML to create vectors and matrices.\n",
        "If you are already familiar with NumPy, you will recognize many functions and helpers along the tutorial."
      ],
      "metadata": {
        "collapsed": false,
        "pycharm": {
          "name": "#%% md\n"
        },
        "id": "7WGUuObwDlaL"
      }
    },
    {
      "cell_type": "code",
      "execution_count": 3,
      "outputs": [
        {
          "output_type": "stream",
          "name": "stdout",
          "text": [
            "2023-10-18 14:14:56,190 - secml.settings - INFO - New `SECML_HOME_DIR` created: /root/secml-data\n",
            "2023-10-18 14:14:56,190 - secml.settings - INFO - New `SECML_HOME_DIR` created: /root/secml-data\n"
          ]
        },
        {
          "output_type": "stream",
          "name": "stderr",
          "text": [
            "INFO:secml.settings:New `SECML_HOME_DIR` created: /root/secml-data\n"
          ]
        },
        {
          "output_type": "stream",
          "name": "stdout",
          "text": [
            "2023-10-18 14:14:56,199 - secml.settings - INFO - Default configuration file copied to: /root/secml-data/secml.conf\n",
            "2023-10-18 14:14:56,199 - secml.settings - INFO - Default configuration file copied to: /root/secml-data/secml.conf\n"
          ]
        },
        {
          "output_type": "stream",
          "name": "stderr",
          "text": [
            "INFO:secml.settings:Default configuration file copied to: /root/secml-data/secml.conf\n"
          ]
        },
        {
          "output_type": "stream",
          "name": "stdout",
          "text": [
            "2023-10-18 14:14:56,204 - secml.settings - INFO - New `SECML_DS_DIR` created: /root/secml-data/datasets\n",
            "2023-10-18 14:14:56,204 - secml.settings - INFO - New `SECML_DS_DIR` created: /root/secml-data/datasets\n"
          ]
        },
        {
          "output_type": "stream",
          "name": "stderr",
          "text": [
            "INFO:secml.settings:New `SECML_DS_DIR` created: /root/secml-data/datasets\n"
          ]
        },
        {
          "output_type": "stream",
          "name": "stdout",
          "text": [
            "2023-10-18 14:14:56,208 - secml.settings - INFO - New `SECML_MODELS_DIR` created: /root/secml-data/models\n",
            "2023-10-18 14:14:56,208 - secml.settings - INFO - New `SECML_MODELS_DIR` created: /root/secml-data/models\n"
          ]
        },
        {
          "output_type": "stream",
          "name": "stderr",
          "text": [
            "INFO:secml.settings:New `SECML_MODELS_DIR` created: /root/secml-data/models\n"
          ]
        },
        {
          "output_type": "stream",
          "name": "stdout",
          "text": [
            "2023-10-18 14:14:56,211 - secml.settings - INFO - New `SECML_EXP_DIR` created: /root/secml-data/experiments\n",
            "2023-10-18 14:14:56,211 - secml.settings - INFO - New `SECML_EXP_DIR` created: /root/secml-data/experiments\n"
          ]
        },
        {
          "output_type": "stream",
          "name": "stderr",
          "text": [
            "INFO:secml.settings:New `SECML_EXP_DIR` created: /root/secml-data/experiments\n"
          ]
        },
        {
          "output_type": "stream",
          "name": "stdout",
          "text": [
            "2023-10-18 14:14:56,215 - secml.settings - INFO - New `SECML_LOGS_DIR` created: /root/secml-data/logs\n",
            "2023-10-18 14:14:56,215 - secml.settings - INFO - New `SECML_LOGS_DIR` created: /root/secml-data/logs\n"
          ]
        },
        {
          "output_type": "stream",
          "name": "stderr",
          "text": [
            "INFO:secml.settings:New `SECML_LOGS_DIR` created: /root/secml-data/logs\n"
          ]
        },
        {
          "output_type": "stream",
          "name": "stdout",
          "text": [
            "2023-10-18 14:14:56,218 - secml.settings - INFO - New `SECML_PYTORCH_DIR` created: /root/secml-data/pytorch-data\n",
            "2023-10-18 14:14:56,218 - secml.settings - INFO - New `SECML_PYTORCH_DIR` created: /root/secml-data/pytorch-data\n"
          ]
        },
        {
          "output_type": "stream",
          "name": "stderr",
          "text": [
            "INFO:secml.settings:New `SECML_PYTORCH_DIR` created: /root/secml-data/pytorch-data\n"
          ]
        },
        {
          "output_type": "stream",
          "name": "stdout",
          "text": [
            "CArray([0 1 2 3])\n",
            "Shape of single-row vector:  (4,)\n",
            "CArray([[0 1 2 3]\n",
            " [4 5 6 7]])\n",
            "Shape of 2D vector: (2, 4)\n"
          ]
        }
      ],
      "source": [
        "from secml.array import CArray\n",
        "\n",
        "x = CArray([0,1,2,3])\n",
        "print(x)\n",
        "print('Shape of single-row vector: ', x.shape)\n",
        "x = CArray([[0,1,2,3], [4,5,6,7]])\n",
        "print(x)\n",
        "print('Shape of 2D vector:', x.shape)"
      ],
      "metadata": {
        "pycharm": {
          "name": "#%%\n"
        },
        "id": "sz8wdhGODlaL",
        "outputId": "5b6d29bb-1b8e-425f-a64b-1a483d4e1a25",
        "colab": {
          "base_uri": "https://localhost:8080/"
        }
      }
    },
    {
      "cell_type": "markdown",
      "source": [
        "You can perform basic mathematical operations between CArrays:"
      ],
      "metadata": {
        "collapsed": false,
        "pycharm": {
          "name": "#%% md\n"
        },
        "id": "I5TfsxlKDlaM"
      }
    },
    {
      "cell_type": "code",
      "execution_count": 4,
      "outputs": [
        {
          "output_type": "stream",
          "name": "stdout",
          "text": [
            "CArray([ 6  8 10 12])\n",
            "CArray([-4 -4 -4 -4])\n",
            "CArray([ 5 12 21 32])\n",
            "CArray([0.2      0.333333 0.428571 0.5     ])\n",
            "70\n",
            "CArray([[1]\n",
            " [2]\n",
            " [3]\n",
            " [4]])\n",
            "5.477225575051661\n",
            "10.0\n"
          ]
        }
      ],
      "source": [
        "x1 = CArray([1,2,3,4])\n",
        "x2 = CArray([5,6,7,8])\n",
        "\n",
        "print(x1 + x2)  # element-wise sum\n",
        "print(x1 - x2)  # element-wise subtraction\n",
        "print(x1 * x2)  # element-wise multiplication\n",
        "print(x1 / x2)  # element-wise division\n",
        "print(x1.dot(x2))  # dot product\n",
        "print(x1.T)  # transpose\n",
        "print(x1.norm(order=2))  # compute norm sqrt(1+4+9+16)\n",
        "print(x1.norm(order=1))  # compute norm 1+2+3+4"
      ],
      "metadata": {
        "pycharm": {
          "name": "#%%\n"
        },
        "id": "dYo-AnCXDlaM",
        "outputId": "29be3b06-f709-4fcd-8101-ee2ef9de5df1",
        "colab": {
          "base_uri": "https://localhost:8080/"
        }
      }
    },
    {
      "cell_type": "markdown",
      "source": [
        "You can perform operations between **2D** vectors:"
      ],
      "metadata": {
        "collapsed": false,
        "pycharm": {
          "name": "#%% md\n"
        },
        "id": "ZkEAhMEcDlaM"
      }
    },
    {
      "cell_type": "code",
      "execution_count": 5,
      "outputs": [
        {
          "output_type": "stream",
          "name": "stdout",
          "text": [
            "CArray([[ 6  8 10 12]\n",
            " [ 6  8 10 12]])\n",
            "CArray([[-4 -4 -4 -4]\n",
            " [-4 -4 -4 -4]])\n",
            "CArray([[ 5 12 21 32]\n",
            " [ 5 12 21 32]])\n",
            "CArray([[0.2      0.333333 0.428571 0.5     ]\n",
            " [0.2      0.333333 0.428571 0.5     ]])\n",
            "CArray([[10 12 14 16]\n",
            " [20 24 28 32]\n",
            " [30 36 42 48]\n",
            " [40 48 56 64]])\n",
            "CArray([[1.414214 2.828427 4.242641 5.656854]])\n",
            "CArray([[5.477226]\n",
            " [5.477226]])\n",
            "CArray([1 2 3 4 1 2 3 4]) (8,)\n"
          ]
        }
      ],
      "source": [
        "x1 = CArray([[1,2,3,4],[1,2,3,4]])\n",
        "x2 = CArray([[5,6,7,8], [5,6,7,8]])\n",
        "\n",
        "print(x1 + x2)  # element-wise sum\n",
        "print(x1 - x2)  # element-wise subtraction\n",
        "print(x1 * x2)  # element-wise multiplication\n",
        "print(x1 / x2)  # element-wise division\n",
        "print(x1.T.dot(x2))  # dot product between (4,2) and (2,4) matrices\n",
        "print(x1.norm_2d(order=2, axis=0))  # norm of each column\n",
        "print(x1.norm_2d(order=2, axis=1))  # norm of each row\n",
        "print(x1.flatten(), x1.flatten().shape)  # flatten the matrix to one single row"
      ],
      "metadata": {
        "pycharm": {
          "name": "#%%\n"
        },
        "id": "oTitp07dDlaM",
        "outputId": "829c38b3-f986-48dd-ba1c-05eee05a1b7f",
        "colab": {
          "base_uri": "https://localhost:8080/"
        }
      }
    },
    {
      "cell_type": "markdown",
      "source": [
        "You can import data from numpy, by passing a numpy array to the CArray constructor. **PLEASE REMARK** that the CArray class only supports **2D** data. Passing a high-dimensional data shape will result in a flattened array."
      ],
      "metadata": {
        "collapsed": false,
        "pycharm": {
          "name": "#%% md\n"
        },
        "id": "gosfCFDKDlaM"
      }
    },
    {
      "cell_type": "code",
      "execution_count": 6,
      "outputs": [
        {
          "output_type": "stream",
          "name": "stdout",
          "text": [
            "Numpy array: [0 1 2 3] with type <class 'numpy.ndarray'>\n",
            "CArray of numpy array: CArray([0 1 2 3]) with type <class 'secml.array.c_array.CArray'>\n",
            "Back to  <class 'numpy.ndarray'>\n",
            "NumPy shape: (10, 10, 10)\n",
            "CArray shape: (10, 100)\n"
          ]
        }
      ],
      "source": [
        "import numpy as np\n",
        "\n",
        "x = np.array([0,1,2,3])\n",
        "print('Numpy array:', x, 'with type', type(x))\n",
        "x = CArray(x)\n",
        "print('CArray of numpy array:', x, 'with type', type(x))\n",
        "x = x.tondarray()\n",
        "print('Back to ', type(x))\n",
        "\n",
        "# demonstrate flatten behavior\n",
        "x = np.random.rand(10,10,10)\n",
        "xc = CArray(x)\n",
        "print('NumPy shape:', x.shape)\n",
        "print('CArray shape:', xc.shape)"
      ],
      "metadata": {
        "pycharm": {
          "name": "#%%\n"
        },
        "id": "8U4BiLUaDlaM",
        "outputId": "1405a6d5-091f-4361-cd98-8eb948b64c3b",
        "colab": {
          "base_uri": "https://localhost:8080/"
        }
      }
    },
    {
      "cell_type": "markdown",
      "source": [
        "The CArray class offers helper functions to create data from known distributions, like the [Normal Distribution](https://en.wikipedia.org/wiki/Normal_distribution):"
      ],
      "metadata": {
        "collapsed": false,
        "pycharm": {
          "name": "#%% md\n"
        },
        "id": "PGAG3-hyDlaN"
      }
    },
    {
      "cell_type": "code",
      "execution_count": 7,
      "outputs": [
        {
          "output_type": "stream",
          "name": "stdout",
          "text": [
            "CArray([[-1.475804 -1.081418 -0.604949]\n",
            " [-0.147758 -1.575109 -0.067413]\n",
            " [-1.508493 -0.253531  1.09005 ]])\n",
            "CArray([[0. 0. 0. 0. 0.]\n",
            " [0. 0. 0. 0. 0.]])\n",
            "CArray([[1. 1. 1.]\n",
            " [1. 1. 1.]\n",
            " [1. 1. 1.]])\n",
            "CArray([[1. 0. 0. 0.]\n",
            " [0. 1. 0. 0.]\n",
            " [0. 0. 1. 0.]\n",
            " [0. 0. 0. 1.]])\n"
          ]
        }
      ],
      "source": [
        "x = CArray.randn((3,3))  # normal distribution\n",
        "print(x)\n",
        "x = CArray.zeros((2,5))  # 2D vector with only zeros\n",
        "print(x)\n",
        "x = CArray.ones((3,3))  # 2D vector with only ones\n",
        "print(x)\n",
        "x = CArray.eye(4,4)\n",
        "print(x)"
      ],
      "metadata": {
        "pycharm": {
          "name": "#%%\n"
        },
        "id": "UlWt7VYqDlaN",
        "outputId": "171bd609-8804-4a27-dda7-c77cb45fc9f0",
        "colab": {
          "base_uri": "https://localhost:8080/"
        }
      }
    },
    {
      "cell_type": "markdown",
      "source": [
        "# Exercise 1\n",
        "Use the code above to complete the assignment.\n",
        "* Create two CArray from the normal distribution with shape (5,6)\n",
        "* Compute the dot product of the two newly-created CArray\n",
        "* Flatten the result and compute the Euclidean norm (which order?)\n",
        "* Create an identity of shape (5,5) and a 2D vector of zeros with shape (5,5)\n",
        "* Sum and multiply the two newly-created CArray"
      ],
      "metadata": {
        "collapsed": false,
        "pycharm": {
          "name": "#%% md\n"
        },
        "id": "PAU5KRLCDlaN"
      }
    },
    {
      "cell_type": "code",
      "execution_count": 8,
      "outputs": [
        {
          "output_type": "stream",
          "name": "stdout",
          "text": [
            "(5, 6)\n",
            "(5, 6)\n",
            "CArray([[ 2.128315 -2.594431 -3.47964  -0.451094 -1.13774  -2.278539]\n",
            " [ 0.817507 -1.216798  0.262094 -0.90466  -0.377125  0.594809]\n",
            " [ 0.533251 -0.720048  0.020029 -0.550364 -1.247477 -2.140072]\n",
            " [ 1.075338  2.648737 -2.330117 -2.125488  2.83559  -0.309686]\n",
            " [-1.089791 -5.930774  3.495687  2.275137 -3.982054  2.712778]\n",
            " [ 1.067474  1.638612  1.523122 -2.568952 -1.344321 -4.77361 ]])\n",
            "13.46850621499597\n",
            "CArray([[1. 0. 0. 0. 0.]\n",
            " [0. 1. 0. 0. 0.]\n",
            " [0. 0. 1. 0. 0.]\n",
            " [0. 0. 0. 1. 0.]\n",
            " [0. 0. 0. 0. 1.]])\n",
            "CArray([[1. 0. 0. 0. 0.]\n",
            " [0. 1. 0. 0. 0.]\n",
            " [0. 0. 1. 0. 0.]\n",
            " [0. 0. 0. 1. 0.]\n",
            " [0. 0. 0. 0. 1.]])\n",
            "CArray([[0. 0. 0. 0. 0.]\n",
            " [0. 0. 0. 0. 0.]\n",
            " [0. 0. 0. 0. 0.]\n",
            " [0. 0. 0. 0. 0.]\n",
            " [0. 0. 0. 0. 0.]])\n"
          ]
        }
      ],
      "source": [
        "# TODO write your code here\n",
        "x1 = CArray.randn((5,6))\n",
        "x2 = CArray.randn((5,6))\n",
        "print(x1.shape)\n",
        "print(x2.shape)\n",
        "\n",
        "# dot product\n",
        "x1x2 = CArray.dot(x1.T,x2)\n",
        "print(x1x2)\n",
        "\n",
        "# flatten result and norm\n",
        "norm = CArray.flatten(x1x2).norm(order=2)\n",
        "print(norm)\n",
        "\n",
        "# identity of shape (5,5) and a 2D vector of zeros with shape (5,5)\n",
        "I = CArray.eye(5,5)\n",
        "print(I)\n",
        "x1 = CArray.zeros((5,5))\n",
        "\n",
        "# Sum and multiply the two newly-created CArray\n",
        "print(I + x1)\n",
        "print(I*x1)"
      ],
      "metadata": {
        "pycharm": {
          "name": "#%%\n"
        },
        "id": "c2A4K4lQDlaN",
        "outputId": "9230d8a2-fa56-4a86-9757-f7e7c1ffafc9",
        "colab": {
          "base_uri": "https://localhost:8080/"
        }
      }
    },
    {
      "cell_type": "markdown",
      "source": [
        "# Part 2 - Create datasets\n",
        "\n",
        "We are going to use a simple toy dataset consisting of **3 clusters of points, normally distributed**.\n",
        "\n",
        "Each dataset of SecML is a `CDataset` object, consisting of `dataset.X` and `dataset.Y`, where the samples and the corresponding labels are stored, respectively."
      ],
      "metadata": {
        "collapsed": false,
        "pycharm": {
          "name": "#%% md\n"
        },
        "id": "hpD2wAE0DlaN"
      }
    },
    {
      "cell_type": "code",
      "execution_count": 9,
      "outputs": [],
      "source": [
        "random_state = 999\n",
        "n_features = 2   # number of features\n",
        "n_samples = 1250   # number of samples\n",
        "centers = [[-2, 0], [2, -2], [2, 2]]   # centers of the clusters\n",
        "cluster_std = 0.8   # standard deviation of the clusters\n",
        "\n",
        "# Generate isotropic Gaussian blobs for clustering.\n",
        "from secml.data.loader import CDLRandomBlobs\n",
        "dataset = CDLRandomBlobs(n_features=n_features,\n",
        "                         centers=centers,\n",
        "                         cluster_std=cluster_std,\n",
        "                         n_samples=n_samples,\n",
        "                         random_state=random_state).load()"
      ],
      "metadata": {
        "pycharm": {
          "name": "#%%\n"
        },
        "id": "TDS_yamuDlaN"
      }
    },
    {
      "cell_type": "markdown",
      "source": [
        "The dataset will be split in *training* and *test*, and normalized in the standard interval `[0, 1]` with a *min-max* normalizer."
      ],
      "metadata": {
        "collapsed": false,
        "pycharm": {
          "name": "#%% md\n"
        },
        "id": "9aMQ0QIbDlaN"
      }
    },
    {
      "cell_type": "code",
      "execution_count": 10,
      "outputs": [],
      "source": [
        "n_tr = 1000  # number of training set samples\n",
        "n_ts = 250  # number of test set samples\n",
        "\n",
        "# split in training and test\n",
        "from secml.data.splitter import CTrainTestSplit\n",
        "splitter = CTrainTestSplit(\n",
        "    train_size=n_tr, test_size=n_ts, random_state=random_state)\n",
        "tr, ts = splitter.split(dataset)\n",
        "\n",
        "# normalize the data\n",
        "from secml.ml.features import CNormalizerMinMax\n",
        "nmz = CNormalizerMinMax()\n",
        "tr.X = nmz.fit_transform(tr.X)\n",
        "ts.X = nmz.transform(ts.X)"
      ],
      "metadata": {
        "pycharm": {
          "name": "#%%\n"
        },
        "id": "6ZJkRnEFDlaO"
      }
    },
    {
      "cell_type": "markdown",
      "source": [
        "Let’s visualize the dataset in a 2D plane.\n",
        "The three clusters are clearly separable and normalized as we required."
      ],
      "metadata": {
        "collapsed": false,
        "pycharm": {
          "name": "#%% md\n"
        },
        "id": "oVSON8_vDlaO"
      }
    },
    {
      "cell_type": "code",
      "execution_count": 11,
      "outputs": [
        {
          "output_type": "display_data",
          "data": {
            "text/plain": [
              "<Figure size 500x500 with 1 Axes>"
            ],
            "image/png": "[encoded data removed]"
          },
          "metadata": {}
        }
      ],
      "source": [
        "from secml.figure import CFigure\n",
        "# only required for visualization in notebooks\n",
        "%matplotlib inline\n",
        "\n",
        "fig = CFigure(width=5, height=5)\n",
        "\n",
        "# convenience function for plotting a dataset\n",
        "fig.sp.plot_ds(tr)\n",
        "\n",
        "fig.show()"
      ],
      "metadata": {
        "pycharm": {
          "name": "#%%\n"
        },
        "id": "_5BSMrw4DlaO",
        "outputId": "4eb57abc-e949-492e-ec30-e7c99b0606d0",
        "colab": {
          "base_uri": "https://localhost:8080/",
          "height": 449
        }
      }
    },
    {
      "cell_type": "markdown",
      "source": [
        "# Part 3 - Use classifiers with SecML\n",
        "\n",
        "The SecML library offers wrappers for PyTorch and scikit-learn models.\n",
        "More details on the creation and training of models inside SecML can be found on the [GitHub repository](https://github.com/pralab/secml/tree/master/tutorials). Wrapping a model is easy: the library offers classes that accepts models from the desired framework."
      ],
      "metadata": {
        "collapsed": false,
        "pycharm": {
          "name": "#%% md\n"
        },
        "id": "s9mpmc9BDlaO"
      }
    },
    {
      "cell_type": "code",
      "execution_count": 12,
      "outputs": [],
      "source": [
        "# wrapping a scikit-learn classifier\n",
        "from sklearn.svm import SVC\n",
        "from secml.ml.classifiers import CClassifierSkLearn\n",
        "model = SVC()\n",
        "secml_model = CClassifierSkLearn(model)"
      ],
      "metadata": {
        "pycharm": {
          "name": "#%%\n"
        },
        "id": "Iv7TlckFDlaO"
      }
    },
    {
      "cell_type": "markdown",
      "source": [
        "Models can also be trained with SecML. We are going to use the dataset from before."
      ],
      "metadata": {
        "collapsed": false,
        "pycharm": {
          "name": "#%% md\n"
        },
        "id": "ayRMHWh9DlaO"
      }
    },
    {
      "cell_type": "code",
      "execution_count": 13,
      "outputs": [
        {
          "output_type": "execute_result",
          "data": {
            "text/plain": [
              "CClassifierSkLearn{'sklearn_model': SVC(), 'classes': CArray(3,)(dense: [0 1 2]), 'n_features': 2, 'preprocess': None, 'n_jobs': 1}"
            ]
          },
          "metadata": {},
          "execution_count": 13
        }
      ],
      "source": [
        "secml_model.fit(tr.X,tr.Y)"
      ],
      "metadata": {
        "pycharm": {
          "name": "#%%\n"
        },
        "id": "gEHWSWu5DlaO",
        "colab": {
          "base_uri": "https://localhost:8080/"
        },
        "outputId": "c55a6b2d-9f64-4b0c-8048-36ef45f0f846"
      }
    },
    {
      "cell_type": "markdown",
      "source": [
        "## Visualization of the decision regions of the classifiers\n",
        "\n",
        "Once the classifier is trained, we can visualize the *decision regions* over the entire feature space."
      ],
      "metadata": {
        "collapsed": false,
        "pycharm": {
          "name": "#%% md\n"
        },
        "id": "YOUDH9WdDlaO"
      }
    },
    {
      "cell_type": "code",
      "execution_count": 14,
      "outputs": [
        {
          "output_type": "display_data",
          "data": {
            "text/plain": [
              "<Figure size 500x500 with 1 Axes>"
            ],
            "image/png": "[encoded data removed]"
          },
          "metadata": {}
        }
      ],
      "source": [
        "fig = CFigure(width=5, height=5)\n",
        "\n",
        "# convenience function for plotting the decision function of a classifier\n",
        "fig.sp.plot_decision_regions(secml_model, n_grid_points=200)\n",
        "\n",
        "fig.sp.plot_ds(ts)\n",
        "fig.sp.grid(grid_on=False)\n",
        "\n",
        "fig.sp.title(\"Classification regions\")\n",
        "fig.show()"
      ],
      "metadata": {
        "pycharm": {
          "name": "#%%\n"
        },
        "id": "df1xPB84DlaP",
        "outputId": "addf8431-1879-46a1-dbac-fe294eea3218",
        "colab": {
          "base_uri": "https://localhost:8080/",
          "height": 472
        }
      }
    },
    {
      "cell_type": "markdown",
      "source": [
        "# Exercise 2\n",
        "\n",
        "* Compute the accuracy of the trained model on the test data, using SecML"
      ],
      "metadata": {
        "collapsed": false,
        "pycharm": {
          "name": "#%% md\n"
        },
        "id": "69sGokMzDlaP"
      }
    },
    {
      "cell_type": "code",
      "execution_count": 15,
      "outputs": [
        {
          "output_type": "stream",
          "name": "stdout",
          "text": [
            "Accuracy on the test set 0.988\n"
          ]
        }
      ],
      "source": [
        "# Compute predictions\n",
        "predictions = secml_model.predict(ts.X)\n",
        "\n",
        "from secml.ml.peval.metrics import CMetricAccuracy\n",
        "metric = CMetricAccuracy()\n",
        "accuracy = metric.performance_score(y_true=ts.Y, y_pred=predictions)\n",
        "\n",
        "print(\"Accuracy on the test set\", accuracy)"
      ],
      "metadata": {
        "pycharm": {
          "name": "#%%\n"
        },
        "id": "cYNsa6ltDlaP",
        "colab": {
          "base_uri": "https://localhost:8080/"
        },
        "outputId": "fa396f2a-e097-4b27-df8c-125d70cb79e1"
      }
    },
    {
      "cell_type": "markdown",
      "source": [
        "# Part 3 - PyTorch tutorial in SecML\n",
        "[PyTorch](https://pytorch.org) is a framework for creating deep neural networks, and it is implemented to handle the back-propagation as smooth as possible, by already providing implementations of the most used layers (convolutions, dense, etc.)\n",
        "\n",
        "A PyTorch neural network is defined as a class that defines its architecture and how if performs the forward pass. You can find more examples in the [PyTorch documentation](https://pytorch.org/tutorials/beginner/blitz/cifar10_tutorial.html)."
      ],
      "metadata": {
        "collapsed": false,
        "pycharm": {
          "name": "#%% md\n"
        },
        "id": "84tV-0lyDlaP"
      }
    },
    {
      "cell_type": "code",
      "execution_count": 16,
      "outputs": [],
      "source": [
        "from torch import nn\n",
        "import torch\n",
        "\n",
        "\"\"\"\n",
        "This model is designed for the MNIST dataset, which consists of 28x28 grayscale\n",
        "images of handwritten digits from 0 to 9. The network architecture appears to\n",
        "be a simple convolutional neural network (CNN).\n",
        "\"\"\"\n",
        "class Net(nn.Module):\n",
        "    \"\"\"Model with input size (-1, 28, 28) for MNIST 10-classes dataset.\"\"\"\n",
        "    def __init__(self):\n",
        "        super(Net, self).__init__()\n",
        "        # The first convolutional layer with 1 input channel, 10 output channels, and a 5x5 kernel.\n",
        "        self.conv1 = nn.Conv2d(1, 10, kernel_size=5)\n",
        "        # The second convolutional layer with 10 input channels, 20 output channels, and a 5x5 kernel.\n",
        "        self.conv2 = nn.Conv2d(10, 20, kernel_size=5)\n",
        "        # A 2D dropout layer.\n",
        "        self.conv2_drop = nn.Dropout2d()\n",
        "        # The first fully connected (linear) layer with 320 input features and 50 output features.\n",
        "        self.fc1 = nn.Linear(320, 50)\n",
        "        # The second fully connected (linear) layer with 50 input features and 10 output features.\n",
        "        self.fc2 = nn.Linear(50, 10)\n",
        "\n",
        "    def forward(self, x):\n",
        "        \"\"\"The forward pass of the network, specifying how the input data is processed through the layers.\"\"\"\n",
        "        # conv1 is applied to the input data x, followed by a ReLU activation and max-pooling.\n",
        "        x = torch.relu(torch.max_pool2d(self.conv1(x), 2))\n",
        "        x = torch.relu(torch.max_pool2d(self.conv2_drop(self.conv2(x)), 2))\n",
        "        # The output is flattened (viewed) into a 1D tensor with 320 elements.\n",
        "        x = x.view(-1, 320)\n",
        "        x = torch.relu(self.fc1(x))\n",
        "        # The final output of the network is the result of applying fc2 to the data.\n",
        "        return self.fc2(x)"
      ],
      "metadata": {
        "pycharm": {
          "name": "#%%\n"
        },
        "id": "5u_VFfG4DlaP"
      }
    },
    {
      "cell_type": "markdown",
      "source": [
        "In convolutional neural networks (**CNNs**), using multiple convolutional layers is a common practice because it allows the network to learn increasingly complex and abstract features from the input data. Each convolutional layer captures different levels of detail and features in the image."
      ],
      "metadata": {
        "id": "5tLK9U9-oKxV"
      }
    },
    {
      "cell_type": "markdown",
      "source": [
        "The `Net` class extends the `Module` PyTorch class, and the constructor `__init__` function specifies the architecture. Note that the last layer has 10 outputs, as the number of classes of our dataset. Then, the `forward` function describes how to pass the input through all the defined layers (with activation functions).\n",
        "\n",
        "Now we download the [MNIST dataset](http://yann.lecun.com/exdb/mnist/) to train the classifier."
      ],
      "metadata": {
        "collapsed": false,
        "pycharm": {
          "name": "#%% md\n"
        },
        "id": "IYzHtP8xDlaP"
      }
    },
    {
      "cell_type": "code",
      "execution_count": 17,
      "outputs": [
        {
          "output_type": "stream",
          "name": "stdout",
          "text": [
            "Downloading from `https://gitlab.com/api/v4/projects/secml%2Fsecml-zoo/repository/files/datasets%2FMNIST%2Ftrain-images-idx3-ubyte.gz/raw?ref=master` (9912422 bytes)\n",
            "\n",
            "File stored in `/root/secml-data/datasets/mnist/train-images-idx3-ubyte.gz`\n",
            "Downloading from `https://gitlab.com/api/v4/projects/secml%2Fsecml-zoo/repository/files/datasets%2FMNIST%2Ftrain-labels-idx1-ubyte.gz/raw?ref=master` (28881 bytes)\n",
            "\n",
            "File stored in `/root/secml-data/datasets/mnist/train-labels-idx1-ubyte.gz`\n",
            "Downloading from `https://gitlab.com/api/v4/projects/secml%2Fsecml-zoo/repository/files/datasets%2FMNIST%2Ft10k-images-idx3-ubyte.gz/raw?ref=master` (1648877 bytes)\n",
            "\n",
            "File stored in `/root/secml-data/datasets/mnist/t10k-images-idx3-ubyte.gz`\n",
            "Downloading from `https://gitlab.com/api/v4/projects/secml%2Fsecml-zoo/repository/files/datasets%2FMNIST%2Ft10k-labels-idx1-ubyte.gz/raw?ref=master` (4542 bytes)\n",
            "\n",
            "File stored in `/root/secml-data/datasets/mnist/t10k-labels-idx1-ubyte.gz`\n"
          ]
        }
      ],
      "source": [
        "n_tr = 3000  # number of training samples\n",
        "n_ts = 1000  # number of testing samples\n",
        "\n",
        "from secml.data.loader import CDataLoaderMNIST\n",
        "\n",
        "loader = CDataLoaderMNIST()\n",
        "tr = loader.load('training')\n",
        "ts = loader.load('testing', num_samples=n_ts)\n",
        "\n",
        "# normalize the data\n",
        "tr.X /= 255\n",
        "ts.X /= 255"
      ],
      "metadata": {
        "pycharm": {
          "name": "#%%\n"
        },
        "id": "cg6fNYzZDlaP",
        "colab": {
          "base_uri": "https://localhost:8080/"
        },
        "outputId": "338dbe89-d3fb-4b64-bf29-3b16b92cb76f"
      }
    },
    {
      "cell_type": "markdown",
      "source": [
        "With data and the architecture, we can start the training phase.\n",
        "We will use [Stochastic Gradient Descent](https://en.wikipedia.org/wiki/Stochastic_gradient_descent) to fine-tune the weights of all the layers of the neural network. Lastly, we need a function that quantifies how much the network is performing well while training, that will be used by the optimizer as a guide.\n",
        "We define a *loss function*, in this case the [Cross-entropy loss](https://en.wikipedia.org/wiki/Cross_entropy) that quantify the error committed by the neural network.\n",
        "The larger the loss, the worse the network is behaving. The SGD optimizer will update the model weights to reduce the value of this loss function, and hence creating a network that has a high classification performance."
      ],
      "metadata": {
        "collapsed": false,
        "pycharm": {
          "name": "#%% md\n"
        },
        "id": "z6W3jg2hDlaP"
      }
    },
    {
      "cell_type": "code",
      "execution_count": 18,
      "outputs": [],
      "source": [
        "import torch.optim as optim\n",
        "\n",
        "net = Net()\n",
        "optimizer = optim.SGD(net.parameters(), lr=0.001, momentum=0.9)\n",
        "loss_function = nn.CrossEntropyLoss()"
      ],
      "metadata": {
        "pycharm": {
          "name": "#%%\n"
        },
        "id": "2UP6zZFsDlaQ"
      }
    },
    {
      "cell_type": "markdown",
      "source": [
        "We can now pass all the ingredients to the SecML wrapper for PyTorch models and train our network."
      ],
      "metadata": {
        "collapsed": false,
        "pycharm": {
          "name": "#%% md\n"
        },
        "id": "4Awzh4B5DlaQ"
      }
    },
    {
      "cell_type": "code",
      "execution_count": 19,
      "outputs": [
        {
          "output_type": "execute_result",
          "data": {
            "text/plain": [
              "Net(\n",
              "  (conv1): Conv2d(1, 10, kernel_size=(5, 5), stride=(1, 1))\n",
              "  (conv2): Conv2d(10, 20, kernel_size=(5, 5), stride=(1, 1))\n",
              "  (conv2_drop): Dropout2d(p=0.5, inplace=False)\n",
              "  (fc1): Linear(in_features=320, out_features=50, bias=True)\n",
              "  (fc2): Linear(in_features=50, out_features=10, bias=True)\n",
              ")"
            ]
          },
          "metadata": {},
          "execution_count": 19
        }
      ],
      "source": [
        "from secml.ml.classifiers import CClassifierPyTorch\n",
        "clf = CClassifierPyTorch(model=net,\n",
        "                         loss=loss_function,\n",
        "                         optimizer=optimizer,\n",
        "                         epochs=3,\n",
        "                         batch_size=20,\n",
        "                         input_shape=(1, 28, 28),\n",
        "                         random_state=0)\n",
        "\n",
        "clf.fit(tr.X, tr.Y)"
      ],
      "metadata": {
        "pycharm": {
          "name": "#%%\n"
        },
        "id": "M46cTY9zDlaQ",
        "colab": {
          "base_uri": "https://localhost:8080/"
        },
        "outputId": "2ba701e6-c52e-4e95-eee2-05715b052e52"
      }
    },
    {
      "cell_type": "markdown",
      "source": [
        "We can now test the trained network on few samples."
      ],
      "metadata": {
        "collapsed": false,
        "pycharm": {
          "name": "#%% md\n"
        },
        "id": "qZ-872XiDlaQ"
      }
    },
    {
      "cell_type": "code",
      "execution_count": 20,
      "outputs": [
        {
          "output_type": "stream",
          "name": "stdout",
          "text": [
            "Model Accuracy: 0.975\n"
          ]
        }
      ],
      "source": [
        "label_torch = clf.predict(ts.X, return_decision_function=False)\n",
        "\n",
        "from secml.ml.peval.metrics import CMetric\n",
        "metric = CMetric.create('accuracy')\n",
        "acc_torch = metric.performance_score(ts.Y, label_torch)\n",
        "\n",
        "print(\"Model Accuracy: {}\".format(acc_torch))"
      ],
      "metadata": {
        "pycharm": {
          "name": "#%%\n"
        },
        "id": "s0n-gGCuDlaQ",
        "colab": {
          "base_uri": "https://localhost:8080/"
        },
        "outputId": "5f84ca00-8361-4888-81fc-a54846313720"
      }
    },
    {
      "cell_type": "markdown",
      "source": [
        "We can now visualize some samples along with their predictions."
      ],
      "metadata": {
        "collapsed": false,
        "pycharm": {
          "name": "#%% md\n"
        },
        "id": "Rj423L-tDlaQ"
      }
    },
    {
      "cell_type": "code",
      "execution_count": 21,
      "outputs": [
        {
          "output_type": "display_data",
          "data": {
            "text/plain": [
              "<Figure size 1000x300 with 5 Axes>"
            ],
            "image/png": "[encoded data removed]"
          },
          "metadata": {}
        }
      ],
      "source": [
        "from secml.figure import CFigure\n",
        "# only required for visualization in notebooks\n",
        "%matplotlib inline\n",
        "\n",
        "# let's define a convenience function to easily plot the MNIST dataset\n",
        "def show_digits(samples, preds, labels, digs, n_display=8):\n",
        "    samples = samples.atleast_2d()\n",
        "    n_display = min(n_display, samples.shape[0])\n",
        "    fig = CFigure(width=n_display*2, height=3)\n",
        "    for idx in range(n_display):\n",
        "        fig.subplot(2, n_display, idx+1)\n",
        "        fig.sp.xticks([])\n",
        "        fig.sp.yticks([])\n",
        "        fig.sp.imshow(samples[idx, :].reshape((28, 28)), cmap='gray')\n",
        "        fig.sp.title(\"{} ({})\".format(digs[labels[idx].item()], digs[preds[idx].item()]),\n",
        "                     color=(\"green\" if labels[idx].item()==preds[idx].item() else \"red\"))\n",
        "    fig.show()\n",
        "\n",
        "digits = list(range(10))\n",
        "show_digits(ts.X[:5, :], clf.predict(ts.X[:5, :]), ts.Y[:5], digits)"
      ],
      "metadata": {
        "pycharm": {
          "name": "#%%\n"
        },
        "id": "v_V4IPInDlaR",
        "colab": {
          "base_uri": "https://localhost:8080/",
          "height": 164
        },
        "outputId": "1c1337cb-0290-49d6-9daa-a548f1322415"
      }
    },
    {
      "cell_type": "markdown",
      "source": [
        "# Exercise 3\n",
        "Use the code of this tutorial as an example to complete the assignment.\n",
        "* Create a sklearn KNN classifier and wrap it with SecML\n",
        "* Create a SecML wrapper for the newly created classifier\n",
        "* Fit the classifier on the MNIST dataset using SecML\n",
        "* Compute the accuracy on the test set\n"
      ],
      "metadata": {
        "collapsed": false,
        "pycharm": {
          "name": "#%% md\n"
        },
        "id": "MsaZUO4ADlaR"
      }
    },
    {
      "cell_type": "code",
      "source": [
        "n_tr = 3000  # number of training samples\n",
        "n_ts = 1000  # number of testing samples\n",
        "\n",
        "from secml.data.loader import CDataLoaderMNIST\n",
        "\n",
        "loader = CDataLoaderMNIST()\n",
        "tr1 = loader.load('training')\n",
        "ts1 = loader.load('testing', num_samples=n_ts)\n",
        "\n",
        "# normalize the data\n",
        "tr1.X /= 255\n",
        "ts1.X /= 255"
      ],
      "metadata": {
        "id": "rV0TNV9gSDvt"
      },
      "execution_count": 29,
      "outputs": []
    },
    {
      "cell_type": "code",
      "execution_count": 30,
      "outputs": [
        {
          "output_type": "execute_result",
          "data": {
            "text/plain": [
              "CClassifierSkLearn{'sklearn_model': KNeighborsClassifier(n_jobs=1), 'classes': CArray(10,)(dense: [0 1 2 3 4 5 6 7 8 9]), 'n_features': 784, 'preprocess': None}"
            ]
          },
          "metadata": {},
          "execution_count": 30
        }
      ],
      "source": [
        "from sklearn.neighbors import KNeighborsClassifier\n",
        "from secml.ml.classifiers import CClassifierSkLearn\n",
        "\n",
        "sklearn_clf = KNeighborsClassifier()\n",
        "secml_clf = CClassifierSkLearn(sklearn_clf)\n",
        "\n",
        "# code for training and testing the classifier\n",
        "secml_clf.fit(tr1.X, tr1.Y)"
      ],
      "metadata": {
        "pycharm": {
          "name": "#%%\n"
        },
        "id": "ugtq2asoDlaR",
        "colab": {
          "base_uri": "https://localhost:8080/"
        },
        "outputId": "c03a1426-b95c-4edd-a223-829b970742c9"
      }
    },
    {
      "cell_type": "code",
      "source": [
        "label2 = secml_clf.predict(ts.X)\n",
        "\n",
        "from secml.ml.peval.metrics import CMetric\n",
        "metric = CMetric.create('accuracy')\n",
        "acc_torch = metric.performance_scoremance_score(ts1.Y, label2)\n",
        "\n",
        "print(\"Model Accuracy: {}\".format(acc_torch))"
      ],
      "metadata": {
        "colab": {
          "base_uri": "https://localhost:8080/"
        },
        "id": "Sof3BQsEotem",
        "outputId": "e5a4296c-bf61-409f-9d27-2f3598c0e1d3"
      },
      "execution_count": 35,
      "outputs": [
        {
          "output_type": "stream",
          "name": "stdout",
          "text": [
            "Model Accuracy: 0.26\n"
          ]
        }
      ]
    },
    {
      "cell_type": "code",
      "source": [
        "from secml.figure import CFigure\n",
        "# only required for visualization in notebooks\n",
        "%matplotlib inline\n",
        "\n",
        "# let's define a convenience function to easily plot the MNIST dataset\n",
        "def show_digits(samples, preds, labels, digs, n_display=8):\n",
        "    samples = samples.atleast_2d()\n",
        "    n_display = min(n_display, samples.shape[0])\n",
        "    fig = CFigure(width=n_display*2, height=3)\n",
        "    for idx in range(n_display):\n",
        "        fig.subplot(2, n_display, idx+1)\n",
        "        fig.sp.xticks([])\n",
        "        fig.sp.yticks([])\n",
        "        fig.sp.imshow(samples[idx, :].reshape((28, 28)), cmap='gray')\n",
        "        fig.sp.title(\"{} ({})\".format(digs[labels[idx].item()], digs[preds[idx].item()]),\n",
        "                     color=(\"green\" if labels[idx].item()==preds[idx].item() else \"red\"))\n",
        "    fig.show()\n",
        "\n",
        "digits = list(range(10))\n",
        "show_digits(ts1.X[:5, :], secml_clf.predict(ts1.X[:5, :]), ts1.Y[:5], digits)"
      ],
      "metadata": {
        "id": "dkhj-18erD87",
        "colab": {
          "base_uri": "https://localhost:8080/",
          "height": 164
        },
        "outputId": "7bd19fa6-20d4-4e6f-d248-fc0432ec55b1"
      },
      "execution_count": 32,
      "outputs": [
        {
          "output_type": "display_data",
          "data": {
            "text/plain": [
              "<Figure size 1000x300 with 5 Axes>"
            ],
            "image/png": "[encoded data removed]"
          },
          "metadata": {}
        }
      ]
    }
  ],
  "metadata": {
    "kernelspec": {
      "display_name": "Python 3",
      "language": "python",
      "name": "python3"
    },
    "language_info": {
      "codemirror_mode": {
        "name": "ipython",
        "version": 2
      },
      "file_extension": ".py",
      "mimetype": "text/x-python",
      "name": "python",
      "nbconvert_exporter": "python",
      "pygments_lexer": "ipython2",
      "version": "2.7.6"
    },
    "colab": {
      "provenance": [],
      "include_colab_link": true
    }
  },
  "nbformat": 4,
  "nbformat_minor": 0
}