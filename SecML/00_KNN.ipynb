{
  "nbformat": 4,
  "nbformat_minor": 0,
  "metadata": {
    "colab": {
      "provenance": [],
      "authorship_tag": "ABX9TyPlPO+C7bToN67Jn5H0RVWL",
      "include_colab_link": true
    },
    "kernelspec": {
      "name": "python3",
      "display_name": "Python 3"
    },
    "language_info": {
      "name": "python"
    }
  },
  "cells": [
    {
      "cell_type": "markdown",
      "metadata": {
        "id": "view-in-github",
        "colab_type": "text"
      },
      "source": [
        "<a href=\"https://colab.research.google.com/github/dragoa/AI/blob/main/SecML/00_KNN.ipynb\" target=\"_parent\"><img src=\"https://colab.research.google.com/assets/colab-badge.svg\" alt=\"Open In Colab\"/></a>"
      ]
    },
    {
      "cell_type": "markdown",
      "source": [
        "# KNN classification\n",
        "Let's try to implement a KNN classification algorithm for recognising digits from the MNIST dataset."
      ],
      "metadata": {
        "id": "GJM1fGGPXdL2"
      }
    },
    {
      "cell_type": "code",
      "execution_count": null,
      "metadata": {
        "id": "b5w3JMPSXWio"
      },
      "outputs": [],
      "source": [
        "from sklearn.neighbors import KNeighborsClassifier\n",
        "from sklearn.metrics import classification_report\n",
        "from sklearn import datasets\n",
        "from sklearn.model_selection import train_test_split\n",
        "\n",
        "import numpy as np\n",
        "import cv2\n",
        "import imutils"
      ]
    },
    {
      "cell_type": "code",
      "source": [
        "# Load the MNIST dataset\n",
        "mnist = datasets.load_digits()"
      ],
      "metadata": {
        "id": "_0Qaoka-ZZmH"
      },
      "execution_count": null,
      "outputs": []
    },
    {
      "cell_type": "code",
      "source": [
        "# Split the dataset into 3 parts: learning, validation, testing\n",
        "Xlv, Xt, ylv, yt = train_test_split(mnist.data, mnist.target, test_size=.1, random_state=42)\n",
        "\n",
        "# show the sizes of each data split\n",
        "print(\"training data points: {}\".format(len(Xlv)))\n",
        "print(\"testing data points: {}\".format(len(Xt)))"
      ],
      "metadata": {
        "colab": {
          "base_uri": "https://localhost:8080/"
        },
        "id": "bV9w8OLIZdiZ",
        "outputId": "18cdc7fd-ab63-47f7-b1a6-73a1d1ff99a6"
      },
      "execution_count": null,
      "outputs": [
        {
          "output_type": "stream",
          "name": "stdout",
          "text": [
            "training data points: 1617\n",
            "testing data points: 180\n"
          ]
        }
      ]
    },
    {
      "cell_type": "code",
      "source": [
        "from sklearn.model_selection import GridSearchCV\n",
        "\"\"\"\n",
        "We want to find which is the best value for k between 0 and 30 and step=2\n",
        "\"\"\"\n",
        "ytt = np.asarray([]) # All the true values\n",
        "ypp = np.asarray([]) # All the predictions\n",
        "\n",
        "for k in range(0,30,2):\n",
        "  # grid of values that we are searching\n",
        "  grid = {'n_neighbors': range(1,30,2)}\n",
        "\n",
        "  # what we want to minimize\n",
        "  MS = GridSearchCV(estimator = KNeighborsClassifier(),\n",
        "                    param_grid = grid,\n",
        "                    scoring = 'neg_mean_absolute_error',\n",
        "                    cv = 10,\n",
        "                    error_score='raise')\n",
        "\n",
        "  # I apply the model selection on my data\n",
        "  H = MS.fit(Xlv,ylv)\n",
        "  # I put the best hyperparameters that I found\n",
        "  M = KNeighborsClassifier(n_neighbors=H.best_params_['n_neighbors'])\n",
        "  # I retrain my model\n",
        "  M.fit(Xlv,ylv)\n",
        "  # Final prediction\n",
        "  yp = M.predict(Xt)\n",
        "\n",
        "  ytt = np.concatenate((ytt,yt),axis=0)\n",
        "  ypp = np.concatenate((ypp,yp),axis=0)\n",
        "  print(ytt.shape)"
      ],
      "metadata": {
        "colab": {
          "base_uri": "https://localhost:8080/"
        },
        "id": "7AwhpFFTadgJ",
        "outputId": "51aa59a2-3131-45e6-b731-c6928025fbbb"
      },
      "execution_count": null,
      "outputs": [
        {
          "output_type": "stream",
          "name": "stdout",
          "text": [
            "(180,)\n",
            "(360,)\n",
            "(540,)\n",
            "(720,)\n",
            "(900,)\n",
            "(1080,)\n",
            "(1260,)\n",
            "(1440,)\n",
            "(1620,)\n",
            "(1800,)\n",
            "(1980,)\n",
            "(2160,)\n",
            "(2340,)\n",
            "(2520,)\n",
            "(2700,)\n"
          ]
        }
      ]
    },
    {
      "cell_type": "code",
      "source": [
        "np.mean(np.abs(ytt-ypp))"
      ],
      "metadata": {
        "colab": {
          "base_uri": "https://localhost:8080/"
        },
        "id": "j5hCfsCsbhhG",
        "outputId": "1330ff2a-d6ee-47f6-be4b-6601b98b8203"
      },
      "execution_count": null,
      "outputs": [
        {
          "output_type": "execute_result",
          "data": {
            "text/plain": [
              "0.07222222222222222"
            ]
          },
          "metadata": {},
          "execution_count": 36
        }
      ]
    },
    {
      "cell_type": "code",
      "source": [
        "predictions = M.predict(Xt)\n",
        "\n",
        "# show a final classification report demonstrating the accuracy of the classifier\n",
        "# for each of the digits\n",
        "print(\"EVALUATION ON TESTING DATA\")\n",
        "print(classification_report(yt, predictions))"
      ],
      "metadata": {
        "colab": {
          "base_uri": "https://localhost:8080/"
        },
        "id": "JnWwXTeyduX2",
        "outputId": "e368f38c-5179-49fa-fa23-c4ab3a793228"
      },
      "execution_count": null,
      "outputs": [
        {
          "output_type": "stream",
          "name": "stdout",
          "text": [
            "EVALUATION ON TESTING DATA\n",
            "              precision    recall  f1-score   support\n",
            "\n",
            "           0       1.00      1.00      1.00        17\n",
            "           1       1.00      1.00      1.00        11\n",
            "           2       1.00      1.00      1.00        17\n",
            "           3       0.94      1.00      0.97        17\n",
            "           4       0.96      1.00      0.98        25\n",
            "           5       1.00      1.00      1.00        22\n",
            "           6       1.00      1.00      1.00        19\n",
            "           7       1.00      0.95      0.97        19\n",
            "           8       1.00      1.00      1.00         8\n",
            "           9       0.96      0.92      0.94        25\n",
            "\n",
            "    accuracy                           0.98       180\n",
            "   macro avg       0.99      0.99      0.99       180\n",
            "weighted avg       0.98      0.98      0.98       180\n",
            "\n"
          ]
        }
      ]
    },
    {
      "cell_type": "code",
      "source": [
        "import matplotlib.pyplot as plt\n",
        "\n",
        "n_display = 6\n",
        "\n",
        "plt.figure(figsize=(n_display * 2, 3))\n",
        "for idx in range(n_display):\n",
        "    plt.subplot(2, n_display, idx + 1)\n",
        "    plt.xticks([])\n",
        "    plt.yticks([])\n",
        "    img = Xt[idx].reshape((8, 8))  # Reshape the image to 28x28\n",
        "    plt.imshow(img, cmap='gray')\n",
        "    title = f\"True: {yt[idx]}\\nPred: {M.predict(Xt)[idx]}\"\n",
        "    color = \"green\" if yt[idx] == M.predict(Xt)[idx] else \"red\"\n",
        "    plt.title(title, color=color)\n",
        "\n",
        "plt.show()"
      ],
      "metadata": {
        "colab": {
          "base_uri": "https://localhost:8080/",
          "height": 185
        },
        "id": "zwVT_aVwfwOt",
        "outputId": "32362887-54b8-48f8-879b-722a49bff0c0"
      },
      "execution_count": 46,
      "outputs": [
        {
          "output_type": "display_data",
          "data": {
            "text/plain": [
              "<Figure size 1200x300 with 6 Axes>"
            ],
            "image/png": "[encoded data removed]"
          },
          "metadata": {}
        }
      ]
    },
    {
      "cell_type": "code",
      "source": [],
      "metadata": {
        "id": "3SCji5rnhfcT"
      },
      "execution_count": null,
      "outputs": []
    }
  ]
}