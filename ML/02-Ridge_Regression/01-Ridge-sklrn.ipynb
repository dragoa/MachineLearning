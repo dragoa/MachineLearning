{
  "nbformat": 4,
  "nbformat_minor": 0,
  "metadata": {
    "colab": {
      "provenance": [],
      "authorship_tag": "ABX9TyMonaEtJZU3+6ym+SksVM5T",
      "include_colab_link": true
    },
    "kernelspec": {
      "name": "python3",
      "display_name": "Python 3"
    },
    "language_info": {
      "name": "python"
    }
  },
  "cells": [
    {
      "cell_type": "markdown",
      "metadata": {
        "id": "view-in-github",
        "colab_type": "text"
      },
      "source": [
        "<a href=\"https://colab.research.google.com/github/dragoa/MachineLearning/blob/main/ML/02-Ridge_Regression/01-Ridge-sklrn.ipynb\" target=\"_parent\"><img src=\"https://colab.research.google.com/assets/colab-badge.svg\" alt=\"Open In Colab\"/></a>"
      ]
    },
    {
      "cell_type": "code",
      "execution_count": null,
      "metadata": {
        "id": "vm7Uls23gpDX"
      },
      "outputs": [],
      "source": [
        "import numpy as np\n",
        "import numpy.matlib as nml\n",
        "import matplotlib.pyplot as plt"
      ]
    },
    {
      "cell_type": "code",
      "source": [
        "np.random.seed(11)"
      ],
      "metadata": {
        "id": "HTyQMYcwgw_K"
      },
      "execution_count": null,
      "outputs": []
    },
    {
      "cell_type": "code",
      "source": [
        "def oracle(x):\n",
        "  #return x\n",
        "  #return x**2\n",
        "  return np.sinc(3*x)"
      ],
      "metadata": {
        "id": "NH5woPJfgxWv"
      },
      "execution_count": null,
      "outputs": []
    },
    {
      "cell_type": "code",
      "source": [
        "n = 100 # number of samples\n",
        "d = 1 # number of dimensions\n",
        "sigma = .01 # measurament noise"
      ],
      "metadata": {
        "id": "04vCktNrgxjT"
      },
      "execution_count": null,
      "outputs": []
    },
    {
      "cell_type": "code",
      "source": [
        "# Our Data\n",
        "x = np.random.rand(n)\n",
        "y = oracle(x) + sigma*np.random.randn(n) # gaussian noise added to the labels\n",
        "print(x.shape)\n",
        "print(y.shape)"
      ],
      "metadata": {
        "colab": {
          "base_uri": "https://localhost:8080/"
        },
        "id": "otQ3bOCWgxvK",
        "outputId": "37280de5-d069-44e7-eb35-7b70499986b2"
      },
      "execution_count": null,
      "outputs": [
        {
          "output_type": "stream",
          "name": "stdout",
          "text": [
            "(100,)\n",
            "(100,)\n"
          ]
        }
      ]
    },
    {
      "cell_type": "code",
      "source": [
        "lam = 1"
      ],
      "metadata": {
        "id": "1S3ppRCliCcz"
      },
      "execution_count": null,
      "outputs": []
    },
    {
      "cell_type": "markdown",
      "source": [
        "Instead of creating everytime the model, I can just use one that is already implemented in the sklearn library. I use the **Ridge** model"
      ],
      "metadata": {
        "id": "gN7rXHjJhwk9"
      }
    },
    {
      "cell_type": "code",
      "source": [
        "from sklearn.linear_model import Ridge\n",
        "\n",
        "# defining the model\n",
        "M = Ridge(alpha = lam, fit_intercept = False, solver = 'cholesky')\n",
        "# data in matricial form\n",
        "X = np.asarray(np.asmatrix(x).transpose())\n",
        "M.fit(X,y)\n",
        "\n",
        "ns = 1000\n",
        "xs = np.linspace(0,1,ns)\n",
        "Xs = np.asarray(np.asmatrix(xs).transpose())\n",
        "# predictions\n",
        "ys = M.predict(Xs)"
      ],
      "metadata": {
        "id": "J7WKYC0Vg5kS"
      },
      "execution_count": null,
      "outputs": []
    },
    {
      "cell_type": "code",
      "source": [
        "fig, ax = plt.subplots()\n",
        "ax.plot(X,y,'bo')\n",
        "ax.plot(Xs,ys,'r')"
      ],
      "metadata": {
        "colab": {
          "base_uri": "https://localhost:8080/",
          "height": 447
        },
        "id": "u9qF3jutiYsk",
        "outputId": "b0ed6d32-df5a-4047-9347-ab672ee210e2"
      },
      "execution_count": null,
      "outputs": [
        {
          "output_type": "execute_result",
          "data": {
            "text/plain": [
              "[<matplotlib.lines.Line2D at 0x7d0523a04400>]"
            ]
          },
          "metadata": {},
          "execution_count": 8
        },
        {
          "output_type": "display_data",
          "data": {
            "text/plain": [
              "<Figure size 640x480 with 1 Axes>"
            ],
            "image/png": "[encoded data removed]"
          },
          "metadata": {}
        }
      ]
    },
    {
      "cell_type": "code",
      "source": [
        "X = np.asmatrix(x).transpose()\n",
        "yy = np.asmatrix(y).transpose()\n",
        "w = np.linalg.solve(\n",
        "    np.matmul(np.transpose(X),X)+lam*np.eye(d),\n",
        "    np.matmul(np.transpose(X),yy))\n",
        "\n",
        "# difference between w and the params in the model\n",
        "np.sum(np.abs(w-M.coef_))"
      ],
      "metadata": {
        "colab": {
          "base_uri": "https://localhost:8080/"
        },
        "id": "MMFSOB3RiiIe",
        "outputId": "893a3f0a-aedc-44db-c99d-f9923a0b6278"
      },
      "execution_count": null,
      "outputs": [
        {
          "output_type": "execute_result",
          "data": {
            "text/plain": [
              "1.3877787807814457e-17"
            ]
          },
          "metadata": {},
          "execution_count": 10
        }
      ]
    },
    {
      "cell_type": "markdown",
      "source": [
        "Now If I consider the kernels for creating a non linear model:\n",
        "I use a **Kernel Ridge** model"
      ],
      "metadata": {
        "id": "uKbSafPijHz3"
      }
    },
    {
      "cell_type": "code",
      "source": [
        "lam = .1\n",
        "gam = 10"
      ],
      "metadata": {
        "id": "vgLkGlzhi5X8"
      },
      "execution_count": null,
      "outputs": []
    },
    {
      "cell_type": "code",
      "source": [
        "from sklearn.kernel_ridge import KernelRidge\n",
        "M = KernelRidge(alpha = lam, kernel = 'rbf', gamma = gam)\n",
        "X = np.asarray(np.asmatrix(x).transpose())\n",
        "M.fit(X,y)\n",
        "ns = 1000\n",
        "xs = np.linspace(0,1,ns)\n",
        "Xs = np.asarray(np.asmatrix(xs).transpose())\n",
        "ys = M.predict(Xs)"
      ],
      "metadata": {
        "id": "fqiSFAZ5jOIy"
      },
      "execution_count": null,
      "outputs": []
    },
    {
      "cell_type": "code",
      "source": [
        "fig, ax = plt.subplots()\n",
        "ax.plot(X,y,'bo')\n",
        "ax.plot(Xs,ys,'r')"
      ],
      "metadata": {
        "colab": {
          "base_uri": "https://localhost:8080/",
          "height": 447
        },
        "id": "lravo8fDjSaO",
        "outputId": "f6508283-20bd-4c8b-c7ea-097c0f5a1454"
      },
      "execution_count": null,
      "outputs": [
        {
          "output_type": "execute_result",
          "data": {
            "text/plain": [
              "[<matplotlib.lines.Line2D at 0x7d05219996f0>]"
            ]
          },
          "metadata": {},
          "execution_count": 13
        },
        {
          "output_type": "display_data",
          "data": {
            "text/plain": [
              "<Figure size 640x480 with 1 Axes>"
            ],
            "image/png": "[encoded data removed]"
          },
          "metadata": {}
        }
      ]
    }
  ]
}