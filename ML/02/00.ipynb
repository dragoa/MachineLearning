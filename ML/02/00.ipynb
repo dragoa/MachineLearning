{
  "cells": [
    {
      "cell_type": "markdown",
      "metadata": {
        "colab_type": "text",
        "id": "view-in-github"
      },
      "source": [
        "<a href=\"https://colab.research.google.com/github/dragoa/AI/blob/main/ML/02/00.ipynb\" target=\"_parent\"><img src=\"https://colab.research.google.com/assets/colab-badge.svg\" alt=\"Open In Colab\"/></a>"
      ]
    },
    {
      "cell_type": "code",
      "execution_count": null,
      "metadata": {
        "id": "1EdW4wbUW5tp"
      },
      "outputs": [],
      "source": [
        "import numpy as np\n",
        "import numpy.matlib as nml\n",
        "import matplotlib.pyplot as plt"
      ]
    },
    {
      "cell_type": "code",
      "execution_count": null,
      "metadata": {
        "id": "EzC4btNPW8hN"
      },
      "outputs": [],
      "source": [
        "np.random.seed(11)"
      ]
    },
    {
      "cell_type": "code",
      "execution_count": null,
      "metadata": {
        "id": "MAHz5hRXW9pL"
      },
      "outputs": [],
      "source": [
        "# Oracle for generating our dataset\n",
        "def oracle(x):\n",
        "  #return x\n",
        "  return x**2\n",
        "  #return np.sinc(3*x)"
      ]
    },
    {
      "cell_type": "code",
      "execution_count": null,
      "metadata": {
        "id": "I8vBZrXhW_JA"
      },
      "outputs": [],
      "source": [
        "n = 100 # number of samples\n",
        "d = 1 # number of dimensions\n",
        "sigma = .01 # power of the noise"
      ]
    },
    {
      "cell_type": "code",
      "execution_count": null,
      "metadata": {
        "id": "qvnY4IG7XCyA"
      },
      "outputs": [],
      "source": [
        "x = np.random.rand(n) # generating random values\n",
        "X = np.asarray(np.asmatrix(x).transpose()) # data in matricial form\n",
        "y = oracle(x) + sigma*np.random.randn(n) # labels"
      ]
    },
    {
      "cell_type": "code",
      "execution_count": null,
      "metadata": {
        "id": "VHjOckQhXEcj"
      },
      "outputs": [],
      "source": [
        "# generating data for our plot\n",
        "ns = 1000\n",
        "xs = np.linspace(0,1,ns)\n",
        "Xs = np.asarray(np.asmatrix(xs).transpose())"
      ]
    },
    {
      "cell_type": "code",
      "execution_count": null,
      "metadata": {
        "id": "9i6ad9EgXF5A"
      },
      "outputs": [],
      "source": [
        "lam = .01 # hyperparameter for evaluating complexity (regularization)\n",
        "gam = 10 # hyperparameter of the kernel for evaluating non linearity"
      ]
    },
    {
      "cell_type": "code",
      "execution_count": null,
      "metadata": {
        "id": "pN34ES4nXHlD"
      },
      "outputs": [],
      "source": [
        "from sklearn.kernel_ridge import KernelRidge\n",
        "\n",
        "M = KernelRidge(alpha=lam, kernel='rbf', gamma=gam) # using gaussian kernel\n",
        "M.fit(X,y) # training\n",
        "ys = M.predict(Xs) # prediction"
      ]
    },
    {
      "cell_type": "code",
      "execution_count": null,
      "metadata": {
        "colab": {
          "base_uri": "https://localhost:8080/",
          "height": 450
        },
        "id": "u26GvBVqXJAF",
        "outputId": "81e245c9-91e4-4017-cb6c-19c743cc48d8"
      },
      "outputs": [],
      "source": [
        "fig, ax = plt.subplots()\n",
        "ax.plot(X,y,'bo')\n",
        "ax.plot(Xs,ys,'r')"
      ]
    },
    {
      "cell_type": "code",
      "execution_count": null,
      "metadata": {
        "id": "scKGQQZRXKpb"
      },
      "outputs": [],
      "source": [
        "from sklearn.model_selection import GridSearchCV\n",
        "from sklearn.model_selection import train_test_split\n",
        "\n",
        "\"\"\"\n",
        "We want to find which are the best hyperparameters. We use the model selecrion library\n",
        "\"\"\"\n",
        "# Xlv, ylv for learning and validation, Xt, yt for testing\n",
        "Xlv, Xt, ylv, yt = train_test_split(X, y, test_size=.1)\n",
        "\n",
        "# grid of values that we are searching\n",
        "grid = {'alpha'  : np.logspace(-4,3,30),\n",
        "        'kernel' : ['rbf'],\n",
        "        'gamma'  : np.logspace(-4,3,30)}\n",
        "\n",
        "# what we want to minimize\n",
        "MS = GridSearchCV(estimator = KernelRidge(),\n",
        "                  param_grid = grid,\n",
        "                  scoring = 'neg_mean_absolute_error',\n",
        "                  cv = 10)\n",
        "\n",
        "# I apply the model selection on my data\n",
        "H = MS.fit(Xlv,ylv)\n",
        "# I put the best hyperparameters that I found\n",
        "M = KernelRidge(alpha = H.best_params_['alpha'],\n",
        "                kernel = H.best_params_['kernel'],\n",
        "                gamma = H.best_params_['gamma'])\n",
        "# I retrain my model\n",
        "M.fit(Xlv,ylv)\n",
        "# Final prediction\n",
        "yp = M.predict(Xt)\n",
        "\n",
        "ys = M.predict(Xs)"
      ]
    },
    {
      "cell_type": "code",
      "execution_count": null,
      "metadata": {
        "colab": {
          "base_uri": "https://localhost:8080/",
          "height": 447
        },
        "id": "vyUaRcRTXMKi",
        "outputId": "62f8b6f7-dd1f-40b5-fff4-b8505a9e2769"
      },
      "outputs": [],
      "source": [
        "# scatter plot\n",
        "fig, ax = plt.subplots()\n",
        "# plots of true values and the predicted ones (points that lies on the diagonal)\n",
        "ax.plot(yt,yp,'bo')\n",
        "ax.plot([0,1], 'r')\n",
        "# We cannot though rely on this scatter plot because the number of samples is\n",
        "# too small and we cannot increase the test size!"
      ]
    },
    {
      "cell_type": "code",
      "execution_count": null,
      "metadata": {
        "colab": {
          "base_uri": "https://localhost:8080/"
        },
        "id": "tRofZ3TFtLJy",
        "outputId": "03e77889-a179-4454-e11c-e7d84f97e607"
      },
      "outputs": [],
      "source": [
        "from sklearn.model_selection import GridSearchCV\n",
        "from sklearn.model_selection import train_test_split\n",
        "\n",
        "\"\"\"\n",
        "We want to find which are the best hyperparameters. We use the model selecrion library\n",
        "\"\"\"\n",
        "\n",
        "ytt = np.asarray([]) # All the true values\n",
        "ypp = np.asarray([]) # All the predictions\n",
        "\n",
        "for i in range(0,10):\n",
        "  # Xlv, ylv for learning and validation, Xt, yt for testing\n",
        "  Xlv, Xt, ylv, yt = train_test_split(X, y, test_size=.1)\n",
        "\n",
        "  # grid of values that we are searching\n",
        "  grid = {'alpha'  : np.logspace(-4,3,30),\n",
        "          'kernel' : ['rbf'],\n",
        "          'gamma'  : np.logspace(-4,3,30)}\n",
        "\n",
        "  # what we want to minimize\n",
        "  MS = GridSearchCV(estimator = KernelRidge(),\n",
        "                    param_grid = grid,\n",
        "                    scoring = 'neg_mean_absolute_error',\n",
        "                    cv = 10)\n",
        "\n",
        "  # I apply the model selection on my data\n",
        "  H = MS.fit(Xlv,ylv)\n",
        "  # I put the best hyperparameters that I found\n",
        "  M = KernelRidge(alpha = H.best_params_['alpha'],\n",
        "                  kernel = H.best_params_['kernel'],\n",
        "                  gamma = H.best_params_['gamma'])\n",
        "  # I retrain my model\n",
        "  M.fit(Xlv,ylv)\n",
        "  # Final prediction\n",
        "  yp = M.predict(Xt)\n",
        "\n",
        "  ytt = np.concatenate((ytt,yt),axis=0)\n",
        "  ypp = np.concatenate((ypp,yp),axis=0)\n",
        "  print(ytt.shape)"
      ]
    },
    {
      "cell_type": "code",
      "execution_count": null,
      "metadata": {
        "colab": {
          "base_uri": "https://localhost:8080/"
        },
        "id": "MHbFKh6JvUjB",
        "outputId": "d993074a-0f22-4326-bc72-ac69d108067b"
      },
      "outputs": [],
      "source": [
        "np.mean(np.abs(ytt-ypp))"
      ]
    },
    {
      "cell_type": "code",
      "execution_count": null,
      "metadata": {
        "colab": {
          "base_uri": "https://localhost:8080/",
          "height": 447
        },
        "id": "GaXlZYgnwgCh",
        "outputId": "55ea5c02-07c1-43a2-be62-b4c8cf0c8f83"
      },
      "outputs": [],
      "source": [
        "# Scatter plot\n",
        "fig, ax = plt.subplots()\n",
        "ax.plot(ytt,ypp,'bo')\n",
        "ax.plot([0,1],[0,1],'r')"
      ]
    }
  ],
  "metadata": {
    "colab": {
      "authorship_tag": "ABX9TyOBDQtE/JKMTwTkB0XD4yan",
      "include_colab_link": true,
      "provenance": []
    },
    "kernelspec": {
      "display_name": "Python 3",
      "name": "python3"
    },
    "language_info": {
      "name": "python",
      "version": "3.8.18"
    }
  },
  "nbformat": 4,
  "nbformat_minor": 0
}
