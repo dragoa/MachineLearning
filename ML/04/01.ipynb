{
  "nbformat": 4,
  "nbformat_minor": 0,
  "metadata": {
    "colab": {
      "provenance": [],
      "authorship_tag": "ABX9TyMmtLkt/ZqMRzB2DUOYdUJg",
      "include_colab_link": true
    },
    "kernelspec": {
      "name": "python3",
      "display_name": "Python 3"
    },
    "language_info": {
      "name": "python"
    }
  },
  "cells": [
    {
      "cell_type": "markdown",
      "metadata": {
        "id": "view-in-github",
        "colab_type": "text"
      },
      "source": [
        "<a href=\"https://colab.research.google.com/github/dragoa/MachineLearning/blob/main/ML/04/01.ipynb\" target=\"_parent\"><img src=\"https://colab.research.google.com/assets/colab-badge.svg\" alt=\"Open In Colab\"/></a>"
      ]
    },
    {
      "cell_type": "markdown",
      "source": [
        "# Binary classification of MNIST digits\n",
        "\n",
        "In this code, we are tackling the problem of **binary classification** on the MNIST dataset.\n",
        "The MNIST dataset consists of handwritten digits (0-9), and we aim to classify digits as either 0 or 1, effectively converting the problem into a binary classification task.\n",
        "\n",
        "This means that you are simplifying the original **multi-class classification problem** of recognizing all digits (0-9) and transforming it into a binary classification problem where you are **only interested in distinguishing between two specific digits**, which are 0 and 1. You want to build a model that can determine whether a given handwritten digit is a '0' or a '1.'\n",
        "\n",
        "### We will perform the following steps:\n",
        "1. Load the MNIST dataset from sklearn.\n",
        "2. Preprocess the data, including converting labels to -1 (digit 0) and +1 (digit 1).\n",
        "3. Split the data into a training set and a testing set.\n",
        "4. Train two regression models (Ridge and Lasso) to learn the pixel contributions for classification.\n",
        "5. Evaluate the models' performance using classification error and confusion matrices.\n",
        "6. Visualize the learned weights (pixel contributions) for each model.\n",
        "\n"
      ],
      "metadata": {
        "id": "45p0K9we0jq2"
      }
    },
    {
      "cell_type": "code",
      "execution_count": 36,
      "metadata": {
        "id": "b84bQ3kzzzxU"
      },
      "outputs": [],
      "source": [
        "import numpy as np\n",
        "import matplotlib.pyplot as plt\n",
        "\n",
        "from sklearn.datasets import fetch_openml"
      ]
    },
    {
      "cell_type": "markdown",
      "source": [
        "The MNIST dataset is a collection of 70,000 grayscale images and have a resolution of 28x28 pixels, resulting in a total of 784 features (pixels) for each sample."
      ],
      "metadata": {
        "id": "Fw2yAWieZlUA"
      }
    },
    {
      "cell_type": "code",
      "source": [
        "# Mnist dataset of images 28*28 px = 784 px\n",
        "mnist = fetch_openml('mnist_784')"
      ],
      "metadata": {
        "colab": {
          "base_uri": "https://localhost:8080/"
        },
        "id": "NsQlcuDp0B7R",
        "outputId": "d3c07f64-16ad-4f2e-a564-b9a359b4719a"
      },
      "execution_count": 37,
      "outputs": [
        {
          "output_type": "stream",
          "name": "stderr",
          "text": [
            "/usr/local/lib/python3.10/dist-packages/sklearn/datasets/_openml.py:968: FutureWarning: The default value of `parser` will change from `'liac-arff'` to `'auto'` in 1.4. You can set `parser='auto'` to silence this warning. Therefore, an `ImportError` will be raised from 1.4 if the dataset is dense and pandas is not installed. Note that the pandas parser may return different data types. See the Notes Section in fetch_openml's API doc for details.\n",
            "  warn(\n"
          ]
        }
      ]
    },
    {
      "cell_type": "code",
      "source": [
        "print(type(mnist))\n",
        "\n",
        "# Our Data as a pandas DF\n",
        "X = mnist.data\n",
        "Y = mnist.target\n",
        "\n",
        "print(X.shape, type(X))\n",
        "print(Y.shape, type(Y))"
      ],
      "metadata": {
        "colab": {
          "base_uri": "https://localhost:8080/"
        },
        "id": "aSjbX2m-12c9",
        "outputId": "ac4c707f-0fcc-4d6f-f67c-70357b5ed0a0"
      },
      "execution_count": 38,
      "outputs": [
        {
          "output_type": "stream",
          "name": "stdout",
          "text": [
            "<class 'sklearn.utils._bunch.Bunch'>\n",
            "(70000, 784) <class 'pandas.core.frame.DataFrame'>\n",
            "(70000,) <class 'pandas.core.series.Series'>\n"
          ]
        }
      ]
    },
    {
      "cell_type": "code",
      "source": [
        "# Convert X and Y to NumPy arrays so we can us them\n",
        "X = X.to_numpy()\n",
        "Y = Y.to_numpy()\n",
        "\n",
        "print(X.shape, type(X))\n",
        "print(Y.shape, type(Y))"
      ],
      "metadata": {
        "colab": {
          "base_uri": "https://localhost:8080/"
        },
        "id": "DJyY0Hmh4GHg",
        "outputId": "dd327b18-bf6d-48ba-d3c0-86cdf87e6081"
      },
      "execution_count": 39,
      "outputs": [
        {
          "output_type": "stream",
          "name": "stdout",
          "text": [
            "(70000, 784) <class 'numpy.ndarray'>\n",
            "(70000,) <class 'numpy.ndarray'>\n"
          ]
        }
      ]
    },
    {
      "cell_type": "code",
      "source": [
        "# We see that out target is not an integer so we need to convert it\n",
        "print(type(Y[0]))\n",
        "\n",
        "Y = np.asarray([eval(i) for i in Y])\n",
        "\n",
        "print(type(Y[0]))"
      ],
      "metadata": {
        "colab": {
          "base_uri": "https://localhost:8080/"
        },
        "id": "9P4O6BDu4qYs",
        "outputId": "e0ae5496-f998-41d4-e5bf-22f96e2832a5"
      },
      "execution_count": 40,
      "outputs": [
        {
          "output_type": "stream",
          "name": "stdout",
          "text": [
            "<class 'str'>\n",
            "<class 'numpy.int64'>\n"
          ]
        }
      ]
    },
    {
      "cell_type": "markdown",
      "source": [
        "Let's first analyse a simpler problem. The matching of digits 0 and 1.\n",
        "So, we convert the multi-class problem into a binary classification task.\n",
        "- All samples with the label 'dn' (digit 0) are set to -1 (negative class).\n",
        "- All samples with the label 'dp' (digit 1) are set to +1 (positive class).\n",
        "- 'mask' is used to filter the relevant samples.\n",
        "- 'X' and 'Y' are updated to contain only the selected samples and binary labels.\n",
        "\n",
        "I have to assign before the digit negative and then the one positive, otherwise\n",
        "there's the risk that all my values in y becomes -1 (when 0 is first digit)\n"
      ],
      "metadata": {
        "id": "hR18Jlfg0Yz6"
      }
    },
    {
      "cell_type": "code",
      "source": [
        "dn = 0\n",
        "dp = 1\n",
        "mask = (Y == dn) | (Y == dp)\n",
        "X = X[mask,:]\n",
        "Y = Y[mask]\n",
        "Y[Y == dn] = -1 # negative class\n",
        "Y[Y == dp] = +1 # positive class"
      ],
      "metadata": {
        "id": "WktldsA3zz7D"
      },
      "execution_count": 41,
      "outputs": []
    },
    {
      "cell_type": "code",
      "source": [
        "X.shape"
      ],
      "metadata": {
        "colab": {
          "base_uri": "https://localhost:8080/"
        },
        "id": "eMrqhkMm2A_D",
        "outputId": "8a0ceb99-7dd7-4b0b-9a02-1f2e5da65de6"
      },
      "execution_count": 42,
      "outputs": [
        {
          "output_type": "execute_result",
          "data": {
            "text/plain": [
              "(14780, 784)"
            ]
          },
          "metadata": {},
          "execution_count": 42
        }
      ]
    },
    {
      "cell_type": "code",
      "source": [
        "Y.shape"
      ],
      "metadata": {
        "colab": {
          "base_uri": "https://localhost:8080/"
        },
        "id": "QA2ByuG-2BTC",
        "outputId": "02f5b414-7a3e-4011-f7fc-f7a9cdbbaad6"
      },
      "execution_count": 43,
      "outputs": [
        {
          "output_type": "execute_result",
          "data": {
            "text/plain": [
              "(14780,)"
            ]
          },
          "metadata": {},
          "execution_count": 43
        }
      ]
    },
    {
      "cell_type": "markdown",
      "source": [
        "Since I have a lot of data and since the complexity is O(n**) what I can do is\n",
        "subsamplig the data. <br>\n",
        "\n",
        "I use more data for testing because it's cheaper than learning."
      ],
      "metadata": {
        "id": "NCpf90uO3JUl"
      }
    },
    {
      "cell_type": "code",
      "source": [
        "from random import sample\n",
        "\n",
        "# Data used for training\n",
        "n = 100\n",
        "# Data used for testing\n",
        "nt = 1000\n",
        "\n",
        "# Randomly sample n+nt data points from the dataset\n",
        "mask = np.asarray(sample(range(X.shape[0]),n+nt))\n",
        "\n",
        "# Split the data into training and testing sets\n",
        "X = X[mask,:]\n",
        "Y = Y[mask]\n",
        "\n",
        "# Create the testing set (Xt and Yt) using samples from n to n+nt\n",
        "mask = range(n,n+nt)\n",
        "Xt = X[mask,]\n",
        "Yt = Y[mask]\n",
        "\n",
        "# Create the testing set (Xt and Yt) using samples from n to n+nt\n",
        "mask = range(0,n)\n",
        "X = X[mask,]\n",
        "Y = Y[mask]\n",
        "\n",
        "print(X.shape)\n",
        "print(Y.shape)\n",
        "print(Xt.shape)\n",
        "print(Yt.shape)"
      ],
      "metadata": {
        "colab": {
          "base_uri": "https://localhost:8080/"
        },
        "id": "dtt8wc5N2GRq",
        "outputId": "d3766ccf-fc13-401e-c835-1aa5f80c3e50"
      },
      "execution_count": 44,
      "outputs": [
        {
          "output_type": "stream",
          "name": "stdout",
          "text": [
            "(100, 784)\n",
            "(100,)\n",
            "(1000, 784)\n",
            "(1000,)\n"
          ]
        }
      ]
    },
    {
      "cell_type": "markdown",
      "source": [
        "### Ridge Classifier with Hyperparameter Tuning and Evaluation\n",
        "\n",
        "The objective function to minimize here is:\n",
        "\n",
        "$$||y - Xw||^2_2 + alpha * ||w||^2_2$$\n",
        "\n",
        "Thanks to the GridSearch we want to find the best hyperparameters for the  RidgeClassifier. The goal is to find the alpha value that results in the best accuracy."
      ],
      "metadata": {
        "id": "3IEF_5iLBtdF"
      }
    },
    {
      "cell_type": "code",
      "source": [
        "from sklearn.linear_model import RidgeClassifier\n",
        "from sklearn.model_selection import GridSearchCV\n",
        "from sklearn.metrics import confusion_matrix\n",
        "\n",
        "grid = {'alpha'  : np.logspace(-4,3,30)}\n",
        "MS = GridSearchCV(estimator   = RidgeClassifier(),\n",
        "                  param_grid  = grid,\n",
        "                  scoring     = 'accuracy',\n",
        "                  cv          = 10)\n",
        "\n",
        "# Fit the GridSearchCV to the training data to find the best hyperparameters.\n",
        "H = MS.fit(X,Y)\n",
        "\n",
        "M = RidgeClassifier(alpha = H.best_params_['alpha'])\n",
        "\n",
        "# Retrain the model with the best hyperparameter.\n",
        "M.fit(X,Y)\n",
        "\n",
        "# Predictions\n",
        "Yp = M.predict(Xt)\n",
        "\n",
        "print(H.best_params_['alpha'])\n",
        "print(np.mean(Yp * Yt <= 0))\n",
        "print(confusion_matrix(Yt,Yp))"
      ],
      "metadata": {
        "colab": {
          "base_uri": "https://localhost:8080/"
        },
        "id": "CaczPuhD4b87",
        "outputId": "be4115bb-a338-4728-c3bd-e920865b4cfd"
      },
      "execution_count": 45,
      "outputs": [
        {
          "output_type": "stream",
          "name": "stdout",
          "text": [
            "0.0001\n",
            "0.012\n",
            "[[448  10]\n",
            " [  2 540]]\n"
          ]
        }
      ]
    },
    {
      "cell_type": "code",
      "source": [
        "print(M.coef_)\n",
        "\n",
        "# extract the weights from the Ridge regression model I\n",
        "w = M.coef_\n",
        "\n",
        "picture = np.reshape(w,(28,28))\n",
        "fig, ax = plt.subplots()\n",
        "plt.imshow(picture, cmap=plt.cm.gray)\n",
        "ax.axis('off')\n",
        "plt.colorbar()"
      ],
      "metadata": {
        "colab": {
          "base_uri": "https://localhost:8080/",
          "height": 1000
        },
        "id": "usiv_MO3HSfx",
        "outputId": "ce47564d-11af-40ce-89cc-abfdfc96e2a0"
      },
      "execution_count": 46,
      "outputs": [
        {
          "output_type": "stream",
          "name": "stdout",
          "text": [
            "[[ 0.00000000e+00  0.00000000e+00  0.00000000e+00  0.00000000e+00\n",
            "   0.00000000e+00  0.00000000e+00  0.00000000e+00  0.00000000e+00\n",
            "   0.00000000e+00  0.00000000e+00  0.00000000e+00  0.00000000e+00\n",
            "   0.00000000e+00  0.00000000e+00  0.00000000e+00  0.00000000e+00\n",
            "   0.00000000e+00  0.00000000e+00  0.00000000e+00  0.00000000e+00\n",
            "   0.00000000e+00  0.00000000e+00  0.00000000e+00  0.00000000e+00\n",
            "   0.00000000e+00  0.00000000e+00  0.00000000e+00  0.00000000e+00\n",
            "   0.00000000e+00  0.00000000e+00  0.00000000e+00  0.00000000e+00\n",
            "   0.00000000e+00  0.00000000e+00  0.00000000e+00  0.00000000e+00\n",
            "   0.00000000e+00  0.00000000e+00  0.00000000e+00  0.00000000e+00\n",
            "   0.00000000e+00  0.00000000e+00  0.00000000e+00  0.00000000e+00\n",
            "   0.00000000e+00  0.00000000e+00  0.00000000e+00  0.00000000e+00\n",
            "   0.00000000e+00  0.00000000e+00  0.00000000e+00  0.00000000e+00\n",
            "   0.00000000e+00  0.00000000e+00  0.00000000e+00  0.00000000e+00\n",
            "   0.00000000e+00  0.00000000e+00  0.00000000e+00  0.00000000e+00\n",
            "   0.00000000e+00  0.00000000e+00  0.00000000e+00  0.00000000e+00\n",
            "   0.00000000e+00  0.00000000e+00  0.00000000e+00  0.00000000e+00\n",
            "   0.00000000e+00  0.00000000e+00  8.51738037e-06  1.18400947e-05\n",
            "   8.98536830e-06  7.01981899e-07  0.00000000e+00  0.00000000e+00\n",
            "   0.00000000e+00  0.00000000e+00  0.00000000e+00  0.00000000e+00\n",
            "   0.00000000e+00  0.00000000e+00  0.00000000e+00  0.00000000e+00\n",
            "   0.00000000e+00  0.00000000e+00  0.00000000e+00  0.00000000e+00\n",
            "   0.00000000e+00  0.00000000e+00  0.00000000e+00  0.00000000e+00\n",
            "   0.00000000e+00  0.00000000e+00  6.69593306e-05  3.77719301e-05\n",
            "   1.75982856e-05  6.77664188e-06  2.92661301e-05 -1.35508651e-04\n",
            "  -2.57762259e-04 -1.86832529e-04 -5.00545601e-05 -2.09063122e-05\n",
            "  -1.97983019e-04 -1.27136966e-04  0.00000000e+00  0.00000000e+00\n",
            "   0.00000000e+00  0.00000000e+00  0.00000000e+00  0.00000000e+00\n",
            "   0.00000000e+00  0.00000000e+00  0.00000000e+00  0.00000000e+00\n",
            "   0.00000000e+00  0.00000000e+00  0.00000000e+00  0.00000000e+00\n",
            "   0.00000000e+00  4.23172937e-05  2.57937502e-04  2.95541089e-04\n",
            "   2.07479296e-04  7.88142825e-05 -6.70500977e-05  2.32532261e-04\n",
            "  -1.70902237e-04  5.75197061e-05 -1.34190180e-05  4.10855936e-05\n",
            "   2.62655419e-05 -2.85848297e-04 -2.19531528e-04 -1.58321057e-05\n",
            "   0.00000000e+00  0.00000000e+00  0.00000000e+00  0.00000000e+00\n",
            "   0.00000000e+00  0.00000000e+00  0.00000000e+00  0.00000000e+00\n",
            "   0.00000000e+00  0.00000000e+00  0.00000000e+00  0.00000000e+00\n",
            "   1.20183414e-05  1.11553367e-04  2.37092916e-04  1.91886583e-04\n",
            "  -1.27286062e-04 -1.40253216e-04  2.53874637e-04  4.48806193e-05\n",
            "   4.21763928e-05 -1.41205686e-04  1.20099621e-04  8.07132717e-05\n",
            "  -4.63995261e-05 -2.27922374e-04 -1.15663112e-04  5.06142935e-05\n",
            "   5.74083373e-05  0.00000000e+00  0.00000000e+00  0.00000000e+00\n",
            "   0.00000000e+00  0.00000000e+00  0.00000000e+00  0.00000000e+00\n",
            "   0.00000000e+00  0.00000000e+00  0.00000000e+00 -8.72750906e-05\n",
            "  -2.12685344e-05 -1.25446040e-05  9.15468530e-05 -1.65196235e-04\n",
            "  -7.85619787e-05  5.66665182e-05 -6.97598919e-05 -2.20246187e-04\n",
            "  -2.06094254e-04 -3.06805077e-05 -1.18906182e-04 -1.93831366e-04\n",
            "   2.65148052e-05 -1.94451820e-04 -6.71609439e-05 -1.28712390e-05\n",
            "   4.22120127e-05  0.00000000e+00  0.00000000e+00  0.00000000e+00\n",
            "   0.00000000e+00  0.00000000e+00  0.00000000e+00  0.00000000e+00\n",
            "   0.00000000e+00  0.00000000e+00  1.36996813e-05 -7.58986000e-05\n",
            "  -9.87053720e-05 -4.10499327e-05 -1.32310271e-04  2.62150102e-05\n",
            "   3.67185801e-05  4.20881885e-07 -4.25345104e-05  3.23000724e-05\n",
            "   2.93273385e-05 -1.08921024e-04 -1.76811777e-04 -2.84882787e-04\n",
            "   2.82506577e-04  1.68856390e-04  4.50528956e-05 -4.46508000e-05\n",
            "  -3.15181819e-08  0.00000000e+00  0.00000000e+00  0.00000000e+00\n",
            "   0.00000000e+00  0.00000000e+00  0.00000000e+00  0.00000000e+00\n",
            "   0.00000000e+00  1.25463525e-05  2.43468149e-05 -1.03025084e-04\n",
            "  -8.64835840e-05 -4.57508051e-05 -1.04109997e-04  2.45299460e-05\n",
            "   7.31674036e-05  2.53931022e-04  8.27971498e-05  1.60521255e-05\n",
            "   1.44907713e-04  1.45278346e-04  1.17506321e-04 -9.38940053e-05\n",
            "   1.32918486e-04  1.91190042e-04 -2.33095089e-05 -1.70268004e-04\n",
            "  -3.40396364e-06  0.00000000e+00  0.00000000e+00  0.00000000e+00\n",
            "   0.00000000e+00  0.00000000e+00  0.00000000e+00  0.00000000e+00\n",
            "   0.00000000e+00  1.63614767e-05  1.44631688e-05 -1.63650453e-04\n",
            "  -1.08729834e-04  1.46084774e-04 -1.13823785e-05 -1.09618120e-04\n",
            "   5.73643553e-05  5.62630280e-05 -1.36992500e-04 -9.73374928e-05\n",
            "   1.91120807e-04 -4.24475846e-05  3.15081748e-05  7.99232951e-05\n",
            "  -1.46029102e-04  1.19959391e-05  4.57778414e-05 -1.96664363e-04\n",
            "  -7.96825031e-06  0.00000000e+00  0.00000000e+00  0.00000000e+00\n",
            "   0.00000000e+00  0.00000000e+00  0.00000000e+00  0.00000000e+00\n",
            "   0.00000000e+00  4.38000400e-05 -1.23379424e-05 -9.71129275e-05\n",
            "   1.28754307e-04  8.37333212e-05 -1.18133571e-04 -1.31167784e-04\n",
            "  -1.64528272e-04 -1.06127839e-04  2.54433277e-04  2.11775571e-04\n",
            "   3.31745329e-06 -8.32270468e-06  2.71155448e-04  1.67782246e-04\n",
            "  -1.78115833e-04 -1.39563089e-04 -5.82048028e-05 -1.68381617e-04\n",
            "  -2.30734481e-05  0.00000000e+00  0.00000000e+00  0.00000000e+00\n",
            "   0.00000000e+00  0.00000000e+00  0.00000000e+00  0.00000000e+00\n",
            "  -4.85194059e-07  4.14336337e-05 -4.42829555e-05 -4.55630318e-05\n",
            "  -1.27230024e-05 -1.13616998e-04 -1.78064195e-04 -7.90545831e-05\n",
            "  -5.63329115e-05 -8.45323043e-05  1.73124152e-04 -2.31160249e-05\n",
            "  -1.10145253e-04  5.50436250e-05  1.16190111e-04 -1.78349392e-04\n",
            "  -2.00936006e-04 -3.13181498e-05 -2.26590956e-04 -1.21100962e-04\n",
            "  -2.16902265e-05  0.00000000e+00  0.00000000e+00  0.00000000e+00\n",
            "   0.00000000e+00  0.00000000e+00  0.00000000e+00  0.00000000e+00\n",
            "  -1.89225683e-05 -3.65683257e-05 -1.01340616e-04 -8.97400243e-05\n",
            "  -1.46164298e-04 -1.57934719e-04 -1.57088916e-04 -8.52387768e-05\n",
            "   9.49637320e-06  7.22083496e-07 -3.77807972e-05  1.02197797e-04\n",
            "   1.36335110e-04  9.49589792e-05 -6.44388179e-05 -3.16910210e-04\n",
            "  -6.55475830e-05 -6.44034594e-05 -3.79153665e-04 -9.37854723e-05\n",
            "  -5.69888247e-05  0.00000000e+00  0.00000000e+00  0.00000000e+00\n",
            "   0.00000000e+00  0.00000000e+00  0.00000000e+00  0.00000000e+00\n",
            "  -6.04066604e-05  1.07181463e-06 -9.10019921e-05 -1.44554258e-04\n",
            "  -7.42826484e-05  1.18223288e-04 -1.10894591e-04 -2.26786704e-04\n",
            "   8.96661302e-06 -6.26688327e-05  1.57501374e-04  1.71141065e-04\n",
            "  -7.21349633e-05 -1.07339536e-04  9.40811280e-05 -2.45408293e-04\n",
            "   4.50254463e-05 -4.39136406e-05 -3.81411887e-04 -4.47304350e-05\n",
            "  -6.61024687e-05  0.00000000e+00  0.00000000e+00  0.00000000e+00\n",
            "   0.00000000e+00  0.00000000e+00  0.00000000e+00  0.00000000e+00\n",
            "  -6.07232629e-05 -2.40595552e-05  3.26421489e-05 -1.21419784e-04\n",
            "   1.99283364e-04  1.27540880e-04 -2.72744820e-04 -4.28441109e-04\n",
            "   1.45995205e-04  8.59396776e-05  7.00139793e-04 -5.69983092e-05\n",
            "  -2.19037441e-04 -5.64648138e-05 -2.48282644e-04 -2.34153200e-04\n",
            "   1.14541291e-04  2.08525062e-05 -2.49378277e-04 -3.61998502e-05\n",
            "  -7.33351896e-05  0.00000000e+00  0.00000000e+00  0.00000000e+00\n",
            "   0.00000000e+00  0.00000000e+00  0.00000000e+00  0.00000000e+00\n",
            "  -6.54862910e-05 -5.03171711e-05  9.27901456e-06  1.03096078e-04\n",
            "   1.85232047e-04  5.37169786e-05 -3.10761178e-04 -1.62674308e-04\n",
            "   1.36215322e-04  1.58783586e-04  3.14100572e-04  1.77554115e-04\n",
            "   1.05934616e-04 -2.76344870e-05 -2.90827973e-04 -1.33713623e-04\n",
            "  -2.93346684e-05 -1.08297757e-05 -1.46307666e-04 -6.65289315e-05\n",
            "  -5.59659199e-05  0.00000000e+00  0.00000000e+00  0.00000000e+00\n",
            "   0.00000000e+00  0.00000000e+00  0.00000000e+00  0.00000000e+00\n",
            "  -7.43176146e-05 -1.28899561e-04  6.77095614e-06  1.56530067e-04\n",
            "   2.36563539e-05 -2.02696500e-04  3.71062343e-06  4.23858960e-05\n",
            "  -1.89592944e-04  1.77480879e-04  2.31012833e-04 -5.31496497e-05\n",
            "   1.40184349e-04 -7.91685997e-05 -2.51887391e-04 -4.22719587e-05\n",
            "  -7.25649726e-05  3.49909453e-05 -3.14819468e-04 -2.58119868e-05\n",
            "  -5.73207680e-05  0.00000000e+00  0.00000000e+00  0.00000000e+00\n",
            "   0.00000000e+00  0.00000000e+00  0.00000000e+00  0.00000000e+00\n",
            "  -1.18781406e-04  1.59991428e-05  7.06778168e-05 -8.27463176e-05\n",
            "  -2.32540823e-04 -9.00003789e-05 -1.10299481e-04 -1.75877233e-04\n",
            "  -2.92376331e-05  8.02519261e-05  1.12117005e-04  1.88406253e-05\n",
            "   1.59241077e-04 -1.75661182e-04 -1.50733812e-04 -6.01950374e-05\n",
            "   2.30736309e-06  7.39574668e-05 -3.50886175e-04 -7.70078079e-05\n",
            "  -5.31473667e-05  0.00000000e+00  0.00000000e+00  0.00000000e+00\n",
            "   0.00000000e+00  0.00000000e+00  0.00000000e+00  0.00000000e+00\n",
            "  -1.17640998e-04  1.45509193e-04  1.38903711e-04 -3.08327177e-04\n",
            "  -2.09008893e-04  4.40443423e-05  4.64433467e-05  9.90379025e-05\n",
            "  -1.76827137e-04  6.94074656e-06  9.06295861e-05  1.66116764e-04\n",
            "   9.82768967e-06 -1.50964579e-04 -2.11639636e-04 -9.26694894e-05\n",
            "   2.50695003e-04 -1.81919340e-04 -1.96051555e-04  1.14015618e-05\n",
            "  -6.41309744e-05  0.00000000e+00  0.00000000e+00  0.00000000e+00\n",
            "   0.00000000e+00  0.00000000e+00  0.00000000e+00  0.00000000e+00\n",
            "  -4.97729627e-05  1.47754912e-04  2.30583185e-04 -2.49199651e-04\n",
            "  -1.52617434e-04  6.35249361e-06  3.31570670e-04  9.45691382e-05\n",
            "   2.11376585e-04  6.83134868e-06  1.64375706e-04  1.68493946e-04\n",
            "  -1.11098669e-04 -2.27902905e-04 -1.02916665e-04  1.13912631e-04\n",
            "  -4.20029020e-05 -2.19488559e-04 -6.41165961e-05  2.36811914e-05\n",
            "  -6.41309744e-05  0.00000000e+00  0.00000000e+00  0.00000000e+00\n",
            "   0.00000000e+00  0.00000000e+00  0.00000000e+00  0.00000000e+00\n",
            "  -1.44841096e-04  1.94488570e-04  4.14951135e-04 -1.88747828e-05\n",
            "   7.36800372e-06 -8.11730412e-05  1.85730990e-04  2.27243734e-05\n",
            "   1.97629950e-04 -2.45510884e-04 -2.13122594e-04 -3.19595747e-04\n",
            "  -3.49090613e-04 -1.57328193e-04  1.01454116e-04  1.26031327e-04\n",
            "  -1.01172218e-04 -9.18176936e-05  4.33900572e-05 -3.28496851e-05\n",
            "  -4.89220477e-05  0.00000000e+00  0.00000000e+00  0.00000000e+00\n",
            "   0.00000000e+00  0.00000000e+00  0.00000000e+00  0.00000000e+00\n",
            "  -1.84667955e-04  2.12091575e-05  2.84403549e-04  1.87793139e-04\n",
            "  -6.00850663e-05  2.94272191e-05 -2.36643374e-04  5.77402498e-05\n",
            "  -1.95598769e-04 -6.69298744e-05 -3.41519429e-04 -2.40319473e-04\n",
            "   7.57103446e-05  6.64527017e-05  1.41932195e-05 -9.63435330e-05\n",
            "  -1.29424625e-04  4.50177368e-05 -2.98932226e-05 -5.87250136e-05\n",
            "  -3.72618705e-05  0.00000000e+00  0.00000000e+00  0.00000000e+00\n",
            "   0.00000000e+00  0.00000000e+00  0.00000000e+00  0.00000000e+00\n",
            "  -1.09435110e-04 -1.79566542e-04 -1.47421946e-04 -6.76155996e-05\n",
            "   2.87321715e-05 -9.77731477e-05 -1.93911020e-04 -1.62454131e-04\n",
            "  -1.73339615e-04  1.34852501e-04  9.63063500e-05  4.92850858e-05\n",
            "  -1.10779814e-04 -9.08302280e-05 -3.12277103e-05 -6.08315539e-05\n",
            "   2.95777147e-05  8.84949654e-06 -6.00765038e-05 -5.70334752e-05\n",
            "  -4.56267802e-06  0.00000000e+00  0.00000000e+00  0.00000000e+00\n",
            "   0.00000000e+00  0.00000000e+00  0.00000000e+00  0.00000000e+00\n",
            "  -2.69137124e-07 -2.08122700e-04 -2.90871627e-04 -1.22671024e-04\n",
            "  -1.12504886e-04 -4.55160515e-04  7.02402507e-05 -1.78195244e-04\n",
            "  -7.32319789e-05 -1.52901529e-04 -8.68834473e-05 -2.76317673e-05\n",
            "  -2.59374175e-04 -7.44333916e-05  4.33139778e-06  2.91487234e-05\n",
            "  -4.18596198e-05 -6.41309744e-05 -5.32312436e-05 -1.54624088e-05\n",
            "   1.48837834e-04  2.02880142e-04  1.68328502e-05  0.00000000e+00\n",
            "   0.00000000e+00  0.00000000e+00  0.00000000e+00  0.00000000e+00\n",
            "   0.00000000e+00 -7.68963213e-08 -5.10163339e-05 -1.24047060e-04\n",
            "  -1.38816244e-04 -1.03849946e-04 -4.13139735e-05 -1.05050674e-05\n",
            "  -2.78192664e-05  3.22597738e-05 -3.97219043e-05  6.80742245e-05\n",
            "  -8.90467932e-05 -1.13908949e-04 -5.28112203e-05 -3.92897274e-05\n",
            "  -3.92897274e-05 -3.72618705e-05 -1.01392845e-05  0.00000000e+00\n",
            "   0.00000000e+00  0.00000000e+00  0.00000000e+00  0.00000000e+00\n",
            "   0.00000000e+00  0.00000000e+00  0.00000000e+00  0.00000000e+00\n",
            "   0.00000000e+00  0.00000000e+00  0.00000000e+00  0.00000000e+00\n",
            "   0.00000000e+00  0.00000000e+00  0.00000000e+00  0.00000000e+00\n",
            "   0.00000000e+00  0.00000000e+00  0.00000000e+00  0.00000000e+00\n",
            "   0.00000000e+00  0.00000000e+00  0.00000000e+00  0.00000000e+00\n",
            "   0.00000000e+00  0.00000000e+00  0.00000000e+00  0.00000000e+00\n",
            "   0.00000000e+00  0.00000000e+00  0.00000000e+00  0.00000000e+00\n",
            "   0.00000000e+00  0.00000000e+00  0.00000000e+00  0.00000000e+00\n",
            "   0.00000000e+00  0.00000000e+00  0.00000000e+00  0.00000000e+00\n",
            "   0.00000000e+00  0.00000000e+00  0.00000000e+00  0.00000000e+00\n",
            "   0.00000000e+00  0.00000000e+00  0.00000000e+00  0.00000000e+00\n",
            "   0.00000000e+00  0.00000000e+00  0.00000000e+00  0.00000000e+00\n",
            "   0.00000000e+00  0.00000000e+00  0.00000000e+00  0.00000000e+00\n",
            "   0.00000000e+00  0.00000000e+00  0.00000000e+00  0.00000000e+00\n",
            "   0.00000000e+00  0.00000000e+00  0.00000000e+00  0.00000000e+00\n",
            "   0.00000000e+00  0.00000000e+00  0.00000000e+00  0.00000000e+00\n",
            "   0.00000000e+00  0.00000000e+00  0.00000000e+00  0.00000000e+00\n",
            "   0.00000000e+00  0.00000000e+00  0.00000000e+00  0.00000000e+00\n",
            "   0.00000000e+00  0.00000000e+00  0.00000000e+00  0.00000000e+00\n",
            "   0.00000000e+00  0.00000000e+00  0.00000000e+00  0.00000000e+00\n",
            "   0.00000000e+00  0.00000000e+00  0.00000000e+00  0.00000000e+00]]\n"
          ]
        },
        {
          "output_type": "execute_result",
          "data": {
            "text/plain": [
              "<matplotlib.colorbar.Colorbar at 0x7e308fd31210>"
            ]
          },
          "metadata": {},
          "execution_count": 46
        },
        {
          "output_type": "display_data",
          "data": {
            "text/plain": [
              "<Figure size 640x480 with 2 Axes>"
            ],
            "image/png": "[encoded data removed]"
          },
          "metadata": {}
        }
      ]
    },
    {
      "cell_type": "markdown",
      "source": [
        "We want to use now the Lasso algorithm but for classification. Since sklearn doens't implement it we're gonna use Logistic Regression with an \"l1\" penalty to implement Lasso for binary classification."
      ],
      "metadata": {
        "id": "iKrwJG2ZIYFX"
      }
    },
    {
      "cell_type": "code",
      "source": [
        "from sklearn.linear_model import LogisticRegression\n",
        "from sklearn.model_selection import GridSearchCV\n",
        "from sklearn.metrics import confusion_matrix\n",
        "\n",
        "# Construction of the grid\n",
        "grid = {'penalty' : ['l1'],\n",
        "        'C'       : np.logspace(-4,3,30),\n",
        "        'solver'  : ['liblinear']}\n",
        "\n",
        "MS = GridSearchCV(estimator   = LogisticRegression(),\n",
        "                  param_grid  = grid,\n",
        "                  scoring     = 'accuracy',\n",
        "                  cv          = 10)\n",
        "\n",
        "H = MS.fit(X,Y)\n",
        "\n",
        "M = LogisticRegression(penalty = H.best_params_['penalty'],\n",
        "                       C       = H.best_params_['C'],\n",
        "                       solver  = H.best_params_['solver'])\n",
        "\n",
        "# Retrain on the model with best parameters\n",
        "M.fit(X,Y)\n",
        "\n",
        "Yp = M.predict(Xt)\n",
        "\n",
        "print(np.mean(Yp * Yt <= 0))\n",
        "print(confusion_matrix(Yt,Yp))"
      ],
      "metadata": {
        "colab": {
          "base_uri": "https://localhost:8080/"
        },
        "id": "CoGI8DO2IU1K",
        "outputId": "19e8e097-2b08-4304-c156-7ec1e7b584d8"
      },
      "execution_count": 47,
      "outputs": [
        {
          "output_type": "stream",
          "name": "stdout",
          "text": [
            "0.002\n",
            "[[457   1]\n",
            " [  1 541]]\n"
          ]
        }
      ]
    },
    {
      "cell_type": "code",
      "source": [
        "print(M.coef_)\n",
        "\n",
        "# extract the weights from the Ridge regression model I\n",
        "w = M.coef_\n",
        "\n",
        "picture = np.reshape(w,(28,28))\n",
        "fig, ax = plt.subplots()\n",
        "plt.imshow(picture, cmap=plt.cm.gray)\n",
        "ax.axis('off')\n",
        "plt.colorbar()"
      ],
      "metadata": {
        "colab": {
          "base_uri": "https://localhost:8080/",
          "height": 1000
        },
        "id": "3ZLo88h7K9Nt",
        "outputId": "caa7eb43-6e2e-49ed-8136-1301fbbcd487"
      },
      "execution_count": 48,
      "outputs": [
        {
          "output_type": "stream",
          "name": "stdout",
          "text": [
            "[[ 0.00000000e+00  0.00000000e+00  0.00000000e+00  0.00000000e+00\n",
            "   0.00000000e+00  0.00000000e+00  0.00000000e+00  0.00000000e+00\n",
            "   0.00000000e+00  0.00000000e+00  0.00000000e+00  0.00000000e+00\n",
            "   0.00000000e+00  0.00000000e+00  0.00000000e+00  0.00000000e+00\n",
            "   0.00000000e+00  0.00000000e+00  0.00000000e+00  0.00000000e+00\n",
            "   0.00000000e+00  0.00000000e+00  0.00000000e+00  0.00000000e+00\n",
            "   0.00000000e+00  0.00000000e+00  0.00000000e+00  0.00000000e+00\n",
            "   0.00000000e+00  0.00000000e+00  0.00000000e+00  0.00000000e+00\n",
            "   0.00000000e+00  0.00000000e+00  0.00000000e+00  0.00000000e+00\n",
            "   0.00000000e+00  0.00000000e+00  0.00000000e+00  0.00000000e+00\n",
            "   0.00000000e+00  0.00000000e+00  0.00000000e+00  0.00000000e+00\n",
            "   0.00000000e+00  0.00000000e+00  0.00000000e+00  0.00000000e+00\n",
            "   0.00000000e+00  0.00000000e+00  0.00000000e+00  0.00000000e+00\n",
            "   0.00000000e+00  0.00000000e+00  0.00000000e+00  0.00000000e+00\n",
            "   0.00000000e+00  0.00000000e+00  0.00000000e+00  0.00000000e+00\n",
            "   0.00000000e+00  0.00000000e+00  0.00000000e+00  0.00000000e+00\n",
            "   0.00000000e+00  0.00000000e+00  0.00000000e+00  0.00000000e+00\n",
            "   0.00000000e+00  0.00000000e+00  0.00000000e+00  0.00000000e+00\n",
            "   0.00000000e+00  0.00000000e+00  0.00000000e+00  0.00000000e+00\n",
            "   0.00000000e+00  0.00000000e+00  0.00000000e+00  0.00000000e+00\n",
            "   0.00000000e+00  0.00000000e+00  0.00000000e+00  0.00000000e+00\n",
            "   0.00000000e+00  0.00000000e+00  0.00000000e+00  0.00000000e+00\n",
            "   0.00000000e+00  0.00000000e+00  0.00000000e+00  0.00000000e+00\n",
            "   0.00000000e+00  0.00000000e+00  0.00000000e+00  0.00000000e+00\n",
            "   0.00000000e+00  0.00000000e+00  3.04745879e-03  0.00000000e+00\n",
            "  -1.48830145e-03 -1.58415232e-03  0.00000000e+00  0.00000000e+00\n",
            "   0.00000000e+00  0.00000000e+00  0.00000000e+00  0.00000000e+00\n",
            "   0.00000000e+00  0.00000000e+00  0.00000000e+00  0.00000000e+00\n",
            "   0.00000000e+00  0.00000000e+00  0.00000000e+00  0.00000000e+00\n",
            "   0.00000000e+00  0.00000000e+00  0.00000000e+00  0.00000000e+00\n",
            "   0.00000000e+00  0.00000000e+00  7.38689589e-03  9.17983008e-04\n",
            "   0.00000000e+00  0.00000000e+00  0.00000000e+00  4.75455183e-04\n",
            "   4.29520274e-05 -3.94404655e-05  0.00000000e+00  1.56472652e-04\n",
            "   0.00000000e+00  0.00000000e+00 -3.77574806e-03  0.00000000e+00\n",
            "   0.00000000e+00  0.00000000e+00  0.00000000e+00  0.00000000e+00\n",
            "   0.00000000e+00  0.00000000e+00  0.00000000e+00  0.00000000e+00\n",
            "   0.00000000e+00  0.00000000e+00  0.00000000e+00  0.00000000e+00\n",
            "   0.00000000e+00  0.00000000e+00  2.99397846e-03  1.79258926e-03\n",
            "   0.00000000e+00 -8.41798208e-04  8.64016525e-04 -6.17418215e-05\n",
            "  -1.54416107e-04  0.00000000e+00 -1.87730439e-04  0.00000000e+00\n",
            "   0.00000000e+00 -3.77121274e-04  0.00000000e+00  6.36249818e-03\n",
            "   6.52504835e-03  0.00000000e+00  0.00000000e+00  0.00000000e+00\n",
            "   0.00000000e+00  0.00000000e+00  0.00000000e+00  0.00000000e+00\n",
            "   0.00000000e+00  0.00000000e+00  0.00000000e+00 -8.19557132e-03\n",
            "   0.00000000e+00  0.00000000e+00  8.86392244e-04  0.00000000e+00\n",
            "   0.00000000e+00 -1.24106422e-05 -5.82011673e-04  1.88882222e-03\n",
            "   2.49778839e-03  0.00000000e+00 -7.24441727e-04 -1.24837225e-03\n",
            "   0.00000000e+00  0.00000000e+00  0.00000000e+00  0.00000000e+00\n",
            "   0.00000000e+00  0.00000000e+00  0.00000000e+00  0.00000000e+00\n",
            "   0.00000000e+00  0.00000000e+00  0.00000000e+00  0.00000000e+00\n",
            "   0.00000000e+00  0.00000000e+00  0.00000000e+00  0.00000000e+00\n",
            "   0.00000000e+00 -3.70602577e-04 -1.13684879e-03  0.00000000e+00\n",
            "  -8.83044413e-04  0.00000000e+00  3.41264399e-04  2.57207769e-04\n",
            "   2.17876704e-04  1.21895261e-03 -3.84772308e-04 -2.62213136e-03\n",
            "   1.48595660e-03  0.00000000e+00  0.00000000e+00  0.00000000e+00\n",
            "   0.00000000e+00  0.00000000e+00  0.00000000e+00  0.00000000e+00\n",
            "   0.00000000e+00  0.00000000e+00  0.00000000e+00  0.00000000e+00\n",
            "   0.00000000e+00  0.00000000e+00  0.00000000e+00  0.00000000e+00\n",
            "   0.00000000e+00 -1.50487623e-04 -1.11115324e-03  0.00000000e+00\n",
            "  -4.62369619e-04  7.35966797e-04  1.70629363e-04  8.66954281e-04\n",
            "   1.44997898e-04 -8.31764559e-04 -8.66966688e-04  0.00000000e+00\n",
            "   2.40090122e-04  1.67459429e-03  0.00000000e+00 -1.06032251e-03\n",
            "   0.00000000e+00  0.00000000e+00  0.00000000e+00  0.00000000e+00\n",
            "   0.00000000e+00  0.00000000e+00  0.00000000e+00  0.00000000e+00\n",
            "   0.00000000e+00  0.00000000e+00  0.00000000e+00  0.00000000e+00\n",
            "  -2.49934754e-04  0.00000000e+00 -3.90936632e-04 -7.42142709e-06\n",
            "   3.69900447e-05  0.00000000e+00 -7.05857141e-05 -6.89086737e-04\n",
            "   0.00000000e+00  1.87283949e-03  0.00000000e+00  0.00000000e+00\n",
            "   2.69203303e-04  5.83100312e-04  0.00000000e+00 -4.37260109e-03\n",
            "   0.00000000e+00  0.00000000e+00  0.00000000e+00  0.00000000e+00\n",
            "   0.00000000e+00  0.00000000e+00  0.00000000e+00  0.00000000e+00\n",
            "   0.00000000e+00  0.00000000e+00  0.00000000e+00 -2.90573269e-04\n",
            "  -2.17898045e-03  0.00000000e+00  0.00000000e+00  0.00000000e+00\n",
            "   0.00000000e+00 -4.50491404e-04  4.80734194e-04  4.43649952e-03\n",
            "  -3.73226032e-04  1.03712699e-03  6.75854570e-04  0.00000000e+00\n",
            "   0.00000000e+00  0.00000000e+00 -5.28883642e-06 -4.57042303e-04\n",
            "   0.00000000e+00  0.00000000e+00  0.00000000e+00  0.00000000e+00\n",
            "   0.00000000e+00  0.00000000e+00  0.00000000e+00  0.00000000e+00\n",
            "   0.00000000e+00  0.00000000e+00  0.00000000e+00  0.00000000e+00\n",
            "  -5.23084827e-05  0.00000000e+00 -1.28014375e-04  0.00000000e+00\n",
            "   0.00000000e+00  0.00000000e+00  3.27260606e-03  3.62765788e-03\n",
            "   2.31408731e-05  5.42175270e-03  0.00000000e+00 -9.68993362e-05\n",
            "  -6.28030243e-04  0.00000000e+00 -2.92826077e-04  0.00000000e+00\n",
            "   0.00000000e+00  0.00000000e+00  0.00000000e+00  0.00000000e+00\n",
            "   0.00000000e+00  0.00000000e+00  0.00000000e+00  0.00000000e+00\n",
            "   0.00000000e+00  0.00000000e+00 -2.28039427e-03 -1.30786890e-03\n",
            "  -7.20638360e-04 -8.63148922e-04  0.00000000e+00 -5.24123779e-03\n",
            "  -8.68584764e-04 -2.09635858e-04  5.60520577e-04  8.22334064e-04\n",
            "   4.74404956e-03  1.19897055e-03 -8.93176166e-04 -1.94924198e-04\n",
            "   0.00000000e+00 -1.39638347e-03 -1.22772842e-03 -1.64547219e-03\n",
            "   0.00000000e+00  0.00000000e+00  0.00000000e+00  0.00000000e+00\n",
            "   0.00000000e+00  0.00000000e+00  0.00000000e+00  0.00000000e+00\n",
            "   0.00000000e+00  0.00000000e+00 -1.04802790e-03 -1.42661110e-03\n",
            "  -1.24611912e-03 -3.82267198e-03 -1.89301918e-03 -1.48817575e-03\n",
            "  -2.24579549e-03  4.68874275e-03  2.59883517e-03  6.88388038e-04\n",
            "   3.26814544e-04  0.00000000e+00  0.00000000e+00 -1.23958606e-03\n",
            "  -3.44682577e-03  0.00000000e+00 -1.64416743e-03 -3.36948942e-04\n",
            "  -5.77538136e-04  0.00000000e+00  0.00000000e+00  0.00000000e+00\n",
            "   0.00000000e+00  0.00000000e+00  0.00000000e+00  0.00000000e+00\n",
            "   0.00000000e+00  0.00000000e+00 -4.06235120e-04 -1.13626628e-04\n",
            "   5.56466282e-04  0.00000000e+00 -1.52129559e-03 -3.08845411e-03\n",
            "  -1.14572428e-03  1.65321452e-05  1.13706456e-02  2.63378559e-04\n",
            "  -1.31177715e-03 -9.84009384e-04 -1.23597757e-03 -4.01967841e-04\n",
            "  -1.96669498e-03  0.00000000e+00 -1.69217074e-03  0.00000000e+00\n",
            "   0.00000000e+00  0.00000000e+00  0.00000000e+00  0.00000000e+00\n",
            "   0.00000000e+00  0.00000000e+00  0.00000000e+00  0.00000000e+00\n",
            "   0.00000000e+00 -2.92049044e-04 -3.06064043e-04 -8.66207400e-04\n",
            "   2.47948260e-04 -2.73774500e-03 -3.15475188e-03 -1.16197431e-03\n",
            "  -1.83336552e-03  2.43045327e-03  8.46688957e-04  3.85526337e-04\n",
            "  -3.40451535e-03 -2.52739307e-03 -1.00534828e-03 -7.71622811e-04\n",
            "  -1.21325190e-03  0.00000000e+00 -1.09870245e-03 -3.68264756e-03\n",
            "   0.00000000e+00  0.00000000e+00  0.00000000e+00  0.00000000e+00\n",
            "   0.00000000e+00  0.00000000e+00  0.00000000e+00  0.00000000e+00\n",
            "  -9.05155998e-04 -4.19152914e-04 -3.33191181e-03  9.15992981e-04\n",
            "  -1.12484850e-04 -3.94522801e-04 -2.42219968e-04  0.00000000e+00\n",
            "   0.00000000e+00  5.10744148e-03  8.51940926e-04  0.00000000e+00\n",
            "   0.00000000e+00 -7.63310392e-05 -2.13907608e-04  0.00000000e+00\n",
            "   0.00000000e+00  0.00000000e+00 -1.06235980e-03  0.00000000e+00\n",
            "   0.00000000e+00  0.00000000e+00  0.00000000e+00  0.00000000e+00\n",
            "   0.00000000e+00  0.00000000e+00  0.00000000e+00  0.00000000e+00\n",
            "   0.00000000e+00  0.00000000e+00  0.00000000e+00 -8.98427952e-04\n",
            "  -4.87921649e-03  0.00000000e+00  0.00000000e+00 -6.37581228e-04\n",
            "   1.00628927e-03  1.12803018e-04  1.14223520e-03  4.50392425e-03\n",
            "   0.00000000e+00 -1.20120081e-03 -5.20809309e-04 -1.78407157e-03\n",
            "   1.73283838e-04  0.00000000e+00 -2.99102349e-03 -2.61973948e-04\n",
            "   0.00000000e+00  0.00000000e+00  0.00000000e+00  0.00000000e+00\n",
            "   0.00000000e+00  0.00000000e+00  0.00000000e+00  0.00000000e+00\n",
            "  -5.73760522e-03  0.00000000e+00 -3.96447261e-04 -7.51946640e-04\n",
            "   0.00000000e+00 -6.51583845e-04  3.07500977e-05  1.78235022e-03\n",
            "   6.54954112e-04  9.78261847e-05  8.92314154e-04  2.31619491e-05\n",
            "   0.00000000e+00  0.00000000e+00 -7.63206331e-03  3.08117510e-04\n",
            "   1.67497474e-04 -1.69701653e-03 -1.17634175e-03  0.00000000e+00\n",
            "   0.00000000e+00  0.00000000e+00  0.00000000e+00  0.00000000e+00\n",
            "   0.00000000e+00  0.00000000e+00  0.00000000e+00  0.00000000e+00\n",
            "  -5.90816237e-03 -3.15386716e-03  2.29194797e-04 -4.77587613e-04\n",
            "  -2.65642009e-03  3.82998293e-04  1.63328554e-03  1.56723020e-04\n",
            "   3.33534208e-03  7.03285898e-04  4.39379041e-04  0.00000000e+00\n",
            "   0.00000000e+00 -4.18292689e-04  0.00000000e+00  0.00000000e+00\n",
            "   0.00000000e+00 -3.14589177e-03 -1.72726279e-03  0.00000000e+00\n",
            "  -3.22551737e-03  0.00000000e+00  0.00000000e+00  0.00000000e+00\n",
            "   0.00000000e+00  0.00000000e+00  0.00000000e+00  0.00000000e+00\n",
            "  -4.96938799e-03  9.94818568e-04  3.42688855e-03  3.89501949e-04\n",
            "  -1.08425316e-03 -4.49416683e-05  0.00000000e+00  2.86902403e-04\n",
            "   3.45375233e-05 -6.62187834e-04  7.59060510e-05 -3.79392046e-05\n",
            "   1.24291982e-04  0.00000000e+00  8.58069053e-04 -1.97397326e-05\n",
            "  -1.70812479e-03 -1.50013650e-03  0.00000000e+00  0.00000000e+00\n",
            "   0.00000000e+00  0.00000000e+00  0.00000000e+00  0.00000000e+00\n",
            "   0.00000000e+00  0.00000000e+00  0.00000000e+00  0.00000000e+00\n",
            "  -6.11815439e-03  8.73754418e-04  1.74500168e-03  8.95674469e-04\n",
            "   5.46543671e-04  2.16350460e-04 -9.28569643e-04 -2.51399234e-05\n",
            "  -6.14937971e-04 -7.23938871e-04 -4.12416437e-04 -3.60357583e-04\n",
            "   0.00000000e+00 -1.00896420e-03  0.00000000e+00 -6.67798536e-04\n",
            "  -2.45540099e-03  0.00000000e+00  0.00000000e+00 -2.29796556e-04\n",
            "   0.00000000e+00  0.00000000e+00  0.00000000e+00  0.00000000e+00\n",
            "   0.00000000e+00  0.00000000e+00  0.00000000e+00  0.00000000e+00\n",
            "   0.00000000e+00  0.00000000e+00  3.05706550e-04  1.01403459e-03\n",
            "   0.00000000e+00 -7.57100546e-04 -1.72550302e-03  0.00000000e+00\n",
            "  -6.36325851e-04 -5.50176988e-04 -2.50555640e-04  2.90500328e-03\n",
            "   4.20820647e-04  2.71835459e-04 -5.84851281e-06 -3.15141275e-03\n",
            "   0.00000000e+00  0.00000000e+00  0.00000000e+00  0.00000000e+00\n",
            "   0.00000000e+00  0.00000000e+00  0.00000000e+00  0.00000000e+00\n",
            "   0.00000000e+00  0.00000000e+00  0.00000000e+00  0.00000000e+00\n",
            "   0.00000000e+00 -6.23383916e-03 -2.02108303e-03  0.00000000e+00\n",
            "  -1.39051170e-04 -1.35430408e-03 -1.67277166e-03 -5.88940004e-04\n",
            "  -9.00025218e-04 -2.20874545e-04  0.00000000e+00  1.57919132e-03\n",
            "   0.00000000e+00  0.00000000e+00  0.00000000e+00  0.00000000e+00\n",
            "   0.00000000e+00  0.00000000e+00  0.00000000e+00  0.00000000e+00\n",
            "   0.00000000e+00  0.00000000e+00  0.00000000e+00  0.00000000e+00\n",
            "   0.00000000e+00  0.00000000e+00  0.00000000e+00  0.00000000e+00\n",
            "   0.00000000e+00  0.00000000e+00  0.00000000e+00  0.00000000e+00\n",
            "   0.00000000e+00 -7.83969447e-04 -2.33724510e-03  0.00000000e+00\n",
            "   0.00000000e+00  1.93054036e-03  0.00000000e+00  0.00000000e+00\n",
            "   0.00000000e+00  0.00000000e+00  0.00000000e+00  0.00000000e+00\n",
            "   0.00000000e+00  0.00000000e+00  0.00000000e+00  0.00000000e+00\n",
            "   0.00000000e+00  0.00000000e+00  0.00000000e+00  0.00000000e+00\n",
            "   0.00000000e+00  0.00000000e+00  0.00000000e+00  0.00000000e+00\n",
            "   0.00000000e+00  0.00000000e+00  0.00000000e+00  0.00000000e+00\n",
            "   0.00000000e+00  0.00000000e+00  0.00000000e+00  0.00000000e+00\n",
            "   0.00000000e+00  0.00000000e+00  0.00000000e+00  0.00000000e+00\n",
            "   0.00000000e+00  0.00000000e+00  0.00000000e+00  0.00000000e+00\n",
            "   0.00000000e+00  0.00000000e+00  0.00000000e+00  0.00000000e+00\n",
            "   0.00000000e+00  0.00000000e+00  0.00000000e+00  0.00000000e+00\n",
            "   0.00000000e+00  0.00000000e+00  0.00000000e+00  0.00000000e+00\n",
            "   0.00000000e+00  0.00000000e+00  0.00000000e+00  0.00000000e+00\n",
            "   0.00000000e+00  0.00000000e+00  0.00000000e+00  0.00000000e+00\n",
            "   0.00000000e+00  0.00000000e+00  0.00000000e+00  0.00000000e+00\n",
            "   0.00000000e+00  0.00000000e+00  0.00000000e+00  0.00000000e+00\n",
            "   0.00000000e+00  0.00000000e+00  0.00000000e+00  0.00000000e+00\n",
            "   0.00000000e+00  0.00000000e+00  0.00000000e+00  0.00000000e+00\n",
            "   0.00000000e+00  0.00000000e+00  0.00000000e+00  0.00000000e+00\n",
            "   0.00000000e+00  0.00000000e+00  0.00000000e+00  0.00000000e+00\n",
            "   0.00000000e+00  0.00000000e+00  0.00000000e+00  0.00000000e+00\n",
            "   0.00000000e+00  0.00000000e+00  0.00000000e+00  0.00000000e+00\n",
            "   0.00000000e+00  0.00000000e+00  0.00000000e+00  0.00000000e+00\n",
            "   0.00000000e+00  0.00000000e+00  0.00000000e+00  0.00000000e+00\n",
            "   0.00000000e+00  0.00000000e+00  0.00000000e+00  0.00000000e+00]]\n"
          ]
        },
        {
          "output_type": "execute_result",
          "data": {
            "text/plain": [
              "<matplotlib.colorbar.Colorbar at 0x7e312b63d840>"
            ]
          },
          "metadata": {},
          "execution_count": 48
        },
        {
          "output_type": "display_data",
          "data": {
            "text/plain": [
              "<Figure size 640x480 with 2 Axes>"
            ],
            "image/png": "[encoded data removed]"
          },
          "metadata": {}
        }
      ]
    }
  ]
}