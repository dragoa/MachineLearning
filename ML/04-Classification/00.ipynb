{
  "cells": [
    {
      "cell_type": "markdown",
      "metadata": {
        "colab_type": "text",
        "id": "view-in-github"
      },
      "source": [
        "<a href=\"https://colab.research.google.com/github/dragoa/MachineLearning/blob/main/ML/04-Classification/00.ipynb\" target=\"_parent\"><img src=\"https://colab.research.google.com/assets/colab-badge.svg\" alt=\"Open In Colab\"/></a>"
      ]
    },
    {
      "cell_type": "markdown",
      "metadata": {
        "id": "45p0K9we0jq2"
      },
      "source": [
        "# Binary classification of MNIST digits\n",
        "\n",
        "In this code, we are tackling the problem of **binary classification** on the MNIST dataset.\n",
        "The MNIST dataset consists of handwritten digits (0-9), and we aim to classify digits as either 0 or 1, effectively converting the problem into a binary classification task.\n",
        "\n",
        "This means that you are simplifying the original **multi-class classification problem** of recognizing all digits (0-9) and transforming it into a binary classification problem where you are **only interested in distinguishing between two specific digits**, which are 0 and 1. You want to build a model that can determine whether a given handwritten digit is a '0' or a '1.'\n",
        "\n",
        "### We will perform the following steps:\n",
        "1. Load the MNIST dataset from sklearn.\n",
        "2. Preprocess the data, including converting labels to -1 (digit 0) and +1 (digit 1).\n",
        "3. Split the data into a training set and a testing set.\n",
        "4. Train two regression models (Ridge and Lasso) to learn the pixel contributions for classification.\n",
        "5. Evaluate the models' performance using classification error and confusion matrices.\n",
        "6. Visualize the learned weights (pixel contributions) for each model.\n",
        "\n"
      ]
    },
    {
      "cell_type": "code",
      "execution_count": null,
      "metadata": {
        "id": "b84bQ3kzzzxU"
      },
      "outputs": [],
      "source": [
        "import numpy as np\n",
        "\n",
        "from sklearn.datasets import fetch_openml"
      ]
    },
    {
      "cell_type": "markdown",
      "metadata": {
        "id": "Fw2yAWieZlUA"
      },
      "source": [
        "The MNIST dataset is a collection of 70,000 grayscale images and have a resolution of 28x28 pixels, resulting in a total of 784 features (pixels) for each sample."
      ]
    },
    {
      "cell_type": "code",
      "execution_count": null,
      "metadata": {
        "colab": {
          "base_uri": "https://localhost:8080/"
        },
        "id": "NsQlcuDp0B7R",
        "outputId": "425d0852-78c6-4cb3-b214-cea9983a8303"
      },
      "outputs": [
        {
          "name": "stderr",
          "output_type": "stream",
          "text": [
            "/usr/local/lib/python3.10/dist-packages/sklearn/datasets/_openml.py:968: FutureWarning: The default value of `parser` will change from `'liac-arff'` to `'auto'` in 1.4. You can set `parser='auto'` to silence this warning. Therefore, an `ImportError` will be raised from 1.4 if the dataset is dense and pandas is not installed. Note that the pandas parser may return different data types. See the Notes Section in fetch_openml's API doc for details.\n",
            "  warn(\n"
          ]
        }
      ],
      "source": [
        "# Mnist dataset of images 28*28 px = 784 px\n",
        "mnist = fetch_openml('mnist_784')"
      ]
    },
    {
      "cell_type": "code",
      "execution_count": null,
      "metadata": {
        "colab": {
          "base_uri": "https://localhost:8080/"
        },
        "id": "aSjbX2m-12c9",
        "outputId": "a3a8dbc9-664e-4b82-8e9f-4d2a8d368b69"
      },
      "outputs": [
        {
          "name": "stdout",
          "output_type": "stream",
          "text": [
            "<class 'sklearn.utils._bunch.Bunch'>\n",
            "(70000, 784) <class 'pandas.core.frame.DataFrame'>\n",
            "(70000,) <class 'pandas.core.series.Series'>\n"
          ]
        }
      ],
      "source": [
        "print(type(mnist))\n",
        "\n",
        "# Our Data as a pandas DF\n",
        "X = mnist.data\n",
        "Y = mnist.target\n",
        "\n",
        "print(X.shape, type(X))\n",
        "print(Y.shape, type(Y))"
      ]
    },
    {
      "cell_type": "code",
      "execution_count": null,
      "metadata": {
        "colab": {
          "base_uri": "https://localhost:8080/",
          "height": 255
        },
        "id": "viCRgmtW0t-Z",
        "outputId": "28e8d25d-4533-43e7-e52e-acb4420fd8b8"
      },
      "outputs": [
        {
          "data": {
            "text/html": [
              "\n",
              "  <div id=\"df-1f277eaa-68be-4310-bdaf-dfeb6f143107\" class=\"colab-df-container\">\n",
              "    <div>\n",
              "<style scoped>\n",
              "    .dataframe tbody tr th:only-of-type {\n",
              "        vertical-align: middle;\n",
              "    }\n",
              "\n",
              "    .dataframe tbody tr th {\n",
              "        vertical-align: top;\n",
              "    }\n",
              "\n",
              "    .dataframe thead th {\n",
              "        text-align: right;\n",
              "    }\n",
              "</style>\n",
              "<table border=\"1\" class=\"dataframe\">\n",
              "  <thead>\n",
              "    <tr style=\"text-align: right;\">\n",
              "      <th></th>\n",
              "      <th>pixel1</th>\n",
              "      <th>pixel2</th>\n",
              "      <th>pixel3</th>\n",
              "      <th>pixel4</th>\n",
              "      <th>pixel5</th>\n",
              "      <th>pixel6</th>\n",
              "      <th>pixel7</th>\n",
              "      <th>pixel8</th>\n",
              "      <th>pixel9</th>\n",
              "      <th>pixel10</th>\n",
              "      <th>...</th>\n",
              "      <th>pixel775</th>\n",
              "      <th>pixel776</th>\n",
              "      <th>pixel777</th>\n",
              "      <th>pixel778</th>\n",
              "      <th>pixel779</th>\n",
              "      <th>pixel780</th>\n",
              "      <th>pixel781</th>\n",
              "      <th>pixel782</th>\n",
              "      <th>pixel783</th>\n",
              "      <th>pixel784</th>\n",
              "    </tr>\n",
              "  </thead>\n",
              "  <tbody>\n",
              "    <tr>\n",
              "      <th>0</th>\n",
              "      <td>0.0</td>\n",
              "      <td>0.0</td>\n",
              "      <td>0.0</td>\n",
              "      <td>0.0</td>\n",
              "      <td>0.0</td>\n",
              "      <td>0.0</td>\n",
              "      <td>0.0</td>\n",
              "      <td>0.0</td>\n",
              "      <td>0.0</td>\n",
              "      <td>0.0</td>\n",
              "      <td>...</td>\n",
              "      <td>0.0</td>\n",
              "      <td>0.0</td>\n",
              "      <td>0.0</td>\n",
              "      <td>0.0</td>\n",
              "      <td>0.0</td>\n",
              "      <td>0.0</td>\n",
              "      <td>0.0</td>\n",
              "      <td>0.0</td>\n",
              "      <td>0.0</td>\n",
              "      <td>0.0</td>\n",
              "    </tr>\n",
              "    <tr>\n",
              "      <th>1</th>\n",
              "      <td>0.0</td>\n",
              "      <td>0.0</td>\n",
              "      <td>0.0</td>\n",
              "      <td>0.0</td>\n",
              "      <td>0.0</td>\n",
              "      <td>0.0</td>\n",
              "      <td>0.0</td>\n",
              "      <td>0.0</td>\n",
              "      <td>0.0</td>\n",
              "      <td>0.0</td>\n",
              "      <td>...</td>\n",
              "      <td>0.0</td>\n",
              "      <td>0.0</td>\n",
              "      <td>0.0</td>\n",
              "      <td>0.0</td>\n",
              "      <td>0.0</td>\n",
              "      <td>0.0</td>\n",
              "      <td>0.0</td>\n",
              "      <td>0.0</td>\n",
              "      <td>0.0</td>\n",
              "      <td>0.0</td>\n",
              "    </tr>\n",
              "    <tr>\n",
              "      <th>2</th>\n",
              "      <td>0.0</td>\n",
              "      <td>0.0</td>\n",
              "      <td>0.0</td>\n",
              "      <td>0.0</td>\n",
              "      <td>0.0</td>\n",
              "      <td>0.0</td>\n",
              "      <td>0.0</td>\n",
              "      <td>0.0</td>\n",
              "      <td>0.0</td>\n",
              "      <td>0.0</td>\n",
              "      <td>...</td>\n",
              "      <td>0.0</td>\n",
              "      <td>0.0</td>\n",
              "      <td>0.0</td>\n",
              "      <td>0.0</td>\n",
              "      <td>0.0</td>\n",
              "      <td>0.0</td>\n",
              "      <td>0.0</td>\n",
              "      <td>0.0</td>\n",
              "      <td>0.0</td>\n",
              "      <td>0.0</td>\n",
              "    </tr>\n",
              "    <tr>\n",
              "      <th>3</th>\n",
              "      <td>0.0</td>\n",
              "      <td>0.0</td>\n",
              "      <td>0.0</td>\n",
              "      <td>0.0</td>\n",
              "      <td>0.0</td>\n",
              "      <td>0.0</td>\n",
              "      <td>0.0</td>\n",
              "      <td>0.0</td>\n",
              "      <td>0.0</td>\n",
              "      <td>0.0</td>\n",
              "      <td>...</td>\n",
              "      <td>0.0</td>\n",
              "      <td>0.0</td>\n",
              "      <td>0.0</td>\n",
              "      <td>0.0</td>\n",
              "      <td>0.0</td>\n",
              "      <td>0.0</td>\n",
              "      <td>0.0</td>\n",
              "      <td>0.0</td>\n",
              "      <td>0.0</td>\n",
              "      <td>0.0</td>\n",
              "    </tr>\n",
              "    <tr>\n",
              "      <th>4</th>\n",
              "      <td>0.0</td>\n",
              "      <td>0.0</td>\n",
              "      <td>0.0</td>\n",
              "      <td>0.0</td>\n",
              "      <td>0.0</td>\n",
              "      <td>0.0</td>\n",
              "      <td>0.0</td>\n",
              "      <td>0.0</td>\n",
              "      <td>0.0</td>\n",
              "      <td>0.0</td>\n",
              "      <td>...</td>\n",
              "      <td>0.0</td>\n",
              "      <td>0.0</td>\n",
              "      <td>0.0</td>\n",
              "      <td>0.0</td>\n",
              "      <td>0.0</td>\n",
              "      <td>0.0</td>\n",
              "      <td>0.0</td>\n",
              "      <td>0.0</td>\n",
              "      <td>0.0</td>\n",
              "      <td>0.0</td>\n",
              "    </tr>\n",
              "  </tbody>\n",
              "</table>\n",
              "<p>5 rows × 784 columns</p>\n",
              "</div>\n",
              "    <div class=\"colab-df-buttons\">\n",
              "\n",
              "  <div class=\"colab-df-container\">\n",
              "    <button class=\"colab-df-convert\" onclick=\"convertToInteractive('df-1f277eaa-68be-4310-bdaf-dfeb6f143107')\"\n",
              "            title=\"Convert this dataframe to an interactive table.\"\n",
              "            style=\"display:none;\">\n",
              "\n",
              "  <svg xmlns=\"http://www.w3.org/2000/svg\" height=\"24px\" viewBox=\"0 -960 960 960\">\n",
              "    <path d=\"M120-120v-720h720v720H120Zm60-500h600v-160H180v160Zm220 220h160v-160H400v160Zm0 220h160v-160H400v160ZM180-400h160v-160H180v160Zm440 0h160v-160H620v160ZM180-180h160v-160H180v160Zm440 0h160v-160H620v160Z\"/>\n",
              "  </svg>\n",
              "    </button>\n",
              "\n",
              "  <style>\n",
              "    .colab-df-container {\n",
              "      display:flex;\n",
              "      gap: 12px;\n",
              "    }\n",
              "\n",
              "    .colab-df-convert {\n",
              "      background-color: #E8F0FE;\n",
              "      border: none;\n",
              "      border-radius: 50%;\n",
              "      cursor: pointer;\n",
              "      display: none;\n",
              "      fill: #1967D2;\n",
              "      height: 32px;\n",
              "      padding: 0 0 0 0;\n",
              "      width: 32px;\n",
              "    }\n",
              "\n",
              "    .colab-df-convert:hover {\n",
              "      background-color: #E2EBFA;\n",
              "      box-shadow: 0px 1px 2px rgba(60, 64, 67, 0.3), 0px 1px 3px 1px rgba(60, 64, 67, 0.15);\n",
              "      fill: #174EA6;\n",
              "    }\n",
              "\n",
              "    .colab-df-buttons div {\n",
              "      margin-bottom: 4px;\n",
              "    }\n",
              "\n",
              "    [theme=dark] .colab-df-convert {\n",
              "      background-color: #3B4455;\n",
              "      fill: #D2E3FC;\n",
              "    }\n",
              "\n",
              "    [theme=dark] .colab-df-convert:hover {\n",
              "      background-color: #434B5C;\n",
              "      box-shadow: 0px 1px 3px 1px rgba(0, 0, 0, 0.15);\n",
              "      filter: drop-shadow(0px 1px 2px rgba(0, 0, 0, 0.3));\n",
              "      fill: #FFFFFF;\n",
              "    }\n",
              "  </style>\n",
              "\n",
              "    <script>\n",
              "      const buttonEl =\n",
              "        document.querySelector('#df-1f277eaa-68be-4310-bdaf-dfeb6f143107 button.colab-df-convert');\n",
              "      buttonEl.style.display =\n",
              "        google.colab.kernel.accessAllowed ? 'block' : 'none';\n",
              "\n",
              "      async function convertToInteractive(key) {\n",
              "        const element = document.querySelector('#df-1f277eaa-68be-4310-bdaf-dfeb6f143107');\n",
              "        const dataTable =\n",
              "          await google.colab.kernel.invokeFunction('convertToInteractive',\n",
              "                                                    [key], {});\n",
              "        if (!dataTable) return;\n",
              "\n",
              "        const docLinkHtml = 'Like what you see? Visit the ' +\n",
              "          '<a target=\"_blank\" href=https://colab.research.google.com/notebooks/data_table.ipynb>data table notebook</a>'\n",
              "          + ' to learn more about interactive tables.';\n",
              "        element.innerHTML = '';\n",
              "        dataTable['output_type'] = 'display_data';\n",
              "        await google.colab.output.renderOutput(dataTable, element);\n",
              "        const docLink = document.createElement('div');\n",
              "        docLink.innerHTML = docLinkHtml;\n",
              "        element.appendChild(docLink);\n",
              "      }\n",
              "    </script>\n",
              "  </div>\n",
              "\n",
              "\n",
              "<div id=\"df-94d95672-46b9-4f31-928c-abe930413550\">\n",
              "  <button class=\"colab-df-quickchart\" onclick=\"quickchart('df-94d95672-46b9-4f31-928c-abe930413550')\"\n",
              "            title=\"Suggest charts.\"\n",
              "            style=\"display:none;\">\n",
              "\n",
              "<svg xmlns=\"http://www.w3.org/2000/svg\" height=\"24px\"viewBox=\"0 0 24 24\"\n",
              "     width=\"24px\">\n",
              "    <g>\n",
              "        <path d=\"M19 3H5c-1.1 0-2 .9-2 2v14c0 1.1.9 2 2 2h14c1.1 0 2-.9 2-2V5c0-1.1-.9-2-2-2zM9 17H7v-7h2v7zm4 0h-2V7h2v10zm4 0h-2v-4h2v4z\"/>\n",
              "    </g>\n",
              "</svg>\n",
              "  </button>\n",
              "\n",
              "<style>\n",
              "  .colab-df-quickchart {\n",
              "      --bg-color: #E8F0FE;\n",
              "      --fill-color: #1967D2;\n",
              "      --hover-bg-color: #E2EBFA;\n",
              "      --hover-fill-color: #174EA6;\n",
              "      --disabled-fill-color: #AAA;\n",
              "      --disabled-bg-color: #DDD;\n",
              "  }\n",
              "\n",
              "  [theme=dark] .colab-df-quickchart {\n",
              "      --bg-color: #3B4455;\n",
              "      --fill-color: #D2E3FC;\n",
              "      --hover-bg-color: #434B5C;\n",
              "      --hover-fill-color: #FFFFFF;\n",
              "      --disabled-bg-color: #3B4455;\n",
              "      --disabled-fill-color: #666;\n",
              "  }\n",
              "\n",
              "  .colab-df-quickchart {\n",
              "    background-color: var(--bg-color);\n",
              "    border: none;\n",
              "    border-radius: 50%;\n",
              "    cursor: pointer;\n",
              "    display: none;\n",
              "    fill: var(--fill-color);\n",
              "    height: 32px;\n",
              "    padding: 0;\n",
              "    width: 32px;\n",
              "  }\n",
              "\n",
              "  .colab-df-quickchart:hover {\n",
              "    background-color: var(--hover-bg-color);\n",
              "    box-shadow: 0 1px 2px rgba(60, 64, 67, 0.3), 0 1px 3px 1px rgba(60, 64, 67, 0.15);\n",
              "    fill: var(--button-hover-fill-color);\n",
              "  }\n",
              "\n",
              "  .colab-df-quickchart-complete:disabled,\n",
              "  .colab-df-quickchart-complete:disabled:hover {\n",
              "    background-color: var(--disabled-bg-color);\n",
              "    fill: var(--disabled-fill-color);\n",
              "    box-shadow: none;\n",
              "  }\n",
              "\n",
              "  .colab-df-spinner {\n",
              "    border: 2px solid var(--fill-color);\n",
              "    border-color: transparent;\n",
              "    border-bottom-color: var(--fill-color);\n",
              "    animation:\n",
              "      spin 1s steps(1) infinite;\n",
              "  }\n",
              "\n",
              "  @keyframes spin {\n",
              "    0% {\n",
              "      border-color: transparent;\n",
              "      border-bottom-color: var(--fill-color);\n",
              "      border-left-color: var(--fill-color);\n",
              "    }\n",
              "    20% {\n",
              "      border-color: transparent;\n",
              "      border-left-color: var(--fill-color);\n",
              "      border-top-color: var(--fill-color);\n",
              "    }\n",
              "    30% {\n",
              "      border-color: transparent;\n",
              "      border-left-color: var(--fill-color);\n",
              "      border-top-color: var(--fill-color);\n",
              "      border-right-color: var(--fill-color);\n",
              "    }\n",
              "    40% {\n",
              "      border-color: transparent;\n",
              "      border-right-color: var(--fill-color);\n",
              "      border-top-color: var(--fill-color);\n",
              "    }\n",
              "    60% {\n",
              "      border-color: transparent;\n",
              "      border-right-color: var(--fill-color);\n",
              "    }\n",
              "    80% {\n",
              "      border-color: transparent;\n",
              "      border-right-color: var(--fill-color);\n",
              "      border-bottom-color: var(--fill-color);\n",
              "    }\n",
              "    90% {\n",
              "      border-color: transparent;\n",
              "      border-bottom-color: var(--fill-color);\n",
              "    }\n",
              "  }\n",
              "</style>\n",
              "\n",
              "  <script>\n",
              "    async function quickchart(key) {\n",
              "      const quickchartButtonEl =\n",
              "        document.querySelector('#' + key + ' button');\n",
              "      quickchartButtonEl.disabled = true;  // To prevent multiple clicks.\n",
              "      quickchartButtonEl.classList.add('colab-df-spinner');\n",
              "      try {\n",
              "        const charts = await google.colab.kernel.invokeFunction(\n",
              "            'suggestCharts', [key], {});\n",
              "      } catch (error) {\n",
              "        console.error('Error during call to suggestCharts:', error);\n",
              "      }\n",
              "      quickchartButtonEl.classList.remove('colab-df-spinner');\n",
              "      quickchartButtonEl.classList.add('colab-df-quickchart-complete');\n",
              "    }\n",
              "    (() => {\n",
              "      let quickchartButtonEl =\n",
              "        document.querySelector('#df-94d95672-46b9-4f31-928c-abe930413550 button');\n",
              "      quickchartButtonEl.style.display =\n",
              "        google.colab.kernel.accessAllowed ? 'block' : 'none';\n",
              "    })();\n",
              "  </script>\n",
              "</div>\n",
              "    </div>\n",
              "  </div>\n"
            ],
            "text/plain": [
              "   pixel1  pixel2  pixel3  pixel4  pixel5  pixel6  pixel7  pixel8  pixel9  \\\n",
              "0     0.0     0.0     0.0     0.0     0.0     0.0     0.0     0.0     0.0   \n",
              "1     0.0     0.0     0.0     0.0     0.0     0.0     0.0     0.0     0.0   \n",
              "2     0.0     0.0     0.0     0.0     0.0     0.0     0.0     0.0     0.0   \n",
              "3     0.0     0.0     0.0     0.0     0.0     0.0     0.0     0.0     0.0   \n",
              "4     0.0     0.0     0.0     0.0     0.0     0.0     0.0     0.0     0.0   \n",
              "\n",
              "   pixel10  ...  pixel775  pixel776  pixel777  pixel778  pixel779  pixel780  \\\n",
              "0      0.0  ...       0.0       0.0       0.0       0.0       0.0       0.0   \n",
              "1      0.0  ...       0.0       0.0       0.0       0.0       0.0       0.0   \n",
              "2      0.0  ...       0.0       0.0       0.0       0.0       0.0       0.0   \n",
              "3      0.0  ...       0.0       0.0       0.0       0.0       0.0       0.0   \n",
              "4      0.0  ...       0.0       0.0       0.0       0.0       0.0       0.0   \n",
              "\n",
              "   pixel781  pixel782  pixel783  pixel784  \n",
              "0       0.0       0.0       0.0       0.0  \n",
              "1       0.0       0.0       0.0       0.0  \n",
              "2       0.0       0.0       0.0       0.0  \n",
              "3       0.0       0.0       0.0       0.0  \n",
              "4       0.0       0.0       0.0       0.0  \n",
              "\n",
              "[5 rows x 784 columns]"
            ]
          },
          "execution_count": 22,
          "metadata": {},
          "output_type": "execute_result"
        }
      ],
      "source": [
        "X.head()"
      ]
    },
    {
      "cell_type": "code",
      "execution_count": null,
      "metadata": {
        "colab": {
          "base_uri": "https://localhost:8080/"
        },
        "id": "z71J6cc14DjC",
        "outputId": "ae8fa242-2c36-40cf-fb3b-1573b6a10603"
      },
      "outputs": [
        {
          "data": {
            "text/plain": [
              "0    5\n",
              "1    0\n",
              "2    4\n",
              "3    1\n",
              "4    9\n",
              "Name: class, dtype: category\n",
              "Categories (10, object): ['0', '1', '2', '3', ..., '6', '7', '8', '9']"
            ]
          },
          "execution_count": 23,
          "metadata": {},
          "output_type": "execute_result"
        }
      ],
      "source": [
        "Y.head()"
      ]
    },
    {
      "cell_type": "code",
      "execution_count": null,
      "metadata": {
        "colab": {
          "base_uri": "https://localhost:8080/"
        },
        "id": "DJyY0Hmh4GHg",
        "outputId": "03fba8b0-b303-4314-aedd-c19349e9127b"
      },
      "outputs": [
        {
          "name": "stdout",
          "output_type": "stream",
          "text": [
            "(70000, 784) <class 'numpy.ndarray'>\n",
            "(70000,) <class 'numpy.ndarray'>\n"
          ]
        }
      ],
      "source": [
        "# Convert X and Y to NumPy arrays so we can us them\n",
        "X = X.to_numpy()\n",
        "Y = Y.to_numpy()\n",
        "\n",
        "print(X.shape, type(X))\n",
        "print(Y.shape, type(Y))"
      ]
    },
    {
      "cell_type": "code",
      "execution_count": null,
      "metadata": {
        "colab": {
          "base_uri": "https://localhost:8080/"
        },
        "id": "9P4O6BDu4qYs",
        "outputId": "eae12bb2-c29f-41f4-a32c-14ae616d7772"
      },
      "outputs": [
        {
          "name": "stdout",
          "output_type": "stream",
          "text": [
            "<class 'str'>\n",
            "<class 'numpy.int64'>\n"
          ]
        }
      ],
      "source": [
        "# We see that out target is not an integer so we need to convert it\n",
        "print(type(Y[0]))\n",
        "\n",
        "Y = np.asarray([eval(i) for i in Y])\n",
        "\n",
        "print(type(Y[0]))"
      ]
    },
    {
      "cell_type": "markdown",
      "metadata": {
        "id": "h_-nSyDd7kcE"
      },
      "source": [
        "### Exploratory Data Analysis\n",
        "Displaying the matrix X is not useful at all, they are only pixels values. Instead what we can do is to reconstruct the images starting from those pixels."
      ]
    },
    {
      "cell_type": "code",
      "execution_count": null,
      "metadata": {
        "colab": {
          "base_uri": "https://localhost:8080/",
          "height": 441
        },
        "id": "gtJDC-EB4wtC",
        "outputId": "39c06a58-ca04-461c-d0fa-f4bda3c479e2"
      },
      "outputs": [
        {
          "name": "stdout",
          "output_type": "stream",
          "text": [
            "5\n"
          ]
        },
        {
          "data": {
            "text/plain": [
              "(-0.5, 27.5, 27.5, -0.5)"
            ]
          },
          "execution_count": 8,
          "metadata": {},
          "output_type": "execute_result"
        },
        {
          "data": {
            "image/png": "[encoded data removed]",
            "text/plain": [
              "<Figure size 640x480 with 1 Axes>"
            ]
          },
          "metadata": {},
          "output_type": "display_data"
        }
      ],
      "source": [
        "import matplotlib.pyplot as plt\n",
        "\n",
        "i = 0\n",
        "# reshaping and reconstructiong the image\n",
        "picture = np.reshape(X[i,:], (28,28))\n",
        "\n",
        "print(Y[i])\n",
        "fig, ax = plt.subplots()\n",
        "ax.imshow(picture, cmap=plt.cm.gray)\n",
        "ax.axis('off')"
      ]
    },
    {
      "cell_type": "code",
      "execution_count": null,
      "metadata": {
        "colab": {
          "base_uri": "https://localhost:8080/",
          "height": 598
        },
        "id": "FQ7bauXFyZ8P",
        "outputId": "db3aeefe-a317-4d0d-d43d-02258429ec61"
      },
      "outputs": [
        {
          "data": {
            "image/png": "[encoded data removed]",
            "text/plain": [
              "<Figure size 700x700 with 9 Axes>"
            ]
          },
          "metadata": {},
          "output_type": "display_data"
        }
      ],
      "source": [
        "# creating small multiple\n",
        "fig, axs = plt.subplots(nrows=3,ncols=3,figsize=(7,7))\n",
        "i = 1000\n",
        "for ax in axs.reshape(-1):\n",
        "  ax.set_title(\"Y = %d\" % Y[i])\n",
        "  picture = np.reshape(X[i,:],(28,28))\n",
        "  ax.imshow(picture, cmap=plt.cm.gray)\n",
        "  ax.axis('off')\n",
        "  i += 1"
      ]
    },
    {
      "cell_type": "code",
      "execution_count": null,
      "metadata": {
        "colab": {
          "base_uri": "https://localhost:8080/"
        },
        "id": "HkZI29_AylhK",
        "outputId": "e0c0111b-a98e-4611-dcbf-08e4ddeb08fa"
      },
      "outputs": [
        {
          "name": "stdout",
          "output_type": "stream",
          "text": [
            "255.0\n",
            "0.0\n"
          ]
        }
      ],
      "source": [
        "\"\"\"\n",
        "print the max and min value of X. We know each pixel of a grayscale image is\n",
        "formed by pixels of 8 bits with value in 0-255\n",
        "\n",
        "\"\"\"\n",
        "print(np.max(X))\n",
        "print(np.min(X))"
      ]
    },
    {
      "cell_type": "code",
      "execution_count": null,
      "metadata": {
        "colab": {
          "base_uri": "https://localhost:8080/"
        },
        "id": "VRh48xQXzwQT",
        "outputId": "eb13798f-a3f6-4efa-bf42-b56e47a8dc12"
      },
      "outputs": [
        {
          "name": "stdout",
          "output_type": "stream",
          "text": [
            "6903\n",
            "7877\n",
            "6990\n",
            "7141\n",
            "6824\n",
            "6313\n",
            "6876\n",
            "7293\n",
            "6825\n",
            "6958\n"
          ]
        }
      ],
      "source": [
        "# Print the number of samples for each class (digits 0-9) -> dataset is balanced\n",
        "\n",
        "for i in range(0,10):\n",
        "  tmp = sum(Y == i)\n",
        "  print(tmp)"
      ]
    },
    {
      "cell_type": "markdown",
      "metadata": {
        "id": "hR18Jlfg0Yz6"
      },
      "source": [
        "Let's first analyse a simpler problem. The matching of digits 0 and 1.\n",
        "So, we convert the multi-class problem into a binary classification task.\n",
        "- All samples with the label 'dn' (digit 0) are set to -1 (negative class).\n",
        "- All samples with the label 'dp' (digit 1) are set to +1 (positive class).\n",
        "- 'mask' is used to filter the relevant samples.\n",
        "- 'X' and 'Y' are updated to contain only the selected samples and binary labels.\n",
        "\n",
        "I have to assign before the digit negative and then the one positive, otherwise\n",
        "there's the risk that all my values in y becomes -1 (when 0 is first digit)\n"
      ]
    },
    {
      "cell_type": "code",
      "execution_count": null,
      "metadata": {
        "id": "WktldsA3zz7D"
      },
      "outputs": [],
      "source": [
        "dn = 0\n",
        "dp = 1\n",
        "mask = (Y == dn) | (Y == dp)\n",
        "X = X[mask,:]\n",
        "Y = Y[mask]\n",
        "Y[Y == dn] = -1 # negative class\n",
        "Y[Y == dp] = +1 # positive class"
      ]
    },
    {
      "cell_type": "code",
      "execution_count": null,
      "metadata": {
        "colab": {
          "base_uri": "https://localhost:8080/"
        },
        "id": "eMrqhkMm2A_D",
        "outputId": "2a3041fb-2284-4301-ffb7-7d5cc1fec887"
      },
      "outputs": [
        {
          "data": {
            "text/plain": [
              "(14780, 784)"
            ]
          },
          "execution_count": 29,
          "metadata": {},
          "output_type": "execute_result"
        }
      ],
      "source": [
        "X.shape"
      ]
    },
    {
      "cell_type": "code",
      "execution_count": null,
      "metadata": {
        "colab": {
          "base_uri": "https://localhost:8080/"
        },
        "id": "QA2ByuG-2BTC",
        "outputId": "8b2ee7a7-3a0a-42fa-94f3-76953e07062f"
      },
      "outputs": [
        {
          "data": {
            "text/plain": [
              "(14780,)"
            ]
          },
          "execution_count": 30,
          "metadata": {},
          "output_type": "execute_result"
        }
      ],
      "source": [
        "Y.shape"
      ]
    },
    {
      "cell_type": "markdown",
      "metadata": {
        "id": "NCpf90uO3JUl"
      },
      "source": [
        "Since I have a lot of data and since the complexity is O(n**) what I can do is\n",
        "subsamplig the data. <br>\n",
        "\n",
        "I use more data for testing because it's cheaper than learning."
      ]
    },
    {
      "cell_type": "code",
      "execution_count": null,
      "metadata": {
        "colab": {
          "base_uri": "https://localhost:8080/"
        },
        "id": "dtt8wc5N2GRq",
        "outputId": "fb970f13-84f2-48cb-9c1f-ad77f643559c"
      },
      "outputs": [
        {
          "name": "stdout",
          "output_type": "stream",
          "text": [
            "(100, 784)\n",
            "(100,)\n",
            "(1000, 784)\n",
            "(1000,)\n"
          ]
        }
      ],
      "source": [
        "from random import sample\n",
        "\n",
        "# Data used for training\n",
        "n = 100\n",
        "# Data used for testing\n",
        "nt = 1000\n",
        "\n",
        "# Randomly sample n+nt data points from the dataset\n",
        "mask = np.asarray(sample(range(X.shape[0]),n+nt))\n",
        "\n",
        "# Split the data into training and testing sets\n",
        "X = X[mask,:]\n",
        "Y = Y[mask]\n",
        "\n",
        "# Create the testing set (Xt and Yt) using samples from n to n+nt\n",
        "mask = range(n,n+nt)\n",
        "Xt = X[mask,]\n",
        "Yt = Y[mask]\n",
        "\n",
        "# Create the testing set (Xt and Yt) using samples from n to n+nt\n",
        "mask = range(0,n)\n",
        "X = X[mask,]\n",
        "Y = Y[mask]\n",
        "\n",
        "print(X.shape)\n",
        "print(Y.shape)\n",
        "print(Xt.shape)\n",
        "print(Yt.shape)"
      ]
    },
    {
      "cell_type": "markdown",
      "metadata": {
        "id": "k9lNbwcb7BPC"
      },
      "source": [
        "### Confusion Matrix for Model Evaluation\n",
        "\n",
        "A confusion matrix is a fundamental tool for evaluating the performance of classification models. It provides a summary of the model's predictions compared to the true class labels.\n",
        "\n",
        "In the context of binary classification (as in this code), the confusion matrix typically has four values:\n",
        "\n",
        "- True Positives (TP): The number of samples that were correctly predicted as positive (in our case, digit 1).\n",
        "\n",
        "- True Negatives (TN): The number of samples that were correctly predicted as negative (in our case, digit 0).\n",
        "\n",
        "- False Positives (FP): The number of samples that were incorrectly predicted as positive when they were actually negative.\n",
        "\n",
        "- False Negatives (FN): The number of samples that were incorrectly predicted as negative when they were actually positive.\n",
        "\n",
        "The confusion matrix is typically presented in the following format:"
      ]
    },
    {
      "cell_type": "markdown",
      "metadata": {
        "id": "6swMlyoMgtyW"
      },
      "source": [
        "![image.png](data:image/png;base64,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)"
      ]
    },
    {
      "cell_type": "markdown",
      "metadata": {
        "id": "7lJTE23Lg4go"
      },
      "source": [
        "The main diagonal (from top-left to bottom-right) contains the correct predictions (TP and TN).<br>\n",
        "Off-diagonal elements represent incorrect predictions (FP and FN).\n",
        "By analyzing the values in the confusion matrix, you can compute various evaluation metrics like accuracy, precision, recall, and F1 score, which provide insights into the model's performance.\n",
        "\n",
        "In our code, after making predictions (Yp) and comparing them to true labels (Yt), we use the confusion matrix to assess the model's ability to correctly classify digits 0 and 1."
      ]
    },
    {
      "cell_type": "markdown",
      "metadata": {
        "id": "3IEF_5iLBtdF"
      },
      "source": [
        "### Ridge Regression\n",
        "\n",
        "The objective function to minimize here is:\n",
        "\n",
        "$$||y - Xw||^2_2 + alpha * ||w||^2_2$$"
      ]
    },
    {
      "cell_type": "code",
      "execution_count": null,
      "metadata": {
        "colab": {
          "base_uri": "https://localhost:8080/"
        },
        "id": "CaczPuhD4b87",
        "outputId": "d452731b-ceef-4955-ca98-ab55de4d09b3"
      },
      "outputs": [
        {
          "name": "stdout",
          "output_type": "stream",
          "text": [
            "0.002\n",
            "[[478   0]\n",
            " [  2 520]]\n"
          ]
        }
      ],
      "source": [
        "# KISS (Keep It Simple Stupid) principle encourages simplicity.\n",
        "from sklearn.linear_model import Ridge\n",
        "from sklearn.metrics import confusion_matrix\n",
        "\n",
        "alpha = 1 # Define the regularization strength\n",
        "M = Ridge(alpha = alpha) # Create a Ridge regression model\n",
        "\n",
        "# fitting the model\n",
        "M.fit(X,Y)\n",
        "\n",
        "# Make predictions and convert them to binary classes (+1 or -1)\n",
        "Yp = M.predict(Xt)\n",
        "\n",
        "# Watch out for errors here!! Assign the correct class\n",
        "Yp[Yp >= 0] = +1\n",
        "Yp[Yp < 0]  = -1\n",
        "\n",
        "# Computing the error\n",
        "err = np.mean(Yp * Yt <= 0)\n",
        "print(err)\n",
        "print(confusion_matrix(Yt,Yp))"
      ]
    },
    {
      "cell_type": "markdown",
      "metadata": {
        "id": "ewe3LHJhpGJm"
      },
      "source": [
        "I want to see now the what is the behaviour of my model. <br>\n",
        "In Ridge regression, the model f(x) is a linear combination of input features x.\n",
        "$$f(x) = w x + b$$\n",
        "- If f(x)>0 then the predicted class y is +1\n",
        "- If f(x)<0 then the predicted class y is -1\n",
        "\n",
        "So what is the meaning of 'w'?\n",
        "\n",
        "In the context of image classification:\n",
        "- Each pixel value in the input image (x) lies in the range [0, 255].\n",
        "- The learned weight 'w' in the model represents the importance of each pixel.\n",
        "- *If 'w' is greater than 0, it means that pixel contributes to predicting class +1 (digit 1)*.\n",
        "- *If 'w' is less than 0, it contributes to predicting class -1 (digit 0)*.\n",
        "\n",
        "Here, we extract the learned weights 'w' from the Ridge regression model and reshape them to the dimensions of a 28x28 image, representing the importance of each pixel in the decision. <br>\n",
        "We visualize this weight image using a grayscale colormap to understand which pixels contribute to classifying digits 0 and 1.\n",
        "\n",
        "- Black color represent negative value, grey the zero and white the positive ones.\n",
        "\n",
        "The black points are more concentrated on the border, whereas the white ones in the center. So if there are elements in the center is a 1, if there are elements in the border is 0."
      ]
    },
    {
      "cell_type": "code",
      "execution_count": 38,
      "metadata": {
        "colab": {
          "base_uri": "https://localhost:8080/",
          "height": 426
        },
        "id": "CRoIdvSH5TbD",
        "outputId": "e14ed14d-6943-4a25-c8a1-269aab076d81"
      },
      "outputs": [
        {
          "data": {
            "text/plain": [
              "<matplotlib.colorbar.Colorbar at 0x7927b34ff400>"
            ]
          },
          "execution_count": 38,
          "metadata": {},
          "output_type": "execute_result"
        },
        {
          "data": {
            "image/png": "[encoded data removed]",
            "text/plain": [
              "<Figure size 640x480 with 2 Axes>"
            ]
          },
          "metadata": {},
          "output_type": "display_data"
        }
      ],
      "source": [
        "# extract the weights from the Ridge regression model I\n",
        "w = M.coef_\n",
        "\n",
        "picture = np.reshape(w,(28,28))\n",
        "fig, ax = plt.subplots()\n",
        "plt.imshow(picture, cmap=plt.cm.gray)\n",
        "ax.axis('off')\n",
        "plt.colorbar()\n",
        "# print(w)"
      ]
    },
    {
      "cell_type": "markdown",
      "metadata": {
        "id": "j_L7nFyLBYiB"
      },
      "source": [
        "### Lasso\n",
        "\n",
        "Now we use Lasso regression which is a linear regression technique that includes L1 regularization.\n",
        "\n",
        "$$(1 / (2 * n_samples)) * ||y - Xw||^2_2 + alpha * ||w||_1$$"
      ]
    },
    {
      "cell_type": "code",
      "execution_count": 56,
      "metadata": {
        "colab": {
          "base_uri": "https://localhost:8080/"
        },
        "id": "WIPLUdEeslGM",
        "outputId": "4c7ff0ff-4413-4c5f-f836-aee3224ae697"
      },
      "outputs": [
        {
          "name": "stdout",
          "output_type": "stream",
          "text": [
            "0.014\n",
            "[[472   6]\n",
            " [  8 514]]\n"
          ]
        }
      ],
      "source": [
        "from sklearn.linear_model import Lasso\n",
        "\n",
        "alpha = 100 # Define the regularization strength\n",
        "\n",
        "M = Lasso(alpha = alpha)\n",
        "\n",
        "# fitting the model\n",
        "M.fit(X,Y)\n",
        "\n",
        "# Convert predictions to binary classes (+1 or -1)\n",
        "Yp = M.predict(Xt)\n",
        "Yp[Yp >= 0] = +1\n",
        "Yp[Yp < 0]  = -1\n",
        "\n",
        "err = np.mean(Yp * Yt <= 0)\n",
        "print(err)\n",
        "print(confusion_matrix(Yt,Yp))"
      ]
    },
    {
      "cell_type": "markdown",
      "metadata": {
        "id": "_JZOYit_C4RI"
      },
      "source": [
        "Very few elements of 'w' are different from 0. Now the model check if there are pixel in the middle then it's classified as one otherwise as zero. <br>\n",
        "\n",
        "Try to change alpha to see the effect change and to have a more sparse or not solution."
      ]
    },
    {
      "cell_type": "code",
      "execution_count": 57,
      "metadata": {
        "colab": {
          "base_uri": "https://localhost:8080/",
          "height": 432
        },
        "id": "lpFWbKVWCYXL",
        "outputId": "fbb0ac2a-6a0e-4bcf-8fae-108603a88442"
      },
      "outputs": [
        {
          "data": {
            "text/plain": [
              "<matplotlib.colorbar.Colorbar at 0x7927a72424d0>"
            ]
          },
          "execution_count": 57,
          "metadata": {},
          "output_type": "execute_result"
        },
        {
          "data": {
            "image/png": "[encoded data removed]",
            "text/plain": [
              "<Figure size 640x480 with 2 Axes>"
            ]
          },
          "metadata": {},
          "output_type": "display_data"
        }
      ],
      "source": [
        "# extract the weights from the Ridge regression model I\n",
        "w = M.coef_\n",
        "\n",
        "picture = np.reshape(w,(28,28))\n",
        "fig, ax = plt.subplots()\n",
        "plt.imshow(picture, cmap=plt.cm.gray)\n",
        "ax.axis('off')\n",
        "plt.colorbar()\n",
        "# print(w)"
      ]
    }
  ],
  "metadata": {
    "colab": {
      "authorship_tag": "ABX9TyMVRd+/4+AeNTs2nkLwnpdc",
      "include_colab_link": true,
      "provenance": []
    },
    "kernelspec": {
      "display_name": "Python 3",
      "name": "python3"
    },
    "language_info": {
      "name": "python"
    }
  },
  "nbformat": 4,
  "nbformat_minor": 0
}
