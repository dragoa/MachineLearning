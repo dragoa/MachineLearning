{
  "nbformat": 4,
  "nbformat_minor": 0,
  "metadata": {
    "colab": {
      "provenance": [],
      "gpuType": "T4",
      "include_colab_link": true
    },
    "kernelspec": {
      "name": "python3",
      "display_name": "Python 3"
    },
    "language_info": {
      "name": "python"
    },
    "accelerator": "GPU"
  },
  "cells": [
    {
      "cell_type": "markdown",
      "metadata": {
        "id": "view-in-github",
        "colab_type": "text"
      },
      "source": [
        "<a href=\"https://colab.research.google.com/github/dragoa/MachineLearning/blob/NLP/NLP/NLP%20with%20Transformers/Emotion_detector.ipynb\" target=\"_parent\"><img src=\"https://colab.research.google.com/assets/colab-badge.svg\" alt=\"Open In Colab\"/></a>"
      ]
    },
    {
      "cell_type": "code",
      "execution_count": 1,
      "metadata": {
        "colab": {
          "base_uri": "https://localhost:8080/"
        },
        "id": "5seDB53E6_hQ",
        "outputId": "e8cb44fa-9fa5-4c56-c583-30ea99e3dd58",
        "ExecuteTime": {
          "end_time": "2024-02-25T22:04:12.392688900Z",
          "start_time": "2024-02-25T22:04:06.355257300Z"
        }
      },
      "outputs": [
        {
          "output_type": "stream",
          "name": "stdout",
          "text": [
            "Requirement already satisfied: transformers in /usr/local/lib/python3.10/dist-packages (4.37.2)\n",
            "Requirement already satisfied: datasets in /usr/local/lib/python3.10/dist-packages (2.17.1)\n",
            "Requirement already satisfied: filelock in /usr/local/lib/python3.10/dist-packages (from transformers) (3.13.1)\n",
            "Requirement already satisfied: huggingface-hub<1.0,>=0.19.3 in /usr/local/lib/python3.10/dist-packages (from transformers) (0.20.3)\n",
            "Requirement already satisfied: numpy>=1.17 in /usr/local/lib/python3.10/dist-packages (from transformers) (1.25.2)\n",
            "Requirement already satisfied: packaging>=20.0 in /usr/local/lib/python3.10/dist-packages (from transformers) (23.2)\n",
            "Requirement already satisfied: pyyaml>=5.1 in /usr/local/lib/python3.10/dist-packages (from transformers) (6.0.1)\n",
            "Requirement already satisfied: regex!=2019.12.17 in /usr/local/lib/python3.10/dist-packages (from transformers) (2023.12.25)\n",
            "Requirement already satisfied: requests in /usr/local/lib/python3.10/dist-packages (from transformers) (2.31.0)\n",
            "Requirement already satisfied: tokenizers<0.19,>=0.14 in /usr/local/lib/python3.10/dist-packages (from transformers) (0.15.2)\n",
            "Requirement already satisfied: safetensors>=0.4.1 in /usr/local/lib/python3.10/dist-packages (from transformers) (0.4.2)\n",
            "Requirement already satisfied: tqdm>=4.27 in /usr/local/lib/python3.10/dist-packages (from transformers) (4.66.2)\n",
            "Requirement already satisfied: pyarrow>=12.0.0 in /usr/local/lib/python3.10/dist-packages (from datasets) (14.0.2)\n",
            "Requirement already satisfied: pyarrow-hotfix in /usr/local/lib/python3.10/dist-packages (from datasets) (0.6)\n",
            "Requirement already satisfied: dill<0.3.9,>=0.3.0 in /usr/local/lib/python3.10/dist-packages (from datasets) (0.3.8)\n",
            "Requirement already satisfied: pandas in /usr/local/lib/python3.10/dist-packages (from datasets) (1.5.3)\n",
            "Requirement already satisfied: xxhash in /usr/local/lib/python3.10/dist-packages (from datasets) (3.4.1)\n",
            "Requirement already satisfied: multiprocess in /usr/local/lib/python3.10/dist-packages (from datasets) (0.70.16)\n",
            "Requirement already satisfied: fsspec[http]<=2023.10.0,>=2023.1.0 in /usr/local/lib/python3.10/dist-packages (from datasets) (2023.6.0)\n",
            "Requirement already satisfied: aiohttp in /usr/local/lib/python3.10/dist-packages (from datasets) (3.9.3)\n",
            "Requirement already satisfied: aiosignal>=1.1.2 in /usr/local/lib/python3.10/dist-packages (from aiohttp->datasets) (1.3.1)\n",
            "Requirement already satisfied: attrs>=17.3.0 in /usr/local/lib/python3.10/dist-packages (from aiohttp->datasets) (23.2.0)\n",
            "Requirement already satisfied: frozenlist>=1.1.1 in /usr/local/lib/python3.10/dist-packages (from aiohttp->datasets) (1.4.1)\n",
            "Requirement already satisfied: multidict<7.0,>=4.5 in /usr/local/lib/python3.10/dist-packages (from aiohttp->datasets) (6.0.5)\n",
            "Requirement already satisfied: yarl<2.0,>=1.0 in /usr/local/lib/python3.10/dist-packages (from aiohttp->datasets) (1.9.4)\n",
            "Requirement already satisfied: async-timeout<5.0,>=4.0 in /usr/local/lib/python3.10/dist-packages (from aiohttp->datasets) (4.0.3)\n",
            "Requirement already satisfied: typing-extensions>=3.7.4.3 in /usr/local/lib/python3.10/dist-packages (from huggingface-hub<1.0,>=0.19.3->transformers) (4.9.0)\n",
            "Requirement already satisfied: charset-normalizer<4,>=2 in /usr/local/lib/python3.10/dist-packages (from requests->transformers) (3.3.2)\n",
            "Requirement already satisfied: idna<4,>=2.5 in /usr/local/lib/python3.10/dist-packages (from requests->transformers) (3.6)\n",
            "Requirement already satisfied: urllib3<3,>=1.21.1 in /usr/local/lib/python3.10/dist-packages (from requests->transformers) (2.0.7)\n",
            "Requirement already satisfied: certifi>=2017.4.17 in /usr/local/lib/python3.10/dist-packages (from requests->transformers) (2024.2.2)\n",
            "Requirement already satisfied: python-dateutil>=2.8.1 in /usr/local/lib/python3.10/dist-packages (from pandas->datasets) (2.8.2)\n",
            "Requirement already satisfied: pytz>=2020.1 in /usr/local/lib/python3.10/dist-packages (from pandas->datasets) (2023.4)\n",
            "Requirement already satisfied: six>=1.5 in /usr/local/lib/python3.10/dist-packages (from python-dateutil>=2.8.1->pandas->datasets) (1.16.0)\n"
          ]
        }
      ],
      "source": [
        "# Transformers installation\n",
        "! pip install transformers datasets\n",
        "# To install from source instead of the last release, comment the command above and uncomment the following one.\n",
        "# ! pip install git+https://github.com/huggingface/transformers.git"
      ]
    },
    {
      "cell_type": "markdown",
      "source": [
        "# Text Classification"
      ],
      "metadata": {
        "id": "7wUiljCDrqik"
      }
    },
    {
      "cell_type": "markdown",
      "source": [
        "A common type of text classification is sentiment analysis, which (as we saw in <<chapter_introduction>>) aims to identify the polarity of a given text. For example, a company like Tesla might analyze Twitter posts like the one in <<tesla-tweet>> to determine whether people like its new car roofs or not."
      ],
      "metadata": {
        "id": "SeucW_vbrx9B"
      }
    },
    {
      "cell_type": "markdown",
      "source": [
        "<img alt=\"Tesla Tweet\" width=\"500\" caption=\"Analyzing Twitter content can yield useful feedback from customers (courtesy of Aditya Veluri)\" src=\"images/chapter02_tweet.png\" id=\"tesla-tweet\"/>"
      ],
      "metadata": {
        "id": "EjAcr0xer1lq"
      }
    },
    {
      "cell_type": "markdown",
      "source": [
        "<img alt=\"Hugging Face Pipeline\" caption=\"A typical pipeline for training transformer models with the image:images/logo.png[hf,13,13] Datasets, image:images/logo.png[hf,13,13] Tokenizers, and image:images/logo.png[hf,13,13] Transformers libraries\" src=\"images/chapter02_hf-libraries.png\" id=\"hf-libraries\"/>"
      ],
      "metadata": {
        "id": "jLbjlBrnt_hA"
      }
    },
    {
      "cell_type": "markdown",
      "source": [
        "## The Dataset"
      ],
      "metadata": {
        "id": "ZGZ_Yni8t0Qx"
      }
    },
    {
      "cell_type": "markdown",
      "source": [
        "Building an **emotion detector** using a dataset from an article that explored how emotions are represented in English Twitter messages.footnote:[E. Saravia et al., \"CARER: Contextualized Affect Representations for Emotion Recognition,\" Proceedings of the 2018 Conference on Empirical Methods in Natural Language Processing (Oct–Nov 2018): 3687–3697, http://dx.doi.org/10.18653/v1/D18-1404.]\n",
        "\n",
        "Credit : Natural Language Processing with Transformers: Building Language Applications with Hugging Face, https://books.google.ch/books?id=7hhyzgEACAAJ"
      ],
      "metadata": {
        "id": "R8FQblLst6T6"
      }
    },
    {
      "cell_type": "code",
      "source": [
        "from datasets import list_datasets\n",
        "# list of all available datasets\n",
        "list_datasets()"
      ],
      "metadata": {
        "id": "zk62dUAn7PiA",
        "ExecuteTime": {
          "end_time": "2024-02-25T22:04:35.116074900Z",
          "start_time": "2024-02-25T22:04:12.395847800Z"
        },
        "colab": {
          "base_uri": "https://localhost:8080/"
        },
        "outputId": "2a015a07-0f88-40db-c7ca-5508db9d03b8"
      },
      "execution_count": 2,
      "outputs": [
        {
          "output_type": "stream",
          "name": "stderr",
          "text": [
            "<ipython-input-2-8e5c852f2c17>:3: FutureWarning: list_datasets is deprecated and will be removed in the next major version of datasets. Use 'huggingface_hub.list_datasets' instead.\n",
            "  list_datasets()\n",
            "/usr/local/lib/python3.10/dist-packages/huggingface_hub/utils/_token.py:88: UserWarning: \n",
            "The secret `HF_TOKEN` does not exist in your Colab secrets.\n",
            "To authenticate with the Hugging Face Hub, create a token in your settings tab (https://huggingface.co/settings/tokens), set it as secret in your Google Colab and restart your session.\n",
            "You will be able to reuse this secret in all of your notebooks.\n",
            "Please note that authentication is recommended but still optional to access public models or datasets.\n",
            "  warnings.warn(\n"
          ]
        },
        {
          "output_type": "execute_result",
          "data": {
            "text/plain": [
              "['acronym_identification',\n",
              " 'ade_corpus_v2',\n",
              " 'UCLNLP/adversarial_qa',\n",
              " 'aeslc',\n",
              " 'afrikaans_ner_corpus',\n",
              " 'ag_news',\n",
              " 'allenai/ai2_arc',\n",
              " 'air_dialogue',\n",
              " 'ajgt_twitter_ar',\n",
              " 'allegro_reviews',\n",
              " 'allocine',\n",
              " 'alt',\n",
              " 'amazon_polarity',\n",
              " 'amazon_reviews_multi',\n",
              " 'amazon_us_reviews',\n",
              " 'ambig_qa',\n",
              " 'nala-cub/americas_nli',\n",
              " 'ami',\n",
              " 'amttl',\n",
              " 'facebook/anli',\n",
              " 'app_reviews',\n",
              " 'aqua_rat',\n",
              " 'aquamuse',\n",
              " 'bigIR/ar_cov19',\n",
              " 'ar_res_reviews',\n",
              " 'ar_sarcasm',\n",
              " 'arabic_billion_words',\n",
              " 'arabic_pos_dialect',\n",
              " 'arabic_speech_corpus',\n",
              " 'arcd',\n",
              " 'arsentd_lev',\n",
              " 'art',\n",
              " 'arxiv_dataset',\n",
              " 'ascent_kb',\n",
              " 'aslg_pc12',\n",
              " 'asnq',\n",
              " 'facebook/asset',\n",
              " 'assin',\n",
              " 'assin2',\n",
              " 'atomic',\n",
              " 'autshumato',\n",
              " 'facebook/babi_qa',\n",
              " 'banking77',\n",
              " 'bbaw_egyptian',\n",
              " 'bbc_hindi_nli',\n",
              " 'bc2gm_corpus',\n",
              " 'beans',\n",
              " 'best2009',\n",
              " 'opus/bianet',\n",
              " 'bible_para',\n",
              " 'big_patent',\n",
              " 'billsum',\n",
              " 'bing_coronavirus_query_set',\n",
              " 'biomrc',\n",
              " 'biosses',\n",
              " 'TheBritishLibrary/blbooks',\n",
              " 'TheBritishLibrary/blbooksgenre',\n",
              " 'blended_skill_talk',\n",
              " 'nyu-mll/blimp',\n",
              " 'blog_authorship_corpus',\n",
              " 'bn_hate_speech',\n",
              " 'bnl_newspapers',\n",
              " 'bookcorpus',\n",
              " 'bookcorpusopen',\n",
              " 'google/boolq',\n",
              " 'bprec',\n",
              " 'break_data',\n",
              " 'brwac',\n",
              " 'bsd_ja_en',\n",
              " 'bswac',\n",
              " 'c3',\n",
              " 'c4',\n",
              " 'cail2018',\n",
              " 'caner',\n",
              " 'capes',\n",
              " 'casino',\n",
              " 'catalonia_independence',\n",
              " 'cats_vs_dogs',\n",
              " 'cawac',\n",
              " 'cbt',\n",
              " 'cc100',\n",
              " 'cc_news',\n",
              " 'ccaligned_multilingual',\n",
              " 'cdsc',\n",
              " 'cdt',\n",
              " 'cedr',\n",
              " 'cfq',\n",
              " 'chr_en',\n",
              " 'cifar10',\n",
              " 'cifar100',\n",
              " 'circa',\n",
              " 'google/civil_comments',\n",
              " 'clickbait_news_bg',\n",
              " 'climate_fever',\n",
              " 'clinc_oos',\n",
              " 'clue',\n",
              " 'cmrc2018',\n",
              " 'cmu_hinglish_dog',\n",
              " 'cnn_dailymail',\n",
              " 'coached_conv_pref',\n",
              " 'coarse_discourse',\n",
              " 'codah',\n",
              " 'code_search_net',\n",
              " 'code_x_glue_cc_clone_detection_big_clone_bench',\n",
              " 'code_x_glue_cc_clone_detection_poj104',\n",
              " 'code_x_glue_cc_cloze_testing_all',\n",
              " 'code_x_glue_cc_cloze_testing_maxmin',\n",
              " 'code_x_glue_cc_code_completion_line',\n",
              " 'code_x_glue_cc_code_completion_token',\n",
              " 'code_x_glue_cc_code_refinement',\n",
              " 'code_x_glue_cc_code_to_code_trans',\n",
              " 'code_x_glue_cc_defect_detection',\n",
              " 'code_x_glue_ct_code_to_text',\n",
              " 'code_x_glue_tc_nl_code_search_adv',\n",
              " 'code_x_glue_tc_text_to_code',\n",
              " 'code_x_glue_tt_text_to_text',\n",
              " 'com_qa',\n",
              " 'allenai/common_gen',\n",
              " 'common_language',\n",
              " 'common_voice',\n",
              " 'tau/commonsense_qa',\n",
              " 'hendrycks/competition_math',\n",
              " 'compguesswhat',\n",
              " 'conceptnet5',\n",
              " 'conll2000',\n",
              " 'conll2002',\n",
              " 'conll2003',\n",
              " 'conllpp',\n",
              " 'consumer-finance-complaints',\n",
              " 'conv_ai',\n",
              " 'conv_ai_2',\n",
              " 'conv_ai_3',\n",
              " 'conv_questions',\n",
              " 'stanfordnlp/coqa',\n",
              " 'allenai/cord19',\n",
              " 'cornell_movie_dialog',\n",
              " 'cos_e',\n",
              " 'cosmos_qa',\n",
              " 'counter',\n",
              " 'covid_qa_castorini',\n",
              " 'covid_qa_deepset',\n",
              " 'covid_qa_ucsd',\n",
              " 'covid_tweets_japanese',\n",
              " 'covost2',\n",
              " 'cppe-5',\n",
              " 'craigslist_bargains',\n",
              " 'crawl_domain',\n",
              " 'crd3',\n",
              " 'crime_and_punish',\n",
              " 'crows_pairs',\n",
              " 'cryptonite',\n",
              " 'cs_restaurants',\n",
              " 'cuad',\n",
              " 'curiosity_dialogs',\n",
              " 'daily_dialog',\n",
              " 'dane',\n",
              " 'danish_political_comments',\n",
              " 'dart',\n",
              " 'datacommons_factcheck',\n",
              " 'fancyzhx/dbpedia_14',\n",
              " 'dbrd',\n",
              " 'deal_or_no_dialog',\n",
              " 'definite_pronoun_resolution',\n",
              " 'dengue_filipino',\n",
              " 'dialog_re',\n",
              " 'diplomacy_detection',\n",
              " 'disaster_response_messages',\n",
              " 'discofuse',\n",
              " 'discovery',\n",
              " 'disfl_qa',\n",
              " 'doc2dial',\n",
              " 'docred',\n",
              " 'doqa',\n",
              " 'dream',\n",
              " 'drop',\n",
              " 'ibm/duorc',\n",
              " 'dutch_social',\n",
              " 'dyk',\n",
              " 'e2e_nlg',\n",
              " 'e2e_nlg_cleaned',\n",
              " 'ecb',\n",
              " 'ecthr_cases',\n",
              " 'eduge',\n",
              " 'ehealth_kd',\n",
              " 'opus/eitb_parcc',\n",
              " 'electricity_load_diagrams',\n",
              " 'eli5',\n",
              " 'eli5_category',\n",
              " 'emea',\n",
              " 'emo',\n",
              " 'dair-ai/emotion',\n",
              " 'emotone_ar',\n",
              " 'empathetic_dialogues',\n",
              " 'enriched_web_nlg',\n",
              " 'eraser_multi_rc',\n",
              " 'esnli',\n",
              " 'eth_py150_open',\n",
              " 'ethos',\n",
              " 'eu_regulatory_ir',\n",
              " 'eurlex',\n",
              " 'euronews',\n",
              " 'europa_eac_tm',\n",
              " 'europa_ecdc_tm',\n",
              " 'europarl_bilingual',\n",
              " 'event2Mind',\n",
              " 'evidence_infer_treatment',\n",
              " 'exams',\n",
              " 'factckbr',\n",
              " 'fake_news_english',\n",
              " 'fake_news_filipino',\n",
              " 'farsi_news',\n",
              " 'fashion_mnist',\n",
              " 'fever',\n",
              " 'few_rel',\n",
              " 'financial_phrasebank',\n",
              " 'finer',\n",
              " 'flores',\n",
              " 'flue',\n",
              " 'food101',\n",
              " 'fquad',\n",
              " 'freebase_qa',\n",
              " 'gap',\n",
              " 'gem',\n",
              " 'generated_reviews_enth',\n",
              " 'generics_kb',\n",
              " 'german_legal_entity_recognition',\n",
              " 'germaner',\n",
              " 'germeval_14',\n",
              " 'giga_fren',\n",
              " 'gigaword',\n",
              " 'glucose',\n",
              " 'glue',\n",
              " 'gnad10',\n",
              " 'go_emotions',\n",
              " 'gooaq',\n",
              " 'google_wellformed_query',\n",
              " 'grail_qa',\n",
              " 'great_code',\n",
              " 'AI-team-UoA/greek_legal_code',\n",
              " 'guardian_authorship',\n",
              " 'gutenberg_time',\n",
              " 'hans',\n",
              " 'hansards',\n",
              " 'hard',\n",
              " 'harem',\n",
              " 'has_part',\n",
              " 'hate_offensive',\n",
              " 'hate_speech18',\n",
              " 'hate_speech_filipino',\n",
              " 'tdavidson/hate_speech_offensive',\n",
              " 'hate_speech_pl',\n",
              " 'hate_speech_portuguese',\n",
              " 'hatexplain',\n",
              " 'hausa_voa_ner',\n",
              " 'hausa_voa_topics',\n",
              " 'hda_nli_hindi',\n",
              " 'head_qa',\n",
              " 'health_fact',\n",
              " 'hebrew_projectbenyehuda',\n",
              " 'hebrew_sentiment',\n",
              " 'hebrew_this_world',\n",
              " 'Rowan/hellaswag',\n",
              " 'cais/mmlu',\n",
              " 'hind_encorp',\n",
              " 'hindi_discourse',\n",
              " 'hippocorpus',\n",
              " 'hkcancor',\n",
              " 'hlgd',\n",
              " 'hope_edi',\n",
              " 'hotpot_qa',\n",
              " 'hover',\n",
              " 'hrenwac_para',\n",
              " 'hrwac',\n",
              " 'humicroedit',\n",
              " 'hybrid_qa',\n",
              " 'hyperpartisan_news_detection',\n",
              " 'iapp_wiki_qa_squad',\n",
              " 'id_clickbait',\n",
              " 'id_liputan6',\n",
              " 'id_nergrit_corpus',\n",
              " 'id_newspapers_2018',\n",
              " 'id_panl_bppt',\n",
              " 'id_puisi',\n",
              " 'igbo_english_machine_translation',\n",
              " 'igbo_monolingual',\n",
              " 'igbo_ner',\n",
              " 'ilist',\n",
              " 'imdb',\n",
              " 'imdb_urdu_reviews',\n",
              " 'imppres',\n",
              " 'indic_glue',\n",
              " 'indonli',\n",
              " 'indonlp/indonlu',\n",
              " 'inquisitive_qg',\n",
              " 'interpress_news_category_tr',\n",
              " 'interpress_news_category_tr_lite',\n",
              " 'irc_disentangle',\n",
              " 'isixhosa_ner_corpus',\n",
              " 'isizulu_ner_corpus',\n",
              " 'iwslt2017',\n",
              " 'jeopardy',\n",
              " 'jhu-clsp/jfleg',\n",
              " 'google/jigsaw_toxicity_pred',\n",
              " 'google/jigsaw_unintended_bias',\n",
              " 'jnlpba',\n",
              " 'journalists_questions',\n",
              " 'kan_hope',\n",
              " 'kannada_news',\n",
              " 'kd_conv',\n",
              " 'kde4',\n",
              " 'kelm',\n",
              " 'kilt_tasks',\n",
              " 'kilt_wikipedia',\n",
              " 'kinnews_kirnews',\n",
              " 'klue',\n",
              " 'kor_3i4k',\n",
              " 'kor_hate',\n",
              " 'kor_ner',\n",
              " 'kor_nli',\n",
              " 'kor_nlu',\n",
              " 'kor_qpair',\n",
              " 'kor_sae',\n",
              " 'kor_sarcasm',\n",
              " 'labr',\n",
              " 'lama',\n",
              " 'lambada',\n",
              " 'large_spanish_corpus',\n",
              " 'laroseda',\n",
              " 'lc_quad',\n",
              " 'lener_br',\n",
              " 'lex_glue',\n",
              " 'liar',\n",
              " 'librispeech_asr',\n",
              " 'librispeech_lm',\n",
              " 'limit',\n",
              " 'lince',\n",
              " 'linnaeus',\n",
              " 'liveqa',\n",
              " 'lj_speech',\n",
              " 'lm1b',\n",
              " 'lst20',\n",
              " 'm_lama',\n",
              " 'mac_morpho',\n",
              " 'makhzan',\n",
              " 'masakhaner',\n",
              " 'math_dataset',\n",
              " 'math_qa',\n",
              " 'matinf',\n",
              " 'mbpp',\n",
              " 'mc4',\n",
              " 'mc_taco',\n",
              " 'md_gender_bias',\n",
              " 'mdd',\n",
              " 'med_hop',\n",
              " 'medal',\n",
              " 'medical_dialog',\n",
              " 'medical_questions_pairs',\n",
              " 'menyo20k_mt',\n",
              " 'meta_woz',\n",
              " 'metooma',\n",
              " 'metrec',\n",
              " 'miam',\n",
              " 'mkb',\n",
              " 'mkqa',\n",
              " 'mlqa',\n",
              " 'mlsum',\n",
              " 'mnist',\n",
              " 'mocha',\n",
              " 'moroco',\n",
              " 'movie_rationales',\n",
              " 'mrqa',\n",
              " 'ms_marco',\n",
              " 'ms_terms',\n",
              " 'msr_genomics_kbcomp',\n",
              " 'msr_sqa',\n",
              " 'msr_text_compression',\n",
              " 'msr_zhen_translation_parity',\n",
              " 'msra_ner',\n",
              " 'mt_eng_vietnamese',\n",
              " 'muchocine',\n",
              " 'multi_booked',\n",
              " 'multi_eurlex',\n",
              " 'multi_news',\n",
              " 'multi_nli',\n",
              " 'multi_nli_mismatch',\n",
              " 'multi_para_crawl',\n",
              " 'multi_re_qa',\n",
              " 'multi_woz_v22',\n",
              " 'multi_x_science_sum',\n",
              " 'multidoc2dial',\n",
              " 'multilingual_librispeech',\n",
              " 'mutual_friends',\n",
              " 'mwsc',\n",
              " 'myanmar_news',\n",
              " 'narrativeqa',\n",
              " 'narrativeqa_manual',\n",
              " 'natural_questions',\n",
              " 'ncbi_disease',\n",
              " 'nchlt',\n",
              " 'ncslgr',\n",
              " 'nell',\n",
              " 'neural_code_search',\n",
              " 'news_commentary',\n",
              " 'newsgroup',\n",
              " 'newsph',\n",
              " 'newsph_nli',\n",
              " 'newspop',\n",
              " 'newsqa',\n",
              " 'newsroom',\n",
              " 'nkjp-ner',\n",
              " 'nli_tr',\n",
              " 'nlu_evaluation_data',\n",
              " 'norec',\n",
              " 'norne',\n",
              " 'norwegian_ner',\n",
              " 'nq_open',\n",
              " 'nsmc',\n",
              " 'numer_sense',\n",
              " 'numeric_fused_head',\n",
              " 'oclar',\n",
              " 'offcombr',\n",
              " 'offenseval2020_tr',\n",
              " 'offenseval_dravidian',\n",
              " 'ofis_publik',\n",
              " 'ohsumed',\n",
              " 'ollie',\n",
              " 'omp',\n",
              " 'onestop_english',\n",
              " 'onestop_qa',\n",
              " 'open_subtitles',\n",
              " 'openai_humaneval',\n",
              " 'openbookqa',\n",
              " 'openslr',\n",
              " 'Skylion007/openwebtext',\n",
              " 'opinosis',\n",
              " 'opus100',\n",
              " 'opus_books',\n",
              " 'opus_dgt',\n",
              " 'opus_dogc',\n",
              " 'opus_elhuyar',\n",
              " 'opus_euconst',\n",
              " 'opus_finlex',\n",
              " 'opus_fiskmo',\n",
              " 'opus_gnome',\n",
              " 'opus_infopankki',\n",
              " 'opus_memat',\n",
              " 'opus_montenegrinsubs',\n",
              " 'opus_openoffice',\n",
              " 'opus_paracrawl',\n",
              " 'opus_rf',\n",
              " 'opus_tedtalks',\n",
              " 'opus_ubuntu',\n",
              " 'opus_wikipedia',\n",
              " 'opus_xhosanavy',\n",
              " 'orange_sum',\n",
              " 'oscar',\n",
              " 'para_crawl',\n",
              " 'para_pat',\n",
              " 'parsinlu_reading_comprehension',\n",
              " 'pass',\n",
              " 'paws-x',\n",
              " 'paws',\n",
              " 'pec',\n",
              " 'allenai/peer_read',\n",
              " 'peoples_daily_ner',\n",
              " 'per_sent',\n",
              " 'persian_ner',\n",
              " 'pg19',\n",
              " 'php',\n",
              " 'AgentPublic/piaf',\n",
              " 'pib',\n",
              " 'piqa',\n",
              " 'pn_summary',\n",
              " 'poem_sentiment',\n",
              " 'polemo2',\n",
              " 'poleval2019_cyberbullying',\n",
              " 'poleval2019_mt',\n",
              " 'polsum',\n",
              " 'polyglot_ner',\n",
              " 'prachathai67k',\n",
              " 'pragmeval',\n",
              " 'proto_qa',\n",
              " 'psc',\n",
              " 'ptb_text_only',\n",
              " 'pubmed',\n",
              " 'pubmed_qa',\n",
              " 'py_ast',\n",
              " 'qa4mre',\n",
              " 'qa_srl',\n",
              " 'qa_zre',\n",
              " 'qangaroo',\n",
              " 'qanta',\n",
              " 'qasc',\n",
              " 'allenai/qasper',\n",
              " 'qed',\n",
              " 'qed_amara',\n",
              " 'quac',\n",
              " 'quail',\n",
              " 'quarel',\n",
              " 'quartz',\n",
              " 'quora',\n",
              " 'quoref',\n",
              " 'race',\n",
              " 're_dial',\n",
              " 'reasoning_bg',\n",
              " 'recipe_nlg',\n",
              " 'reclor',\n",
              " 'red_caps',\n",
              " 'webis/tldr-17',\n",
              " 'reddit_tifu',\n",
              " 'refresd',\n",
              " 'reuters21578',\n",
              " 'riddle_sense',\n",
              " 'ro_sent',\n",
              " 'ro_sts',\n",
              " 'ro_sts_parallel',\n",
              " 'roman_urdu',\n",
              " 'ronec',\n",
              " 'ropes',\n",
              " 'rotten_tomatoes',\n",
              " 'RussianNLP/russian_super_glue',\n",
              " 'samsum',\n",
              " 'sanskrit_classic',\n",
              " 'saudinewsnet',\n",
              " 'sberquad',\n",
              " 'scan',\n",
              " 'scb_mt_enth_2020',\n",
              " 'scene_parse_150',\n",
              " 'schema_guided_dstc8',\n",
              " 'allenai/scicite',\n",
              " 'scielo',\n",
              " 'scientific_papers',\n",
              " 'allenai/scifact',\n",
              " 'sciq',\n",
              " 'scitail',\n",
              " 'allenai/scitldr',\n",
              " 'search_qa',\n",
              " 'sede',\n",
              " 'selqa',\n",
              " 'sem_eval_2010_task_8',\n",
              " 'sem_eval_2014_task_1',\n",
              " 'sem_eval_2018_task_1',\n",
              " 'sem_eval_2020_task_11',\n",
              " 'sent_comp',\n",
              " 'senti_lex',\n",
              " 'senti_ws',\n",
              " 'sentiment140',\n",
              " 'sepedi_ner',\n",
              " 'sesotho_ner_corpus',\n",
              " 'setimes',\n",
              " 'setswana_ner_corpus',\n",
              " 'UCLNLP/sharc',\n",
              " 'sharc_modified',\n",
              " 'sick',\n",
              " 'silicone',\n",
              " 'simple_questions_v2',\n",
              " 'siswati_ner_corpus',\n",
              " 'smartdata',\n",
              " 'sms_spam',\n",
              " 'snips_built_in_intents',\n",
              " 'snli',\n",
              " 'snow_simplified_japanese_corpus',\n",
              " 'so_stacksample',\n",
              " 'social_bias_frames',\n",
              " 'social_i_qa',\n",
              " 'sofc_materials_articles',\n",
              " 'sogou_news',\n",
              " 'spanish_billion_words',\n",
              " 'spc',\n",
              " 'species_800',\n",
              " 'speech_commands',\n",
              " 'spider',\n",
              " 'squad',\n",
              " 'squad_adversarial',\n",
              " 'squad_es',\n",
              " 'squad_it',\n",
              " 'squad_kor_v1',\n",
              " 'squad_kor_v2',\n",
              " 'squad_v1_pt',\n",
              " 'squad_v2',\n",
              " 'squadshifts',\n",
              " 'srwac',\n",
              " 'sst',\n",
              " 'McGill-NLP/stereoset',\n",
              " 'story_cloze',\n",
              " 'stsb_mt_sv',\n",
              " 'stsb_multi_mt',\n",
              " 'style_change_detection',\n",
              " 'subjqa',\n",
              " 'super_glue',\n",
              " 'superb',\n",
              " 'svhn',\n",
              " 'swag',\n",
              " 'swahili',\n",
              " 'swahili_news',\n",
              " 'swda',\n",
              " 'swedish_medical_ner',\n",
              " 'swedish_ner_corpus',\n",
              " 'swedish_reviews',\n",
              " 'rcds/swiss_judgment_prediction',\n",
              " 'tab_fact',\n",
              " 'tamilmixsentiment',\n",
              " 'tanzil',\n",
              " 'tapaco',\n",
              " 'tashkeela',\n",
              " 'taskmaster1',\n",
              " 'taskmaster2',\n",
              " 'taskmaster3',\n",
              " 'tatoeba',\n",
              " 'ted_hrlr',\n",
              " 'ted_iwlst2013',\n",
              " 'ted_multi',\n",
              " 'ted_talks_iwslt',\n",
              " 'telugu_books',\n",
              " 'telugu_news',\n",
              " 'tep_en_fa_para',\n",
              " 'text2log',\n",
              " 'thai_toxicity_tweet',\n",
              " 'thainer',\n",
              " 'thaiqa_squad',\n",
              " 'thaisum',\n",
              " 'EleutherAI/pile',\n",
              " 'the_pile_books3',\n",
              " 'the_pile_openwebtext2',\n",
              " 'the_pile_stack_exchange',\n",
              " 'tilde_model',\n",
              " 'time_dial',\n",
              " 'times_of_india_news_headlines',\n",
              " 'timit_asr',\n",
              " 'tiny_shakespeare',\n",
              " 'tlc',\n",
              " 'tmu_gfm_dataset',\n",
              " 'told-br',\n",
              " 'totto',\n",
              " 'trec',\n",
              " 'trivia_qa',\n",
              " 'tsac',\n",
              " 'ttc4900',\n",
              " 'tunizi',\n",
              " 'tuple_ie',\n",
              " 'turk',\n",
              " 'turkic_xwmt',\n",
              " 'turkish_movie_sentiment',\n",
              " 'turkish_ner',\n",
              " 'turkish_product_reviews',\n",
              " 'turkish_shrinked_ner',\n",
              " 'turku_ner_corpus',\n",
              " 'tweet_eval',\n",
              " 'tweet_qa',\n",
              " 'tweets_ar_en_parallel',\n",
              " 'tweets_hate_speech_detection',\n",
              " 'twi_text_c3',\n",
              " 'twi_wordsim353',\n",
              " 'tydiqa',\n",
              " 'ubuntu_dialogs_corpus',\n",
              " 'udhr',\n",
              " 'um005',\n",
              " 'un_ga',\n",
              " 'un_multi',\n",
              " 'un_pc',\n",
              " 'universal_dependencies',\n",
              " 'universal_morphologies',\n",
              " 'urdu_fake_news',\n",
              " 'urdu_sentiment_corpus',\n",
              " 'vctk',\n",
              " 'vivos',\n",
              " 'web_nlg',\n",
              " 'web_of_science',\n",
              " 'web_questions',\n",
              " 'weibo_ner',\n",
              " 'wi_locness',\n",
              " 'wider_face',\n",
              " 'wiki40b',\n",
              " 'wiki_asp',\n",
              " 'wiki_atomic_edits',\n",
              " 'wiki_auto',\n",
              " 'wiki_bio',\n",
              " 'wiki_dpr',\n",
              " 'wiki_hop',\n",
              " 'wiki_lingua',\n",
              " 'wiki_movies',\n",
              " 'wiki_qa',\n",
              " 'wiki_qa_ar',\n",
              " 'wiki_snippets',\n",
              " 'wiki_source',\n",
              " 'wiki_split',\n",
              " 'wiki_summary',\n",
              " 'wikiann',\n",
              " 'wikicorpus',\n",
              " 'wikihow',\n",
              " 'wikipedia',\n",
              " 'wikisql',\n",
              " 'wikitext',\n",
              " 'wikitext_tl39',\n",
              " 'wili_2018',\n",
              " 'wino_bias',\n",
              " 'winograd_wsc',\n",
              " 'winogrande',\n",
              " 'wiqa',\n",
              " 'wisesight1000',\n",
              " 'wisesight_sentiment',\n",
              " 'wmt14',\n",
              " 'wmt15',\n",
              " 'wmt16',\n",
              " 'wmt17',\n",
              " 'wmt18',\n",
              " 'wmt19',\n",
              " 'wmt20_mlqe_task1',\n",
              " 'wmt20_mlqe_task2',\n",
              " 'wmt20_mlqe_task3',\n",
              " 'wmt_t2t',\n",
              " 'wnut_17',\n",
              " 'wongnai_reviews',\n",
              " 'woz_dialogue',\n",
              " 'wrbsc',\n",
              " 'x_stance',\n",
              " 'xcopa',\n",
              " 'xcsr',\n",
              " 'xed_en_fi',\n",
              " 'xglue',\n",
              " 'xnli',\n",
              " 'xor_tydi_qa',\n",
              " 'xquad',\n",
              " 'xquad_r',\n",
              " 'EdinburghNLP/xsum',\n",
              " 'xsum_factuality',\n",
              " 'xtreme',\n",
              " 'yahoo_answers_qa',\n",
              " 'yahoo_answers_topics',\n",
              " 'yelp_polarity',\n",
              " 'yelp_review_full',\n",
              " 'yoruba_bbc_topics',\n",
              " 'yoruba_gv_ner',\n",
              " 'yoruba_text_c3',\n",
              " 'yoruba_wordsim353',\n",
              " 'youtube_caption_corrections',\n",
              " 'zest',\n",
              " '0n1xus/codexglue',\n",
              " '0n1xus/pytorrent-standalone',\n",
              " 'AConsApart/anime_subtitles_DialoGPT',\n",
              " 'AHussain0418/day2_data',\n",
              " 'AHussain0418/day4data',\n",
              " 'AHussain0418/demo_data',\n",
              " 'AI-Sweden/SuperLim',\n",
              " 'AI-it/khs_service_test',\n",
              " 'AI-it/korean-hate-speech',\n",
              " 'ARKseal/YFCC14M_subset_webdataset',\n",
              " 'ARTeLab/fanpage',\n",
              " 'ARTeLab/ilpost',\n",
              " 'ARTeLab/mlsum-it',\n",
              " 'ASCCCCCCCC/amazon_zh',\n",
              " 'ASCCCCCCCC/amazon_zh_simple',\n",
              " 'Abdo1Kamr/Arabic_Hadith',\n",
              " 'Abirate/code_net_dataset',\n",
              " 'Abirate/code_net_dev_dataset',\n",
              " 'Abirate/code_net_test_final_dataset',\n",
              " 'Abirate/english_quotes',\n",
              " 'Abirate/french_book_reviews',\n",
              " 'AdWeeb/DravidianMT',\n",
              " 'Adnan/Urdu_News_Headlines',\n",
              " 'AhmadSawal/qa',\n",
              " 'AhmedSSoliman/CoNaLa',\n",
              " 'Aisha/BAAD16',\n",
              " 'Aisha/BAAD6',\n",
              " 'Akila/ForgottenRealmsWikiDataset',\n",
              " 'Akshith/aa',\n",
              " 'Akshith/g_rock',\n",
              " 'Akshith/test',\n",
              " 'adorkin/extended_tweet_emojis',\n",
              " 'AlekseyKorshuk/comedy-scripts',\n",
              " 'AlekseyKorshuk/horror-scripts',\n",
              " 'AlexMaclean/all-deletion-compressions',\n",
              " 'AlexMaclean/wikipedia-deletion-compressions',\n",
              " 'AlexZapolskii/zapolskii-amazon',\n",
              " 'Aliseyfi/event_token_type',\n",
              " 'Alvenir/nst-da-16khz',\n",
              " 'AndrewMcDowell/de_corpora_parliament_processed',\n",
              " 'Annabelleabbott/real-fake-news-workshop',\n",
              " 'Annielytics/DoctorsNotes',\n",
              " 'Anurag-Singh-creator/task',\n",
              " 'Anurag-Singh-creator/tasks',\n",
              " 'ApiInferenceTest/asr_dummy',\n",
              " 'Arnold/hausa_common_voice',\n",
              " 'AryanLala/autonlp-data-Scientific_Title_Generator',\n",
              " 'Atsushi/fungi_diagnostic_chars_comparison_japanese',\n",
              " 'Atsushi/fungi_indexed_mycological_papers_japanese',\n",
              " 'Atsushi/fungi_trait_circus_database',\n",
              " 'Avishekavi/Avi',\n",
              " 'Babelscape/rebel-dataset',\n",
              " 'Babelscape/wikineural',\n",
              " 'BatuhanYilmaz/github-issues',\n",
              " 'Baybars/parla_text_corpus',\n",
              " 'BeIR/beir-corpus',\n",
              " 'BeIR/beir',\n",
              " 'Lacito/pangloss',\n",
              " 'Binbin/my_dataset',\n",
              " 'BlakesOrb6/Fred-Flintstone',\n",
              " 'Bosio/pacman',\n",
              " 'Bosio/pacman_descriptions',\n",
              " 'TheBritishLibrary/EThOS-PhD-metadata',\n",
              " 'CAGER/rick',\n",
              " 'CALM/arwiki',\n",
              " 'CAiRE/ASCEND',\n",
              " 'CShorten/KerasBERT',\n",
              " 'ChadxxxxHall/Inter-vision',\n",
              " 'Champion/vpc2020_clear_anon_speech',\n",
              " 'Check/a_re_gi',\n",
              " 'Check/region_1',\n",
              " 'Check/region_2',\n",
              " 'Check/region_3',\n",
              " 'Check/region_4',\n",
              " 'Check/region_5',\n",
              " 'Check/region_6',\n",
              " 'Check/region_7',\n",
              " 'Check/region_8',\n",
              " 'Check/region_9',\n",
              " 'Check/regions',\n",
              " 'Check/vverify',\n",
              " 'Cheranga/test',\n",
              " 'ChristophSchuhmann/MS_COCO_2017_URL_TEXT',\n",
              " 'Chun/dataset',\n",
              " 'Chuu/Vhh',\n",
              " 'CodedotAI/code-clippy-tfrecords',\n",
              " 'CodedotAI/code_clippy',\n",
              " 'CodedotAI/code_clippy_github',\n",
              " 'Crives/haha',\n",
              " 'Cropinky/flatearther',\n",
              " 'Cropinky/rap_lyrics_english',\n",
              " 'Cropinky/wow_fishing_bobber',\n",
              " 'Cyberfish/pos_tagger',\n",
              " 'Cyberfish/text_error_correction',\n",
              " 'CyranoB/polarity',\n",
              " 'DDSC/angry-tweets',\n",
              " 'DDSC/dkhate',\n",
              " 'DDSC/europarl',\n",
              " 'DDSC/lcc',\n",
              " 'DDSC/reddit-da-asr-preprocessed',\n",
              " 'DDSC/reddit-da',\n",
              " 'DDSC/twitter-sent',\n",
              " 'DELith/github-issues',\n",
              " 'DSCI511G1/COP26_Energy_Transition_Tweets',\n",
              " 'DanL/scientific-challenges-and-directions-dataset',\n",
              " 'Daniele/dante-corpus',\n",
              " 'Darren/data',\n",
              " 'Nexdata/accented_english',\n",
              " 'Nexdata/accented_mandarin',\n",
              " 'Nexdata/chinese_dialect',\n",
              " 'Nexdata/mandarin_chinese',\n",
              " 'Nexdata/mixed_speech_chinese_english',\n",
              " 'Nexdata/multi_language',\n",
              " 'Nexdata/multi_language_conversation',\n",
              " 'Davlan/conll2003_de_noMISC',\n",
              " 'Davlan/conll2003_noMISC',\n",
              " 'Davlan/masakhanerV1',\n",
              " 'DelgadoPanadero/Pokemon',\n",
              " 'DeskDown/ALTDataset',\n",
              " 'DeskDown/ALTDataset_en-to-fil-vi-id-ms-ja-khm',\n",
              " 'DiFronzo/Human_Activity_Recognition',\n",
              " 'Dmitriy612/1',\n",
              " 'Doohae/klue-mrc-bm25',\n",
              " 'Doohae/modern_music_re',\n",
              " 'DoyyingFace/github-embeddings-doy',\n",
              " 'DoyyingFace/github-issues-doy',\n",
              " 'DrishtiSharma/as_opus100_processed',\n",
              " 'DrishtiSharma/bg_opus100_processed',\n",
              " 'DrishtiSharma/br_opus100_processed',\n",
              " 'DrishtiSharma/hi_opus100_processed',\n",
              " 'DrishtiSharma/kk_opus100_processed',\n",
              " 'DrishtiSharma/mr_opus100_processed',\n",
              " 'DrishtiSharma/or_opus100_processed',\n",
              " 'DrishtiSharma/sl_opus100_processed',\n",
              " 'DrishtiSharma/sr_opus100_processed',\n",
              " 'Dumiiii/common-voice-romaniarss',\n",
              " 'EMBO/biolang',\n",
              " 'EMBO/sd-nlp',\n",
              " 'ESZER/H',\n",
              " 'Emanuel/UD_Portuguese-Bosque',\n",
              " 'Emma121/aaaaa',\n",
              " 'Emma121/testtest',\n",
              " 'Enes3774/data',\n",
              " 'Exr0n/wiki-entity-similarity',\n",
              " 'Eymen3455/xsum_tr',\n",
              " 'FIG-Loneliness/FIG-Loneliness',\n",
              " 'FL33TW00D/test-dataset',\n",
              " 'FRTNX/cosuju',\n",
              " 'FRTNX/worldbank-projects',\n",
              " 'Felix-ML/quoteli3',\n",
              " 'Finnish-NLP/mc4_fi_cleaned',\n",
              " 'Firoj/HumAID',\n",
              " 'Francois/futures_es',\n",
              " 'Fraser/mnist-text-default',\n",
              " 'Fraser/mnist-text-no-spaces',\n",
              " 'Fraser/mnist-text-small',\n",
              " 'Fraser/dream-coder',\n",
              " 'Fraser/python-lines',\n",
              " 'Fraser/python-state-changes',\n",
              " 'Fraser/short-jokes',\n",
              " 'Fraser/wiki_sentences',\n",
              " 'GEM/ART',\n",
              " 'GEM/BiSECT',\n",
              " 'GEM/CrossWOZ',\n",
              " 'GEM/OrangeSum',\n",
              " 'GEM/RiSAWOZ',\n",
              " 'GEM/RotoWire_English-German',\n",
              " 'GEM/SIMPITIKI',\n",
              " 'GEM/SciDuet',\n",
              " 'GEM/Taskmaster',\n",
              " 'GEM/cochrane-simplification',\n",
              " 'GEM/common_gen',\n",
              " 'GEM/conversational_weather',\n",
              " 'GEM/cs_restaurants',\n",
              " 'GEM/dart',\n",
              " 'GEM/dstc10_track2_task2',\n",
              " 'GEM/e2e_nlg',\n",
              " 'GEM/indonlg',\n",
              " 'GEM/mlb_data_to_text',\n",
              " 'GEM/mlsum',\n",
              " 'GEM/opusparcus',\n",
              " 'GEM/references',\n",
              " 'GEM/schema_guided_dialog',\n",
              " 'GEM/sportsett_basketball',\n",
              " 'GEM/squad_v2',\n",
              " 'GEM/surface_realisation_st_2020',\n",
              " 'GEM/totto',\n",
              " 'GEM/turku_hockey_data2text',\n",
              " 'GEM/turku_paraphrase_corpus',\n",
              " 'GEM-submissions/v1-outputs-and-scores',\n",
              " 'GEM/viggo',\n",
              " 'GEM/web_nlg',\n",
              " 'GEM/wiki_auto_asset_turk',\n",
              " 'GEM/wiki_cat_sum',\n",
              " 'GEM/wiki_lingua',\n",
              " 'GEM/xlsum',\n",
              " 'GEM/xsum',\n",
              " 'GEM-submissions/GEM__bart_base_schema_guided_dialog__1645547915',\n",
              " 'GEM-submissions/Leo__bart-large__1645784880',\n",
              " 'GEM-submissions/Leo__mbart-large-cc25__1645802644',\n",
              " 'GEM-submissions/lewtun__hugging-face-test-t5-base.outputs.json-36bf2a59__1645558682',\n",
              " 'GEM-submissions/lewtun__hugging-face-test-t5-base.outputs.json-36bf2a59__1645559101',\n",
              " 'GEM-submissions/lewtun__hugging-face-test-t5-base.outputs.json-36bf2a59__1645800191',\n",
              " 'GEM-submissions/lewtun__hugging-face-test-t5-base.outputs.json-36bf2a59__1646049378',\n",
              " 'GEM-submissions/lewtun__hugging-face-test-t5-base.outputs.json-36bf2a59__1646049424',\n",
              " 'GEM-submissions/lewtun__hugging-face-test-t5-base.outputs.json-36bf2a59__1646049601',\n",
              " 'GEM-submissions/lewtun__hugging-face-test-t5-base.outputs.json-36bf2a59__1646049876',\n",
              " 'GEM-submissions/lewtun__hugging-face-test-t5-base.outputs.json-36bf2a59__1646050898',\n",
              " 'GEM-submissions/lewtun__hugging-face-test-t5-base.outputs.json-36bf2a59__1646051364',\n",
              " 'GEM-submissions/lewtun__hugging-face-test-t5-base.outputs.json-36bf2a59__1646052073',\n",
              " 'GEM-submissions/lewtun__this-is-a-test__1646052811',\n",
              " 'GEM-submissions/lewtun__this-is-a-test__1646230987',\n",
              " 'GEM-submissions/ratishsp',\n",
              " 'GEM-submissions/submission-scores',\n",
              " 'GV05/shlomit_speech',\n",
              " 'Gabriel/quora_swe',\n",
              " 'GalacticAI/Noirset',\n",
              " 'Gauravadlakha1509/new_one',\n",
              " 'GeoffVdr/cv8_trainval_processed',\n",
              " 'GonzaloA/fake_news',\n",
              " 'Graphcore/gqa-lxmert',\n",
              " 'Graphcore/gqa',\n",
              " 'Graphcore/vqa-lxmert',\n",
              " 'Graphcore/vqa',\n",
              " 'Graphcore/wikipedia-bert-128',\n",
              " 'Graphcore/wikipedia-bert-512',\n",
              " 'GroNLP/ik-nlp-22_pestyle',\n",
              " 'GroNLP/ik-nlp-22_slp',\n",
              " 'GroNLP/ik-nlp-22_transqe',\n",
              " 'GroNLP/ik-nlp-22_winemag',\n",
              " 'HHousen/ParaSCI',\n",
              " 'HHousen/msrp',\n",
              " 'HHousen/quora',\n",
              " 'HUPD/hupd',\n",
              " 'Halilyesilceng/autonlp-data-nameEntityRecognition',\n",
              " 'HarleyQ/WitcherDialogue',\n",
              " 'HarrisDePerceptron/sv_corpora_parliament_processed',\n",
              " 'HarrisDePerceptron/ur_corpora_pib',\n",
              " 'Harveenchadha/bol-models',\n",
              " 'Harveenchadha/indic-voice',\n",
              " 'HarveyBWest/mybot',\n",
              " 'Hellisotherpeople/DebateSum',\n",
              " 'Helsinki-NLP/tatoeba_mt',\n",
              " 'HenryAI/KerasAPIReference.txt',\n",
              " 'HenryAI/KerasBERTv1-Data',\n",
              " 'HenryAI/KerasCodeExamples.txt',\n",
              " 'HenryAI/KerasDeveloperGuides.txt',\n",
              " 'Huertas97/autonlp-data-mami-semeval-20-21',\n",
              " 'Husain/intent-classification-en-fr',\n",
              " 'IFSTalfredoswald/MBTI',\n",
              " 'Iftoo95/Arabic_Sentiment_and_Topics',\n",
              " 'IlyaGusev/gazeta',\n",
              " 'IlyaGusev/headline_cause',\n",
              " 'Intel/WEC-Eng',\n",
              " 'Ishwar/Senti',\n",
              " 'Iskaj/dutch_corpora_parliament_processed',\n",
              " 'JIWON/nil_dataset',\n",
              " 'JIsanan/war-ceb-wikipedia',\n",
              " 'Jack0508/TED2020_kor',\n",
              " 'Jack0508/TED2020_vi',\n",
              " 'Jack0508/TED2020vi_kor',\n",
              " 'Jack0508/demo',\n",
              " 'Jack0508/eng_vi_demo',\n",
              " ...]"
            ]
          },
          "metadata": {},
          "execution_count": 2
        }
      ]
    },
    {
      "cell_type": "code",
      "outputs": [
        {
          "output_type": "stream",
          "name": "stderr",
          "text": [
            "/usr/local/lib/python3.10/dist-packages/datasets/load.py:1454: FutureWarning: The repository for emotion contains custom code which must be executed to correctly load the dataset. You can inspect the repository content at https://hf.co/datasets/emotion\n",
            "You can avoid this message in future by passing the argument `trust_remote_code=True`.\n",
            "Passing `trust_remote_code=True` will be mandatory to load this dataset from the next major release of `datasets`.\n",
            "  warnings.warn(\n"
          ]
        },
        {
          "output_type": "execute_result",
          "data": {
            "text/plain": [
              "DatasetDict({\n",
              "    train: Dataset({\n",
              "        features: ['text', 'label'],\n",
              "        num_rows: 16000\n",
              "    })\n",
              "    validation: Dataset({\n",
              "        features: ['text', 'label'],\n",
              "        num_rows: 2000\n",
              "    })\n",
              "    test: Dataset({\n",
              "        features: ['text', 'label'],\n",
              "        num_rows: 2000\n",
              "    })\n",
              "})"
            ]
          },
          "metadata": {},
          "execution_count": 3
        }
      ],
      "source": [
        "from datasets import load_dataset\n",
        "\n",
        "emotionData = load_dataset(\"emotion\")\n",
        "# The dataset is a dictionary already split into 3 parts: train, validation, test\n",
        "# 16000 rows for training, and 2000 each for validation and testing\n",
        "emotionData"
      ],
      "metadata": {
        "ExecuteTime": {
          "end_time": "2024-02-25T22:04:38.282862700Z",
          "start_time": "2024-02-25T22:04:35.117378600Z"
        },
        "colab": {
          "base_uri": "https://localhost:8080/"
        },
        "id": "DnjFjHRmT2D1",
        "outputId": "0df774e4-8b33-46ca-f7aa-233895885ed9"
      },
      "execution_count": 3
    },
    {
      "cell_type": "code",
      "outputs": [
        {
          "output_type": "stream",
          "name": "stdout",
          "text": [
            "{'text': 'i didnt feel humiliated', 'label': 0}\n",
            "{'text': 'im feeling quite sad and sorry for myself but ill snap out of it soon', 'label': 0}\n",
            "{'text': 'im feeling rather rotten so im not very ambitious right now', 'label': 0}\n"
          ]
        }
      ],
      "source": [
        "# let's see first element of the dataset\n",
        "print(emotionData[\"train\"][0])\n",
        "print(emotionData[\"validation\"][0])\n",
        "print(emotionData[\"test\"][0])"
      ],
      "metadata": {
        "ExecuteTime": {
          "end_time": "2024-02-25T22:04:38.282862700Z",
          "start_time": "2024-02-25T22:04:38.278760500Z"
        },
        "colab": {
          "base_uri": "https://localhost:8080/"
        },
        "id": "AzFcrjLzT2D1",
        "outputId": "85858552-ade2-45ba-d066-b0dbd09eef7b"
      },
      "execution_count": 4
    },
    {
      "cell_type": "code",
      "outputs": [],
      "source": [
        "# defining datasets\n",
        "trainData = emotionData[\"train\"]\n",
        "validationData = emotionData[\"validation\"]\n",
        "testData = emotionData[\"test\"]"
      ],
      "metadata": {
        "ExecuteTime": {
          "end_time": "2024-02-25T22:04:38.294977300Z",
          "start_time": "2024-02-25T22:04:38.281785100Z"
        },
        "id": "Mnbq1vOdT2D1"
      },
      "execution_count": 5
    },
    {
      "cell_type": "code",
      "outputs": [
        {
          "output_type": "stream",
          "name": "stdout",
          "text": [
            "{'text': Value(dtype='string', id=None), 'label': ClassLabel(names=['sadness', 'joy', 'love', 'anger', 'fear', 'surprise'], id=None)}\n"
          ]
        }
      ],
      "source": [
        "# let's see what are the features\n",
        "# Our input data is 3-dimensional\n",
        "print(trainData.features)"
      ],
      "metadata": {
        "ExecuteTime": {
          "end_time": "2024-02-25T22:04:38.296020700Z",
          "start_time": "2024-02-25T22:04:38.288881500Z"
        },
        "colab": {
          "base_uri": "https://localhost:8080/"
        },
        "id": "cfDfXkrIT2D2",
        "outputId": "ac40726e-9ba2-410d-e650-d182e22b4944"
      },
      "execution_count": 6
    },
    {
      "cell_type": "code",
      "outputs": [
        {
          "output_type": "execute_result",
          "data": {
            "text/plain": [
              "                                                    text  label\n",
              "0                                i didnt feel humiliated      0\n",
              "1      i can go from feeling so hopeless to so damned...      0\n",
              "2       im grabbing a minute to post i feel greedy wrong      3\n",
              "3      i am ever feeling nostalgic about the fireplac...      2\n",
              "4                                   i am feeling grouchy      3\n",
              "...                                                  ...    ...\n",
              "15995  i just had a very brief time in the beanbag an...      0\n",
              "15996  i am now turning and i feel pathetic that i am...      0\n",
              "15997                     i feel strong and good overall      1\n",
              "15998  i feel like this was such a rude comment and i...      3\n",
              "15999  i know a lot but i feel so stupid because i ca...      0\n",
              "\n",
              "[16000 rows x 2 columns]"
            ],
            "text/html": [
              "\n",
              "  <div id=\"df-399fa053-d60f-4a7e-98ff-1d419e665fe3\" class=\"colab-df-container\">\n",
              "    <div>\n",
              "<style scoped>\n",
              "    .dataframe tbody tr th:only-of-type {\n",
              "        vertical-align: middle;\n",
              "    }\n",
              "\n",
              "    .dataframe tbody tr th {\n",
              "        vertical-align: top;\n",
              "    }\n",
              "\n",
              "    .dataframe thead th {\n",
              "        text-align: right;\n",
              "    }\n",
              "</style>\n",
              "<table border=\"1\" class=\"dataframe\">\n",
              "  <thead>\n",
              "    <tr style=\"text-align: right;\">\n",
              "      <th></th>\n",
              "      <th>text</th>\n",
              "      <th>label</th>\n",
              "    </tr>\n",
              "  </thead>\n",
              "  <tbody>\n",
              "    <tr>\n",
              "      <th>0</th>\n",
              "      <td>i didnt feel humiliated</td>\n",
              "      <td>0</td>\n",
              "    </tr>\n",
              "    <tr>\n",
              "      <th>1</th>\n",
              "      <td>i can go from feeling so hopeless to so damned...</td>\n",
              "      <td>0</td>\n",
              "    </tr>\n",
              "    <tr>\n",
              "      <th>2</th>\n",
              "      <td>im grabbing a minute to post i feel greedy wrong</td>\n",
              "      <td>3</td>\n",
              "    </tr>\n",
              "    <tr>\n",
              "      <th>3</th>\n",
              "      <td>i am ever feeling nostalgic about the fireplac...</td>\n",
              "      <td>2</td>\n",
              "    </tr>\n",
              "    <tr>\n",
              "      <th>4</th>\n",
              "      <td>i am feeling grouchy</td>\n",
              "      <td>3</td>\n",
              "    </tr>\n",
              "    <tr>\n",
              "      <th>...</th>\n",
              "      <td>...</td>\n",
              "      <td>...</td>\n",
              "    </tr>\n",
              "    <tr>\n",
              "      <th>15995</th>\n",
              "      <td>i just had a very brief time in the beanbag an...</td>\n",
              "      <td>0</td>\n",
              "    </tr>\n",
              "    <tr>\n",
              "      <th>15996</th>\n",
              "      <td>i am now turning and i feel pathetic that i am...</td>\n",
              "      <td>0</td>\n",
              "    </tr>\n",
              "    <tr>\n",
              "      <th>15997</th>\n",
              "      <td>i feel strong and good overall</td>\n",
              "      <td>1</td>\n",
              "    </tr>\n",
              "    <tr>\n",
              "      <th>15998</th>\n",
              "      <td>i feel like this was such a rude comment and i...</td>\n",
              "      <td>3</td>\n",
              "    </tr>\n",
              "    <tr>\n",
              "      <th>15999</th>\n",
              "      <td>i know a lot but i feel so stupid because i ca...</td>\n",
              "      <td>0</td>\n",
              "    </tr>\n",
              "  </tbody>\n",
              "</table>\n",
              "<p>16000 rows × 2 columns</p>\n",
              "</div>\n",
              "    <div class=\"colab-df-buttons\">\n",
              "\n",
              "  <div class=\"colab-df-container\">\n",
              "    <button class=\"colab-df-convert\" onclick=\"convertToInteractive('df-399fa053-d60f-4a7e-98ff-1d419e665fe3')\"\n",
              "            title=\"Convert this dataframe to an interactive table.\"\n",
              "            style=\"display:none;\">\n",
              "\n",
              "  <svg xmlns=\"http://www.w3.org/2000/svg\" height=\"24px\" viewBox=\"0 -960 960 960\">\n",
              "    <path d=\"M120-120v-720h720v720H120Zm60-500h600v-160H180v160Zm220 220h160v-160H400v160Zm0 220h160v-160H400v160ZM180-400h160v-160H180v160Zm440 0h160v-160H620v160ZM180-180h160v-160H180v160Zm440 0h160v-160H620v160Z\"/>\n",
              "  </svg>\n",
              "    </button>\n",
              "\n",
              "  <style>\n",
              "    .colab-df-container {\n",
              "      display:flex;\n",
              "      gap: 12px;\n",
              "    }\n",
              "\n",
              "    .colab-df-convert {\n",
              "      background-color: #E8F0FE;\n",
              "      border: none;\n",
              "      border-radius: 50%;\n",
              "      cursor: pointer;\n",
              "      display: none;\n",
              "      fill: #1967D2;\n",
              "      height: 32px;\n",
              "      padding: 0 0 0 0;\n",
              "      width: 32px;\n",
              "    }\n",
              "\n",
              "    .colab-df-convert:hover {\n",
              "      background-color: #E2EBFA;\n",
              "      box-shadow: 0px 1px 2px rgba(60, 64, 67, 0.3), 0px 1px 3px 1px rgba(60, 64, 67, 0.15);\n",
              "      fill: #174EA6;\n",
              "    }\n",
              "\n",
              "    .colab-df-buttons div {\n",
              "      margin-bottom: 4px;\n",
              "    }\n",
              "\n",
              "    [theme=dark] .colab-df-convert {\n",
              "      background-color: #3B4455;\n",
              "      fill: #D2E3FC;\n",
              "    }\n",
              "\n",
              "    [theme=dark] .colab-df-convert:hover {\n",
              "      background-color: #434B5C;\n",
              "      box-shadow: 0px 1px 3px 1px rgba(0, 0, 0, 0.15);\n",
              "      filter: drop-shadow(0px 1px 2px rgba(0, 0, 0, 0.3));\n",
              "      fill: #FFFFFF;\n",
              "    }\n",
              "  </style>\n",
              "\n",
              "    <script>\n",
              "      const buttonEl =\n",
              "        document.querySelector('#df-399fa053-d60f-4a7e-98ff-1d419e665fe3 button.colab-df-convert');\n",
              "      buttonEl.style.display =\n",
              "        google.colab.kernel.accessAllowed ? 'block' : 'none';\n",
              "\n",
              "      async function convertToInteractive(key) {\n",
              "        const element = document.querySelector('#df-399fa053-d60f-4a7e-98ff-1d419e665fe3');\n",
              "        const dataTable =\n",
              "          await google.colab.kernel.invokeFunction('convertToInteractive',\n",
              "                                                    [key], {});\n",
              "        if (!dataTable) return;\n",
              "\n",
              "        const docLinkHtml = 'Like what you see? Visit the ' +\n",
              "          '<a target=\"_blank\" href=https://colab.research.google.com/notebooks/data_table.ipynb>data table notebook</a>'\n",
              "          + ' to learn more about interactive tables.';\n",
              "        element.innerHTML = '';\n",
              "        dataTable['output_type'] = 'display_data';\n",
              "        await google.colab.output.renderOutput(dataTable, element);\n",
              "        const docLink = document.createElement('div');\n",
              "        docLink.innerHTML = docLinkHtml;\n",
              "        element.appendChild(docLink);\n",
              "      }\n",
              "    </script>\n",
              "  </div>\n",
              "\n",
              "\n",
              "<div id=\"df-89b78b4f-9853-4df7-a425-f9f84d2b0352\">\n",
              "  <button class=\"colab-df-quickchart\" onclick=\"quickchart('df-89b78b4f-9853-4df7-a425-f9f84d2b0352')\"\n",
              "            title=\"Suggest charts\"\n",
              "            style=\"display:none;\">\n",
              "\n",
              "<svg xmlns=\"http://www.w3.org/2000/svg\" height=\"24px\"viewBox=\"0 0 24 24\"\n",
              "     width=\"24px\">\n",
              "    <g>\n",
              "        <path d=\"M19 3H5c-1.1 0-2 .9-2 2v14c0 1.1.9 2 2 2h14c1.1 0 2-.9 2-2V5c0-1.1-.9-2-2-2zM9 17H7v-7h2v7zm4 0h-2V7h2v10zm4 0h-2v-4h2v4z\"/>\n",
              "    </g>\n",
              "</svg>\n",
              "  </button>\n",
              "\n",
              "<style>\n",
              "  .colab-df-quickchart {\n",
              "      --bg-color: #E8F0FE;\n",
              "      --fill-color: #1967D2;\n",
              "      --hover-bg-color: #E2EBFA;\n",
              "      --hover-fill-color: #174EA6;\n",
              "      --disabled-fill-color: #AAA;\n",
              "      --disabled-bg-color: #DDD;\n",
              "  }\n",
              "\n",
              "  [theme=dark] .colab-df-quickchart {\n",
              "      --bg-color: #3B4455;\n",
              "      --fill-color: #D2E3FC;\n",
              "      --hover-bg-color: #434B5C;\n",
              "      --hover-fill-color: #FFFFFF;\n",
              "      --disabled-bg-color: #3B4455;\n",
              "      --disabled-fill-color: #666;\n",
              "  }\n",
              "\n",
              "  .colab-df-quickchart {\n",
              "    background-color: var(--bg-color);\n",
              "    border: none;\n",
              "    border-radius: 50%;\n",
              "    cursor: pointer;\n",
              "    display: none;\n",
              "    fill: var(--fill-color);\n",
              "    height: 32px;\n",
              "    padding: 0;\n",
              "    width: 32px;\n",
              "  }\n",
              "\n",
              "  .colab-df-quickchart:hover {\n",
              "    background-color: var(--hover-bg-color);\n",
              "    box-shadow: 0 1px 2px rgba(60, 64, 67, 0.3), 0 1px 3px 1px rgba(60, 64, 67, 0.15);\n",
              "    fill: var(--button-hover-fill-color);\n",
              "  }\n",
              "\n",
              "  .colab-df-quickchart-complete:disabled,\n",
              "  .colab-df-quickchart-complete:disabled:hover {\n",
              "    background-color: var(--disabled-bg-color);\n",
              "    fill: var(--disabled-fill-color);\n",
              "    box-shadow: none;\n",
              "  }\n",
              "\n",
              "  .colab-df-spinner {\n",
              "    border: 2px solid var(--fill-color);\n",
              "    border-color: transparent;\n",
              "    border-bottom-color: var(--fill-color);\n",
              "    animation:\n",
              "      spin 1s steps(1) infinite;\n",
              "  }\n",
              "\n",
              "  @keyframes spin {\n",
              "    0% {\n",
              "      border-color: transparent;\n",
              "      border-bottom-color: var(--fill-color);\n",
              "      border-left-color: var(--fill-color);\n",
              "    }\n",
              "    20% {\n",
              "      border-color: transparent;\n",
              "      border-left-color: var(--fill-color);\n",
              "      border-top-color: var(--fill-color);\n",
              "    }\n",
              "    30% {\n",
              "      border-color: transparent;\n",
              "      border-left-color: var(--fill-color);\n",
              "      border-top-color: var(--fill-color);\n",
              "      border-right-color: var(--fill-color);\n",
              "    }\n",
              "    40% {\n",
              "      border-color: transparent;\n",
              "      border-right-color: var(--fill-color);\n",
              "      border-top-color: var(--fill-color);\n",
              "    }\n",
              "    60% {\n",
              "      border-color: transparent;\n",
              "      border-right-color: var(--fill-color);\n",
              "    }\n",
              "    80% {\n",
              "      border-color: transparent;\n",
              "      border-right-color: var(--fill-color);\n",
              "      border-bottom-color: var(--fill-color);\n",
              "    }\n",
              "    90% {\n",
              "      border-color: transparent;\n",
              "      border-bottom-color: var(--fill-color);\n",
              "    }\n",
              "  }\n",
              "</style>\n",
              "\n",
              "  <script>\n",
              "    async function quickchart(key) {\n",
              "      const quickchartButtonEl =\n",
              "        document.querySelector('#' + key + ' button');\n",
              "      quickchartButtonEl.disabled = true;  // To prevent multiple clicks.\n",
              "      quickchartButtonEl.classList.add('colab-df-spinner');\n",
              "      try {\n",
              "        const charts = await google.colab.kernel.invokeFunction(\n",
              "            'suggestCharts', [key], {});\n",
              "      } catch (error) {\n",
              "        console.error('Error during call to suggestCharts:', error);\n",
              "      }\n",
              "      quickchartButtonEl.classList.remove('colab-df-spinner');\n",
              "      quickchartButtonEl.classList.add('colab-df-quickchart-complete');\n",
              "    }\n",
              "    (() => {\n",
              "      let quickchartButtonEl =\n",
              "        document.querySelector('#df-89b78b4f-9853-4df7-a425-f9f84d2b0352 button');\n",
              "      quickchartButtonEl.style.display =\n",
              "        google.colab.kernel.accessAllowed ? 'block' : 'none';\n",
              "    })();\n",
              "  </script>\n",
              "</div>\n",
              "    </div>\n",
              "  </div>\n"
            ],
            "application/vnd.google.colaboratory.intrinsic+json": {
              "type": "dataframe",
              "variable_name": "trainDf",
              "summary": "{\n  \"name\": \"trainDf\",\n  \"rows\": 16000,\n  \"fields\": [\n    {\n      \"column\": \"text\",\n      \"properties\": {\n        \"dtype\": \"string\",\n        \"num_unique_values\": 15969,\n        \"samples\": [\n          \"i feel rather imbicilic or at least complacent\",\n          \"i was in the bathroom i had sat down to pee it was to make me feel submissive again per instructions\",\n          \"i am thrilled with the way my skin and hair feel if you are like me you are skeptical\"\n        ],\n        \"semantic_type\": \"\",\n        \"description\": \"\"\n      }\n    },\n    {\n      \"column\": \"label\",\n      \"properties\": {\n        \"dtype\": \"number\",\n        \"std\": 1,\n        \"min\": 0,\n        \"max\": 5,\n        \"num_unique_values\": 6,\n        \"samples\": [\n          0,\n          3,\n          1\n        ],\n        \"semantic_type\": \"\",\n        \"description\": \"\"\n      }\n    }\n  ]\n}"
            }
          },
          "metadata": {},
          "execution_count": 7
        }
      ],
      "source": [
        "import pandas as pd\n",
        "\n",
        "trainDf = trainData.to_pandas()\n",
        "trainDf"
      ],
      "metadata": {
        "ExecuteTime": {
          "end_time": "2024-02-25T22:04:38.351840700Z",
          "start_time": "2024-02-25T22:04:38.291830500Z"
        },
        "colab": {
          "base_uri": "https://localhost:8080/",
          "height": 424
        },
        "id": "JLXm1lCvT2D2",
        "outputId": "54e020f6-b796-4ae1-e03b-b46e3d37ffd3"
      },
      "execution_count": 7
    },
    {
      "cell_type": "code",
      "outputs": [
        {
          "output_type": "execute_result",
          "data": {
            "text/plain": [
              "                                                text  label label_name\n",
              "0                            i didnt feel humiliated      0    sadness\n",
              "1  i can go from feeling so hopeless to so damned...      0    sadness\n",
              "2   im grabbing a minute to post i feel greedy wrong      3      anger\n",
              "3  i am ever feeling nostalgic about the fireplac...      2       love\n",
              "4                               i am feeling grouchy      3      anger"
            ],
            "text/html": [
              "\n",
              "  <div id=\"df-d3db8bb3-0ab9-4156-957f-1be042a7bc13\" class=\"colab-df-container\">\n",
              "    <div>\n",
              "<style scoped>\n",
              "    .dataframe tbody tr th:only-of-type {\n",
              "        vertical-align: middle;\n",
              "    }\n",
              "\n",
              "    .dataframe tbody tr th {\n",
              "        vertical-align: top;\n",
              "    }\n",
              "\n",
              "    .dataframe thead th {\n",
              "        text-align: right;\n",
              "    }\n",
              "</style>\n",
              "<table border=\"1\" class=\"dataframe\">\n",
              "  <thead>\n",
              "    <tr style=\"text-align: right;\">\n",
              "      <th></th>\n",
              "      <th>text</th>\n",
              "      <th>label</th>\n",
              "      <th>label_name</th>\n",
              "    </tr>\n",
              "  </thead>\n",
              "  <tbody>\n",
              "    <tr>\n",
              "      <th>0</th>\n",
              "      <td>i didnt feel humiliated</td>\n",
              "      <td>0</td>\n",
              "      <td>sadness</td>\n",
              "    </tr>\n",
              "    <tr>\n",
              "      <th>1</th>\n",
              "      <td>i can go from feeling so hopeless to so damned...</td>\n",
              "      <td>0</td>\n",
              "      <td>sadness</td>\n",
              "    </tr>\n",
              "    <tr>\n",
              "      <th>2</th>\n",
              "      <td>im grabbing a minute to post i feel greedy wrong</td>\n",
              "      <td>3</td>\n",
              "      <td>anger</td>\n",
              "    </tr>\n",
              "    <tr>\n",
              "      <th>3</th>\n",
              "      <td>i am ever feeling nostalgic about the fireplac...</td>\n",
              "      <td>2</td>\n",
              "      <td>love</td>\n",
              "    </tr>\n",
              "    <tr>\n",
              "      <th>4</th>\n",
              "      <td>i am feeling grouchy</td>\n",
              "      <td>3</td>\n",
              "      <td>anger</td>\n",
              "    </tr>\n",
              "  </tbody>\n",
              "</table>\n",
              "</div>\n",
              "    <div class=\"colab-df-buttons\">\n",
              "\n",
              "  <div class=\"colab-df-container\">\n",
              "    <button class=\"colab-df-convert\" onclick=\"convertToInteractive('df-d3db8bb3-0ab9-4156-957f-1be042a7bc13')\"\n",
              "            title=\"Convert this dataframe to an interactive table.\"\n",
              "            style=\"display:none;\">\n",
              "\n",
              "  <svg xmlns=\"http://www.w3.org/2000/svg\" height=\"24px\" viewBox=\"0 -960 960 960\">\n",
              "    <path d=\"M120-120v-720h720v720H120Zm60-500h600v-160H180v160Zm220 220h160v-160H400v160Zm0 220h160v-160H400v160ZM180-400h160v-160H180v160Zm440 0h160v-160H620v160ZM180-180h160v-160H180v160Zm440 0h160v-160H620v160Z\"/>\n",
              "  </svg>\n",
              "    </button>\n",
              "\n",
              "  <style>\n",
              "    .colab-df-container {\n",
              "      display:flex;\n",
              "      gap: 12px;\n",
              "    }\n",
              "\n",
              "    .colab-df-convert {\n",
              "      background-color: #E8F0FE;\n",
              "      border: none;\n",
              "      border-radius: 50%;\n",
              "      cursor: pointer;\n",
              "      display: none;\n",
              "      fill: #1967D2;\n",
              "      height: 32px;\n",
              "      padding: 0 0 0 0;\n",
              "      width: 32px;\n",
              "    }\n",
              "\n",
              "    .colab-df-convert:hover {\n",
              "      background-color: #E2EBFA;\n",
              "      box-shadow: 0px 1px 2px rgba(60, 64, 67, 0.3), 0px 1px 3px 1px rgba(60, 64, 67, 0.15);\n",
              "      fill: #174EA6;\n",
              "    }\n",
              "\n",
              "    .colab-df-buttons div {\n",
              "      margin-bottom: 4px;\n",
              "    }\n",
              "\n",
              "    [theme=dark] .colab-df-convert {\n",
              "      background-color: #3B4455;\n",
              "      fill: #D2E3FC;\n",
              "    }\n",
              "\n",
              "    [theme=dark] .colab-df-convert:hover {\n",
              "      background-color: #434B5C;\n",
              "      box-shadow: 0px 1px 3px 1px rgba(0, 0, 0, 0.15);\n",
              "      filter: drop-shadow(0px 1px 2px rgba(0, 0, 0, 0.3));\n",
              "      fill: #FFFFFF;\n",
              "    }\n",
              "  </style>\n",
              "\n",
              "    <script>\n",
              "      const buttonEl =\n",
              "        document.querySelector('#df-d3db8bb3-0ab9-4156-957f-1be042a7bc13 button.colab-df-convert');\n",
              "      buttonEl.style.display =\n",
              "        google.colab.kernel.accessAllowed ? 'block' : 'none';\n",
              "\n",
              "      async function convertToInteractive(key) {\n",
              "        const element = document.querySelector('#df-d3db8bb3-0ab9-4156-957f-1be042a7bc13');\n",
              "        const dataTable =\n",
              "          await google.colab.kernel.invokeFunction('convertToInteractive',\n",
              "                                                    [key], {});\n",
              "        if (!dataTable) return;\n",
              "\n",
              "        const docLinkHtml = 'Like what you see? Visit the ' +\n",
              "          '<a target=\"_blank\" href=https://colab.research.google.com/notebooks/data_table.ipynb>data table notebook</a>'\n",
              "          + ' to learn more about interactive tables.';\n",
              "        element.innerHTML = '';\n",
              "        dataTable['output_type'] = 'display_data';\n",
              "        await google.colab.output.renderOutput(dataTable, element);\n",
              "        const docLink = document.createElement('div');\n",
              "        docLink.innerHTML = docLinkHtml;\n",
              "        element.appendChild(docLink);\n",
              "      }\n",
              "    </script>\n",
              "  </div>\n",
              "\n",
              "\n",
              "<div id=\"df-d84da11e-7371-4403-b821-c37276c6bdaf\">\n",
              "  <button class=\"colab-df-quickchart\" onclick=\"quickchart('df-d84da11e-7371-4403-b821-c37276c6bdaf')\"\n",
              "            title=\"Suggest charts\"\n",
              "            style=\"display:none;\">\n",
              "\n",
              "<svg xmlns=\"http://www.w3.org/2000/svg\" height=\"24px\"viewBox=\"0 0 24 24\"\n",
              "     width=\"24px\">\n",
              "    <g>\n",
              "        <path d=\"M19 3H5c-1.1 0-2 .9-2 2v14c0 1.1.9 2 2 2h14c1.1 0 2-.9 2-2V5c0-1.1-.9-2-2-2zM9 17H7v-7h2v7zm4 0h-2V7h2v10zm4 0h-2v-4h2v4z\"/>\n",
              "    </g>\n",
              "</svg>\n",
              "  </button>\n",
              "\n",
              "<style>\n",
              "  .colab-df-quickchart {\n",
              "      --bg-color: #E8F0FE;\n",
              "      --fill-color: #1967D2;\n",
              "      --hover-bg-color: #E2EBFA;\n",
              "      --hover-fill-color: #174EA6;\n",
              "      --disabled-fill-color: #AAA;\n",
              "      --disabled-bg-color: #DDD;\n",
              "  }\n",
              "\n",
              "  [theme=dark] .colab-df-quickchart {\n",
              "      --bg-color: #3B4455;\n",
              "      --fill-color: #D2E3FC;\n",
              "      --hover-bg-color: #434B5C;\n",
              "      --hover-fill-color: #FFFFFF;\n",
              "      --disabled-bg-color: #3B4455;\n",
              "      --disabled-fill-color: #666;\n",
              "  }\n",
              "\n",
              "  .colab-df-quickchart {\n",
              "    background-color: var(--bg-color);\n",
              "    border: none;\n",
              "    border-radius: 50%;\n",
              "    cursor: pointer;\n",
              "    display: none;\n",
              "    fill: var(--fill-color);\n",
              "    height: 32px;\n",
              "    padding: 0;\n",
              "    width: 32px;\n",
              "  }\n",
              "\n",
              "  .colab-df-quickchart:hover {\n",
              "    background-color: var(--hover-bg-color);\n",
              "    box-shadow: 0 1px 2px rgba(60, 64, 67, 0.3), 0 1px 3px 1px rgba(60, 64, 67, 0.15);\n",
              "    fill: var(--button-hover-fill-color);\n",
              "  }\n",
              "\n",
              "  .colab-df-quickchart-complete:disabled,\n",
              "  .colab-df-quickchart-complete:disabled:hover {\n",
              "    background-color: var(--disabled-bg-color);\n",
              "    fill: var(--disabled-fill-color);\n",
              "    box-shadow: none;\n",
              "  }\n",
              "\n",
              "  .colab-df-spinner {\n",
              "    border: 2px solid var(--fill-color);\n",
              "    border-color: transparent;\n",
              "    border-bottom-color: var(--fill-color);\n",
              "    animation:\n",
              "      spin 1s steps(1) infinite;\n",
              "  }\n",
              "\n",
              "  @keyframes spin {\n",
              "    0% {\n",
              "      border-color: transparent;\n",
              "      border-bottom-color: var(--fill-color);\n",
              "      border-left-color: var(--fill-color);\n",
              "    }\n",
              "    20% {\n",
              "      border-color: transparent;\n",
              "      border-left-color: var(--fill-color);\n",
              "      border-top-color: var(--fill-color);\n",
              "    }\n",
              "    30% {\n",
              "      border-color: transparent;\n",
              "      border-left-color: var(--fill-color);\n",
              "      border-top-color: var(--fill-color);\n",
              "      border-right-color: var(--fill-color);\n",
              "    }\n",
              "    40% {\n",
              "      border-color: transparent;\n",
              "      border-right-color: var(--fill-color);\n",
              "      border-top-color: var(--fill-color);\n",
              "    }\n",
              "    60% {\n",
              "      border-color: transparent;\n",
              "      border-right-color: var(--fill-color);\n",
              "    }\n",
              "    80% {\n",
              "      border-color: transparent;\n",
              "      border-right-color: var(--fill-color);\n",
              "      border-bottom-color: var(--fill-color);\n",
              "    }\n",
              "    90% {\n",
              "      border-color: transparent;\n",
              "      border-bottom-color: var(--fill-color);\n",
              "    }\n",
              "  }\n",
              "</style>\n",
              "\n",
              "  <script>\n",
              "    async function quickchart(key) {\n",
              "      const quickchartButtonEl =\n",
              "        document.querySelector('#' + key + ' button');\n",
              "      quickchartButtonEl.disabled = true;  // To prevent multiple clicks.\n",
              "      quickchartButtonEl.classList.add('colab-df-spinner');\n",
              "      try {\n",
              "        const charts = await google.colab.kernel.invokeFunction(\n",
              "            'suggestCharts', [key], {});\n",
              "      } catch (error) {\n",
              "        console.error('Error during call to suggestCharts:', error);\n",
              "      }\n",
              "      quickchartButtonEl.classList.remove('colab-df-spinner');\n",
              "      quickchartButtonEl.classList.add('colab-df-quickchart-complete');\n",
              "    }\n",
              "    (() => {\n",
              "      let quickchartButtonEl =\n",
              "        document.querySelector('#df-d84da11e-7371-4403-b821-c37276c6bdaf button');\n",
              "      quickchartButtonEl.style.display =\n",
              "        google.colab.kernel.accessAllowed ? 'block' : 'none';\n",
              "    })();\n",
              "  </script>\n",
              "</div>\n",
              "    </div>\n",
              "  </div>\n"
            ],
            "application/vnd.google.colaboratory.intrinsic+json": {
              "type": "dataframe",
              "variable_name": "trainDf",
              "summary": "{\n  \"name\": \"trainDf\",\n  \"rows\": 16000,\n  \"fields\": [\n    {\n      \"column\": \"text\",\n      \"properties\": {\n        \"dtype\": \"string\",\n        \"num_unique_values\": 15969,\n        \"samples\": [\n          \"i feel rather imbicilic or at least complacent\",\n          \"i was in the bathroom i had sat down to pee it was to make me feel submissive again per instructions\",\n          \"i am thrilled with the way my skin and hair feel if you are like me you are skeptical\"\n        ],\n        \"semantic_type\": \"\",\n        \"description\": \"\"\n      }\n    },\n    {\n      \"column\": \"label\",\n      \"properties\": {\n        \"dtype\": \"number\",\n        \"std\": 1,\n        \"min\": 0,\n        \"max\": 5,\n        \"num_unique_values\": 6,\n        \"samples\": [\n          0,\n          3,\n          1\n        ],\n        \"semantic_type\": \"\",\n        \"description\": \"\"\n      }\n    },\n    {\n      \"column\": \"label_name\",\n      \"properties\": {\n        \"dtype\": \"category\",\n        \"num_unique_values\": 6,\n        \"samples\": [\n          \"sadness\",\n          \"anger\",\n          \"joy\"\n        ],\n        \"semantic_type\": \"\",\n        \"description\": \"\"\n      }\n    }\n  ]\n}"
            }
          },
          "metadata": {},
          "execution_count": 8
        }
      ],
      "source": [
        "# Add a new col for emotion in text format\n",
        "def label_int2str(row):\n",
        " return trainData.features[\"label\"].int2str(row)\n",
        "\n",
        "trainDf[\"label_name\"] = trainDf[\"label\"].apply(label_int2str)\n",
        "trainDf.head()"
      ],
      "metadata": {
        "ExecuteTime": {
          "end_time": "2024-02-25T22:04:39.055663300Z",
          "start_time": "2024-02-25T22:04:38.310997500Z"
        },
        "colab": {
          "base_uri": "https://localhost:8080/",
          "height": 206
        },
        "id": "fSeIQ5Q5T2D2",
        "outputId": "60504b0f-b269-4b01-ee82-0298b03e57bc"
      },
      "execution_count": 8
    },
    {
      "cell_type": "markdown",
      "source": [
        "### Looking at the Class Distribution\n",
        "\n",
        "As we can see the dataset is very unbalanced so what we can do is:\n",
        "- Randomly oversample the minority class.\n",
        "- Randomly undersample the majority class.\n",
        "- Gather more labeled data from the underrepresented classes."
      ],
      "metadata": {
        "collapsed": false,
        "id": "cloWtNeyT2D2"
      }
    },
    {
      "cell_type": "code",
      "outputs": [
        {
          "output_type": "display_data",
          "data": {
            "text/plain": [
              "<Figure size 640x480 with 1 Axes>"
            ],
            "image/png": "[encoded data removed]"
          },
          "metadata": {}
        }
      ],
      "source": [
        "import matplotlib.pyplot as plt\n",
        "\n",
        "trainDf[\"label_name\"].value_counts(ascending=True).plot.barh()\n",
        "plt.title(\"Frequency of Classes\")\n",
        "plt.show()"
      ],
      "metadata": {
        "ExecuteTime": {
          "end_time": "2024-02-25T22:04:39.203455300Z",
          "start_time": "2024-02-25T22:04:39.055663300Z"
        },
        "colab": {
          "base_uri": "https://localhost:8080/",
          "height": 452
        },
        "id": "D9TTA9oXT2D2",
        "outputId": "1c313edb-6f24-4a48-d5fc-a6ba8a9952bc"
      },
      "execution_count": 9
    },
    {
      "cell_type": "code",
      "outputs": [
        {
          "output_type": "stream",
          "name": "stdout",
          "text": [
            "Requirement already satisfied: scikit-learn in /usr/local/lib/python3.10/dist-packages (1.2.2)\n",
            "Requirement already satisfied: numpy>=1.17.3 in /usr/local/lib/python3.10/dist-packages (from scikit-learn) (1.25.2)\n",
            "Requirement already satisfied: scipy>=1.3.2 in /usr/local/lib/python3.10/dist-packages (from scikit-learn) (1.11.4)\n",
            "Requirement already satisfied: joblib>=1.1.1 in /usr/local/lib/python3.10/dist-packages (from scikit-learn) (1.3.2)\n",
            "Requirement already satisfied: threadpoolctl>=2.0.0 in /usr/local/lib/python3.10/dist-packages (from scikit-learn) (3.3.0)\n",
            "Requirement already satisfied: imbalanced-learn in /usr/local/lib/python3.10/dist-packages (0.10.1)\n",
            "Requirement already satisfied: numpy>=1.17.3 in /usr/local/lib/python3.10/dist-packages (from imbalanced-learn) (1.25.2)\n",
            "Requirement already satisfied: scipy>=1.3.2 in /usr/local/lib/python3.10/dist-packages (from imbalanced-learn) (1.11.4)\n",
            "Requirement already satisfied: scikit-learn>=1.0.2 in /usr/local/lib/python3.10/dist-packages (from imbalanced-learn) (1.2.2)\n",
            "Requirement already satisfied: joblib>=1.1.1 in /usr/local/lib/python3.10/dist-packages (from imbalanced-learn) (1.3.2)\n",
            "Requirement already satisfied: threadpoolctl>=2.0.0 in /usr/local/lib/python3.10/dist-packages (from imbalanced-learn) (3.3.0)\n"
          ]
        }
      ],
      "source": [
        "! pip install scikit-learn\n",
        "! pip install imbalanced-learn"
      ],
      "metadata": {
        "ExecuteTime": {
          "end_time": "2024-02-25T22:04:49.429032200Z",
          "start_time": "2024-02-25T22:04:39.183408800Z"
        },
        "colab": {
          "base_uri": "https://localhost:8080/"
        },
        "id": "V48rUG5DT2D2",
        "outputId": "f1283c00-ac8d-4b7d-ca0b-4a4102c38eb9"
      },
      "execution_count": 10
    },
    {
      "cell_type": "code",
      "outputs": [
        {
          "output_type": "stream",
          "name": "stderr",
          "text": [
            "/usr/local/lib/python3.10/dist-packages/datasets/load.py:1454: FutureWarning: The repository for emotion contains custom code which must be executed to correctly load the dataset. You can inspect the repository content at https://hf.co/datasets/emotion\n",
            "You can avoid this message in future by passing the argument `trust_remote_code=True`.\n",
            "Passing `trust_remote_code=True` will be mandatory to load this dataset from the next major release of `datasets`.\n",
            "  warnings.warn(\n"
          ]
        }
      ],
      "source": [
        "import numpy as np\n",
        "from imblearn.over_sampling import RandomOverSampler\n",
        "from datasets import load_dataset\n",
        "\n",
        "# Load the dataset\n",
        "emotionData = load_dataset(\"emotion\")\n",
        "\n",
        "# Assuming 'train' is the training portion of your dataset\n",
        "X_train = emotionData['train']['text']\n",
        "y_train = emotionData['train']['label']\n",
        "\n",
        "# Instantiate the random oversampler\n",
        "oversampler = RandomOverSampler()\n",
        "\n",
        "# Convert list to numpy array\n",
        "X_train_array = np.array(X_train)\n",
        "\n",
        "# Resample the dataset\n",
        "X_resampled, y_resampled = oversampler.fit_resample(X_train_array.reshape(-1, 1), y_train)\n",
        "\n",
        "# Convert back to original format\n",
        "X_resampled = X_resampled.flatten()\n",
        "\n",
        "# Now you can use X_resampled and y_resampled for training\n"
      ],
      "metadata": {
        "ExecuteTime": {
          "end_time": "2024-02-25T22:07:19.268111600Z",
          "start_time": "2024-02-25T22:07:19.126778300Z"
        },
        "colab": {
          "base_uri": "https://localhost:8080/"
        },
        "id": "AToMOGu1T2D3",
        "outputId": "f483c033-c701-4c57-fb4d-e9ed8332a78f"
      },
      "execution_count": 11
    },
    {
      "cell_type": "code",
      "source": [
        "import matplotlib.pyplot as plt\n",
        "import pandas as pd\n",
        "\n",
        "# Convert resampled training data to a DataFrame\n",
        "resampled_df = pd.DataFrame({'text': X_resampled, 'label': y_resampled})\n",
        "\n",
        "# Plot the frequency of classes\n",
        "resampled_df[\"label\"].value_counts(ascending=True).plot.barh()\n",
        "plt.title(\"Frequency of Classes (Resampled)\")\n",
        "plt.show()\n"
      ],
      "metadata": {
        "colab": {
          "base_uri": "https://localhost:8080/",
          "height": 452
        },
        "id": "yIJW8pxNVe29",
        "outputId": "227c3de2-6c24-45f5-cf70-598cb96d2417"
      },
      "execution_count": 12,
      "outputs": [
        {
          "output_type": "display_data",
          "data": {
            "text/plain": [
              "<Figure size 640x480 with 1 Axes>"
            ],
            "image/png": "[encoded data removed]"
          },
          "metadata": {}
        }
      ]
    },
    {
      "cell_type": "markdown",
      "source": [
        "### How Long Are Our Tweets?\n",
        "\n",
        "Transformer models have a maximum input sequence length that is referred to as the _maximum context size_. For applications using DistilBERT, the maximum context size is 512 tokens, which amounts to a few paragraphs of text. As we'll see in the next section, a token is an atomic piece of text; for now, we'll treat a token as a single word. We can get a rough estimate of tweet lengths per emotion by looking at the distribution of words per tweet:"
      ],
      "metadata": {
        "id": "3XckwptsuhbR"
      }
    },
    {
      "cell_type": "code",
      "source": [
        "trainDf[\"Words per tweet\"] = trainDf[\"text\"].str.split().apply(len)\n",
        "trainDf.boxplot(\"Words per tweet\", by=\"label_name\")\n",
        "plt.suptitle(\"\")\n",
        "plt.xlabel(\"\")\n",
        "plt.show()"
      ],
      "metadata": {
        "colab": {
          "base_uri": "https://localhost:8080/",
          "height": 443
        },
        "id": "Fep2AwoCuh8Q",
        "outputId": "a5705137-6ce1-4d20-bfd6-4bc15fd55dcd"
      },
      "execution_count": 13,
      "outputs": [
        {
          "output_type": "display_data",
          "data": {
            "text/plain": [
              "<Figure size 640x480 with 1 Axes>"
            ],
            "image/png": "[encoded data removed]"
          },
          "metadata": {}
        }
      ]
    },
    {
      "cell_type": "markdown",
      "source": [
        "From the plot we see that for each emotion, most tweets are around 15 words long and the longest tweets are well below DistilBERT's maximum context size. Texts that are longer than a model's context size need to be truncated, which can lead to a loss in performance if the truncated text contains crucial information; in this case, it looks like that won't be an issue."
      ],
      "metadata": {
        "id": "Mg5tFXwmv9tE"
      }
    },
    {
      "cell_type": "markdown",
      "source": [
        "Let's now figure out how we can convert these raw texts into a format suitable for 🤗Transformers! While we're at it, let's also reset the output format of our dataset since we don't need the `DataFrame` format anymore:"
      ],
      "metadata": {
        "id": "bi57YYLDwEEQ"
      }
    },
    {
      "cell_type": "markdown",
      "source": [
        "## From Text to Tokens"
      ],
      "metadata": {
        "id": "TtkL3U60woWN"
      }
    },
    {
      "cell_type": "markdown",
      "source": [
        "Transformer models like DistilBERT cannot receive raw strings as input; instead, they assume the text has been _tokenized_ and _encoded_ as numerical vectors. Tokenization is the step of breaking down a string into the atomic units used in the model. There are several tokenization strategies one can adopt, and the optimal splitting of words into subunits is usually learned from the corpus. Before looking at the tokenizer used for DistilBERT, let's consider two extreme cases: _character_ and _word_ tokenization."
      ],
      "metadata": {
        "id": "UTe9Q1MKwq98"
      }
    },
    {
      "cell_type": "markdown",
      "source": [
        "### Character Tokenization\n",
        "\n",
        "The simplest tokenization scheme is to feed each character individually to the model. In Python, `str` objects are really arrays under the hood, which allows us to quickly implement character-level tokenization with just one line of code:"
      ],
      "metadata": {
        "id": "xjrycvqhw4Nu"
      }
    },
    {
      "cell_type": "code",
      "source": [
        "text = \"Tokenizing text is a core task of NLP.\"\n",
        "tokenized_text = list(text)\n",
        "print(tokenized_text)"
      ],
      "metadata": {
        "colab": {
          "base_uri": "https://localhost:8080/"
        },
        "id": "DnhztbAJvAD_",
        "outputId": "f01c6351-c811-4fd8-bcf2-c435aa5243ac"
      },
      "execution_count": 14,
      "outputs": [
        {
          "output_type": "stream",
          "name": "stdout",
          "text": [
            "['T', 'o', 'k', 'e', 'n', 'i', 'z', 'i', 'n', 'g', ' ', 't', 'e', 'x', 't', ' ', 'i', 's', ' ', 'a', ' ', 'c', 'o', 'r', 'e', ' ', 't', 'a', 's', 'k', ' ', 'o', 'f', ' ', 'N', 'L', 'P', '.']\n"
          ]
        }
      ]
    },
    {
      "cell_type": "markdown",
      "source": [
        "This is a good start, but we're not done yet. Our model expects each character to be  converted to an integer, a process sometimes called _numericalization_. One simple way to do this is by encoding each unique token (which are characters in this case) with a unique integer:"
      ],
      "metadata": {
        "id": "-nVa4d0lxJpd"
      }
    },
    {
      "cell_type": "code",
      "source": [
        "token2idx = {ch: idx for idx, ch in enumerate(sorted(set(tokenized_text)))}\n",
        "print(token2idx)"
      ],
      "metadata": {
        "colab": {
          "base_uri": "https://localhost:8080/"
        },
        "id": "SNaMgNb2xEYH",
        "outputId": "f7cd9b5c-0530-41f9-c599-3658487e583e"
      },
      "execution_count": 15,
      "outputs": [
        {
          "output_type": "stream",
          "name": "stdout",
          "text": [
            "{' ': 0, '.': 1, 'L': 2, 'N': 3, 'P': 4, 'T': 5, 'a': 6, 'c': 7, 'e': 8, 'f': 9, 'g': 10, 'i': 11, 'k': 12, 'n': 13, 'o': 14, 'r': 15, 's': 16, 't': 17, 'x': 18, 'z': 19}\n"
          ]
        }
      ]
    },
    {
      "cell_type": "markdown",
      "source": [
        "This gives us a mapping from each character in our vocabulary to a unique integer. We can now use `token2idx` to transform the tokenized text to a list of integers:"
      ],
      "metadata": {
        "id": "I8lFG1u6xUwE"
      }
    },
    {
      "cell_type": "code",
      "source": [
        "input_ids = [token2idx[token] for token in tokenized_text]\n",
        "print(input_ids)"
      ],
      "metadata": {
        "colab": {
          "base_uri": "https://localhost:8080/"
        },
        "id": "j9Yx4jn7xPIw",
        "outputId": "a04e912a-e0ad-4088-fbb0-8ddffed0516d"
      },
      "execution_count": 16,
      "outputs": [
        {
          "output_type": "stream",
          "name": "stdout",
          "text": [
            "[5, 14, 12, 8, 13, 11, 19, 11, 13, 10, 0, 17, 8, 18, 17, 0, 11, 16, 0, 6, 0, 7, 14, 15, 8, 0, 17, 6, 16, 12, 0, 14, 9, 0, 3, 2, 4, 1]\n"
          ]
        }
      ]
    },
    {
      "cell_type": "markdown",
      "source": [
        "Each token has now been mapped to a unique numerical identifier (hence the name `input_ids`). The last step is to convert `input_ids` to a 2D tensor of one-hot vectors. One-hot vectors are frequently used in machine learning to encode categorical data, which can be either ordinal or nominal. For example, suppose we wanted to encode the names of characters in the _Transformers_ TV series. One way to do this would be to map each name to a unique ID, as follows:"
      ],
      "metadata": {
        "id": "QK57liSCxaS2"
      }
    },
    {
      "cell_type": "code",
      "source": [
        "categorical_df = pd.DataFrame(\n",
        "    {\"Name\": [\"Bumblebee\", \"Optimus Prime\", \"Megatron\"], \"Label ID\": [0,1,2]})\n",
        "categorical_df"
      ],
      "metadata": {
        "colab": {
          "base_uri": "https://localhost:8080/",
          "height": 143
        },
        "id": "CzaA2Z1KxXBf",
        "outputId": "d03a333e-d768-4b5a-cfca-3de0b3be75fd"
      },
      "execution_count": 17,
      "outputs": [
        {
          "output_type": "execute_result",
          "data": {
            "text/plain": [
              "            Name  Label ID\n",
              "0      Bumblebee         0\n",
              "1  Optimus Prime         1\n",
              "2       Megatron         2"
            ],
            "text/html": [
              "\n",
              "  <div id=\"df-e3c7b4e7-d070-43a4-913f-ff6ce4437519\" class=\"colab-df-container\">\n",
              "    <div>\n",
              "<style scoped>\n",
              "    .dataframe tbody tr th:only-of-type {\n",
              "        vertical-align: middle;\n",
              "    }\n",
              "\n",
              "    .dataframe tbody tr th {\n",
              "        vertical-align: top;\n",
              "    }\n",
              "\n",
              "    .dataframe thead th {\n",
              "        text-align: right;\n",
              "    }\n",
              "</style>\n",
              "<table border=\"1\" class=\"dataframe\">\n",
              "  <thead>\n",
              "    <tr style=\"text-align: right;\">\n",
              "      <th></th>\n",
              "      <th>Name</th>\n",
              "      <th>Label ID</th>\n",
              "    </tr>\n",
              "  </thead>\n",
              "  <tbody>\n",
              "    <tr>\n",
              "      <th>0</th>\n",
              "      <td>Bumblebee</td>\n",
              "      <td>0</td>\n",
              "    </tr>\n",
              "    <tr>\n",
              "      <th>1</th>\n",
              "      <td>Optimus Prime</td>\n",
              "      <td>1</td>\n",
              "    </tr>\n",
              "    <tr>\n",
              "      <th>2</th>\n",
              "      <td>Megatron</td>\n",
              "      <td>2</td>\n",
              "    </tr>\n",
              "  </tbody>\n",
              "</table>\n",
              "</div>\n",
              "    <div class=\"colab-df-buttons\">\n",
              "\n",
              "  <div class=\"colab-df-container\">\n",
              "    <button class=\"colab-df-convert\" onclick=\"convertToInteractive('df-e3c7b4e7-d070-43a4-913f-ff6ce4437519')\"\n",
              "            title=\"Convert this dataframe to an interactive table.\"\n",
              "            style=\"display:none;\">\n",
              "\n",
              "  <svg xmlns=\"http://www.w3.org/2000/svg\" height=\"24px\" viewBox=\"0 -960 960 960\">\n",
              "    <path d=\"M120-120v-720h720v720H120Zm60-500h600v-160H180v160Zm220 220h160v-160H400v160Zm0 220h160v-160H400v160ZM180-400h160v-160H180v160Zm440 0h160v-160H620v160ZM180-180h160v-160H180v160Zm440 0h160v-160H620v160Z\"/>\n",
              "  </svg>\n",
              "    </button>\n",
              "\n",
              "  <style>\n",
              "    .colab-df-container {\n",
              "      display:flex;\n",
              "      gap: 12px;\n",
              "    }\n",
              "\n",
              "    .colab-df-convert {\n",
              "      background-color: #E8F0FE;\n",
              "      border: none;\n",
              "      border-radius: 50%;\n",
              "      cursor: pointer;\n",
              "      display: none;\n",
              "      fill: #1967D2;\n",
              "      height: 32px;\n",
              "      padding: 0 0 0 0;\n",
              "      width: 32px;\n",
              "    }\n",
              "\n",
              "    .colab-df-convert:hover {\n",
              "      background-color: #E2EBFA;\n",
              "      box-shadow: 0px 1px 2px rgba(60, 64, 67, 0.3), 0px 1px 3px 1px rgba(60, 64, 67, 0.15);\n",
              "      fill: #174EA6;\n",
              "    }\n",
              "\n",
              "    .colab-df-buttons div {\n",
              "      margin-bottom: 4px;\n",
              "    }\n",
              "\n",
              "    [theme=dark] .colab-df-convert {\n",
              "      background-color: #3B4455;\n",
              "      fill: #D2E3FC;\n",
              "    }\n",
              "\n",
              "    [theme=dark] .colab-df-convert:hover {\n",
              "      background-color: #434B5C;\n",
              "      box-shadow: 0px 1px 3px 1px rgba(0, 0, 0, 0.15);\n",
              "      filter: drop-shadow(0px 1px 2px rgba(0, 0, 0, 0.3));\n",
              "      fill: #FFFFFF;\n",
              "    }\n",
              "  </style>\n",
              "\n",
              "    <script>\n",
              "      const buttonEl =\n",
              "        document.querySelector('#df-e3c7b4e7-d070-43a4-913f-ff6ce4437519 button.colab-df-convert');\n",
              "      buttonEl.style.display =\n",
              "        google.colab.kernel.accessAllowed ? 'block' : 'none';\n",
              "\n",
              "      async function convertToInteractive(key) {\n",
              "        const element = document.querySelector('#df-e3c7b4e7-d070-43a4-913f-ff6ce4437519');\n",
              "        const dataTable =\n",
              "          await google.colab.kernel.invokeFunction('convertToInteractive',\n",
              "                                                    [key], {});\n",
              "        if (!dataTable) return;\n",
              "\n",
              "        const docLinkHtml = 'Like what you see? Visit the ' +\n",
              "          '<a target=\"_blank\" href=https://colab.research.google.com/notebooks/data_table.ipynb>data table notebook</a>'\n",
              "          + ' to learn more about interactive tables.';\n",
              "        element.innerHTML = '';\n",
              "        dataTable['output_type'] = 'display_data';\n",
              "        await google.colab.output.renderOutput(dataTable, element);\n",
              "        const docLink = document.createElement('div');\n",
              "        docLink.innerHTML = docLinkHtml;\n",
              "        element.appendChild(docLink);\n",
              "      }\n",
              "    </script>\n",
              "  </div>\n",
              "\n",
              "\n",
              "<div id=\"df-6b25d5ab-bb12-4e5f-bec6-ba5ed5bbdbdf\">\n",
              "  <button class=\"colab-df-quickchart\" onclick=\"quickchart('df-6b25d5ab-bb12-4e5f-bec6-ba5ed5bbdbdf')\"\n",
              "            title=\"Suggest charts\"\n",
              "            style=\"display:none;\">\n",
              "\n",
              "<svg xmlns=\"http://www.w3.org/2000/svg\" height=\"24px\"viewBox=\"0 0 24 24\"\n",
              "     width=\"24px\">\n",
              "    <g>\n",
              "        <path d=\"M19 3H5c-1.1 0-2 .9-2 2v14c0 1.1.9 2 2 2h14c1.1 0 2-.9 2-2V5c0-1.1-.9-2-2-2zM9 17H7v-7h2v7zm4 0h-2V7h2v10zm4 0h-2v-4h2v4z\"/>\n",
              "    </g>\n",
              "</svg>\n",
              "  </button>\n",
              "\n",
              "<style>\n",
              "  .colab-df-quickchart {\n",
              "      --bg-color: #E8F0FE;\n",
              "      --fill-color: #1967D2;\n",
              "      --hover-bg-color: #E2EBFA;\n",
              "      --hover-fill-color: #174EA6;\n",
              "      --disabled-fill-color: #AAA;\n",
              "      --disabled-bg-color: #DDD;\n",
              "  }\n",
              "\n",
              "  [theme=dark] .colab-df-quickchart {\n",
              "      --bg-color: #3B4455;\n",
              "      --fill-color: #D2E3FC;\n",
              "      --hover-bg-color: #434B5C;\n",
              "      --hover-fill-color: #FFFFFF;\n",
              "      --disabled-bg-color: #3B4455;\n",
              "      --disabled-fill-color: #666;\n",
              "  }\n",
              "\n",
              "  .colab-df-quickchart {\n",
              "    background-color: var(--bg-color);\n",
              "    border: none;\n",
              "    border-radius: 50%;\n",
              "    cursor: pointer;\n",
              "    display: none;\n",
              "    fill: var(--fill-color);\n",
              "    height: 32px;\n",
              "    padding: 0;\n",
              "    width: 32px;\n",
              "  }\n",
              "\n",
              "  .colab-df-quickchart:hover {\n",
              "    background-color: var(--hover-bg-color);\n",
              "    box-shadow: 0 1px 2px rgba(60, 64, 67, 0.3), 0 1px 3px 1px rgba(60, 64, 67, 0.15);\n",
              "    fill: var(--button-hover-fill-color);\n",
              "  }\n",
              "\n",
              "  .colab-df-quickchart-complete:disabled,\n",
              "  .colab-df-quickchart-complete:disabled:hover {\n",
              "    background-color: var(--disabled-bg-color);\n",
              "    fill: var(--disabled-fill-color);\n",
              "    box-shadow: none;\n",
              "  }\n",
              "\n",
              "  .colab-df-spinner {\n",
              "    border: 2px solid var(--fill-color);\n",
              "    border-color: transparent;\n",
              "    border-bottom-color: var(--fill-color);\n",
              "    animation:\n",
              "      spin 1s steps(1) infinite;\n",
              "  }\n",
              "\n",
              "  @keyframes spin {\n",
              "    0% {\n",
              "      border-color: transparent;\n",
              "      border-bottom-color: var(--fill-color);\n",
              "      border-left-color: var(--fill-color);\n",
              "    }\n",
              "    20% {\n",
              "      border-color: transparent;\n",
              "      border-left-color: var(--fill-color);\n",
              "      border-top-color: var(--fill-color);\n",
              "    }\n",
              "    30% {\n",
              "      border-color: transparent;\n",
              "      border-left-color: var(--fill-color);\n",
              "      border-top-color: var(--fill-color);\n",
              "      border-right-color: var(--fill-color);\n",
              "    }\n",
              "    40% {\n",
              "      border-color: transparent;\n",
              "      border-right-color: var(--fill-color);\n",
              "      border-top-color: var(--fill-color);\n",
              "    }\n",
              "    60% {\n",
              "      border-color: transparent;\n",
              "      border-right-color: var(--fill-color);\n",
              "    }\n",
              "    80% {\n",
              "      border-color: transparent;\n",
              "      border-right-color: var(--fill-color);\n",
              "      border-bottom-color: var(--fill-color);\n",
              "    }\n",
              "    90% {\n",
              "      border-color: transparent;\n",
              "      border-bottom-color: var(--fill-color);\n",
              "    }\n",
              "  }\n",
              "</style>\n",
              "\n",
              "  <script>\n",
              "    async function quickchart(key) {\n",
              "      const quickchartButtonEl =\n",
              "        document.querySelector('#' + key + ' button');\n",
              "      quickchartButtonEl.disabled = true;  // To prevent multiple clicks.\n",
              "      quickchartButtonEl.classList.add('colab-df-spinner');\n",
              "      try {\n",
              "        const charts = await google.colab.kernel.invokeFunction(\n",
              "            'suggestCharts', [key], {});\n",
              "      } catch (error) {\n",
              "        console.error('Error during call to suggestCharts:', error);\n",
              "      }\n",
              "      quickchartButtonEl.classList.remove('colab-df-spinner');\n",
              "      quickchartButtonEl.classList.add('colab-df-quickchart-complete');\n",
              "    }\n",
              "    (() => {\n",
              "      let quickchartButtonEl =\n",
              "        document.querySelector('#df-6b25d5ab-bb12-4e5f-bec6-ba5ed5bbdbdf button');\n",
              "      quickchartButtonEl.style.display =\n",
              "        google.colab.kernel.accessAllowed ? 'block' : 'none';\n",
              "    })();\n",
              "  </script>\n",
              "</div>\n",
              "    </div>\n",
              "  </div>\n"
            ],
            "application/vnd.google.colaboratory.intrinsic+json": {
              "type": "dataframe",
              "variable_name": "categorical_df",
              "summary": "{\n  \"name\": \"categorical_df\",\n  \"rows\": 3,\n  \"fields\": [\n    {\n      \"column\": \"Name\",\n      \"properties\": {\n        \"dtype\": \"string\",\n        \"num_unique_values\": 3,\n        \"samples\": [\n          \"Bumblebee\",\n          \"Optimus Prime\",\n          \"Megatron\"\n        ],\n        \"semantic_type\": \"\",\n        \"description\": \"\"\n      }\n    },\n    {\n      \"column\": \"Label ID\",\n      \"properties\": {\n        \"dtype\": \"number\",\n        \"std\": 1,\n        \"min\": 0,\n        \"max\": 2,\n        \"num_unique_values\": 3,\n        \"samples\": [\n          0,\n          1,\n          2\n        ],\n        \"semantic_type\": \"\",\n        \"description\": \"\"\n      }\n    }\n  ]\n}"
            }
          },
          "metadata": {},
          "execution_count": 17
        }
      ]
    },
    {
      "cell_type": "markdown",
      "source": [
        "The problem with this approach is that it creates a fictitious ordering between the names, and neural networks are _really_ good at learning these kinds of relationships. So instead, we can create a new column for each category and assign a 1 where the category is true, and a 0 otherwise. In Pandas, this can be implemented with the `get_dummies()` function as follows:"
      ],
      "metadata": {
        "id": "YtelRmSTxnXA"
      }
    },
    {
      "cell_type": "code",
      "source": [
        "pd.get_dummies(categorical_df[\"Name\"])"
      ],
      "metadata": {
        "colab": {
          "base_uri": "https://localhost:8080/",
          "height": 143
        },
        "id": "GVqcxOi6xiYG",
        "outputId": "b94a87c9-5f3d-428c-8955-5ee130f52f02"
      },
      "execution_count": 18,
      "outputs": [
        {
          "output_type": "execute_result",
          "data": {
            "text/plain": [
              "   Bumblebee  Megatron  Optimus Prime\n",
              "0          1         0              0\n",
              "1          0         0              1\n",
              "2          0         1              0"
            ],
            "text/html": [
              "\n",
              "  <div id=\"df-d26075df-7833-443e-b03a-bd523daeb9d4\" class=\"colab-df-container\">\n",
              "    <div>\n",
              "<style scoped>\n",
              "    .dataframe tbody tr th:only-of-type {\n",
              "        vertical-align: middle;\n",
              "    }\n",
              "\n",
              "    .dataframe tbody tr th {\n",
              "        vertical-align: top;\n",
              "    }\n",
              "\n",
              "    .dataframe thead th {\n",
              "        text-align: right;\n",
              "    }\n",
              "</style>\n",
              "<table border=\"1\" class=\"dataframe\">\n",
              "  <thead>\n",
              "    <tr style=\"text-align: right;\">\n",
              "      <th></th>\n",
              "      <th>Bumblebee</th>\n",
              "      <th>Megatron</th>\n",
              "      <th>Optimus Prime</th>\n",
              "    </tr>\n",
              "  </thead>\n",
              "  <tbody>\n",
              "    <tr>\n",
              "      <th>0</th>\n",
              "      <td>1</td>\n",
              "      <td>0</td>\n",
              "      <td>0</td>\n",
              "    </tr>\n",
              "    <tr>\n",
              "      <th>1</th>\n",
              "      <td>0</td>\n",
              "      <td>0</td>\n",
              "      <td>1</td>\n",
              "    </tr>\n",
              "    <tr>\n",
              "      <th>2</th>\n",
              "      <td>0</td>\n",
              "      <td>1</td>\n",
              "      <td>0</td>\n",
              "    </tr>\n",
              "  </tbody>\n",
              "</table>\n",
              "</div>\n",
              "    <div class=\"colab-df-buttons\">\n",
              "\n",
              "  <div class=\"colab-df-container\">\n",
              "    <button class=\"colab-df-convert\" onclick=\"convertToInteractive('df-d26075df-7833-443e-b03a-bd523daeb9d4')\"\n",
              "            title=\"Convert this dataframe to an interactive table.\"\n",
              "            style=\"display:none;\">\n",
              "\n",
              "  <svg xmlns=\"http://www.w3.org/2000/svg\" height=\"24px\" viewBox=\"0 -960 960 960\">\n",
              "    <path d=\"M120-120v-720h720v720H120Zm60-500h600v-160H180v160Zm220 220h160v-160H400v160Zm0 220h160v-160H400v160ZM180-400h160v-160H180v160Zm440 0h160v-160H620v160ZM180-180h160v-160H180v160Zm440 0h160v-160H620v160Z\"/>\n",
              "  </svg>\n",
              "    </button>\n",
              "\n",
              "  <style>\n",
              "    .colab-df-container {\n",
              "      display:flex;\n",
              "      gap: 12px;\n",
              "    }\n",
              "\n",
              "    .colab-df-convert {\n",
              "      background-color: #E8F0FE;\n",
              "      border: none;\n",
              "      border-radius: 50%;\n",
              "      cursor: pointer;\n",
              "      display: none;\n",
              "      fill: #1967D2;\n",
              "      height: 32px;\n",
              "      padding: 0 0 0 0;\n",
              "      width: 32px;\n",
              "    }\n",
              "\n",
              "    .colab-df-convert:hover {\n",
              "      background-color: #E2EBFA;\n",
              "      box-shadow: 0px 1px 2px rgba(60, 64, 67, 0.3), 0px 1px 3px 1px rgba(60, 64, 67, 0.15);\n",
              "      fill: #174EA6;\n",
              "    }\n",
              "\n",
              "    .colab-df-buttons div {\n",
              "      margin-bottom: 4px;\n",
              "    }\n",
              "\n",
              "    [theme=dark] .colab-df-convert {\n",
              "      background-color: #3B4455;\n",
              "      fill: #D2E3FC;\n",
              "    }\n",
              "\n",
              "    [theme=dark] .colab-df-convert:hover {\n",
              "      background-color: #434B5C;\n",
              "      box-shadow: 0px 1px 3px 1px rgba(0, 0, 0, 0.15);\n",
              "      filter: drop-shadow(0px 1px 2px rgba(0, 0, 0, 0.3));\n",
              "      fill: #FFFFFF;\n",
              "    }\n",
              "  </style>\n",
              "\n",
              "    <script>\n",
              "      const buttonEl =\n",
              "        document.querySelector('#df-d26075df-7833-443e-b03a-bd523daeb9d4 button.colab-df-convert');\n",
              "      buttonEl.style.display =\n",
              "        google.colab.kernel.accessAllowed ? 'block' : 'none';\n",
              "\n",
              "      async function convertToInteractive(key) {\n",
              "        const element = document.querySelector('#df-d26075df-7833-443e-b03a-bd523daeb9d4');\n",
              "        const dataTable =\n",
              "          await google.colab.kernel.invokeFunction('convertToInteractive',\n",
              "                                                    [key], {});\n",
              "        if (!dataTable) return;\n",
              "\n",
              "        const docLinkHtml = 'Like what you see? Visit the ' +\n",
              "          '<a target=\"_blank\" href=https://colab.research.google.com/notebooks/data_table.ipynb>data table notebook</a>'\n",
              "          + ' to learn more about interactive tables.';\n",
              "        element.innerHTML = '';\n",
              "        dataTable['output_type'] = 'display_data';\n",
              "        await google.colab.output.renderOutput(dataTable, element);\n",
              "        const docLink = document.createElement('div');\n",
              "        docLink.innerHTML = docLinkHtml;\n",
              "        element.appendChild(docLink);\n",
              "      }\n",
              "    </script>\n",
              "  </div>\n",
              "\n",
              "\n",
              "<div id=\"df-c4b0b0dd-4890-4a34-a8d5-e7d7e29cfae1\">\n",
              "  <button class=\"colab-df-quickchart\" onclick=\"quickchart('df-c4b0b0dd-4890-4a34-a8d5-e7d7e29cfae1')\"\n",
              "            title=\"Suggest charts\"\n",
              "            style=\"display:none;\">\n",
              "\n",
              "<svg xmlns=\"http://www.w3.org/2000/svg\" height=\"24px\"viewBox=\"0 0 24 24\"\n",
              "     width=\"24px\">\n",
              "    <g>\n",
              "        <path d=\"M19 3H5c-1.1 0-2 .9-2 2v14c0 1.1.9 2 2 2h14c1.1 0 2-.9 2-2V5c0-1.1-.9-2-2-2zM9 17H7v-7h2v7zm4 0h-2V7h2v10zm4 0h-2v-4h2v4z\"/>\n",
              "    </g>\n",
              "</svg>\n",
              "  </button>\n",
              "\n",
              "<style>\n",
              "  .colab-df-quickchart {\n",
              "      --bg-color: #E8F0FE;\n",
              "      --fill-color: #1967D2;\n",
              "      --hover-bg-color: #E2EBFA;\n",
              "      --hover-fill-color: #174EA6;\n",
              "      --disabled-fill-color: #AAA;\n",
              "      --disabled-bg-color: #DDD;\n",
              "  }\n",
              "\n",
              "  [theme=dark] .colab-df-quickchart {\n",
              "      --bg-color: #3B4455;\n",
              "      --fill-color: #D2E3FC;\n",
              "      --hover-bg-color: #434B5C;\n",
              "      --hover-fill-color: #FFFFFF;\n",
              "      --disabled-bg-color: #3B4455;\n",
              "      --disabled-fill-color: #666;\n",
              "  }\n",
              "\n",
              "  .colab-df-quickchart {\n",
              "    background-color: var(--bg-color);\n",
              "    border: none;\n",
              "    border-radius: 50%;\n",
              "    cursor: pointer;\n",
              "    display: none;\n",
              "    fill: var(--fill-color);\n",
              "    height: 32px;\n",
              "    padding: 0;\n",
              "    width: 32px;\n",
              "  }\n",
              "\n",
              "  .colab-df-quickchart:hover {\n",
              "    background-color: var(--hover-bg-color);\n",
              "    box-shadow: 0 1px 2px rgba(60, 64, 67, 0.3), 0 1px 3px 1px rgba(60, 64, 67, 0.15);\n",
              "    fill: var(--button-hover-fill-color);\n",
              "  }\n",
              "\n",
              "  .colab-df-quickchart-complete:disabled,\n",
              "  .colab-df-quickchart-complete:disabled:hover {\n",
              "    background-color: var(--disabled-bg-color);\n",
              "    fill: var(--disabled-fill-color);\n",
              "    box-shadow: none;\n",
              "  }\n",
              "\n",
              "  .colab-df-spinner {\n",
              "    border: 2px solid var(--fill-color);\n",
              "    border-color: transparent;\n",
              "    border-bottom-color: var(--fill-color);\n",
              "    animation:\n",
              "      spin 1s steps(1) infinite;\n",
              "  }\n",
              "\n",
              "  @keyframes spin {\n",
              "    0% {\n",
              "      border-color: transparent;\n",
              "      border-bottom-color: var(--fill-color);\n",
              "      border-left-color: var(--fill-color);\n",
              "    }\n",
              "    20% {\n",
              "      border-color: transparent;\n",
              "      border-left-color: var(--fill-color);\n",
              "      border-top-color: var(--fill-color);\n",
              "    }\n",
              "    30% {\n",
              "      border-color: transparent;\n",
              "      border-left-color: var(--fill-color);\n",
              "      border-top-color: var(--fill-color);\n",
              "      border-right-color: var(--fill-color);\n",
              "    }\n",
              "    40% {\n",
              "      border-color: transparent;\n",
              "      border-right-color: var(--fill-color);\n",
              "      border-top-color: var(--fill-color);\n",
              "    }\n",
              "    60% {\n",
              "      border-color: transparent;\n",
              "      border-right-color: var(--fill-color);\n",
              "    }\n",
              "    80% {\n",
              "      border-color: transparent;\n",
              "      border-right-color: var(--fill-color);\n",
              "      border-bottom-color: var(--fill-color);\n",
              "    }\n",
              "    90% {\n",
              "      border-color: transparent;\n",
              "      border-bottom-color: var(--fill-color);\n",
              "    }\n",
              "  }\n",
              "</style>\n",
              "\n",
              "  <script>\n",
              "    async function quickchart(key) {\n",
              "      const quickchartButtonEl =\n",
              "        document.querySelector('#' + key + ' button');\n",
              "      quickchartButtonEl.disabled = true;  // To prevent multiple clicks.\n",
              "      quickchartButtonEl.classList.add('colab-df-spinner');\n",
              "      try {\n",
              "        const charts = await google.colab.kernel.invokeFunction(\n",
              "            'suggestCharts', [key], {});\n",
              "      } catch (error) {\n",
              "        console.error('Error during call to suggestCharts:', error);\n",
              "      }\n",
              "      quickchartButtonEl.classList.remove('colab-df-spinner');\n",
              "      quickchartButtonEl.classList.add('colab-df-quickchart-complete');\n",
              "    }\n",
              "    (() => {\n",
              "      let quickchartButtonEl =\n",
              "        document.querySelector('#df-c4b0b0dd-4890-4a34-a8d5-e7d7e29cfae1 button');\n",
              "      quickchartButtonEl.style.display =\n",
              "        google.colab.kernel.accessAllowed ? 'block' : 'none';\n",
              "    })();\n",
              "  </script>\n",
              "</div>\n",
              "    </div>\n",
              "  </div>\n"
            ],
            "application/vnd.google.colaboratory.intrinsic+json": {
              "type": "dataframe",
              "summary": "{\n  \"name\": \"pd\",\n  \"rows\": 3,\n  \"fields\": [\n    {\n      \"column\": \"Bumblebee\",\n      \"properties\": {\n        \"dtype\": \"uint8\",\n        \"num_unique_values\": 2,\n        \"samples\": [\n          0,\n          1\n        ],\n        \"semantic_type\": \"\",\n        \"description\": \"\"\n      }\n    },\n    {\n      \"column\": \"Megatron\",\n      \"properties\": {\n        \"dtype\": \"uint8\",\n        \"num_unique_values\": 2,\n        \"samples\": [\n          1,\n          0\n        ],\n        \"semantic_type\": \"\",\n        \"description\": \"\"\n      }\n    },\n    {\n      \"column\": \"Optimus Prime\",\n      \"properties\": {\n        \"dtype\": \"uint8\",\n        \"num_unique_values\": 2,\n        \"samples\": [\n          1,\n          0\n        ],\n        \"semantic_type\": \"\",\n        \"description\": \"\"\n      }\n    }\n  ]\n}"
            }
          },
          "metadata": {},
          "execution_count": 18
        }
      ]
    },
    {
      "cell_type": "markdown",
      "source": [
        "The rows of this `DataFrame` are the one-hot vectors, which have a single \"hot\" entry with a 1 and 0s everywhere else. Now, looking at our `input_ids`, we have a similar problem: the elements create an ordinal scale. This means that adding or subtracting two IDs is a meaningless operation, since the result is a new ID that represents another random token.\n",
        "\n",
        "On the other hand, the result of adding two one-hot encodings can easily be interpreted: the two entries that are \"hot\" indicate that the corresponding tokens co-occur. We can create the one-hot encodings in PyTorch by converting `input_ids` to a tensor and applying the `one_hot()` function as follows:"
      ],
      "metadata": {
        "id": "H8JnWOCNx_f2"
      }
    },
    {
      "cell_type": "code",
      "source": [
        "import torch\n",
        "import torch.nn.functional as F\n",
        "\n",
        "input_ids = torch.tensor(input_ids)\n",
        "one_hot_encodings = F.one_hot(input_ids, num_classes=len(token2idx))\n",
        "one_hot_encodings.shape"
      ],
      "metadata": {
        "colab": {
          "base_uri": "https://localhost:8080/"
        },
        "id": "MoPx9S9zxr31",
        "outputId": "9e73c068-da9a-4b5b-ca6b-b89e623378f3"
      },
      "execution_count": 19,
      "outputs": [
        {
          "output_type": "execute_result",
          "data": {
            "text/plain": [
              "torch.Size([38, 20])"
            ]
          },
          "metadata": {},
          "execution_count": 19
        }
      ]
    },
    {
      "cell_type": "markdown",
      "source": [
        "For each of the 38 input tokens we now have a one-hot vector with 20 dimensions, since our vocabulary consists of 20 unique characters.\n",
        "\n",
        "> Warning: It's important to always set `num_classes` in the `one_hot()` function because otherwise the one-hot vectors may end up being shorter than the length of the vocabulary (and need to be padded with zeros manually). In TensorFlow, the equivalent function is `tf.one_hot()`, where the `depth` argument plays the role of `num_classes`."
      ],
      "metadata": {
        "id": "ZFtR21S1x60F"
      }
    },
    {
      "cell_type": "code",
      "source": [
        "print(f\"Token: {tokenized_text[0]}\")\n",
        "print(f\"Tensor index: {input_ids[0]}\")\n",
        "# This is a 1-hot vector\n",
        "print(f\"One-hot: {one_hot_encodings[0]}\")"
      ],
      "metadata": {
        "colab": {
          "base_uri": "https://localhost:8080/"
        },
        "id": "I1u3Vqh8x2JE",
        "outputId": "9e9938b4-7cf2-42bb-d39f-66777678fd97"
      },
      "execution_count": 20,
      "outputs": [
        {
          "output_type": "stream",
          "name": "stdout",
          "text": [
            "Token: T\n",
            "Tensor index: 5\n",
            "One-hot: tensor([0, 0, 0, 0, 0, 1, 0, 0, 0, 0, 0, 0, 0, 0, 0, 0, 0, 0, 0, 0])\n"
          ]
        }
      ]
    },
    {
      "cell_type": "markdown",
      "source": [
        "From our simple example we can see that **character-level tokenization ignores any structure in the text and treats the whole string as a stream of characters**. Although this helps deal with misspellings and rare words, the main drawback is that **linguistic structures such as words need to be _learned_ from the data**. This requires significant compute, memory, and data. For this reason, character tokenization is rarely used in practice. Instead, some structure of the text is preserved during the tokenization step. _Word tokenization_ is a straightforward approach to achieve this, so let's take a look at how it works."
      ],
      "metadata": {
        "id": "7eHWfnv_yh5Q"
      }
    },
    {
      "cell_type": "markdown",
      "source": [
        "### Word Tokenization\n",
        "\n",
        "Instead of splitting the text into characters, we can split it into words and map each word to an integer. Using words from the outset enables the model to skip the step of learning words from characters, and thereby reduces the complexity of the training process."
      ],
      "metadata": {
        "id": "IExSCaq3ywoN"
      }
    },
    {
      "cell_type": "code",
      "source": [
        "tokenized_text = text.split()\n",
        "print(tokenized_text)"
      ],
      "metadata": {
        "colab": {
          "base_uri": "https://localhost:8080/"
        },
        "id": "JfimLQNwyW5M",
        "outputId": "854f87c7-5df5-49df-9e1b-c26204612765"
      },
      "execution_count": 21,
      "outputs": [
        {
          "output_type": "stream",
          "name": "stdout",
          "text": [
            "['Tokenizing', 'text', 'is', 'a', 'core', 'task', 'of', 'NLP.']\n"
          ]
        }
      ]
    },
    {
      "cell_type": "markdown",
      "source": [
        "We see that punctuation is not considered for now. This can be a problem with the size of the vocabulary can easily grow into the millions!\n",
        "\n",
        "A common approach is to limit the vocabulary and discard rare words by considering, say, the 100,000 most common words in the corpus. Words that are not part of the vocabulary are classified as \"unknown\" and mapped to a shared `UNK` token. This means that we lose some potentially important information in the process of word tokenization, since the model has no information about words associated with `UNK`."
      ],
      "metadata": {
        "id": "RgP2PiqWzJ7_"
      }
    },
    {
      "cell_type": "markdown",
      "source": [
        "### Subword Tokenization\n",
        "\n",
        "The basic idea behind subword tokenization is to combine the best aspects of character and word tokenization. On the one hand, we want to split rare words into smaller units to allow the model to deal with complex words and misspellings. On the other hand, we want to keep frequent words as unique entities so that we can keep the length of our inputs to a manageable size. The main distinguishing feature of subword tokenization (as well as word tokenization) is that it is _learned_ from the pretraining corpus using a mix of statistical rules and algorithms.\n",
        "\n",
        "There are several subword tokenization algorithms that are commonly used in NLP, but let's start with WordPiece,footnote:[M. Schuster and K. Nakajima, \"Japanese and Korean Voice Search,\" _2012 IEEE International Conference on Acoustics, Speech and Signal Processing_ (2012): 5149–5152, https://doi.org/10.1109/ICASSP.2012.6289079.] which is used by the BERT and DistilBERT tokenizers. The easiest way to understand how WordPiece works is to see it in action. 🤗Transformers provides a convenient `AutoTokenizer` class that allows you to quickly load the tokenizer associated with a pretrained model—we just call its `from_pretrained()` method, providing the ID of a model on the Hub or a local file path. Let's start by loading the tokenizer for DistilBERT:"
      ],
      "metadata": {
        "id": "YX0fhI_Ez3Pm"
      }
    },
    {
      "cell_type": "code",
      "source": [
        "from transformers import AutoTokenizer\n",
        "\n",
        "model_ckpt = \"distilbert-base-uncased\"\n",
        "tokenizer = AutoTokenizer.from_pretrained(model_ckpt)"
      ],
      "metadata": {
        "id": "SgmcXYB9zxkr"
      },
      "execution_count": 22,
      "outputs": []
    },
    {
      "cell_type": "markdown",
      "source": [
        "The `AutoTokenizer` class belongs to a larger set of [\"auto\" classes](https://huggingface.co/docs/transformers/model_doc/auto) whose job is to automatically retrieve the model's configuration, pretrained weights, or vocabulary from the name of the checkpoint. This allows you to quickly switch between models, but if you wish to load the specific class manually you can do so as well. For example, we could have loaded the DistilBERT tokenizer as follows:\n",
        "\n",
        "```python\n",
        "from transformers import DistilBertTokenizer\n",
        "\n",
        "distilbert_tokenizer = DistilBertTokenizer.from_pretrained(model_ckpt)\n",
        "```"
      ],
      "metadata": {
        "id": "5iw2_l761dYf"
      }
    },
    {
      "cell_type": "code",
      "source": [
        "# Passing to the tokenizer our text\n",
        "encoded_text = tokenizer(text)\n",
        "print(encoded_text)"
      ],
      "metadata": {
        "colab": {
          "base_uri": "https://localhost:8080/"
        },
        "id": "qMDCj2m2y8tx",
        "outputId": "e6ecbe99-d4e4-46cd-e6c6-8219395525a7"
      },
      "execution_count": 23,
      "outputs": [
        {
          "output_type": "stream",
          "name": "stdout",
          "text": [
            "{'input_ids': [101, 19204, 6026, 3793, 2003, 1037, 4563, 4708, 1997, 17953, 2361, 1012, 102], 'attention_mask': [1, 1, 1, 1, 1, 1, 1, 1, 1, 1, 1, 1, 1]}\n"
          ]
        }
      ]
    },
    {
      "cell_type": "markdown",
      "source": [
        "Just like we saw with character tokenization, we can see that the words have been mapped to unique integers in the `input_ids` field. We'll discuss the role of the `attention_mask` field in the next section. Now that we have the `input_ids`, we can convert them back into tokens by using the tokenizer's `convert_ids_to_tokens()` method:"
      ],
      "metadata": {
        "id": "g8r7ucE_16Me"
      }
    },
    {
      "cell_type": "code",
      "source": [
        "tokens = tokenizer.convert_ids_to_tokens(encoded_text.input_ids)\n",
        "print(tokens)"
      ],
      "metadata": {
        "colab": {
          "base_uri": "https://localhost:8080/"
        },
        "id": "j8si6gC81sWQ",
        "outputId": "99f21d62-e6cb-4aa1-a05a-65fe4b02ba8b"
      },
      "execution_count": 24,
      "outputs": [
        {
          "output_type": "stream",
          "name": "stdout",
          "text": [
            "['[CLS]', 'token', '##izing', 'text', 'is', 'a', 'core', 'task', 'of', 'nl', '##p', '.', '[SEP]']\n"
          ]
        }
      ]
    },
    {
      "cell_type": "markdown",
      "source": [
        "We can observe three things here. First, some special `[CLS]` and `[SEP]` tokens have been added to the start and end of the sequence. These tokens differ from model to model, but their main role is to indicate the start and end of a sequence. Second, the tokens have each been lowercased, which is a feature of this particular checkpoint. Finally, we can see that \"tokenizing\" and \"NLP\" have been split into two tokens, which makes sense since they are not common words. The `##` prefix in `##izing` and `##p` means that the preceding string is not whitespace; any token with this prefix should be merged with the previous token when you convert the tokens back to a string. The `AutoTokenizer` class has a `convert_tokens_to_string()` method for doing just that, so let's apply it to our tokens:"
      ],
      "metadata": {
        "id": "eiQucytbH6V0"
      }
    },
    {
      "cell_type": "code",
      "source": [
        "print(tokenizer.convert_tokens_to_string(tokens))"
      ],
      "metadata": {
        "colab": {
          "base_uri": "https://localhost:8080/"
        },
        "id": "UESMXNS5H3qJ",
        "outputId": "28318af2-aacf-4964-8842-26ee685a8f39"
      },
      "execution_count": 25,
      "outputs": [
        {
          "output_type": "stream",
          "name": "stdout",
          "text": [
            "[CLS] tokenizing text is a core task of nlp. [SEP]\n"
          ]
        }
      ]
    },
    {
      "cell_type": "markdown",
      "source": [
        "The `AutoTokenizer` class also has several attributes that provide information about the tokenizer. For example, we can inspect the vocabulary size:"
      ],
      "metadata": {
        "id": "vCazv5gPIsRL"
      }
    },
    {
      "cell_type": "code",
      "source": [
        "tokenizer.vocab_size"
      ],
      "metadata": {
        "colab": {
          "base_uri": "https://localhost:8080/"
        },
        "id": "o0RQ2JBjISKU",
        "outputId": "bc9e53bf-238f-4f75-a9d0-d9f84136f348"
      },
      "execution_count": 26,
      "outputs": [
        {
          "output_type": "execute_result",
          "data": {
            "text/plain": [
              "30522"
            ]
          },
          "metadata": {},
          "execution_count": 26
        }
      ]
    },
    {
      "cell_type": "code",
      "source": [
        "# Names of the fields expected in the foward pass\n",
        "tokenizer.model_input_names"
      ],
      "metadata": {
        "colab": {
          "base_uri": "https://localhost:8080/"
        },
        "id": "z8OLrUvQIu6p",
        "outputId": "6c0313b0-1d31-49ff-8e71-e10f9c9338f2"
      },
      "execution_count": 27,
      "outputs": [
        {
          "output_type": "execute_result",
          "data": {
            "text/plain": [
              "['input_ids', 'attention_mask']"
            ]
          },
          "metadata": {},
          "execution_count": 27
        }
      ]
    },
    {
      "cell_type": "markdown",
      "source": [
        "> warning: When using pretrained models, it is _really_ important to make sure that you use the same tokenizer that the model was trained with. From the model's perspective, switching the tokenizer is like shuffling the vocabulary. If everyone around you started swapping random words like \"house\" for \"cat,\" you'd have a hard time understanding what was going on too!"
      ],
      "metadata": {
        "id": "FlmA47jEI8IY"
      }
    },
    {
      "cell_type": "markdown",
      "source": [
        "### Tokenizing the Whole Dataset\n",
        "\n",
        "To tokenize the whole corpus, we'll use the `map()` method of our `DatasetDict` object. We'll encounter this method many times throughout this book, as it provides a convenient way to apply a processing function to each element in a dataset. As we'll soon see, the `map()` method can also be used to create new rows and columns.\n",
        "\n",
        "To get started, the first thing we need is a processing function to tokenize our examples with:"
      ],
      "metadata": {
        "id": "4pyfdKwfJGHn"
      }
    },
    {
      "cell_type": "code",
      "source": [
        "def tokenize(batch):\n",
        "  return tokenizer(batch[\"text\"], padding=True, truncation=True)"
      ],
      "metadata": {
        "id": "VUtj2yJzIwn-"
      },
      "execution_count": 28,
      "outputs": []
    },
    {
      "cell_type": "markdown",
      "source": [
        "This function applies the tokenizer to a batch of examples; `padding=True` will pad the examples with zeros to the size of the longest one in a batch, and `truncation=True` will truncate the examples to the model's maximum context size. To see `tokenize()` in action, let's pass a batch of two examples from the training set:"
      ],
      "metadata": {
        "id": "FgXPgd_ELDhN"
      }
    },
    {
      "cell_type": "code",
      "source": [
        "emotionData['train'][:2]"
      ],
      "metadata": {
        "colab": {
          "base_uri": "https://localhost:8080/"
        },
        "id": "gb6qK2iRLDt2",
        "outputId": "77a5bd45-2c10-40bc-c7a4-6a04a48df8ce"
      },
      "execution_count": 29,
      "outputs": [
        {
          "output_type": "execute_result",
          "data": {
            "text/plain": [
              "{'text': ['i didnt feel humiliated',\n",
              "  'i can go from feeling so hopeless to so damned hopeful just from being around someone who cares and is awake'],\n",
              " 'label': [0, 0]}"
            ]
          },
          "metadata": {},
          "execution_count": 29
        }
      ]
    },
    {
      "cell_type": "code",
      "source": [
        "tokenize(emotionData[\"train\"][:2])"
      ],
      "metadata": {
        "colab": {
          "base_uri": "https://localhost:8080/"
        },
        "id": "E2HsbYFCLSDo",
        "outputId": "fd20cae7-d635-4799-8f68-14ed22acc609"
      },
      "execution_count": 30,
      "outputs": [
        {
          "output_type": "execute_result",
          "data": {
            "text/plain": [
              "{'input_ids': [[101, 1045, 2134, 2102, 2514, 26608, 102, 0, 0, 0, 0, 0, 0, 0, 0, 0, 0, 0, 0, 0, 0, 0, 0], [101, 1045, 2064, 2175, 2013, 3110, 2061, 20625, 2000, 2061, 9636, 17772, 2074, 2013, 2108, 2105, 2619, 2040, 14977, 1998, 2003, 8300, 102]], 'attention_mask': [[1, 1, 1, 1, 1, 1, 1, 0, 0, 0, 0, 0, 0, 0, 0, 0, 0, 0, 0, 0, 0, 0, 0], [1, 1, 1, 1, 1, 1, 1, 1, 1, 1, 1, 1, 1, 1, 1, 1, 1, 1, 1, 1, 1, 1, 1]]}"
            ]
          },
          "metadata": {},
          "execution_count": 30
        }
      ]
    },
    {
      "cell_type": "markdown",
      "source": [
        "Here we can see the result of padding: the first element of `input_ids` is shorter than the second, so zeros have been added to that element to make them the same length. These zeros have a corresponding `[PAD]` token in the vocabulary, and the set of special tokens also includes the `[CLS]` and `[SEP]` tokens that we encountered earlier:"
      ],
      "metadata": {
        "id": "jfNnBjchMWL5"
      }
    },
    {
      "cell_type": "code",
      "source": [
        "tokens2ids = list(zip(tokenizer.all_special_tokens, tokenizer.all_special_ids))\n",
        "data = sorted(tokens2ids, key=lambda x : x[-1])\n",
        "df = pd.DataFrame(data, columns=[\"Special Token\", \"Special Token ID\"])\n",
        "df.T"
      ],
      "metadata": {
        "colab": {
          "base_uri": "https://localhost:8080/",
          "height": 112
        },
        "id": "iuu4wRZPMJzS",
        "outputId": "439cf562-9b33-4503-dfb4-8c820e2ea2eb"
      },
      "execution_count": 31,
      "outputs": [
        {
          "output_type": "execute_result",
          "data": {
            "text/plain": [
              "                      0      1      2      3       4\n",
              "Special Token     [PAD]  [UNK]  [CLS]  [SEP]  [MASK]\n",
              "Special Token ID      0    100    101    102     103"
            ],
            "text/html": [
              "\n",
              "  <div id=\"df-ad593316-de1c-4013-b357-6c9eaa333738\" class=\"colab-df-container\">\n",
              "    <div>\n",
              "<style scoped>\n",
              "    .dataframe tbody tr th:only-of-type {\n",
              "        vertical-align: middle;\n",
              "    }\n",
              "\n",
              "    .dataframe tbody tr th {\n",
              "        vertical-align: top;\n",
              "    }\n",
              "\n",
              "    .dataframe thead th {\n",
              "        text-align: right;\n",
              "    }\n",
              "</style>\n",
              "<table border=\"1\" class=\"dataframe\">\n",
              "  <thead>\n",
              "    <tr style=\"text-align: right;\">\n",
              "      <th></th>\n",
              "      <th>0</th>\n",
              "      <th>1</th>\n",
              "      <th>2</th>\n",
              "      <th>3</th>\n",
              "      <th>4</th>\n",
              "    </tr>\n",
              "  </thead>\n",
              "  <tbody>\n",
              "    <tr>\n",
              "      <th>Special Token</th>\n",
              "      <td>[PAD]</td>\n",
              "      <td>[UNK]</td>\n",
              "      <td>[CLS]</td>\n",
              "      <td>[SEP]</td>\n",
              "      <td>[MASK]</td>\n",
              "    </tr>\n",
              "    <tr>\n",
              "      <th>Special Token ID</th>\n",
              "      <td>0</td>\n",
              "      <td>100</td>\n",
              "      <td>101</td>\n",
              "      <td>102</td>\n",
              "      <td>103</td>\n",
              "    </tr>\n",
              "  </tbody>\n",
              "</table>\n",
              "</div>\n",
              "    <div class=\"colab-df-buttons\">\n",
              "\n",
              "  <div class=\"colab-df-container\">\n",
              "    <button class=\"colab-df-convert\" onclick=\"convertToInteractive('df-ad593316-de1c-4013-b357-6c9eaa333738')\"\n",
              "            title=\"Convert this dataframe to an interactive table.\"\n",
              "            style=\"display:none;\">\n",
              "\n",
              "  <svg xmlns=\"http://www.w3.org/2000/svg\" height=\"24px\" viewBox=\"0 -960 960 960\">\n",
              "    <path d=\"M120-120v-720h720v720H120Zm60-500h600v-160H180v160Zm220 220h160v-160H400v160Zm0 220h160v-160H400v160ZM180-400h160v-160H180v160Zm440 0h160v-160H620v160ZM180-180h160v-160H180v160Zm440 0h160v-160H620v160Z\"/>\n",
              "  </svg>\n",
              "    </button>\n",
              "\n",
              "  <style>\n",
              "    .colab-df-container {\n",
              "      display:flex;\n",
              "      gap: 12px;\n",
              "    }\n",
              "\n",
              "    .colab-df-convert {\n",
              "      background-color: #E8F0FE;\n",
              "      border: none;\n",
              "      border-radius: 50%;\n",
              "      cursor: pointer;\n",
              "      display: none;\n",
              "      fill: #1967D2;\n",
              "      height: 32px;\n",
              "      padding: 0 0 0 0;\n",
              "      width: 32px;\n",
              "    }\n",
              "\n",
              "    .colab-df-convert:hover {\n",
              "      background-color: #E2EBFA;\n",
              "      box-shadow: 0px 1px 2px rgba(60, 64, 67, 0.3), 0px 1px 3px 1px rgba(60, 64, 67, 0.15);\n",
              "      fill: #174EA6;\n",
              "    }\n",
              "\n",
              "    .colab-df-buttons div {\n",
              "      margin-bottom: 4px;\n",
              "    }\n",
              "\n",
              "    [theme=dark] .colab-df-convert {\n",
              "      background-color: #3B4455;\n",
              "      fill: #D2E3FC;\n",
              "    }\n",
              "\n",
              "    [theme=dark] .colab-df-convert:hover {\n",
              "      background-color: #434B5C;\n",
              "      box-shadow: 0px 1px 3px 1px rgba(0, 0, 0, 0.15);\n",
              "      filter: drop-shadow(0px 1px 2px rgba(0, 0, 0, 0.3));\n",
              "      fill: #FFFFFF;\n",
              "    }\n",
              "  </style>\n",
              "\n",
              "    <script>\n",
              "      const buttonEl =\n",
              "        document.querySelector('#df-ad593316-de1c-4013-b357-6c9eaa333738 button.colab-df-convert');\n",
              "      buttonEl.style.display =\n",
              "        google.colab.kernel.accessAllowed ? 'block' : 'none';\n",
              "\n",
              "      async function convertToInteractive(key) {\n",
              "        const element = document.querySelector('#df-ad593316-de1c-4013-b357-6c9eaa333738');\n",
              "        const dataTable =\n",
              "          await google.colab.kernel.invokeFunction('convertToInteractive',\n",
              "                                                    [key], {});\n",
              "        if (!dataTable) return;\n",
              "\n",
              "        const docLinkHtml = 'Like what you see? Visit the ' +\n",
              "          '<a target=\"_blank\" href=https://colab.research.google.com/notebooks/data_table.ipynb>data table notebook</a>'\n",
              "          + ' to learn more about interactive tables.';\n",
              "        element.innerHTML = '';\n",
              "        dataTable['output_type'] = 'display_data';\n",
              "        await google.colab.output.renderOutput(dataTable, element);\n",
              "        const docLink = document.createElement('div');\n",
              "        docLink.innerHTML = docLinkHtml;\n",
              "        element.appendChild(docLink);\n",
              "      }\n",
              "    </script>\n",
              "  </div>\n",
              "\n",
              "\n",
              "<div id=\"df-f5f914af-1eb2-4c99-bac6-1d888086d00e\">\n",
              "  <button class=\"colab-df-quickchart\" onclick=\"quickchart('df-f5f914af-1eb2-4c99-bac6-1d888086d00e')\"\n",
              "            title=\"Suggest charts\"\n",
              "            style=\"display:none;\">\n",
              "\n",
              "<svg xmlns=\"http://www.w3.org/2000/svg\" height=\"24px\"viewBox=\"0 0 24 24\"\n",
              "     width=\"24px\">\n",
              "    <g>\n",
              "        <path d=\"M19 3H5c-1.1 0-2 .9-2 2v14c0 1.1.9 2 2 2h14c1.1 0 2-.9 2-2V5c0-1.1-.9-2-2-2zM9 17H7v-7h2v7zm4 0h-2V7h2v10zm4 0h-2v-4h2v4z\"/>\n",
              "    </g>\n",
              "</svg>\n",
              "  </button>\n",
              "\n",
              "<style>\n",
              "  .colab-df-quickchart {\n",
              "      --bg-color: #E8F0FE;\n",
              "      --fill-color: #1967D2;\n",
              "      --hover-bg-color: #E2EBFA;\n",
              "      --hover-fill-color: #174EA6;\n",
              "      --disabled-fill-color: #AAA;\n",
              "      --disabled-bg-color: #DDD;\n",
              "  }\n",
              "\n",
              "  [theme=dark] .colab-df-quickchart {\n",
              "      --bg-color: #3B4455;\n",
              "      --fill-color: #D2E3FC;\n",
              "      --hover-bg-color: #434B5C;\n",
              "      --hover-fill-color: #FFFFFF;\n",
              "      --disabled-bg-color: #3B4455;\n",
              "      --disabled-fill-color: #666;\n",
              "  }\n",
              "\n",
              "  .colab-df-quickchart {\n",
              "    background-color: var(--bg-color);\n",
              "    border: none;\n",
              "    border-radius: 50%;\n",
              "    cursor: pointer;\n",
              "    display: none;\n",
              "    fill: var(--fill-color);\n",
              "    height: 32px;\n",
              "    padding: 0;\n",
              "    width: 32px;\n",
              "  }\n",
              "\n",
              "  .colab-df-quickchart:hover {\n",
              "    background-color: var(--hover-bg-color);\n",
              "    box-shadow: 0 1px 2px rgba(60, 64, 67, 0.3), 0 1px 3px 1px rgba(60, 64, 67, 0.15);\n",
              "    fill: var(--button-hover-fill-color);\n",
              "  }\n",
              "\n",
              "  .colab-df-quickchart-complete:disabled,\n",
              "  .colab-df-quickchart-complete:disabled:hover {\n",
              "    background-color: var(--disabled-bg-color);\n",
              "    fill: var(--disabled-fill-color);\n",
              "    box-shadow: none;\n",
              "  }\n",
              "\n",
              "  .colab-df-spinner {\n",
              "    border: 2px solid var(--fill-color);\n",
              "    border-color: transparent;\n",
              "    border-bottom-color: var(--fill-color);\n",
              "    animation:\n",
              "      spin 1s steps(1) infinite;\n",
              "  }\n",
              "\n",
              "  @keyframes spin {\n",
              "    0% {\n",
              "      border-color: transparent;\n",
              "      border-bottom-color: var(--fill-color);\n",
              "      border-left-color: var(--fill-color);\n",
              "    }\n",
              "    20% {\n",
              "      border-color: transparent;\n",
              "      border-left-color: var(--fill-color);\n",
              "      border-top-color: var(--fill-color);\n",
              "    }\n",
              "    30% {\n",
              "      border-color: transparent;\n",
              "      border-left-color: var(--fill-color);\n",
              "      border-top-color: var(--fill-color);\n",
              "      border-right-color: var(--fill-color);\n",
              "    }\n",
              "    40% {\n",
              "      border-color: transparent;\n",
              "      border-right-color: var(--fill-color);\n",
              "      border-top-color: var(--fill-color);\n",
              "    }\n",
              "    60% {\n",
              "      border-color: transparent;\n",
              "      border-right-color: var(--fill-color);\n",
              "    }\n",
              "    80% {\n",
              "      border-color: transparent;\n",
              "      border-right-color: var(--fill-color);\n",
              "      border-bottom-color: var(--fill-color);\n",
              "    }\n",
              "    90% {\n",
              "      border-color: transparent;\n",
              "      border-bottom-color: var(--fill-color);\n",
              "    }\n",
              "  }\n",
              "</style>\n",
              "\n",
              "  <script>\n",
              "    async function quickchart(key) {\n",
              "      const quickchartButtonEl =\n",
              "        document.querySelector('#' + key + ' button');\n",
              "      quickchartButtonEl.disabled = true;  // To prevent multiple clicks.\n",
              "      quickchartButtonEl.classList.add('colab-df-spinner');\n",
              "      try {\n",
              "        const charts = await google.colab.kernel.invokeFunction(\n",
              "            'suggestCharts', [key], {});\n",
              "      } catch (error) {\n",
              "        console.error('Error during call to suggestCharts:', error);\n",
              "      }\n",
              "      quickchartButtonEl.classList.remove('colab-df-spinner');\n",
              "      quickchartButtonEl.classList.add('colab-df-quickchart-complete');\n",
              "    }\n",
              "    (() => {\n",
              "      let quickchartButtonEl =\n",
              "        document.querySelector('#df-f5f914af-1eb2-4c99-bac6-1d888086d00e button');\n",
              "      quickchartButtonEl.style.display =\n",
              "        google.colab.kernel.accessAllowed ? 'block' : 'none';\n",
              "    })();\n",
              "  </script>\n",
              "</div>\n",
              "    </div>\n",
              "  </div>\n"
            ],
            "application/vnd.google.colaboratory.intrinsic+json": {
              "type": "dataframe",
              "summary": "{\n  \"name\": \"df\",\n  \"rows\": 2,\n  \"fields\": [\n    {\n      \"column\": 0,\n      \"properties\": {\n        \"dtype\": \"string\",\n        \"num_unique_values\": 2,\n        \"samples\": [\n          0,\n          \"[PAD]\"\n        ],\n        \"semantic_type\": \"\",\n        \"description\": \"\"\n      }\n    },\n    {\n      \"column\": 1,\n      \"properties\": {\n        \"dtype\": \"string\",\n        \"num_unique_values\": 2,\n        \"samples\": [\n          100,\n          \"[UNK]\"\n        ],\n        \"semantic_type\": \"\",\n        \"description\": \"\"\n      }\n    },\n    {\n      \"column\": 2,\n      \"properties\": {\n        \"dtype\": \"string\",\n        \"num_unique_values\": 2,\n        \"samples\": [\n          101,\n          \"[CLS]\"\n        ],\n        \"semantic_type\": \"\",\n        \"description\": \"\"\n      }\n    },\n    {\n      \"column\": 3,\n      \"properties\": {\n        \"dtype\": \"string\",\n        \"num_unique_values\": 2,\n        \"samples\": [\n          102,\n          \"[SEP]\"\n        ],\n        \"semantic_type\": \"\",\n        \"description\": \"\"\n      }\n    },\n    {\n      \"column\": 4,\n      \"properties\": {\n        \"dtype\": \"string\",\n        \"num_unique_values\": 2,\n        \"samples\": [\n          103,\n          \"[MASK]\"\n        ],\n        \"semantic_type\": \"\",\n        \"description\": \"\"\n      }\n    }\n  ]\n}"
            }
          },
          "metadata": {},
          "execution_count": 31
        }
      ]
    },
    {
      "cell_type": "markdown",
      "source": [
        "Also note that in addition to returning the encoded tweets as `input_ids`, the tokenizer returns a list of `attention_mask` arrays. This is because we do not want the model to get confused by the additional padding tokens: the attention mask allows the model to ignore the padded parts of the input.\n",
        "\n",
        "<img alt=\"attention-mask\" caption=\"For each batch, the input sequences are padded to the maximum sequence length in the batch; the attention mask is used in the model to ignore the padded areas of the input tensors\" src=\"images/chapter02_attention-mask.png\" id=\"attention-mask\"/>"
      ],
      "metadata": {
        "id": "ZIwvpvFdMsR0"
      }
    },
    {
      "cell_type": "code",
      "source": [
        "emotions_encoded = emotionData.map(tokenize, batched=True, batch_size=None)"
      ],
      "metadata": {
        "id": "cDq_zmjqMil0"
      },
      "execution_count": 32,
      "outputs": []
    },
    {
      "cell_type": "code",
      "source": [
        "emotions_encoded"
      ],
      "metadata": {
        "colab": {
          "base_uri": "https://localhost:8080/"
        },
        "id": "yfiJNaXTNVV5",
        "outputId": "cd75da2e-1e7d-4218-d036-ec3b294374bf"
      },
      "execution_count": 33,
      "outputs": [
        {
          "output_type": "execute_result",
          "data": {
            "text/plain": [
              "DatasetDict({\n",
              "    train: Dataset({\n",
              "        features: ['text', 'label', 'input_ids', 'attention_mask'],\n",
              "        num_rows: 16000\n",
              "    })\n",
              "    validation: Dataset({\n",
              "        features: ['text', 'label', 'input_ids', 'attention_mask'],\n",
              "        num_rows: 2000\n",
              "    })\n",
              "    test: Dataset({\n",
              "        features: ['text', 'label', 'input_ids', 'attention_mask'],\n",
              "        num_rows: 2000\n",
              "    })\n",
              "})"
            ]
          },
          "metadata": {},
          "execution_count": 33
        }
      ]
    },
    {
      "cell_type": "markdown",
      "source": [
        "By default, the `map()` method operates individually on every example in the corpus, so setting `batched=True` will encode the tweets in batches. Because we've set `batch_size=None`, our `tokenize()` function will be applied on the full dataset as a single batch. This ensures that the input tensors and attention masks have the same shape globally, and we can see that this operation has added new `input_ids` and `attention_mask` columns to the dataset.\n",
        "\n",
        "> Note: In later chapters, we'll see how _data collators_ can be used to dynamically pad the tensors in each batch. Padding globally will come in handy in the next section, where we extract a feature matrix from the whole corpus."
      ],
      "metadata": {
        "id": "6C1D60KaOTG0"
      }
    },
    {
      "cell_type": "markdown",
      "source": [
        "## Training a Text Classifier\n",
        "\n",
        "DistilBERT models are pretrained to predict masked words in a sequence of text. However, we can't use these language models directly for text classification; we need to modify them slightly. To understand what modifications are necessary, let's take a look at the architecture of an encoder-based model like DistilBERT, which is depicted in encoder-classifier."
      ],
      "metadata": {
        "id": "fXDTpuYNOlAm"
      }
    },
    {
      "cell_type": "markdown",
      "source": [
        "<img alt=\"encoder-classifier\" caption=\"The architecture used for sequence classification with an encoder-based transformer; it consists of the model's pretrained body (blue) combined with a custom classification head (orange)\" src=\"images/chapter02_encoder-classifier.png\" id=\"encoder-classifier\"/>"
      ],
      "metadata": {
        "id": "rasy5jYIO1Sh"
      }
    },
    {
      "cell_type": "markdown",
      "source": [
        "First, the text is tokenized and represented as one-hot vectors called _token encodings_. The size of the tokenizer vocabulary determines the dimension of the token encodings, and it usually consists of 20k–200k unique tokens.\n",
        "Next, these token encodings are converted to _token embeddings_, which are vectors living in a lower-dimensional space.\n",
        "The token embeddings are then passed through the encoder block layers to yield a _hidden state_ for each input token. Each hidden state is then fed to a layer that predicts the masked input tokens. For the classification task, we replace the language modeling layer with a classification layer."
      ],
      "metadata": {
        "id": "zAzxi0bhPCw_"
      }
    },
    {
      "cell_type": "markdown",
      "source": [
        "![image.png](data:image/png;base64,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)"
      ],
      "metadata": {
        "id": "1W-wEm0NQyJ5"
      }
    },
    {
      "cell_type": "markdown",
      "source": [
        "> note: In practice, PyTorch skips the step of creating one-hot vectors for token encodings because multiplying a matrix with a one-hot vector is the same as selecting a column from the matrix. This can be done directly by getting the column with the token ID from the matrix. We'll see this in <<chapter_anatomy>> when we use the `nn.Embedding` class."
      ],
      "metadata": {
        "id": "YieqAYIlRED-"
      }
    },
    {
      "cell_type": "markdown",
      "source": [
        "We have two options to train such a model on our Twitter dataset:\n",
        "\n",
        "- **_Feature extraction_**: We use the hidden states as features and just train a classifier on them, without modifying the pretrained model.\n",
        "- **_Fine-tuning_**: We train the whole model end-to-end, which also updates the parameters of the pretrained model.\n",
        "\n",
        "In the following sections we explore both options for DistilBERT and examine their trade-offs."
      ],
      "metadata": {
        "id": "AtU0HybHRISN"
      }
    },
    {
      "cell_type": "markdown",
      "source": [
        "### **Transformers as Feature Extractors**\n",
        "\n",
        "We freeze the body's weights during training and use the hidden states as features for the classifier. <br>\n",
        "The advantage of this approach is that we can quickly train a small or shallow model. Such a model could be a neural classification layer or a method that does not rely on gradients, such as a random forest. This method is especially convenient if GPUs are unavailable, since the hidden states only need to be precomputed once."
      ],
      "metadata": {
        "id": "w3CVp5o4RXoz"
      }
    },
    {
      "cell_type": "markdown",
      "source": [
        "<img alt=\"encoder-features\" caption=\"In the feature-based approach, the DistilBERT model is frozen and just provides features for a classifier\" src=\"images/chapter02_encoder-feature-based.png\" id=\"encoder-features\"/>"
      ],
      "metadata": {
        "id": "0rdjP6gyRybZ"
      }
    },
    {
      "cell_type": "markdown",
      "source": [
        "#### Using pretrained models\n",
        "\n",
        "We will use another convenient auto class from 🤗Transformers called `AutoModel`. Similar to the `AutoTokenizer` class, `AutoModel` has a `from_pretrained()` method to load the weights of a pretrained model. Let's use this method to load the DistilBERT checkpoint:"
      ],
      "metadata": {
        "id": "XAoP4XEIR0JR"
      }
    },
    {
      "cell_type": "code",
      "source": [
        "from transformers import AutoModel\n",
        "\n",
        "model_ckpt = \"distilbert-base-uncased\"\n",
        "device = torch.device(\"cuda\" if torch.cuda.is_available() else \"cpu\")\n",
        "# Converting token encodings into embeddings and extracts hidden states\n",
        "model = AutoModel.from_pretrained(model_ckpt).to(device)"
      ],
      "metadata": {
        "id": "KWDCG5ErNg9A"
      },
      "execution_count": 34,
      "outputs": []
    },
    {
      "cell_type": "markdown",
      "source": [
        "Here we've used PyTorch to check whether a GPU is available or not, and then chained the PyTorch `nn.Module.to()` method to the model loader. This ensures that the model will run on the GPU if we have one. If not, the model will run on the CPU, which can be considerably slower.\n",
        "\n",
        "The `AutoModel` class converts the token encodings to embeddings, and then feeds them through the encoder stack to return the hidden states. Let's take a look at how we can extract these states from our corpus."
      ],
      "metadata": {
        "id": "P3vqgeD-SSuE"
      }
    },
    {
      "cell_type": "markdown",
      "source": [
        "#### Extracting the last hidden states\n",
        "\n",
        "To warm up, let's retrieve the last hidden states for a single string. The first thing we need to do is encode the string and convert the tokens to PyTorch tensors. This can be done by providing the `return_tensors=\"pt\"` argument to the tokenizer as follows:"
      ],
      "metadata": {
        "id": "h2F94ZxvStuc"
      }
    },
    {
      "cell_type": "code",
      "source": [
        "text = \"this is a test\"\n",
        "\n",
        "inputs = tokenizer(text, return_tensors=\"pt\")\n",
        "print(f\"Input tensor shape: {inputs['input_ids'].size()}\")\n",
        "inputs"
      ],
      "metadata": {
        "colab": {
          "base_uri": "https://localhost:8080/"
        },
        "id": "oARcoWoJSznp",
        "outputId": "7836a19c-bbe6-4145-c448-9b3386a6883c"
      },
      "execution_count": 35,
      "outputs": [
        {
          "output_type": "stream",
          "name": "stdout",
          "text": [
            "Input tensor shape: torch.Size([1, 6])\n"
          ]
        },
        {
          "output_type": "execute_result",
          "data": {
            "text/plain": [
              "{'input_ids': tensor([[ 101, 2023, 2003, 1037, 3231,  102]]), 'attention_mask': tensor([[1, 1, 1, 1, 1, 1]])}"
            ]
          },
          "metadata": {},
          "execution_count": 35
        }
      ]
    },
    {
      "cell_type": "code",
      "source": [
        "encoded_text = tokenizer(text)\n",
        "tokens = tokenizer.convert_ids_to_tokens(encoded_text.input_ids)\n",
        "print(tokens)"
      ],
      "metadata": {
        "colab": {
          "base_uri": "https://localhost:8080/"
        },
        "id": "WVE9cG5Ejwcc",
        "outputId": "739c80f8-81c8-4cf9-9bfa-b9c461de7ab6"
      },
      "execution_count": 36,
      "outputs": [
        {
          "output_type": "stream",
          "name": "stdout",
          "text": [
            "['[CLS]', 'this', 'is', 'a', 'test', '[SEP]']\n"
          ]
        }
      ]
    },
    {
      "cell_type": "markdown",
      "source": [
        "As we can see, the resulting tensor has the shape `[batch_size, n_tokens]`. Now that we have the encodings as a tensor, the final step is to place them on the same device as the model and pass the inputs as follows:"
      ],
      "metadata": {
        "id": "owxIJ3wmgAQG"
      }
    },
    {
      "cell_type": "code",
      "source": [
        "inputs = {k:v.to(device) for k,v in inputs.items()}\n",
        "with torch.no_grad():\n",
        "    # hidden state is returned\n",
        "    outputs = model(**inputs)\n",
        "print(outputs)"
      ],
      "metadata": {
        "colab": {
          "base_uri": "https://localhost:8080/"
        },
        "id": "2MdZCt1CT2my",
        "outputId": "c6340964-9752-48a7-d414-d9964d057f3a"
      },
      "execution_count": 37,
      "outputs": [
        {
          "output_type": "stream",
          "name": "stdout",
          "text": [
            "BaseModelOutput(last_hidden_state=tensor([[[-0.1565, -0.1862,  0.0528,  ..., -0.1188,  0.0662,  0.5470],\n",
            "         [-0.3575, -0.6484, -0.0618,  ..., -0.3040,  0.3508,  0.5221],\n",
            "         [-0.2772, -0.4459,  0.1818,  ..., -0.0948, -0.0076,  0.9958],\n",
            "         [-0.2841, -0.3917,  0.3753,  ..., -0.2151, -0.1173,  1.0526],\n",
            "         [ 0.2661, -0.5094, -0.3180,  ..., -0.4203,  0.0144, -0.2149],\n",
            "         [ 0.9441,  0.0112, -0.4714,  ...,  0.1439, -0.7288, -0.1619]]],\n",
            "       device='cuda:0'), hidden_states=None, attentions=None)\n"
          ]
        }
      ]
    },
    {
      "cell_type": "markdown",
      "source": [
        "Here we've used the `torch.no_grad()` context manager to disable the automatic calculation of the gradient. This is useful for inference since it reduces the memory footprint of the computations. Depending on the model configuration, the output can contain several objects, such as the hidden states, losses, or attentions, arranged in a class similar to a `namedtuple` in Python. In our example, the model output is an instance of `BaseModelOutput`, and we can simply access its attributes by name. The current model returns only one attribute, which is the last hidden state, so let's examine its shape:"
      ],
      "metadata": {
        "id": "WtLnHqv4g-je"
      }
    },
    {
      "cell_type": "code",
      "source": [
        "outputs.last_hidden_state.shape"
      ],
      "metadata": {
        "colab": {
          "base_uri": "https://localhost:8080/"
        },
        "id": "RwxMsXhZgGJb",
        "outputId": "edff8224-f03b-49dd-8fe6-250c2bc53dcb"
      },
      "execution_count": 38,
      "outputs": [
        {
          "output_type": "execute_result",
          "data": {
            "text/plain": [
              "torch.Size([1, 6, 768])"
            ]
          },
          "metadata": {},
          "execution_count": 38
        }
      ]
    },
    {
      "cell_type": "markdown",
      "source": [
        "Looking at the hidden state tensor, we see that it has the shape `[batch_size, n_tokens, hidden_dim]`. In other words, a 768-dimensional vector is returned for each of the 6 input tokens. For classification tasks, it is common practice to just use the hidden state associated with the `[CLS]` token as the input feature. Since this token appears at the start of each sequence, we can extract it by simply indexing into `outputs.last_hidden_state` as follows:"
      ],
      "metadata": {
        "id": "rPt_-u_hjDaz"
      }
    },
    {
      "cell_type": "code",
      "source": [
        "outputs.last_hidden_state[:,0].size()"
      ],
      "metadata": {
        "colab": {
          "base_uri": "https://localhost:8080/"
        },
        "id": "eIk39pe-iuBX",
        "outputId": "d0166c33-8ac9-44f0-8ef4-0f8c5b64ff01"
      },
      "execution_count": 39,
      "outputs": [
        {
          "output_type": "execute_result",
          "data": {
            "text/plain": [
              "torch.Size([1, 768])"
            ]
          },
          "metadata": {},
          "execution_count": 39
        }
      ]
    },
    {
      "cell_type": "markdown",
      "source": [
        "Now that we know how to get the last hidden state for a single string, let's do the same thing for the whole dataset by creating a new `hidden_state` column that stores all these vectors. As we did with the tokenizer, we'll use the `map()` method of `DatasetDict` to extract all the hidden states in one go. The first thing we need to do is wrap the previous steps in a processing function:"
      ],
      "metadata": {
        "id": "ba6E4luck0XJ"
      }
    },
    {
      "cell_type": "code",
      "source": [
        "def extract_hidden_states(batch):\n",
        "    # Place model inputs on the GPU\n",
        "    inputs = {k:v.to(device) for k,v in batch.items()\n",
        "              if k in tokenizer.model_input_names}\n",
        "    # Extract last hidden states\n",
        "    with torch.no_grad():\n",
        "        last_hidden_state = model(**inputs).last_hidden_state\n",
        "    # Return vector for [CLS] token\n",
        "    return {\"hidden_state\": last_hidden_state[:,0].cpu().numpy()}"
      ],
      "metadata": {
        "id": "WtYGMQjukumv"
      },
      "execution_count": 40,
      "outputs": []
    },
    {
      "cell_type": "markdown",
      "source": [
        "The only difference between this function and our previous logic is the final step where we place the final hidden state back on the CPU as a NumPy array. The `map()` method requires the processing function to return Python or NumPy objects when we're using batched inputs.\n",
        "\n",
        "Since our model expects tensors as inputs, the next thing to do is convert the `input_ids` and `attention_mask` columns to the `\"torch\"` format, as follows:"
      ],
      "metadata": {
        "id": "gY2VusCxlHKO"
      }
    },
    {
      "cell_type": "code",
      "source": [
        "emotions_encoded.set_format(\"torch\",\n",
        "                            columns=[\"input_ids\", \"attention_mask\", \"label\"])"
      ],
      "metadata": {
        "id": "pB0VkzK2lFPV"
      },
      "execution_count": 41,
      "outputs": []
    },
    {
      "cell_type": "code",
      "source": [
        "#Extracting hidden states\n",
        "emotions_hidden = emotions_encoded.map(extract_hidden_states, batched=True)"
      ],
      "metadata": {
        "id": "SEKcPSyrlbdq"
      },
      "execution_count": 42,
      "outputs": []
    },
    {
      "cell_type": "markdown",
      "source": [
        "Note that we did not set `batch_size=None` in this case, so the default `batch_size=1000` is used instead. As expected, applying the +extract_&#x200b;hid&#x2060;den_&#x200b;states()+ function has added a new `hidden_state` column to our dataset:"
      ],
      "metadata": {
        "id": "NsiDAQ-ElSHm"
      }
    },
    {
      "cell_type": "code",
      "source": [
        "emotions_hidden[\"train\"].column_names"
      ],
      "metadata": {
        "colab": {
          "base_uri": "https://localhost:8080/"
        },
        "id": "Bfxe5H-DlP87",
        "outputId": "7c540df4-f6f8-4df6-bc72-54296d6d7192"
      },
      "execution_count": 43,
      "outputs": [
        {
          "output_type": "execute_result",
          "data": {
            "text/plain": [
              "['text', 'label', 'input_ids', 'attention_mask', 'hidden_state']"
            ]
          },
          "metadata": {},
          "execution_count": 43
        }
      ]
    },
    {
      "cell_type": "markdown",
      "source": [
        "Now that we have the hidden states associated with each tweet, the next step is to train a classifier on them. To do that, we'll need a feature matrix - let's take a look."
      ],
      "metadata": {
        "id": "9mOwRtgelocq"
      }
    },
    {
      "cell_type": "markdown",
      "source": [
        "#### Creating a feature matrix\n",
        "\n",
        "The preprocessed dataset now contains all the information we need to train a classifier on it. We will use the hidden states as input features and the labels as targets. We can easily create the corresponding arrays in the well-known Scikit-Learn format as follows:"
      ],
      "metadata": {
        "id": "ssN4PGixlsgY"
      }
    },
    {
      "cell_type": "code",
      "source": [
        "import numpy as np\n",
        "\n",
        "X_train = np.array(emotions_hidden[\"train\"][\"hidden_state\"])\n",
        "X_valid = np.array(emotions_hidden[\"validation\"][\"hidden_state\"])\n",
        "y_train = np.array(emotions_hidden[\"train\"][\"label\"])\n",
        "y_valid = np.array(emotions_hidden[\"validation\"][\"label\"])\n",
        "X_train.shape, X_valid.shape"
      ],
      "metadata": {
        "colab": {
          "base_uri": "https://localhost:8080/"
        },
        "id": "D-drsOtflosk",
        "outputId": "2a00f60e-18a6-4ccf-afee-0973c7a4f288"
      },
      "execution_count": 44,
      "outputs": [
        {
          "output_type": "execute_result",
          "data": {
            "text/plain": [
              "((16000, 768), (2000, 768))"
            ]
          },
          "metadata": {},
          "execution_count": 44
        }
      ]
    },
    {
      "cell_type": "markdown",
      "source": [
        "Before we train a model on the hidden states, it's good practice to perform a sanity check to ensure that they provide a useful representation of the emotions we want to classify. In the next section, we'll see how visualizing the features provides a fast way to achieve this."
      ],
      "metadata": {
        "id": "6VtXGGbYmyG0"
      }
    },
    {
      "cell_type": "markdown",
      "source": [
        "#### Visualizing the training set\n",
        "\n",
        "Since visualizing the hidden states in 768 dimensions is tricky to say the least, we'll use the powerful UMAPfootnote:[L. McInnes, J. Healy, and J. Melville, [\"UMAP: Uniform Manifold Approximation and Projection for Dimension Reduction\"](https://arxiv.org/abs/1802.03426), (2018).] algorithm to project the vectors down to 2D.  Since UMAP works best when the features are scaled to lie in the [0,1] interval, we'll first apply a `MinMaxScaler` and then use the UMAP implementation from the `umap-learn` library to reduce the hidden states:"
      ],
      "metadata": {
        "id": "8v5V-dCRm1vP"
      }
    },
    {
      "cell_type": "code",
      "source": [
        "! pip install umap-learn"
      ],
      "metadata": {
        "colab": {
          "base_uri": "https://localhost:8080/"
        },
        "id": "81BkS-tZmyVu",
        "outputId": "d99a0d35-c11a-4a5c-8c7f-2a85663919b5"
      },
      "execution_count": 45,
      "outputs": [
        {
          "output_type": "stream",
          "name": "stdout",
          "text": [
            "Requirement already satisfied: umap-learn in /usr/local/lib/python3.10/dist-packages (0.5.5)\n",
            "Requirement already satisfied: numpy>=1.17 in /usr/local/lib/python3.10/dist-packages (from umap-learn) (1.25.2)\n",
            "Requirement already satisfied: scipy>=1.3.1 in /usr/local/lib/python3.10/dist-packages (from umap-learn) (1.11.4)\n",
            "Requirement already satisfied: scikit-learn>=0.22 in /usr/local/lib/python3.10/dist-packages (from umap-learn) (1.2.2)\n",
            "Requirement already satisfied: numba>=0.51.2 in /usr/local/lib/python3.10/dist-packages (from umap-learn) (0.58.1)\n",
            "Requirement already satisfied: pynndescent>=0.5 in /usr/local/lib/python3.10/dist-packages (from umap-learn) (0.5.11)\n",
            "Requirement already satisfied: tqdm in /usr/local/lib/python3.10/dist-packages (from umap-learn) (4.66.2)\n",
            "Requirement already satisfied: llvmlite<0.42,>=0.41.0dev0 in /usr/local/lib/python3.10/dist-packages (from numba>=0.51.2->umap-learn) (0.41.1)\n",
            "Requirement already satisfied: joblib>=0.11 in /usr/local/lib/python3.10/dist-packages (from pynndescent>=0.5->umap-learn) (1.3.2)\n",
            "Requirement already satisfied: threadpoolctl>=2.0.0 in /usr/local/lib/python3.10/dist-packages (from scikit-learn>=0.22->umap-learn) (3.3.0)\n"
          ]
        }
      ]
    },
    {
      "cell_type": "code",
      "source": [
        "from umap import UMAP\n",
        "from sklearn.preprocessing import MinMaxScaler\n",
        "\n",
        "# Scale features to [0,1] range\n",
        "X_scaled = MinMaxScaler().fit_transform(X_train)\n",
        "\n",
        "# Initialize and fit UMAP\n",
        "mapper = UMAP(n_components=2, metric=\"cosine\").fit(X_scaled)\n",
        "# Create a DataFrame of 2D embeddings\n",
        "df_emb = pd.DataFrame(mapper.embedding_, columns=[\"X\", \"Y\"])\n",
        "df_emb[\"label\"] = y_train\n",
        "df_emb.head()"
      ],
      "metadata": {
        "colab": {
          "base_uri": "https://localhost:8080/",
          "height": 206
        },
        "id": "eGydt9fenXp7",
        "outputId": "b62cba4d-4400-4804-f31a-837c77d73b7b"
      },
      "execution_count": 46,
      "outputs": [
        {
          "output_type": "execute_result",
          "data": {
            "text/plain": [
              "          X         Y  label\n",
              "0  4.288655  6.949616      0\n",
              "1 -3.205444  6.138010      0\n",
              "2  5.375041  3.523178      3\n",
              "3 -2.513194  4.170767      2\n",
              "4 -3.401283  4.365466      3"
            ],
            "text/html": [
              "\n",
              "  <div id=\"df-6f554c20-86c6-46e3-a6bc-e1f3d4356f14\" class=\"colab-df-container\">\n",
              "    <div>\n",
              "<style scoped>\n",
              "    .dataframe tbody tr th:only-of-type {\n",
              "        vertical-align: middle;\n",
              "    }\n",
              "\n",
              "    .dataframe tbody tr th {\n",
              "        vertical-align: top;\n",
              "    }\n",
              "\n",
              "    .dataframe thead th {\n",
              "        text-align: right;\n",
              "    }\n",
              "</style>\n",
              "<table border=\"1\" class=\"dataframe\">\n",
              "  <thead>\n",
              "    <tr style=\"text-align: right;\">\n",
              "      <th></th>\n",
              "      <th>X</th>\n",
              "      <th>Y</th>\n",
              "      <th>label</th>\n",
              "    </tr>\n",
              "  </thead>\n",
              "  <tbody>\n",
              "    <tr>\n",
              "      <th>0</th>\n",
              "      <td>4.288655</td>\n",
              "      <td>6.949616</td>\n",
              "      <td>0</td>\n",
              "    </tr>\n",
              "    <tr>\n",
              "      <th>1</th>\n",
              "      <td>-3.205444</td>\n",
              "      <td>6.138010</td>\n",
              "      <td>0</td>\n",
              "    </tr>\n",
              "    <tr>\n",
              "      <th>2</th>\n",
              "      <td>5.375041</td>\n",
              "      <td>3.523178</td>\n",
              "      <td>3</td>\n",
              "    </tr>\n",
              "    <tr>\n",
              "      <th>3</th>\n",
              "      <td>-2.513194</td>\n",
              "      <td>4.170767</td>\n",
              "      <td>2</td>\n",
              "    </tr>\n",
              "    <tr>\n",
              "      <th>4</th>\n",
              "      <td>-3.401283</td>\n",
              "      <td>4.365466</td>\n",
              "      <td>3</td>\n",
              "    </tr>\n",
              "  </tbody>\n",
              "</table>\n",
              "</div>\n",
              "    <div class=\"colab-df-buttons\">\n",
              "\n",
              "  <div class=\"colab-df-container\">\n",
              "    <button class=\"colab-df-convert\" onclick=\"convertToInteractive('df-6f554c20-86c6-46e3-a6bc-e1f3d4356f14')\"\n",
              "            title=\"Convert this dataframe to an interactive table.\"\n",
              "            style=\"display:none;\">\n",
              "\n",
              "  <svg xmlns=\"http://www.w3.org/2000/svg\" height=\"24px\" viewBox=\"0 -960 960 960\">\n",
              "    <path d=\"M120-120v-720h720v720H120Zm60-500h600v-160H180v160Zm220 220h160v-160H400v160Zm0 220h160v-160H400v160ZM180-400h160v-160H180v160Zm440 0h160v-160H620v160ZM180-180h160v-160H180v160Zm440 0h160v-160H620v160Z\"/>\n",
              "  </svg>\n",
              "    </button>\n",
              "\n",
              "  <style>\n",
              "    .colab-df-container {\n",
              "      display:flex;\n",
              "      gap: 12px;\n",
              "    }\n",
              "\n",
              "    .colab-df-convert {\n",
              "      background-color: #E8F0FE;\n",
              "      border: none;\n",
              "      border-radius: 50%;\n",
              "      cursor: pointer;\n",
              "      display: none;\n",
              "      fill: #1967D2;\n",
              "      height: 32px;\n",
              "      padding: 0 0 0 0;\n",
              "      width: 32px;\n",
              "    }\n",
              "\n",
              "    .colab-df-convert:hover {\n",
              "      background-color: #E2EBFA;\n",
              "      box-shadow: 0px 1px 2px rgba(60, 64, 67, 0.3), 0px 1px 3px 1px rgba(60, 64, 67, 0.15);\n",
              "      fill: #174EA6;\n",
              "    }\n",
              "\n",
              "    .colab-df-buttons div {\n",
              "      margin-bottom: 4px;\n",
              "    }\n",
              "\n",
              "    [theme=dark] .colab-df-convert {\n",
              "      background-color: #3B4455;\n",
              "      fill: #D2E3FC;\n",
              "    }\n",
              "\n",
              "    [theme=dark] .colab-df-convert:hover {\n",
              "      background-color: #434B5C;\n",
              "      box-shadow: 0px 1px 3px 1px rgba(0, 0, 0, 0.15);\n",
              "      filter: drop-shadow(0px 1px 2px rgba(0, 0, 0, 0.3));\n",
              "      fill: #FFFFFF;\n",
              "    }\n",
              "  </style>\n",
              "\n",
              "    <script>\n",
              "      const buttonEl =\n",
              "        document.querySelector('#df-6f554c20-86c6-46e3-a6bc-e1f3d4356f14 button.colab-df-convert');\n",
              "      buttonEl.style.display =\n",
              "        google.colab.kernel.accessAllowed ? 'block' : 'none';\n",
              "\n",
              "      async function convertToInteractive(key) {\n",
              "        const element = document.querySelector('#df-6f554c20-86c6-46e3-a6bc-e1f3d4356f14');\n",
              "        const dataTable =\n",
              "          await google.colab.kernel.invokeFunction('convertToInteractive',\n",
              "                                                    [key], {});\n",
              "        if (!dataTable) return;\n",
              "\n",
              "        const docLinkHtml = 'Like what you see? Visit the ' +\n",
              "          '<a target=\"_blank\" href=https://colab.research.google.com/notebooks/data_table.ipynb>data table notebook</a>'\n",
              "          + ' to learn more about interactive tables.';\n",
              "        element.innerHTML = '';\n",
              "        dataTable['output_type'] = 'display_data';\n",
              "        await google.colab.output.renderOutput(dataTable, element);\n",
              "        const docLink = document.createElement('div');\n",
              "        docLink.innerHTML = docLinkHtml;\n",
              "        element.appendChild(docLink);\n",
              "      }\n",
              "    </script>\n",
              "  </div>\n",
              "\n",
              "\n",
              "<div id=\"df-c324f88e-b123-4c58-9b5a-382069f70427\">\n",
              "  <button class=\"colab-df-quickchart\" onclick=\"quickchart('df-c324f88e-b123-4c58-9b5a-382069f70427')\"\n",
              "            title=\"Suggest charts\"\n",
              "            style=\"display:none;\">\n",
              "\n",
              "<svg xmlns=\"http://www.w3.org/2000/svg\" height=\"24px\"viewBox=\"0 0 24 24\"\n",
              "     width=\"24px\">\n",
              "    <g>\n",
              "        <path d=\"M19 3H5c-1.1 0-2 .9-2 2v14c0 1.1.9 2 2 2h14c1.1 0 2-.9 2-2V5c0-1.1-.9-2-2-2zM9 17H7v-7h2v7zm4 0h-2V7h2v10zm4 0h-2v-4h2v4z\"/>\n",
              "    </g>\n",
              "</svg>\n",
              "  </button>\n",
              "\n",
              "<style>\n",
              "  .colab-df-quickchart {\n",
              "      --bg-color: #E8F0FE;\n",
              "      --fill-color: #1967D2;\n",
              "      --hover-bg-color: #E2EBFA;\n",
              "      --hover-fill-color: #174EA6;\n",
              "      --disabled-fill-color: #AAA;\n",
              "      --disabled-bg-color: #DDD;\n",
              "  }\n",
              "\n",
              "  [theme=dark] .colab-df-quickchart {\n",
              "      --bg-color: #3B4455;\n",
              "      --fill-color: #D2E3FC;\n",
              "      --hover-bg-color: #434B5C;\n",
              "      --hover-fill-color: #FFFFFF;\n",
              "      --disabled-bg-color: #3B4455;\n",
              "      --disabled-fill-color: #666;\n",
              "  }\n",
              "\n",
              "  .colab-df-quickchart {\n",
              "    background-color: var(--bg-color);\n",
              "    border: none;\n",
              "    border-radius: 50%;\n",
              "    cursor: pointer;\n",
              "    display: none;\n",
              "    fill: var(--fill-color);\n",
              "    height: 32px;\n",
              "    padding: 0;\n",
              "    width: 32px;\n",
              "  }\n",
              "\n",
              "  .colab-df-quickchart:hover {\n",
              "    background-color: var(--hover-bg-color);\n",
              "    box-shadow: 0 1px 2px rgba(60, 64, 67, 0.3), 0 1px 3px 1px rgba(60, 64, 67, 0.15);\n",
              "    fill: var(--button-hover-fill-color);\n",
              "  }\n",
              "\n",
              "  .colab-df-quickchart-complete:disabled,\n",
              "  .colab-df-quickchart-complete:disabled:hover {\n",
              "    background-color: var(--disabled-bg-color);\n",
              "    fill: var(--disabled-fill-color);\n",
              "    box-shadow: none;\n",
              "  }\n",
              "\n",
              "  .colab-df-spinner {\n",
              "    border: 2px solid var(--fill-color);\n",
              "    border-color: transparent;\n",
              "    border-bottom-color: var(--fill-color);\n",
              "    animation:\n",
              "      spin 1s steps(1) infinite;\n",
              "  }\n",
              "\n",
              "  @keyframes spin {\n",
              "    0% {\n",
              "      border-color: transparent;\n",
              "      border-bottom-color: var(--fill-color);\n",
              "      border-left-color: var(--fill-color);\n",
              "    }\n",
              "    20% {\n",
              "      border-color: transparent;\n",
              "      border-left-color: var(--fill-color);\n",
              "      border-top-color: var(--fill-color);\n",
              "    }\n",
              "    30% {\n",
              "      border-color: transparent;\n",
              "      border-left-color: var(--fill-color);\n",
              "      border-top-color: var(--fill-color);\n",
              "      border-right-color: var(--fill-color);\n",
              "    }\n",
              "    40% {\n",
              "      border-color: transparent;\n",
              "      border-right-color: var(--fill-color);\n",
              "      border-top-color: var(--fill-color);\n",
              "    }\n",
              "    60% {\n",
              "      border-color: transparent;\n",
              "      border-right-color: var(--fill-color);\n",
              "    }\n",
              "    80% {\n",
              "      border-color: transparent;\n",
              "      border-right-color: var(--fill-color);\n",
              "      border-bottom-color: var(--fill-color);\n",
              "    }\n",
              "    90% {\n",
              "      border-color: transparent;\n",
              "      border-bottom-color: var(--fill-color);\n",
              "    }\n",
              "  }\n",
              "</style>\n",
              "\n",
              "  <script>\n",
              "    async function quickchart(key) {\n",
              "      const quickchartButtonEl =\n",
              "        document.querySelector('#' + key + ' button');\n",
              "      quickchartButtonEl.disabled = true;  // To prevent multiple clicks.\n",
              "      quickchartButtonEl.classList.add('colab-df-spinner');\n",
              "      try {\n",
              "        const charts = await google.colab.kernel.invokeFunction(\n",
              "            'suggestCharts', [key], {});\n",
              "      } catch (error) {\n",
              "        console.error('Error during call to suggestCharts:', error);\n",
              "      }\n",
              "      quickchartButtonEl.classList.remove('colab-df-spinner');\n",
              "      quickchartButtonEl.classList.add('colab-df-quickchart-complete');\n",
              "    }\n",
              "    (() => {\n",
              "      let quickchartButtonEl =\n",
              "        document.querySelector('#df-c324f88e-b123-4c58-9b5a-382069f70427 button');\n",
              "      quickchartButtonEl.style.display =\n",
              "        google.colab.kernel.accessAllowed ? 'block' : 'none';\n",
              "    })();\n",
              "  </script>\n",
              "</div>\n",
              "    </div>\n",
              "  </div>\n"
            ],
            "application/vnd.google.colaboratory.intrinsic+json": {
              "type": "dataframe",
              "variable_name": "df_emb",
              "summary": "{\n  \"name\": \"df_emb\",\n  \"rows\": 16000,\n  \"fields\": [\n    {\n      \"column\": \"X\",\n      \"properties\": {\n        \"dtype\": \"float32\",\n        \"num_unique_values\": 15995,\n        \"samples\": [\n          4.943851947784424,\n          -2.2883028984069824,\n          -1.0857527256011963\n        ],\n        \"semantic_type\": \"\",\n        \"description\": \"\"\n      }\n    },\n    {\n      \"column\": \"Y\",\n      \"properties\": {\n        \"dtype\": \"float32\",\n        \"num_unique_values\": 15991,\n        \"samples\": [\n          5.220787525177002,\n          3.1874306201934814,\n          8.662678718566895\n        ],\n        \"semantic_type\": \"\",\n        \"description\": \"\"\n      }\n    },\n    {\n      \"column\": \"label\",\n      \"properties\": {\n        \"dtype\": \"number\",\n        \"std\": 1,\n        \"min\": 0,\n        \"max\": 5,\n        \"num_unique_values\": 6,\n        \"samples\": [\n          0,\n          3,\n          1\n        ],\n        \"semantic_type\": \"\",\n        \"description\": \"\"\n      }\n    }\n  ]\n}"
            }
          },
          "metadata": {},
          "execution_count": 46
        }
      ]
    },
    {
      "cell_type": "markdown",
      "source": [
        "The result is an array with the same number of training samples, but with only 2 features instead of the 768 we started with! Let's investigate the compressed data a little bit further and plot the density of points for each category separately:"
      ],
      "metadata": {
        "id": "tLBd-i-Nn_BT"
      }
    },
    {
      "cell_type": "code",
      "source": [
        "fig, axes = plt.subplots(2, 3, figsize=(7,5))\n",
        "axes = axes.flatten()\n",
        "cmaps = [\"Greys\", \"Blues\", \"Oranges\", \"Reds\", \"Purples\", \"Greens\"]\n",
        "labels = emotionData[\"train\"].features[\"label\"].names\n",
        "\n",
        "for i, (label, cmap) in enumerate(zip(labels, cmaps)):\n",
        "    df_emb_sub = df_emb.query(f\"label == {i}\")\n",
        "    axes[i].hexbin(df_emb_sub[\"X\"], df_emb_sub[\"Y\"], cmap=cmap,\n",
        "                   gridsize=20, linewidths=(0,))\n",
        "    axes[i].set_title(label)\n",
        "    axes[i].set_xticks([]), axes[i].set_yticks([])\n",
        "\n",
        "plt.tight_layout()\n",
        "plt.show()"
      ],
      "metadata": {
        "colab": {
          "base_uri": "https://localhost:8080/",
          "height": 507
        },
        "id": "jqiSu6ninkQM",
        "outputId": "540a5b9d-e139-4f48-99b2-8faf20e6cf51"
      },
      "execution_count": 48,
      "outputs": [
        {
          "output_type": "display_data",
          "data": {
            "text/plain": [
              "<Figure size 700x500 with 6 Axes>"
            ],
            "image/png": "[encoded data removed]"
          },
          "metadata": {}
        }
      ]
    },
    {
      "cell_type": "markdown",
      "source": [
        "\n",
        ">note: These are only projections onto a lower-dimensional space. Just because some categories overlap does not mean that they are not separable in the original space. Conversely, if they are separable in the projected space they will be separable in the original space.\n",
        "\n",
        "From this plot we can see some clear patterns: the negative feelings such as `sadness`, `anger`, and `fear` all occupy similar regions with slightly varying distributions. On the other hand, `joy` and `love` are well separated from the negative emotions and also share a similar space. Finally, `surprise` is scattered all over the place. Although we may have hoped for some separation, this is in no way guaranteed since the model was not trained to know the difference between these emotions. It only learned them implicitly by guessing the masked words in texts.\n",
        "\n",
        "Now that we've gained some insight into the features of our dataset, let's finally train a model on it!"
      ],
      "metadata": {
        "id": "amBT0PX4oGYF"
      }
    },
    {
      "cell_type": "markdown",
      "source": [
        "#### Training a simple classifier\n",
        "\n",
        "We've seen that the hidden states are somewhat different between the emotions, although for several of them there is no obvious boundary. Let's use these hidden states to train a logistic regression model with Scikit-Learn. Training such a simple model is fast and does not require a GPU:"
      ],
      "metadata": {
        "id": "6CdJKKrCoUDs"
      }
    },
    {
      "cell_type": "code",
      "source": [
        "# We increase `max_iter` to guarantee convergence\n",
        "from sklearn.linear_model import LogisticRegression\n",
        "\n",
        "lr_clf = LogisticRegression(max_iter=3000)\n",
        "lr_clf.fit(X_train, y_train)"
      ],
      "metadata": {
        "colab": {
          "base_uri": "https://localhost:8080/",
          "height": 75
        },
        "id": "btY5d-rcoGl0",
        "outputId": "094741e9-fa84-4b7e-abb8-c4c15789df61"
      },
      "execution_count": 49,
      "outputs": [
        {
          "output_type": "execute_result",
          "data": {
            "text/plain": [
              "LogisticRegression(max_iter=3000)"
            ],
            "text/html": [
              "<style>#sk-container-id-1 {color: black;background-color: white;}#sk-container-id-1 pre{padding: 0;}#sk-container-id-1 div.sk-toggleable {background-color: white;}#sk-container-id-1 label.sk-toggleable__label {cursor: pointer;display: block;width: 100%;margin-bottom: 0;padding: 0.3em;box-sizing: border-box;text-align: center;}#sk-container-id-1 label.sk-toggleable__label-arrow:before {content: \"▸\";float: left;margin-right: 0.25em;color: #696969;}#sk-container-id-1 label.sk-toggleable__label-arrow:hover:before {color: black;}#sk-container-id-1 div.sk-estimator:hover label.sk-toggleable__label-arrow:before {color: black;}#sk-container-id-1 div.sk-toggleable__content {max-height: 0;max-width: 0;overflow: hidden;text-align: left;background-color: #f0f8ff;}#sk-container-id-1 div.sk-toggleable__content pre {margin: 0.2em;color: black;border-radius: 0.25em;background-color: #f0f8ff;}#sk-container-id-1 input.sk-toggleable__control:checked~div.sk-toggleable__content {max-height: 200px;max-width: 100%;overflow: auto;}#sk-container-id-1 input.sk-toggleable__control:checked~label.sk-toggleable__label-arrow:before {content: \"▾\";}#sk-container-id-1 div.sk-estimator input.sk-toggleable__control:checked~label.sk-toggleable__label {background-color: #d4ebff;}#sk-container-id-1 div.sk-label input.sk-toggleable__control:checked~label.sk-toggleable__label {background-color: #d4ebff;}#sk-container-id-1 input.sk-hidden--visually {border: 0;clip: rect(1px 1px 1px 1px);clip: rect(1px, 1px, 1px, 1px);height: 1px;margin: -1px;overflow: hidden;padding: 0;position: absolute;width: 1px;}#sk-container-id-1 div.sk-estimator {font-family: monospace;background-color: #f0f8ff;border: 1px dotted black;border-radius: 0.25em;box-sizing: border-box;margin-bottom: 0.5em;}#sk-container-id-1 div.sk-estimator:hover {background-color: #d4ebff;}#sk-container-id-1 div.sk-parallel-item::after {content: \"\";width: 100%;border-bottom: 1px solid gray;flex-grow: 1;}#sk-container-id-1 div.sk-label:hover label.sk-toggleable__label {background-color: #d4ebff;}#sk-container-id-1 div.sk-serial::before {content: \"\";position: absolute;border-left: 1px solid gray;box-sizing: border-box;top: 0;bottom: 0;left: 50%;z-index: 0;}#sk-container-id-1 div.sk-serial {display: flex;flex-direction: column;align-items: center;background-color: white;padding-right: 0.2em;padding-left: 0.2em;position: relative;}#sk-container-id-1 div.sk-item {position: relative;z-index: 1;}#sk-container-id-1 div.sk-parallel {display: flex;align-items: stretch;justify-content: center;background-color: white;position: relative;}#sk-container-id-1 div.sk-item::before, #sk-container-id-1 div.sk-parallel-item::before {content: \"\";position: absolute;border-left: 1px solid gray;box-sizing: border-box;top: 0;bottom: 0;left: 50%;z-index: -1;}#sk-container-id-1 div.sk-parallel-item {display: flex;flex-direction: column;z-index: 1;position: relative;background-color: white;}#sk-container-id-1 div.sk-parallel-item:first-child::after {align-self: flex-end;width: 50%;}#sk-container-id-1 div.sk-parallel-item:last-child::after {align-self: flex-start;width: 50%;}#sk-container-id-1 div.sk-parallel-item:only-child::after {width: 0;}#sk-container-id-1 div.sk-dashed-wrapped {border: 1px dashed gray;margin: 0 0.4em 0.5em 0.4em;box-sizing: border-box;padding-bottom: 0.4em;background-color: white;}#sk-container-id-1 div.sk-label label {font-family: monospace;font-weight: bold;display: inline-block;line-height: 1.2em;}#sk-container-id-1 div.sk-label-container {text-align: center;}#sk-container-id-1 div.sk-container {/* jupyter's `normalize.less` sets `[hidden] { display: none; }` but bootstrap.min.css set `[hidden] { display: none !important; }` so we also need the `!important` here to be able to override the default hidden behavior on the sphinx rendered scikit-learn.org. See: https://github.com/scikit-learn/scikit-learn/issues/21755 */display: inline-block !important;position: relative;}#sk-container-id-1 div.sk-text-repr-fallback {display: none;}</style><div id=\"sk-container-id-1\" class=\"sk-top-container\"><div class=\"sk-text-repr-fallback\"><pre>LogisticRegression(max_iter=3000)</pre><b>In a Jupyter environment, please rerun this cell to show the HTML representation or trust the notebook. <br />On GitHub, the HTML representation is unable to render, please try loading this page with nbviewer.org.</b></div><div class=\"sk-container\" hidden><div class=\"sk-item\"><div class=\"sk-estimator sk-toggleable\"><input class=\"sk-toggleable__control sk-hidden--visually\" id=\"sk-estimator-id-1\" type=\"checkbox\" checked><label for=\"sk-estimator-id-1\" class=\"sk-toggleable__label sk-toggleable__label-arrow\">LogisticRegression</label><div class=\"sk-toggleable__content\"><pre>LogisticRegression(max_iter=3000)</pre></div></div></div></div></div>"
            ]
          },
          "metadata": {},
          "execution_count": 49
        }
      ]
    },
    {
      "cell_type": "code",
      "source": [
        "lr_clf.score(X_valid, y_valid)"
      ],
      "metadata": {
        "colab": {
          "base_uri": "https://localhost:8080/"
        },
        "id": "-absU4B6odA6",
        "outputId": "22f1e1f5-c988-49b2-af17-dd65b15097a4"
      },
      "execution_count": 50,
      "outputs": [
        {
          "output_type": "execute_result",
          "data": {
            "text/plain": [
              "0.634"
            ]
          },
          "metadata": {},
          "execution_count": 50
        }
      ]
    },
    {
      "cell_type": "markdown",
      "source": [
        "Looking at the accuracy, it might appear that our model is just a bit better than random—but since we are dealing with an unbalanced multiclass dataset, it's actually significantly better. We can examine whether our model is any good by comparing it against a simple baseline. In Scikit-Learn there is a `DummyClassifier` that can be used to build a classifier with simple heuristics such as always choosing the majority class or always drawing a random class. In this case the best-performing heuristic is to always choose the most frequent class, which yields an accuracy of about 35%:"
      ],
      "metadata": {
        "id": "DY31kl9yolsU"
      }
    },
    {
      "cell_type": "code",
      "source": [
        "from sklearn.dummy import DummyClassifier\n",
        "\n",
        "dummy_clf = DummyClassifier(strategy=\"most_frequent\")\n",
        "dummy_clf.fit(X_train, y_train)\n",
        "dummy_clf.score(X_valid, y_valid)"
      ],
      "metadata": {
        "colab": {
          "base_uri": "https://localhost:8080/"
        },
        "id": "ewcU9Ot2olc2",
        "outputId": "8f4f8f0d-c4b8-42da-960d-57c8ee9bd66c"
      },
      "execution_count": 51,
      "outputs": [
        {
          "output_type": "execute_result",
          "data": {
            "text/plain": [
              "0.352"
            ]
          },
          "metadata": {},
          "execution_count": 51
        }
      ]
    },
    {
      "cell_type": "markdown",
      "source": [
        "So, our simple classifier with DistilBERT embeddings is significantly better than our baseline. We can further investigate the performance of the model by looking at the confusion matrix of the classifier, which tells us the relationship between the true and predicted labels:"
      ],
      "metadata": {
        "id": "zc8pgYhNo0Xr"
      }
    },
    {
      "cell_type": "code",
      "source": [
        "from sklearn.metrics import ConfusionMatrixDisplay, confusion_matrix\n",
        "\n",
        "def plot_confusion_matrix(y_preds, y_true, labels):\n",
        "    cm = confusion_matrix(y_true, y_preds, normalize=\"true\")\n",
        "    fig, ax = plt.subplots(figsize=(6, 6))\n",
        "    disp = ConfusionMatrixDisplay(confusion_matrix=cm, display_labels=labels)\n",
        "    disp.plot(cmap=\"Blues\", values_format=\".2f\", ax=ax, colorbar=False)\n",
        "    plt.title(\"Normalized confusion matrix\")\n",
        "    plt.show()\n",
        "\n",
        "y_preds = lr_clf.predict(X_valid)\n",
        "plot_confusion_matrix(y_preds, y_valid, labels)"
      ],
      "metadata": {
        "colab": {
          "base_uri": "https://localhost:8080/",
          "height": 564
        },
        "id": "MyobZ1e4ofiR",
        "outputId": "2357e5f8-f774-4c64-aaed-fe57f61b739f"
      },
      "execution_count": 52,
      "outputs": [
        {
          "output_type": "display_data",
          "data": {
            "text/plain": [
              "<Figure size 600x600 with 1 Axes>"
            ],
            "image/png": "[encoded data removed]"
          },
          "metadata": {}
        }
      ]
    },
    {
      "cell_type": "markdown",
      "source": [
        "We can see that `anger` and `fear` are most often confused with `sadness`, which agrees with the observation we made when visualizing the embeddings. Also, `love` and `surprise` are frequently mistaken for `joy`."
      ],
      "metadata": {
        "id": "dYu34K-Fo7yW"
      }
    }
  ]
}
