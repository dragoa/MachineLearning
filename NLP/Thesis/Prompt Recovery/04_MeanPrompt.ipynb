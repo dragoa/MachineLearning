{
 "cells": [
  {
   "cell_type": "markdown",
   "id": "88bf4e70",
   "metadata": {
    "papermill": {
     "duration": 0.003226,
     "end_time": "2024-03-13T15:55:48.877685",
     "exception": false,
     "start_time": "2024-03-13T15:55:48.874459",
     "status": "completed"
    },
    "tags": []
   },
   "source": [
    "imporved performance with prompt engineering , score of .61 on LB from this notebook /prompt . credits to @VINCENT SIRIUS and the https://www.kaggle.com/competitions/llm-prompt-recovery/discussion/481116 discussion thread for this prompt  "
   ]
  },
  {
   "cell_type": "markdown",
   "id": "bdf43906",
   "metadata": {
    "papermill": {
     "duration": 0.002466,
     "end_time": "2024-03-13T15:55:48.883432",
     "exception": false,
     "start_time": "2024-03-13T15:55:48.880966",
     "status": "completed"
    },
    "tags": []
   },
   "source": [
    "# PROMPT ENGINEER TO LB .61 SUBMISSION "
   ]
  },
  {
   "cell_type": "code",
   "execution_count": 1,
   "id": "692b5f73",
   "metadata": {
    "execution": {
     "iopub.execute_input": "2024-03-13T15:55:48.892123Z",
     "iopub.status.busy": "2024-03-13T15:55:48.890907Z",
     "iopub.status.idle": "2024-03-13T15:55:49.864860Z",
     "shell.execute_reply": "2024-03-13T15:55:49.863561Z"
    },
    "papermill": {
     "duration": 0.981538,
     "end_time": "2024-03-13T15:55:49.867755",
     "exception": false,
     "start_time": "2024-03-13T15:55:48.886217",
     "status": "completed"
    },
    "tags": []
   },
   "outputs": [],
   "source": [
    "import numpy as np\n",
    "import pandas as pd\n",
    "\n",
    "import os"
   ]
  },
  {
   "cell_type": "code",
   "execution_count": 2,
   "id": "2455f14a",
   "metadata": {
    "execution": {
     "iopub.execute_input": "2024-03-13T15:55:49.875791Z",
     "iopub.status.busy": "2024-03-13T15:55:49.874574Z",
     "iopub.status.idle": "2024-03-13T15:55:49.919364Z",
     "shell.execute_reply": "2024-03-13T15:55:49.918075Z"
    },
    "papermill": {
     "duration": 0.051549,
     "end_time": "2024-03-13T15:55:49.922065",
     "exception": false,
     "start_time": "2024-03-13T15:55:49.870516",
     "status": "completed"
    },
    "tags": []
   },
   "outputs": [
    {
     "name": "stdout",
     "output_type": "stream",
     "text": [
      "Please improve the following text using the writing style of, maintaining the original meaning but altering the tone, diction, and stylistic elements to match the new style.Enhance the clarity, elegance, and impact of the following text by adopting the writing style of , ensuring the core message remains intact while transforming the tone, word choice, and stylistic features to align with the specified style.\n"
     ]
    },
    {
     "data": {
      "text/html": [
       "<div>\n",
       "<style scoped>\n",
       "    .dataframe tbody tr th:only-of-type {\n",
       "        vertical-align: middle;\n",
       "    }\n",
       "\n",
       "    .dataframe tbody tr th {\n",
       "        vertical-align: top;\n",
       "    }\n",
       "\n",
       "    .dataframe thead th {\n",
       "        text-align: right;\n",
       "    }\n",
       "</style>\n",
       "<table border=\"1\" class=\"dataframe\">\n",
       "  <thead>\n",
       "    <tr style=\"text-align: right;\">\n",
       "      <th></th>\n",
       "      <th>id</th>\n",
       "      <th>rewrite_prompt</th>\n",
       "    </tr>\n",
       "  </thead>\n",
       "  <tbody>\n",
       "    <tr>\n",
       "      <th>0</th>\n",
       "      <td>-1</td>\n",
       "      <td>Please improve the following text using the wr...</td>\n",
       "    </tr>\n",
       "  </tbody>\n",
       "</table>\n",
       "</div>"
      ],
      "text/plain": [
       "   id                                     rewrite_prompt\n",
       "0  -1  Please improve the following text using the wr..."
      ]
     },
     "execution_count": 2,
     "metadata": {},
     "output_type": "execute_result"
    }
   ],
   "source": [
    "train = pd.read_csv(\"/kaggle/input/llm-prompt-recovery/train.csv\")\n",
    "test = pd.read_csv(\"/kaggle/input/llm-prompt-recovery/test.csv\")\n",
    "test['rewrite_prompt'] = 'Please improve the following text using the writing style of, maintaining the original meaning but altering the tone, diction, and stylistic elements to match the new style.Enhance the clarity, elegance, and impact of the following text by adopting the writing style of , ensuring the core message remains intact while transforming the tone, word choice, and stylistic features to align with the specified style.' \n",
    "print(test['rewrite_prompt'].iloc[0])\n",
    "test = test[['id', 'rewrite_prompt']]\n",
    "test"
   ]
  },
  {
   "cell_type": "code",
   "execution_count": 3,
   "id": "b2435d42",
   "metadata": {
    "execution": {
     "iopub.execute_input": "2024-03-13T15:55:49.930103Z",
     "iopub.status.busy": "2024-03-13T15:55:49.929663Z",
     "iopub.status.idle": "2024-03-13T15:55:49.946267Z",
     "shell.execute_reply": "2024-03-13T15:55:49.945189Z"
    },
    "papermill": {
     "duration": 0.023898,
     "end_time": "2024-03-13T15:55:49.949270",
     "exception": false,
     "start_time": "2024-03-13T15:55:49.925372",
     "status": "completed"
    },
    "tags": []
   },
   "outputs": [
    {
     "data": {
      "text/html": [
       "<div>\n",
       "<style scoped>\n",
       "    .dataframe tbody tr th:only-of-type {\n",
       "        vertical-align: middle;\n",
       "    }\n",
       "\n",
       "    .dataframe tbody tr th {\n",
       "        vertical-align: top;\n",
       "    }\n",
       "\n",
       "    .dataframe thead th {\n",
       "        text-align: right;\n",
       "    }\n",
       "</style>\n",
       "<table border=\"1\" class=\"dataframe\">\n",
       "  <thead>\n",
       "    <tr style=\"text-align: right;\">\n",
       "      <th></th>\n",
       "      <th>id</th>\n",
       "      <th>rewrite_prompt</th>\n",
       "    </tr>\n",
       "  </thead>\n",
       "  <tbody>\n",
       "    <tr>\n",
       "      <th>0</th>\n",
       "      <td>-1</td>\n",
       "      <td>Please improve the following text using the wr...</td>\n",
       "    </tr>\n",
       "  </tbody>\n",
       "</table>\n",
       "</div>"
      ],
      "text/plain": [
       "   id                                     rewrite_prompt\n",
       "0  -1  Please improve the following text using the wr..."
      ]
     },
     "execution_count": 3,
     "metadata": {},
     "output_type": "execute_result"
    }
   ],
   "source": [
    "test.to_csv('submission.csv', header=True, index=False)\n",
    "sub = pd.read_csv(\"/kaggle/working/submission.csv\")\n",
    "sub"
   ]
  }
 ],
 "metadata": {
  "kaggle": {
   "accelerator": "none",
   "dataSources": [
    {
     "databundleVersionId": 7806901,
     "sourceId": 67121,
     "sourceType": "competition"
    }
   ],
   "dockerImageVersionId": 30664,
   "isGpuEnabled": false,
   "isInternetEnabled": false,
   "language": "python",
   "sourceType": "notebook"
  },
  "kernelspec": {
   "display_name": "Python 3",
   "language": "python",
   "name": "python3"
  },
  "language_info": {
   "codemirror_mode": {
    "name": "ipython",
    "version": 3
   },
   "file_extension": ".py",
   "mimetype": "text/x-python",
   "name": "python",
   "nbconvert_exporter": "python",
   "pygments_lexer": "ipython3",
   "version": "3.10.13"
  },
  "papermill": {
   "default_parameters": {},
   "duration": 4.819974,
   "end_time": "2024-03-13T15:55:50.474401",
   "environment_variables": {},
   "exception": null,
   "input_path": "__notebook__.ipynb",
   "output_path": "__notebook__.ipynb",
   "parameters": {},
   "start_time": "2024-03-13T15:55:45.654427",
   "version": "2.5.0"
  }
 },
 "nbformat": 4,
 "nbformat_minor": 5
}
