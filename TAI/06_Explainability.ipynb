{
  "cells": [
    {
      "cell_type": "markdown",
      "metadata": {
        "id": "view-in-github",
        "colab_type": "text"
      },
      "source": [
        "<a href=\"https://colab.research.google.com/github/dragoa/MachineLearning/blob/TAI/TAI/06_Explainability.ipynb\" target=\"_parent\"><img src=\"https://colab.research.google.com/assets/colab-badge.svg\" alt=\"Open In Colab\"/></a>"
      ]
    },
    {
      "cell_type": "markdown",
      "metadata": {
        "collapsed": true,
        "pycharm": {
          "name": "#%% md\n"
        },
        "id": "95WR2T_zXmFs"
      },
      "source": [
        "# Explaining Machine Learning\n",
        "\n",
        "Interpretability of Machine Learning models has recently become a relevant research direction to more thoroughly address and mitigate the issues of adversarial examples and to better understand the potential flow of the most recent algorithm such as Deep Neural Networks.\n",
        "\n",
        "In this tutorial, we explore different methods that SecML provides to compute *post-hoc* explanations, which consist on analyzing a trained model to understand which components such as features or training prototypes are more relevant during the decision (classification) phase.\n",
        "\n",
        "[![Open In Colab](https://colab.research.google.com/assets/colab-badge.svg)](\n",
        "https://colab.research.google.com/github/zangobot/teaching_material/blob/HEAD/06-Explainability.ipynb)"
      ]
    },
    {
      "cell_type": "code",
      "execution_count": 1,
      "metadata": {
        "pycharm": {
          "name": "#%%\n"
        },
        "id": "UWl5mvKsXmFw"
      },
      "outputs": [],
      "source": [
        "%%capture --no-stderr --no-display\n",
        "# NBVAL_IGNORE_OUTPUT\n",
        "\n",
        "try:\n",
        "  import secml\n",
        "except ImportError:\n",
        "  %pip install git+https://github.com/pralab/secml"
      ]
    },
    {
      "cell_type": "markdown",
      "metadata": {
        "pycharm": {
          "name": "#%% md\n"
        },
        "id": "RzKAugGjXmFy"
      },
      "source": [
        "## Feature-based explanations\n",
        "\n",
        "Feature-based explanation methods assign a value to each feature of an input sample depending on how relevant it is towards the classification decision. These relevance values are often called *attributions*.\n",
        "\n",
        "In this tutorial, we are going to test the following *gradient-based* explanation methods:\n",
        "\n",
        " - **Gradient** of the model with respect to the input.\n",
        "\n",
        "  > [[baehrens2010explain]](http://www.jmlr.org/papers/volume11/baehrens10a/baehrens10a.pdf)\n",
        "  > D. Baehrens, T. Schroeter, S. Harmeling, M. Kawanabe, K. Hansen,\n",
        "  > K.-R.Muller, \"How to explain individual classification decisions\",\n",
        "  > in: J. Mach. Learn. Res. 11 (2010) 1803-1831\n",
        "\n",
        " - **Gradient * Input**\n",
        "\n",
        "  > [[shrikumar2016not]](https://arxiv.org/pdf/1605.01713)\n",
        "  > A. Shrikumar, P. Greenside, A. Shcherbina, A. Kundaje,\n",
        "  > \"Not just a blackbox: Learning important features through propagating\n",
        "  > activation differences\", 2016 arXiv:1605.01713.\n",
        "\n",
        "  > [[melis2018explaining]](https://arxiv.org/abs/1803.03544)\n",
        "  > M. Melis, D. Maiorca, B. Biggio, G. Giacinto and F. Roli,\n",
        "  > \"Explaining Black-box Android Malware Detection,\" 2018 26th European\n",
        "  > Signal Processing Conference (EUSIPCO), Rome, 2018, pp. 524-528.\n",
        "\n",
        " - **Integrated Gradients**\n",
        "\n",
        "  > [[sundararajan2017axiomatic]](https://arxiv.org/pdf/1703.01365)\n",
        "  > Sundararajan, Mukund, Ankur Taly, and Qiqi Yan. \"Axiomatic Attribution\n",
        "  > for Deep Networks.\" Proceedings of the 34th International Conference on\n",
        "  > Machine Learning, Volume 70, JMLR. org, 2017, pp. 3319-3328."
      ]
    },
    {
      "cell_type": "markdown",
      "metadata": {
        "pycharm": {
          "name": "#%% md\n"
        },
        "id": "exe7hCWkXmFz"
      },
      "source": [
        "### Training of the classifier\n",
        "\n",
        "First, we load the MNIST dataset and we train an SVM classifier with RBF kernel."
      ]
    },
    {
      "cell_type": "code",
      "execution_count": 2,
      "metadata": {
        "pycharm": {
          "name": "#%%\n"
        },
        "colab": {
          "base_uri": "https://localhost:8080/"
        },
        "id": "6l-iH4xgXmF0",
        "outputId": "1d6189b1-4cdb-4179-bac3-94ccca50d121"
      },
      "outputs": [
        {
          "output_type": "stream",
          "name": "stdout",
          "text": [
            "2023-12-19 14:02:27,985 - secml.settings - INFO - New `SECML_HOME_DIR` created: /root/secml-data\n",
            "2023-12-19 14:02:27,985 - secml.settings - INFO - New `SECML_HOME_DIR` created: /root/secml-data\n"
          ]
        },
        {
          "output_type": "stream",
          "name": "stderr",
          "text": [
            "INFO:secml.settings:New `SECML_HOME_DIR` created: /root/secml-data\n"
          ]
        },
        {
          "output_type": "stream",
          "name": "stdout",
          "text": [
            "2023-12-19 14:02:27,997 - secml.settings - INFO - Default configuration file copied to: /root/secml-data/secml.conf\n",
            "2023-12-19 14:02:27,997 - secml.settings - INFO - Default configuration file copied to: /root/secml-data/secml.conf\n"
          ]
        },
        {
          "output_type": "stream",
          "name": "stderr",
          "text": [
            "INFO:secml.settings:Default configuration file copied to: /root/secml-data/secml.conf\n"
          ]
        },
        {
          "output_type": "stream",
          "name": "stdout",
          "text": [
            "2023-12-19 14:02:28,002 - secml.settings - INFO - New `SECML_DS_DIR` created: /root/secml-data/datasets\n",
            "2023-12-19 14:02:28,002 - secml.settings - INFO - New `SECML_DS_DIR` created: /root/secml-data/datasets\n"
          ]
        },
        {
          "output_type": "stream",
          "name": "stderr",
          "text": [
            "INFO:secml.settings:New `SECML_DS_DIR` created: /root/secml-data/datasets\n"
          ]
        },
        {
          "output_type": "stream",
          "name": "stdout",
          "text": [
            "2023-12-19 14:02:28,007 - secml.settings - INFO - New `SECML_MODELS_DIR` created: /root/secml-data/models\n",
            "2023-12-19 14:02:28,007 - secml.settings - INFO - New `SECML_MODELS_DIR` created: /root/secml-data/models\n"
          ]
        },
        {
          "output_type": "stream",
          "name": "stderr",
          "text": [
            "INFO:secml.settings:New `SECML_MODELS_DIR` created: /root/secml-data/models\n"
          ]
        },
        {
          "output_type": "stream",
          "name": "stdout",
          "text": [
            "2023-12-19 14:02:28,011 - secml.settings - INFO - New `SECML_EXP_DIR` created: /root/secml-data/experiments\n",
            "2023-12-19 14:02:28,011 - secml.settings - INFO - New `SECML_EXP_DIR` created: /root/secml-data/experiments\n"
          ]
        },
        {
          "output_type": "stream",
          "name": "stderr",
          "text": [
            "INFO:secml.settings:New `SECML_EXP_DIR` created: /root/secml-data/experiments\n"
          ]
        },
        {
          "output_type": "stream",
          "name": "stdout",
          "text": [
            "2023-12-19 14:02:28,016 - secml.settings - INFO - New `SECML_LOGS_DIR` created: /root/secml-data/logs\n",
            "2023-12-19 14:02:28,016 - secml.settings - INFO - New `SECML_LOGS_DIR` created: /root/secml-data/logs\n"
          ]
        },
        {
          "output_type": "stream",
          "name": "stderr",
          "text": [
            "INFO:secml.settings:New `SECML_LOGS_DIR` created: /root/secml-data/logs\n"
          ]
        },
        {
          "output_type": "stream",
          "name": "stdout",
          "text": [
            "2023-12-19 14:02:28,021 - secml.settings - INFO - New `SECML_PYTORCH_DIR` created: /root/secml-data/pytorch-data\n",
            "2023-12-19 14:02:28,021 - secml.settings - INFO - New `SECML_PYTORCH_DIR` created: /root/secml-data/pytorch-data\n"
          ]
        },
        {
          "output_type": "stream",
          "name": "stderr",
          "text": [
            "INFO:secml.settings:New `SECML_PYTORCH_DIR` created: /root/secml-data/pytorch-data\n"
          ]
        },
        {
          "output_type": "stream",
          "name": "stdout",
          "text": [
            "Downloading from `https://gitlab.com/api/v4/projects/secml%2Fsecml-zoo/repository/files/datasets%2FMNIST%2Ftrain-images-idx3-ubyte.gz/raw?ref=master` (9912422 bytes)\n",
            "\n",
            "File stored in `/root/secml-data/datasets/mnist/train-images-idx3-ubyte.gz`\n",
            "Downloading from `https://gitlab.com/api/v4/projects/secml%2Fsecml-zoo/repository/files/datasets%2FMNIST%2Ftrain-labels-idx1-ubyte.gz/raw?ref=master` (28881 bytes)\n",
            "\n",
            "File stored in `/root/secml-data/datasets/mnist/train-labels-idx1-ubyte.gz`\n",
            "Downloading from `https://gitlab.com/api/v4/projects/secml%2Fsecml-zoo/repository/files/datasets%2FMNIST%2Ft10k-images-idx3-ubyte.gz/raw?ref=master` (1648877 bytes)\n",
            "\n",
            "File stored in `/root/secml-data/datasets/mnist/t10k-images-idx3-ubyte.gz`\n",
            "Downloading from `https://gitlab.com/api/v4/projects/secml%2Fsecml-zoo/repository/files/datasets%2FMNIST%2Ft10k-labels-idx1-ubyte.gz/raw?ref=master` (4542 bytes)\n",
            "\n",
            "File stored in `/root/secml-data/datasets/mnist/t10k-labels-idx1-ubyte.gz`\n",
            "Training of classifier...\n",
            "Accuracy on test set: 83.80%\n"
          ]
        }
      ],
      "source": [
        "random_state = 999\n",
        "\n",
        "n_tr = 500  # Number of training set samples\n",
        "n_ts = 500  # Number of test set samples\n",
        "\n",
        "from secml.data.loader import CDataLoaderMNIST\n",
        "loader = CDataLoaderMNIST()\n",
        "tr = loader.load('training', num_samples=n_tr)\n",
        "ts = loader.load('testing', num_samples=n_ts)\n",
        "\n",
        "# Normalize the features in `[0, 1]`\n",
        "tr.X /= 255\n",
        "ts.X /= 255\n",
        "\n",
        "from secml.ml.classifiers.multiclass import CClassifierMulticlassOVA\n",
        "from secml.ml.classifiers import CClassifierSVM\n",
        "from secml.ml.kernels import CKernelRBF\n",
        "\n",
        "clf = CClassifierMulticlassOVA( CClassifierSVM, kernel=CKernelRBF(gamma=1e-2))\n",
        "\n",
        "print(\"Training of classifier...\")\n",
        "clf.fit(tr.X, tr.Y)\n",
        "\n",
        "# Compute predictions on a test set\n",
        "y_pred = clf.predict(ts.X)\n",
        "\n",
        "# Metric to use for performance evaluation\n",
        "from secml.ml.peval.metrics import CMetricAccuracy\n",
        "metric = CMetricAccuracy()\n",
        "\n",
        "# Evaluate the accuracy of the classifier\n",
        "acc = metric.performance_score(y_true=ts.Y, y_pred=y_pred)\n",
        "\n",
        "print(\"Accuracy on test set: {:.2%}\".format(acc))\n"
      ]
    },
    {
      "cell_type": "markdown",
      "metadata": {
        "pycharm": {
          "name": "#%% md\n"
        },
        "id": "A3gn5rsAXmF1"
      },
      "source": [
        "### Compute the explanations\n",
        "\n",
        "The `secml.explanation` package provides different explanation methods as subclasses of `CExplainer`. Each explainer requires as input a trained classifier.\n",
        "\n",
        "To compute the explanation on a sample, the `.explain()` method should be used.\n",
        "For *gradient-based* methods, the label `y` of the class wrt the explanation should be computed is required.\n",
        "\n",
        "The `.explain()` method will return the relevance value associated to each feature of the input sample."
      ]
    },
    {
      "cell_type": "code",
      "execution_count": 3,
      "metadata": {
        "pycharm": {
          "name": "#%%\n"
        },
        "id": "vqi5wUMKXmF2"
      },
      "outputs": [],
      "source": [
        "from secml.explanation import \\\n",
        "    CExplainerGradient, CExplainerGradientInput, CExplainerIntegratedGradients\n",
        "\n",
        "explainers = (\n",
        "    {\n",
        "        'exp': CExplainerGradient(clf),  # Gradient\n",
        "        'label': 'Gradient'\n",
        "    },\n",
        "    {\n",
        "        'exp': CExplainerGradientInput(clf),  # Gradient * Input\n",
        "        'label': 'Grad*Input'\n",
        "    },\n",
        "    {\n",
        "        'exp': CExplainerIntegratedGradients(clf),  # Integrated Gradients\n",
        "        'label': 'Int. Grads'\n",
        "    },\n",
        ")\n"
      ]
    },
    {
      "cell_type": "code",
      "execution_count": 4,
      "metadata": {
        "pycharm": {
          "name": "#%%\n"
        },
        "colab": {
          "base_uri": "https://localhost:8080/"
        },
        "id": "Vnbb0Z6jXmF3",
        "outputId": "2a0dc638-0767-4936-aa5d-6804243f3f34"
      },
      "outputs": [
        {
          "output_type": "stream",
          "name": "stdout",
          "text": [
            "Explanations for sample 123 (true class: 6)\n",
            "Computing explanations using 'CExplainerGradient'...\n",
            "Computing explanations using 'CExplainerGradientInput'...\n",
            "Computing explanations using 'CExplainerIntegratedGradients'...\n"
          ]
        }
      ],
      "source": [
        "i = 123  # Test sample on which explanations should be computed\n",
        "x, y = ts[i, :].X, ts[i, :].Y\n",
        "\n",
        "print(\"Explanations for sample {:} (true class: {:})\".format(i, y.item()))\n",
        "\n",
        "from secml.array import CArray\n",
        "\n",
        "for expl in explainers:\n",
        "\n",
        "    print(\"Computing explanations using '{:}'...\".format(\n",
        "        expl['exp'].__class__.__name__))\n",
        "\n",
        "    # Compute explanations (attributions) wrt each class\n",
        "    attr = CArray.empty(shape=(tr.num_classes, x.size))\n",
        "    for c in tr.classes:\n",
        "\n",
        "        attr_c = expl['exp'].explain(x, y=c)\n",
        "        attr[c, :] = attr_c\n",
        "\n",
        "    expl['attr'] = attr"
      ]
    },
    {
      "cell_type": "markdown",
      "metadata": {
        "pycharm": {
          "name": "#%% md\n"
        },
        "id": "3tpBMWWXXmF3"
      },
      "source": [
        "### Visualize results\n",
        "\n",
        "We now visualize the explanations computed using the different methods, in rows.\n",
        "In columns, we show the explanations wrt each different class.\n",
        "\n",
        "Above the original tested sample, its true class label is shown.\n",
        "\n",
        "Red (blue) pixels denote positive (negative) relevance of the corresponding\n",
        " feature wrt the specific class."
      ]
    },
    {
      "cell_type": "code",
      "execution_count": 5,
      "metadata": {
        "pycharm": {
          "name": "#%%\n"
        },
        "colab": {
          "base_uri": "https://localhost:8080/",
          "height": 420
        },
        "id": "CRhJJcsoXmF4",
        "outputId": "e26612db-98fd-400a-9cdf-73c6ba98fc6d"
      },
      "outputs": [
        {
          "output_type": "display_data",
          "data": {
            "text/plain": [
              "<Figure size 1400x450 with 33 Axes>"
            ],
            "image/png": "[encoded data removed]"
          },
          "metadata": {}
        }
      ],
      "source": [
        "from secml.figure import CFigure\n",
        "# Only required for visualization in notebooks\n",
        "%matplotlib inline\n",
        "\n",
        "fig = CFigure(height=4.5, width=14, fontsize=13)\n",
        "\n",
        "for i, expl in enumerate(explainers):\n",
        "\n",
        "    sp_idx = i * (tr.num_classes+1)\n",
        "\n",
        "    # Original image\n",
        "    fig.subplot(len(explainers), tr.num_classes+1, sp_idx+1)\n",
        "    fig.sp.imshow(x.reshape((tr.header.img_h, tr.header.img_w)), cmap='gray')\n",
        "\n",
        "    if i == 0:  # For the first row only\n",
        "        fig.sp.title(\"Origin y: {:}\".format(y.item()))\n",
        "\n",
        "    fig.sp.ylabel(expl['label'])  # Label of the explainer\n",
        "\n",
        "    fig.sp.yticks([])\n",
        "    fig.sp.xticks([])\n",
        "\n",
        "    # Threshold to plot positive and negative relevance values symmetrically\n",
        "    th = max(abs(expl['attr'].min()), abs(expl['attr'].max()))\n",
        "\n",
        "    # Plot explanations\n",
        "    for c in tr.classes:\n",
        "\n",
        "        fig.subplot(len(explainers), tr.num_classes+1, sp_idx+2+c)\n",
        "        fig.sp.imshow(expl['attr'][c, :].reshape((tr.header.img_h, tr.header.img_w)),\n",
        "                      cmap='seismic', vmin=-1*th, vmax=th)\n",
        "\n",
        "        fig.sp.yticks([])\n",
        "        fig.sp.xticks([])\n",
        "\n",
        "        if i == 0:  # For the first row only\n",
        "            fig.sp.title(\"c: {:}\".format(c))\n",
        "\n",
        "fig.title(\"Explanations\", x=0.55)\n",
        "fig.tight_layout(rect=[0, 0.003, 1, 0.94])\n",
        "fig.show()"
      ]
    },
    {
      "cell_type": "markdown",
      "metadata": {
        "pycharm": {
          "name": "#%% md\n"
        },
        "id": "xHt3OYzhXmF4"
      },
      "source": [
        "For both **gradient\\*input** and **integrated gradients** methods we can\n",
        " observe a well defined area of positive (red) relevance for the explanation\n",
        " computed wrt the digit 6. This is expected as the true class of the tested\n",
        " sample is in fact 6. Moreover, a non-zero relevance value is mainly assigned\n",
        " to the features which are present in the tested sample, which is an expected\n",
        " behavior of these explanation methods.\n",
        "\n",
        "Conversely, the **gradient** method assigns relevance to a wider area of the\n",
        " image, even external to the actual digit. This leads to explanations which\n",
        " are in many cases difficult to interpret. For this reason, more advanced\n",
        " explanation methods are often favored."
      ]
    },
    {
      "cell_type": "markdown",
      "metadata": {
        "pycharm": {
          "name": "#%% md\n"
        },
        "id": "3EVGLFSEXmF5"
      },
      "source": [
        "## Prototype-based explanation\n",
        "\n",
        "Prototype-based explanation methods select specifc samples from the training\n",
        "dataset to explain the behavior of machine learning models.\n",
        "\n",
        "In this tutorial, we are going to test the explanation method proposed in:\n",
        "\n",
        "  > [[koh2017understanding]](https://arxiv.org/pdf/1703.04730)\n",
        "  > Koh, Pang Wei, and Percy Liang, \"Understanding black-box predictions\n",
        "  > via influence functions\", in: Proceedings of the 34th International\n",
        "  > Conference on Machine Learning-Volume 70. JMLR. org, 2017."
      ]
    },
    {
      "cell_type": "markdown",
      "metadata": {
        "pycharm": {
          "name": "#%% md\n"
        },
        "id": "BUYvG9vUXmF5"
      },
      "source": [
        "### Training of the classifier\n",
        "\n",
        "As our implementation of the prototype-based explanation methods currently\n",
        " only supports binary classifiers, we load the 2-classes MNIST59 dataset and\n",
        " then we train a SVM classifier with RBF kernel."
      ]
    },
    {
      "cell_type": "code",
      "execution_count": 6,
      "metadata": {
        "pycharm": {
          "name": "#%%\n"
        },
        "colab": {
          "base_uri": "https://localhost:8080/"
        },
        "id": "k1YG4rzSXmF5",
        "outputId": "91bde4c1-6df8-4172-e751-493bad202a3d"
      },
      "outputs": [
        {
          "output_type": "stream",
          "name": "stdout",
          "text": [
            "Training of classifier...\n",
            "Accuracy on test set: 96.20%\n"
          ]
        }
      ],
      "source": [
        "n_tr = 100  # Number of training set samples\n",
        "n_ts = 500  # Number of test set samples\n",
        "\n",
        "digits = (5, 9)\n",
        "\n",
        "loader = CDataLoaderMNIST()\n",
        "tr = loader.load('training', digits=digits, num_samples=n_tr)\n",
        "ts = loader.load('testing', digits=digits, num_samples=n_ts)\n",
        "\n",
        "# Normalize the features in `[0, 1]`\n",
        "tr.X /= 255\n",
        "ts.X /= 255\n",
        "\n",
        "clf = CClassifierSVM(kernel=CKernelRBF(gamma=1e-2))\n",
        "\n",
        "print(\"Training of classifier...\")\n",
        "clf.fit(tr.X, tr.Y)\n",
        "\n",
        "# Compute predictions on a test set\n",
        "y_pred = clf.predict(ts.X)\n",
        "\n",
        "# Metric to use for performance evaluation\n",
        "metric = CMetricAccuracy()\n",
        "\n",
        "# Evaluate the accuracy of the classifier\n",
        "acc = metric.performance_score(y_true=ts.Y, y_pred=y_pred)\n",
        "\n",
        "print(\"Accuracy on test set: {:.2%}\".format(acc))"
      ]
    },
    {
      "cell_type": "markdown",
      "metadata": {
        "pycharm": {
          "name": "#%% md\n"
        },
        "id": "iN6LEuzcXmF6"
      },
      "source": [
        "### Compute the influential training prototypes\n",
        "\n",
        "The `CExplainerInfluenceFunctions` class provides the influence functions\n",
        " prototype-based method described previously. It requires as input the\n",
        " classifier to explain and its training set.\n",
        "It also requires the identifier of the loss used to train the classier. In the\n",
        " case of SVM, it is the `hinge` loss.\n",
        "\n",
        "To compute the influence of each training sample wrt the test samples,\n",
        " the `.explain()` method should be used."
      ]
    },
    {
      "cell_type": "code",
      "execution_count": 7,
      "metadata": {
        "pycharm": {
          "name": "#%%\n"
        },
        "colab": {
          "base_uri": "https://localhost:8080/"
        },
        "id": "G352huJRXmF6",
        "outputId": "9cb1c4dd-b6f4-4d80-d21d-b9a32d556463"
      },
      "outputs": [
        {
          "output_type": "stream",
          "name": "stdout",
          "text": [
            "Computing influence of each training prototype on test samples...\n",
            "Done.\n"
          ]
        }
      ],
      "source": [
        "from secml.explanation import CExplainerInfluenceFunctions\n",
        "\n",
        "explanation = CExplainerInfluenceFunctions(\n",
        "    clf, tr, outer_loss_idx='hinge')  # SVM loss is 'hinge'\n",
        "\n",
        "print(\"Computing influence of each training prototype on test samples...\")\n",
        "\n",
        "infl = explanation.explain(ts.X, ts.Y)\n",
        "\n",
        "print(\"Done.\")"
      ]
    },
    {
      "cell_type": "markdown",
      "metadata": {
        "pycharm": {
          "name": "#%% md\n"
        },
        "id": "xpWBmp-uXmF6"
      },
      "source": [
        "### Visualize results\n",
        "\n",
        "We now visualize, wrt each class, the 3 most influential training prototypes\n",
        " for two different test samples. Above each training sample, the influence\n",
        " value is shown.\n",
        "\n",
        "In addition, above the original tested samples, the true class label is shown."
      ]
    },
    {
      "cell_type": "code",
      "execution_count": 8,
      "metadata": {
        "pycharm": {
          "name": "#%%\n"
        },
        "colab": {
          "base_uri": "https://localhost:8080/",
          "height": 356
        },
        "id": "0CZQLLwTXmF6",
        "outputId": "326541fb-13cd-4512-bf0b-22661d3864ba"
      },
      "outputs": [
        {
          "output_type": "display_data",
          "data": {
            "text/plain": [
              "<Figure size 900x350 with 14 Axes>"
            ],
            "image/png": "[encoded data removed]"
          },
          "metadata": {}
        }
      ],
      "source": [
        "fig = CFigure(height=3.5, width=9, fontsize=13)\n",
        "\n",
        "n_xc = 3  # Number of tr prototypes to plot per class\n",
        "\n",
        "ts_list = (50, 100)  # Test samples to evaluate\n",
        "\n",
        "infl_argsort = infl.argsort(axis=1)  # Sort influence values\n",
        "\n",
        "for i, ts_idx in enumerate(ts_list):\n",
        "\n",
        "    sp_idx = i * (n_xc*tr.num_classes+1)\n",
        "\n",
        "    x, y = ts[ts_idx, :].X, ts[ts_idx, :].Y\n",
        "\n",
        "    # Original image\n",
        "    fig.subplot(len(ts_list), n_xc*tr.num_classes+1, sp_idx+1)\n",
        "    fig.sp.imshow(x.reshape((tr.header.img_h, tr.header.img_w)), cmap='gray')\n",
        "\n",
        "    fig.sp.title(\"Origin y: {:}\".format(ts.header.y_original[y.item()]))\n",
        "\n",
        "    fig.sp.yticks([])\n",
        "    fig.sp.xticks([])\n",
        "\n",
        "    tr_top = infl_argsort[ts_idx, :n_xc]\n",
        "    tr_top = tr_top.append(infl_argsort[ts_idx, -n_xc:])\n",
        "\n",
        "    # Plot top influential training prototypes\n",
        "    for j, tr_idx in enumerate(tr_top):\n",
        "        fig.subplot(len(ts_list), n_xc*tr.num_classes+1, sp_idx+2+j)\n",
        "        fig.sp.imshow(tr.X[tr_idx, :].reshape((tr.header.img_h, tr.header.img_w)), cmap='gray')\n",
        "\n",
        "        fig.sp.title(\"{:.2f}\".format(infl[ts_idx, tr_idx].item()))\n",
        "\n",
        "        fig.sp.yticks([])\n",
        "        fig.sp.xticks([])\n",
        "\n",
        "fig.title(\"Top influential training prototypes\", x=0.57)\n",
        "fig.tight_layout(rect=[0, 0.003, 1, 0.92])\n",
        "fig.show()"
      ]
    },
    {
      "cell_type": "markdown",
      "metadata": {
        "pycharm": {
          "name": "#%% md\n"
        },
        "id": "1BVdFQ41XmF7"
      },
      "source": [
        "For both the tested samples we can observe a direct correspondence between\n",
        " the most influencial training prototypes and their true class. Specifically,\n",
        " the samples having highest (lowest) influence values are (are not) from\n",
        " the same true class of the tested samples."
      ]
    }
  ],
  "metadata": {
    "kernelspec": {
      "display_name": "Python 3",
      "language": "python",
      "name": "python3"
    },
    "language_info": {
      "codemirror_mode": {
        "name": "ipython",
        "version": 3
      },
      "file_extension": ".py",
      "mimetype": "text/x-python",
      "name": "python",
      "nbconvert_exporter": "python",
      "pygments_lexer": "ipython3",
      "version": "3.6.12"
    },
    "colab": {
      "provenance": [],
      "include_colab_link": true
    }
  },
  "nbformat": 4,
  "nbformat_minor": 0
}