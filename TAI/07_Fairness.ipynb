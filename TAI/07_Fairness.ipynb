{
  "nbformat": 4,
  "nbformat_minor": 0,
  "metadata": {
    "colab": {
      "provenance": [],
      "include_colab_link": true
    },
    "kernelspec": {
      "name": "python3",
      "display_name": "Python 3"
    },
    "language_info": {
      "name": "python"
    }
  },
  "cells": [
    {
      "cell_type": "markdown",
      "metadata": {
        "id": "view-in-github",
        "colab_type": "text"
      },
      "source": [
        "<a href=\"https://colab.research.google.com/github/dragoa/MachineLearning/blob/TAI/TAI/07_Fairness.ipynb\" target=\"_parent\"><img src=\"https://colab.research.google.com/assets/colab-badge.svg\" alt=\"Open In Colab\"/></a>"
      ]
    },
    {
      "cell_type": "markdown",
      "source": [
        "# Improving the fairness of a ML Model\n",
        "\n",
        "In this tutorial, we will see how a simple ML model trained on sensitive data can be able to learn how to discriminate against historically protected populations.\n",
        "\n",
        "Following this line, we will also implement a learning algorithm for addressing exactly this issue and eventually deriving fairer classifiers."
      ],
      "metadata": {
        "id": "IPgOeg1eHdpc"
      }
    },
    {
      "cell_type": "markdown",
      "source": [
        "[![Open In Colab](https://colab.research.google.com/assets/colab-badge.svg)](\n",
        "https://colab.research.google.com/github/zangobot/teaching_material/blob/main/07-Fairness.ipynb)"
      ],
      "metadata": {
        "id": "2i9mKMo5I4eI"
      }
    },
    {
      "cell_type": "markdown",
      "source": [
        "# 00 - Install Librabries"
      ],
      "metadata": {
        "id": "yw7GI7b3HYXm"
      }
    },
    {
      "cell_type": "markdown",
      "source": [
        "As our python optimization library, we will exploit the free version of GurobiPy, which need to be installed first in our python environment.\n",
        "\n",
        "This free version does not allow us to train ML models with a lot of variables, but it will suffice for the purpose of this tutorial. Note that a full academic license could be obtained for free requesting it on the [Gurobi official website](https://www.gurobi.com/academia/academic-program-and-licenses/)."
      ],
      "metadata": {
        "id": "gcb-uwTJHe3_"
      }
    },
    {
      "cell_type": "code",
      "execution_count": 1,
      "metadata": {
        "id": "awGdWhSySEdz",
        "colab": {
          "base_uri": "https://localhost:8080/"
        },
        "outputId": "9e4f9157-0707-4040-be6c-4c5f41729f7d"
      },
      "outputs": [
        {
          "output_type": "stream",
          "name": "stdout",
          "text": [
            "Collecting gurobipy\n",
            "  Downloading gurobipy-11.0.0-cp310-cp310-manylinux2014_x86_64.manylinux_2_17_x86_64.whl (13.4 MB)\n",
            "\u001b[2K     \u001b[90m━━━━━━━━━━━━━━━━━━━━━━━━━━━━━━━━━━━━━━━━\u001b[0m \u001b[32m13.4/13.4 MB\u001b[0m \u001b[31m34.6 MB/s\u001b[0m eta \u001b[36m0:00:00\u001b[0m\n",
            "\u001b[?25hInstalling collected packages: gurobipy\n",
            "Successfully installed gurobipy-11.0.0\n"
          ]
        }
      ],
      "source": [
        "try:\n",
        "  import gurobipy as gp\n",
        "except ImportError:\n",
        "  %pip install gurobipy"
      ]
    },
    {
      "cell_type": "markdown",
      "source": [
        "# 01 - Create linear-SVC exploiting Gurobi library\n",
        "\n",
        "In this tutorial we will create a linear Support Vector Classifier (SVC) from scratch using Gurobipy and Numpy.\n",
        "\n",
        "SVMs pose the optimization objective defined by:\n",
        "$$\n",
        "\\begin{align}\n",
        "\\min_{w,b,\\xi}&{\\frac{||w||^2}{2}+C\\sum_{i=1}^n{\\xi_i}}\\\\\n",
        "s.t.&\\,\\,\\xi_i\\geq0\\\\\n",
        "&\\,\\,y_i(x_iw^\\top-b)\\geq1-\\xi_i\n",
        "\\end{align}\n",
        "$$\n",
        "\n",
        "For a refresher on linear SVMs, check the well-written [SVM wikipedia article](https://en.wikipedia.org/wiki/Support_vector_machine)."
      ],
      "metadata": {
        "id": "01T5U2rgDHNL"
      }
    },
    {
      "cell_type": "code",
      "source": [
        "import numpy as np\n",
        "import gurobipy as gp\n",
        "from gurobipy import GRB, quicksum\n",
        "\n",
        "class GurobiSVC:\n",
        "    def __init__(self,\n",
        "                 c = 1.,\n",
        "                 bias_mitigation = None,\n",
        "                ):\n",
        "        self.c = c\n",
        "        self.bias_mitigation = bias_mitigation\n",
        "\n",
        "\n",
        "    @staticmethod\n",
        "    def apply_fairness_constraint(constraint,\n",
        "                                  data, sensitives,\n",
        "                                  gurobi_model, m_w, m_b):\n",
        "        assert constraint in ['linearDP', 'linearEO+','linearEO-']\n",
        "\n",
        "        # ----- Set constraints parameters\n",
        "        n_samples, n_features = data.shape[0], data.shape[1]\n",
        "\n",
        "        sens_groups = np.unique(sensitives)\n",
        "        if len(sens_groups) != 2:\n",
        "            raise ValueError(f\"Only binary sensitive attributes are currently supported; the found unique values of 's' are {sens_groups}\")\n",
        "\n",
        "        gr0_msk = sensitives == sens_groups[0]\n",
        "        gr1_msk = ~gr0_msk\n",
        "\n",
        "        if gr0_msk.all() or gr1_msk.all():\n",
        "            raise RuntimeError(\"Either one of the two vectors containing a sensitive group is empty\")\n",
        "\n",
        "        # ----- Set constraints\n",
        "        # b) linear DP, Equal Opp[+,-] on model outputs:\n",
        "        #     w * (\\sum_{i\\in{0,[+|-]}}{x_i}/n_{0,[+|-]} - \\sum_{i\\in{1,[+|-]}}{x_i}/n_{1,[+|-]}) == 0\n",
        "        if constraint == 'linearDP':\n",
        "            avg_grfeatures_dist = np.mean(data[gr0_msk], axis=0) - np.mean(data[gr1_msk], axis=0)\n",
        "            fair_constr = quicksum(m_w[j] * avg_grfeatures_dist[j] for j in range(n_features)) == 0\n",
        "            gurobi_model.addConstr(fair_constr, name=constraint)\n",
        "\n",
        "        else: # constraint in ['linearEO+', 'linearEO-']\n",
        "            # TODO: complete and implement EO constraint\n",
        "            raise NotImplementedError('EO constraints are not implemented yet.')\n",
        "\n",
        "        return gurobi_model\n",
        "\n",
        "    def fit(self, X, y, s=None):\n",
        "        # ----- model parameters checking and initialization\n",
        "        if self.c < 0:\n",
        "            raise ValueError(f\"Penalty term must be positive; got {self.c}\")\n",
        "\n",
        "        num_samples, self.n_features_in_ = X.shape[0], X.shape[1]\n",
        "        self.classes_ = np.unique(y)\n",
        "        assert self.classes_.tolist() == [-1,1]\n",
        "\n",
        "        # ----- initialize optimization model\n",
        "        model = gp.Model()\n",
        "        model.setParam('OutputFlag',0)\n",
        "\n",
        "        # ----- add optimization variables\n",
        "        w = model.addVars(self.n_features_in_, lb=-GRB.INFINITY, ub=GRB.INFINITY)\n",
        "        b = model.addVar(lb=-GRB.INFINITY, ub=GRB.INFINITY)\n",
        "        xi = model.addVars(num_samples, lb=0, ub=GRB.INFINITY)\n",
        "\n",
        "        # ----- define optimization objective: 1/2 * ||w||_2^2 + C * \\sum_i{xi_i}\n",
        "        obj = quicksum(w[j]**2 for j in range(self.n_features_in_))/2 + \\\n",
        "              quicksum(self.c * xi[i] for i in range(num_samples))\n",
        "        model.setObjective(obj, GRB.MINIMIZE)\n",
        "\n",
        "        # ----- define optimization constraints\n",
        "        # 1) soft-margin: y_i * (x_i * w^T + b) >= 1 - xi_i  \\forall i \\in dataset-indexes\n",
        "        sm_constrs = (y[i] * (quicksum(w[j] * X[i][j] for j in range(self.n_features_in_)) + b) \\\n",
        "                      >= 1 - xi[i] for i in range(num_samples))\n",
        "        model.addConstrs(sm_constrs, name=\"soft-margin\")\n",
        "\n",
        "        # ----- define fairness constraints\n",
        "        if self.bias_mitigation is not None:\n",
        "            assert s is not None\n",
        "            model = GurobiSVC.apply_fairness_constraint(\n",
        "                constraint=self.bias_mitigation,\n",
        "                data=X, sensitives=s,\n",
        "                gurobi_model=model, m_w=w, m_b=b)\n",
        "\n",
        "        # ----- optimize\n",
        "        model.optimize()\n",
        "        if model.Status != 2:\n",
        "            raise RuntimeError(\"No optimal solution has been found.\")\n",
        "\n",
        "        # ----- retrieve model coefficients\n",
        "        self.coef_ = np.array([[w[i].x for i in w.keys()]])\n",
        "        self.intercept_ = np.array([b.x])\n",
        "\n",
        "        return self\n",
        "\n",
        "    def decision_function(self, X):\n",
        "        raw = np.dot(X, self.coef_.T) + self.intercept_\n",
        "        return raw.squeeze(-1) # squeeze the outer dimension so that raw.shape == (n_samples,)\n",
        "\n",
        "    def predict(self, X):\n",
        "        pred = np.where(self.decision_function(X) >= 0, 1, -1)\n",
        "        return pred\n",
        "\n",
        "    def soft_margin_scores(self, X, y): # $xi$ in the standard SVM formulation\n",
        "        xi = np.maximum(0, 1-y*self.decision_function(X))\n",
        "        return xi\n",
        ""
      ],
      "metadata": {
        "id": "OiFpRY8qDr5I"
      },
      "execution_count": 2,
      "outputs": []
    },
    {
      "cell_type": "markdown",
      "source": [
        "# 02 - Test plain linear-SVC performances\n",
        "\n",
        "Now that we have defined the SVC python class, we need to instantiate it and train on a popular dataset for Fair ML: the Compas data."
      ],
      "metadata": {
        "id": "Kc7ZGYjoDrZH"
      }
    },
    {
      "cell_type": "markdown",
      "source": [
        "## 02a - Read data and prepare data for training"
      ],
      "metadata": {
        "id": "l6RN6IZ7DEMv"
      }
    },
    {
      "cell_type": "code",
      "source": [
        "# ----- Download data\n",
        "!gdown 1lgx1QKF26jkrI24x_HYjw9yuDyUnArlp"
      ],
      "metadata": {
        "colab": {
          "base_uri": "https://localhost:8080/"
        },
        "id": "tc96xO7ADDBb",
        "outputId": "d4022737-4414-4e9d-aef2-bcc8b31af0dd"
      },
      "execution_count": 3,
      "outputs": [
        {
          "output_type": "stream",
          "name": "stdout",
          "text": [
            "Downloading...\n",
            "From: https://drive.google.com/uc?id=1lgx1QKF26jkrI24x_HYjw9yuDyUnArlp\n",
            "To: /content/clean_compas.csv\n",
            "\r  0% 0.00/118k [00:00<?, ?B/s]\r100% 118k/118k [00:00<00:00, 71.7MB/s]\n"
          ]
        }
      ]
    },
    {
      "cell_type": "code",
      "source": [
        "# ---- Read data\n",
        "import pandas as pd\n",
        "\n",
        "df = pd.read_csv('clean_compas.csv')\n",
        "df = df.sample(1000, replace=False, random_state=42)\n",
        "df"
      ],
      "metadata": {
        "colab": {
          "base_uri": "https://localhost:8080/",
          "height": 423
        },
        "id": "OffnUduUWXdV",
        "outputId": "4676ecc1-0e2a-4cb3-a115-9dfa95c64ace"
      },
      "execution_count": 4,
      "outputs": [
        {
          "output_type": "execute_result",
          "data": {
            "text/plain": [
              "               ageCat  race  sex  priorsCount  cChargeDegree  twoYearRecid\n",
              "8     Greater than 45     1    0            1              0             1\n",
              "4246          25 - 45     0    1            2              1            -1\n",
              "544      Less than 25     0    0            0              0            -1\n",
              "1780          25 - 45     1    1            1              0             1\n",
              "3940          25 - 45     0    1            0              0             1\n",
              "...               ...   ...  ...          ...            ...           ...\n",
              "4427          25 - 45     1    1            3              0             1\n",
              "644           25 - 45     0    1            3              1             1\n",
              "1220          25 - 45     0    1           10              0            -1\n",
              "4803          25 - 45     1    1            1              0             1\n",
              "3939          25 - 45     1    1            0              1            -1\n",
              "\n",
              "[1000 rows x 6 columns]"
            ],
            "text/html": [
              "\n",
              "  <div id=\"df-0e191b2d-7db4-4e16-9851-3c40c289ea73\" class=\"colab-df-container\">\n",
              "    <div>\n",
              "<style scoped>\n",
              "    .dataframe tbody tr th:only-of-type {\n",
              "        vertical-align: middle;\n",
              "    }\n",
              "\n",
              "    .dataframe tbody tr th {\n",
              "        vertical-align: top;\n",
              "    }\n",
              "\n",
              "    .dataframe thead th {\n",
              "        text-align: right;\n",
              "    }\n",
              "</style>\n",
              "<table border=\"1\" class=\"dataframe\">\n",
              "  <thead>\n",
              "    <tr style=\"text-align: right;\">\n",
              "      <th></th>\n",
              "      <th>ageCat</th>\n",
              "      <th>race</th>\n",
              "      <th>sex</th>\n",
              "      <th>priorsCount</th>\n",
              "      <th>cChargeDegree</th>\n",
              "      <th>twoYearRecid</th>\n",
              "    </tr>\n",
              "  </thead>\n",
              "  <tbody>\n",
              "    <tr>\n",
              "      <th>8</th>\n",
              "      <td>Greater than 45</td>\n",
              "      <td>1</td>\n",
              "      <td>0</td>\n",
              "      <td>1</td>\n",
              "      <td>0</td>\n",
              "      <td>1</td>\n",
              "    </tr>\n",
              "    <tr>\n",
              "      <th>4246</th>\n",
              "      <td>25 - 45</td>\n",
              "      <td>0</td>\n",
              "      <td>1</td>\n",
              "      <td>2</td>\n",
              "      <td>1</td>\n",
              "      <td>-1</td>\n",
              "    </tr>\n",
              "    <tr>\n",
              "      <th>544</th>\n",
              "      <td>Less than 25</td>\n",
              "      <td>0</td>\n",
              "      <td>0</td>\n",
              "      <td>0</td>\n",
              "      <td>0</td>\n",
              "      <td>-1</td>\n",
              "    </tr>\n",
              "    <tr>\n",
              "      <th>1780</th>\n",
              "      <td>25 - 45</td>\n",
              "      <td>1</td>\n",
              "      <td>1</td>\n",
              "      <td>1</td>\n",
              "      <td>0</td>\n",
              "      <td>1</td>\n",
              "    </tr>\n",
              "    <tr>\n",
              "      <th>3940</th>\n",
              "      <td>25 - 45</td>\n",
              "      <td>0</td>\n",
              "      <td>1</td>\n",
              "      <td>0</td>\n",
              "      <td>0</td>\n",
              "      <td>1</td>\n",
              "    </tr>\n",
              "    <tr>\n",
              "      <th>...</th>\n",
              "      <td>...</td>\n",
              "      <td>...</td>\n",
              "      <td>...</td>\n",
              "      <td>...</td>\n",
              "      <td>...</td>\n",
              "      <td>...</td>\n",
              "    </tr>\n",
              "    <tr>\n",
              "      <th>4427</th>\n",
              "      <td>25 - 45</td>\n",
              "      <td>1</td>\n",
              "      <td>1</td>\n",
              "      <td>3</td>\n",
              "      <td>0</td>\n",
              "      <td>1</td>\n",
              "    </tr>\n",
              "    <tr>\n",
              "      <th>644</th>\n",
              "      <td>25 - 45</td>\n",
              "      <td>0</td>\n",
              "      <td>1</td>\n",
              "      <td>3</td>\n",
              "      <td>1</td>\n",
              "      <td>1</td>\n",
              "    </tr>\n",
              "    <tr>\n",
              "      <th>1220</th>\n",
              "      <td>25 - 45</td>\n",
              "      <td>0</td>\n",
              "      <td>1</td>\n",
              "      <td>10</td>\n",
              "      <td>0</td>\n",
              "      <td>-1</td>\n",
              "    </tr>\n",
              "    <tr>\n",
              "      <th>4803</th>\n",
              "      <td>25 - 45</td>\n",
              "      <td>1</td>\n",
              "      <td>1</td>\n",
              "      <td>1</td>\n",
              "      <td>0</td>\n",
              "      <td>1</td>\n",
              "    </tr>\n",
              "    <tr>\n",
              "      <th>3939</th>\n",
              "      <td>25 - 45</td>\n",
              "      <td>1</td>\n",
              "      <td>1</td>\n",
              "      <td>0</td>\n",
              "      <td>1</td>\n",
              "      <td>-1</td>\n",
              "    </tr>\n",
              "  </tbody>\n",
              "</table>\n",
              "<p>1000 rows × 6 columns</p>\n",
              "</div>\n",
              "    <div class=\"colab-df-buttons\">\n",
              "\n",
              "  <div class=\"colab-df-container\">\n",
              "    <button class=\"colab-df-convert\" onclick=\"convertToInteractive('df-0e191b2d-7db4-4e16-9851-3c40c289ea73')\"\n",
              "            title=\"Convert this dataframe to an interactive table.\"\n",
              "            style=\"display:none;\">\n",
              "\n",
              "  <svg xmlns=\"http://www.w3.org/2000/svg\" height=\"24px\" viewBox=\"0 -960 960 960\">\n",
              "    <path d=\"M120-120v-720h720v720H120Zm60-500h600v-160H180v160Zm220 220h160v-160H400v160Zm0 220h160v-160H400v160ZM180-400h160v-160H180v160Zm440 0h160v-160H620v160ZM180-180h160v-160H180v160Zm440 0h160v-160H620v160Z\"/>\n",
              "  </svg>\n",
              "    </button>\n",
              "\n",
              "  <style>\n",
              "    .colab-df-container {\n",
              "      display:flex;\n",
              "      gap: 12px;\n",
              "    }\n",
              "\n",
              "    .colab-df-convert {\n",
              "      background-color: #E8F0FE;\n",
              "      border: none;\n",
              "      border-radius: 50%;\n",
              "      cursor: pointer;\n",
              "      display: none;\n",
              "      fill: #1967D2;\n",
              "      height: 32px;\n",
              "      padding: 0 0 0 0;\n",
              "      width: 32px;\n",
              "    }\n",
              "\n",
              "    .colab-df-convert:hover {\n",
              "      background-color: #E2EBFA;\n",
              "      box-shadow: 0px 1px 2px rgba(60, 64, 67, 0.3), 0px 1px 3px 1px rgba(60, 64, 67, 0.15);\n",
              "      fill: #174EA6;\n",
              "    }\n",
              "\n",
              "    .colab-df-buttons div {\n",
              "      margin-bottom: 4px;\n",
              "    }\n",
              "\n",
              "    [theme=dark] .colab-df-convert {\n",
              "      background-color: #3B4455;\n",
              "      fill: #D2E3FC;\n",
              "    }\n",
              "\n",
              "    [theme=dark] .colab-df-convert:hover {\n",
              "      background-color: #434B5C;\n",
              "      box-shadow: 0px 1px 3px 1px rgba(0, 0, 0, 0.15);\n",
              "      filter: drop-shadow(0px 1px 2px rgba(0, 0, 0, 0.3));\n",
              "      fill: #FFFFFF;\n",
              "    }\n",
              "  </style>\n",
              "\n",
              "    <script>\n",
              "      const buttonEl =\n",
              "        document.querySelector('#df-0e191b2d-7db4-4e16-9851-3c40c289ea73 button.colab-df-convert');\n",
              "      buttonEl.style.display =\n",
              "        google.colab.kernel.accessAllowed ? 'block' : 'none';\n",
              "\n",
              "      async function convertToInteractive(key) {\n",
              "        const element = document.querySelector('#df-0e191b2d-7db4-4e16-9851-3c40c289ea73');\n",
              "        const dataTable =\n",
              "          await google.colab.kernel.invokeFunction('convertToInteractive',\n",
              "                                                    [key], {});\n",
              "        if (!dataTable) return;\n",
              "\n",
              "        const docLinkHtml = 'Like what you see? Visit the ' +\n",
              "          '<a target=\"_blank\" href=https://colab.research.google.com/notebooks/data_table.ipynb>data table notebook</a>'\n",
              "          + ' to learn more about interactive tables.';\n",
              "        element.innerHTML = '';\n",
              "        dataTable['output_type'] = 'display_data';\n",
              "        await google.colab.output.renderOutput(dataTable, element);\n",
              "        const docLink = document.createElement('div');\n",
              "        docLink.innerHTML = docLinkHtml;\n",
              "        element.appendChild(docLink);\n",
              "      }\n",
              "    </script>\n",
              "  </div>\n",
              "\n",
              "\n",
              "<div id=\"df-07cfdb11-28f3-4bbd-b6a7-2fe682ac1bcc\">\n",
              "  <button class=\"colab-df-quickchart\" onclick=\"quickchart('df-07cfdb11-28f3-4bbd-b6a7-2fe682ac1bcc')\"\n",
              "            title=\"Suggest charts\"\n",
              "            style=\"display:none;\">\n",
              "\n",
              "<svg xmlns=\"http://www.w3.org/2000/svg\" height=\"24px\"viewBox=\"0 0 24 24\"\n",
              "     width=\"24px\">\n",
              "    <g>\n",
              "        <path d=\"M19 3H5c-1.1 0-2 .9-2 2v14c0 1.1.9 2 2 2h14c1.1 0 2-.9 2-2V5c0-1.1-.9-2-2-2zM9 17H7v-7h2v7zm4 0h-2V7h2v10zm4 0h-2v-4h2v4z\"/>\n",
              "    </g>\n",
              "</svg>\n",
              "  </button>\n",
              "\n",
              "<style>\n",
              "  .colab-df-quickchart {\n",
              "      --bg-color: #E8F0FE;\n",
              "      --fill-color: #1967D2;\n",
              "      --hover-bg-color: #E2EBFA;\n",
              "      --hover-fill-color: #174EA6;\n",
              "      --disabled-fill-color: #AAA;\n",
              "      --disabled-bg-color: #DDD;\n",
              "  }\n",
              "\n",
              "  [theme=dark] .colab-df-quickchart {\n",
              "      --bg-color: #3B4455;\n",
              "      --fill-color: #D2E3FC;\n",
              "      --hover-bg-color: #434B5C;\n",
              "      --hover-fill-color: #FFFFFF;\n",
              "      --disabled-bg-color: #3B4455;\n",
              "      --disabled-fill-color: #666;\n",
              "  }\n",
              "\n",
              "  .colab-df-quickchart {\n",
              "    background-color: var(--bg-color);\n",
              "    border: none;\n",
              "    border-radius: 50%;\n",
              "    cursor: pointer;\n",
              "    display: none;\n",
              "    fill: var(--fill-color);\n",
              "    height: 32px;\n",
              "    padding: 0;\n",
              "    width: 32px;\n",
              "  }\n",
              "\n",
              "  .colab-df-quickchart:hover {\n",
              "    background-color: var(--hover-bg-color);\n",
              "    box-shadow: 0 1px 2px rgba(60, 64, 67, 0.3), 0 1px 3px 1px rgba(60, 64, 67, 0.15);\n",
              "    fill: var(--button-hover-fill-color);\n",
              "  }\n",
              "\n",
              "  .colab-df-quickchart-complete:disabled,\n",
              "  .colab-df-quickchart-complete:disabled:hover {\n",
              "    background-color: var(--disabled-bg-color);\n",
              "    fill: var(--disabled-fill-color);\n",
              "    box-shadow: none;\n",
              "  }\n",
              "\n",
              "  .colab-df-spinner {\n",
              "    border: 2px solid var(--fill-color);\n",
              "    border-color: transparent;\n",
              "    border-bottom-color: var(--fill-color);\n",
              "    animation:\n",
              "      spin 1s steps(1) infinite;\n",
              "  }\n",
              "\n",
              "  @keyframes spin {\n",
              "    0% {\n",
              "      border-color: transparent;\n",
              "      border-bottom-color: var(--fill-color);\n",
              "      border-left-color: var(--fill-color);\n",
              "    }\n",
              "    20% {\n",
              "      border-color: transparent;\n",
              "      border-left-color: var(--fill-color);\n",
              "      border-top-color: var(--fill-color);\n",
              "    }\n",
              "    30% {\n",
              "      border-color: transparent;\n",
              "      border-left-color: var(--fill-color);\n",
              "      border-top-color: var(--fill-color);\n",
              "      border-right-color: var(--fill-color);\n",
              "    }\n",
              "    40% {\n",
              "      border-color: transparent;\n",
              "      border-right-color: var(--fill-color);\n",
              "      border-top-color: var(--fill-color);\n",
              "    }\n",
              "    60% {\n",
              "      border-color: transparent;\n",
              "      border-right-color: var(--fill-color);\n",
              "    }\n",
              "    80% {\n",
              "      border-color: transparent;\n",
              "      border-right-color: var(--fill-color);\n",
              "      border-bottom-color: var(--fill-color);\n",
              "    }\n",
              "    90% {\n",
              "      border-color: transparent;\n",
              "      border-bottom-color: var(--fill-color);\n",
              "    }\n",
              "  }\n",
              "</style>\n",
              "\n",
              "  <script>\n",
              "    async function quickchart(key) {\n",
              "      const quickchartButtonEl =\n",
              "        document.querySelector('#' + key + ' button');\n",
              "      quickchartButtonEl.disabled = true;  // To prevent multiple clicks.\n",
              "      quickchartButtonEl.classList.add('colab-df-spinner');\n",
              "      try {\n",
              "        const charts = await google.colab.kernel.invokeFunction(\n",
              "            'suggestCharts', [key], {});\n",
              "      } catch (error) {\n",
              "        console.error('Error during call to suggestCharts:', error);\n",
              "      }\n",
              "      quickchartButtonEl.classList.remove('colab-df-spinner');\n",
              "      quickchartButtonEl.classList.add('colab-df-quickchart-complete');\n",
              "    }\n",
              "    (() => {\n",
              "      let quickchartButtonEl =\n",
              "        document.querySelector('#df-07cfdb11-28f3-4bbd-b6a7-2fe682ac1bcc button');\n",
              "      quickchartButtonEl.style.display =\n",
              "        google.colab.kernel.accessAllowed ? 'block' : 'none';\n",
              "    })();\n",
              "  </script>\n",
              "</div>\n",
              "    </div>\n",
              "  </div>\n"
            ]
          },
          "metadata": {},
          "execution_count": 4
        }
      ]
    },
    {
      "cell_type": "code",
      "source": [
        "# ----- Fix categorical values\n",
        "np.unique(df['ageCat'])"
      ],
      "metadata": {
        "colab": {
          "base_uri": "https://localhost:8080/"
        },
        "id": "KXVBvitSXeUc",
        "outputId": "4073db57-a539-4fca-ed02-09ebd8b8189e"
      },
      "execution_count": 5,
      "outputs": [
        {
          "output_type": "execute_result",
          "data": {
            "text/plain": [
              "array(['25 - 45', 'Greater than 45', 'Less than 25'], dtype=object)"
            ]
          },
          "metadata": {},
          "execution_count": 5
        }
      ]
    },
    {
      "cell_type": "code",
      "source": [
        "for val_idx, categ in enumerate(['Less than 25', '25 - 45', 'Greater than 45']):\n",
        "    msk = df['ageCat'] == categ\n",
        "    df.loc[msk, 'ageCat'] = val_idx\n",
        "df"
      ],
      "metadata": {
        "colab": {
          "base_uri": "https://localhost:8080/",
          "height": 423
        },
        "id": "JTENvvJ9YVdW",
        "outputId": "1e258542-4fc7-4545-98f3-8c10d9b2a541"
      },
      "execution_count": 6,
      "outputs": [
        {
          "output_type": "execute_result",
          "data": {
            "text/plain": [
              "     ageCat  race  sex  priorsCount  cChargeDegree  twoYearRecid\n",
              "8         2     1    0            1              0             1\n",
              "4246      1     0    1            2              1            -1\n",
              "544       0     0    0            0              0            -1\n",
              "1780      1     1    1            1              0             1\n",
              "3940      1     0    1            0              0             1\n",
              "...     ...   ...  ...          ...            ...           ...\n",
              "4427      1     1    1            3              0             1\n",
              "644       1     0    1            3              1             1\n",
              "1220      1     0    1           10              0            -1\n",
              "4803      1     1    1            1              0             1\n",
              "3939      1     1    1            0              1            -1\n",
              "\n",
              "[1000 rows x 6 columns]"
            ],
            "text/html": [
              "\n",
              "  <div id=\"df-7d18df8d-5864-4529-815b-9dc0c1e19376\" class=\"colab-df-container\">\n",
              "    <div>\n",
              "<style scoped>\n",
              "    .dataframe tbody tr th:only-of-type {\n",
              "        vertical-align: middle;\n",
              "    }\n",
              "\n",
              "    .dataframe tbody tr th {\n",
              "        vertical-align: top;\n",
              "    }\n",
              "\n",
              "    .dataframe thead th {\n",
              "        text-align: right;\n",
              "    }\n",
              "</style>\n",
              "<table border=\"1\" class=\"dataframe\">\n",
              "  <thead>\n",
              "    <tr style=\"text-align: right;\">\n",
              "      <th></th>\n",
              "      <th>ageCat</th>\n",
              "      <th>race</th>\n",
              "      <th>sex</th>\n",
              "      <th>priorsCount</th>\n",
              "      <th>cChargeDegree</th>\n",
              "      <th>twoYearRecid</th>\n",
              "    </tr>\n",
              "  </thead>\n",
              "  <tbody>\n",
              "    <tr>\n",
              "      <th>8</th>\n",
              "      <td>2</td>\n",
              "      <td>1</td>\n",
              "      <td>0</td>\n",
              "      <td>1</td>\n",
              "      <td>0</td>\n",
              "      <td>1</td>\n",
              "    </tr>\n",
              "    <tr>\n",
              "      <th>4246</th>\n",
              "      <td>1</td>\n",
              "      <td>0</td>\n",
              "      <td>1</td>\n",
              "      <td>2</td>\n",
              "      <td>1</td>\n",
              "      <td>-1</td>\n",
              "    </tr>\n",
              "    <tr>\n",
              "      <th>544</th>\n",
              "      <td>0</td>\n",
              "      <td>0</td>\n",
              "      <td>0</td>\n",
              "      <td>0</td>\n",
              "      <td>0</td>\n",
              "      <td>-1</td>\n",
              "    </tr>\n",
              "    <tr>\n",
              "      <th>1780</th>\n",
              "      <td>1</td>\n",
              "      <td>1</td>\n",
              "      <td>1</td>\n",
              "      <td>1</td>\n",
              "      <td>0</td>\n",
              "      <td>1</td>\n",
              "    </tr>\n",
              "    <tr>\n",
              "      <th>3940</th>\n",
              "      <td>1</td>\n",
              "      <td>0</td>\n",
              "      <td>1</td>\n",
              "      <td>0</td>\n",
              "      <td>0</td>\n",
              "      <td>1</td>\n",
              "    </tr>\n",
              "    <tr>\n",
              "      <th>...</th>\n",
              "      <td>...</td>\n",
              "      <td>...</td>\n",
              "      <td>...</td>\n",
              "      <td>...</td>\n",
              "      <td>...</td>\n",
              "      <td>...</td>\n",
              "    </tr>\n",
              "    <tr>\n",
              "      <th>4427</th>\n",
              "      <td>1</td>\n",
              "      <td>1</td>\n",
              "      <td>1</td>\n",
              "      <td>3</td>\n",
              "      <td>0</td>\n",
              "      <td>1</td>\n",
              "    </tr>\n",
              "    <tr>\n",
              "      <th>644</th>\n",
              "      <td>1</td>\n",
              "      <td>0</td>\n",
              "      <td>1</td>\n",
              "      <td>3</td>\n",
              "      <td>1</td>\n",
              "      <td>1</td>\n",
              "    </tr>\n",
              "    <tr>\n",
              "      <th>1220</th>\n",
              "      <td>1</td>\n",
              "      <td>0</td>\n",
              "      <td>1</td>\n",
              "      <td>10</td>\n",
              "      <td>0</td>\n",
              "      <td>-1</td>\n",
              "    </tr>\n",
              "    <tr>\n",
              "      <th>4803</th>\n",
              "      <td>1</td>\n",
              "      <td>1</td>\n",
              "      <td>1</td>\n",
              "      <td>1</td>\n",
              "      <td>0</td>\n",
              "      <td>1</td>\n",
              "    </tr>\n",
              "    <tr>\n",
              "      <th>3939</th>\n",
              "      <td>1</td>\n",
              "      <td>1</td>\n",
              "      <td>1</td>\n",
              "      <td>0</td>\n",
              "      <td>1</td>\n",
              "      <td>-1</td>\n",
              "    </tr>\n",
              "  </tbody>\n",
              "</table>\n",
              "<p>1000 rows × 6 columns</p>\n",
              "</div>\n",
              "    <div class=\"colab-df-buttons\">\n",
              "\n",
              "  <div class=\"colab-df-container\">\n",
              "    <button class=\"colab-df-convert\" onclick=\"convertToInteractive('df-7d18df8d-5864-4529-815b-9dc0c1e19376')\"\n",
              "            title=\"Convert this dataframe to an interactive table.\"\n",
              "            style=\"display:none;\">\n",
              "\n",
              "  <svg xmlns=\"http://www.w3.org/2000/svg\" height=\"24px\" viewBox=\"0 -960 960 960\">\n",
              "    <path d=\"M120-120v-720h720v720H120Zm60-500h600v-160H180v160Zm220 220h160v-160H400v160Zm0 220h160v-160H400v160ZM180-400h160v-160H180v160Zm440 0h160v-160H620v160ZM180-180h160v-160H180v160Zm440 0h160v-160H620v160Z\"/>\n",
              "  </svg>\n",
              "    </button>\n",
              "\n",
              "  <style>\n",
              "    .colab-df-container {\n",
              "      display:flex;\n",
              "      gap: 12px;\n",
              "    }\n",
              "\n",
              "    .colab-df-convert {\n",
              "      background-color: #E8F0FE;\n",
              "      border: none;\n",
              "      border-radius: 50%;\n",
              "      cursor: pointer;\n",
              "      display: none;\n",
              "      fill: #1967D2;\n",
              "      height: 32px;\n",
              "      padding: 0 0 0 0;\n",
              "      width: 32px;\n",
              "    }\n",
              "\n",
              "    .colab-df-convert:hover {\n",
              "      background-color: #E2EBFA;\n",
              "      box-shadow: 0px 1px 2px rgba(60, 64, 67, 0.3), 0px 1px 3px 1px rgba(60, 64, 67, 0.15);\n",
              "      fill: #174EA6;\n",
              "    }\n",
              "\n",
              "    .colab-df-buttons div {\n",
              "      margin-bottom: 4px;\n",
              "    }\n",
              "\n",
              "    [theme=dark] .colab-df-convert {\n",
              "      background-color: #3B4455;\n",
              "      fill: #D2E3FC;\n",
              "    }\n",
              "\n",
              "    [theme=dark] .colab-df-convert:hover {\n",
              "      background-color: #434B5C;\n",
              "      box-shadow: 0px 1px 3px 1px rgba(0, 0, 0, 0.15);\n",
              "      filter: drop-shadow(0px 1px 2px rgba(0, 0, 0, 0.3));\n",
              "      fill: #FFFFFF;\n",
              "    }\n",
              "  </style>\n",
              "\n",
              "    <script>\n",
              "      const buttonEl =\n",
              "        document.querySelector('#df-7d18df8d-5864-4529-815b-9dc0c1e19376 button.colab-df-convert');\n",
              "      buttonEl.style.display =\n",
              "        google.colab.kernel.accessAllowed ? 'block' : 'none';\n",
              "\n",
              "      async function convertToInteractive(key) {\n",
              "        const element = document.querySelector('#df-7d18df8d-5864-4529-815b-9dc0c1e19376');\n",
              "        const dataTable =\n",
              "          await google.colab.kernel.invokeFunction('convertToInteractive',\n",
              "                                                    [key], {});\n",
              "        if (!dataTable) return;\n",
              "\n",
              "        const docLinkHtml = 'Like what you see? Visit the ' +\n",
              "          '<a target=\"_blank\" href=https://colab.research.google.com/notebooks/data_table.ipynb>data table notebook</a>'\n",
              "          + ' to learn more about interactive tables.';\n",
              "        element.innerHTML = '';\n",
              "        dataTable['output_type'] = 'display_data';\n",
              "        await google.colab.output.renderOutput(dataTable, element);\n",
              "        const docLink = document.createElement('div');\n",
              "        docLink.innerHTML = docLinkHtml;\n",
              "        element.appendChild(docLink);\n",
              "      }\n",
              "    </script>\n",
              "  </div>\n",
              "\n",
              "\n",
              "<div id=\"df-f4c44741-cc5e-4a49-9888-64b6af362b78\">\n",
              "  <button class=\"colab-df-quickchart\" onclick=\"quickchart('df-f4c44741-cc5e-4a49-9888-64b6af362b78')\"\n",
              "            title=\"Suggest charts\"\n",
              "            style=\"display:none;\">\n",
              "\n",
              "<svg xmlns=\"http://www.w3.org/2000/svg\" height=\"24px\"viewBox=\"0 0 24 24\"\n",
              "     width=\"24px\">\n",
              "    <g>\n",
              "        <path d=\"M19 3H5c-1.1 0-2 .9-2 2v14c0 1.1.9 2 2 2h14c1.1 0 2-.9 2-2V5c0-1.1-.9-2-2-2zM9 17H7v-7h2v7zm4 0h-2V7h2v10zm4 0h-2v-4h2v4z\"/>\n",
              "    </g>\n",
              "</svg>\n",
              "  </button>\n",
              "\n",
              "<style>\n",
              "  .colab-df-quickchart {\n",
              "      --bg-color: #E8F0FE;\n",
              "      --fill-color: #1967D2;\n",
              "      --hover-bg-color: #E2EBFA;\n",
              "      --hover-fill-color: #174EA6;\n",
              "      --disabled-fill-color: #AAA;\n",
              "      --disabled-bg-color: #DDD;\n",
              "  }\n",
              "\n",
              "  [theme=dark] .colab-df-quickchart {\n",
              "      --bg-color: #3B4455;\n",
              "      --fill-color: #D2E3FC;\n",
              "      --hover-bg-color: #434B5C;\n",
              "      --hover-fill-color: #FFFFFF;\n",
              "      --disabled-bg-color: #3B4455;\n",
              "      --disabled-fill-color: #666;\n",
              "  }\n",
              "\n",
              "  .colab-df-quickchart {\n",
              "    background-color: var(--bg-color);\n",
              "    border: none;\n",
              "    border-radius: 50%;\n",
              "    cursor: pointer;\n",
              "    display: none;\n",
              "    fill: var(--fill-color);\n",
              "    height: 32px;\n",
              "    padding: 0;\n",
              "    width: 32px;\n",
              "  }\n",
              "\n",
              "  .colab-df-quickchart:hover {\n",
              "    background-color: var(--hover-bg-color);\n",
              "    box-shadow: 0 1px 2px rgba(60, 64, 67, 0.3), 0 1px 3px 1px rgba(60, 64, 67, 0.15);\n",
              "    fill: var(--button-hover-fill-color);\n",
              "  }\n",
              "\n",
              "  .colab-df-quickchart-complete:disabled,\n",
              "  .colab-df-quickchart-complete:disabled:hover {\n",
              "    background-color: var(--disabled-bg-color);\n",
              "    fill: var(--disabled-fill-color);\n",
              "    box-shadow: none;\n",
              "  }\n",
              "\n",
              "  .colab-df-spinner {\n",
              "    border: 2px solid var(--fill-color);\n",
              "    border-color: transparent;\n",
              "    border-bottom-color: var(--fill-color);\n",
              "    animation:\n",
              "      spin 1s steps(1) infinite;\n",
              "  }\n",
              "\n",
              "  @keyframes spin {\n",
              "    0% {\n",
              "      border-color: transparent;\n",
              "      border-bottom-color: var(--fill-color);\n",
              "      border-left-color: var(--fill-color);\n",
              "    }\n",
              "    20% {\n",
              "      border-color: transparent;\n",
              "      border-left-color: var(--fill-color);\n",
              "      border-top-color: var(--fill-color);\n",
              "    }\n",
              "    30% {\n",
              "      border-color: transparent;\n",
              "      border-left-color: var(--fill-color);\n",
              "      border-top-color: var(--fill-color);\n",
              "      border-right-color: var(--fill-color);\n",
              "    }\n",
              "    40% {\n",
              "      border-color: transparent;\n",
              "      border-right-color: var(--fill-color);\n",
              "      border-top-color: var(--fill-color);\n",
              "    }\n",
              "    60% {\n",
              "      border-color: transparent;\n",
              "      border-right-color: var(--fill-color);\n",
              "    }\n",
              "    80% {\n",
              "      border-color: transparent;\n",
              "      border-right-color: var(--fill-color);\n",
              "      border-bottom-color: var(--fill-color);\n",
              "    }\n",
              "    90% {\n",
              "      border-color: transparent;\n",
              "      border-bottom-color: var(--fill-color);\n",
              "    }\n",
              "  }\n",
              "</style>\n",
              "\n",
              "  <script>\n",
              "    async function quickchart(key) {\n",
              "      const quickchartButtonEl =\n",
              "        document.querySelector('#' + key + ' button');\n",
              "      quickchartButtonEl.disabled = true;  // To prevent multiple clicks.\n",
              "      quickchartButtonEl.classList.add('colab-df-spinner');\n",
              "      try {\n",
              "        const charts = await google.colab.kernel.invokeFunction(\n",
              "            'suggestCharts', [key], {});\n",
              "      } catch (error) {\n",
              "        console.error('Error during call to suggestCharts:', error);\n",
              "      }\n",
              "      quickchartButtonEl.classList.remove('colab-df-spinner');\n",
              "      quickchartButtonEl.classList.add('colab-df-quickchart-complete');\n",
              "    }\n",
              "    (() => {\n",
              "      let quickchartButtonEl =\n",
              "        document.querySelector('#df-f4c44741-cc5e-4a49-9888-64b6af362b78 button');\n",
              "      quickchartButtonEl.style.display =\n",
              "        google.colab.kernel.accessAllowed ? 'block' : 'none';\n",
              "    })();\n",
              "  </script>\n",
              "</div>\n",
              "    </div>\n",
              "  </div>\n"
            ]
          },
          "metadata": {},
          "execution_count": 6
        }
      ]
    },
    {
      "cell_type": "code",
      "source": [
        "# ---- Split in features, target and sensitive\n",
        "features = df.columns.tolist()\n",
        "target = features.pop(-1)\n",
        "sensitive = 'sex' # sex, race"
      ],
      "metadata": {
        "id": "DmYPI6H3Xbl8"
      },
      "execution_count": 7,
      "outputs": []
    },
    {
      "cell_type": "code",
      "source": [
        "X = df[features].to_numpy()\n",
        "y = df[target].to_numpy()\n",
        "s = df[sensitive].to_numpy()\n",
        "X.shape, y.shape, s.shape"
      ],
      "metadata": {
        "colab": {
          "base_uri": "https://localhost:8080/"
        },
        "id": "nSZvZ1gRYi1N",
        "outputId": "54949b91-3e96-4f2a-b16d-d9d37102a219"
      },
      "execution_count": 8,
      "outputs": [
        {
          "output_type": "execute_result",
          "data": {
            "text/plain": [
              "((1000, 5), (1000,), (1000,))"
            ]
          },
          "metadata": {},
          "execution_count": 8
        }
      ]
    },
    {
      "cell_type": "code",
      "source": [
        "# ----- Train-validation-test split\n",
        "from sklearn.model_selection import train_test_split\n",
        "\n",
        "X_tr, X_ts, y_tr, y_ts, s_tr, s_ts = train_test_split(X,y,s, train_size=180, random_state=42)\n",
        "\n",
        "n_ts = X_ts.shape[0]\n",
        "X_ts, X_vl = X_ts[:n_ts//2], X_ts[n_ts//2:]\n",
        "y_ts, y_vl = y_ts[:n_ts//2], y_ts[n_ts//2:]\n",
        "s_ts, s_vl = s_ts[:n_ts//2], s_ts[n_ts//2:]\n",
        "\n",
        "X_tr.shape[0], X_ts.shape[0], X_vl.shape[0]"
      ],
      "metadata": {
        "id": "cRP4NIRqaRzw",
        "colab": {
          "base_uri": "https://localhost:8080/"
        },
        "outputId": "d6091e1b-3f6c-4ebe-e33e-3f14bad9230f"
      },
      "execution_count": 9,
      "outputs": [
        {
          "output_type": "execute_result",
          "data": {
            "text/plain": [
              "(180, 410, 410)"
            ]
          },
          "metadata": {},
          "execution_count": 9
        }
      ]
    },
    {
      "cell_type": "code",
      "source": [
        "# ----- Scale features range\n",
        "from sklearn.preprocessing import MinMaxScaler\n",
        "\n",
        "scaler = MinMaxScaler(feature_range=(0,1))\n",
        "X_tr = scaler.fit_transform(X_tr)\n",
        "X_vl = scaler.transform(X_vl)\n",
        "X_ts = scaler.transform(X_ts)"
      ],
      "metadata": {
        "id": "PsHky59_WFhD"
      },
      "execution_count": 10,
      "outputs": []
    },
    {
      "cell_type": "markdown",
      "source": [
        "## 02b - Train model\n",
        "\n",
        "Since the SVC optimization algorithm contains the free hyperparamters C, we need to tune it in order to retrieve accurate results. Normally, we need to tune it with several rounds of train/validation split, but for the sake of this tutorial, we will use the best value coming from a one-validation-shot."
      ],
      "metadata": {
        "id": "WgHymyU9DN22"
      }
    },
    {
      "cell_type": "code",
      "source": [
        "from sklearn.metrics import accuracy_score\n",
        "\n",
        "# ----- Validate C param\n",
        "best_acc = 0\n",
        "for c in np.linspace(.1,50, num=100).round(3):\n",
        "    grb_svc = GurobiSVC(c=c)\n",
        "    grb_svc.fit(X_tr, y_tr)\n",
        "    curr_acc = round(accuracy_score(y_vl, grb_svc.predict(X_vl)), 3)\n",
        "    #print(f\"{c}: {curr_acc}\")\n",
        "    if curr_acc > best_acc:\n",
        "        best_acc = curr_acc\n",
        "        best_c = c\n",
        "\n",
        "print(f\"Best found accuracy: {best_acc} with c={best_c}\")"
      ],
      "metadata": {
        "id": "X1S0Z31iDDGb",
        "colab": {
          "base_uri": "https://localhost:8080/"
        },
        "outputId": "20396eae-6e00-4c8d-c919-84bc49921f6b"
      },
      "execution_count": 11,
      "outputs": [
        {
          "output_type": "stream",
          "name": "stdout",
          "text": [
            "Restricted license - for non-production use only - expires 2025-11-24\n",
            "Best found accuracy: 0.593 with c=1.108\n"
          ]
        }
      ]
    },
    {
      "cell_type": "code",
      "source": [
        "# ----- Train with best hyper-params configuration\n",
        "grb_svc = GurobiSVC(c=best_c)\n",
        "grb_svc.fit(X_tr, y_tr);"
      ],
      "metadata": {
        "id": "SNd3-ZOAtyoQ"
      },
      "execution_count": 12,
      "outputs": []
    },
    {
      "cell_type": "markdown",
      "source": [
        "## 02c - Test model performances\n",
        "\n",
        "Once the model is trained we can test the classification performances on the test set:"
      ],
      "metadata": {
        "id": "_JAtmnicD1D6"
      }
    },
    {
      "cell_type": "code",
      "source": [
        "from sklearn.metrics import classification_report\n",
        "\n",
        "print(classification_report(y_ts, grb_svc.predict(X_ts)))"
      ],
      "metadata": {
        "colab": {
          "base_uri": "https://localhost:8080/"
        },
        "id": "Du7a5K93D1Tu",
        "outputId": "b86fc46b-03f9-41ac-ab7d-fdec9d31e667"
      },
      "execution_count": 13,
      "outputs": [
        {
          "output_type": "stream",
          "name": "stdout",
          "text": [
            "              precision    recall  f1-score   support\n",
            "\n",
            "          -1       0.77      0.50      0.61       228\n",
            "           1       0.57      0.81      0.67       182\n",
            "\n",
            "    accuracy                           0.64       410\n",
            "   macro avg       0.67      0.66      0.64       410\n",
            "weighted avg       0.68      0.64      0.63       410\n",
            "\n"
          ]
        }
      ]
    },
    {
      "cell_type": "markdown",
      "source": [
        "The data are a bit unbalanced toward the negative class, but otherwise we can achieve a acceptable utility for just deploying a linear model."
      ],
      "metadata": {
        "id": "D8BW3myjSLva"
      }
    },
    {
      "cell_type": "markdown",
      "source": [
        "# 03 - Fairness\n",
        "\n",
        "But what happens of we want to test the model performances on the different sensitive groups? lets split the data according to the *sex* sensitive feature: we retrieve the samples coming from either the male and female distributions"
      ],
      "metadata": {
        "id": "mmy2XUC5DSPW"
      }
    },
    {
      "cell_type": "code",
      "source": [
        "male_msk = s_ts == 1\n",
        "female_msk = ~male_msk\n",
        "\n",
        "male_acc = classification_report(y_ts[male_msk], grb_svc.predict(X_ts[male_msk]))\n",
        "female_acc = classification_report(y_ts[female_msk], grb_svc.predict(X_ts[female_msk]))\n",
        "\n",
        "print(f\"Test Accuracy on males:\\n{male_acc}\")\n",
        "print(f\"\\nTest Accuracy on females:\\n{female_acc}\")"
      ],
      "metadata": {
        "id": "BmxUBjhIDDKW",
        "colab": {
          "base_uri": "https://localhost:8080/"
        },
        "outputId": "0944373e-93e2-4a68-eaf1-1a009e745b53"
      },
      "execution_count": 14,
      "outputs": [
        {
          "output_type": "stream",
          "name": "stdout",
          "text": [
            "Test Accuracy on males:\n",
            "              precision    recall  f1-score   support\n",
            "\n",
            "          -1       0.77      0.35      0.48       165\n",
            "           1       0.57      0.89      0.70       161\n",
            "\n",
            "    accuracy                           0.62       326\n",
            "   macro avg       0.67      0.62      0.59       326\n",
            "weighted avg       0.67      0.62      0.59       326\n",
            "\n",
            "\n",
            "Test Accuracy on females:\n",
            "              precision    recall  f1-score   support\n",
            "\n",
            "          -1       0.76      0.92      0.83        63\n",
            "           1       0.38      0.14      0.21        21\n",
            "\n",
            "    accuracy                           0.73        84\n",
            "   macro avg       0.57      0.53      0.52        84\n",
            "weighted avg       0.67      0.73      0.68        84\n",
            "\n"
          ]
        }
      ]
    },
    {
      "cell_type": "markdown",
      "source": [
        "From the report above we can observe three main issues:\n",
        "\n",
        "\n",
        "1.   There is a huge difference in number of samples between the two sensitive groups: 326 (male population) against 84 (female one)\n",
        "2.   There is a big accuracy gap between the two sensitive groups: 62% for males, while on the female subsamples we obtain an average accuracy of 73%\n",
        "3.   there is a huge recall difference between the two sensitive groups (remember that the recall metrics measure the total number of samples that the model is able to select for a particular class): we observe that for the positive class (+1) we have a recall rate of 89% on the male population, while only a 14% on the female one. While the situation is inverted for the negative class. This means that the model learnt a really big correlation between being male and belonging to the positive class against being female and belonging to the negative one.\n",
        "\n"
      ],
      "metadata": {
        "id": "TbYZbC6UTESh"
      }
    },
    {
      "cell_type": "code",
      "source": [
        "!gdown 1VGM4jSUAXzylcJJwB5HxjEXYFHpt22tn # download ploy.py"
      ],
      "metadata": {
        "colab": {
          "base_uri": "https://localhost:8080/"
        },
        "id": "pzg1BRMZvy7c",
        "outputId": "2ab61f36-1114-4970-c5e5-7f1854278dc2"
      },
      "execution_count": 15,
      "outputs": [
        {
          "output_type": "stream",
          "name": "stdout",
          "text": [
            "Downloading...\n",
            "From: https://drive.google.com/uc?id=1VGM4jSUAXzylcJJwB5HxjEXYFHpt22tn\n",
            "To: /content/plot.py\n",
            "\r  0% 0.00/2.29k [00:00<?, ?B/s]\r100% 2.29k/2.29k [00:00<00:00, 6.25MB/s]\n"
          ]
        }
      ]
    },
    {
      "cell_type": "markdown",
      "source": [
        "The 3rd point above may be justified by the fact that in the negative class we observe 3 times more samples belonging to the female population than the one that are observed for the positive class. Then a simple model like the linear one that we implemented simply learnt this spurious correlation!"
      ],
      "metadata": {
        "id": "Jgl83dmfaTzy"
      }
    },
    {
      "cell_type": "code",
      "source": [
        "from plot import plot_distributions_sunburst\n",
        "plot_distributions_sunburst(y_ts, s_ts)"
      ],
      "metadata": {
        "colab": {
          "base_uri": "https://localhost:8080/",
          "height": 636
        },
        "id": "2spRrRj6wSOx",
        "outputId": "7d935c06-0c49-4bd8-a7dd-086253d16e1f"
      },
      "execution_count": 16,
      "outputs": [
        {
          "output_type": "stream",
          "name": "stdout",
          "text": [
            "Total samples: 410\n",
            "Class distribution:\n",
            "\tclass -1: 228\n",
            "\tclass 1: 182\n",
            "Sensitive distribution:\n",
            "\tgroup 0: 84\n",
            "\tgroup 1: 326\n",
            "Class-sensitive distribution:\n",
            "\tclass -1, group 0: 63\n",
            "\tclass -1, group 1: 165\n",
            "\tclass 1, group 0: 21\n",
            "\tclass 1, group 1: 161\n"
          ]
        },
        {
          "output_type": "display_data",
          "data": {
            "text/plain": [
              "<Figure size 640x480 with 1 Axes>"
            ],
            "image/png": "[encoded data removed]"
          },
          "metadata": {}
        }
      ]
    },
    {
      "cell_type": "markdown",
      "source": [
        "## 03a - Define fairness metrics\n",
        "Once we noticed this disparities in accuracies for the different sensitive groups, we wish to define a simple quantity for measuring the dependency of the sensitive feature towards the model predictions: Difference of Demographic Parity (DDP)!\n",
        "Simply put, DDP measures the average prediction difference between the different sensitive groups:\n",
        "$$\n",
        "\\left|\\,\\frac{1}{n_0}\\sum_{i=1,s=0}^{n_0}{f(x_i)} - \\frac{1}{n_1}\\sum_{i=1,s=1}^{n_1}{f(x_i)}\\,\\right|\n",
        "$$\n",
        "Similarly to DDP, we can also define the Difference of Equal Opportunity (DEO), where the average is computed between the samples belonging to a predefined class only (either 1 or -1 in this tutorial)."
      ],
      "metadata": {
        "id": "Xi5d49x4EERC"
      }
    },
    {
      "cell_type": "code",
      "source": [
        "def difference_demographic_parity(model, samples, sensitive):\n",
        "    groups = np.unique(sensitive)\n",
        "    assert len(groups) == 2\n",
        "\n",
        "    gr0 = groups[0]\n",
        "    gr0_msk = sensitive == gr0\n",
        "\n",
        "    avg_pred_gr0 = model.predict(samples[gr0_msk]).mean()\n",
        "    avg_pred_gr1 = model.predict(samples[~gr0_msk]).mean()\n",
        "    ddp = np.abs(avg_pred_gr0 - avg_pred_gr1)\n",
        "    return round(ddp, 3)\n",
        "\n",
        "def difference_equal_opportunity(model, samples, sensitive, labels, target):\n",
        "    groups = np.unique(sensitive)\n",
        "    assert len(groups) == 2\n",
        "\n",
        "    gr0 = groups[0]\n",
        "    gr0_msk = sensitive == gr0\n",
        "    gr1_msk = ~gr0_msk\n",
        "    trg_mak = labels == target\n",
        "    gr0_target = gr0_msk & trg_mak\n",
        "    gr1_target = gr1_msk & trg_mak\n",
        "\n",
        "    avg_pred_gr0 = model.predict(samples[gr0_target]).mean()\n",
        "    avg_pred_gr1 = model.predict(samples[gr1_target]).mean()\n",
        "    deo = np.abs(avg_pred_gr0 - avg_pred_gr1)\n",
        "    return round(deo, 3)"
      ],
      "metadata": {
        "id": "XUd6NG98cgDT"
      },
      "execution_count": 17,
      "outputs": []
    },
    {
      "cell_type": "markdown",
      "source": [
        "## 03b - Test fairness metrics on previously trained SVC"
      ],
      "metadata": {
        "id": "odMKgiptEJj6"
      }
    },
    {
      "cell_type": "code",
      "source": [
        "ddp = difference_demographic_parity(grb_svc, X_ts, s_ts)\n",
        "deo_pos = difference_equal_opportunity(grb_svc, X_ts, s_ts, y_ts, 1)\n",
        "deo_neg = difference_equal_opportunity(grb_svc, X_ts, s_ts, y_ts, -1)\n",
        "\n",
        "print(f\"Difference of Demographic Parity (DDP): {ddp}\")\n",
        "print(f\"Difference of Equal Opportunity on positive class (DEO+): {deo_pos}\")\n",
        "print(f\"Difference of Equal Opportunity on negative class (DEO-): {deo_neg}\")"
      ],
      "metadata": {
        "id": "jWWMyhYvDDMf",
        "colab": {
          "base_uri": "https://localhost:8080/"
        },
        "outputId": "26c69a52-769a-48e6-8960-5a98030355f7"
      },
      "execution_count": 18,
      "outputs": [
        {
          "output_type": "stream",
          "name": "stdout",
          "text": [
            "Difference of Demographic Parity (DDP): 1.356\n",
            "Difference of Equal Opportunity on positive class (DEO+): 1.503\n",
            "Difference of Equal Opportunity on negative class (DEO-): 1.15\n"
          ]
        }
      ]
    },
    {
      "cell_type": "markdown",
      "source": [
        "## 03d - Improve model fairness: In-processing"
      ],
      "metadata": {
        "id": "sckkPgT0FLRJ"
      }
    },
    {
      "cell_type": "markdown",
      "source": [
        "In order to make our SVC fairer, we wish to impose a fairness constraint within the optimization process which force the DDP measure to be equal to 0.\n",
        "\n",
        "The DDP constraint for a linear model can be written as:\n",
        "$$\n",
        "\\begin{align}\n",
        "&\\frac{1}{n_0}\\sum_{i=1,s=0}^{n_0}{(x_iw^\\top-b)} - \\frac{1}{n_1}\\sum_{i=1,s=1}^{n_1}{(x_iw^\\top-b)}=0⇒\\\\\n",
        "⇒\\,&w\\,\\left(\\frac{1}{n_0}\\sum_{i=1,s=0}^{n_0}{x_i} - \\frac{1}{n_1}\\sum_{i=1,s=1}^{n_1}{x_i}\\right)\n",
        "\\end{align}\n",
        "$$"
      ],
      "metadata": {
        "id": "KFKwpdvkGMN5"
      }
    },
    {
      "cell_type": "code",
      "source": [
        "def apply_fairness_constraint(constraint,\n",
        "                              data, sensitives,\n",
        "                              gurobi_model, m_w, m_b, m_xi):\n",
        "    assert constraint in ['linearDP', 'linearEO+','linearEO-']\n",
        "\n",
        "    # ----- Set constraints parameters\n",
        "    n_samples, n_features = data.shape[0], data.shape[1]\n",
        "\n",
        "    sens_groups = np.unique(sensitives)\n",
        "    if len(sens_groups) != 2:\n",
        "        raise ValueError(f\"Only binary sensitive attributes are currently supported; the found unique values of 's' are {sens_groups}\")\n",
        "\n",
        "    gr0_msk = sensitives == sens_groups[0]\n",
        "    gr1_msk = ~gr0_msk\n",
        "\n",
        "    if gr0_msk.all() or gr1_msk.all():\n",
        "        raise RuntimeError(\"Either one of the two vectors containing a sensitive group is empty\")\n",
        "\n",
        "    # ----- Set constraints\n",
        "    # b) linear DP, Equal Opp[+,-] on model outputs:\n",
        "    #     w * (\\sum_{i\\in{0,[+|-]}}{x_i}/n_{0,[+|-]} - \\sum_{i\\in{1,[+|-]}}{x_i}/n_{1,[+|-]}) == 0\n",
        "    if constraint == 'linearDP':\n",
        "        avg_grfeatures_dist = np.mean(data[gr0_msk], axis=0) - np.mean(data[gr1_msk], axis=0)\n",
        "        fair_constr = quicksum(m_w[j] * avg_grfeatures_dist[j] for j in range(n_features)) == 0\n",
        "        gurobi_model.addConstr(fair_constr, name=constraint)\n",
        "    else:\n",
        "        raise NotImplementedError('EO constraints are not implemented yet.')\n",
        "\n",
        "    return gurobi_model"
      ],
      "metadata": {
        "id": "AWq8XiGQFRTx"
      },
      "execution_count": 19,
      "outputs": []
    },
    {
      "cell_type": "markdown",
      "source": [
        "Reperform one-shot validation for finding the best *c* hyperparameter"
      ],
      "metadata": {
        "id": "ylYGEkCPGZ6B"
      }
    },
    {
      "cell_type": "code",
      "source": [
        "from sklearn.metrics import accuracy_score\n",
        "\n",
        "# ----- Validate C param\n",
        "best_acc = 0\n",
        "for c in np.linspace(.1,50,num=100).round(3):\n",
        "    fair_grb_svc = GurobiSVC(c=c, bias_mitigation='linearDP')\n",
        "    fair_grb_svc.fit(X_tr, y_tr, s_tr)\n",
        "    curr_acc = round(accuracy_score(y_vl, fair_grb_svc.predict(X_vl)), 3)\n",
        "    #print(f\"{c}: {curr_acc}\")\n",
        "    if curr_acc > best_acc:\n",
        "        best_acc = curr_acc\n",
        "        best_c = c\n",
        "\n",
        "print(f\"Best found accuracy: {best_acc} with c={best_c}\")"
      ],
      "metadata": {
        "id": "V0XIIijRGc7D",
        "colab": {
          "base_uri": "https://localhost:8080/"
        },
        "outputId": "f9d217b7-c038-4318-b27e-7b3b259bf4ce"
      },
      "execution_count": 20,
      "outputs": [
        {
          "output_type": "stream",
          "name": "stdout",
          "text": [
            "Best found accuracy: 0.612 with c=5.644\n"
          ]
        }
      ]
    },
    {
      "cell_type": "code",
      "source": [
        "fair_grb_svc = GurobiSVC(c=best_c, bias_mitigation='linearDP')\n",
        "fair_grb_svc.fit(X_tr, y_tr, s_tr);"
      ],
      "metadata": {
        "id": "7BzYQrZx1Het"
      },
      "execution_count": 21,
      "outputs": []
    },
    {
      "cell_type": "markdown",
      "source": [
        "Test utility and fairness performances of fair linear-SVC"
      ],
      "metadata": {
        "id": "lplOAf5rGy_7"
      }
    },
    {
      "cell_type": "code",
      "source": [
        "print(classification_report(y_ts, fair_grb_svc.predict(X_ts)))"
      ],
      "metadata": {
        "id": "ZUGVODITGdOh",
        "colab": {
          "base_uri": "https://localhost:8080/"
        },
        "outputId": "5bff172a-7e40-4343-a840-94329d60b649"
      },
      "execution_count": 22,
      "outputs": [
        {
          "output_type": "stream",
          "name": "stdout",
          "text": [
            "              precision    recall  f1-score   support\n",
            "\n",
            "          -1       0.71      0.50      0.59       228\n",
            "           1       0.55      0.75      0.63       182\n",
            "\n",
            "    accuracy                           0.61       410\n",
            "   macro avg       0.63      0.63      0.61       410\n",
            "weighted avg       0.64      0.61      0.61       410\n",
            "\n"
          ]
        }
      ]
    },
    {
      "cell_type": "markdown",
      "source": [
        "From the report above we observe that in order to reduce the model discrimination we loose more or less 3% of accuracy (64% → 61%)"
      ],
      "metadata": {
        "id": "zXQ79s1Gf-Lq"
      }
    },
    {
      "cell_type": "code",
      "source": [
        "male_msk = s_ts == 1\n",
        "female_msk = ~male_msk\n",
        "\n",
        "male_acc = classification_report(y_ts[male_msk], fair_grb_svc.predict(X_ts[male_msk]))\n",
        "female_acc = classification_report(y_ts[female_msk], fair_grb_svc.predict(X_ts[female_msk]))\n",
        "\n",
        "print(f\"Test Accuracy on males:\\n{male_acc}\")\n",
        "print(f\"\\nTest Accuracy on females:\\n{female_acc}\")"
      ],
      "metadata": {
        "colab": {
          "base_uri": "https://localhost:8080/"
        },
        "id": "RlAM8rx800jb",
        "outputId": "6c55d888-c1a0-407b-d87f-8705b9916756"
      },
      "execution_count": 23,
      "outputs": [
        {
          "output_type": "stream",
          "name": "stdout",
          "text": [
            "Test Accuracy on males:\n",
            "              precision    recall  f1-score   support\n",
            "\n",
            "          -1       0.69      0.56      0.62       165\n",
            "           1       0.62      0.75      0.68       161\n",
            "\n",
            "    accuracy                           0.65       326\n",
            "   macro avg       0.66      0.65      0.65       326\n",
            "weighted avg       0.66      0.65      0.65       326\n",
            "\n",
            "\n",
            "Test Accuracy on females:\n",
            "              precision    recall  f1-score   support\n",
            "\n",
            "          -1       0.82      0.37      0.51        63\n",
            "           1       0.29      0.76      0.42        21\n",
            "\n",
            "    accuracy                           0.46        84\n",
            "   macro avg       0.55      0.56      0.46        84\n",
            "weighted avg       0.69      0.46      0.48        84\n",
            "\n"
          ]
        }
      ]
    },
    {
      "cell_type": "markdown",
      "source": [
        "But the accuracy lost is counterbalanced by big improvements on the fairness measures: now the difference in recall rates are not as huge as before and the DDP and DEO below are much lower!"
      ],
      "metadata": {
        "id": "_bRc1tpsgZwk"
      }
    },
    {
      "cell_type": "code",
      "source": [
        "ddp = difference_demographic_parity(fair_grb_svc, X_ts, s_ts)\n",
        "deo_pos = difference_equal_opportunity(fair_grb_svc, X_ts, s_ts, y_ts, 1)\n",
        "deo_neg = difference_equal_opportunity(fair_grb_svc, X_ts, s_ts, y_ts, -1)\n",
        "\n",
        "print(f\"Difference of Demographic Parity (DDP): {ddp}\")\n",
        "print(f\"Difference of Equal Opportunity on positive class (DEO+): {deo_pos}\")\n",
        "print(f\"Difference of Equal Opportunity on negative class (DEO-): {deo_neg}\")"
      ],
      "metadata": {
        "colab": {
          "base_uri": "https://localhost:8080/"
        },
        "id": "KPGu_SKRr2Fe",
        "outputId": "49d7e6df-86f8-4431-8f67-e086ae8e2f2f"
      },
      "execution_count": 24,
      "outputs": [
        {
          "output_type": "stream",
          "name": "stdout",
          "text": [
            "Difference of Demographic Parity (DDP): 0.149\n",
            "Difference of Equal Opportunity on positive class (DEO+): 0.033\n",
            "Difference of Equal Opportunity on negative class (DEO-): 0.385\n"
          ]
        }
      ]
    }
  ]
}