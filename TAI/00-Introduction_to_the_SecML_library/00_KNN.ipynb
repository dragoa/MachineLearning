{
 "cells": [
  {
   "cell_type": "markdown",
   "metadata": {
    "colab_type": "text",
    "id": "view-in-github"
   },
   "source": [
    "<a href=\"https://colab.research.google.com/github/dragoa/MachineLearning/blob/main/TAI/00-Introduction_to_the_SecML_library/00_KNN.ipynb\" target=\"_parent\"><img src=\"https://colab.research.google.com/assets/colab-badge.svg\" alt=\"Open In Colab\"/></a>"
   ]
  },
  {
   "cell_type": "markdown",
   "metadata": {
    "id": "GJM1fGGPXdL2"
   },
   "source": [
    "# KNN classification\n",
    "Let's try to implement a KNN classification algorithm for recognising digits from the MNIST dataset."
   ]
  },
  {
   "cell_type": "code",
   "execution_count": 1,
   "metadata": {
    "id": "b5w3JMPSXWio",
    "ExecuteTime": {
     "end_time": "2023-10-20T12:18:35.890761100Z",
     "start_time": "2023-10-20T12:18:34.889705700Z"
    }
   },
   "outputs": [],
   "source": [
    "from sklearn import datasets\n",
    "from sklearn.model_selection import train_test_split\n",
    "from sklearn.metrics import classification_report\n",
    "from sklearn.metrics import accuracy_score\n",
    "\n",
    "import numpy as np"
   ]
  },
  {
   "cell_type": "code",
   "execution_count": 2,
   "metadata": {
    "id": "_0Qaoka-ZZmH",
    "ExecuteTime": {
     "end_time": "2023-10-20T12:18:35.953180400Z",
     "start_time": "2023-10-20T12:18:35.901933900Z"
    }
   },
   "outputs": [
    {
     "name": "stdout",
     "output_type": "stream",
     "text": [
      "(1797, 64)\n"
     ]
    }
   ],
   "source": [
    "# Load the MNIST dataset\n",
    "mnist = datasets.load_digits()\n",
    "print(mnist.data.shape)"
   ]
  },
  {
   "cell_type": "code",
   "execution_count": 3,
   "metadata": {
    "colab": {
     "base_uri": "https://localhost:8080/"
    },
    "id": "bV9w8OLIZdiZ",
    "outputId": "18cdc7fd-ab63-47f7-b1a6-73a1d1ff99a6",
    "ExecuteTime": {
     "end_time": "2023-10-20T12:18:35.953180400Z",
     "start_time": "2023-10-20T12:18:35.937894100Z"
    }
   },
   "outputs": [
    {
     "name": "stdout",
     "output_type": "stream",
     "text": [
      "(1617, 64) <class 'numpy.ndarray'>\n",
      "(180, 64) <class 'numpy.ndarray'>\n"
     ]
    }
   ],
   "source": [
    "# Split the dataset into 3 parts: learning, validation, testing\n",
    "Xlv, Xt, ylv, yt = train_test_split(mnist.data, mnist.target, test_size=.1, random_state=42)\n",
    "\n",
    "print(Xlv.shape, type(Xlv))\n",
    "print(Xt.shape, type(Xt))"
   ]
  },
  {
   "cell_type": "code",
   "execution_count": 4,
   "metadata": {
    "colab": {
     "base_uri": "https://localhost:8080/"
    },
    "id": "7AwhpFFTadgJ",
    "outputId": "51aa59a2-3131-45e6-b731-c6928025fbbb",
    "ExecuteTime": {
     "end_time": "2023-10-20T12:19:00.223251500Z",
     "start_time": "2023-10-20T12:18:35.968845400Z"
    }
   },
   "outputs": [
    {
     "name": "stderr",
     "output_type": "stream",
     "text": [
      "C:\\Users\\drago\\anaconda3\\envs\\test\\lib\\site-packages\\joblib\\externals\\loky\\backend\\context.py:136: UserWarning: Could not find the number of physical cores for the following reason:\n",
      "found 0 physical cores < 1\n",
      "Returning the number of logical cores instead. You can silence this warning by setting LOKY_MAX_CPU_COUNT to the number of cores you want to use.\n",
      "  warnings.warn(\n",
      "  File \"C:\\Users\\drago\\anaconda3\\envs\\test\\lib\\site-packages\\joblib\\externals\\loky\\backend\\context.py\", line 282, in _count_physical_cores\n",
      "    raise ValueError(f\"found {cpu_count_physical} physical cores < 1\")\n"
     ]
    },
    {
     "name": "stdout",
     "output_type": "stream",
     "text": [
      "(180,)\n",
      "(360,)\n",
      "(540,)\n",
      "(720,)\n",
      "(900,)\n",
      "(1080,)\n",
      "(1260,)\n",
      "(1440,)\n",
      "(1620,)\n",
      "(1800,)\n",
      "(1980,)\n",
      "(2160,)\n",
      "(2340,)\n",
      "(2520,)\n",
      "(2700,)\n",
      "3\n",
      "Accuracy: 0.9833333333333333\n"
     ]
    }
   ],
   "source": [
    "from sklearn.model_selection import GridSearchCV\n",
    "from sklearn.neighbors import KNeighborsClassifier\n",
    "\n",
    "\"\"\"\n",
    "We want to find which is the best value for k between 0 and 30 and step=2\n",
    "\"\"\"\n",
    "ytt = np.asarray([]) # All the true values\n",
    "ypp = np.asarray([]) # All the predictions\n",
    "\n",
    "for k in range(1,30,2):\n",
    "  # grid of values that we are searching\n",
    "  grid = {'n_neighbors': range(1,30,2)}\n",
    "\n",
    "  # what we want to minimize\n",
    "  MS = GridSearchCV(estimator = KNeighborsClassifier(),\n",
    "                    param_grid = grid,\n",
    "                    scoring = 'neg_mean_absolute_error',\n",
    "                    cv = 10)\n",
    "\n",
    "  # I apply the model selection on my data\n",
    "  H = MS.fit(Xlv,ylv)\n",
    "\n",
    "  # I put the best hyperparameters that I found\n",
    "  Model = KNeighborsClassifier(n_neighbors=H.best_params_['n_neighbors'])\n",
    "\n",
    "  # I retrain my model\n",
    "  Model.fit(Xlv,ylv)\n",
    "  \n",
    "  # Final prediction\n",
    "  predictions = Model.predict(Xt)\n",
    "\n",
    "  ytt = np.concatenate((ytt,yt),axis=0)\n",
    "  ypp = np.concatenate((ypp,predictions),axis=0)\n",
    "  print(ytt.shape)\n",
    "\n",
    "# print the best hyperparameter \n",
    "print(H.best_params_['n_neighbors'])\n",
    "print(\"Accuracy: \"+str(accuracy_score(ytt, ypp)))"
   ]
  },
  {
   "cell_type": "code",
   "execution_count": 5,
   "metadata": {
    "colab": {
     "base_uri": "https://localhost:8080/"
    },
    "id": "j5hCfsCsbhhG",
    "outputId": "1330ff2a-d6ee-47f6-be4b-6601b98b8203",
    "ExecuteTime": {
     "end_time": "2023-10-20T12:19:00.301806700Z",
     "start_time": "2023-10-20T12:19:00.212239900Z"
    }
   },
   "outputs": [
    {
     "data": {
      "text/plain": "0.07222222222222222"
     },
     "execution_count": 5,
     "metadata": {},
     "output_type": "execute_result"
    }
   ],
   "source": [
    "# Absulute error\n",
    "np.mean(np.abs(ytt-ypp))"
   ]
  },
  {
   "cell_type": "code",
   "execution_count": 6,
   "metadata": {
    "ExecuteTime": {
     "end_time": "2023-10-20T12:19:00.323369100Z",
     "start_time": "2023-10-20T12:19:00.238893500Z"
    }
   },
   "outputs": [
    {
     "name": "stdout",
     "output_type": "stream",
     "text": [
      "EVALUATION ON TESTING DATA\n",
      "              precision    recall  f1-score   support\n",
      "\n",
      "         0.0       1.00      1.00      1.00       255\n",
      "         1.0       1.00      1.00      1.00       165\n",
      "         2.0       1.00      1.00      1.00       255\n",
      "         3.0       0.94      1.00      0.97       255\n",
      "         4.0       0.96      1.00      0.98       375\n",
      "         5.0       1.00      1.00      1.00       330\n",
      "         6.0       1.00      1.00      1.00       285\n",
      "         7.0       1.00      0.95      0.97       285\n",
      "         8.0       1.00      1.00      1.00       120\n",
      "         9.0       0.96      0.92      0.94       375\n",
      "\n",
      "    accuracy                           0.98      2700\n",
      "   macro avg       0.99      0.99      0.99      2700\n",
      "weighted avg       0.98      0.98      0.98      2700\n"
     ]
    }
   ],
   "source": [
    "# show a final classification report demonstrating the accuracy of the classifier\n",
    "# for each of the digits\n",
    "print(\"EVALUATION ON TESTING DATA\")\n",
    "print(classification_report(ytt, ypp))"
   ]
  },
  {
   "cell_type": "code",
   "execution_count": 7,
   "metadata": {
    "colab": {
     "base_uri": "https://localhost:8080/",
     "height": 185
    },
    "id": "zwVT_aVwfwOt",
    "outputId": "32362887-54b8-48f8-879b-722a49bff0c0",
    "ExecuteTime": {
     "end_time": "2023-10-20T12:19:01.257718500Z",
     "start_time": "2023-10-20T12:19:00.286181100Z"
    }
   },
   "outputs": [
    {
     "data": {
      "text/plain": "<Figure size 1200x300 with 6 Axes>",
      "image/png": "[encoded data removed]"
     },
     "metadata": {},
     "output_type": "display_data"
    }
   ],
   "source": [
    "import matplotlib.pyplot as plt\n",
    "\n",
    "n_display = 6\n",
    "\n",
    "plt.figure(figsize=(n_display*2, 3))\n",
    "for idx in range(n_display):\n",
    "    plt.subplot(2, n_display, idx + 1)\n",
    "    plt.xticks([])\n",
    "    plt.yticks([])\n",
    "    img = Xt[idx].reshape((8, 8))  # Reshape the image to 8x8\n",
    "    plt.imshow(img, cmap='gray')\n",
    "    title = f\"True: {ytt[idx]}\\nPred: {ypp[idx]}\"\n",
    "    color = \"green\" if ytt[idx] == ypp[idx] else \"red\"\n",
    "    plt.title(title, color=color)\n",
    "\n",
    "plt.show()"
   ]
  }
 ],
 "metadata": {
  "colab": {
   "authorship_tag": "ABX9TyPlPO+C7bToN67Jn5H0RVWL",
   "include_colab_link": true,
   "provenance": []
  },
  "kernelspec": {
   "name": "python3",
   "language": "python",
   "display_name": "Python 3 (ipykernel)"
  },
  "language_info": {
   "codemirror_mode": {
    "name": "ipython",
    "version": 3
   },
   "file_extension": ".py",
   "mimetype": "text/x-python",
   "name": "python",
   "nbconvert_exporter": "python",
   "pygments_lexer": "ipython3",
   "version": "3.8.18"
  }
 },
 "nbformat": 4,
 "nbformat_minor": 0
}
