{
 "cells": [
  {
   "cell_type": "code",
   "execution_count": 1,
   "id": "255ab670",
   "metadata": {
    "_cell_guid": "b1076dfc-b9ad-4769-8c92-a6c4dae69d19",
    "_uuid": "8f2839f25d086af736a60e9eeb907d3b93b6e0e5",
    "execution": {
     "iopub.execute_input": "2024-10-13T21:09:04.381747Z",
     "iopub.status.busy": "2024-10-13T21:09:04.381277Z",
     "iopub.status.idle": "2024-10-13T21:09:05.288445Z",
     "shell.execute_reply": "2024-10-13T21:09:05.287317Z"
    },
    "papermill": {
     "duration": 0.917902,
     "end_time": "2024-10-13T21:09:05.291124",
     "exception": false,
     "start_time": "2024-10-13T21:09:04.373222",
     "status": "completed"
    },
    "tags": []
   },
   "outputs": [],
   "source": [
    "import pandas as pd"
   ]
  },
  {
   "cell_type": "code",
   "execution_count": 2,
   "id": "4ea73f70",
   "metadata": {
    "execution": {
     "iopub.execute_input": "2024-10-13T21:09:05.305398Z",
     "iopub.status.busy": "2024-10-13T21:09:05.304225Z",
     "iopub.status.idle": "2024-10-13T21:09:05.370207Z",
     "shell.execute_reply": "2024-10-13T21:09:05.368925Z"
    },
    "papermill": {
     "duration": 0.076716,
     "end_time": "2024-10-13T21:09:05.373919",
     "exception": false,
     "start_time": "2024-10-13T21:09:05.297203",
     "status": "completed"
    },
    "tags": []
   },
   "outputs": [
    {
     "name": "stdout",
     "output_type": "stream",
     "text": [
      "Index(['PassengerId', 'Survived', 'Pclass', 'Name', 'Sex', 'Age', 'SibSp',\n",
      "       'Parch', 'Ticket', 'Fare', 'Cabin', 'Embarked'],\n",
      "      dtype='object')\n"
     ]
    },
    {
     "data": {
      "text/html": [
       "<div>\n",
       "<style scoped>\n",
       "    .dataframe tbody tr th:only-of-type {\n",
       "        vertical-align: middle;\n",
       "    }\n",
       "\n",
       "    .dataframe tbody tr th {\n",
       "        vertical-align: top;\n",
       "    }\n",
       "\n",
       "    .dataframe thead th {\n",
       "        text-align: right;\n",
       "    }\n",
       "</style>\n",
       "<table border=\"1\" class=\"dataframe\">\n",
       "  <thead>\n",
       "    <tr style=\"text-align: right;\">\n",
       "      <th></th>\n",
       "      <th>PassengerId</th>\n",
       "      <th>Survived</th>\n",
       "      <th>Pclass</th>\n",
       "      <th>Name</th>\n",
       "      <th>Sex</th>\n",
       "      <th>Age</th>\n",
       "      <th>SibSp</th>\n",
       "      <th>Parch</th>\n",
       "      <th>Ticket</th>\n",
       "      <th>Fare</th>\n",
       "      <th>Cabin</th>\n",
       "      <th>Embarked</th>\n",
       "    </tr>\n",
       "  </thead>\n",
       "  <tbody>\n",
       "    <tr>\n",
       "      <th>0</th>\n",
       "      <td>1</td>\n",
       "      <td>0</td>\n",
       "      <td>3</td>\n",
       "      <td>Braund, Mr. Owen Harris</td>\n",
       "      <td>male</td>\n",
       "      <td>22.0</td>\n",
       "      <td>1</td>\n",
       "      <td>0</td>\n",
       "      <td>A/5 21171</td>\n",
       "      <td>7.2500</td>\n",
       "      <td>NaN</td>\n",
       "      <td>S</td>\n",
       "    </tr>\n",
       "    <tr>\n",
       "      <th>1</th>\n",
       "      <td>2</td>\n",
       "      <td>1</td>\n",
       "      <td>1</td>\n",
       "      <td>Cumings, Mrs. John Bradley (Florence Briggs Th...</td>\n",
       "      <td>female</td>\n",
       "      <td>38.0</td>\n",
       "      <td>1</td>\n",
       "      <td>0</td>\n",
       "      <td>PC 17599</td>\n",
       "      <td>71.2833</td>\n",
       "      <td>C85</td>\n",
       "      <td>C</td>\n",
       "    </tr>\n",
       "    <tr>\n",
       "      <th>2</th>\n",
       "      <td>3</td>\n",
       "      <td>1</td>\n",
       "      <td>3</td>\n",
       "      <td>Heikkinen, Miss. Laina</td>\n",
       "      <td>female</td>\n",
       "      <td>26.0</td>\n",
       "      <td>0</td>\n",
       "      <td>0</td>\n",
       "      <td>STON/O2. 3101282</td>\n",
       "      <td>7.9250</td>\n",
       "      <td>NaN</td>\n",
       "      <td>S</td>\n",
       "    </tr>\n",
       "    <tr>\n",
       "      <th>3</th>\n",
       "      <td>4</td>\n",
       "      <td>1</td>\n",
       "      <td>1</td>\n",
       "      <td>Futrelle, Mrs. Jacques Heath (Lily May Peel)</td>\n",
       "      <td>female</td>\n",
       "      <td>35.0</td>\n",
       "      <td>1</td>\n",
       "      <td>0</td>\n",
       "      <td>113803</td>\n",
       "      <td>53.1000</td>\n",
       "      <td>C123</td>\n",
       "      <td>S</td>\n",
       "    </tr>\n",
       "    <tr>\n",
       "      <th>4</th>\n",
       "      <td>5</td>\n",
       "      <td>0</td>\n",
       "      <td>3</td>\n",
       "      <td>Allen, Mr. William Henry</td>\n",
       "      <td>male</td>\n",
       "      <td>35.0</td>\n",
       "      <td>0</td>\n",
       "      <td>0</td>\n",
       "      <td>373450</td>\n",
       "      <td>8.0500</td>\n",
       "      <td>NaN</td>\n",
       "      <td>S</td>\n",
       "    </tr>\n",
       "    <tr>\n",
       "      <th>...</th>\n",
       "      <td>...</td>\n",
       "      <td>...</td>\n",
       "      <td>...</td>\n",
       "      <td>...</td>\n",
       "      <td>...</td>\n",
       "      <td>...</td>\n",
       "      <td>...</td>\n",
       "      <td>...</td>\n",
       "      <td>...</td>\n",
       "      <td>...</td>\n",
       "      <td>...</td>\n",
       "      <td>...</td>\n",
       "    </tr>\n",
       "    <tr>\n",
       "      <th>886</th>\n",
       "      <td>887</td>\n",
       "      <td>0</td>\n",
       "      <td>2</td>\n",
       "      <td>Montvila, Rev. Juozas</td>\n",
       "      <td>male</td>\n",
       "      <td>27.0</td>\n",
       "      <td>0</td>\n",
       "      <td>0</td>\n",
       "      <td>211536</td>\n",
       "      <td>13.0000</td>\n",
       "      <td>NaN</td>\n",
       "      <td>S</td>\n",
       "    </tr>\n",
       "    <tr>\n",
       "      <th>887</th>\n",
       "      <td>888</td>\n",
       "      <td>1</td>\n",
       "      <td>1</td>\n",
       "      <td>Graham, Miss. Margaret Edith</td>\n",
       "      <td>female</td>\n",
       "      <td>19.0</td>\n",
       "      <td>0</td>\n",
       "      <td>0</td>\n",
       "      <td>112053</td>\n",
       "      <td>30.0000</td>\n",
       "      <td>B42</td>\n",
       "      <td>S</td>\n",
       "    </tr>\n",
       "    <tr>\n",
       "      <th>888</th>\n",
       "      <td>889</td>\n",
       "      <td>0</td>\n",
       "      <td>3</td>\n",
       "      <td>Johnston, Miss. Catherine Helen \"Carrie\"</td>\n",
       "      <td>female</td>\n",
       "      <td>NaN</td>\n",
       "      <td>1</td>\n",
       "      <td>2</td>\n",
       "      <td>W./C. 6607</td>\n",
       "      <td>23.4500</td>\n",
       "      <td>NaN</td>\n",
       "      <td>S</td>\n",
       "    </tr>\n",
       "    <tr>\n",
       "      <th>889</th>\n",
       "      <td>890</td>\n",
       "      <td>1</td>\n",
       "      <td>1</td>\n",
       "      <td>Behr, Mr. Karl Howell</td>\n",
       "      <td>male</td>\n",
       "      <td>26.0</td>\n",
       "      <td>0</td>\n",
       "      <td>0</td>\n",
       "      <td>111369</td>\n",
       "      <td>30.0000</td>\n",
       "      <td>C148</td>\n",
       "      <td>C</td>\n",
       "    </tr>\n",
       "    <tr>\n",
       "      <th>890</th>\n",
       "      <td>891</td>\n",
       "      <td>0</td>\n",
       "      <td>3</td>\n",
       "      <td>Dooley, Mr. Patrick</td>\n",
       "      <td>male</td>\n",
       "      <td>32.0</td>\n",
       "      <td>0</td>\n",
       "      <td>0</td>\n",
       "      <td>370376</td>\n",
       "      <td>7.7500</td>\n",
       "      <td>NaN</td>\n",
       "      <td>Q</td>\n",
       "    </tr>\n",
       "  </tbody>\n",
       "</table>\n",
       "<p>891 rows × 12 columns</p>\n",
       "</div>"
      ],
      "text/plain": [
       "     PassengerId  Survived  Pclass  \\\n",
       "0              1         0       3   \n",
       "1              2         1       1   \n",
       "2              3         1       3   \n",
       "3              4         1       1   \n",
       "4              5         0       3   \n",
       "..           ...       ...     ...   \n",
       "886          887         0       2   \n",
       "887          888         1       1   \n",
       "888          889         0       3   \n",
       "889          890         1       1   \n",
       "890          891         0       3   \n",
       "\n",
       "                                                  Name     Sex   Age  SibSp  \\\n",
       "0                              Braund, Mr. Owen Harris    male  22.0      1   \n",
       "1    Cumings, Mrs. John Bradley (Florence Briggs Th...  female  38.0      1   \n",
       "2                               Heikkinen, Miss. Laina  female  26.0      0   \n",
       "3         Futrelle, Mrs. Jacques Heath (Lily May Peel)  female  35.0      1   \n",
       "4                             Allen, Mr. William Henry    male  35.0      0   \n",
       "..                                                 ...     ...   ...    ...   \n",
       "886                              Montvila, Rev. Juozas    male  27.0      0   \n",
       "887                       Graham, Miss. Margaret Edith  female  19.0      0   \n",
       "888           Johnston, Miss. Catherine Helen \"Carrie\"  female   NaN      1   \n",
       "889                              Behr, Mr. Karl Howell    male  26.0      0   \n",
       "890                                Dooley, Mr. Patrick    male  32.0      0   \n",
       "\n",
       "     Parch            Ticket     Fare Cabin Embarked  \n",
       "0        0         A/5 21171   7.2500   NaN        S  \n",
       "1        0          PC 17599  71.2833   C85        C  \n",
       "2        0  STON/O2. 3101282   7.9250   NaN        S  \n",
       "3        0            113803  53.1000  C123        S  \n",
       "4        0            373450   8.0500   NaN        S  \n",
       "..     ...               ...      ...   ...      ...  \n",
       "886      0            211536  13.0000   NaN        S  \n",
       "887      0            112053  30.0000   B42        S  \n",
       "888      2        W./C. 6607  23.4500   NaN        S  \n",
       "889      0            111369  30.0000  C148        C  \n",
       "890      0            370376   7.7500   NaN        Q  \n",
       "\n",
       "[891 rows x 12 columns]"
      ]
     },
     "execution_count": 2,
     "metadata": {},
     "output_type": "execute_result"
    }
   ],
   "source": [
    "train_data = pd.read_csv('/kaggle/input/titanic/train.csv')\n",
    "test_data = pd.read_csv('/kaggle/input/titanic/test.csv')\n",
    "print(train_data.columns)\n",
    "train_data"
   ]
  },
  {
   "cell_type": "code",
   "execution_count": 3,
   "id": "6d6441c0",
   "metadata": {
    "execution": {
     "iopub.execute_input": "2024-10-13T21:09:05.388711Z",
     "iopub.status.busy": "2024-10-13T21:09:05.388259Z",
     "iopub.status.idle": "2024-10-13T21:09:05.403146Z",
     "shell.execute_reply": "2024-10-13T21:09:05.401683Z"
    },
    "papermill": {
     "duration": 0.025132,
     "end_time": "2024-10-13T21:09:05.405567",
     "exception": false,
     "start_time": "2024-10-13T21:09:05.380435",
     "status": "completed"
    },
    "tags": []
   },
   "outputs": [
    {
     "name": "stdout",
     "output_type": "stream",
     "text": [
      "0.3838383838383838\n",
      "women_survived: 233\n",
      "women: 314\n",
      "woman ratio: 0.7420382165605095\n",
      "man ratio: 0.18890814558058924\n",
      "child ratio: 0.5797101449275363\n"
     ]
    }
   ],
   "source": [
    "survived_ratio = train_data['Survived'].sum() / len(train_data['Survived'])\n",
    "print(survived_ratio)\n",
    "\n",
    "women_survived = train_data.loc[train_data.Sex == 'female']['Survived'].sum()\n",
    "print('women_survived:',women_survived)\n",
    "\n",
    "women = len(train_data.loc[train_data.Sex == 'female'])\n",
    "print('women:',women)\n",
    "print('woman ratio:', women_survived/women)\n",
    "\n",
    "man = train_data.loc[train_data.Sex == 'male']['Survived']\n",
    "print('man ratio:', sum(man)/len(man))\n",
    "\n",
    "child = train_data.loc[train_data.Age <= 12]['Survived']\n",
    "print('child ratio:', sum(child)/len(child))"
   ]
  },
  {
   "cell_type": "code",
   "execution_count": 4,
   "id": "74a0ae42",
   "metadata": {
    "execution": {
     "iopub.execute_input": "2024-10-13T21:09:05.420462Z",
     "iopub.status.busy": "2024-10-13T21:09:05.420028Z",
     "iopub.status.idle": "2024-10-13T21:09:05.429621Z",
     "shell.execute_reply": "2024-10-13T21:09:05.428248Z"
    },
    "papermill": {
     "duration": 0.020273,
     "end_time": "2024-10-13T21:09:05.432403",
     "exception": false,
     "start_time": "2024-10-13T21:09:05.412130",
     "status": "completed"
    },
    "tags": []
   },
   "outputs": [
    {
     "data": {
      "text/plain": [
       "PassengerId      int64\n",
       "Survived         int64\n",
       "Pclass           int64\n",
       "Name            object\n",
       "Sex             object\n",
       "Age            float64\n",
       "SibSp            int64\n",
       "Parch            int64\n",
       "Ticket          object\n",
       "Fare           float64\n",
       "Cabin           object\n",
       "Embarked        object\n",
       "dtype: object"
      ]
     },
     "execution_count": 4,
     "metadata": {},
     "output_type": "execute_result"
    }
   ],
   "source": [
    "train_data.dtypes"
   ]
  },
  {
   "cell_type": "markdown",
   "id": "957cba7d",
   "metadata": {
    "papermill": {
     "duration": 0.006231,
     "end_time": "2024-10-13T21:09:05.445264",
     "exception": false,
     "start_time": "2024-10-13T21:09:05.439033",
     "status": "completed"
    },
    "tags": []
   },
   "source": [
    "# Explore Categorical Variables"
   ]
  },
  {
   "cell_type": "markdown",
   "id": "e4bb55ac",
   "metadata": {
    "papermill": {
     "duration": 0.006206,
     "end_time": "2024-10-13T21:09:05.457913",
     "exception": false,
     "start_time": "2024-10-13T21:09:05.451707",
     "status": "completed"
    },
    "tags": []
   },
   "source": [
    "## Drop them"
   ]
  },
  {
   "cell_type": "code",
   "execution_count": 5,
   "id": "a39ae9f8",
   "metadata": {
    "execution": {
     "iopub.execute_input": "2024-10-13T21:09:05.473742Z",
     "iopub.status.busy": "2024-10-13T21:09:05.473262Z",
     "iopub.status.idle": "2024-10-13T21:09:05.478440Z",
     "shell.execute_reply": "2024-10-13T21:09:05.477218Z"
    },
    "papermill": {
     "duration": 0.015494,
     "end_time": "2024-10-13T21:09:05.480889",
     "exception": false,
     "start_time": "2024-10-13T21:09:05.465395",
     "status": "completed"
    },
    "tags": []
   },
   "outputs": [],
   "source": [
    "# 1. Drop them\n",
    "# train_dataDropped = train_data.select_dtypes(exclude=['object'])\n",
    "# test_dataDropped = test_data.select_dtypes(exclude=['object'])\n",
    "# train_dataDropped.columns"
   ]
  },
  {
   "cell_type": "markdown",
   "id": "f54d07c1",
   "metadata": {
    "papermill": {
     "duration": 0.006381,
     "end_time": "2024-10-13T21:09:05.493774",
     "exception": false,
     "start_time": "2024-10-13T21:09:05.487393",
     "status": "completed"
    },
    "tags": []
   },
   "source": [
    "## Let's try to keep the most valuable ones using OneHotEncoding"
   ]
  },
  {
   "cell_type": "code",
   "execution_count": 6,
   "id": "d973666a",
   "metadata": {
    "execution": {
     "iopub.execute_input": "2024-10-13T21:09:05.508756Z",
     "iopub.status.busy": "2024-10-13T21:09:05.508281Z",
     "iopub.status.idle": "2024-10-13T21:09:05.521491Z",
     "shell.execute_reply": "2024-10-13T21:09:05.520428Z"
    },
    "papermill": {
     "duration": 0.023776,
     "end_time": "2024-10-13T21:09:05.524011",
     "exception": false,
     "start_time": "2024-10-13T21:09:05.500235",
     "status": "completed"
    },
    "tags": []
   },
   "outputs": [
    {
     "data": {
      "text/plain": [
       "PassengerId      int64\n",
       "Survived         int64\n",
       "Pclass           int64\n",
       "Sex             object\n",
       "Age            float64\n",
       "SibSp            int64\n",
       "Parch            int64\n",
       "Fare           float64\n",
       "Embarked        object\n",
       "dtype: object"
      ]
     },
     "execution_count": 6,
     "metadata": {},
     "output_type": "execute_result"
    }
   ],
   "source": [
    "train_dataDropped = train_data.drop(columns = ['Name', 'Ticket', 'Cabin'])\n",
    "test_dataDropped = test_data.drop(columns = ['Name', 'Ticket', 'Cabin'])\n",
    "train_dataDropped.dtypes"
   ]
  },
  {
   "cell_type": "code",
   "execution_count": 7,
   "id": "c9882367",
   "metadata": {
    "execution": {
     "iopub.execute_input": "2024-10-13T21:09:05.539904Z",
     "iopub.status.busy": "2024-10-13T21:09:05.538730Z",
     "iopub.status.idle": "2024-10-13T21:09:06.851164Z",
     "shell.execute_reply": "2024-10-13T21:09:06.849959Z"
    },
    "papermill": {
     "duration": 1.323105,
     "end_time": "2024-10-13T21:09:06.853904",
     "exception": false,
     "start_time": "2024-10-13T21:09:05.530799",
     "status": "completed"
    },
    "tags": []
   },
   "outputs": [
    {
     "name": "stderr",
     "output_type": "stream",
     "text": [
      "/opt/conda/lib/python3.10/site-packages/sklearn/preprocessing/_encoders.py:868: FutureWarning: `sparse` was renamed to `sparse_output` in version 1.2 and will be removed in 1.4. `sparse_output` is ignored unless you leave `sparse` to its default value.\n",
      "  warnings.warn(\n"
     ]
    }
   ],
   "source": [
    "from sklearn.preprocessing import OneHotEncoder\n",
    "\n",
    "oneHotEncoder = OneHotEncoder(handle_unknown = 'ignore', sparse=False)\n",
    "train_encoded = oneHotEncoder.fit_transform(train_dataDropped[['Sex', 'Embarked']])\n",
    "test_encoded = oneHotEncoder.transform(test_dataDropped[['Sex', 'Embarked']])\n",
    "\n",
    "encoded_columns = oneHotEncoder.get_feature_names_out(['Sex', 'Embarked'])\n",
    "\n",
    "encoded_train = pd.DataFrame(train_encoded, columns=encoded_columns) \n",
    "encoded_test = pd.DataFrame(test_encoded, columns=encoded_columns)\n",
    "\n",
    "train_dataDropped = pd.concat([train_dataDropped.drop(columns=['Sex', 'Embarked']), encoded_train], axis=1)\n",
    "test_dataDropped = pd.concat([test_dataDropped.drop(columns=['Sex', 'Embarked']), encoded_test], axis=1)"
   ]
  },
  {
   "cell_type": "markdown",
   "id": "4846868f",
   "metadata": {
    "papermill": {
     "duration": 0.006507,
     "end_time": "2024-10-13T21:09:06.867181",
     "exception": false,
     "start_time": "2024-10-13T21:09:06.860674",
     "status": "completed"
    },
    "tags": []
   },
   "source": [
    "# Explore Missing Data"
   ]
  },
  {
   "cell_type": "code",
   "execution_count": 8,
   "id": "97ce86c3",
   "metadata": {
    "execution": {
     "iopub.execute_input": "2024-10-13T21:09:06.882733Z",
     "iopub.status.busy": "2024-10-13T21:09:06.882112Z",
     "iopub.status.idle": "2024-10-13T21:09:06.890447Z",
     "shell.execute_reply": "2024-10-13T21:09:06.888967Z"
    },
    "papermill": {
     "duration": 0.019186,
     "end_time": "2024-10-13T21:09:06.893098",
     "exception": false,
     "start_time": "2024-10-13T21:09:06.873912",
     "status": "completed"
    },
    "tags": []
   },
   "outputs": [
    {
     "name": "stdout",
     "output_type": "stream",
     "text": [
      "PassengerId       0\n",
      "Survived          0\n",
      "Pclass            0\n",
      "Age             177\n",
      "SibSp             0\n",
      "Parch             0\n",
      "Fare              0\n",
      "Sex_female        0\n",
      "Sex_male          0\n",
      "Embarked_C        0\n",
      "Embarked_Q        0\n",
      "Embarked_S        0\n",
      "Embarked_nan      0\n",
      "dtype: int64\n"
     ]
    }
   ],
   "source": [
    "missing_values = train_dataDropped.isnull().sum()\n",
    "print(missing_values)"
   ]
  },
  {
   "cell_type": "code",
   "execution_count": 9,
   "id": "c187aeff",
   "metadata": {
    "execution": {
     "iopub.execute_input": "2024-10-13T21:09:06.909163Z",
     "iopub.status.busy": "2024-10-13T21:09:06.908740Z",
     "iopub.status.idle": "2024-10-13T21:09:06.921234Z",
     "shell.execute_reply": "2024-10-13T21:09:06.919891Z"
    },
    "papermill": {
     "duration": 0.024006,
     "end_time": "2024-10-13T21:09:06.924119",
     "exception": false,
     "start_time": "2024-10-13T21:09:06.900113",
     "status": "completed"
    },
    "tags": []
   },
   "outputs": [
    {
     "name": "stdout",
     "output_type": "stream",
     "text": [
      "29.69911764705882\n"
     ]
    }
   ],
   "source": [
    "print(train_dataDropped.Age.mean())\n",
    "train_dataDropped = train_dataDropped.fillna(train_dataDropped.mean())"
   ]
  },
  {
   "cell_type": "code",
   "execution_count": 10,
   "id": "8a149808",
   "metadata": {
    "execution": {
     "iopub.execute_input": "2024-10-13T21:09:06.940279Z",
     "iopub.status.busy": "2024-10-13T21:09:06.939836Z",
     "iopub.status.idle": "2024-10-13T21:09:06.950691Z",
     "shell.execute_reply": "2024-10-13T21:09:06.949344Z"
    },
    "papermill": {
     "duration": 0.021762,
     "end_time": "2024-10-13T21:09:06.953335",
     "exception": false,
     "start_time": "2024-10-13T21:09:06.931573",
     "status": "completed"
    },
    "tags": []
   },
   "outputs": [
    {
     "data": {
      "text/plain": [
       "PassengerId     0\n",
       "Survived        0\n",
       "Pclass          0\n",
       "Age             0\n",
       "SibSp           0\n",
       "Parch           0\n",
       "Fare            0\n",
       "Sex_female      0\n",
       "Sex_male        0\n",
       "Embarked_C      0\n",
       "Embarked_Q      0\n",
       "Embarked_S      0\n",
       "Embarked_nan    0\n",
       "dtype: int64"
      ]
     },
     "execution_count": 10,
     "metadata": {},
     "output_type": "execute_result"
    }
   ],
   "source": [
    "train_dataDropped.isnull().sum()"
   ]
  },
  {
   "cell_type": "code",
   "execution_count": 11,
   "id": "cfa49a19",
   "metadata": {
    "execution": {
     "iopub.execute_input": "2024-10-13T21:09:06.969197Z",
     "iopub.status.busy": "2024-10-13T21:09:06.968763Z",
     "iopub.status.idle": "2024-10-13T21:09:06.980946Z",
     "shell.execute_reply": "2024-10-13T21:09:06.979713Z"
    },
    "papermill": {
     "duration": 0.02327,
     "end_time": "2024-10-13T21:09:06.983719",
     "exception": false,
     "start_time": "2024-10-13T21:09:06.960449",
     "status": "completed"
    },
    "tags": []
   },
   "outputs": [],
   "source": [
    "test_dataDropped = test_dataDropped.fillna(test_dataDropped.mean())"
   ]
  },
  {
   "cell_type": "code",
   "execution_count": 12,
   "id": "6e4d686d",
   "metadata": {
    "execution": {
     "iopub.execute_input": "2024-10-13T21:09:07.000107Z",
     "iopub.status.busy": "2024-10-13T21:09:06.999343Z",
     "iopub.status.idle": "2024-10-13T21:09:07.006627Z",
     "shell.execute_reply": "2024-10-13T21:09:07.005424Z"
    },
    "papermill": {
     "duration": 0.01821,
     "end_time": "2024-10-13T21:09:07.009102",
     "exception": false,
     "start_time": "2024-10-13T21:09:06.990892",
     "status": "completed"
    },
    "tags": []
   },
   "outputs": [],
   "source": [
    "# what we want to predict\n",
    "y_train = train_dataDropped.Survived\n",
    "\n",
    "# features\n",
    "X_train = train_dataDropped.loc[:, train_dataDropped.columns != 'Survived']\n",
    "\n",
    "X_val = test_dataDropped"
   ]
  },
  {
   "cell_type": "markdown",
   "id": "a1d66788",
   "metadata": {
    "papermill": {
     "duration": 0.006797,
     "end_time": "2024-10-13T21:09:07.022969",
     "exception": false,
     "start_time": "2024-10-13T21:09:07.016172",
     "status": "completed"
    },
    "tags": []
   },
   "source": [
    "# Define Our Model"
   ]
  },
  {
   "cell_type": "code",
   "execution_count": 13,
   "id": "c97b8552",
   "metadata": {
    "execution": {
     "iopub.execute_input": "2024-10-13T21:09:07.039028Z",
     "iopub.status.busy": "2024-10-13T21:09:07.038569Z",
     "iopub.status.idle": "2024-10-13T21:09:07.476206Z",
     "shell.execute_reply": "2024-10-13T21:09:07.475125Z"
    },
    "papermill": {
     "duration": 0.449002,
     "end_time": "2024-10-13T21:09:07.479028",
     "exception": false,
     "start_time": "2024-10-13T21:09:07.030026",
     "status": "completed"
    },
    "tags": []
   },
   "outputs": [],
   "source": [
    "from sklearn.ensemble import RandomForestClassifier\n",
    "from sklearn.metrics import mean_absolute_error"
   ]
  },
  {
   "cell_type": "code",
   "execution_count": 14,
   "id": "3798cf74",
   "metadata": {
    "execution": {
     "iopub.execute_input": "2024-10-13T21:09:07.495580Z",
     "iopub.status.busy": "2024-10-13T21:09:07.494560Z",
     "iopub.status.idle": "2024-10-13T21:09:07.501171Z",
     "shell.execute_reply": "2024-10-13T21:09:07.500053Z"
    },
    "papermill": {
     "duration": 0.017398,
     "end_time": "2024-10-13T21:09:07.503528",
     "exception": false,
     "start_time": "2024-10-13T21:09:07.486130",
     "status": "completed"
    },
    "tags": []
   },
   "outputs": [],
   "source": [
    "def score_dataset(X_train, y_train, X_val):\n",
    "    model = RandomForestClassifier(random_state=0)\n",
    "    model.fit(X_train,y_train)\n",
    "    predictions = model.predict(X_val)\n",
    "    output = pd.DataFrame(\n",
    "    {'PassengerId': test_dataDropped.PassengerId,\n",
    "    'Survived': predictions\n",
    "    })\n",
    "    output.to_csv('submission.csv', index=False)"
   ]
  },
  {
   "cell_type": "code",
   "execution_count": 15,
   "id": "a632ae40",
   "metadata": {
    "execution": {
     "iopub.execute_input": "2024-10-13T21:09:07.519791Z",
     "iopub.status.busy": "2024-10-13T21:09:07.518954Z",
     "iopub.status.idle": "2024-10-13T21:09:07.820788Z",
     "shell.execute_reply": "2024-10-13T21:09:07.819600Z"
    },
    "papermill": {
     "duration": 0.312773,
     "end_time": "2024-10-13T21:09:07.823451",
     "exception": false,
     "start_time": "2024-10-13T21:09:07.510678",
     "status": "completed"
    },
    "tags": []
   },
   "outputs": [],
   "source": [
    "score_dataset(X_train, y_train, X_val)"
   ]
  }
 ],
 "metadata": {
  "kaggle": {
   "accelerator": "none",
   "dataSources": [
    {
     "databundleVersionId": 26502,
     "sourceId": 3136,
     "sourceType": "competition"
    }
   ],
   "dockerImageVersionId": 30786,
   "isGpuEnabled": false,
   "isInternetEnabled": true,
   "language": "python",
   "sourceType": "notebook"
  },
  "kernelspec": {
   "display_name": "Python 3",
   "language": "python",
   "name": "python3"
  },
  "language_info": {
   "codemirror_mode": {
    "name": "ipython",
    "version": 3
   },
   "file_extension": ".py",
   "mimetype": "text/x-python",
   "name": "python",
   "nbconvert_exporter": "python",
   "pygments_lexer": "ipython3",
   "version": "3.10.14"
  },
  "papermill": {
   "default_parameters": {},
   "duration": 6.920096,
   "end_time": "2024-10-13T21:09:08.351719",
   "environment_variables": {},
   "exception": null,
   "input_path": "__notebook__.ipynb",
   "output_path": "__notebook__.ipynb",
   "parameters": {},
   "start_time": "2024-10-13T21:09:01.431623",
   "version": "2.6.0"
  }
 },
 "nbformat": 4,
 "nbformat_minor": 5
}
